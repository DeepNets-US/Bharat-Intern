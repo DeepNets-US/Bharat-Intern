{
 "cells": [
  {
   "cell_type": "markdown",
   "id": "8dba5159",
   "metadata": {
    "papermill": {
     "duration": 0.021786,
     "end_time": "2023-12-05T00:00:57.366488",
     "exception": false,
     "start_time": "2023-12-05T00:00:57.344702",
     "status": "completed"
    },
    "tags": []
   },
   "source": [
    "# **Environmental SetUp**"
   ]
  },
  {
   "cell_type": "markdown",
   "id": "24f1da43",
   "metadata": {
    "papermill": {
     "duration": 0.021412,
     "end_time": "2023-12-05T00:00:57.408371",
     "exception": false,
     "start_time": "2023-12-05T00:00:57.386959",
     "status": "completed"
    },
    "tags": []
   },
   "source": [
    "Welcome to the foundation of our **house price predicting model**! In this section, we'll prepare our **workspace** by **importing essential libraries**, **models**, and **matrices** while establishing **crucial constants** for a **smooth and reliable workflow**.\n",
    "\n",
    "* **Library Inclusion:** We'll import pivotal Python libraries like pandas, numpy, and matplotlib to handle data, perform calculations, and visualize our insights.\n",
    "\n",
    "* **Models and Matrices:** Incorporating the necessary tools from scikit-learn, including models such as Linear Regression or Random Forest, and matrices like Mean Squared Error for evaluating model performance.\n",
    "\n",
    "* **Ensuring Reproducibility:** We'll set a random seed, vital for reproducibility, guaranteeing consistent results across multiple runs.\n",
    "\n",
    "Let's lay down this robust foundation, combining professionalism with the thrill of building something innovative!"
   ]
  },
  {
   "cell_type": "code",
   "execution_count": 1,
   "id": "58e6d8db",
   "metadata": {
    "execution": {
     "iopub.execute_input": "2023-12-05T00:00:57.452272Z",
     "iopub.status.busy": "2023-12-05T00:00:57.451570Z",
     "iopub.status.idle": "2023-12-05T00:01:12.629474Z",
     "shell.execute_reply": "2023-12-05T00:01:12.628644Z"
    },
    "papermill": {
     "duration": 15.202924,
     "end_time": "2023-12-05T00:01:12.632073",
     "exception": false,
     "start_time": "2023-12-05T00:00:57.429149",
     "status": "completed"
    },
    "tags": []
   },
   "outputs": [],
   "source": [
    "# Common Imports\n",
    "import keras\n",
    "import numpy as np\n",
    "\n",
    "# Data Imports\n",
    "import pandas as pd\n",
    "\n",
    "# Data Visualization\n",
    "import plotly.express as px\n",
    "import matplotlib.pyplot as plt\n",
    "\n",
    "# Data Processing\n",
    "from sklearn.impute import SimpleImputer\n",
    "from sklearn.preprocessing import OrdinalEncoder\n",
    "from sklearn.preprocessing import StandardScaler\n",
    "from sklearn.model_selection import train_test_split\n",
    "\n",
    "# Model\n",
    "from keras import layers\n",
    "from sklearn.svm import SVR\n",
    "from xgboost import XGBRegressor\n",
    "from sklearn.tree import DecisionTreeRegressor\n",
    "from sklearn.linear_model import LinearRegression\n",
    "from sklearn.ensemble import RandomForestRegressor\n",
    "\n",
    "# Model Evaluations\n",
    "from sklearn.metrics import mean_squared_error, r2_score, mean_absolute_error"
   ]
  },
  {
   "cell_type": "markdown",
   "id": "a81890e4",
   "metadata": {
    "papermill": {
     "duration": 0.020183,
     "end_time": "2023-12-05T00:01:12.673185",
     "exception": false,
     "start_time": "2023-12-05T00:01:12.653002",
     "status": "completed"
    },
    "tags": []
   },
   "source": [
    "In order to guarantee that the results are reproducible, we will declare a random seed."
   ]
  },
  {
   "cell_type": "code",
   "execution_count": 2,
   "id": "3653e893",
   "metadata": {
    "execution": {
     "iopub.execute_input": "2023-12-05T00:01:12.717660Z",
     "iopub.status.busy": "2023-12-05T00:01:12.716501Z",
     "iopub.status.idle": "2023-12-05T00:01:12.721761Z",
     "shell.execute_reply": "2023-12-05T00:01:12.721037Z"
    },
    "papermill": {
     "duration": 0.029789,
     "end_time": "2023-12-05T00:01:12.723890",
     "exception": false,
     "start_time": "2023-12-05T00:01:12.694101",
     "status": "completed"
    },
    "tags": []
   },
   "outputs": [],
   "source": [
    "# Setting random seed to the Magic Number\n",
    "random_seed = 42\n",
    "np.random.seed(random_seed)"
   ]
  },
  {
   "cell_type": "markdown",
   "id": "ac104875",
   "metadata": {
    "papermill": {
     "duration": 0.020288,
     "end_time": "2023-12-05T00:01:12.764959",
     "exception": false,
     "start_time": "2023-12-05T00:01:12.744671",
     "status": "completed"
    },
    "tags": []
   },
   "source": [
    "# **Data Loading**"
   ]
  },
  {
   "cell_type": "markdown",
   "id": "51ed9cd4",
   "metadata": {
    "papermill": {
     "duration": 0.020223,
     "end_time": "2023-12-05T00:01:12.805853",
     "exception": false,
     "start_time": "2023-12-05T00:01:12.785630",
     "status": "completed"
    },
    "tags": []
   },
   "source": [
    "Welcome to the pivotal phase of data initialization! Here, we inaugurate our exploration by meticulously loading the dataset, setting the stage for an insightful journey. Engaging in a rigorous statistical analysis, we delve into the dataset's essence, unraveling its intricacies through measures like mean, median, and quartiles, shedding light on its inherent characteristics. Our discerning eye scrutinizes for null values, a crucial step ensuring the purity of our data before the modeling spectacle commences. This scrutiny aids in identifying any necessary data preprocessing, affording our dataset the finesse it requires for predictive excellence."
   ]
  },
  {
   "cell_type": "code",
   "execution_count": 3,
   "id": "17033c48",
   "metadata": {
    "execution": {
     "iopub.execute_input": "2023-12-05T00:01:12.849044Z",
     "iopub.status.busy": "2023-12-05T00:01:12.848591Z",
     "iopub.status.idle": "2023-12-05T00:01:12.945369Z",
     "shell.execute_reply": "2023-12-05T00:01:12.944149Z"
    },
    "papermill": {
     "duration": 0.121584,
     "end_time": "2023-12-05T00:01:12.948005",
     "exception": false,
     "start_time": "2023-12-05T00:01:12.826421",
     "status": "completed"
    },
    "tags": []
   },
   "outputs": [
    {
     "data": {
      "text/html": [
       "<div>\n",
       "<style scoped>\n",
       "    .dataframe tbody tr th:only-of-type {\n",
       "        vertical-align: middle;\n",
       "    }\n",
       "\n",
       "    .dataframe tbody tr th {\n",
       "        vertical-align: top;\n",
       "    }\n",
       "\n",
       "    .dataframe thead th {\n",
       "        text-align: right;\n",
       "    }\n",
       "</style>\n",
       "<table border=\"1\" class=\"dataframe\">\n",
       "  <thead>\n",
       "    <tr style=\"text-align: right;\">\n",
       "      <th></th>\n",
       "      <th>MSSubClass</th>\n",
       "      <th>MSZoning</th>\n",
       "      <th>LotFrontage</th>\n",
       "      <th>LotArea</th>\n",
       "      <th>Street</th>\n",
       "      <th>Alley</th>\n",
       "      <th>LotShape</th>\n",
       "      <th>LandContour</th>\n",
       "      <th>Utilities</th>\n",
       "      <th>LotConfig</th>\n",
       "      <th>...</th>\n",
       "      <th>PoolArea</th>\n",
       "      <th>PoolQC</th>\n",
       "      <th>Fence</th>\n",
       "      <th>MiscFeature</th>\n",
       "      <th>MiscVal</th>\n",
       "      <th>MoSold</th>\n",
       "      <th>YrSold</th>\n",
       "      <th>SaleType</th>\n",
       "      <th>SaleCondition</th>\n",
       "      <th>SalePrice</th>\n",
       "    </tr>\n",
       "  </thead>\n",
       "  <tbody>\n",
       "    <tr>\n",
       "      <th>0</th>\n",
       "      <td>60</td>\n",
       "      <td>RL</td>\n",
       "      <td>65.0</td>\n",
       "      <td>8450</td>\n",
       "      <td>Pave</td>\n",
       "      <td>NaN</td>\n",
       "      <td>Reg</td>\n",
       "      <td>Lvl</td>\n",
       "      <td>AllPub</td>\n",
       "      <td>Inside</td>\n",
       "      <td>...</td>\n",
       "      <td>0</td>\n",
       "      <td>NaN</td>\n",
       "      <td>NaN</td>\n",
       "      <td>NaN</td>\n",
       "      <td>0</td>\n",
       "      <td>2</td>\n",
       "      <td>2008</td>\n",
       "      <td>WD</td>\n",
       "      <td>Normal</td>\n",
       "      <td>208500</td>\n",
       "    </tr>\n",
       "    <tr>\n",
       "      <th>1</th>\n",
       "      <td>20</td>\n",
       "      <td>RL</td>\n",
       "      <td>80.0</td>\n",
       "      <td>9600</td>\n",
       "      <td>Pave</td>\n",
       "      <td>NaN</td>\n",
       "      <td>Reg</td>\n",
       "      <td>Lvl</td>\n",
       "      <td>AllPub</td>\n",
       "      <td>FR2</td>\n",
       "      <td>...</td>\n",
       "      <td>0</td>\n",
       "      <td>NaN</td>\n",
       "      <td>NaN</td>\n",
       "      <td>NaN</td>\n",
       "      <td>0</td>\n",
       "      <td>5</td>\n",
       "      <td>2007</td>\n",
       "      <td>WD</td>\n",
       "      <td>Normal</td>\n",
       "      <td>181500</td>\n",
       "    </tr>\n",
       "    <tr>\n",
       "      <th>2</th>\n",
       "      <td>60</td>\n",
       "      <td>RL</td>\n",
       "      <td>68.0</td>\n",
       "      <td>11250</td>\n",
       "      <td>Pave</td>\n",
       "      <td>NaN</td>\n",
       "      <td>IR1</td>\n",
       "      <td>Lvl</td>\n",
       "      <td>AllPub</td>\n",
       "      <td>Inside</td>\n",
       "      <td>...</td>\n",
       "      <td>0</td>\n",
       "      <td>NaN</td>\n",
       "      <td>NaN</td>\n",
       "      <td>NaN</td>\n",
       "      <td>0</td>\n",
       "      <td>9</td>\n",
       "      <td>2008</td>\n",
       "      <td>WD</td>\n",
       "      <td>Normal</td>\n",
       "      <td>223500</td>\n",
       "    </tr>\n",
       "    <tr>\n",
       "      <th>3</th>\n",
       "      <td>70</td>\n",
       "      <td>RL</td>\n",
       "      <td>60.0</td>\n",
       "      <td>9550</td>\n",
       "      <td>Pave</td>\n",
       "      <td>NaN</td>\n",
       "      <td>IR1</td>\n",
       "      <td>Lvl</td>\n",
       "      <td>AllPub</td>\n",
       "      <td>Corner</td>\n",
       "      <td>...</td>\n",
       "      <td>0</td>\n",
       "      <td>NaN</td>\n",
       "      <td>NaN</td>\n",
       "      <td>NaN</td>\n",
       "      <td>0</td>\n",
       "      <td>2</td>\n",
       "      <td>2006</td>\n",
       "      <td>WD</td>\n",
       "      <td>Abnorml</td>\n",
       "      <td>140000</td>\n",
       "    </tr>\n",
       "    <tr>\n",
       "      <th>4</th>\n",
       "      <td>60</td>\n",
       "      <td>RL</td>\n",
       "      <td>84.0</td>\n",
       "      <td>14260</td>\n",
       "      <td>Pave</td>\n",
       "      <td>NaN</td>\n",
       "      <td>IR1</td>\n",
       "      <td>Lvl</td>\n",
       "      <td>AllPub</td>\n",
       "      <td>FR2</td>\n",
       "      <td>...</td>\n",
       "      <td>0</td>\n",
       "      <td>NaN</td>\n",
       "      <td>NaN</td>\n",
       "      <td>NaN</td>\n",
       "      <td>0</td>\n",
       "      <td>12</td>\n",
       "      <td>2008</td>\n",
       "      <td>WD</td>\n",
       "      <td>Normal</td>\n",
       "      <td>250000</td>\n",
       "    </tr>\n",
       "    <tr>\n",
       "      <th>...</th>\n",
       "      <td>...</td>\n",
       "      <td>...</td>\n",
       "      <td>...</td>\n",
       "      <td>...</td>\n",
       "      <td>...</td>\n",
       "      <td>...</td>\n",
       "      <td>...</td>\n",
       "      <td>...</td>\n",
       "      <td>...</td>\n",
       "      <td>...</td>\n",
       "      <td>...</td>\n",
       "      <td>...</td>\n",
       "      <td>...</td>\n",
       "      <td>...</td>\n",
       "      <td>...</td>\n",
       "      <td>...</td>\n",
       "      <td>...</td>\n",
       "      <td>...</td>\n",
       "      <td>...</td>\n",
       "      <td>...</td>\n",
       "      <td>...</td>\n",
       "    </tr>\n",
       "    <tr>\n",
       "      <th>1455</th>\n",
       "      <td>60</td>\n",
       "      <td>RL</td>\n",
       "      <td>62.0</td>\n",
       "      <td>7917</td>\n",
       "      <td>Pave</td>\n",
       "      <td>NaN</td>\n",
       "      <td>Reg</td>\n",
       "      <td>Lvl</td>\n",
       "      <td>AllPub</td>\n",
       "      <td>Inside</td>\n",
       "      <td>...</td>\n",
       "      <td>0</td>\n",
       "      <td>NaN</td>\n",
       "      <td>NaN</td>\n",
       "      <td>NaN</td>\n",
       "      <td>0</td>\n",
       "      <td>8</td>\n",
       "      <td>2007</td>\n",
       "      <td>WD</td>\n",
       "      <td>Normal</td>\n",
       "      <td>175000</td>\n",
       "    </tr>\n",
       "    <tr>\n",
       "      <th>1456</th>\n",
       "      <td>20</td>\n",
       "      <td>RL</td>\n",
       "      <td>85.0</td>\n",
       "      <td>13175</td>\n",
       "      <td>Pave</td>\n",
       "      <td>NaN</td>\n",
       "      <td>Reg</td>\n",
       "      <td>Lvl</td>\n",
       "      <td>AllPub</td>\n",
       "      <td>Inside</td>\n",
       "      <td>...</td>\n",
       "      <td>0</td>\n",
       "      <td>NaN</td>\n",
       "      <td>MnPrv</td>\n",
       "      <td>NaN</td>\n",
       "      <td>0</td>\n",
       "      <td>2</td>\n",
       "      <td>2010</td>\n",
       "      <td>WD</td>\n",
       "      <td>Normal</td>\n",
       "      <td>210000</td>\n",
       "    </tr>\n",
       "    <tr>\n",
       "      <th>1457</th>\n",
       "      <td>70</td>\n",
       "      <td>RL</td>\n",
       "      <td>66.0</td>\n",
       "      <td>9042</td>\n",
       "      <td>Pave</td>\n",
       "      <td>NaN</td>\n",
       "      <td>Reg</td>\n",
       "      <td>Lvl</td>\n",
       "      <td>AllPub</td>\n",
       "      <td>Inside</td>\n",
       "      <td>...</td>\n",
       "      <td>0</td>\n",
       "      <td>NaN</td>\n",
       "      <td>GdPrv</td>\n",
       "      <td>Shed</td>\n",
       "      <td>2500</td>\n",
       "      <td>5</td>\n",
       "      <td>2010</td>\n",
       "      <td>WD</td>\n",
       "      <td>Normal</td>\n",
       "      <td>266500</td>\n",
       "    </tr>\n",
       "    <tr>\n",
       "      <th>1458</th>\n",
       "      <td>20</td>\n",
       "      <td>RL</td>\n",
       "      <td>68.0</td>\n",
       "      <td>9717</td>\n",
       "      <td>Pave</td>\n",
       "      <td>NaN</td>\n",
       "      <td>Reg</td>\n",
       "      <td>Lvl</td>\n",
       "      <td>AllPub</td>\n",
       "      <td>Inside</td>\n",
       "      <td>...</td>\n",
       "      <td>0</td>\n",
       "      <td>NaN</td>\n",
       "      <td>NaN</td>\n",
       "      <td>NaN</td>\n",
       "      <td>0</td>\n",
       "      <td>4</td>\n",
       "      <td>2010</td>\n",
       "      <td>WD</td>\n",
       "      <td>Normal</td>\n",
       "      <td>142125</td>\n",
       "    </tr>\n",
       "    <tr>\n",
       "      <th>1459</th>\n",
       "      <td>20</td>\n",
       "      <td>RL</td>\n",
       "      <td>75.0</td>\n",
       "      <td>9937</td>\n",
       "      <td>Pave</td>\n",
       "      <td>NaN</td>\n",
       "      <td>Reg</td>\n",
       "      <td>Lvl</td>\n",
       "      <td>AllPub</td>\n",
       "      <td>Inside</td>\n",
       "      <td>...</td>\n",
       "      <td>0</td>\n",
       "      <td>NaN</td>\n",
       "      <td>NaN</td>\n",
       "      <td>NaN</td>\n",
       "      <td>0</td>\n",
       "      <td>6</td>\n",
       "      <td>2008</td>\n",
       "      <td>WD</td>\n",
       "      <td>Normal</td>\n",
       "      <td>147500</td>\n",
       "    </tr>\n",
       "  </tbody>\n",
       "</table>\n",
       "<p>1460 rows × 80 columns</p>\n",
       "</div>"
      ],
      "text/plain": [
       "      MSSubClass MSZoning  LotFrontage  LotArea Street Alley LotShape  \\\n",
       "0             60       RL         65.0     8450   Pave   NaN      Reg   \n",
       "1             20       RL         80.0     9600   Pave   NaN      Reg   \n",
       "2             60       RL         68.0    11250   Pave   NaN      IR1   \n",
       "3             70       RL         60.0     9550   Pave   NaN      IR1   \n",
       "4             60       RL         84.0    14260   Pave   NaN      IR1   \n",
       "...          ...      ...          ...      ...    ...   ...      ...   \n",
       "1455          60       RL         62.0     7917   Pave   NaN      Reg   \n",
       "1456          20       RL         85.0    13175   Pave   NaN      Reg   \n",
       "1457          70       RL         66.0     9042   Pave   NaN      Reg   \n",
       "1458          20       RL         68.0     9717   Pave   NaN      Reg   \n",
       "1459          20       RL         75.0     9937   Pave   NaN      Reg   \n",
       "\n",
       "     LandContour Utilities LotConfig  ... PoolArea PoolQC  Fence MiscFeature  \\\n",
       "0            Lvl    AllPub    Inside  ...        0    NaN    NaN         NaN   \n",
       "1            Lvl    AllPub       FR2  ...        0    NaN    NaN         NaN   \n",
       "2            Lvl    AllPub    Inside  ...        0    NaN    NaN         NaN   \n",
       "3            Lvl    AllPub    Corner  ...        0    NaN    NaN         NaN   \n",
       "4            Lvl    AllPub       FR2  ...        0    NaN    NaN         NaN   \n",
       "...          ...       ...       ...  ...      ...    ...    ...         ...   \n",
       "1455         Lvl    AllPub    Inside  ...        0    NaN    NaN         NaN   \n",
       "1456         Lvl    AllPub    Inside  ...        0    NaN  MnPrv         NaN   \n",
       "1457         Lvl    AllPub    Inside  ...        0    NaN  GdPrv        Shed   \n",
       "1458         Lvl    AllPub    Inside  ...        0    NaN    NaN         NaN   \n",
       "1459         Lvl    AllPub    Inside  ...        0    NaN    NaN         NaN   \n",
       "\n",
       "     MiscVal MoSold  YrSold  SaleType  SaleCondition  SalePrice  \n",
       "0          0      2    2008        WD         Normal     208500  \n",
       "1          0      5    2007        WD         Normal     181500  \n",
       "2          0      9    2008        WD         Normal     223500  \n",
       "3          0      2    2006        WD        Abnorml     140000  \n",
       "4          0     12    2008        WD         Normal     250000  \n",
       "...      ...    ...     ...       ...            ...        ...  \n",
       "1455       0      8    2007        WD         Normal     175000  \n",
       "1456       0      2    2010        WD         Normal     210000  \n",
       "1457    2500      5    2010        WD         Normal     266500  \n",
       "1458       0      4    2010        WD         Normal     142125  \n",
       "1459       0      6    2008        WD         Normal     147500  \n",
       "\n",
       "[1460 rows x 80 columns]"
      ]
     },
     "execution_count": 3,
     "metadata": {},
     "output_type": "execute_result"
    }
   ],
   "source": [
    "# Set the data file path\n",
    "file_path = \"/kaggle/input/house-prices-advanced-regression-techniques/train.csv\"\n",
    "\n",
    "# Loading the Data\n",
    "df = pd.read_csv(file_path)\n",
    "df.drop(columns=[\"Id\"], inplace=True)\n",
    "df"
   ]
  },
  {
   "cell_type": "markdown",
   "id": "f5a9de08",
   "metadata": {
    "papermill": {
     "duration": 0.030165,
     "end_time": "2023-12-05T00:01:12.999491",
     "exception": false,
     "start_time": "2023-12-05T00:01:12.969326",
     "status": "completed"
    },
    "tags": []
   },
   "source": [
    "That's how our data set looks. Let's uncover some hidden insights about the data."
   ]
  },
  {
   "cell_type": "code",
   "execution_count": 4,
   "id": "7248386b",
   "metadata": {
    "execution": {
     "iopub.execute_input": "2023-12-05T00:01:13.044442Z",
     "iopub.status.busy": "2023-12-05T00:01:13.043695Z",
     "iopub.status.idle": "2023-12-05T00:01:13.049799Z",
     "shell.execute_reply": "2023-12-05T00:01:13.049010Z"
    },
    "papermill": {
     "duration": 0.030673,
     "end_time": "2023-12-05T00:01:13.051821",
     "exception": false,
     "start_time": "2023-12-05T00:01:13.021148",
     "status": "completed"
    },
    "tags": []
   },
   "outputs": [
    {
     "data": {
      "text/plain": [
       "80"
      ]
     },
     "execution_count": 4,
     "metadata": {},
     "output_type": "execute_result"
    }
   ],
   "source": [
    "len(df.columns)"
   ]
  },
  {
   "cell_type": "markdown",
   "id": "b910ae64",
   "metadata": {
    "papermill": {
     "duration": 0.079593,
     "end_time": "2023-12-05T00:01:13.152960",
     "exception": false,
     "start_time": "2023-12-05T00:01:13.073367",
     "status": "completed"
    },
    "tags": []
   },
   "source": [
    "The data set consists of **80 features** at the **current stage**. Because this value is **extremely high**, we will go through **feature selection process** in order to **remove some of the features** and **only preserve the important ones**."
   ]
  },
  {
   "cell_type": "code",
   "execution_count": 5,
   "id": "8597b88a",
   "metadata": {
    "execution": {
     "iopub.execute_input": "2023-12-05T00:01:13.197444Z",
     "iopub.status.busy": "2023-12-05T00:01:13.196692Z",
     "iopub.status.idle": "2023-12-05T00:01:13.213118Z",
     "shell.execute_reply": "2023-12-05T00:01:13.210849Z"
    },
    "papermill": {
     "duration": 0.042014,
     "end_time": "2023-12-05T00:01:13.216251",
     "exception": false,
     "start_time": "2023-12-05T00:01:13.174237",
     "status": "completed"
    },
    "tags": []
   },
   "outputs": [
    {
     "name": "stdout",
     "output_type": "stream",
     "text": [
      "LotFrontage          :  259\n",
      "Alley                : 1369\n",
      "MasVnrType           :  872\n",
      "MasVnrArea           :    8\n",
      "BsmtQual             :   37\n",
      "BsmtCond             :   37\n",
      "BsmtExposure         :   38\n",
      "BsmtFinType1         :   37\n",
      "BsmtFinType2         :   38\n",
      "Electrical           :    1\n",
      "FireplaceQu          :  690\n",
      "GarageType           :   81\n",
      "GarageYrBlt          :   81\n",
      "GarageFinish         :   81\n",
      "GarageQual           :   81\n",
      "GarageCond           :   81\n",
      "PoolQC               : 1453\n",
      "Fence                : 1179\n",
      "MiscFeature          : 1406\n",
      "\n",
      "Features with Null Values: 19\n",
      "Features with Hight Null Values: 4\n"
     ]
    }
   ],
   "source": [
    "# Record feature names with extremely high null values\n",
    "high_null_count_features = []\n",
    "\n",
    "# Record total number of features with null values\n",
    "null_feature_values = 0\n",
    "\n",
    "for feature, null_count in df.isnull().sum().items():\n",
    "    if null_count > 0:\n",
    "        print(f\"{feature:20} : {null_count:4}\")\n",
    "        null_feature_values += 1\n",
    "    \n",
    "    if null_count >= 1000:\n",
    "        high_null_count_features.append(feature)\n",
    "\n",
    "print(f\"\\nFeatures with Null Values: {null_feature_values}\")\n",
    "print(f\"Features with Hight Null Values: {len(high_null_count_features)}\")"
   ]
  },
  {
   "cell_type": "markdown",
   "id": "b2930284",
   "metadata": {
    "papermill": {
     "duration": 0.020874,
     "end_time": "2023-12-05T00:01:13.258807",
     "exception": false,
     "start_time": "2023-12-05T00:01:13.237933",
     "status": "completed"
    },
    "tags": []
   },
   "source": [
    "Upon thorough inspection for **null values**, it's evident that among the **advertisement features**, **19 attributes** exhibit **missing data**. Notably, several features such as **'alley,'** **'Fence,'**, **'MiscFeature'**, etc, contain **notably excessive null values**, exceeding a **count of 1000**.\n",
    "\n",
    "This **substantial presence** of **missing data** poses a **significant challenge** for **straightforward imputation techniques** like **mean or mode** substitution, given the **nature of these features**. Consequently, addressing these **null values** may require more **nuanced strategies** to preserve the **authenticity of our dataset**, as **simply filling them might risk skewing the dataset's fidelity** from a **reflection of real-world information** to a more **artificial, synthesized representation.**\n",
    "\n",
    "Because we have a **high count** for the **total number of features(i.e. 80)**. We can simply **delete/remove** the **features with extremely high null value counts."
   ]
  },
  {
   "cell_type": "code",
   "execution_count": 6,
   "id": "6bf256ec",
   "metadata": {
    "execution": {
     "iopub.execute_input": "2023-12-05T00:01:13.303373Z",
     "iopub.status.busy": "2023-12-05T00:01:13.302989Z",
     "iopub.status.idle": "2023-12-05T00:01:13.311134Z",
     "shell.execute_reply": "2023-12-05T00:01:13.310150Z"
    },
    "papermill": {
     "duration": 0.033329,
     "end_time": "2023-12-05T00:01:13.313625",
     "exception": false,
     "start_time": "2023-12-05T00:01:13.280296",
     "status": "completed"
    },
    "tags": []
   },
   "outputs": [
    {
     "name": "stdout",
     "output_type": "stream",
     "text": [
      "Features left: 76\n"
     ]
    }
   ],
   "source": [
    "# Drop columns with high null value count\n",
    "df.drop(columns = high_null_count_features, inplace = True)\n",
    "\n",
    "# Confirme the deletion\n",
    "print(f\"Features left: {len(df.columns)}\")"
   ]
  },
  {
   "cell_type": "markdown",
   "id": "7a505fab",
   "metadata": {
    "papermill": {
     "duration": 0.021521,
     "end_time": "2023-12-05T00:01:13.357465",
     "exception": false,
     "start_time": "2023-12-05T00:01:13.335944",
     "status": "completed"
    },
    "tags": []
   },
   "source": [
    "Exactly after deleting the **4 features** with **extremely high null value counts**, we are **left with 76 features**. Out of these **76 features**, we still have **15 features** which have **null values**, and we still need to deal with them."
   ]
  },
  {
   "cell_type": "code",
   "execution_count": 7,
   "id": "73e8bdc3",
   "metadata": {
    "execution": {
     "iopub.execute_input": "2023-12-05T00:01:13.402726Z",
     "iopub.status.busy": "2023-12-05T00:01:13.402326Z",
     "iopub.status.idle": "2023-12-05T00:01:13.435958Z",
     "shell.execute_reply": "2023-12-05T00:01:13.434838Z"
    },
    "papermill": {
     "duration": 0.060224,
     "end_time": "2023-12-05T00:01:13.439628",
     "exception": false,
     "start_time": "2023-12-05T00:01:13.379404",
     "status": "completed"
    },
    "tags": []
   },
   "outputs": [
    {
     "name": "stdout",
     "output_type": "stream",
     "text": [
      "<class 'pandas.core.frame.DataFrame'>\n",
      "RangeIndex: 1460 entries, 0 to 1459\n",
      "Data columns (total 76 columns):\n",
      " #   Column         Non-Null Count  Dtype  \n",
      "---  ------         --------------  -----  \n",
      " 0   MSSubClass     1460 non-null   int64  \n",
      " 1   MSZoning       1460 non-null   object \n",
      " 2   LotFrontage    1201 non-null   float64\n",
      " 3   LotArea        1460 non-null   int64  \n",
      " 4   Street         1460 non-null   object \n",
      " 5   LotShape       1460 non-null   object \n",
      " 6   LandContour    1460 non-null   object \n",
      " 7   Utilities      1460 non-null   object \n",
      " 8   LotConfig      1460 non-null   object \n",
      " 9   LandSlope      1460 non-null   object \n",
      " 10  Neighborhood   1460 non-null   object \n",
      " 11  Condition1     1460 non-null   object \n",
      " 12  Condition2     1460 non-null   object \n",
      " 13  BldgType       1460 non-null   object \n",
      " 14  HouseStyle     1460 non-null   object \n",
      " 15  OverallQual    1460 non-null   int64  \n",
      " 16  OverallCond    1460 non-null   int64  \n",
      " 17  YearBuilt      1460 non-null   int64  \n",
      " 18  YearRemodAdd   1460 non-null   int64  \n",
      " 19  RoofStyle      1460 non-null   object \n",
      " 20  RoofMatl       1460 non-null   object \n",
      " 21  Exterior1st    1460 non-null   object \n",
      " 22  Exterior2nd    1460 non-null   object \n",
      " 23  MasVnrType     588 non-null    object \n",
      " 24  MasVnrArea     1452 non-null   float64\n",
      " 25  ExterQual      1460 non-null   object \n",
      " 26  ExterCond      1460 non-null   object \n",
      " 27  Foundation     1460 non-null   object \n",
      " 28  BsmtQual       1423 non-null   object \n",
      " 29  BsmtCond       1423 non-null   object \n",
      " 30  BsmtExposure   1422 non-null   object \n",
      " 31  BsmtFinType1   1423 non-null   object \n",
      " 32  BsmtFinSF1     1460 non-null   int64  \n",
      " 33  BsmtFinType2   1422 non-null   object \n",
      " 34  BsmtFinSF2     1460 non-null   int64  \n",
      " 35  BsmtUnfSF      1460 non-null   int64  \n",
      " 36  TotalBsmtSF    1460 non-null   int64  \n",
      " 37  Heating        1460 non-null   object \n",
      " 38  HeatingQC      1460 non-null   object \n",
      " 39  CentralAir     1460 non-null   object \n",
      " 40  Electrical     1459 non-null   object \n",
      " 41  1stFlrSF       1460 non-null   int64  \n",
      " 42  2ndFlrSF       1460 non-null   int64  \n",
      " 43  LowQualFinSF   1460 non-null   int64  \n",
      " 44  GrLivArea      1460 non-null   int64  \n",
      " 45  BsmtFullBath   1460 non-null   int64  \n",
      " 46  BsmtHalfBath   1460 non-null   int64  \n",
      " 47  FullBath       1460 non-null   int64  \n",
      " 48  HalfBath       1460 non-null   int64  \n",
      " 49  BedroomAbvGr   1460 non-null   int64  \n",
      " 50  KitchenAbvGr   1460 non-null   int64  \n",
      " 51  KitchenQual    1460 non-null   object \n",
      " 52  TotRmsAbvGrd   1460 non-null   int64  \n",
      " 53  Functional     1460 non-null   object \n",
      " 54  Fireplaces     1460 non-null   int64  \n",
      " 55  FireplaceQu    770 non-null    object \n",
      " 56  GarageType     1379 non-null   object \n",
      " 57  GarageYrBlt    1379 non-null   float64\n",
      " 58  GarageFinish   1379 non-null   object \n",
      " 59  GarageCars     1460 non-null   int64  \n",
      " 60  GarageArea     1460 non-null   int64  \n",
      " 61  GarageQual     1379 non-null   object \n",
      " 62  GarageCond     1379 non-null   object \n",
      " 63  PavedDrive     1460 non-null   object \n",
      " 64  WoodDeckSF     1460 non-null   int64  \n",
      " 65  OpenPorchSF    1460 non-null   int64  \n",
      " 66  EnclosedPorch  1460 non-null   int64  \n",
      " 67  3SsnPorch      1460 non-null   int64  \n",
      " 68  ScreenPorch    1460 non-null   int64  \n",
      " 69  PoolArea       1460 non-null   int64  \n",
      " 70  MiscVal        1460 non-null   int64  \n",
      " 71  MoSold         1460 non-null   int64  \n",
      " 72  YrSold         1460 non-null   int64  \n",
      " 73  SaleType       1460 non-null   object \n",
      " 74  SaleCondition  1460 non-null   object \n",
      " 75  SalePrice      1460 non-null   int64  \n",
      "dtypes: float64(3), int64(34), object(39)\n",
      "memory usage: 867.0+ KB\n"
     ]
    }
   ],
   "source": [
    "df.info()"
   ]
  },
  {
   "cell_type": "markdown",
   "id": "06743420",
   "metadata": {
    "papermill": {
     "duration": 0.021397,
     "end_time": "2023-12-05T00:01:13.483145",
     "exception": false,
     "start_time": "2023-12-05T00:01:13.461748",
     "status": "completed"
    },
    "tags": []
   },
   "source": [
    "Upon looking at the **data type** of the **different features,** we can clearly see that our data is a **mixture of both numeric** and **categorical features.** "
   ]
  },
  {
   "cell_type": "markdown",
   "id": "435ed9bd",
   "metadata": {
    "papermill": {
     "duration": 0.021853,
     "end_time": "2023-12-05T00:01:13.527395",
     "exception": false,
     "start_time": "2023-12-05T00:01:13.505542",
     "status": "completed"
    },
    "tags": []
   },
   "source": [
    "# **Data Preprocessing**"
   ]
  },
  {
   "cell_type": "markdown",
   "id": "fee43ec8",
   "metadata": {
    "papermill": {
     "duration": 0.021782,
     "end_time": "2023-12-05T00:01:13.571346",
     "exception": false,
     "start_time": "2023-12-05T00:01:13.549564",
     "status": "completed"
    },
    "tags": []
   },
   "source": [
    "Presently, our data poses **two significant challenges**. \n",
    "\n",
    "* Primarily, the **existence of null values** necessitates meticulous handling to **maintain data integrity**. \n",
    "\n",
    "* Secondly, the dataset comprises **categorical features**, which inherently pose a **challenge for computational analysis** due to computers' preference for **numerical data**. \n",
    "\n",
    "To address this, employing an **ordinal encoder** becomes imperative to seamlessly **transform these categorical attributes** into **numeric equivalents**, **facilitating our computational processes**."
   ]
  },
  {
   "cell_type": "code",
   "execution_count": 8,
   "id": "8f5c4ac8",
   "metadata": {
    "execution": {
     "iopub.execute_input": "2023-12-05T00:01:13.617236Z",
     "iopub.status.busy": "2023-12-05T00:01:13.616841Z",
     "iopub.status.idle": "2023-12-05T00:01:13.632751Z",
     "shell.execute_reply": "2023-12-05T00:01:13.631184Z"
    },
    "papermill": {
     "duration": 0.041923,
     "end_time": "2023-12-05T00:01:13.635135",
     "exception": false,
     "start_time": "2023-12-05T00:01:13.593212",
     "status": "completed"
    },
    "tags": []
   },
   "outputs": [
    {
     "name": "stdout",
     "output_type": "stream",
     "text": [
      "LotFrontage          -> float64    ->   259\n",
      "MasVnrType           -> object     ->   872\n",
      "MasVnrArea           -> float64    ->     8\n",
      "BsmtQual             -> object     ->    37\n",
      "BsmtCond             -> object     ->    37\n",
      "BsmtExposure         -> object     ->    38\n",
      "BsmtFinType1         -> object     ->    37\n",
      "BsmtFinType2         -> object     ->    38\n",
      "Electrical           -> object     ->     1\n",
      "FireplaceQu          -> object     ->   690\n",
      "GarageType           -> object     ->    81\n",
      "GarageYrBlt          -> float64    ->    81\n",
      "GarageFinish         -> object     ->    81\n",
      "GarageQual           -> object     ->    81\n",
      "GarageCond           -> object     ->    81\n"
     ]
    }
   ],
   "source": [
    "# Reanalysis of null values with data types\n",
    "null_features = []\n",
    "for feature, null_count in df.isnull().sum().items():\n",
    "    if null_count > 0:\n",
    "        print(f\"{feature:20} -> {str(df[feature].dtype):10} -> {null_count:5}\")\n",
    "        null_feature_values += 1\n",
    "        null_features.append(feature)\n",
    "    \n",
    "    if null_count >= 1000:\n",
    "        high_null_count_features.append(feature)"
   ]
  },
  {
   "cell_type": "markdown",
   "id": "cf18126f",
   "metadata": {
    "papermill": {
     "duration": 0.02206,
     "end_time": "2023-12-05T00:01:13.679400",
     "exception": false,
     "start_time": "2023-12-05T00:01:13.657340",
     "status": "completed"
    },
    "tags": []
   },
   "source": [
    "We can clearly see that majority of the **null values** are present in **categorical features**. Thus we will first need to **encode them** and at the same time, **impute them**."
   ]
  },
  {
   "cell_type": "code",
   "execution_count": 9,
   "id": "ab772f92",
   "metadata": {
    "execution": {
     "iopub.execute_input": "2023-12-05T00:01:13.725710Z",
     "iopub.status.busy": "2023-12-05T00:01:13.725340Z",
     "iopub.status.idle": "2023-12-05T00:01:13.752297Z",
     "shell.execute_reply": "2023-12-05T00:01:13.751158Z"
    },
    "papermill": {
     "duration": 0.053309,
     "end_time": "2023-12-05T00:01:13.754991",
     "exception": false,
     "start_time": "2023-12-05T00:01:13.701682",
     "status": "completed"
    },
    "tags": []
   },
   "outputs": [],
   "source": [
    "# Fill the missing values\n",
    "for feature in null_features:\n",
    "    \n",
    "    if str(df[feature].dtype) == \"object\":\n",
    "        \n",
    "        # Impute using Mode Values\n",
    "        imputer = SimpleImputer(strategy = \"most_frequent\")\n",
    "        df[feature] = imputer.fit_transform(df[feature].to_numpy().reshape(-1, 1)).ravel()\n",
    "\n",
    "    else:\n",
    "        # Impute using mean values\n",
    "        imputer = SimpleImputer(strategy = \"mean\")\n",
    "        df[feature] = imputer.fit_transform(df[feature].to_numpy().reshape(-1, 1)).ravel()"
   ]
  },
  {
   "cell_type": "code",
   "execution_count": 10,
   "id": "914d43d3",
   "metadata": {
    "execution": {
     "iopub.execute_input": "2023-12-05T00:01:13.804223Z",
     "iopub.status.busy": "2023-12-05T00:01:13.803761Z",
     "iopub.status.idle": "2023-12-05T00:01:13.818607Z",
     "shell.execute_reply": "2023-12-05T00:01:13.817837Z"
    },
    "papermill": {
     "duration": 0.042362,
     "end_time": "2023-12-05T00:01:13.821078",
     "exception": false,
     "start_time": "2023-12-05T00:01:13.778716",
     "status": "completed"
    },
    "tags": []
   },
   "outputs": [
    {
     "name": "stdout",
     "output_type": "stream",
     "text": [
      "Null Values Left: False\n"
     ]
    }
   ],
   "source": [
    "print(f\"Null Values Left: {any(df.isnull().sum())}\")"
   ]
  },
  {
   "cell_type": "markdown",
   "id": "945f7127",
   "metadata": {
    "papermill": {
     "duration": 0.027381,
     "end_time": "2023-12-05T00:01:13.870803",
     "exception": false,
     "start_time": "2023-12-05T00:01:13.843422",
     "status": "completed"
    },
    "tags": []
   },
   "source": [
    "Excellent progress! We've effectively managed the issue of **null values** by leveraging the **Simple Imputer**. **Numeric nulls** have been **addressed** by replacing them with their **respective mean values**, while **categorical features** have been handled by **imputing the mode**, representing the **most frequent value within each category.**\n",
    "\n",
    "---\n",
    "\n",
    "To prepare our data for **modeling purposes**, it's imperative to **transform categorical features into numerical representations.** "
   ]
  },
  {
   "cell_type": "code",
   "execution_count": 11,
   "id": "8f82931d",
   "metadata": {
    "execution": {
     "iopub.execute_input": "2023-12-05T00:01:13.935241Z",
     "iopub.status.busy": "2023-12-05T00:01:13.933812Z",
     "iopub.status.idle": "2023-12-05T00:01:13.993488Z",
     "shell.execute_reply": "2023-12-05T00:01:13.992323Z"
    },
    "papermill": {
     "duration": 0.094115,
     "end_time": "2023-12-05T00:01:13.996934",
     "exception": false,
     "start_time": "2023-12-05T00:01:13.902819",
     "status": "completed"
    },
    "tags": []
   },
   "outputs": [],
   "source": [
    "# Record the feature and its respective encoder\n",
    "encoders = {}\n",
    "\n",
    "# Use ordinary encoder to convert category into numeric values\n",
    "for feature in df.columns:\n",
    "    if str(df[feature].dtype) == \"object\":\n",
    "        \n",
    "        # Initialize the ordinal encoder\n",
    "        encoder = OrdinalEncoder()\n",
    "        \n",
    "        # Apply the ordinal encoder\n",
    "        encoder.fit(df[feature].to_numpy().reshape(-1, 1))\n",
    "        df[feature] = encoder.transform(df[feature].to_numpy().reshape(-1, 1)).ravel()\n",
    "        \n",
    "        # Save the encoder\n",
    "        encoders[feature] = encoder"
   ]
  },
  {
   "cell_type": "code",
   "execution_count": 12,
   "id": "dc98f00b",
   "metadata": {
    "execution": {
     "iopub.execute_input": "2023-12-05T00:01:14.054727Z",
     "iopub.status.busy": "2023-12-05T00:01:14.053528Z",
     "iopub.status.idle": "2023-12-05T00:01:14.080897Z",
     "shell.execute_reply": "2023-12-05T00:01:14.079569Z"
    },
    "papermill": {
     "duration": 0.054878,
     "end_time": "2023-12-05T00:01:14.084282",
     "exception": false,
     "start_time": "2023-12-05T00:01:14.029404",
     "status": "completed"
    },
    "tags": []
   },
   "outputs": [
    {
     "name": "stdout",
     "output_type": "stream",
     "text": [
      "<class 'pandas.core.frame.DataFrame'>\n",
      "RangeIndex: 1460 entries, 0 to 1459\n",
      "Data columns (total 76 columns):\n",
      " #   Column         Non-Null Count  Dtype  \n",
      "---  ------         --------------  -----  \n",
      " 0   MSSubClass     1460 non-null   int64  \n",
      " 1   MSZoning       1460 non-null   float64\n",
      " 2   LotFrontage    1460 non-null   float64\n",
      " 3   LotArea        1460 non-null   int64  \n",
      " 4   Street         1460 non-null   float64\n",
      " 5   LotShape       1460 non-null   float64\n",
      " 6   LandContour    1460 non-null   float64\n",
      " 7   Utilities      1460 non-null   float64\n",
      " 8   LotConfig      1460 non-null   float64\n",
      " 9   LandSlope      1460 non-null   float64\n",
      " 10  Neighborhood   1460 non-null   float64\n",
      " 11  Condition1     1460 non-null   float64\n",
      " 12  Condition2     1460 non-null   float64\n",
      " 13  BldgType       1460 non-null   float64\n",
      " 14  HouseStyle     1460 non-null   float64\n",
      " 15  OverallQual    1460 non-null   int64  \n",
      " 16  OverallCond    1460 non-null   int64  \n",
      " 17  YearBuilt      1460 non-null   int64  \n",
      " 18  YearRemodAdd   1460 non-null   int64  \n",
      " 19  RoofStyle      1460 non-null   float64\n",
      " 20  RoofMatl       1460 non-null   float64\n",
      " 21  Exterior1st    1460 non-null   float64\n",
      " 22  Exterior2nd    1460 non-null   float64\n",
      " 23  MasVnrType     1460 non-null   float64\n",
      " 24  MasVnrArea     1460 non-null   float64\n",
      " 25  ExterQual      1460 non-null   float64\n",
      " 26  ExterCond      1460 non-null   float64\n",
      " 27  Foundation     1460 non-null   float64\n",
      " 28  BsmtQual       1460 non-null   float64\n",
      " 29  BsmtCond       1460 non-null   float64\n",
      " 30  BsmtExposure   1460 non-null   float64\n",
      " 31  BsmtFinType1   1460 non-null   float64\n",
      " 32  BsmtFinSF1     1460 non-null   int64  \n",
      " 33  BsmtFinType2   1460 non-null   float64\n",
      " 34  BsmtFinSF2     1460 non-null   int64  \n",
      " 35  BsmtUnfSF      1460 non-null   int64  \n",
      " 36  TotalBsmtSF    1460 non-null   int64  \n",
      " 37  Heating        1460 non-null   float64\n",
      " 38  HeatingQC      1460 non-null   float64\n",
      " 39  CentralAir     1460 non-null   float64\n",
      " 40  Electrical     1460 non-null   float64\n",
      " 41  1stFlrSF       1460 non-null   int64  \n",
      " 42  2ndFlrSF       1460 non-null   int64  \n",
      " 43  LowQualFinSF   1460 non-null   int64  \n",
      " 44  GrLivArea      1460 non-null   int64  \n",
      " 45  BsmtFullBath   1460 non-null   int64  \n",
      " 46  BsmtHalfBath   1460 non-null   int64  \n",
      " 47  FullBath       1460 non-null   int64  \n",
      " 48  HalfBath       1460 non-null   int64  \n",
      " 49  BedroomAbvGr   1460 non-null   int64  \n",
      " 50  KitchenAbvGr   1460 non-null   int64  \n",
      " 51  KitchenQual    1460 non-null   float64\n",
      " 52  TotRmsAbvGrd   1460 non-null   int64  \n",
      " 53  Functional     1460 non-null   float64\n",
      " 54  Fireplaces     1460 non-null   int64  \n",
      " 55  FireplaceQu    1460 non-null   float64\n",
      " 56  GarageType     1460 non-null   float64\n",
      " 57  GarageYrBlt    1460 non-null   float64\n",
      " 58  GarageFinish   1460 non-null   float64\n",
      " 59  GarageCars     1460 non-null   int64  \n",
      " 60  GarageArea     1460 non-null   int64  \n",
      " 61  GarageQual     1460 non-null   float64\n",
      " 62  GarageCond     1460 non-null   float64\n",
      " 63  PavedDrive     1460 non-null   float64\n",
      " 64  WoodDeckSF     1460 non-null   int64  \n",
      " 65  OpenPorchSF    1460 non-null   int64  \n",
      " 66  EnclosedPorch  1460 non-null   int64  \n",
      " 67  3SsnPorch      1460 non-null   int64  \n",
      " 68  ScreenPorch    1460 non-null   int64  \n",
      " 69  PoolArea       1460 non-null   int64  \n",
      " 70  MiscVal        1460 non-null   int64  \n",
      " 71  MoSold         1460 non-null   int64  \n",
      " 72  YrSold         1460 non-null   int64  \n",
      " 73  SaleType       1460 non-null   float64\n",
      " 74  SaleCondition  1460 non-null   float64\n",
      " 75  SalePrice      1460 non-null   int64  \n",
      "dtypes: float64(42), int64(34)\n",
      "memory usage: 867.0 KB\n"
     ]
    }
   ],
   "source": [
    "df.info()"
   ]
  },
  {
   "cell_type": "markdown",
   "id": "4aafbd18",
   "metadata": {
    "papermill": {
     "duration": 0.025194,
     "end_time": "2023-12-05T00:01:14.133508",
     "exception": false,
     "start_time": "2023-12-05T00:01:14.108314",
     "status": "completed"
    },
    "tags": []
   },
   "source": [
    "Upon reviewing **the dataset information,** it's evident that **our data** has been **seamlessly transformed** into **numerical values**. Consequently, we have **effectively managed** and **resolved** the **challenge** posed by **categorical features**, successfully **converting them into numeric representations.**"
   ]
  },
  {
   "cell_type": "markdown",
   "id": "7a0ad38c",
   "metadata": {
    "papermill": {
     "duration": 0.023519,
     "end_time": "2023-12-05T00:01:14.184904",
     "exception": false,
     "start_time": "2023-12-05T00:01:14.161385",
     "status": "completed"
    },
    "tags": []
   },
   "source": [
    "# **Exploratory Data Analysis**"
   ]
  },
  {
   "cell_type": "markdown",
   "id": "ed655709",
   "metadata": {
    "papermill": {
     "duration": 0.022852,
     "end_time": "2023-12-05T00:01:14.230893",
     "exception": false,
     "start_time": "2023-12-05T00:01:14.208041",
     "status": "completed"
    },
    "tags": []
   },
   "source": [
    "Given the extensive number of feature columns in our dataset, manually exploring each feature for visual analysis isn't a practical or efficient approach. Instead, an optimal strategy involves utilizing a correlation matrix to identify the relationships between different features. This matrix offers a comprehensive overview, highlighting correlations between specific features, thereby enabling focused exploration and plotting of those specific relationships. This method streamlines our analysis, allowing us to pinpoint and delve deeper into the most relevant and interrelated features, optimizing our insights."
   ]
  },
  {
   "cell_type": "code",
   "execution_count": 13,
   "id": "6d5fd5bb",
   "metadata": {
    "execution": {
     "iopub.execute_input": "2023-12-05T00:01:14.280806Z",
     "iopub.status.busy": "2023-12-05T00:01:14.280083Z",
     "iopub.status.idle": "2023-12-05T00:01:14.612709Z",
     "shell.execute_reply": "2023-12-05T00:01:14.611565Z"
    },
    "papermill": {
     "duration": 0.360825,
     "end_time": "2023-12-05T00:01:14.616005",
     "exception": false,
     "start_time": "2023-12-05T00:01:14.255180",
     "status": "completed"
    },
    "tags": []
   },
   "outputs": [],
   "source": [
    "import seaborn as sns"
   ]
  },
  {
   "cell_type": "code",
   "execution_count": 14,
   "id": "922e537a",
   "metadata": {
    "execution": {
     "iopub.execute_input": "2023-12-05T00:01:14.670029Z",
     "iopub.status.busy": "2023-12-05T00:01:14.668705Z",
     "iopub.status.idle": "2023-12-05T00:01:16.304269Z",
     "shell.execute_reply": "2023-12-05T00:01:16.303128Z"
    },
    "papermill": {
     "duration": 1.662589,
     "end_time": "2023-12-05T00:01:16.306952",
     "exception": false,
     "start_time": "2023-12-05T00:01:14.644363",
     "status": "completed"
    },
    "tags": []
   },
   "outputs": [
    {
     "data": {
      "text/html": [
       "        <script type=\"text/javascript\">\n",
       "        window.PlotlyConfig = {MathJaxConfig: 'local'};\n",
       "        if (window.MathJax && window.MathJax.Hub && window.MathJax.Hub.Config) {window.MathJax.Hub.Config({SVG: {font: \"STIX-Web\"}});}\n",
       "        if (typeof require !== 'undefined') {\n",
       "        require.undef(\"plotly\");\n",
       "        requirejs.config({\n",
       "            paths: {\n",
       "                'plotly': ['https://cdn.plot.ly/plotly-2.25.2.min']\n",
       "            }\n",
       "        });\n",
       "        require(['plotly'], function(Plotly) {\n",
       "            window._Plotly = Plotly;\n",
       "        });\n",
       "        }\n",
       "        </script>\n",
       "        "
      ]
     },
     "metadata": {},
     "output_type": "display_data"
    },
    {
     "data": {
      "text/html": [
       "<div>                            <div id=\"cecb7f8e-f49f-47a5-bc72-2cbb348ea863\" class=\"plotly-graph-div\" style=\"height:1000px; width:100%;\"></div>            <script type=\"text/javascript\">                require([\"plotly\"], function(Plotly) {                    window.PLOTLYENV=window.PLOTLYENV || {};                                    if (document.getElementById(\"cecb7f8e-f49f-47a5-bc72-2cbb348ea863\")) {                    Plotly.newPlot(                        \"cecb7f8e-f49f-47a5-bc72-2cbb348ea863\",                        [{\"coloraxis\":\"coloraxis\",\"name\":\"0\",\"texttemplate\":\"%{z}\",\"x\":[\"MSSubClass\",\"MSZoning\",\"LotFrontage\",\"LotArea\",\"Street\",\"LotShape\",\"LandContour\",\"Utilities\",\"LotConfig\",\"LandSlope\",\"Neighborhood\",\"Condition1\",\"Condition2\",\"BldgType\",\"HouseStyle\",\"OverallQual\",\"OverallCond\",\"YearBuilt\",\"YearRemodAdd\",\"RoofStyle\",\"RoofMatl\",\"Exterior1st\",\"Exterior2nd\",\"MasVnrType\",\"MasVnrArea\",\"ExterQual\",\"ExterCond\",\"Foundation\",\"BsmtQual\",\"BsmtCond\",\"BsmtExposure\",\"BsmtFinType1\",\"BsmtFinSF1\",\"BsmtFinType2\",\"BsmtFinSF2\",\"BsmtUnfSF\",\"TotalBsmtSF\",\"Heating\",\"HeatingQC\",\"CentralAir\",\"Electrical\",\"1stFlrSF\",\"2ndFlrSF\",\"LowQualFinSF\",\"GrLivArea\",\"BsmtFullBath\",\"BsmtHalfBath\",\"FullBath\",\"HalfBath\",\"BedroomAbvGr\",\"KitchenAbvGr\",\"KitchenQual\",\"TotRmsAbvGrd\",\"Functional\",\"Fireplaces\",\"FireplaceQu\",\"GarageType\",\"GarageYrBlt\",\"GarageFinish\",\"GarageCars\",\"GarageArea\",\"GarageQual\",\"GarageCond\",\"PavedDrive\",\"WoodDeckSF\",\"OpenPorchSF\",\"EnclosedPorch\",\"3SsnPorch\",\"ScreenPorch\",\"PoolArea\",\"MiscVal\",\"MoSold\",\"YrSold\",\"SaleType\",\"SaleCondition\",\"SalePrice\"],\"y\":[\"MSSubClass\",\"MSZoning\",\"LotFrontage\",\"LotArea\",\"Street\",\"LotShape\",\"LandContour\",\"Utilities\",\"LotConfig\",\"LandSlope\",\"Neighborhood\",\"Condition1\",\"Condition2\",\"BldgType\",\"HouseStyle\",\"OverallQual\",\"OverallCond\",\"YearBuilt\",\"YearRemodAdd\",\"RoofStyle\",\"RoofMatl\",\"Exterior1st\",\"Exterior2nd\",\"MasVnrType\",\"MasVnrArea\",\"ExterQual\",\"ExterCond\",\"Foundation\",\"BsmtQual\",\"BsmtCond\",\"BsmtExposure\",\"BsmtFinType1\",\"BsmtFinSF1\",\"BsmtFinType2\",\"BsmtFinSF2\",\"BsmtUnfSF\",\"TotalBsmtSF\",\"Heating\",\"HeatingQC\",\"CentralAir\",\"Electrical\",\"1stFlrSF\",\"2ndFlrSF\",\"LowQualFinSF\",\"GrLivArea\",\"BsmtFullBath\",\"BsmtHalfBath\",\"FullBath\",\"HalfBath\",\"BedroomAbvGr\",\"KitchenAbvGr\",\"KitchenQual\",\"TotRmsAbvGrd\",\"Functional\",\"Fireplaces\",\"FireplaceQu\",\"GarageType\",\"GarageYrBlt\",\"GarageFinish\",\"GarageCars\",\"GarageArea\",\"GarageQual\",\"GarageCond\",\"PavedDrive\",\"WoodDeckSF\",\"OpenPorchSF\",\"EnclosedPorch\",\"3SsnPorch\",\"ScreenPorch\",\"PoolArea\",\"MiscVal\",\"MoSold\",\"YrSold\",\"SaleType\",\"SaleCondition\",\"SalePrice\"],\"z\":[[1.0,0.13,-0.27,-0.27,-0.02,0.07,-0.0,-0.03,0.04,-0.02,-0.01,-0.01,-0.03,0.65,0.53,0.11,-0.07,0.04,0.01,-0.14,-0.02,-0.06,-0.09,-0.03,0.02,-0.05,0.01,0.08,-0.11,-0.03,-0.07,0.08,-0.11,0.08,-0.08,-0.12,-0.32,0.06,0.0,-0.11,0.05,-0.28,0.49,0.08,0.2,-0.04,0.0,0.19,0.28,0.07,0.28,-0.03,0.17,0.03,0.02,0.08,0.12,0.08,-0.02,0.02,-0.05,-0.03,-0.04,-0.06,0.02,0.03,0.01,-0.04,-0.02,0.03,-0.03,0.02,-0.03,0.05,-0.06,0.01],[0.13,1.0,-0.25,-0.22,0.04,0.15,0.01,-0.01,0.02,-0.03,-0.21,-0.07,0.02,0.1,-0.12,-0.21,0.19,-0.35,-0.2,-0.03,-0.01,0.01,0.03,-0.07,-0.1,0.24,-0.12,-0.26,0.18,-0.02,0.07,0.09,-0.13,0.01,-0.01,-0.02,-0.2,0.1,0.15,-0.12,-0.12,-0.17,-0.01,0.04,-0.16,-0.07,-0.01,-0.24,-0.14,-0.08,0.05,0.18,-0.09,-0.09,-0.09,-0.05,0.2,-0.27,0.23,-0.21,-0.25,-0.19,-0.12,-0.18,-0.07,-0.18,0.19,-0.02,-0.01,-0.01,0.0,-0.04,-0.02,0.13,-0.09,-0.33],[-0.27,-0.25,1.0,0.57,-0.03,-0.16,-0.0,0.0,-0.16,0.03,0.12,0.0,0.02,-0.37,0.11,0.24,-0.08,0.19,0.1,0.16,0.07,0.02,0.02,0.08,0.26,-0.16,0.08,0.11,-0.13,0.09,-0.14,-0.07,0.15,-0.05,0.05,0.1,0.35,-0.05,-0.07,0.12,0.1,0.39,0.05,-0.03,0.34,0.09,-0.01,0.21,0.1,0.29,-0.01,-0.16,0.33,0.03,0.23,0.09,-0.27,0.1,-0.26,0.34,0.35,0.09,0.07,0.15,0.11,0.16,-0.1,0.05,0.04,0.08,0.02,0.02,0.01,-0.09,0.11,0.39],[-0.27,-0.22,0.57,1.0,-0.05,-0.31,-0.08,0.04,-0.2,0.12,0.09,0.09,0.05,-0.43,0.06,0.23,-0.05,0.1,0.08,0.14,0.14,0.07,0.05,0.05,0.18,-0.13,0.03,0.05,-0.13,0.0,-0.18,-0.05,0.17,-0.07,0.07,0.08,0.37,-0.0,-0.07,0.11,0.08,0.44,0.12,-0.02,0.45,0.1,0.05,0.24,0.14,0.34,-0.02,-0.13,0.41,-0.04,0.35,0.12,-0.21,0.04,-0.21,0.34,0.37,0.04,0.03,0.07,0.18,0.18,-0.07,0.06,0.09,0.08,0.06,0.01,-0.03,-0.06,0.08,0.46],[-0.02,0.04,-0.03,-0.05,1.0,-0.01,0.12,0.0,0.01,-0.18,-0.01,-0.04,-0.0,-0.05,0.02,0.06,0.05,0.03,0.06,-0.02,0.01,-0.0,0.0,0.02,0.01,0.04,0.01,0.04,-0.03,-0.02,0.07,-0.01,-0.01,0.05,-0.04,0.04,0.01,0.01,-0.05,0.07,0.02,0.01,0.04,0.01,0.05,-0.04,0.02,0.05,0.03,0.03,0.01,-0.03,0.05,-0.02,0.01,0.0,0.0,0.04,-0.01,-0.03,-0.03,-0.01,-0.01,0.02,0.01,0.01,0.03,0.01,-0.02,0.0,-0.16,0.0,-0.02,0.01,0.02,0.05],[0.07,0.15,-0.16,-0.31,-0.01,1.0,0.12,-0.04,0.22,-0.09,-0.03,-0.11,0.01,0.14,-0.11,-0.2,0.02,-0.21,-0.13,0.01,-0.08,0.0,0.01,-0.07,-0.1,0.18,-0.02,-0.14,0.19,0.0,0.15,0.09,-0.13,0.03,-0.03,-0.0,-0.18,0.08,0.1,-0.11,-0.1,-0.17,-0.05,0.04,-0.18,-0.08,-0.03,-0.16,-0.12,-0.07,0.09,0.15,-0.12,-0.02,-0.21,-0.12,0.15,-0.17,0.24,-0.2,-0.19,-0.09,-0.07,-0.12,-0.17,-0.12,0.11,-0.04,-0.05,-0.02,-0.02,-0.04,0.04,0.02,-0.05,-0.31],[-0.0,0.01,-0.0,-0.08,0.12,0.12,1.0,0.01,-0.02,-0.52,0.04,0.03,-0.0,0.03,0.07,0.02,-0.03,0.12,0.06,0.01,-0.08,-0.01,-0.04,0.0,0.09,-0.02,0.01,0.04,-0.0,0.01,0.11,-0.05,-0.02,-0.03,0.03,0.03,0.01,0.02,-0.06,0.08,0.07,-0.04,-0.02,-0.05,-0.05,-0.02,-0.0,0.05,0.03,0.01,-0.04,0.03,-0.02,0.03,-0.06,0.02,-0.04,0.08,-0.06,0.01,0.02,-0.01,-0.0,0.13,-0.02,0.06,-0.06,-0.06,-0.01,-0.01,0.01,-0.03,0.02,-0.01,0.02,-0.01],[-0.03,-0.01,0.0,0.04,0.0,-0.04,0.01,1.0,-0.03,-0.01,0.04,0.0,0.0,-0.01,0.05,-0.0,0.02,-0.02,-0.03,-0.01,-0.0,-0.03,-0.03,-0.01,0.05,0.02,0.01,-0.02,0.03,0.01,0.02,-0.01,-0.01,-0.07,0.07,-0.01,-0.02,-0.0,0.01,0.01,-0.09,0.02,-0.02,-0.0,-0.01,-0.02,0.11,-0.03,-0.02,0.01,-0.01,-0.02,0.01,0.01,0.02,-0.01,0.02,-0.03,-0.01,0.01,0.01,0.01,0.01,0.01,-0.02,0.04,-0.01,-0.0,0.09,-0.0,-0.01,-0.04,0.02,-0.07,-0.06,-0.02],[0.04,0.02,-0.16,-0.2,0.01,0.22,-0.02,-0.03,1.0,0.01,-0.03,0.06,0.06,0.1,-0.04,-0.03,-0.04,0.01,0.0,-0.01,-0.07,0.02,0.0,0.01,-0.01,0.01,0.04,-0.01,0.02,0.04,0.03,0.02,-0.01,-0.0,0.0,-0.0,-0.04,-0.0,-0.0,-0.01,-0.03,-0.04,-0.04,-0.0,-0.07,-0.02,-0.01,-0.01,-0.03,-0.06,0.0,-0.0,-0.04,-0.02,-0.05,-0.04,0.0,-0.0,0.03,-0.08,-0.08,0.02,0.04,-0.06,-0.02,-0.04,-0.04,-0.02,0.01,-0.05,-0.02,0.02,-0.0,-0.01,0.05,-0.07],[-0.02,-0.03,0.03,0.12,-0.18,-0.09,-0.52,-0.01,0.01,1.0,-0.09,-0.02,-0.03,-0.04,-0.03,-0.05,0.02,-0.09,-0.07,-0.04,0.18,-0.04,-0.02,-0.01,-0.04,0.03,0.0,-0.04,0.0,-0.01,-0.17,-0.06,0.11,-0.06,0.06,-0.12,0.02,0.01,0.04,-0.01,-0.02,0.07,-0.0,0.01,0.04,0.09,0.06,-0.03,-0.0,-0.03,-0.04,-0.01,-0.03,-0.1,0.09,0.04,0.01,-0.09,0.03,0.0,0.01,0.01,-0.02,-0.03,0.07,-0.03,0.01,0.02,0.07,-0.02,0.04,-0.0,-0.01,0.07,-0.06,0.05],[-0.01,-0.21,0.12,0.09,-0.01,-0.03,0.04,0.04,-0.03,-0.09,1.0,-0.06,0.05,0.02,0.06,0.17,-0.04,0.12,0.1,0.11,-0.03,-0.09,-0.1,0.13,0.08,-0.14,0.03,0.06,-0.12,0.02,0.05,-0.03,0.09,-0.04,0.04,0.0,0.14,-0.01,-0.04,0.04,0.08,0.17,0.02,0.04,0.15,0.05,-0.02,0.14,0.06,0.04,0.06,-0.11,0.09,0.02,0.07,-0.02,-0.04,0.11,-0.07,0.19,0.21,-0.03,0.0,0.04,0.04,0.16,0.03,-0.03,-0.01,-0.01,-0.02,0.02,0.03,-0.09,0.07,0.17],[-0.01,-0.07,0.0,0.09,-0.04,-0.11,0.03,0.0,0.06,-0.02,-0.06,1.0,-0.09,-0.02,0.12,0.16,-0.04,0.21,0.17,-0.0,0.04,-0.02,-0.04,0.04,0.06,-0.12,0.09,0.12,-0.16,0.02,-0.06,-0.06,0.06,0.01,-0.01,0.03,0.09,-0.04,-0.09,0.04,0.11,0.07,-0.0,-0.06,0.08,0.04,-0.05,0.13,0.07,-0.0,-0.13,-0.09,0.06,-0.02,0.04,0.02,-0.08,0.17,-0.17,0.13,0.1,0.07,0.05,0.15,0.06,0.12,-0.1,0.06,0.02,-0.02,-0.02,0.02,-0.01,-0.04,0.08,0.19],[-0.03,0.02,0.02,0.05,-0.0,0.01,-0.0,0.0,0.06,-0.03,0.05,-0.09,1.0,0.0,-0.01,0.04,-0.01,0.08,0.04,0.04,0.0,0.0,-0.01,0.02,0.06,-0.04,-0.0,0.04,0.01,0.05,-0.01,-0.02,0.04,-0.04,0.05,0.0,0.07,0.0,-0.04,0.03,0.02,0.06,0.0,-0.1,0.03,0.02,0.0,0.05,0.05,0.01,0.0,-0.04,0.03,-0.0,0.04,0.0,0.01,0.03,-0.03,0.04,0.06,-0.0,0.07,0.02,0.04,0.03,-0.01,0.0,0.0,0.0,0.0,0.0,-0.03,-0.02,0.06,0.06],[0.65,0.1,-0.37,-0.43,-0.05,0.14,0.03,-0.01,0.1,-0.04,0.02,-0.02,0.0,1.0,0.08,-0.01,-0.18,0.15,0.05,-0.06,-0.03,-0.14,-0.16,0.05,0.07,-0.06,0.06,0.11,-0.1,0.02,-0.03,-0.02,0.01,0.03,-0.03,-0.1,-0.06,0.02,0.04,-0.06,0.04,-0.06,-0.06,0.01,-0.1,0.04,-0.02,0.09,-0.04,-0.24,0.38,0.01,-0.16,0.03,-0.12,-0.05,0.01,0.14,0.02,-0.01,-0.07,0.05,0.05,0.02,-0.02,-0.06,-0.11,-0.03,-0.04,-0.03,-0.04,-0.03,-0.0,-0.03,-0.03,-0.12],[0.53,-0.12,0.11,0.06,0.02,-0.11,0.07,0.05,-0.04,-0.03,0.06,0.12,-0.01,0.08,1.0,0.25,-0.06,0.29,0.17,-0.03,0.04,-0.08,-0.11,0.02,0.19,-0.13,0.07,0.21,-0.23,0.0,-0.18,-0.04,0.02,0.01,-0.02,-0.13,-0.17,-0.09,-0.08,0.08,0.18,-0.17,0.47,-0.05,0.27,0.05,0.03,0.25,0.42,0.21,-0.01,-0.12,0.26,0.07,0.11,0.17,-0.06,0.21,-0.23,0.22,0.18,0.05,-0.0,0.13,0.12,0.2,-0.12,-0.02,-0.04,0.07,-0.05,0.02,-0.02,0.02,0.03,0.25],[0.11,-0.21,0.24,0.23,0.06,-0.2,0.02,-0.0,-0.03,-0.05,0.17,0.16,0.04,-0.01,0.25,1.0,-0.18,0.65,0.56,0.13,0.05,0.11,0.11,0.31,0.41,-0.67,0.13,0.48,-0.6,0.02,-0.24,0.05,0.13,0.12,-0.12,0.27,0.46,-0.08,-0.46,0.25,0.25,0.41,0.29,-0.03,0.6,0.1,-0.05,0.58,0.3,0.12,-0.19,-0.57,0.43,0.17,0.42,0.1,-0.29,0.59,-0.56,0.61,0.54,0.09,0.14,0.23,0.26,0.44,-0.16,0.03,0.05,0.06,-0.09,0.06,-0.03,-0.2,0.29,0.81],[-0.07,0.19,-0.08,-0.05,0.05,0.02,-0.03,0.02,-0.04,0.02,-0.04,-0.04,-0.01,-0.18,-0.06,-0.18,1.0,-0.42,-0.04,-0.01,0.04,-0.05,-0.02,-0.13,-0.18,0.26,-0.23,-0.37,0.29,-0.01,0.08,-0.11,-0.01,-0.11,0.1,-0.13,-0.22,-0.06,0.1,0.1,0.05,-0.17,0.0,0.04,-0.15,-0.05,0.12,-0.26,-0.07,-0.0,-0.1,0.11,-0.1,0.06,-0.05,-0.03,0.16,-0.36,0.23,-0.25,-0.2,-0.1,-0.05,-0.08,-0.04,-0.13,0.11,0.03,0.07,-0.01,0.09,-0.01,0.05,0.17,-0.08,-0.13],[0.04,-0.35,0.19,0.1,0.03,-0.21,0.12,-0.02,0.01,-0.09,0.12,0.21,0.08,0.15,0.29,0.65,-0.42,1.0,0.68,0.05,-0.04,0.03,0.01,0.36,0.4,-0.64,0.26,0.69,-0.68,0.09,-0.31,-0.06,0.19,0.11,-0.11,0.14,0.43,-0.18,-0.47,0.34,0.35,0.29,0.03,-0.15,0.29,0.16,-0.07,0.54,0.24,-0.04,-0.16,-0.49,0.18,0.19,0.17,0.05,-0.39,0.85,-0.62,0.6,0.53,0.26,0.23,0.38,0.29,0.39,-0.41,0.02,-0.07,0.01,-0.09,0.02,-0.01,-0.29,0.38,0.65],[0.01,-0.2,0.1,0.08,0.06,-0.13,0.06,-0.03,0.0,-0.07,0.1,0.17,0.04,0.05,0.17,0.56,-0.04,0.68,1.0,0.04,-0.05,0.17,0.16,0.34,0.24,-0.59,0.08,0.5,-0.53,0.01,-0.22,0.03,0.06,0.13,-0.13,0.18,0.3,-0.14,-0.53,0.28,0.33,0.24,0.07,-0.06,0.28,0.1,-0.03,0.43,0.15,-0.05,-0.15,-0.56,0.2,0.1,0.12,-0.06,-0.23,0.7,-0.47,0.46,0.4,0.12,0.15,0.18,0.23,0.35,-0.24,0.05,-0.05,0.0,-0.09,0.02,0.05,-0.26,0.39,0.57],[-0.14,-0.03,0.16,0.14,-0.02,0.01,0.01,-0.01,-0.01,-0.04,0.11,-0.0,0.04,-0.06,-0.03,0.13,-0.01,0.05,0.04,1.0,-0.11,-0.03,-0.06,0.08,0.24,-0.12,0.03,0.02,-0.03,0.01,-0.01,-0.04,0.15,-0.0,0.0,0.02,0.22,-0.03,-0.02,0.01,0.03,0.25,-0.1,-0.03,0.12,0.09,0.01,0.01,-0.03,0.03,-0.0,-0.06,0.12,0.0,0.12,-0.02,-0.04,0.01,-0.12,0.12,0.12,0.04,-0.0,-0.0,0.07,-0.0,-0.03,0.02,0.06,0.02,0.02,0.01,0.02,-0.05,0.08,0.14],[-0.02,-0.01,0.07,0.14,0.01,-0.08,-0.08,-0.0,-0.07,0.18,-0.03,0.04,0.0,-0.03,0.04,0.05,0.04,-0.04,-0.05,-0.11,1.0,0.02,-0.0,-0.05,-0.02,0.0,-0.05,-0.04,-0.01,-0.04,-0.09,-0.02,0.03,-0.05,0.06,-0.03,0.05,0.02,0.05,0.01,0.0,0.11,-0.01,0.02,0.07,0.03,0.06,0.0,0.01,-0.01,-0.03,-0.01,0.0,-0.07,0.08,0.03,-0.03,-0.07,-0.0,0.04,0.05,-0.02,-0.06,0.04,0.04,0.02,-0.04,0.02,0.08,-0.01,-0.02,0.04,-0.03,0.05,-0.06,0.08],[-0.06,0.01,0.02,0.07,-0.0,0.0,-0.01,-0.03,0.02,-0.04,-0.09,-0.02,0.0,-0.14,-0.08,0.11,-0.05,0.03,0.17,-0.03,0.02,1.0,0.86,0.02,-0.02,-0.13,0.01,0.09,-0.1,-0.05,-0.04,0.17,-0.11,0.06,-0.06,0.12,0.0,-0.04,-0.21,-0.04,-0.03,-0.0,0.06,0.03,0.07,-0.03,-0.0,0.07,-0.04,0.0,-0.06,-0.12,0.06,-0.01,0.01,-0.02,0.03,0.12,-0.03,0.07,0.04,-0.04,0.0,-0.11,0.04,0.08,0.04,-0.03,-0.02,-0.01,-0.0,0.0,-0.04,-0.03,0.06,0.07],[-0.09,0.03,0.02,0.05,0.0,0.01,-0.04,-0.03,0.0,-0.02,-0.1,-0.04,-0.01,-0.16,-0.11,0.11,-0.02,0.01,0.16,-0.06,-0.0,0.86,1.0,0.04,-0.05,-0.12,0.02,0.09,-0.08,-0.05,-0.02,0.17,-0.13,0.06,-0.05,0.13,-0.0,-0.02,-0.2,-0.04,-0.08,-0.0,0.06,0.02,0.07,-0.04,-0.04,0.06,-0.04,0.0,-0.03,-0.11,0.07,-0.02,0.01,-0.04,0.05,0.1,-0.01,0.06,0.03,-0.06,-0.0,-0.09,0.01,0.05,0.03,-0.02,-0.01,-0.03,-0.01,-0.01,-0.03,-0.02,0.07,0.07],[-0.03,-0.07,0.08,0.05,0.02,-0.07,0.0,-0.01,0.01,-0.01,0.13,0.04,0.02,0.05,0.02,0.31,-0.13,0.36,0.34,0.08,-0.05,0.02,0.04,1.0,0.29,-0.32,0.1,0.23,-0.29,0.01,-0.17,-0.0,0.12,0.09,-0.09,0.09,0.26,-0.04,-0.23,0.07,0.06,0.22,-0.04,-0.04,0.16,0.11,-0.05,0.2,-0.04,-0.04,-0.03,-0.28,0.13,0.04,0.12,-0.12,-0.1,0.35,-0.22,0.28,0.25,0.06,0.03,0.08,0.11,0.16,-0.1,0.0,-0.01,0.01,-0.06,0.03,0.07,-0.22,0.27,0.3],[0.02,-0.1,0.26,0.18,0.01,-0.1,0.09,0.05,-0.01,-0.04,0.08,0.06,0.06,0.07,0.19,0.41,-0.18,0.4,0.24,0.24,-0.02,-0.02,-0.05,0.29,1.0,-0.32,0.11,0.22,-0.28,0.06,-0.15,-0.09,0.24,0.06,-0.06,0.08,0.36,-0.08,-0.17,0.18,0.15,0.35,0.06,-0.11,0.32,0.12,0.03,0.29,0.17,0.11,-0.05,-0.24,0.26,0.09,0.25,0.09,-0.24,0.3,-0.34,0.4,0.37,0.14,0.1,0.21,0.17,0.21,-0.18,0.04,0.04,0.0,-0.05,0.02,0.0,-0.13,0.14,0.42],[-0.05,0.24,-0.16,-0.13,0.04,0.18,-0.02,0.02,0.01,0.03,-0.14,-0.12,-0.04,-0.06,-0.13,-0.67,0.26,-0.64,-0.59,-0.12,0.0,-0.13,-0.12,-0.32,-0.32,1.0,-0.09,-0.54,0.58,0.01,0.23,-0.07,-0.09,-0.13,0.13,-0.24,-0.39,0.06,0.52,-0.12,-0.19,-0.31,-0.16,0.02,-0.42,-0.11,0.08,-0.48,-0.19,0.02,0.13,0.66,-0.28,-0.09,-0.23,0.0,0.24,-0.64,0.51,-0.51,-0.46,-0.09,-0.11,-0.15,-0.23,-0.38,0.16,-0.04,0.03,-0.03,0.05,-0.04,-0.01,0.25,-0.31,-0.63],[0.01,-0.12,0.08,0.03,0.01,-0.02,0.01,0.01,0.04,0.0,0.03,0.09,-0.0,0.06,0.07,0.13,-0.23,0.26,0.08,0.03,-0.05,0.01,0.02,0.1,0.11,-0.09,1.0,0.17,-0.16,0.21,-0.05,0.03,0.02,0.02,-0.02,0.07,0.13,-0.04,-0.04,0.08,0.0,0.06,0.0,-0.05,0.06,-0.0,-0.07,0.1,0.1,-0.03,-0.0,-0.04,0.03,0.03,0.05,0.0,-0.08,0.19,-0.15,0.17,0.13,0.02,0.03,0.12,0.03,0.06,-0.09,-0.0,-0.01,-0.03,-0.02,0.02,-0.03,-0.06,0.1,0.13],[0.08,-0.26,0.11,0.05,0.04,-0.14,0.04,-0.02,-0.01,-0.04,0.06,0.12,0.04,0.11,0.21,0.48,-0.37,0.69,0.5,0.02,-0.04,0.09,0.09,0.23,0.22,-0.54,0.17,1.0,-0.52,0.07,-0.19,0.09,0.05,0.16,-0.16,0.09,0.24,-0.11,-0.43,0.18,0.2,0.2,0.12,-0.07,0.29,0.07,-0.08,0.45,0.16,0.0,-0.04,-0.45,0.2,0.12,0.11,0.03,-0.27,0.64,-0.46,0.45,0.38,0.22,0.16,0.19,0.21,0.32,-0.25,0.03,-0.08,0.0,-0.06,0.0,-0.01,-0.14,0.25,0.49],[-0.11,0.18,-0.13,-0.13,-0.03,0.19,-0.0,0.03,0.02,0.0,-0.12,-0.16,0.01,-0.1,-0.23,-0.6,0.29,-0.68,-0.53,-0.03,-0.01,-0.1,-0.08,-0.29,-0.28,0.58,-0.16,-0.52,1.0,0.01,0.29,-0.04,-0.15,-0.15,0.15,-0.16,-0.35,0.09,0.42,-0.17,-0.19,-0.26,-0.14,0.08,-0.36,-0.15,0.06,-0.5,-0.2,0.07,0.15,0.48,-0.22,-0.09,-0.22,-0.07,0.24,-0.64,0.5,-0.53,-0.44,-0.05,-0.05,-0.19,-0.28,-0.35,0.19,-0.02,0.02,-0.02,0.06,-0.01,0.03,0.21,-0.3,-0.59],[-0.03,-0.02,0.09,0.0,-0.02,0.0,0.01,0.01,0.04,-0.01,0.02,0.02,0.05,0.02,0.0,0.02,-0.01,0.09,0.01,0.01,-0.04,-0.05,-0.05,0.01,0.06,0.01,0.21,0.07,0.01,1.0,-0.01,-0.06,0.06,0.03,-0.03,-0.02,0.03,-0.05,-0.03,0.12,0.09,0.01,-0.04,-0.04,-0.02,0.03,-0.06,0.01,0.04,-0.01,0.01,0.01,-0.02,0.06,0.01,0.02,-0.05,0.04,-0.05,0.04,0.04,0.03,0.14,0.1,0.0,0.01,-0.06,0.04,0.01,0.02,0.01,-0.03,0.09,0.05,-0.0,0.03],[-0.07,0.07,-0.14,-0.18,0.07,0.15,0.11,0.02,0.03,-0.17,0.05,-0.06,-0.01,-0.03,-0.18,-0.24,0.08,-0.31,-0.22,-0.01,-0.09,-0.04,-0.02,-0.17,-0.15,0.23,-0.05,-0.19,0.29,-0.01,1.0,0.17,-0.28,0.05,-0.04,0.09,-0.28,0.05,0.13,-0.1,-0.14,-0.24,0.13,0.07,-0.07,-0.28,-0.05,-0.1,0.07,0.08,0.08,0.2,-0.02,-0.08,-0.13,0.02,0.18,-0.25,0.24,-0.25,-0.25,-0.07,-0.04,-0.09,-0.28,-0.08,0.11,0.01,-0.01,-0.05,0.03,-0.02,0.06,0.1,-0.13,-0.29],[0.08,0.09,-0.07,-0.05,-0.01,0.09,-0.05,-0.01,0.02,-0.06,-0.03,-0.06,-0.02,-0.02,-0.04,0.05,-0.11,-0.06,0.03,-0.04,-0.02,0.17,0.17,-0.0,-0.09,-0.07,0.03,0.09,-0.04,-0.06,0.17,1.0,-0.7,0.24,-0.24,0.48,-0.18,0.05,-0.07,-0.16,-0.14,-0.1,0.19,0.09,0.12,-0.48,-0.12,0.11,0.02,0.09,0.14,-0.05,0.16,-0.02,-0.09,-0.05,0.15,0.06,0.05,-0.0,-0.06,-0.11,-0.11,-0.23,-0.1,0.01,0.12,-0.06,-0.05,-0.04,-0.05,0.04,-0.04,-0.1,0.05,-0.09],[-0.11,-0.13,0.15,0.17,-0.01,-0.13,-0.02,-0.01,-0.01,0.11,0.09,0.06,0.04,0.01,0.02,0.13,-0.01,0.19,0.06,0.15,0.03,-0.11,-0.13,0.12,0.24,-0.09,0.02,0.05,-0.15,0.06,-0.28,-0.7,1.0,-0.05,0.05,-0.57,0.41,-0.06,-0.03,0.19,0.17,0.32,-0.19,-0.08,0.06,0.67,0.09,0.01,-0.01,-0.08,-0.11,-0.09,-0.05,0.05,0.19,0.06,-0.24,0.07,-0.21,0.18,0.24,0.14,0.12,0.23,0.18,0.08,-0.15,0.05,0.07,0.06,0.01,-0.02,0.02,0.04,-0.0,0.3],[0.08,0.01,-0.05,-0.07,0.05,0.03,-0.03,-0.07,-0.0,-0.06,-0.04,0.01,-0.04,0.03,0.01,0.12,-0.11,0.11,0.13,-0.0,-0.05,0.06,0.06,0.09,0.06,-0.13,0.02,0.16,-0.15,0.03,0.05,0.24,-0.05,1.0,-0.99,0.27,-0.06,0.01,-0.13,-0.06,-0.03,-0.06,0.1,-0.0,0.06,-0.15,-0.13,0.11,0.05,-0.01,0.04,-0.11,0.06,0.11,-0.03,-0.05,0.01,0.15,-0.04,0.07,0.01,-0.03,0.01,-0.08,-0.07,0.07,-0.04,0.01,-0.05,-0.07,-0.04,0.03,-0.02,-0.06,0.08,0.04],[-0.08,-0.01,0.05,0.07,-0.04,-0.03,0.03,0.07,0.0,0.06,0.04,-0.01,0.05,-0.03,-0.02,-0.12,0.1,-0.11,-0.13,0.0,0.06,-0.06,-0.05,-0.09,-0.06,0.13,-0.02,-0.16,0.15,-0.03,-0.04,-0.24,0.05,-0.99,1.0,-0.27,0.07,-0.0,0.13,0.06,0.03,0.07,-0.1,0.0,-0.05,0.15,0.12,-0.11,-0.05,0.01,-0.04,0.1,-0.06,-0.11,0.03,0.05,-0.01,-0.15,0.04,-0.06,-0.01,0.03,-0.01,0.08,0.07,-0.07,0.04,-0.02,0.06,0.07,0.03,-0.03,0.03,0.06,-0.08,-0.04],[-0.12,-0.02,0.1,0.08,0.04,-0.0,0.03,-0.01,-0.0,-0.12,0.0,0.03,0.0,-0.1,-0.13,0.27,-0.13,0.14,0.18,0.02,-0.03,0.12,0.13,0.09,0.08,-0.24,0.07,0.09,-0.16,-0.02,0.09,0.48,-0.57,0.27,-0.27,1.0,0.33,-0.02,-0.19,0.01,-0.04,0.22,0.06,0.02,0.25,-0.45,-0.1,0.25,-0.0,0.16,0.0,-0.18,0.26,0.06,0.07,-0.04,-0.03,0.19,-0.09,0.16,0.11,-0.1,-0.03,-0.05,-0.03,0.16,0.04,0.01,-0.01,-0.04,-0.04,0.04,-0.04,-0.15,0.15,0.19],[-0.32,-0.2,0.35,0.37,0.01,-0.18,0.01,-0.02,-0.04,0.02,0.14,0.09,0.07,-0.06,-0.17,0.46,-0.22,0.43,0.3,0.22,0.05,0.0,-0.0,0.26,0.36,-0.39,0.13,0.24,-0.35,0.03,-0.28,-0.18,0.41,-0.06,0.07,0.33,1.0,-0.07,-0.24,0.22,0.16,0.83,-0.29,-0.08,0.37,0.3,0.0,0.33,-0.1,0.06,-0.02,-0.33,0.23,0.04,0.33,0.02,-0.37,0.32,-0.37,0.46,0.49,0.1,0.12,0.23,0.23,0.27,-0.17,0.05,0.09,0.05,-0.06,0.03,-0.02,-0.18,0.18,0.6],[0.06,0.1,-0.05,-0.0,0.01,0.08,0.02,-0.0,-0.0,0.01,-0.01,-0.04,0.0,0.02,-0.09,-0.08,-0.06,-0.18,-0.14,-0.03,0.02,-0.04,-0.02,-0.04,-0.08,0.06,-0.04,-0.11,0.09,-0.05,0.05,0.05,-0.06,0.01,-0.0,-0.02,-0.07,1.0,0.07,-0.42,-0.17,-0.03,0.05,0.02,0.0,-0.05,0.01,-0.02,-0.04,0.0,0.08,0.01,0.01,-0.07,-0.04,-0.02,0.1,-0.14,0.12,-0.06,-0.07,-0.1,-0.07,-0.18,-0.09,-0.05,0.09,-0.02,0.03,-0.01,-0.0,0.0,-0.01,0.01,-0.02,-0.11],[0.0,0.15,-0.07,-0.07,-0.05,0.1,-0.06,0.01,-0.0,0.04,-0.04,-0.09,-0.04,0.04,-0.08,-0.46,0.1,-0.47,-0.53,-0.02,0.05,-0.21,-0.2,-0.23,-0.17,0.52,-0.04,-0.43,0.42,-0.03,0.13,-0.07,-0.03,-0.13,0.13,-0.19,-0.24,0.07,1.0,-0.19,-0.16,-0.17,-0.13,0.02,-0.27,-0.08,0.05,-0.34,-0.11,0.03,0.16,0.47,-0.2,-0.08,-0.15,0.03,0.15,-0.49,0.4,-0.33,-0.27,-0.04,-0.07,-0.13,-0.16,-0.29,0.12,-0.07,0.06,0.03,0.03,-0.01,0.0,0.12,-0.26,-0.47],[-0.11,-0.12,0.12,0.11,0.07,-0.11,0.08,0.01,-0.01,-0.01,0.04,0.04,0.03,-0.06,0.08,0.25,0.1,0.34,0.28,0.01,0.01,-0.04,-0.04,0.07,0.18,-0.12,0.08,0.18,-0.17,0.12,-0.1,-0.16,0.19,-0.06,0.06,0.01,0.22,-0.42,-0.19,1.0,0.34,0.16,-0.02,-0.05,0.1,0.12,0.04,0.11,0.14,0.03,-0.25,-0.08,0.04,0.08,0.2,0.1,-0.18,0.23,-0.25,0.22,0.21,0.17,0.22,0.33,0.17,0.09,-0.19,0.03,0.04,0.02,-0.01,0.02,-0.01,-0.03,0.09,0.31],[0.05,-0.12,0.1,0.08,0.02,-0.1,0.07,-0.09,-0.03,-0.02,0.08,0.11,0.02,0.04,0.18,0.25,0.05,0.35,0.33,0.03,0.0,-0.03,-0.08,0.06,0.15,-0.19,0.0,0.2,-0.19,0.09,-0.14,-0.14,0.17,-0.03,0.03,-0.04,0.16,-0.17,-0.16,0.34,1.0,0.12,0.05,-0.03,0.14,0.13,0.02,0.21,0.14,0.08,-0.14,-0.12,0.1,0.06,0.14,0.09,-0.16,0.3,-0.24,0.25,0.25,0.12,0.15,0.23,0.18,0.15,-0.16,0.0,-0.0,0.02,0.03,-0.0,0.04,-0.05,0.12,0.3],[-0.28,-0.17,0.39,0.44,0.01,-0.17,-0.04,0.02,-0.04,0.07,0.17,0.07,0.06,-0.06,-0.17,0.41,-0.17,0.29,0.24,0.25,0.11,-0.0,-0.0,0.22,0.35,-0.31,0.06,0.2,-0.26,0.01,-0.24,-0.1,0.32,-0.06,0.07,0.22,0.83,-0.03,-0.17,0.16,0.12,1.0,-0.28,-0.04,0.49,0.24,0.02,0.37,-0.15,0.14,0.09,-0.29,0.36,-0.11,0.39,0.08,-0.34,0.22,-0.31,0.45,0.49,0.08,0.11,0.18,0.22,0.23,-0.13,0.06,0.11,0.07,-0.03,0.05,-0.02,-0.17,0.13,0.58],[0.49,-0.01,0.05,0.12,0.04,-0.05,-0.02,-0.02,-0.04,-0.0,0.02,-0.0,0.0,-0.06,0.47,0.29,0.0,0.03,0.07,-0.1,-0.01,0.06,0.06,-0.04,0.06,-0.16,0.0,0.12,-0.14,-0.04,0.13,0.19,-0.19,0.1,-0.1,0.06,-0.29,0.05,-0.13,-0.02,0.05,-0.28,1.0,0.06,0.64,-0.18,-0.03,0.38,0.63,0.51,0.05,-0.15,0.59,0.01,0.19,0.17,0.12,0.08,-0.12,0.16,0.1,-0.06,-0.02,-0.05,0.07,0.23,0.05,-0.02,0.01,0.06,-0.01,0.04,-0.02,0.04,0.03,0.29],[0.08,0.04,-0.03,-0.02,0.01,0.04,-0.05,-0.0,-0.0,0.01,0.04,-0.06,-0.1,0.01,-0.05,-0.03,0.04,-0.15,-0.06,-0.03,0.02,0.03,0.02,-0.04,-0.11,0.02,-0.05,-0.07,0.08,-0.04,0.07,0.09,-0.08,-0.0,0.0,0.02,-0.08,0.02,0.02,-0.05,-0.03,-0.04,0.06,1.0,0.06,-0.06,-0.01,0.0,-0.02,0.02,-0.0,0.03,0.04,-0.05,-0.04,-0.03,0.1,-0.02,0.09,-0.07,-0.05,-0.02,-0.03,-0.09,-0.04,0.01,0.05,0.02,-0.02,0.07,0.03,-0.0,-0.04,0.04,-0.06,-0.07],[0.2,-0.16,0.34,0.45,0.05,-0.18,-0.05,-0.01,-0.07,0.04,0.15,0.08,0.03,-0.1,0.27,0.6,-0.15,0.29,0.28,0.12,0.07,0.07,0.07,0.16,0.32,-0.42,0.06,0.29,-0.36,-0.02,-0.07,0.12,0.06,0.06,-0.05,0.25,0.37,0.0,-0.27,0.1,0.14,0.49,0.64,0.06,1.0,0.01,-0.03,0.66,0.44,0.54,0.12,-0.38,0.83,-0.07,0.48,0.21,-0.18,0.28,-0.38,0.51,0.47,0.02,0.06,0.09,0.23,0.4,-0.05,0.03,0.09,0.07,-0.05,0.08,-0.03,-0.11,0.14,0.73],[-0.04,-0.07,0.09,0.1,-0.04,-0.08,-0.02,-0.02,-0.02,0.09,0.05,0.04,0.02,0.04,0.05,0.1,-0.05,0.16,0.1,0.09,0.03,-0.03,-0.04,0.11,0.12,-0.11,-0.0,0.07,-0.15,0.03,-0.28,-0.48,0.67,-0.15,0.15,-0.45,0.3,-0.05,-0.08,0.12,0.13,0.24,-0.18,-0.06,0.01,1.0,-0.15,-0.06,-0.04,-0.12,-0.06,-0.12,-0.07,0.03,0.12,0.04,-0.17,0.09,-0.17,0.14,0.2,0.09,0.06,0.13,0.17,0.09,-0.07,0.01,0.03,0.07,-0.01,-0.03,0.06,0.03,0.01,0.23],[0.0,-0.01,-0.01,0.05,0.02,-0.03,-0.0,0.11,-0.01,0.06,-0.02,-0.05,0.0,-0.02,0.03,-0.05,0.12,-0.07,-0.03,0.01,0.06,-0.0,-0.04,-0.05,0.03,0.08,-0.07,-0.08,0.06,-0.06,-0.05,-0.12,0.09,-0.13,0.12,-0.1,0.0,0.01,0.05,0.04,0.02,0.02,-0.03,-0.01,-0.03,-0.15,1.0,-0.05,-0.03,0.05,-0.02,0.03,-0.03,-0.03,0.03,0.01,-0.01,-0.1,0.04,-0.03,-0.02,0.04,0.03,0.03,0.05,-0.04,-0.04,0.06,0.04,0.03,0.03,0.04,-0.04,0.03,-0.07,-0.01],[0.19,-0.24,0.21,0.24,0.05,-0.16,0.05,-0.03,-0.01,-0.03,0.14,0.13,0.05,0.09,0.25,0.58,-0.26,0.54,0.43,0.01,0.0,0.07,0.06,0.2,0.29,-0.48,0.1,0.45,-0.5,0.01,-0.1,0.11,0.01,0.11,-0.11,0.25,0.33,-0.02,-0.34,0.11,0.21,0.37,0.38,0.0,0.66,-0.06,-0.05,1.0,0.16,0.34,0.15,-0.4,0.56,0.03,0.27,0.17,-0.25,0.53,-0.44,0.52,0.44,0.09,0.12,0.14,0.23,0.37,-0.16,0.04,-0.04,0.04,-0.05,0.07,-0.01,-0.15,0.21,0.64],[0.28,-0.14,0.1,0.14,0.03,-0.12,0.03,-0.02,-0.03,-0.0,0.06,0.07,0.05,-0.04,0.42,0.3,-0.07,0.24,0.15,-0.03,0.01,-0.04,-0.04,-0.04,0.17,-0.19,0.1,0.16,-0.2,0.04,0.07,0.02,-0.01,0.05,-0.05,-0.0,-0.1,-0.04,-0.11,0.14,0.14,-0.15,0.63,-0.02,0.44,-0.04,-0.03,0.16,1.0,0.28,-0.1,-0.16,0.36,0.07,0.22,0.17,-0.06,0.19,-0.25,0.23,0.16,0.04,0.07,0.11,0.11,0.27,-0.13,-0.0,0.06,0.03,-0.03,-0.0,-0.01,-0.01,0.09,0.34],[0.07,-0.08,0.29,0.34,0.03,-0.07,0.01,0.01,-0.06,-0.03,0.04,-0.0,0.01,-0.24,0.21,0.12,-0.0,-0.04,-0.05,0.03,-0.01,0.0,0.0,-0.04,0.11,0.02,-0.03,0.0,0.07,-0.01,0.08,0.09,-0.08,-0.01,0.01,0.16,0.06,0.0,0.03,0.03,0.08,0.14,0.51,0.02,0.54,-0.12,0.05,0.34,0.28,1.0,0.17,0.01,0.67,-0.03,0.14,0.11,-0.03,-0.05,-0.02,0.12,0.11,0.03,0.01,-0.01,0.06,0.1,0.0,-0.02,0.03,0.07,0.01,0.05,-0.03,0.05,-0.03,0.23],[0.28,0.05,-0.01,-0.02,0.01,0.09,-0.04,-0.01,0.0,-0.04,0.06,-0.13,0.0,0.38,-0.01,-0.19,-0.1,-0.16,-0.15,-0.0,-0.03,-0.06,-0.03,-0.03,-0.05,0.13,-0.0,-0.04,0.15,0.01,0.08,0.14,-0.11,0.04,-0.04,0.0,-0.02,0.08,0.16,-0.25,-0.14,0.09,0.05,-0.0,0.12,-0.06,-0.02,0.15,-0.1,0.17,1.0,0.15,0.22,-0.04,-0.14,-0.04,0.08,-0.1,0.18,-0.03,-0.03,-0.08,-0.06,-0.14,-0.1,-0.11,0.04,-0.03,-0.05,-0.01,0.03,0.03,0.03,0.01,-0.11,-0.16],[-0.03,0.18,-0.16,-0.13,-0.03,0.15,0.03,-0.02,-0.0,-0.01,-0.11,-0.09,-0.04,0.01,-0.12,-0.57,0.11,-0.49,-0.56,-0.06,-0.01,-0.12,-0.11,-0.28,-0.24,0.66,-0.04,-0.45,0.48,0.01,0.2,-0.05,-0.09,-0.11,0.1,-0.18,-0.33,0.01,0.47,-0.08,-0.12,-0.29,-0.15,0.03,-0.38,-0.12,0.03,-0.4,-0.16,0.01,0.15,1.0,-0.24,-0.1,-0.22,0.05,0.19,-0.51,0.4,-0.41,-0.39,-0.04,-0.08,-0.08,-0.22,-0.34,0.11,-0.03,0.01,-0.06,0.07,-0.05,-0.01,0.19,-0.26,-0.57],[0.17,-0.09,0.33,0.41,0.05,-0.12,-0.02,0.01,-0.04,-0.03,0.09,0.06,0.03,-0.16,0.26,0.43,-0.1,0.18,0.2,0.12,0.0,0.06,0.07,0.13,0.26,-0.28,0.03,0.2,-0.22,-0.02,-0.02,0.16,-0.05,0.06,-0.06,0.26,0.23,0.01,-0.2,0.04,0.1,0.36,0.59,0.04,0.83,-0.07,-0.03,0.56,0.36,0.67,0.22,-0.24,1.0,-0.04,0.35,0.15,-0.11,0.19,-0.26,0.39,0.33,-0.0,0.01,0.0,0.16,0.29,-0.03,-0.0,0.03,0.06,-0.02,0.04,-0.04,-0.1,0.1,0.53],[0.03,-0.09,0.03,-0.04,-0.02,-0.02,0.03,0.01,-0.02,-0.1,0.02,-0.02,-0.0,0.03,0.07,0.17,0.06,0.19,0.1,0.0,-0.07,-0.01,-0.02,0.04,0.09,-0.09,0.03,0.12,-0.09,0.06,-0.08,-0.02,0.05,0.11,-0.11,0.06,0.04,-0.07,-0.08,0.08,0.06,-0.11,0.01,-0.05,-0.07,0.03,-0.03,0.03,0.07,-0.03,-0.04,-0.1,-0.04,1.0,-0.02,-0.07,-0.08,0.16,-0.13,0.09,0.06,0.04,0.03,0.05,0.01,0.08,-0.04,0.01,-0.04,0.02,-0.09,0.02,-0.04,-0.05,0.06,0.14],[0.02,-0.09,0.23,0.35,0.01,-0.21,-0.06,0.02,-0.05,0.09,0.07,0.04,0.04,-0.12,0.11,0.42,-0.05,0.17,0.12,0.12,0.08,0.01,0.01,0.12,0.25,-0.23,0.05,0.11,-0.22,0.01,-0.13,-0.09,0.19,-0.03,0.03,0.07,0.33,-0.04,-0.15,0.2,0.14,0.39,0.19,-0.04,0.48,0.12,0.03,0.27,0.22,0.14,-0.14,-0.22,0.35,-0.02,1.0,0.39,-0.21,0.09,-0.33,0.33,0.26,0.03,0.09,0.13,0.21,0.22,-0.06,0.04,0.18,0.08,-0.01,0.04,-0.03,-0.03,0.12,0.52],[0.08,-0.05,0.09,0.12,0.0,-0.12,0.02,-0.01,-0.04,0.04,-0.02,0.02,0.0,-0.05,0.17,0.1,-0.03,0.05,-0.06,-0.02,0.03,-0.02,-0.04,-0.12,0.09,0.0,0.0,0.03,-0.07,0.02,0.02,-0.05,0.06,-0.05,0.05,-0.04,0.02,-0.02,0.03,0.1,0.09,0.08,0.17,-0.03,0.21,0.04,0.01,0.17,0.17,0.11,-0.04,0.05,0.15,-0.07,0.39,1.0,-0.14,0.0,-0.15,0.12,0.09,0.02,0.07,0.09,0.08,0.11,-0.04,0.02,0.05,-0.0,0.08,-0.02,-0.01,0.12,-0.06,0.17],[0.12,0.2,-0.27,-0.21,0.0,0.15,-0.04,0.02,0.0,0.01,-0.04,-0.08,0.01,0.01,-0.06,-0.29,0.16,-0.39,-0.23,-0.04,-0.03,0.03,0.05,-0.1,-0.24,0.24,-0.08,-0.27,0.24,-0.05,0.18,0.15,-0.24,0.01,-0.01,-0.03,-0.37,0.1,0.15,-0.18,-0.16,-0.34,0.12,0.1,-0.18,-0.17,-0.01,-0.25,-0.06,-0.03,0.08,0.19,-0.11,-0.08,-0.21,-0.14,1.0,-0.29,0.41,-0.15,-0.14,-0.21,-0.21,-0.16,-0.2,-0.19,0.19,-0.05,-0.01,-0.03,0.02,0.02,0.01,0.08,-0.1,-0.37],[0.08,-0.27,0.1,0.04,0.04,-0.17,0.08,-0.03,-0.0,-0.09,0.11,0.17,0.03,0.14,0.21,0.59,-0.36,0.85,0.7,0.01,-0.07,0.12,0.1,0.35,0.3,-0.64,0.19,0.64,-0.64,0.04,-0.25,0.06,0.07,0.15,-0.15,0.19,0.32,-0.14,-0.49,0.23,0.3,0.22,0.08,-0.02,0.28,0.09,-0.1,0.53,0.19,-0.05,-0.1,-0.51,0.19,0.16,0.09,0.0,-0.29,1.0,-0.53,0.57,0.55,0.24,0.22,0.22,0.27,0.39,-0.3,0.02,-0.1,-0.01,-0.06,0.01,-0.01,-0.29,0.37,0.57],[-0.02,0.23,-0.26,-0.21,-0.01,0.24,-0.06,-0.01,0.03,0.03,-0.07,-0.17,-0.03,0.02,-0.23,-0.56,0.23,-0.62,-0.47,-0.12,-0.0,-0.03,-0.01,-0.22,-0.34,0.51,-0.15,-0.46,0.5,-0.05,0.24,0.05,-0.21,-0.04,0.04,-0.09,-0.37,0.12,0.4,-0.25,-0.24,-0.31,-0.12,0.09,-0.38,-0.17,0.04,-0.44,-0.25,-0.02,0.18,0.4,-0.26,-0.13,-0.33,-0.15,0.41,-0.53,1.0,-0.49,-0.43,-0.16,-0.14,-0.24,-0.28,-0.35,0.23,-0.04,-0.02,-0.03,0.02,0.01,-0.01,0.17,-0.25,-0.62],[0.02,-0.21,0.34,0.34,-0.03,-0.2,0.01,0.01,-0.08,0.0,0.19,0.13,0.04,-0.01,0.22,0.61,-0.25,0.6,0.46,0.12,0.04,0.07,0.06,0.28,0.4,-0.51,0.17,0.45,-0.53,0.04,-0.25,-0.0,0.18,0.07,-0.06,0.16,0.46,-0.06,-0.33,0.22,0.25,0.45,0.16,-0.07,0.51,0.14,-0.03,0.52,0.23,0.12,-0.03,-0.41,0.39,0.09,0.33,0.12,-0.15,0.57,-0.49,1.0,0.85,0.12,0.1,0.26,0.26,0.34,-0.21,0.04,0.03,0.02,-0.06,0.04,-0.04,-0.2,0.27,0.69],[-0.05,-0.25,0.35,0.37,-0.03,-0.19,0.02,0.01,-0.08,0.01,0.21,0.1,0.06,-0.07,0.18,0.54,-0.2,0.53,0.4,0.12,0.05,0.04,0.03,0.25,0.37,-0.46,0.13,0.38,-0.44,0.04,-0.25,-0.06,0.24,0.01,-0.01,0.11,0.49,-0.07,-0.27,0.21,0.25,0.49,0.1,-0.05,0.47,0.2,-0.02,0.44,0.16,0.11,-0.03,-0.39,0.33,0.06,0.26,0.09,-0.14,0.55,-0.43,0.85,1.0,0.13,0.12,0.25,0.25,0.34,-0.18,0.04,0.03,0.04,-0.04,0.03,-0.02,-0.19,0.24,0.65],[-0.03,-0.19,0.09,0.04,-0.01,-0.09,-0.01,0.01,0.02,0.01,-0.03,0.07,-0.0,0.05,0.05,0.09,-0.1,0.26,0.12,0.04,-0.02,-0.04,-0.06,0.06,0.14,-0.09,0.02,0.22,-0.05,0.03,-0.07,-0.11,0.14,-0.03,0.03,-0.1,0.1,-0.1,-0.04,0.17,0.12,0.08,-0.06,-0.02,0.02,0.09,0.04,0.09,0.04,0.03,-0.08,-0.04,-0.0,0.04,0.03,0.02,-0.21,0.24,-0.16,0.12,0.13,1.0,0.53,0.17,0.07,0.05,-0.14,-0.02,-0.01,-0.03,-0.05,0.01,0.05,-0.06,0.06,0.14],[-0.04,-0.12,0.07,0.03,-0.01,-0.07,-0.0,0.01,0.04,-0.02,0.0,0.05,0.07,0.05,-0.0,0.14,-0.05,0.23,0.15,-0.0,-0.06,0.0,-0.0,0.03,0.1,-0.11,0.03,0.16,-0.05,0.14,-0.04,-0.11,0.12,0.01,-0.01,-0.03,0.12,-0.07,-0.07,0.22,0.15,0.11,-0.02,-0.03,0.06,0.06,0.03,0.12,0.07,0.01,-0.06,-0.08,0.01,0.03,0.09,0.07,-0.21,0.22,-0.14,0.1,0.12,0.53,1.0,0.21,0.09,0.07,-0.15,-0.0,0.03,-0.04,-0.02,-0.01,0.03,-0.04,0.06,0.17],[-0.06,-0.18,0.15,0.07,0.02,-0.12,0.13,0.01,-0.06,-0.03,0.04,0.15,0.02,0.02,0.13,0.23,-0.08,0.38,0.18,-0.0,0.04,-0.11,-0.09,0.08,0.21,-0.15,0.12,0.19,-0.19,0.1,-0.09,-0.23,0.23,-0.08,0.08,-0.05,0.23,-0.18,-0.13,0.33,0.23,0.18,-0.05,-0.09,0.09,0.13,0.03,0.14,0.11,-0.01,-0.14,-0.08,0.0,0.05,0.13,0.09,-0.16,0.22,-0.24,0.26,0.25,0.17,0.21,1.0,0.13,0.09,-0.25,0.02,0.04,0.02,-0.01,0.01,0.01,-0.06,0.08,0.28],[0.02,-0.07,0.11,0.18,0.01,-0.17,-0.02,-0.02,-0.02,0.07,0.04,0.06,0.04,-0.02,0.12,0.26,-0.04,0.29,0.23,0.07,0.04,0.04,0.01,0.11,0.17,-0.23,0.03,0.21,-0.28,0.0,-0.28,-0.1,0.18,-0.07,0.07,-0.03,0.23,-0.09,-0.16,0.17,0.18,0.22,0.07,-0.04,0.23,0.17,0.05,0.23,0.11,0.06,-0.1,-0.22,0.16,0.01,0.21,0.08,-0.2,0.27,-0.28,0.26,0.25,0.07,0.09,0.13,1.0,0.12,-0.16,-0.03,-0.09,0.05,0.02,0.04,0.02,0.0,0.07,0.35],[0.03,-0.18,0.16,0.18,0.01,-0.12,0.06,0.04,-0.04,-0.03,0.16,0.12,0.03,-0.06,0.2,0.44,-0.13,0.39,0.35,-0.0,0.02,0.08,0.05,0.16,0.21,-0.38,0.06,0.32,-0.35,0.01,-0.08,0.01,0.08,0.07,-0.07,0.16,0.27,-0.05,-0.29,0.09,0.15,0.23,0.23,0.01,0.4,0.09,-0.04,0.37,0.27,0.1,-0.11,-0.34,0.29,0.08,0.22,0.11,-0.19,0.39,-0.35,0.34,0.34,0.05,0.07,0.09,0.12,1.0,-0.17,0.02,0.01,0.04,-0.03,0.07,-0.06,-0.12,0.19,0.48],[0.01,0.19,-0.1,-0.07,0.03,0.11,-0.06,-0.01,-0.04,0.01,0.03,-0.1,-0.01,-0.11,-0.12,-0.16,0.11,-0.41,-0.24,-0.03,-0.04,0.04,0.03,-0.1,-0.18,0.16,-0.09,-0.25,0.19,-0.06,0.11,0.12,-0.15,-0.04,0.04,0.04,-0.17,0.09,0.12,-0.19,-0.16,-0.13,0.05,0.05,-0.05,-0.07,-0.04,-0.16,-0.13,0.0,0.04,0.11,-0.03,-0.04,-0.06,-0.04,0.19,-0.3,0.23,-0.21,-0.18,-0.14,-0.15,-0.25,-0.16,-0.17,1.0,-0.04,-0.08,0.0,0.04,-0.03,0.0,0.06,-0.11,-0.22],[-0.04,-0.02,0.05,0.06,0.01,-0.04,-0.06,-0.0,-0.02,0.02,-0.03,0.06,0.0,-0.03,-0.02,0.03,0.03,0.02,0.05,0.02,0.02,-0.03,-0.02,0.0,0.04,-0.04,-0.0,0.03,-0.02,0.04,0.01,-0.06,0.05,0.01,-0.02,0.01,0.05,-0.02,-0.07,0.03,0.0,0.06,-0.02,0.02,0.03,0.01,0.06,0.04,-0.0,-0.02,-0.03,-0.03,-0.0,0.01,0.04,0.02,-0.05,0.02,-0.04,0.04,0.04,-0.02,-0.0,0.02,-0.03,0.02,-0.04,1.0,-0.04,-0.01,0.0,0.04,0.01,-0.03,0.03,0.07],[-0.02,-0.01,0.04,0.09,-0.02,-0.05,-0.01,0.09,0.01,0.07,-0.01,0.02,0.0,-0.04,-0.04,0.05,0.07,-0.07,-0.05,0.06,0.08,-0.02,-0.01,-0.01,0.04,0.03,-0.01,-0.08,0.02,0.01,-0.01,-0.05,0.07,-0.05,0.06,-0.01,0.09,0.03,0.06,0.04,-0.0,0.11,0.01,-0.02,0.09,0.03,0.04,-0.04,0.06,0.03,-0.05,0.01,0.03,-0.04,0.18,0.05,-0.01,-0.1,-0.02,0.03,0.03,-0.01,0.03,0.04,-0.09,0.01,-0.08,-0.04,1.0,0.02,0.02,0.02,0.02,0.02,-0.02,0.1],[0.03,-0.01,0.08,0.08,0.0,-0.02,-0.01,-0.0,-0.05,-0.02,-0.01,-0.02,0.0,-0.03,0.07,0.06,-0.01,0.01,0.0,0.02,-0.01,-0.01,-0.03,0.01,0.0,-0.03,-0.03,0.0,-0.02,0.02,-0.05,-0.04,0.06,-0.07,0.07,-0.04,0.05,-0.01,0.03,0.02,0.02,0.07,0.06,0.07,0.07,0.07,0.03,0.04,0.03,0.07,-0.01,-0.06,0.06,0.02,0.08,-0.0,-0.03,-0.01,-0.03,0.02,0.04,-0.03,-0.04,0.02,0.05,0.04,0.0,-0.01,0.02,1.0,0.04,-0.02,-0.06,-0.0,-0.05,0.06],[-0.03,0.0,0.02,0.06,-0.16,-0.02,0.01,-0.01,-0.02,0.04,-0.02,-0.02,0.0,-0.04,-0.05,-0.09,0.09,-0.09,-0.09,0.02,-0.02,-0.0,-0.01,-0.06,-0.05,0.05,-0.02,-0.06,0.06,0.01,0.03,-0.05,0.01,-0.04,0.03,-0.04,-0.06,-0.0,0.03,-0.01,0.03,-0.03,-0.01,0.03,-0.05,-0.01,0.03,-0.05,-0.03,0.01,0.03,0.07,-0.02,-0.09,-0.01,0.08,0.02,-0.06,0.02,-0.06,-0.04,-0.05,-0.02,-0.01,0.02,-0.03,0.04,0.0,0.02,0.04,1.0,0.01,0.06,0.03,-0.02,-0.06],[0.02,-0.04,0.02,0.01,0.0,-0.04,-0.03,-0.04,0.02,-0.0,0.02,0.02,0.0,-0.03,0.02,0.06,-0.01,0.02,0.02,0.01,0.04,0.0,-0.01,0.03,0.02,-0.04,0.02,0.0,-0.01,-0.03,-0.02,0.04,-0.02,0.03,-0.03,0.04,0.03,0.0,-0.01,0.02,-0.0,0.05,0.04,-0.0,0.08,-0.03,0.04,0.07,-0.0,0.05,0.03,-0.05,0.04,0.02,0.04,-0.02,0.02,0.01,0.01,0.04,0.03,0.01,-0.01,0.01,0.04,0.07,-0.03,0.04,0.02,-0.02,0.01,1.0,-0.15,-0.1,0.06,0.07],[-0.03,-0.02,0.01,-0.03,-0.02,0.04,0.02,0.02,-0.0,-0.01,0.03,-0.01,-0.03,-0.0,-0.02,-0.03,0.05,-0.01,0.05,0.02,-0.03,-0.04,-0.03,0.07,0.0,-0.01,-0.03,-0.01,0.03,0.09,0.06,-0.04,0.02,-0.02,0.03,-0.04,-0.02,-0.01,0.0,-0.01,0.04,-0.02,-0.02,-0.04,-0.03,0.06,-0.04,-0.01,-0.01,-0.03,0.03,-0.01,-0.04,-0.04,-0.03,-0.01,0.01,-0.01,-0.01,-0.04,-0.02,0.05,0.03,0.01,0.02,-0.06,0.0,0.01,0.02,-0.06,0.06,-0.15,1.0,0.07,-0.05,-0.03],[0.05,0.13,-0.09,-0.06,0.01,0.02,-0.01,-0.07,-0.01,0.07,-0.09,-0.04,-0.02,-0.03,0.02,-0.2,0.17,-0.29,-0.26,-0.05,0.05,-0.03,-0.02,-0.22,-0.13,0.25,-0.06,-0.14,0.21,0.05,0.1,-0.1,0.04,-0.06,0.06,-0.15,-0.18,0.01,0.12,-0.03,-0.05,-0.17,0.04,0.04,-0.11,0.03,0.03,-0.15,-0.01,0.05,0.01,0.19,-0.1,-0.05,-0.03,0.12,0.08,-0.29,0.17,-0.2,-0.19,-0.06,-0.04,-0.06,0.0,-0.12,0.06,-0.03,0.02,-0.0,0.03,-0.1,0.07,1.0,-0.4,-0.18],[-0.06,-0.09,0.11,0.08,0.02,-0.05,0.02,-0.06,0.05,-0.06,0.07,0.08,0.06,-0.03,0.03,0.29,-0.08,0.38,0.39,0.08,-0.06,0.06,0.07,0.27,0.14,-0.31,0.1,0.25,-0.3,-0.0,-0.13,0.05,-0.0,0.08,-0.08,0.15,0.18,-0.02,-0.26,0.09,0.12,0.13,0.03,-0.06,0.14,0.01,-0.07,0.21,0.09,-0.03,-0.11,-0.26,0.1,0.06,0.12,-0.06,-0.1,0.37,-0.25,0.27,0.24,0.06,0.06,0.08,0.07,0.19,-0.11,0.03,-0.02,-0.05,-0.02,0.06,-0.05,-0.4,1.0,0.32],[0.01,-0.33,0.39,0.46,0.05,-0.31,-0.01,-0.02,-0.07,0.05,0.17,0.19,0.06,-0.12,0.25,0.81,-0.13,0.65,0.57,0.14,0.08,0.07,0.07,0.3,0.42,-0.63,0.13,0.49,-0.59,0.03,-0.29,-0.09,0.3,0.04,-0.04,0.19,0.6,-0.11,-0.47,0.31,0.3,0.58,0.29,-0.07,0.73,0.23,-0.01,0.64,0.34,0.23,-0.16,-0.57,0.53,0.14,0.52,0.17,-0.37,0.57,-0.62,0.69,0.65,0.14,0.17,0.28,0.35,0.48,-0.22,0.07,0.1,0.06,-0.06,0.07,-0.03,-0.18,0.32,1.0]],\"type\":\"heatmap\",\"xaxis\":\"x\",\"yaxis\":\"y\",\"hovertemplate\":\"x: %{x}\\u003cbr\\u003ey: %{y}\\u003cbr\\u003ecolor: %{z}\\u003cextra\\u003e\\u003c\\u002fextra\\u003e\"}],                        {\"template\":{\"data\":{\"histogram2dcontour\":[{\"type\":\"histogram2dcontour\",\"colorbar\":{\"outlinewidth\":0,\"ticks\":\"\"},\"colorscale\":[[0.0,\"#0d0887\"],[0.1111111111111111,\"#46039f\"],[0.2222222222222222,\"#7201a8\"],[0.3333333333333333,\"#9c179e\"],[0.4444444444444444,\"#bd3786\"],[0.5555555555555556,\"#d8576b\"],[0.6666666666666666,\"#ed7953\"],[0.7777777777777778,\"#fb9f3a\"],[0.8888888888888888,\"#fdca26\"],[1.0,\"#f0f921\"]]}],\"choropleth\":[{\"type\":\"choropleth\",\"colorbar\":{\"outlinewidth\":0,\"ticks\":\"\"}}],\"histogram2d\":[{\"type\":\"histogram2d\",\"colorbar\":{\"outlinewidth\":0,\"ticks\":\"\"},\"colorscale\":[[0.0,\"#0d0887\"],[0.1111111111111111,\"#46039f\"],[0.2222222222222222,\"#7201a8\"],[0.3333333333333333,\"#9c179e\"],[0.4444444444444444,\"#bd3786\"],[0.5555555555555556,\"#d8576b\"],[0.6666666666666666,\"#ed7953\"],[0.7777777777777778,\"#fb9f3a\"],[0.8888888888888888,\"#fdca26\"],[1.0,\"#f0f921\"]]}],\"heatmap\":[{\"type\":\"heatmap\",\"colorbar\":{\"outlinewidth\":0,\"ticks\":\"\"},\"colorscale\":[[0.0,\"#0d0887\"],[0.1111111111111111,\"#46039f\"],[0.2222222222222222,\"#7201a8\"],[0.3333333333333333,\"#9c179e\"],[0.4444444444444444,\"#bd3786\"],[0.5555555555555556,\"#d8576b\"],[0.6666666666666666,\"#ed7953\"],[0.7777777777777778,\"#fb9f3a\"],[0.8888888888888888,\"#fdca26\"],[1.0,\"#f0f921\"]]}],\"heatmapgl\":[{\"type\":\"heatmapgl\",\"colorbar\":{\"outlinewidth\":0,\"ticks\":\"\"},\"colorscale\":[[0.0,\"#0d0887\"],[0.1111111111111111,\"#46039f\"],[0.2222222222222222,\"#7201a8\"],[0.3333333333333333,\"#9c179e\"],[0.4444444444444444,\"#bd3786\"],[0.5555555555555556,\"#d8576b\"],[0.6666666666666666,\"#ed7953\"],[0.7777777777777778,\"#fb9f3a\"],[0.8888888888888888,\"#fdca26\"],[1.0,\"#f0f921\"]]}],\"contourcarpet\":[{\"type\":\"contourcarpet\",\"colorbar\":{\"outlinewidth\":0,\"ticks\":\"\"}}],\"contour\":[{\"type\":\"contour\",\"colorbar\":{\"outlinewidth\":0,\"ticks\":\"\"},\"colorscale\":[[0.0,\"#0d0887\"],[0.1111111111111111,\"#46039f\"],[0.2222222222222222,\"#7201a8\"],[0.3333333333333333,\"#9c179e\"],[0.4444444444444444,\"#bd3786\"],[0.5555555555555556,\"#d8576b\"],[0.6666666666666666,\"#ed7953\"],[0.7777777777777778,\"#fb9f3a\"],[0.8888888888888888,\"#fdca26\"],[1.0,\"#f0f921\"]]}],\"surface\":[{\"type\":\"surface\",\"colorbar\":{\"outlinewidth\":0,\"ticks\":\"\"},\"colorscale\":[[0.0,\"#0d0887\"],[0.1111111111111111,\"#46039f\"],[0.2222222222222222,\"#7201a8\"],[0.3333333333333333,\"#9c179e\"],[0.4444444444444444,\"#bd3786\"],[0.5555555555555556,\"#d8576b\"],[0.6666666666666666,\"#ed7953\"],[0.7777777777777778,\"#fb9f3a\"],[0.8888888888888888,\"#fdca26\"],[1.0,\"#f0f921\"]]}],\"mesh3d\":[{\"type\":\"mesh3d\",\"colorbar\":{\"outlinewidth\":0,\"ticks\":\"\"}}],\"scatter\":[{\"fillpattern\":{\"fillmode\":\"overlay\",\"size\":10,\"solidity\":0.2},\"type\":\"scatter\"}],\"parcoords\":[{\"type\":\"parcoords\",\"line\":{\"colorbar\":{\"outlinewidth\":0,\"ticks\":\"\"}}}],\"scatterpolargl\":[{\"type\":\"scatterpolargl\",\"marker\":{\"colorbar\":{\"outlinewidth\":0,\"ticks\":\"\"}}}],\"bar\":[{\"error_x\":{\"color\":\"#2a3f5f\"},\"error_y\":{\"color\":\"#2a3f5f\"},\"marker\":{\"line\":{\"color\":\"#E5ECF6\",\"width\":0.5},\"pattern\":{\"fillmode\":\"overlay\",\"size\":10,\"solidity\":0.2}},\"type\":\"bar\"}],\"scattergeo\":[{\"type\":\"scattergeo\",\"marker\":{\"colorbar\":{\"outlinewidth\":0,\"ticks\":\"\"}}}],\"scatterpolar\":[{\"type\":\"scatterpolar\",\"marker\":{\"colorbar\":{\"outlinewidth\":0,\"ticks\":\"\"}}}],\"histogram\":[{\"marker\":{\"pattern\":{\"fillmode\":\"overlay\",\"size\":10,\"solidity\":0.2}},\"type\":\"histogram\"}],\"scattergl\":[{\"type\":\"scattergl\",\"marker\":{\"colorbar\":{\"outlinewidth\":0,\"ticks\":\"\"}}}],\"scatter3d\":[{\"type\":\"scatter3d\",\"line\":{\"colorbar\":{\"outlinewidth\":0,\"ticks\":\"\"}},\"marker\":{\"colorbar\":{\"outlinewidth\":0,\"ticks\":\"\"}}}],\"scattermapbox\":[{\"type\":\"scattermapbox\",\"marker\":{\"colorbar\":{\"outlinewidth\":0,\"ticks\":\"\"}}}],\"scatterternary\":[{\"type\":\"scatterternary\",\"marker\":{\"colorbar\":{\"outlinewidth\":0,\"ticks\":\"\"}}}],\"scattercarpet\":[{\"type\":\"scattercarpet\",\"marker\":{\"colorbar\":{\"outlinewidth\":0,\"ticks\":\"\"}}}],\"carpet\":[{\"aaxis\":{\"endlinecolor\":\"#2a3f5f\",\"gridcolor\":\"white\",\"linecolor\":\"white\",\"minorgridcolor\":\"white\",\"startlinecolor\":\"#2a3f5f\"},\"baxis\":{\"endlinecolor\":\"#2a3f5f\",\"gridcolor\":\"white\",\"linecolor\":\"white\",\"minorgridcolor\":\"white\",\"startlinecolor\":\"#2a3f5f\"},\"type\":\"carpet\"}],\"table\":[{\"cells\":{\"fill\":{\"color\":\"#EBF0F8\"},\"line\":{\"color\":\"white\"}},\"header\":{\"fill\":{\"color\":\"#C8D4E3\"},\"line\":{\"color\":\"white\"}},\"type\":\"table\"}],\"barpolar\":[{\"marker\":{\"line\":{\"color\":\"#E5ECF6\",\"width\":0.5},\"pattern\":{\"fillmode\":\"overlay\",\"size\":10,\"solidity\":0.2}},\"type\":\"barpolar\"}],\"pie\":[{\"automargin\":true,\"type\":\"pie\"}]},\"layout\":{\"autotypenumbers\":\"strict\",\"colorway\":[\"#636efa\",\"#EF553B\",\"#00cc96\",\"#ab63fa\",\"#FFA15A\",\"#19d3f3\",\"#FF6692\",\"#B6E880\",\"#FF97FF\",\"#FECB52\"],\"font\":{\"color\":\"#2a3f5f\"},\"hovermode\":\"closest\",\"hoverlabel\":{\"align\":\"left\"},\"paper_bgcolor\":\"white\",\"plot_bgcolor\":\"#E5ECF6\",\"polar\":{\"bgcolor\":\"#E5ECF6\",\"angularaxis\":{\"gridcolor\":\"white\",\"linecolor\":\"white\",\"ticks\":\"\"},\"radialaxis\":{\"gridcolor\":\"white\",\"linecolor\":\"white\",\"ticks\":\"\"}},\"ternary\":{\"bgcolor\":\"#E5ECF6\",\"aaxis\":{\"gridcolor\":\"white\",\"linecolor\":\"white\",\"ticks\":\"\"},\"baxis\":{\"gridcolor\":\"white\",\"linecolor\":\"white\",\"ticks\":\"\"},\"caxis\":{\"gridcolor\":\"white\",\"linecolor\":\"white\",\"ticks\":\"\"}},\"coloraxis\":{\"colorbar\":{\"outlinewidth\":0,\"ticks\":\"\"}},\"colorscale\":{\"sequential\":[[0.0,\"#0d0887\"],[0.1111111111111111,\"#46039f\"],[0.2222222222222222,\"#7201a8\"],[0.3333333333333333,\"#9c179e\"],[0.4444444444444444,\"#bd3786\"],[0.5555555555555556,\"#d8576b\"],[0.6666666666666666,\"#ed7953\"],[0.7777777777777778,\"#fb9f3a\"],[0.8888888888888888,\"#fdca26\"],[1.0,\"#f0f921\"]],\"sequentialminus\":[[0.0,\"#0d0887\"],[0.1111111111111111,\"#46039f\"],[0.2222222222222222,\"#7201a8\"],[0.3333333333333333,\"#9c179e\"],[0.4444444444444444,\"#bd3786\"],[0.5555555555555556,\"#d8576b\"],[0.6666666666666666,\"#ed7953\"],[0.7777777777777778,\"#fb9f3a\"],[0.8888888888888888,\"#fdca26\"],[1.0,\"#f0f921\"]],\"diverging\":[[0,\"#8e0152\"],[0.1,\"#c51b7d\"],[0.2,\"#de77ae\"],[0.3,\"#f1b6da\"],[0.4,\"#fde0ef\"],[0.5,\"#f7f7f7\"],[0.6,\"#e6f5d0\"],[0.7,\"#b8e186\"],[0.8,\"#7fbc41\"],[0.9,\"#4d9221\"],[1,\"#276419\"]]},\"xaxis\":{\"gridcolor\":\"white\",\"linecolor\":\"white\",\"ticks\":\"\",\"title\":{\"standoff\":15},\"zerolinecolor\":\"white\",\"automargin\":true,\"zerolinewidth\":2},\"yaxis\":{\"gridcolor\":\"white\",\"linecolor\":\"white\",\"ticks\":\"\",\"title\":{\"standoff\":15},\"zerolinecolor\":\"white\",\"automargin\":true,\"zerolinewidth\":2},\"scene\":{\"xaxis\":{\"backgroundcolor\":\"#E5ECF6\",\"gridcolor\":\"white\",\"linecolor\":\"white\",\"showbackground\":true,\"ticks\":\"\",\"zerolinecolor\":\"white\",\"gridwidth\":2},\"yaxis\":{\"backgroundcolor\":\"#E5ECF6\",\"gridcolor\":\"white\",\"linecolor\":\"white\",\"showbackground\":true,\"ticks\":\"\",\"zerolinecolor\":\"white\",\"gridwidth\":2},\"zaxis\":{\"backgroundcolor\":\"#E5ECF6\",\"gridcolor\":\"white\",\"linecolor\":\"white\",\"showbackground\":true,\"ticks\":\"\",\"zerolinecolor\":\"white\",\"gridwidth\":2}},\"shapedefaults\":{\"line\":{\"color\":\"#2a3f5f\"}},\"annotationdefaults\":{\"arrowcolor\":\"#2a3f5f\",\"arrowhead\":0,\"arrowwidth\":1},\"geo\":{\"bgcolor\":\"white\",\"landcolor\":\"#E5ECF6\",\"subunitcolor\":\"white\",\"showland\":true,\"showlakes\":true,\"lakecolor\":\"white\"},\"title\":{\"x\":0.05},\"mapbox\":{\"style\":\"light\"}}},\"xaxis\":{\"anchor\":\"y\",\"domain\":[0.0,1.0],\"scaleanchor\":\"y\",\"constrain\":\"domain\"},\"yaxis\":{\"anchor\":\"x\",\"domain\":[0.0,1.0],\"autorange\":\"reversed\",\"constrain\":\"domain\"},\"coloraxis\":{\"colorscale\":[[0.0,\"#0d0887\"],[0.1111111111111111,\"#46039f\"],[0.2222222222222222,\"#7201a8\"],[0.3333333333333333,\"#9c179e\"],[0.4444444444444444,\"#bd3786\"],[0.5555555555555556,\"#d8576b\"],[0.6666666666666666,\"#ed7953\"],[0.7777777777777778,\"#fb9f3a\"],[0.8888888888888888,\"#fdca26\"],[1.0,\"#f0f921\"]]},\"margin\":{\"t\":60},\"height\":1000},                        {\"responsive\": true}                    ).then(function(){\n",
       "                            \n",
       "var gd = document.getElementById('cecb7f8e-f49f-47a5-bc72-2cbb348ea863');\n",
       "var x = new MutationObserver(function (mutations, observer) {{\n",
       "        var display = window.getComputedStyle(gd).display;\n",
       "        if (!display || display === 'none') {{\n",
       "            console.log([gd, 'removed!']);\n",
       "            Plotly.purge(gd);\n",
       "            observer.disconnect();\n",
       "        }}\n",
       "}});\n",
       "\n",
       "// Listen for the removal of the full notebook cells\n",
       "var notebookContainer = gd.closest('#notebook-container');\n",
       "if (notebookContainer) {{\n",
       "    x.observe(notebookContainer, {childList: true});\n",
       "}}\n",
       "\n",
       "// Listen for the clearing of the current output cell\n",
       "var outputEl = gd.closest('.output');\n",
       "if (outputEl) {{\n",
       "    x.observe(outputEl, {childList: true});\n",
       "}}\n",
       "\n",
       "                        })                };                });            </script>        </div>"
      ]
     },
     "metadata": {},
     "output_type": "display_data"
    }
   ],
   "source": [
    "# Compute Spearman correlation\n",
    "corr = df.corr(method = \"spearman\")\n",
    "corr = np.round(corr, 2)\n",
    "\n",
    "# Visualize Spearman correlation\n",
    "fig = px.imshow(corr, text_auto = True, height = 1000)\n",
    "fig.show()"
   ]
  },
  {
   "cell_type": "markdown",
   "id": "d61678f0",
   "metadata": {
    "papermill": {
     "duration": 0.022627,
     "end_time": "2023-12-05T00:01:16.353535",
     "exception": false,
     "start_time": "2023-12-05T00:01:16.330908",
     "status": "completed"
    },
    "tags": []
   },
   "source": [
    "With the abundance of features, the correlation matrix reveals numerous correlations, yet only a subset of these correlations holds significance for our analysis. It's evident that only certain features exhibit substantial correlations among themselves, warranting our attention. To streamline our visual exploration, we'll employ a threshold of 0.7 for correlation values. This criterion will allow us to focus solely on visualizing those correlations that surpass this threshold, ensuring a targeted examination of the most pertinent and influential feature relationships."
   ]
  },
  {
   "cell_type": "code",
   "execution_count": 15,
   "id": "cb3b6775",
   "metadata": {
    "execution": {
     "iopub.execute_input": "2023-12-05T00:01:16.402355Z",
     "iopub.status.busy": "2023-12-05T00:01:16.401962Z",
     "iopub.status.idle": "2023-12-05T00:01:16.487549Z",
     "shell.execute_reply": "2023-12-05T00:01:16.486470Z"
    },
    "papermill": {
     "duration": 0.113147,
     "end_time": "2023-12-05T00:01:16.490221",
     "exception": false,
     "start_time": "2023-12-05T00:01:16.377074",
     "status": "completed"
    },
    "tags": []
   },
   "outputs": [
    {
     "data": {
      "text/html": [
       "<div>                            <div id=\"6c5725d2-04b0-4bc7-9ba8-873145c61cbc\" class=\"plotly-graph-div\" style=\"height:800px; width:100%;\"></div>            <script type=\"text/javascript\">                require([\"plotly\"], function(Plotly) {                    window.PLOTLYENV=window.PLOTLYENV || {};                                    if (document.getElementById(\"6c5725d2-04b0-4bc7-9ba8-873145c61cbc\")) {                    Plotly.newPlot(                        \"6c5725d2-04b0-4bc7-9ba8-873145c61cbc\",                        [{\"coloraxis\":\"coloraxis\",\"name\":\"0\",\"texttemplate\":\"%{z}\",\"x\":[\"MSSubClass\",\"MSZoning\",\"LotFrontage\",\"LotArea\",\"Street\",\"LotShape\",\"LandContour\",\"Utilities\",\"LotConfig\",\"LandSlope\",\"Neighborhood\",\"Condition1\",\"Condition2\",\"BldgType\",\"HouseStyle\",\"OverallQual\",\"OverallCond\",\"YearBuilt\",\"YearRemodAdd\",\"RoofStyle\",\"RoofMatl\",\"Exterior1st\",\"Exterior2nd\",\"MasVnrType\",\"MasVnrArea\",\"ExterQual\",\"ExterCond\",\"Foundation\",\"BsmtQual\",\"BsmtCond\",\"BsmtExposure\",\"BsmtFinType1\",\"BsmtFinSF1\",\"BsmtFinType2\",\"BsmtFinSF2\",\"BsmtUnfSF\",\"TotalBsmtSF\",\"Heating\",\"HeatingQC\",\"CentralAir\",\"Electrical\",\"1stFlrSF\",\"2ndFlrSF\",\"LowQualFinSF\",\"GrLivArea\",\"BsmtFullBath\",\"BsmtHalfBath\",\"FullBath\",\"HalfBath\",\"BedroomAbvGr\",\"KitchenAbvGr\",\"KitchenQual\",\"TotRmsAbvGrd\",\"Functional\",\"Fireplaces\",\"FireplaceQu\",\"GarageType\",\"GarageYrBlt\",\"GarageFinish\",\"GarageCars\",\"GarageArea\",\"GarageQual\",\"GarageCond\",\"PavedDrive\",\"WoodDeckSF\",\"OpenPorchSF\",\"EnclosedPorch\",\"3SsnPorch\",\"ScreenPorch\",\"PoolArea\",\"MiscVal\",\"MoSold\",\"YrSold\",\"SaleType\",\"SaleCondition\",\"SalePrice\"],\"y\":[\"MSSubClass\",\"MSZoning\",\"LotFrontage\",\"LotArea\",\"Street\",\"LotShape\",\"LandContour\",\"Utilities\",\"LotConfig\",\"LandSlope\",\"Neighborhood\",\"Condition1\",\"Condition2\",\"BldgType\",\"HouseStyle\",\"OverallQual\",\"OverallCond\",\"YearBuilt\",\"YearRemodAdd\",\"RoofStyle\",\"RoofMatl\",\"Exterior1st\",\"Exterior2nd\",\"MasVnrType\",\"MasVnrArea\",\"ExterQual\",\"ExterCond\",\"Foundation\",\"BsmtQual\",\"BsmtCond\",\"BsmtExposure\",\"BsmtFinType1\",\"BsmtFinSF1\",\"BsmtFinType2\",\"BsmtFinSF2\",\"BsmtUnfSF\",\"TotalBsmtSF\",\"Heating\",\"HeatingQC\",\"CentralAir\",\"Electrical\",\"1stFlrSF\",\"2ndFlrSF\",\"LowQualFinSF\",\"GrLivArea\",\"BsmtFullBath\",\"BsmtHalfBath\",\"FullBath\",\"HalfBath\",\"BedroomAbvGr\",\"KitchenAbvGr\",\"KitchenQual\",\"TotRmsAbvGrd\",\"Functional\",\"Fireplaces\",\"FireplaceQu\",\"GarageType\",\"GarageYrBlt\",\"GarageFinish\",\"GarageCars\",\"GarageArea\",\"GarageQual\",\"GarageCond\",\"PavedDrive\",\"WoodDeckSF\",\"OpenPorchSF\",\"EnclosedPorch\",\"3SsnPorch\",\"ScreenPorch\",\"PoolArea\",\"MiscVal\",\"MoSold\",\"YrSold\",\"SaleType\",\"SaleCondition\",\"SalePrice\"],\"z\":[[1.0,null,null,null,null,null,null,null,null,null,null,null,null,null,null,null,null,null,null,null,null,null,null,null,null,null,null,null,null,null,null,null,null,null,null,null,null,null,null,null,null,null,null,null,null,null,null,null,null,null,null,null,null,null,null,null,null,null,null,null,null,null,null,null,null,null,null,null,null,null,null,null,null,null,null,null],[null,1.0,null,null,null,null,null,null,null,null,null,null,null,null,null,null,null,null,null,null,null,null,null,null,null,null,null,null,null,null,null,null,null,null,null,null,null,null,null,null,null,null,null,null,null,null,null,null,null,null,null,null,null,null,null,null,null,null,null,null,null,null,null,null,null,null,null,null,null,null,null,null,null,null,null,null],[null,null,1.0,null,null,null,null,null,null,null,null,null,null,null,null,null,null,null,null,null,null,null,null,null,null,null,null,null,null,null,null,null,null,null,null,null,null,null,null,null,null,null,null,null,null,null,null,null,null,null,null,null,null,null,null,null,null,null,null,null,null,null,null,null,null,null,null,null,null,null,null,null,null,null,null,null],[null,null,null,1.0,null,null,null,null,null,null,null,null,null,null,null,null,null,null,null,null,null,null,null,null,null,null,null,null,null,null,null,null,null,null,null,null,null,null,null,null,null,null,null,null,null,null,null,null,null,null,null,null,null,null,null,null,null,null,null,null,null,null,null,null,null,null,null,null,null,null,null,null,null,null,null,null],[null,null,null,null,1.0,null,null,null,null,null,null,null,null,null,null,null,null,null,null,null,null,null,null,null,null,null,null,null,null,null,null,null,null,null,null,null,null,null,null,null,null,null,null,null,null,null,null,null,null,null,null,null,null,null,null,null,null,null,null,null,null,null,null,null,null,null,null,null,null,null,null,null,null,null,null,null],[null,null,null,null,null,1.0,null,null,null,null,null,null,null,null,null,null,null,null,null,null,null,null,null,null,null,null,null,null,null,null,null,null,null,null,null,null,null,null,null,null,null,null,null,null,null,null,null,null,null,null,null,null,null,null,null,null,null,null,null,null,null,null,null,null,null,null,null,null,null,null,null,null,null,null,null,null],[null,null,null,null,null,null,1.0,null,null,null,null,null,null,null,null,null,null,null,null,null,null,null,null,null,null,null,null,null,null,null,null,null,null,null,null,null,null,null,null,null,null,null,null,null,null,null,null,null,null,null,null,null,null,null,null,null,null,null,null,null,null,null,null,null,null,null,null,null,null,null,null,null,null,null,null,null],[null,null,null,null,null,null,null,1.0,null,null,null,null,null,null,null,null,null,null,null,null,null,null,null,null,null,null,null,null,null,null,null,null,null,null,null,null,null,null,null,null,null,null,null,null,null,null,null,null,null,null,null,null,null,null,null,null,null,null,null,null,null,null,null,null,null,null,null,null,null,null,null,null,null,null,null,null],[null,null,null,null,null,null,null,null,1.0,null,null,null,null,null,null,null,null,null,null,null,null,null,null,null,null,null,null,null,null,null,null,null,null,null,null,null,null,null,null,null,null,null,null,null,null,null,null,null,null,null,null,null,null,null,null,null,null,null,null,null,null,null,null,null,null,null,null,null,null,null,null,null,null,null,null,null],[null,null,null,null,null,null,null,null,null,1.0,null,null,null,null,null,null,null,null,null,null,null,null,null,null,null,null,null,null,null,null,null,null,null,null,null,null,null,null,null,null,null,null,null,null,null,null,null,null,null,null,null,null,null,null,null,null,null,null,null,null,null,null,null,null,null,null,null,null,null,null,null,null,null,null,null,null],[null,null,null,null,null,null,null,null,null,null,1.0,null,null,null,null,null,null,null,null,null,null,null,null,null,null,null,null,null,null,null,null,null,null,null,null,null,null,null,null,null,null,null,null,null,null,null,null,null,null,null,null,null,null,null,null,null,null,null,null,null,null,null,null,null,null,null,null,null,null,null,null,null,null,null,null,null],[null,null,null,null,null,null,null,null,null,null,null,1.0,null,null,null,null,null,null,null,null,null,null,null,null,null,null,null,null,null,null,null,null,null,null,null,null,null,null,null,null,null,null,null,null,null,null,null,null,null,null,null,null,null,null,null,null,null,null,null,null,null,null,null,null,null,null,null,null,null,null,null,null,null,null,null,null],[null,null,null,null,null,null,null,null,null,null,null,null,1.0,null,null,null,null,null,null,null,null,null,null,null,null,null,null,null,null,null,null,null,null,null,null,null,null,null,null,null,null,null,null,null,null,null,null,null,null,null,null,null,null,null,null,null,null,null,null,null,null,null,null,null,null,null,null,null,null,null,null,null,null,null,null,null],[null,null,null,null,null,null,null,null,null,null,null,null,null,1.0,null,null,null,null,null,null,null,null,null,null,null,null,null,null,null,null,null,null,null,null,null,null,null,null,null,null,null,null,null,null,null,null,null,null,null,null,null,null,null,null,null,null,null,null,null,null,null,null,null,null,null,null,null,null,null,null,null,null,null,null,null,null],[null,null,null,null,null,null,null,null,null,null,null,null,null,null,1.0,null,null,null,null,null,null,null,null,null,null,null,null,null,null,null,null,null,null,null,null,null,null,null,null,null,null,null,null,null,null,null,null,null,null,null,null,null,null,null,null,null,null,null,null,null,null,null,null,null,null,null,null,null,null,null,null,null,null,null,null,null],[null,null,null,null,null,null,null,null,null,null,null,null,null,null,null,1.0,null,null,null,null,null,null,null,null,null,null,null,null,null,null,null,null,null,null,null,null,null,null,null,null,null,null,null,null,null,null,null,null,null,null,null,null,null,null,null,null,null,null,null,null,null,null,null,null,null,null,null,null,null,null,null,null,null,null,null,0.8098285862017292],[null,null,null,null,null,null,null,null,null,null,null,null,null,null,null,null,1.0,null,null,null,null,null,null,null,null,null,null,null,null,null,null,null,null,null,null,null,null,null,null,null,null,null,null,null,null,null,null,null,null,null,null,null,null,null,null,null,null,null,null,null,null,null,null,null,null,null,null,null,null,null,null,null,null,null,null,null],[null,null,null,null,null,null,null,null,null,null,null,null,null,null,null,null,null,1.0,null,null,null,null,null,null,null,null,null,null,null,null,null,null,null,null,null,null,null,null,null,null,null,null,null,null,null,null,null,null,null,null,null,null,null,null,null,null,null,0.8479095630310572,null,null,null,null,null,null,null,null,null,null,null,null,null,null,null,null,null,null],[null,null,null,null,null,null,null,null,null,null,null,null,null,null,null,null,null,null,1.0,null,null,null,null,null,null,null,null,null,null,null,null,null,null,null,null,null,null,null,null,null,null,null,null,null,null,null,null,null,null,null,null,null,null,null,null,null,null,null,null,null,null,null,null,null,null,null,null,null,null,null,null,null,null,null,null,null],[null,null,null,null,null,null,null,null,null,null,null,null,null,null,null,null,null,null,null,1.0,null,null,null,null,null,null,null,null,null,null,null,null,null,null,null,null,null,null,null,null,null,null,null,null,null,null,null,null,null,null,null,null,null,null,null,null,null,null,null,null,null,null,null,null,null,null,null,null,null,null,null,null,null,null,null,null],[null,null,null,null,null,null,null,null,null,null,null,null,null,null,null,null,null,null,null,null,1.0,null,null,null,null,null,null,null,null,null,null,null,null,null,null,null,null,null,null,null,null,null,null,null,null,null,null,null,null,null,null,null,null,null,null,null,null,null,null,null,null,null,null,null,null,null,null,null,null,null,null,null,null,null,null,null],[null,null,null,null,null,null,null,null,null,null,null,null,null,null,null,null,null,null,null,null,null,1.0,0.8584872567634687,null,null,null,null,null,null,null,null,null,null,null,null,null,null,null,null,null,null,null,null,null,null,null,null,null,null,null,null,null,null,null,null,null,null,null,null,null,null,null,null,null,null,null,null,null,null,null,null,null,null,null,null,null],[null,null,null,null,null,null,null,null,null,null,null,null,null,null,null,null,null,null,null,null,null,0.8584872567634687,1.0,null,null,null,null,null,null,null,null,null,null,null,null,null,null,null,null,null,null,null,null,null,null,null,null,null,null,null,null,null,null,null,null,null,null,null,null,null,null,null,null,null,null,null,null,null,null,null,null,null,null,null,null,null],[null,null,null,null,null,null,null,null,null,null,null,null,null,null,null,null,null,null,null,null,null,null,null,1.0,null,null,null,null,null,null,null,null,null,null,null,null,null,null,null,null,null,null,null,null,null,null,null,null,null,null,null,null,null,null,null,null,null,null,null,null,null,null,null,null,null,null,null,null,null,null,null,null,null,null,null,null],[null,null,null,null,null,null,null,null,null,null,null,null,null,null,null,null,null,null,null,null,null,null,null,null,1.0,null,null,null,null,null,null,null,null,null,null,null,null,null,null,null,null,null,null,null,null,null,null,null,null,null,null,null,null,null,null,null,null,null,null,null,null,null,null,null,null,null,null,null,null,null,null,null,null,null,null,null],[null,null,null,null,null,null,null,null,null,null,null,null,null,null,null,null,null,null,null,null,null,null,null,null,null,1.0,null,null,null,null,null,null,null,null,null,null,null,null,null,null,null,null,null,null,null,null,null,null,null,null,null,null,null,null,null,null,null,null,null,null,null,null,null,null,null,null,null,null,null,null,null,null,null,null,null,null],[null,null,null,null,null,null,null,null,null,null,null,null,null,null,null,null,null,null,null,null,null,null,null,null,null,null,1.0,null,null,null,null,null,null,null,null,null,null,null,null,null,null,null,null,null,null,null,null,null,null,null,null,null,null,null,null,null,null,null,null,null,null,null,null,null,null,null,null,null,null,null,null,null,null,null,null,null],[null,null,null,null,null,null,null,null,null,null,null,null,null,null,null,null,null,null,null,null,null,null,null,null,null,null,null,1.0,null,null,null,null,null,null,null,null,null,null,null,null,null,null,null,null,null,null,null,null,null,null,null,null,null,null,null,null,null,null,null,null,null,null,null,null,null,null,null,null,null,null,null,null,null,null,null,null],[null,null,null,null,null,null,null,null,null,null,null,null,null,null,null,null,null,null,null,null,null,null,null,null,null,null,null,null,1.0,null,null,null,null,null,null,null,null,null,null,null,null,null,null,null,null,null,null,null,null,null,null,null,null,null,null,null,null,null,null,null,null,null,null,null,null,null,null,null,null,null,null,null,null,null,null,null],[null,null,null,null,null,null,null,null,null,null,null,null,null,null,null,null,null,null,null,null,null,null,null,null,null,null,null,null,null,1.0,null,null,null,null,null,null,null,null,null,null,null,null,null,null,null,null,null,null,null,null,null,null,null,null,null,null,null,null,null,null,null,null,null,null,null,null,null,null,null,null,null,null,null,null,null,null],[null,null,null,null,null,null,null,null,null,null,null,null,null,null,null,null,null,null,null,null,null,null,null,null,null,null,null,null,null,null,1.0,null,null,null,null,null,null,null,null,null,null,null,null,null,null,null,null,null,null,null,null,null,null,null,null,null,null,null,null,null,null,null,null,null,null,null,null,null,null,null,null,null,null,null,null,null],[null,null,null,null,null,null,null,null,null,null,null,null,null,null,null,null,null,null,null,null,null,null,null,null,null,null,null,null,null,null,null,1.0,null,null,null,null,null,null,null,null,null,null,null,null,null,null,null,null,null,null,null,null,null,null,null,null,null,null,null,null,null,null,null,null,null,null,null,null,null,null,null,null,null,null,null,null],[null,null,null,null,null,null,null,null,null,null,null,null,null,null,null,null,null,null,null,null,null,null,null,null,null,null,null,null,null,null,null,null,1.0,null,null,null,null,null,null,null,null,null,null,null,null,null,null,null,null,null,null,null,null,null,null,null,null,null,null,null,null,null,null,null,null,null,null,null,null,null,null,null,null,null,null,null],[null,null,null,null,null,null,null,null,null,null,null,null,null,null,null,null,null,null,null,null,null,null,null,null,null,null,null,null,null,null,null,null,null,1.0,null,null,null,null,null,null,null,null,null,null,null,null,null,null,null,null,null,null,null,null,null,null,null,null,null,null,null,null,null,null,null,null,null,null,null,null,null,null,null,null,null,null],[null,null,null,null,null,null,null,null,null,null,null,null,null,null,null,null,null,null,null,null,null,null,null,null,null,null,null,null,null,null,null,null,null,null,1.0,null,null,null,null,null,null,null,null,null,null,null,null,null,null,null,null,null,null,null,null,null,null,null,null,null,null,null,null,null,null,null,null,null,null,null,null,null,null,null,null,null],[null,null,null,null,null,null,null,null,null,null,null,null,null,null,null,null,null,null,null,null,null,null,null,null,null,null,null,null,null,null,null,null,null,null,null,1.0,null,null,null,null,null,null,null,null,null,null,null,null,null,null,null,null,null,null,null,null,null,null,null,null,null,null,null,null,null,null,null,null,null,null,null,null,null,null,null,null],[null,null,null,null,null,null,null,null,null,null,null,null,null,null,null,null,null,null,null,null,null,null,null,null,null,null,null,null,null,null,null,null,null,null,null,null,1.0,null,null,null,null,0.8292919303569337,null,null,null,null,null,null,null,null,null,null,null,null,null,null,null,null,null,null,null,null,null,null,null,null,null,null,null,null,null,null,null,null,null,null],[null,null,null,null,null,null,null,null,null,null,null,null,null,null,null,null,null,null,null,null,null,null,null,null,null,null,null,null,null,null,null,null,null,null,null,null,null,1.0,null,null,null,null,null,null,null,null,null,null,null,null,null,null,null,null,null,null,null,null,null,null,null,null,null,null,null,null,null,null,null,null,null,null,null,null,null,null],[null,null,null,null,null,null,null,null,null,null,null,null,null,null,null,null,null,null,null,null,null,null,null,null,null,null,null,null,null,null,null,null,null,null,null,null,null,null,1.0,null,null,null,null,null,null,null,null,null,null,null,null,null,null,null,null,null,null,null,null,null,null,null,null,null,null,null,null,null,null,null,null,null,null,null,null,null],[null,null,null,null,null,null,null,null,null,null,null,null,null,null,null,null,null,null,null,null,null,null,null,null,null,null,null,null,null,null,null,null,null,null,null,null,null,null,null,1.0,null,null,null,null,null,null,null,null,null,null,null,null,null,null,null,null,null,null,null,null,null,null,null,null,null,null,null,null,null,null,null,null,null,null,null,null],[null,null,null,null,null,null,null,null,null,null,null,null,null,null,null,null,null,null,null,null,null,null,null,null,null,null,null,null,null,null,null,null,null,null,null,null,null,null,null,null,1.0,null,null,null,null,null,null,null,null,null,null,null,null,null,null,null,null,null,null,null,null,null,null,null,null,null,null,null,null,null,null,null,null,null,null,null],[null,null,null,null,null,null,null,null,null,null,null,null,null,null,null,null,null,null,null,null,null,null,null,null,null,null,null,null,null,null,null,null,null,null,null,null,0.8292919303569337,null,null,null,null,1.0,null,null,null,null,null,null,null,null,null,null,null,null,null,null,null,null,null,null,null,null,null,null,null,null,null,null,null,null,null,null,null,null,null,null],[null,null,null,null,null,null,null,null,null,null,null,null,null,null,null,null,null,null,null,null,null,null,null,null,null,null,null,null,null,null,null,null,null,null,null,null,null,null,null,null,null,null,1.0,null,null,null,null,null,null,null,null,null,null,null,null,null,null,null,null,null,null,null,null,null,null,null,null,null,null,null,null,null,null,null,null,null],[null,null,null,null,null,null,null,null,null,null,null,null,null,null,null,null,null,null,null,null,null,null,null,null,null,null,null,null,null,null,null,null,null,null,null,null,null,null,null,null,null,null,null,1.0,null,null,null,null,null,null,null,null,null,null,null,null,null,null,null,null,null,null,null,null,null,null,null,null,null,null,null,null,null,null,null,null],[null,null,null,null,null,null,null,null,null,null,null,null,null,null,null,null,null,null,null,null,null,null,null,null,null,null,null,null,null,null,null,null,null,null,null,null,null,null,null,null,null,null,null,null,1.0,null,null,null,null,null,null,null,0.8278743231158384,null,null,null,null,null,null,null,null,null,null,null,null,null,null,null,null,null,null,null,null,null,null,0.7313095834659141],[null,null,null,null,null,null,null,null,null,null,null,null,null,null,null,null,null,null,null,null,null,null,null,null,null,null,null,null,null,null,null,null,null,null,null,null,null,null,null,null,null,null,null,null,null,1.0,null,null,null,null,null,null,null,null,null,null,null,null,null,null,null,null,null,null,null,null,null,null,null,null,null,null,null,null,null,null],[null,null,null,null,null,null,null,null,null,null,null,null,null,null,null,null,null,null,null,null,null,null,null,null,null,null,null,null,null,null,null,null,null,null,null,null,null,null,null,null,null,null,null,null,null,null,1.0,null,null,null,null,null,null,null,null,null,null,null,null,null,null,null,null,null,null,null,null,null,null,null,null,null,null,null,null,null],[null,null,null,null,null,null,null,null,null,null,null,null,null,null,null,null,null,null,null,null,null,null,null,null,null,null,null,null,null,null,null,null,null,null,null,null,null,null,null,null,null,null,null,null,null,null,null,1.0,null,null,null,null,null,null,null,null,null,null,null,null,null,null,null,null,null,null,null,null,null,null,null,null,null,null,null,null],[null,null,null,null,null,null,null,null,null,null,null,null,null,null,null,null,null,null,null,null,null,null,null,null,null,null,null,null,null,null,null,null,null,null,null,null,null,null,null,null,null,null,null,null,null,null,null,null,1.0,null,null,null,null,null,null,null,null,null,null,null,null,null,null,null,null,null,null,null,null,null,null,null,null,null,null,null],[null,null,null,null,null,null,null,null,null,null,null,null,null,null,null,null,null,null,null,null,null,null,null,null,null,null,null,null,null,null,null,null,null,null,null,null,null,null,null,null,null,null,null,null,null,null,null,null,null,1.0,null,null,null,null,null,null,null,null,null,null,null,null,null,null,null,null,null,null,null,null,null,null,null,null,null,null],[null,null,null,null,null,null,null,null,null,null,null,null,null,null,null,null,null,null,null,null,null,null,null,null,null,null,null,null,null,null,null,null,null,null,null,null,null,null,null,null,null,null,null,null,null,null,null,null,null,null,1.0,null,null,null,null,null,null,null,null,null,null,null,null,null,null,null,null,null,null,null,null,null,null,null,null,null],[null,null,null,null,null,null,null,null,null,null,null,null,null,null,null,null,null,null,null,null,null,null,null,null,null,null,null,null,null,null,null,null,null,null,null,null,null,null,null,null,null,null,null,null,null,null,null,null,null,null,null,1.0,null,null,null,null,null,null,null,null,null,null,null,null,null,null,null,null,null,null,null,null,null,null,null,null],[null,null,null,null,null,null,null,null,null,null,null,null,null,null,null,null,null,null,null,null,null,null,null,null,null,null,null,null,null,null,null,null,null,null,null,null,null,null,null,null,null,null,null,null,0.8278743231158384,null,null,null,null,null,null,null,1.0,null,null,null,null,null,null,null,null,null,null,null,null,null,null,null,null,null,null,null,null,null,null,null],[null,null,null,null,null,null,null,null,null,null,null,null,null,null,null,null,null,null,null,null,null,null,null,null,null,null,null,null,null,null,null,null,null,null,null,null,null,null,null,null,null,null,null,null,null,null,null,null,null,null,null,null,null,1.0,null,null,null,null,null,null,null,null,null,null,null,null,null,null,null,null,null,null,null,null,null,null],[null,null,null,null,null,null,null,null,null,null,null,null,null,null,null,null,null,null,null,null,null,null,null,null,null,null,null,null,null,null,null,null,null,null,null,null,null,null,null,null,null,null,null,null,null,null,null,null,null,null,null,null,null,null,1.0,null,null,null,null,null,null,null,null,null,null,null,null,null,null,null,null,null,null,null,null,null],[null,null,null,null,null,null,null,null,null,null,null,null,null,null,null,null,null,null,null,null,null,null,null,null,null,null,null,null,null,null,null,null,null,null,null,null,null,null,null,null,null,null,null,null,null,null,null,null,null,null,null,null,null,null,null,1.0,null,null,null,null,null,null,null,null,null,null,null,null,null,null,null,null,null,null,null,null],[null,null,null,null,null,null,null,null,null,null,null,null,null,null,null,null,null,null,null,null,null,null,null,null,null,null,null,null,null,null,null,null,null,null,null,null,null,null,null,null,null,null,null,null,null,null,null,null,null,null,null,null,null,null,null,null,1.0,null,null,null,null,null,null,null,null,null,null,null,null,null,null,null,null,null,null,null],[null,null,null,null,null,null,null,null,null,null,null,null,null,null,null,null,null,0.8479095630310572,null,null,null,null,null,null,null,null,null,null,null,null,null,null,null,null,null,null,null,null,null,null,null,null,null,null,null,null,null,null,null,null,null,null,null,null,null,null,null,1.0,null,null,null,null,null,null,null,null,null,null,null,null,null,null,null,null,null,null],[null,null,null,null,null,null,null,null,null,null,null,null,null,null,null,null,null,null,null,null,null,null,null,null,null,null,null,null,null,null,null,null,null,null,null,null,null,null,null,null,null,null,null,null,null,null,null,null,null,null,null,null,null,null,null,null,null,null,1.0,null,null,null,null,null,null,null,null,null,null,null,null,null,null,null,null,null],[null,null,null,null,null,null,null,null,null,null,null,null,null,null,null,null,null,null,null,null,null,null,null,null,null,null,null,null,null,null,null,null,null,null,null,null,null,null,null,null,null,null,null,null,null,null,null,null,null,null,null,null,null,null,null,null,null,null,null,1.0,0.8533173766076402,null,null,null,null,null,null,null,null,null,null,null,null,null,null,null],[null,null,null,null,null,null,null,null,null,null,null,null,null,null,null,null,null,null,null,null,null,null,null,null,null,null,null,null,null,null,null,null,null,null,null,null,null,null,null,null,null,null,null,null,null,null,null,null,null,null,null,null,null,null,null,null,null,null,null,0.8533173766076402,1.0,null,null,null,null,null,null,null,null,null,null,null,null,null,null,null],[null,null,null,null,null,null,null,null,null,null,null,null,null,null,null,null,null,null,null,null,null,null,null,null,null,null,null,null,null,null,null,null,null,null,null,null,null,null,null,null,null,null,null,null,null,null,null,null,null,null,null,null,null,null,null,null,null,null,null,null,null,1.0,null,null,null,null,null,null,null,null,null,null,null,null,null,null],[null,null,null,null,null,null,null,null,null,null,null,null,null,null,null,null,null,null,null,null,null,null,null,null,null,null,null,null,null,null,null,null,null,null,null,null,null,null,null,null,null,null,null,null,null,null,null,null,null,null,null,null,null,null,null,null,null,null,null,null,null,null,1.0,null,null,null,null,null,null,null,null,null,null,null,null,null],[null,null,null,null,null,null,null,null,null,null,null,null,null,null,null,null,null,null,null,null,null,null,null,null,null,null,null,null,null,null,null,null,null,null,null,null,null,null,null,null,null,null,null,null,null,null,null,null,null,null,null,null,null,null,null,null,null,null,null,null,null,null,null,1.0,null,null,null,null,null,null,null,null,null,null,null,null],[null,null,null,null,null,null,null,null,null,null,null,null,null,null,null,null,null,null,null,null,null,null,null,null,null,null,null,null,null,null,null,null,null,null,null,null,null,null,null,null,null,null,null,null,null,null,null,null,null,null,null,null,null,null,null,null,null,null,null,null,null,null,null,null,1.0,null,null,null,null,null,null,null,null,null,null,null],[null,null,null,null,null,null,null,null,null,null,null,null,null,null,null,null,null,null,null,null,null,null,null,null,null,null,null,null,null,null,null,null,null,null,null,null,null,null,null,null,null,null,null,null,null,null,null,null,null,null,null,null,null,null,null,null,null,null,null,null,null,null,null,null,null,1.0,null,null,null,null,null,null,null,null,null,null],[null,null,null,null,null,null,null,null,null,null,null,null,null,null,null,null,null,null,null,null,null,null,null,null,null,null,null,null,null,null,null,null,null,null,null,null,null,null,null,null,null,null,null,null,null,null,null,null,null,null,null,null,null,null,null,null,null,null,null,null,null,null,null,null,null,null,1.0,null,null,null,null,null,null,null,null,null],[null,null,null,null,null,null,null,null,null,null,null,null,null,null,null,null,null,null,null,null,null,null,null,null,null,null,null,null,null,null,null,null,null,null,null,null,null,null,null,null,null,null,null,null,null,null,null,null,null,null,null,null,null,null,null,null,null,null,null,null,null,null,null,null,null,null,null,1.0,null,null,null,null,null,null,null,null],[null,null,null,null,null,null,null,null,null,null,null,null,null,null,null,null,null,null,null,null,null,null,null,null,null,null,null,null,null,null,null,null,null,null,null,null,null,null,null,null,null,null,null,null,null,null,null,null,null,null,null,null,null,null,null,null,null,null,null,null,null,null,null,null,null,null,null,null,1.0,null,null,null,null,null,null,null],[null,null,null,null,null,null,null,null,null,null,null,null,null,null,null,null,null,null,null,null,null,null,null,null,null,null,null,null,null,null,null,null,null,null,null,null,null,null,null,null,null,null,null,null,null,null,null,null,null,null,null,null,null,null,null,null,null,null,null,null,null,null,null,null,null,null,null,null,null,1.0,null,null,null,null,null,null],[null,null,null,null,null,null,null,null,null,null,null,null,null,null,null,null,null,null,null,null,null,null,null,null,null,null,null,null,null,null,null,null,null,null,null,null,null,null,null,null,null,null,null,null,null,null,null,null,null,null,null,null,null,null,null,null,null,null,null,null,null,null,null,null,null,null,null,null,null,null,1.0,null,null,null,null,null],[null,null,null,null,null,null,null,null,null,null,null,null,null,null,null,null,null,null,null,null,null,null,null,null,null,null,null,null,null,null,null,null,null,null,null,null,null,null,null,null,null,null,null,null,null,null,null,null,null,null,null,null,null,null,null,null,null,null,null,null,null,null,null,null,null,null,null,null,null,null,null,1.0,null,null,null,null],[null,null,null,null,null,null,null,null,null,null,null,null,null,null,null,null,null,null,null,null,null,null,null,null,null,null,null,null,null,null,null,null,null,null,null,null,null,null,null,null,null,null,null,null,null,null,null,null,null,null,null,null,null,null,null,null,null,null,null,null,null,null,null,null,null,null,null,null,null,null,null,null,1.0,null,null,null],[null,null,null,null,null,null,null,null,null,null,null,null,null,null,null,null,null,null,null,null,null,null,null,null,null,null,null,null,null,null,null,null,null,null,null,null,null,null,null,null,null,null,null,null,null,null,null,null,null,null,null,null,null,null,null,null,null,null,null,null,null,null,null,null,null,null,null,null,null,null,null,null,null,1.0,null,null],[null,null,null,null,null,null,null,null,null,null,null,null,null,null,null,null,null,null,null,null,null,null,null,null,null,null,null,null,null,null,null,null,null,null,null,null,null,null,null,null,null,null,null,null,null,null,null,null,null,null,null,null,null,null,null,null,null,null,null,null,null,null,null,null,null,null,null,null,null,null,null,null,null,null,1.0,null],[null,null,null,null,null,null,null,null,null,null,null,null,null,null,null,0.8098285862017292,null,null,null,null,null,null,null,null,null,null,null,null,null,null,null,null,null,null,null,null,null,null,null,null,null,null,null,null,0.7313095834659141,null,null,null,null,null,null,null,null,null,null,null,null,null,null,null,null,null,null,null,null,null,null,null,null,null,null,null,null,null,null,1.0]],\"type\":\"heatmap\",\"xaxis\":\"x\",\"yaxis\":\"y\",\"hovertemplate\":\"x: %{x}\\u003cbr\\u003ey: %{y}\\u003cbr\\u003ecolor: %{z}\\u003cextra\\u003e\\u003c\\u002fextra\\u003e\"}],                        {\"template\":{\"data\":{\"histogram2dcontour\":[{\"type\":\"histogram2dcontour\",\"colorbar\":{\"outlinewidth\":0,\"ticks\":\"\"},\"colorscale\":[[0.0,\"#0d0887\"],[0.1111111111111111,\"#46039f\"],[0.2222222222222222,\"#7201a8\"],[0.3333333333333333,\"#9c179e\"],[0.4444444444444444,\"#bd3786\"],[0.5555555555555556,\"#d8576b\"],[0.6666666666666666,\"#ed7953\"],[0.7777777777777778,\"#fb9f3a\"],[0.8888888888888888,\"#fdca26\"],[1.0,\"#f0f921\"]]}],\"choropleth\":[{\"type\":\"choropleth\",\"colorbar\":{\"outlinewidth\":0,\"ticks\":\"\"}}],\"histogram2d\":[{\"type\":\"histogram2d\",\"colorbar\":{\"outlinewidth\":0,\"ticks\":\"\"},\"colorscale\":[[0.0,\"#0d0887\"],[0.1111111111111111,\"#46039f\"],[0.2222222222222222,\"#7201a8\"],[0.3333333333333333,\"#9c179e\"],[0.4444444444444444,\"#bd3786\"],[0.5555555555555556,\"#d8576b\"],[0.6666666666666666,\"#ed7953\"],[0.7777777777777778,\"#fb9f3a\"],[0.8888888888888888,\"#fdca26\"],[1.0,\"#f0f921\"]]}],\"heatmap\":[{\"type\":\"heatmap\",\"colorbar\":{\"outlinewidth\":0,\"ticks\":\"\"},\"colorscale\":[[0.0,\"#0d0887\"],[0.1111111111111111,\"#46039f\"],[0.2222222222222222,\"#7201a8\"],[0.3333333333333333,\"#9c179e\"],[0.4444444444444444,\"#bd3786\"],[0.5555555555555556,\"#d8576b\"],[0.6666666666666666,\"#ed7953\"],[0.7777777777777778,\"#fb9f3a\"],[0.8888888888888888,\"#fdca26\"],[1.0,\"#f0f921\"]]}],\"heatmapgl\":[{\"type\":\"heatmapgl\",\"colorbar\":{\"outlinewidth\":0,\"ticks\":\"\"},\"colorscale\":[[0.0,\"#0d0887\"],[0.1111111111111111,\"#46039f\"],[0.2222222222222222,\"#7201a8\"],[0.3333333333333333,\"#9c179e\"],[0.4444444444444444,\"#bd3786\"],[0.5555555555555556,\"#d8576b\"],[0.6666666666666666,\"#ed7953\"],[0.7777777777777778,\"#fb9f3a\"],[0.8888888888888888,\"#fdca26\"],[1.0,\"#f0f921\"]]}],\"contourcarpet\":[{\"type\":\"contourcarpet\",\"colorbar\":{\"outlinewidth\":0,\"ticks\":\"\"}}],\"contour\":[{\"type\":\"contour\",\"colorbar\":{\"outlinewidth\":0,\"ticks\":\"\"},\"colorscale\":[[0.0,\"#0d0887\"],[0.1111111111111111,\"#46039f\"],[0.2222222222222222,\"#7201a8\"],[0.3333333333333333,\"#9c179e\"],[0.4444444444444444,\"#bd3786\"],[0.5555555555555556,\"#d8576b\"],[0.6666666666666666,\"#ed7953\"],[0.7777777777777778,\"#fb9f3a\"],[0.8888888888888888,\"#fdca26\"],[1.0,\"#f0f921\"]]}],\"surface\":[{\"type\":\"surface\",\"colorbar\":{\"outlinewidth\":0,\"ticks\":\"\"},\"colorscale\":[[0.0,\"#0d0887\"],[0.1111111111111111,\"#46039f\"],[0.2222222222222222,\"#7201a8\"],[0.3333333333333333,\"#9c179e\"],[0.4444444444444444,\"#bd3786\"],[0.5555555555555556,\"#d8576b\"],[0.6666666666666666,\"#ed7953\"],[0.7777777777777778,\"#fb9f3a\"],[0.8888888888888888,\"#fdca26\"],[1.0,\"#f0f921\"]]}],\"mesh3d\":[{\"type\":\"mesh3d\",\"colorbar\":{\"outlinewidth\":0,\"ticks\":\"\"}}],\"scatter\":[{\"fillpattern\":{\"fillmode\":\"overlay\",\"size\":10,\"solidity\":0.2},\"type\":\"scatter\"}],\"parcoords\":[{\"type\":\"parcoords\",\"line\":{\"colorbar\":{\"outlinewidth\":0,\"ticks\":\"\"}}}],\"scatterpolargl\":[{\"type\":\"scatterpolargl\",\"marker\":{\"colorbar\":{\"outlinewidth\":0,\"ticks\":\"\"}}}],\"bar\":[{\"error_x\":{\"color\":\"#2a3f5f\"},\"error_y\":{\"color\":\"#2a3f5f\"},\"marker\":{\"line\":{\"color\":\"#E5ECF6\",\"width\":0.5},\"pattern\":{\"fillmode\":\"overlay\",\"size\":10,\"solidity\":0.2}},\"type\":\"bar\"}],\"scattergeo\":[{\"type\":\"scattergeo\",\"marker\":{\"colorbar\":{\"outlinewidth\":0,\"ticks\":\"\"}}}],\"scatterpolar\":[{\"type\":\"scatterpolar\",\"marker\":{\"colorbar\":{\"outlinewidth\":0,\"ticks\":\"\"}}}],\"histogram\":[{\"marker\":{\"pattern\":{\"fillmode\":\"overlay\",\"size\":10,\"solidity\":0.2}},\"type\":\"histogram\"}],\"scattergl\":[{\"type\":\"scattergl\",\"marker\":{\"colorbar\":{\"outlinewidth\":0,\"ticks\":\"\"}}}],\"scatter3d\":[{\"type\":\"scatter3d\",\"line\":{\"colorbar\":{\"outlinewidth\":0,\"ticks\":\"\"}},\"marker\":{\"colorbar\":{\"outlinewidth\":0,\"ticks\":\"\"}}}],\"scattermapbox\":[{\"type\":\"scattermapbox\",\"marker\":{\"colorbar\":{\"outlinewidth\":0,\"ticks\":\"\"}}}],\"scatterternary\":[{\"type\":\"scatterternary\",\"marker\":{\"colorbar\":{\"outlinewidth\":0,\"ticks\":\"\"}}}],\"scattercarpet\":[{\"type\":\"scattercarpet\",\"marker\":{\"colorbar\":{\"outlinewidth\":0,\"ticks\":\"\"}}}],\"carpet\":[{\"aaxis\":{\"endlinecolor\":\"#2a3f5f\",\"gridcolor\":\"white\",\"linecolor\":\"white\",\"minorgridcolor\":\"white\",\"startlinecolor\":\"#2a3f5f\"},\"baxis\":{\"endlinecolor\":\"#2a3f5f\",\"gridcolor\":\"white\",\"linecolor\":\"white\",\"minorgridcolor\":\"white\",\"startlinecolor\":\"#2a3f5f\"},\"type\":\"carpet\"}],\"table\":[{\"cells\":{\"fill\":{\"color\":\"#EBF0F8\"},\"line\":{\"color\":\"white\"}},\"header\":{\"fill\":{\"color\":\"#C8D4E3\"},\"line\":{\"color\":\"white\"}},\"type\":\"table\"}],\"barpolar\":[{\"marker\":{\"line\":{\"color\":\"#E5ECF6\",\"width\":0.5},\"pattern\":{\"fillmode\":\"overlay\",\"size\":10,\"solidity\":0.2}},\"type\":\"barpolar\"}],\"pie\":[{\"automargin\":true,\"type\":\"pie\"}]},\"layout\":{\"autotypenumbers\":\"strict\",\"colorway\":[\"#636efa\",\"#EF553B\",\"#00cc96\",\"#ab63fa\",\"#FFA15A\",\"#19d3f3\",\"#FF6692\",\"#B6E880\",\"#FF97FF\",\"#FECB52\"],\"font\":{\"color\":\"#2a3f5f\"},\"hovermode\":\"closest\",\"hoverlabel\":{\"align\":\"left\"},\"paper_bgcolor\":\"white\",\"plot_bgcolor\":\"#E5ECF6\",\"polar\":{\"bgcolor\":\"#E5ECF6\",\"angularaxis\":{\"gridcolor\":\"white\",\"linecolor\":\"white\",\"ticks\":\"\"},\"radialaxis\":{\"gridcolor\":\"white\",\"linecolor\":\"white\",\"ticks\":\"\"}},\"ternary\":{\"bgcolor\":\"#E5ECF6\",\"aaxis\":{\"gridcolor\":\"white\",\"linecolor\":\"white\",\"ticks\":\"\"},\"baxis\":{\"gridcolor\":\"white\",\"linecolor\":\"white\",\"ticks\":\"\"},\"caxis\":{\"gridcolor\":\"white\",\"linecolor\":\"white\",\"ticks\":\"\"}},\"coloraxis\":{\"colorbar\":{\"outlinewidth\":0,\"ticks\":\"\"}},\"colorscale\":{\"sequential\":[[0.0,\"#0d0887\"],[0.1111111111111111,\"#46039f\"],[0.2222222222222222,\"#7201a8\"],[0.3333333333333333,\"#9c179e\"],[0.4444444444444444,\"#bd3786\"],[0.5555555555555556,\"#d8576b\"],[0.6666666666666666,\"#ed7953\"],[0.7777777777777778,\"#fb9f3a\"],[0.8888888888888888,\"#fdca26\"],[1.0,\"#f0f921\"]],\"sequentialminus\":[[0.0,\"#0d0887\"],[0.1111111111111111,\"#46039f\"],[0.2222222222222222,\"#7201a8\"],[0.3333333333333333,\"#9c179e\"],[0.4444444444444444,\"#bd3786\"],[0.5555555555555556,\"#d8576b\"],[0.6666666666666666,\"#ed7953\"],[0.7777777777777778,\"#fb9f3a\"],[0.8888888888888888,\"#fdca26\"],[1.0,\"#f0f921\"]],\"diverging\":[[0,\"#8e0152\"],[0.1,\"#c51b7d\"],[0.2,\"#de77ae\"],[0.3,\"#f1b6da\"],[0.4,\"#fde0ef\"],[0.5,\"#f7f7f7\"],[0.6,\"#e6f5d0\"],[0.7,\"#b8e186\"],[0.8,\"#7fbc41\"],[0.9,\"#4d9221\"],[1,\"#276419\"]]},\"xaxis\":{\"gridcolor\":\"white\",\"linecolor\":\"white\",\"ticks\":\"\",\"title\":{\"standoff\":15},\"zerolinecolor\":\"white\",\"automargin\":true,\"zerolinewidth\":2},\"yaxis\":{\"gridcolor\":\"white\",\"linecolor\":\"white\",\"ticks\":\"\",\"title\":{\"standoff\":15},\"zerolinecolor\":\"white\",\"automargin\":true,\"zerolinewidth\":2},\"scene\":{\"xaxis\":{\"backgroundcolor\":\"#E5ECF6\",\"gridcolor\":\"white\",\"linecolor\":\"white\",\"showbackground\":true,\"ticks\":\"\",\"zerolinecolor\":\"white\",\"gridwidth\":2},\"yaxis\":{\"backgroundcolor\":\"#E5ECF6\",\"gridcolor\":\"white\",\"linecolor\":\"white\",\"showbackground\":true,\"ticks\":\"\",\"zerolinecolor\":\"white\",\"gridwidth\":2},\"zaxis\":{\"backgroundcolor\":\"#E5ECF6\",\"gridcolor\":\"white\",\"linecolor\":\"white\",\"showbackground\":true,\"ticks\":\"\",\"zerolinecolor\":\"white\",\"gridwidth\":2}},\"shapedefaults\":{\"line\":{\"color\":\"#2a3f5f\"}},\"annotationdefaults\":{\"arrowcolor\":\"#2a3f5f\",\"arrowhead\":0,\"arrowwidth\":1},\"geo\":{\"bgcolor\":\"white\",\"landcolor\":\"#E5ECF6\",\"subunitcolor\":\"white\",\"showland\":true,\"showlakes\":true,\"lakecolor\":\"white\"},\"title\":{\"x\":0.05},\"mapbox\":{\"style\":\"light\"}}},\"xaxis\":{\"anchor\":\"y\",\"domain\":[0.0,1.0],\"scaleanchor\":\"y\",\"constrain\":\"domain\"},\"yaxis\":{\"anchor\":\"x\",\"domain\":[0.0,1.0],\"autorange\":\"reversed\",\"constrain\":\"domain\"},\"coloraxis\":{\"colorscale\":[[0.0,\"rgb(0, 0, 0)\"],[0.09090909090909091,\"rgb(16, 16, 16)\"],[0.18181818181818182,\"rgb(38, 38, 38)\"],[0.2727272727272727,\"rgb(59, 59, 59)\"],[0.36363636363636365,\"rgb(81, 80, 80)\"],[0.45454545454545453,\"rgb(102, 101, 101)\"],[0.5454545454545454,\"rgb(124, 123, 122)\"],[0.6363636363636364,\"rgb(146, 146, 145)\"],[0.7272727272727273,\"rgb(171, 171, 170)\"],[0.8181818181818182,\"rgb(197, 197, 195)\"],[0.9090909090909091,\"rgb(224, 224, 223)\"],[1.0,\"rgb(254, 254, 253)\"]]},\"margin\":{\"t\":60},\"height\":800},                        {\"responsive\": true}                    ).then(function(){\n",
       "                            \n",
       "var gd = document.getElementById('6c5725d2-04b0-4bc7-9ba8-873145c61cbc');\n",
       "var x = new MutationObserver(function (mutations, observer) {{\n",
       "        var display = window.getComputedStyle(gd).display;\n",
       "        if (!display || display === 'none') {{\n",
       "            console.log([gd, 'removed!']);\n",
       "            Plotly.purge(gd);\n",
       "            observer.disconnect();\n",
       "        }}\n",
       "}});\n",
       "\n",
       "// Listen for the removal of the full notebook cells\n",
       "var notebookContainer = gd.closest('#notebook-container');\n",
       "if (notebookContainer) {{\n",
       "    x.observe(notebookContainer, {childList: true});\n",
       "}}\n",
       "\n",
       "// Listen for the clearing of the current output cell\n",
       "var outputEl = gd.closest('.output');\n",
       "if (outputEl) {{\n",
       "    x.observe(outputEl, {childList: true});\n",
       "}}\n",
       "\n",
       "                        })                };                });            </script>        </div>"
      ]
     },
     "metadata": {},
     "output_type": "display_data"
    }
   ],
   "source": [
    "# Compute Spearman correlation\n",
    "corr = df.corr(method = \"spearman\")\n",
    "corr = corr[np.round(corr, 2) > .7]\n",
    "\n",
    "# Visualize Spearman correlation\n",
    "fig = px.imshow(corr, text_auto = True, height = 800, color_continuous_scale='gray')\n",
    "fig.show()"
   ]
  },
  {
   "cell_type": "markdown",
   "id": "09469ab1",
   "metadata": {
    "papermill": {
     "duration": 0.023642,
     "end_time": "2023-12-05T00:01:16.538353",
     "exception": false,
     "start_time": "2023-12-05T00:01:16.514711",
     "status": "completed"
    },
    "tags": []
   },
   "source": [
    "It's evident that within our dataset, a **sparse number of features** exhibit **significant correlations** with each other. Notably, the **correlations predominantly display positive relationships**, with a **solitary instance** of a **negative correlation**.\n",
    "\n",
    "---\n",
    "Let's visualize the first correlation between the overall quality and the sales price. The correlation coefficient is 0.8 signifying a strong positive correlation."
   ]
  },
  {
   "cell_type": "code",
   "execution_count": 16,
   "id": "365bd59d",
   "metadata": {
    "execution": {
     "iopub.execute_input": "2023-12-05T00:01:16.588404Z",
     "iopub.status.busy": "2023-12-05T00:01:16.588013Z",
     "iopub.status.idle": "2023-12-05T00:01:16.924062Z",
     "shell.execute_reply": "2023-12-05T00:01:16.922962Z"
    },
    "papermill": {
     "duration": 0.363769,
     "end_time": "2023-12-05T00:01:16.926518",
     "exception": false,
     "start_time": "2023-12-05T00:01:16.562749",
     "status": "completed"
    },
    "tags": []
   },
   "outputs": [
    {
     "data": {
      "text/html": [
       "<div>                            <div id=\"cb665eb1-c721-43e6-ad32-0dc5a16d8c7c\" class=\"plotly-graph-div\" style=\"height:525px; width:100%;\"></div>            <script type=\"text/javascript\">                require([\"plotly\"], function(Plotly) {                    window.PLOTLYENV=window.PLOTLYENV || {};                                    if (document.getElementById(\"cb665eb1-c721-43e6-ad32-0dc5a16d8c7c\")) {                    Plotly.newPlot(                        \"cb665eb1-c721-43e6-ad32-0dc5a16d8c7c\",                        [{\"alignmentgroup\":\"True\",\"bingroup\":\"x\",\"hovertemplate\":\"OverallQual=7\\u003cbr\\u003eSalePrice=%{x}\\u003cbr\\u003ecount=%{y}\\u003cextra\\u003e\\u003c\\u002fextra\\u003e\",\"legendgroup\":\"7\",\"marker\":{\"color\":\"#636efa\",\"pattern\":{\"shape\":\"\"}},\"name\":\"7\",\"offsetgroup\":\"7\",\"orientation\":\"v\",\"showlegend\":true,\"x\":[208500,223500,140000,200000,129900,279500,132000,139400,239686,196500,140000,219500,180000,226000,225000,244000,185000,168500,214000,198900,169500,180000,383970,320000,226000,174000,171000,260000,204000,222500,141000,254900,320000,220000,183500,239000,200100,200000,173000,184000,192000,130000,311872,180500,277000,252678,210000,311500,167240,204900,290000,192500,185500,194500,205000,241500,180000,230000,220000,231500,241500,205000,201000,192000,228500,207500,164700,235000,239000,205000,295000,225000,375000,178000,188500,260000,260000,187500,301000,242000,207000,214000,202500,154000,190000,198500,219500,187750,213500,191000,241000,164990,280000,222000,228000,181134,206300,135000,275000,195400,212000,172500,210000,199900,280000,175500,155000,178740,167000,190000,155000,184000,226700,289000,161000,202665,265000,234000,315750,176000,188000,213250,133000,179665,229000,263000,284000,175000,234000,268000,214000,224500,170000,145000,146000,185900,194201,151000,221000,205000,82500,226000,205950,191000,149000,197900,221000,207500,227875,148800,335000,196000,140000,213000,302000,179540,159500,341000,194500,187500,222500,163000,190000,179000,236000,265979,260400,162000,179400,215200,196500,216837,221500,176000,187100,233000,160200,269790,194500,189000,227680,224900,224000,183000,225000,189000,147400,151000,237000,213000,164000,152000,189950,250580,236000,187500,180000,240000,250000,238000,176000,222000,190000,242000,184900,253000,239799,244400,214000,192500,185000,155000,214900,173000,182000,167500,165000,199900,178400,159895,197000,206000,181000,240000,203000,160000,213490,194000,191000,197000,230000,262280,176485,200141,185850,248000,328000,194000,219500,192000,137500,160000,157000,179900,274725,205000,212900,163900,174000,259000,215000,174500,116900,143000,201800,230000,233170,171900,250000,195000,189000,219210,144000,178000,197900,213000,271900,184000,175500,195000,224900,248328,170000,186500,244000,171750,294000,165400,190000,183900,122000,260000,227000,180000,162900,225000,232000,130000,202500,335000,203000,208900,190000,176500,200000,155835,262500,215000,235000,170000,260000,144152,216000,193000,274300,250000,157000,250000,235000,246578,193879,215000,230000,175900,271000,197000,179600,185000,266500],\"xaxis\":\"x\",\"yaxis\":\"y\",\"type\":\"histogram\"},{\"alignmentgroup\":\"True\",\"bingroup\":\"x\",\"hovertemplate\":\"OverallQual=6\\u003cbr\\u003eSalePrice=%{x}\\u003cbr\\u003ecount=%{y}\\u003cextra\\u003e\\u003c\\u002fextra\\u003e\",\"legendgroup\":\"6\",\"marker\":{\"color\":\"#EF553B\",\"pattern\":{\"shape\":\"\"}},\"name\":\"6\",\"offsetgroup\":\"6\",\"orientation\":\"v\",\"showlegend\":true,\"x\":[181500,157000,149000,160000,177000,114500,180500,158000,193500,153500,174000,164500,133900,204750,185000,205000,178000,190000,136900,217000,259500,176000,163990,180000,136000,153900,181000,84500,128000,155000,244000,231500,130000,190000,235000,125000,79000,162500,152000,215000,163000,184000,243000,211000,177000,148500,104000,171500,112000,149000,145000,186000,161750,200000,179900,106000,148000,94500,216500,89500,113000,120000,137000,140000,277000,173000,158000,207500,176000,151000,175500,185000,148000,139000,185000,179200,159000,153575,167000,142500,175000,158500,89500,165600,132000,145250,214500,192000,155000,140200,151500,157500,105900,140000,177500,173000,156000,118000,190000,159000,165000,172400,125000,179000,76000,240000,125000,215000,168000,115000,177000,149500,239000,215000,139000,175000,85400,79900,181000,116000,119000,110000,127500,190000,119500,110000,204000,188700,187000,148000,208900,164000,133000,172785,113000,147000,208300,134000,158000,211000,150000,159000,200624,175000,128000,210000,140000,185000,128000,120000,181900,118500,130000,140000,114504,151000,141000,148000,137500,183200,105500,240000,168500,165150,160000,153000,168500,144000,200000,143250,155000,155000,135000,88000,97500,110000,129000,193500,173500,103600,165000,257500,140000,148500,143000,173000,194700,141000,176000,130500,165000,143000,222000,142000,217000,156000,172500,158900,127500,160000,107000,162000,135000,175900,128000,161500,187500,146800,171000,143500,200000,181000,144500,157900,155000,139500,166000,167000,100000,140000,174900,240000,187000,131500,158000,147000,174000,250000,152000,200500,178000,149500,172500,154500,140000,174000,173733,176500,201000,169990,193000,207500,150900,137500,197500,127500,145000,124000,272000,155000,178900,140000,99500,117000,195000,187000,173900,185000,163500,165000,119200,118000,173000,196000,165000,180000,220000,110500,178000,167900,151400,154000,159500,155900,145000,160000,187500,147000,136500,176432,127000,159500,181000,188000,118400,117500,169000,102000,119000,196000,180000,124000,230000,120500,185000,146000,224000,173000,235000,171000,163000,239000,115000,165000,158000,176000,200000,189000,112000,91500,143000,145000,214000,142500,178000,169900,129500,127500,151000,181000,180500,181000,185750,177000,162000,197900,139000,169000,132500,143000,140000,177500,179200,206900,156500,256000,167900,155000,177000,171000,134900,177500,156932,144000,165500,91000,83000,237500,105000,136000,131000,163000,137450,120000,193000,140000,207000,223000,179900,127500,136500,274970,142000,182900,143750,186500,174000,149700,191000,149300,121000,129000,175000,210000],\"xaxis\":\"x\",\"yaxis\":\"y\",\"type\":\"histogram\"},{\"alignmentgroup\":\"True\",\"bingroup\":\"x\",\"hovertemplate\":\"OverallQual=8\\u003cbr\\u003eSalePrice=%{x}\\u003cbr\\u003ecount=%{y}\\u003cextra\\u003e\\u003c\\u002fextra\\u003e\",\"legendgroup\":\"8\",\"marker\":{\"color\":\"#00cc96\",\"pattern\":{\"shape\":\"\"}},\"name\":\"8\",\"offsetgroup\":\"8\",\"orientation\":\"v\",\"showlegend\":true,\"x\":[250000,307000,325300,230000,256300,306000,179900,309000,249700,172500,202500,317000,245000,260000,250000,220000,230000,372402,269500,325624,228000,286000,315000,235000,274900,403000,318000,262500,235000,276000,266000,290000,244600,233230,267000,305900,270000,354000,324000,284000,202900,280000,340000,192000,245500,258000,339750,315000,210000,161000,263435,250000,212000,440000,251000,297000,430000,215000,178000,272000,248000,255500,316600,253293,369900,319000,275000,220000,359100,261500,305000,209500,264561,274000,345000,350000,402000,423000,230500,372500,392000,312500,361919,254000,189000,275000,236500,239900,180000,299800,275500,212000,290000,337000,270000,538000,395000,225000,271000,232600,215000,248900,303477,268000,255000,285000,236500,201000,270000,336000,255900,348000,168000,232000,227000,187500,287000,293077,310000,287000,278000,255000,213500,252000,197000,170000,325000,280000,318000,184100,239500,424870,235128,245350,285000,392500,262000,174000,290000,164000,229456,265900,230000,301500,381000,237000,278000,281000,290000,302000,295493,275000,147000,227000,228500,283463,122000,410000,232000,239000,281213,282922,275000,257000,340000,394617,240000,287090],\"xaxis\":\"x\",\"yaxis\":\"y\",\"type\":\"histogram\"},{\"alignmentgroup\":\"True\",\"bingroup\":\"x\",\"hovertemplate\":\"OverallQual=5\\u003cbr\\u003eSalePrice=%{x}\\u003cbr\\u003ecount=%{y}\\u003cextra\\u003e\\u003c\\u002fextra\\u003e\",\"legendgroup\":\"5\",\"marker\":{\"color\":\"#ab63fa\",\"pattern\":{\"shape\":\"\"}},\"name\":\"5\",\"offsetgroup\":\"5\",\"orientation\":\"v\",\"showlegend\":true,\"x\":[143000,118000,129500,144000,159000,139000,129900,154000,134800,207500,149350,165500,145000,153000,109000,170000,144000,130250,141000,127000,110000,130000,124900,101000,144900,127000,110000,126500,98600,163500,83000,118964,115000,115000,139000,155000,87000,150000,150750,180000,143000,166000,125000,105000,115000,122000,109500,127500,190000,128500,172500,100000,120000,127000,135000,153337,127000,110000,143900,98000,156000,134450,112000,125000,128200,110500,79000,145000,97000,130000,73000,179500,120500,124500,122000,135900,131000,152000,157000,149900,119900,87000,78000,119000,139000,228950,85000,95000,134000,130000,145000,147000,132000,162000,123000,148000,127000,81000,119000,106500,109000,129000,123000,169500,67000,108000,60000,145000,115000,126000,142000,113000,122500,90350,162900,188000,98000,110000,62383,124000,146500,132500,132500,147000,156000,175000,160000,115000,155000,91300,130000,120000,140000,124500,124500,164900,129900,96500,132000,107500,107500,158000,129500,125000,112500,113000,141000,121500,170000,108000,135960,142600,139000,118500,164500,131500,137000,143000,79500,138000,110000,217500,152000,225000,147000,135000,139900,135000,124000,139400,93000,85000,152000,98300,145500,167000,168000,109500,128500,159434,108480,141500,89000,123500,138500,140000,109900,157000,128500,110000,131400,108000,179000,132000,175000,100000,134900,114500,142500,144000,165500,139000,110000,175000,118000,135500,223500,159950,106000,55993,116000,137000,109500,185000,139950,153500,144000,130500,157500,141000,153900,171000,133500,170000,127000,131500,132500,148500,169000,109500,116000,133000,66500,148000,136500,157000,100000,145000,135500,122900,165000,118858,142953,135000,153000,125500,128000,131000,154300,143500,88000,145000,145900,175000,117500,143000,124900,143000,129000,119900,133900,172000,132000,116500,160000,135000,139000,126000,125000,136500,86000,136905,149900,102000,135000,100000,85000,87000,112500,167500,105000,160000,119750,155000,145000,115000,144500,90000,154000,135000,135000,91500,170000,138800,126000,133000,146000,129000,119500,135000,106000,129900,134500,117000,130000,140000,133700,118000,140000,93500,94000,144000,139000,197500,80000,149000,149900,218000,179900,129000,194000,200500,119500,154900,93000,120000,186700,104900,125000,117000,153500,140000,134500,125000,115000,134000,137900,147000,127000,190000,132500,142000,130000,138887,119000,130000,99900,128900,144000,137000,139000,137000,150500,190000,180500,119500,107500,115000,138500,155000,154000,138000,147000,130500,132500,125500,125000,135000,128500,200000,110000,149900,189000,127000,117000,167500,112000,124000,123000,160000,137500,138000,133000,112000,124000,144000,140000,119000,192140,160000,157900,92000,136000,145000,84500,142125,147500],\"xaxis\":\"x\",\"yaxis\":\"y\",\"type\":\"histogram\"},{\"alignmentgroup\":\"True\",\"bingroup\":\"x\",\"hovertemplate\":\"OverallQual=9\\u003cbr\\u003eSalePrice=%{x}\\u003cbr\\u003ecount=%{y}\\u003cextra\\u003e\\u003c\\u002fextra\\u003e\",\"legendgroup\":\"9\",\"marker\":{\"color\":\"#FFA15A\",\"pattern\":{\"shape\":\"\"}},\"name\":\"9\",\"offsetgroup\":\"9\",\"orientation\":\"v\",\"showlegend\":true,\"x\":[345000,277500,319900,385000,412500,501837,415298,360000,342643,377426,266000,437154,318061,394432,380000,326000,374000,446261,315000,325000,313000,314813,370878,285000,320000,264132,485000,582933,350000,328900,611657,320000,239000,395192,315500,556581,335000,367294,378500,325000,333168,315000,377500],\"xaxis\":\"x\",\"yaxis\":\"y\",\"type\":\"histogram\"},{\"alignmentgroup\":\"True\",\"bingroup\":\"x\",\"hovertemplate\":\"OverallQual=4\\u003cbr\\u003eSalePrice=%{x}\\u003cbr\\u003ecount=%{y}\\u003cextra\\u003e\\u003c\\u002fextra\\u003e\",\"legendgroup\":\"4\",\"marker\":{\"color\":\"#19d3f3\",\"pattern\":{\"shape\":\"\"}},\"name\":\"4\",\"offsetgroup\":\"4\",\"orientation\":\"v\",\"showlegend\":true,\"x\":[90000,68500,40000,82000,113000,80000,129500,91000,135750,136500,123600,109900,94750,128950,100000,100000,115000,103200,140000,141000,107000,97000,141000,88000,82500,82000,134432,100000,150000,109008,81000,118000,256000,89471,86000,34900,106250,86000,111250,108000,108000,133000,118500,75500,84500,108000,137500,137500,87000,55000,102776,129000,124500,135000,120500,103000,98000,96500,102000,107900,109900,93000,128000,129000,132250,118500,106500,110000,75000,135000,79900,150000,135000,85500,110000,121600,88000,176000,84000,97000,80000,84900,83500,128000,112000,115000,135000,80000,108959,168000,148000,116050,107000,113000,145000,80500,101800,161500,68400,119000,111000,82500,55000,100000,52500,123000,108500,104900,105000,125500,125500,90000,122500,64500,120500,112000],\"xaxis\":\"x\",\"yaxis\":\"y\",\"type\":\"histogram\"},{\"alignmentgroup\":\"True\",\"bingroup\":\"x\",\"hovertemplate\":\"OverallQual=10\\u003cbr\\u003eSalePrice=%{x}\\u003cbr\\u003ecount=%{y}\\u003cextra\\u003e\\u003c\\u002fextra\\u003e\",\"legendgroup\":\"10\",\"marker\":{\"color\":\"#FF6692\",\"pattern\":{\"shape\":\"\"}},\"name\":\"10\",\"offsetgroup\":\"10\",\"orientation\":\"v\",\"showlegend\":true,\"x\":[438780,475000,386250,426000,555000,402861,184750,325000,451950,755000,385000,337500,625000,745000,465000,160000,466500,310000],\"xaxis\":\"x\",\"yaxis\":\"y\",\"type\":\"histogram\"},{\"alignmentgroup\":\"True\",\"bingroup\":\"x\",\"hovertemplate\":\"OverallQual=3\\u003cbr\\u003eSalePrice=%{x}\\u003cbr\\u003ecount=%{y}\\u003cextra\\u003e\\u003c\\u002fextra\\u003e\",\"legendgroup\":\"3\",\"marker\":{\"color\":\"#B6E880\",\"pattern\":{\"shape\":\"\"}},\"name\":\"3\",\"offsetgroup\":\"3\",\"orientation\":\"v\",\"showlegend\":true,\"x\":[107400,85000,76500,126175,87500,120000,67000,52000,93500,37900,91000,82000,139600,81000,92900,95000,72500,79000,58500,105000],\"xaxis\":\"x\",\"yaxis\":\"y\",\"type\":\"histogram\"},{\"alignmentgroup\":\"True\",\"bingroup\":\"x\",\"hovertemplate\":\"OverallQual=1\\u003cbr\\u003eSalePrice=%{x}\\u003cbr\\u003ecount=%{y}\\u003cextra\\u003e\\u003c\\u002fextra\\u003e\",\"legendgroup\":\"1\",\"marker\":{\"color\":\"#FF97FF\",\"pattern\":{\"shape\":\"\"}},\"name\":\"1\",\"offsetgroup\":\"1\",\"orientation\":\"v\",\"showlegend\":true,\"x\":[61000,39300],\"xaxis\":\"x\",\"yaxis\":\"y\",\"type\":\"histogram\"},{\"alignmentgroup\":\"True\",\"bingroup\":\"x\",\"hovertemplate\":\"OverallQual=2\\u003cbr\\u003eSalePrice=%{x}\\u003cbr\\u003ecount=%{y}\\u003cextra\\u003e\\u003c\\u002fextra\\u003e\",\"legendgroup\":\"2\",\"marker\":{\"color\":\"#FECB52\",\"pattern\":{\"shape\":\"\"}},\"name\":\"2\",\"offsetgroup\":\"2\",\"orientation\":\"v\",\"showlegend\":true,\"x\":[60000,35311,60000],\"xaxis\":\"x\",\"yaxis\":\"y\",\"type\":\"histogram\"}],                        {\"template\":{\"data\":{\"histogram2dcontour\":[{\"type\":\"histogram2dcontour\",\"colorbar\":{\"outlinewidth\":0,\"ticks\":\"\"},\"colorscale\":[[0.0,\"#0d0887\"],[0.1111111111111111,\"#46039f\"],[0.2222222222222222,\"#7201a8\"],[0.3333333333333333,\"#9c179e\"],[0.4444444444444444,\"#bd3786\"],[0.5555555555555556,\"#d8576b\"],[0.6666666666666666,\"#ed7953\"],[0.7777777777777778,\"#fb9f3a\"],[0.8888888888888888,\"#fdca26\"],[1.0,\"#f0f921\"]]}],\"choropleth\":[{\"type\":\"choropleth\",\"colorbar\":{\"outlinewidth\":0,\"ticks\":\"\"}}],\"histogram2d\":[{\"type\":\"histogram2d\",\"colorbar\":{\"outlinewidth\":0,\"ticks\":\"\"},\"colorscale\":[[0.0,\"#0d0887\"],[0.1111111111111111,\"#46039f\"],[0.2222222222222222,\"#7201a8\"],[0.3333333333333333,\"#9c179e\"],[0.4444444444444444,\"#bd3786\"],[0.5555555555555556,\"#d8576b\"],[0.6666666666666666,\"#ed7953\"],[0.7777777777777778,\"#fb9f3a\"],[0.8888888888888888,\"#fdca26\"],[1.0,\"#f0f921\"]]}],\"heatmap\":[{\"type\":\"heatmap\",\"colorbar\":{\"outlinewidth\":0,\"ticks\":\"\"},\"colorscale\":[[0.0,\"#0d0887\"],[0.1111111111111111,\"#46039f\"],[0.2222222222222222,\"#7201a8\"],[0.3333333333333333,\"#9c179e\"],[0.4444444444444444,\"#bd3786\"],[0.5555555555555556,\"#d8576b\"],[0.6666666666666666,\"#ed7953\"],[0.7777777777777778,\"#fb9f3a\"],[0.8888888888888888,\"#fdca26\"],[1.0,\"#f0f921\"]]}],\"heatmapgl\":[{\"type\":\"heatmapgl\",\"colorbar\":{\"outlinewidth\":0,\"ticks\":\"\"},\"colorscale\":[[0.0,\"#0d0887\"],[0.1111111111111111,\"#46039f\"],[0.2222222222222222,\"#7201a8\"],[0.3333333333333333,\"#9c179e\"],[0.4444444444444444,\"#bd3786\"],[0.5555555555555556,\"#d8576b\"],[0.6666666666666666,\"#ed7953\"],[0.7777777777777778,\"#fb9f3a\"],[0.8888888888888888,\"#fdca26\"],[1.0,\"#f0f921\"]]}],\"contourcarpet\":[{\"type\":\"contourcarpet\",\"colorbar\":{\"outlinewidth\":0,\"ticks\":\"\"}}],\"contour\":[{\"type\":\"contour\",\"colorbar\":{\"outlinewidth\":0,\"ticks\":\"\"},\"colorscale\":[[0.0,\"#0d0887\"],[0.1111111111111111,\"#46039f\"],[0.2222222222222222,\"#7201a8\"],[0.3333333333333333,\"#9c179e\"],[0.4444444444444444,\"#bd3786\"],[0.5555555555555556,\"#d8576b\"],[0.6666666666666666,\"#ed7953\"],[0.7777777777777778,\"#fb9f3a\"],[0.8888888888888888,\"#fdca26\"],[1.0,\"#f0f921\"]]}],\"surface\":[{\"type\":\"surface\",\"colorbar\":{\"outlinewidth\":0,\"ticks\":\"\"},\"colorscale\":[[0.0,\"#0d0887\"],[0.1111111111111111,\"#46039f\"],[0.2222222222222222,\"#7201a8\"],[0.3333333333333333,\"#9c179e\"],[0.4444444444444444,\"#bd3786\"],[0.5555555555555556,\"#d8576b\"],[0.6666666666666666,\"#ed7953\"],[0.7777777777777778,\"#fb9f3a\"],[0.8888888888888888,\"#fdca26\"],[1.0,\"#f0f921\"]]}],\"mesh3d\":[{\"type\":\"mesh3d\",\"colorbar\":{\"outlinewidth\":0,\"ticks\":\"\"}}],\"scatter\":[{\"fillpattern\":{\"fillmode\":\"overlay\",\"size\":10,\"solidity\":0.2},\"type\":\"scatter\"}],\"parcoords\":[{\"type\":\"parcoords\",\"line\":{\"colorbar\":{\"outlinewidth\":0,\"ticks\":\"\"}}}],\"scatterpolargl\":[{\"type\":\"scatterpolargl\",\"marker\":{\"colorbar\":{\"outlinewidth\":0,\"ticks\":\"\"}}}],\"bar\":[{\"error_x\":{\"color\":\"#2a3f5f\"},\"error_y\":{\"color\":\"#2a3f5f\"},\"marker\":{\"line\":{\"color\":\"#E5ECF6\",\"width\":0.5},\"pattern\":{\"fillmode\":\"overlay\",\"size\":10,\"solidity\":0.2}},\"type\":\"bar\"}],\"scattergeo\":[{\"type\":\"scattergeo\",\"marker\":{\"colorbar\":{\"outlinewidth\":0,\"ticks\":\"\"}}}],\"scatterpolar\":[{\"type\":\"scatterpolar\",\"marker\":{\"colorbar\":{\"outlinewidth\":0,\"ticks\":\"\"}}}],\"histogram\":[{\"marker\":{\"pattern\":{\"fillmode\":\"overlay\",\"size\":10,\"solidity\":0.2}},\"type\":\"histogram\"}],\"scattergl\":[{\"type\":\"scattergl\",\"marker\":{\"colorbar\":{\"outlinewidth\":0,\"ticks\":\"\"}}}],\"scatter3d\":[{\"type\":\"scatter3d\",\"line\":{\"colorbar\":{\"outlinewidth\":0,\"ticks\":\"\"}},\"marker\":{\"colorbar\":{\"outlinewidth\":0,\"ticks\":\"\"}}}],\"scattermapbox\":[{\"type\":\"scattermapbox\",\"marker\":{\"colorbar\":{\"outlinewidth\":0,\"ticks\":\"\"}}}],\"scatterternary\":[{\"type\":\"scatterternary\",\"marker\":{\"colorbar\":{\"outlinewidth\":0,\"ticks\":\"\"}}}],\"scattercarpet\":[{\"type\":\"scattercarpet\",\"marker\":{\"colorbar\":{\"outlinewidth\":0,\"ticks\":\"\"}}}],\"carpet\":[{\"aaxis\":{\"endlinecolor\":\"#2a3f5f\",\"gridcolor\":\"white\",\"linecolor\":\"white\",\"minorgridcolor\":\"white\",\"startlinecolor\":\"#2a3f5f\"},\"baxis\":{\"endlinecolor\":\"#2a3f5f\",\"gridcolor\":\"white\",\"linecolor\":\"white\",\"minorgridcolor\":\"white\",\"startlinecolor\":\"#2a3f5f\"},\"type\":\"carpet\"}],\"table\":[{\"cells\":{\"fill\":{\"color\":\"#EBF0F8\"},\"line\":{\"color\":\"white\"}},\"header\":{\"fill\":{\"color\":\"#C8D4E3\"},\"line\":{\"color\":\"white\"}},\"type\":\"table\"}],\"barpolar\":[{\"marker\":{\"line\":{\"color\":\"#E5ECF6\",\"width\":0.5},\"pattern\":{\"fillmode\":\"overlay\",\"size\":10,\"solidity\":0.2}},\"type\":\"barpolar\"}],\"pie\":[{\"automargin\":true,\"type\":\"pie\"}]},\"layout\":{\"autotypenumbers\":\"strict\",\"colorway\":[\"#636efa\",\"#EF553B\",\"#00cc96\",\"#ab63fa\",\"#FFA15A\",\"#19d3f3\",\"#FF6692\",\"#B6E880\",\"#FF97FF\",\"#FECB52\"],\"font\":{\"color\":\"#2a3f5f\"},\"hovermode\":\"closest\",\"hoverlabel\":{\"align\":\"left\"},\"paper_bgcolor\":\"white\",\"plot_bgcolor\":\"#E5ECF6\",\"polar\":{\"bgcolor\":\"#E5ECF6\",\"angularaxis\":{\"gridcolor\":\"white\",\"linecolor\":\"white\",\"ticks\":\"\"},\"radialaxis\":{\"gridcolor\":\"white\",\"linecolor\":\"white\",\"ticks\":\"\"}},\"ternary\":{\"bgcolor\":\"#E5ECF6\",\"aaxis\":{\"gridcolor\":\"white\",\"linecolor\":\"white\",\"ticks\":\"\"},\"baxis\":{\"gridcolor\":\"white\",\"linecolor\":\"white\",\"ticks\":\"\"},\"caxis\":{\"gridcolor\":\"white\",\"linecolor\":\"white\",\"ticks\":\"\"}},\"coloraxis\":{\"colorbar\":{\"outlinewidth\":0,\"ticks\":\"\"}},\"colorscale\":{\"sequential\":[[0.0,\"#0d0887\"],[0.1111111111111111,\"#46039f\"],[0.2222222222222222,\"#7201a8\"],[0.3333333333333333,\"#9c179e\"],[0.4444444444444444,\"#bd3786\"],[0.5555555555555556,\"#d8576b\"],[0.6666666666666666,\"#ed7953\"],[0.7777777777777778,\"#fb9f3a\"],[0.8888888888888888,\"#fdca26\"],[1.0,\"#f0f921\"]],\"sequentialminus\":[[0.0,\"#0d0887\"],[0.1111111111111111,\"#46039f\"],[0.2222222222222222,\"#7201a8\"],[0.3333333333333333,\"#9c179e\"],[0.4444444444444444,\"#bd3786\"],[0.5555555555555556,\"#d8576b\"],[0.6666666666666666,\"#ed7953\"],[0.7777777777777778,\"#fb9f3a\"],[0.8888888888888888,\"#fdca26\"],[1.0,\"#f0f921\"]],\"diverging\":[[0,\"#8e0152\"],[0.1,\"#c51b7d\"],[0.2,\"#de77ae\"],[0.3,\"#f1b6da\"],[0.4,\"#fde0ef\"],[0.5,\"#f7f7f7\"],[0.6,\"#e6f5d0\"],[0.7,\"#b8e186\"],[0.8,\"#7fbc41\"],[0.9,\"#4d9221\"],[1,\"#276419\"]]},\"xaxis\":{\"gridcolor\":\"white\",\"linecolor\":\"white\",\"ticks\":\"\",\"title\":{\"standoff\":15},\"zerolinecolor\":\"white\",\"automargin\":true,\"zerolinewidth\":2},\"yaxis\":{\"gridcolor\":\"white\",\"linecolor\":\"white\",\"ticks\":\"\",\"title\":{\"standoff\":15},\"zerolinecolor\":\"white\",\"automargin\":true,\"zerolinewidth\":2},\"scene\":{\"xaxis\":{\"backgroundcolor\":\"#E5ECF6\",\"gridcolor\":\"white\",\"linecolor\":\"white\",\"showbackground\":true,\"ticks\":\"\",\"zerolinecolor\":\"white\",\"gridwidth\":2},\"yaxis\":{\"backgroundcolor\":\"#E5ECF6\",\"gridcolor\":\"white\",\"linecolor\":\"white\",\"showbackground\":true,\"ticks\":\"\",\"zerolinecolor\":\"white\",\"gridwidth\":2},\"zaxis\":{\"backgroundcolor\":\"#E5ECF6\",\"gridcolor\":\"white\",\"linecolor\":\"white\",\"showbackground\":true,\"ticks\":\"\",\"zerolinecolor\":\"white\",\"gridwidth\":2}},\"shapedefaults\":{\"line\":{\"color\":\"#2a3f5f\"}},\"annotationdefaults\":{\"arrowcolor\":\"#2a3f5f\",\"arrowhead\":0,\"arrowwidth\":1},\"geo\":{\"bgcolor\":\"white\",\"landcolor\":\"#E5ECF6\",\"subunitcolor\":\"white\",\"showland\":true,\"showlakes\":true,\"lakecolor\":\"white\"},\"title\":{\"x\":0.05},\"mapbox\":{\"style\":\"light\"}}},\"xaxis\":{\"anchor\":\"y\",\"domain\":[0.0,1.0],\"title\":{\"text\":\"SalePrice\"}},\"yaxis\":{\"anchor\":\"x\",\"domain\":[0.0,1.0],\"title\":{\"text\":\"count\"}},\"legend\":{\"title\":{\"text\":\"OverallQual\"},\"tracegroupgap\":0},\"title\":{\"text\":\"OverallQual vs SalePrice (0.8)\"},\"barmode\":\"relative\"},                        {\"responsive\": true}                    ).then(function(){\n",
       "                            \n",
       "var gd = document.getElementById('cb665eb1-c721-43e6-ad32-0dc5a16d8c7c');\n",
       "var x = new MutationObserver(function (mutations, observer) {{\n",
       "        var display = window.getComputedStyle(gd).display;\n",
       "        if (!display || display === 'none') {{\n",
       "            console.log([gd, 'removed!']);\n",
       "            Plotly.purge(gd);\n",
       "            observer.disconnect();\n",
       "        }}\n",
       "}});\n",
       "\n",
       "// Listen for the removal of the full notebook cells\n",
       "var notebookContainer = gd.closest('#notebook-container');\n",
       "if (notebookContainer) {{\n",
       "    x.observe(notebookContainer, {childList: true});\n",
       "}}\n",
       "\n",
       "// Listen for the clearing of the current output cell\n",
       "var outputEl = gd.closest('.output');\n",
       "if (outputEl) {{\n",
       "    x.observe(outputEl, {childList: true});\n",
       "}}\n",
       "\n",
       "                        })                };                });            </script>        </div>"
      ]
     },
     "metadata": {},
     "output_type": "display_data"
    },
    {
     "data": {
      "text/html": [
       "<div>                            <div id=\"626549b5-ca03-4898-8288-5291dc2ce78f\" class=\"plotly-graph-div\" style=\"height:525px; width:100%;\"></div>            <script type=\"text/javascript\">                require([\"plotly\"], function(Plotly) {                    window.PLOTLYENV=window.PLOTLYENV || {};                                    if (document.getElementById(\"626549b5-ca03-4898-8288-5291dc2ce78f\")) {                    Plotly.newPlot(                        \"626549b5-ca03-4898-8288-5291dc2ce78f\",                        [{\"alignmentgroup\":\"True\",\"hovertemplate\":\"OverallQual=%{x}\\u003cbr\\u003eSalePrice=%{y}\\u003cextra\\u003e\\u003c\\u002fextra\\u003e\",\"legendgroup\":\"7\",\"marker\":{\"color\":\"#636efa\"},\"name\":\"7\",\"notched\":false,\"offsetgroup\":\"7\",\"orientation\":\"v\",\"showlegend\":true,\"x\":[7,7,7,7,7,7,7,7,7,7,7,7,7,7,7,7,7,7,7,7,7,7,7,7,7,7,7,7,7,7,7,7,7,7,7,7,7,7,7,7,7,7,7,7,7,7,7,7,7,7,7,7,7,7,7,7,7,7,7,7,7,7,7,7,7,7,7,7,7,7,7,7,7,7,7,7,7,7,7,7,7,7,7,7,7,7,7,7,7,7,7,7,7,7,7,7,7,7,7,7,7,7,7,7,7,7,7,7,7,7,7,7,7,7,7,7,7,7,7,7,7,7,7,7,7,7,7,7,7,7,7,7,7,7,7,7,7,7,7,7,7,7,7,7,7,7,7,7,7,7,7,7,7,7,7,7,7,7,7,7,7,7,7,7,7,7,7,7,7,7,7,7,7,7,7,7,7,7,7,7,7,7,7,7,7,7,7,7,7,7,7,7,7,7,7,7,7,7,7,7,7,7,7,7,7,7,7,7,7,7,7,7,7,7,7,7,7,7,7,7,7,7,7,7,7,7,7,7,7,7,7,7,7,7,7,7,7,7,7,7,7,7,7,7,7,7,7,7,7,7,7,7,7,7,7,7,7,7,7,7,7,7,7,7,7,7,7,7,7,7,7,7,7,7,7,7,7,7,7,7,7,7,7,7,7,7,7,7,7,7,7,7,7,7,7,7,7,7,7,7,7,7,7,7,7,7,7,7,7,7,7,7,7,7,7,7,7,7,7],\"x0\":\" \",\"xaxis\":\"x\",\"y\":[208500,223500,140000,200000,129900,279500,132000,139400,239686,196500,140000,219500,180000,226000,225000,244000,185000,168500,214000,198900,169500,180000,383970,320000,226000,174000,171000,260000,204000,222500,141000,254900,320000,220000,183500,239000,200100,200000,173000,184000,192000,130000,311872,180500,277000,252678,210000,311500,167240,204900,290000,192500,185500,194500,205000,241500,180000,230000,220000,231500,241500,205000,201000,192000,228500,207500,164700,235000,239000,205000,295000,225000,375000,178000,188500,260000,260000,187500,301000,242000,207000,214000,202500,154000,190000,198500,219500,187750,213500,191000,241000,164990,280000,222000,228000,181134,206300,135000,275000,195400,212000,172500,210000,199900,280000,175500,155000,178740,167000,190000,155000,184000,226700,289000,161000,202665,265000,234000,315750,176000,188000,213250,133000,179665,229000,263000,284000,175000,234000,268000,214000,224500,170000,145000,146000,185900,194201,151000,221000,205000,82500,226000,205950,191000,149000,197900,221000,207500,227875,148800,335000,196000,140000,213000,302000,179540,159500,341000,194500,187500,222500,163000,190000,179000,236000,265979,260400,162000,179400,215200,196500,216837,221500,176000,187100,233000,160200,269790,194500,189000,227680,224900,224000,183000,225000,189000,147400,151000,237000,213000,164000,152000,189950,250580,236000,187500,180000,240000,250000,238000,176000,222000,190000,242000,184900,253000,239799,244400,214000,192500,185000,155000,214900,173000,182000,167500,165000,199900,178400,159895,197000,206000,181000,240000,203000,160000,213490,194000,191000,197000,230000,262280,176485,200141,185850,248000,328000,194000,219500,192000,137500,160000,157000,179900,274725,205000,212900,163900,174000,259000,215000,174500,116900,143000,201800,230000,233170,171900,250000,195000,189000,219210,144000,178000,197900,213000,271900,184000,175500,195000,224900,248328,170000,186500,244000,171750,294000,165400,190000,183900,122000,260000,227000,180000,162900,225000,232000,130000,202500,335000,203000,208900,190000,176500,200000,155835,262500,215000,235000,170000,260000,144152,216000,193000,274300,250000,157000,250000,235000,246578,193879,215000,230000,175900,271000,197000,179600,185000,266500],\"y0\":\" \",\"yaxis\":\"y\",\"type\":\"box\"},{\"alignmentgroup\":\"True\",\"hovertemplate\":\"OverallQual=%{x}\\u003cbr\\u003eSalePrice=%{y}\\u003cextra\\u003e\\u003c\\u002fextra\\u003e\",\"legendgroup\":\"6\",\"marker\":{\"color\":\"#EF553B\"},\"name\":\"6\",\"notched\":false,\"offsetgroup\":\"6\",\"orientation\":\"v\",\"showlegend\":true,\"x\":[6,6,6,6,6,6,6,6,6,6,6,6,6,6,6,6,6,6,6,6,6,6,6,6,6,6,6,6,6,6,6,6,6,6,6,6,6,6,6,6,6,6,6,6,6,6,6,6,6,6,6,6,6,6,6,6,6,6,6,6,6,6,6,6,6,6,6,6,6,6,6,6,6,6,6,6,6,6,6,6,6,6,6,6,6,6,6,6,6,6,6,6,6,6,6,6,6,6,6,6,6,6,6,6,6,6,6,6,6,6,6,6,6,6,6,6,6,6,6,6,6,6,6,6,6,6,6,6,6,6,6,6,6,6,6,6,6,6,6,6,6,6,6,6,6,6,6,6,6,6,6,6,6,6,6,6,6,6,6,6,6,6,6,6,6,6,6,6,6,6,6,6,6,6,6,6,6,6,6,6,6,6,6,6,6,6,6,6,6,6,6,6,6,6,6,6,6,6,6,6,6,6,6,6,6,6,6,6,6,6,6,6,6,6,6,6,6,6,6,6,6,6,6,6,6,6,6,6,6,6,6,6,6,6,6,6,6,6,6,6,6,6,6,6,6,6,6,6,6,6,6,6,6,6,6,6,6,6,6,6,6,6,6,6,6,6,6,6,6,6,6,6,6,6,6,6,6,6,6,6,6,6,6,6,6,6,6,6,6,6,6,6,6,6,6,6,6,6,6,6,6,6,6,6,6,6,6,6,6,6,6,6,6,6,6,6,6,6,6,6,6,6,6,6,6,6,6,6,6,6,6,6,6,6,6,6,6,6,6,6,6,6,6,6,6,6,6,6,6,6,6,6,6,6,6,6,6,6,6,6,6,6,6,6,6,6,6,6,6,6,6,6,6,6],\"x0\":\" \",\"xaxis\":\"x\",\"y\":[181500,157000,149000,160000,177000,114500,180500,158000,193500,153500,174000,164500,133900,204750,185000,205000,178000,190000,136900,217000,259500,176000,163990,180000,136000,153900,181000,84500,128000,155000,244000,231500,130000,190000,235000,125000,79000,162500,152000,215000,163000,184000,243000,211000,177000,148500,104000,171500,112000,149000,145000,186000,161750,200000,179900,106000,148000,94500,216500,89500,113000,120000,137000,140000,277000,173000,158000,207500,176000,151000,175500,185000,148000,139000,185000,179200,159000,153575,167000,142500,175000,158500,89500,165600,132000,145250,214500,192000,155000,140200,151500,157500,105900,140000,177500,173000,156000,118000,190000,159000,165000,172400,125000,179000,76000,240000,125000,215000,168000,115000,177000,149500,239000,215000,139000,175000,85400,79900,181000,116000,119000,110000,127500,190000,119500,110000,204000,188700,187000,148000,208900,164000,133000,172785,113000,147000,208300,134000,158000,211000,150000,159000,200624,175000,128000,210000,140000,185000,128000,120000,181900,118500,130000,140000,114504,151000,141000,148000,137500,183200,105500,240000,168500,165150,160000,153000,168500,144000,200000,143250,155000,155000,135000,88000,97500,110000,129000,193500,173500,103600,165000,257500,140000,148500,143000,173000,194700,141000,176000,130500,165000,143000,222000,142000,217000,156000,172500,158900,127500,160000,107000,162000,135000,175900,128000,161500,187500,146800,171000,143500,200000,181000,144500,157900,155000,139500,166000,167000,100000,140000,174900,240000,187000,131500,158000,147000,174000,250000,152000,200500,178000,149500,172500,154500,140000,174000,173733,176500,201000,169990,193000,207500,150900,137500,197500,127500,145000,124000,272000,155000,178900,140000,99500,117000,195000,187000,173900,185000,163500,165000,119200,118000,173000,196000,165000,180000,220000,110500,178000,167900,151400,154000,159500,155900,145000,160000,187500,147000,136500,176432,127000,159500,181000,188000,118400,117500,169000,102000,119000,196000,180000,124000,230000,120500,185000,146000,224000,173000,235000,171000,163000,239000,115000,165000,158000,176000,200000,189000,112000,91500,143000,145000,214000,142500,178000,169900,129500,127500,151000,181000,180500,181000,185750,177000,162000,197900,139000,169000,132500,143000,140000,177500,179200,206900,156500,256000,167900,155000,177000,171000,134900,177500,156932,144000,165500,91000,83000,237500,105000,136000,131000,163000,137450,120000,193000,140000,207000,223000,179900,127500,136500,274970,142000,182900,143750,186500,174000,149700,191000,149300,121000,129000,175000,210000],\"y0\":\" \",\"yaxis\":\"y\",\"type\":\"box\"},{\"alignmentgroup\":\"True\",\"hovertemplate\":\"OverallQual=%{x}\\u003cbr\\u003eSalePrice=%{y}\\u003cextra\\u003e\\u003c\\u002fextra\\u003e\",\"legendgroup\":\"8\",\"marker\":{\"color\":\"#00cc96\"},\"name\":\"8\",\"notched\":false,\"offsetgroup\":\"8\",\"orientation\":\"v\",\"showlegend\":true,\"x\":[8,8,8,8,8,8,8,8,8,8,8,8,8,8,8,8,8,8,8,8,8,8,8,8,8,8,8,8,8,8,8,8,8,8,8,8,8,8,8,8,8,8,8,8,8,8,8,8,8,8,8,8,8,8,8,8,8,8,8,8,8,8,8,8,8,8,8,8,8,8,8,8,8,8,8,8,8,8,8,8,8,8,8,8,8,8,8,8,8,8,8,8,8,8,8,8,8,8,8,8,8,8,8,8,8,8,8,8,8,8,8,8,8,8,8,8,8,8,8,8,8,8,8,8,8,8,8,8,8,8,8,8,8,8,8,8,8,8,8,8,8,8,8,8,8,8,8,8,8,8,8,8,8,8,8,8,8,8,8,8,8,8,8,8,8,8,8,8],\"x0\":\" \",\"xaxis\":\"x\",\"y\":[250000,307000,325300,230000,256300,306000,179900,309000,249700,172500,202500,317000,245000,260000,250000,220000,230000,372402,269500,325624,228000,286000,315000,235000,274900,403000,318000,262500,235000,276000,266000,290000,244600,233230,267000,305900,270000,354000,324000,284000,202900,280000,340000,192000,245500,258000,339750,315000,210000,161000,263435,250000,212000,440000,251000,297000,430000,215000,178000,272000,248000,255500,316600,253293,369900,319000,275000,220000,359100,261500,305000,209500,264561,274000,345000,350000,402000,423000,230500,372500,392000,312500,361919,254000,189000,275000,236500,239900,180000,299800,275500,212000,290000,337000,270000,538000,395000,225000,271000,232600,215000,248900,303477,268000,255000,285000,236500,201000,270000,336000,255900,348000,168000,232000,227000,187500,287000,293077,310000,287000,278000,255000,213500,252000,197000,170000,325000,280000,318000,184100,239500,424870,235128,245350,285000,392500,262000,174000,290000,164000,229456,265900,230000,301500,381000,237000,278000,281000,290000,302000,295493,275000,147000,227000,228500,283463,122000,410000,232000,239000,281213,282922,275000,257000,340000,394617,240000,287090],\"y0\":\" \",\"yaxis\":\"y\",\"type\":\"box\"},{\"alignmentgroup\":\"True\",\"hovertemplate\":\"OverallQual=%{x}\\u003cbr\\u003eSalePrice=%{y}\\u003cextra\\u003e\\u003c\\u002fextra\\u003e\",\"legendgroup\":\"5\",\"marker\":{\"color\":\"#ab63fa\"},\"name\":\"5\",\"notched\":false,\"offsetgroup\":\"5\",\"orientation\":\"v\",\"showlegend\":true,\"x\":[5,5,5,5,5,5,5,5,5,5,5,5,5,5,5,5,5,5,5,5,5,5,5,5,5,5,5,5,5,5,5,5,5,5,5,5,5,5,5,5,5,5,5,5,5,5,5,5,5,5,5,5,5,5,5,5,5,5,5,5,5,5,5,5,5,5,5,5,5,5,5,5,5,5,5,5,5,5,5,5,5,5,5,5,5,5,5,5,5,5,5,5,5,5,5,5,5,5,5,5,5,5,5,5,5,5,5,5,5,5,5,5,5,5,5,5,5,5,5,5,5,5,5,5,5,5,5,5,5,5,5,5,5,5,5,5,5,5,5,5,5,5,5,5,5,5,5,5,5,5,5,5,5,5,5,5,5,5,5,5,5,5,5,5,5,5,5,5,5,5,5,5,5,5,5,5,5,5,5,5,5,5,5,5,5,5,5,5,5,5,5,5,5,5,5,5,5,5,5,5,5,5,5,5,5,5,5,5,5,5,5,5,5,5,5,5,5,5,5,5,5,5,5,5,5,5,5,5,5,5,5,5,5,5,5,5,5,5,5,5,5,5,5,5,5,5,5,5,5,5,5,5,5,5,5,5,5,5,5,5,5,5,5,5,5,5,5,5,5,5,5,5,5,5,5,5,5,5,5,5,5,5,5,5,5,5,5,5,5,5,5,5,5,5,5,5,5,5,5,5,5,5,5,5,5,5,5,5,5,5,5,5,5,5,5,5,5,5,5,5,5,5,5,5,5,5,5,5,5,5,5,5,5,5,5,5,5,5,5,5,5,5,5,5,5,5,5,5,5,5,5,5,5,5,5,5,5,5,5,5,5,5,5,5,5,5,5,5,5,5,5,5,5,5,5,5,5,5,5,5,5,5,5,5,5,5,5,5,5,5,5,5,5,5,5,5,5],\"x0\":\" \",\"xaxis\":\"x\",\"y\":[143000,118000,129500,144000,159000,139000,129900,154000,134800,207500,149350,165500,145000,153000,109000,170000,144000,130250,141000,127000,110000,130000,124900,101000,144900,127000,110000,126500,98600,163500,83000,118964,115000,115000,139000,155000,87000,150000,150750,180000,143000,166000,125000,105000,115000,122000,109500,127500,190000,128500,172500,100000,120000,127000,135000,153337,127000,110000,143900,98000,156000,134450,112000,125000,128200,110500,79000,145000,97000,130000,73000,179500,120500,124500,122000,135900,131000,152000,157000,149900,119900,87000,78000,119000,139000,228950,85000,95000,134000,130000,145000,147000,132000,162000,123000,148000,127000,81000,119000,106500,109000,129000,123000,169500,67000,108000,60000,145000,115000,126000,142000,113000,122500,90350,162900,188000,98000,110000,62383,124000,146500,132500,132500,147000,156000,175000,160000,115000,155000,91300,130000,120000,140000,124500,124500,164900,129900,96500,132000,107500,107500,158000,129500,125000,112500,113000,141000,121500,170000,108000,135960,142600,139000,118500,164500,131500,137000,143000,79500,138000,110000,217500,152000,225000,147000,135000,139900,135000,124000,139400,93000,85000,152000,98300,145500,167000,168000,109500,128500,159434,108480,141500,89000,123500,138500,140000,109900,157000,128500,110000,131400,108000,179000,132000,175000,100000,134900,114500,142500,144000,165500,139000,110000,175000,118000,135500,223500,159950,106000,55993,116000,137000,109500,185000,139950,153500,144000,130500,157500,141000,153900,171000,133500,170000,127000,131500,132500,148500,169000,109500,116000,133000,66500,148000,136500,157000,100000,145000,135500,122900,165000,118858,142953,135000,153000,125500,128000,131000,154300,143500,88000,145000,145900,175000,117500,143000,124900,143000,129000,119900,133900,172000,132000,116500,160000,135000,139000,126000,125000,136500,86000,136905,149900,102000,135000,100000,85000,87000,112500,167500,105000,160000,119750,155000,145000,115000,144500,90000,154000,135000,135000,91500,170000,138800,126000,133000,146000,129000,119500,135000,106000,129900,134500,117000,130000,140000,133700,118000,140000,93500,94000,144000,139000,197500,80000,149000,149900,218000,179900,129000,194000,200500,119500,154900,93000,120000,186700,104900,125000,117000,153500,140000,134500,125000,115000,134000,137900,147000,127000,190000,132500,142000,130000,138887,119000,130000,99900,128900,144000,137000,139000,137000,150500,190000,180500,119500,107500,115000,138500,155000,154000,138000,147000,130500,132500,125500,125000,135000,128500,200000,110000,149900,189000,127000,117000,167500,112000,124000,123000,160000,137500,138000,133000,112000,124000,144000,140000,119000,192140,160000,157900,92000,136000,145000,84500,142125,147500],\"y0\":\" \",\"yaxis\":\"y\",\"type\":\"box\"},{\"alignmentgroup\":\"True\",\"hovertemplate\":\"OverallQual=%{x}\\u003cbr\\u003eSalePrice=%{y}\\u003cextra\\u003e\\u003c\\u002fextra\\u003e\",\"legendgroup\":\"9\",\"marker\":{\"color\":\"#FFA15A\"},\"name\":\"9\",\"notched\":false,\"offsetgroup\":\"9\",\"orientation\":\"v\",\"showlegend\":true,\"x\":[9,9,9,9,9,9,9,9,9,9,9,9,9,9,9,9,9,9,9,9,9,9,9,9,9,9,9,9,9,9,9,9,9,9,9,9,9,9,9,9,9,9,9],\"x0\":\" \",\"xaxis\":\"x\",\"y\":[345000,277500,319900,385000,412500,501837,415298,360000,342643,377426,266000,437154,318061,394432,380000,326000,374000,446261,315000,325000,313000,314813,370878,285000,320000,264132,485000,582933,350000,328900,611657,320000,239000,395192,315500,556581,335000,367294,378500,325000,333168,315000,377500],\"y0\":\" \",\"yaxis\":\"y\",\"type\":\"box\"},{\"alignmentgroup\":\"True\",\"hovertemplate\":\"OverallQual=%{x}\\u003cbr\\u003eSalePrice=%{y}\\u003cextra\\u003e\\u003c\\u002fextra\\u003e\",\"legendgroup\":\"4\",\"marker\":{\"color\":\"#19d3f3\"},\"name\":\"4\",\"notched\":false,\"offsetgroup\":\"4\",\"orientation\":\"v\",\"showlegend\":true,\"x\":[4,4,4,4,4,4,4,4,4,4,4,4,4,4,4,4,4,4,4,4,4,4,4,4,4,4,4,4,4,4,4,4,4,4,4,4,4,4,4,4,4,4,4,4,4,4,4,4,4,4,4,4,4,4,4,4,4,4,4,4,4,4,4,4,4,4,4,4,4,4,4,4,4,4,4,4,4,4,4,4,4,4,4,4,4,4,4,4,4,4,4,4,4,4,4,4,4,4,4,4,4,4,4,4,4,4,4,4,4,4,4,4,4,4,4,4],\"x0\":\" \",\"xaxis\":\"x\",\"y\":[90000,68500,40000,82000,113000,80000,129500,91000,135750,136500,123600,109900,94750,128950,100000,100000,115000,103200,140000,141000,107000,97000,141000,88000,82500,82000,134432,100000,150000,109008,81000,118000,256000,89471,86000,34900,106250,86000,111250,108000,108000,133000,118500,75500,84500,108000,137500,137500,87000,55000,102776,129000,124500,135000,120500,103000,98000,96500,102000,107900,109900,93000,128000,129000,132250,118500,106500,110000,75000,135000,79900,150000,135000,85500,110000,121600,88000,176000,84000,97000,80000,84900,83500,128000,112000,115000,135000,80000,108959,168000,148000,116050,107000,113000,145000,80500,101800,161500,68400,119000,111000,82500,55000,100000,52500,123000,108500,104900,105000,125500,125500,90000,122500,64500,120500,112000],\"y0\":\" \",\"yaxis\":\"y\",\"type\":\"box\"},{\"alignmentgroup\":\"True\",\"hovertemplate\":\"OverallQual=%{x}\\u003cbr\\u003eSalePrice=%{y}\\u003cextra\\u003e\\u003c\\u002fextra\\u003e\",\"legendgroup\":\"10\",\"marker\":{\"color\":\"#FF6692\"},\"name\":\"10\",\"notched\":false,\"offsetgroup\":\"10\",\"orientation\":\"v\",\"showlegend\":true,\"x\":[10,10,10,10,10,10,10,10,10,10,10,10,10,10,10,10,10,10],\"x0\":\" \",\"xaxis\":\"x\",\"y\":[438780,475000,386250,426000,555000,402861,184750,325000,451950,755000,385000,337500,625000,745000,465000,160000,466500,310000],\"y0\":\" \",\"yaxis\":\"y\",\"type\":\"box\"},{\"alignmentgroup\":\"True\",\"hovertemplate\":\"OverallQual=%{x}\\u003cbr\\u003eSalePrice=%{y}\\u003cextra\\u003e\\u003c\\u002fextra\\u003e\",\"legendgroup\":\"3\",\"marker\":{\"color\":\"#B6E880\"},\"name\":\"3\",\"notched\":false,\"offsetgroup\":\"3\",\"orientation\":\"v\",\"showlegend\":true,\"x\":[3,3,3,3,3,3,3,3,3,3,3,3,3,3,3,3,3,3,3,3],\"x0\":\" \",\"xaxis\":\"x\",\"y\":[107400,85000,76500,126175,87500,120000,67000,52000,93500,37900,91000,82000,139600,81000,92900,95000,72500,79000,58500,105000],\"y0\":\" \",\"yaxis\":\"y\",\"type\":\"box\"},{\"alignmentgroup\":\"True\",\"hovertemplate\":\"OverallQual=%{x}\\u003cbr\\u003eSalePrice=%{y}\\u003cextra\\u003e\\u003c\\u002fextra\\u003e\",\"legendgroup\":\"1\",\"marker\":{\"color\":\"#FF97FF\"},\"name\":\"1\",\"notched\":false,\"offsetgroup\":\"1\",\"orientation\":\"v\",\"showlegend\":true,\"x\":[1,1],\"x0\":\" \",\"xaxis\":\"x\",\"y\":[61000,39300],\"y0\":\" \",\"yaxis\":\"y\",\"type\":\"box\"},{\"alignmentgroup\":\"True\",\"hovertemplate\":\"OverallQual=%{x}\\u003cbr\\u003eSalePrice=%{y}\\u003cextra\\u003e\\u003c\\u002fextra\\u003e\",\"legendgroup\":\"2\",\"marker\":{\"color\":\"#FECB52\"},\"name\":\"2\",\"notched\":false,\"offsetgroup\":\"2\",\"orientation\":\"v\",\"showlegend\":true,\"x\":[2,2,2],\"x0\":\" \",\"xaxis\":\"x\",\"y\":[60000,35311,60000],\"y0\":\" \",\"yaxis\":\"y\",\"type\":\"box\"}],                        {\"template\":{\"data\":{\"histogram2dcontour\":[{\"type\":\"histogram2dcontour\",\"colorbar\":{\"outlinewidth\":0,\"ticks\":\"\"},\"colorscale\":[[0.0,\"#0d0887\"],[0.1111111111111111,\"#46039f\"],[0.2222222222222222,\"#7201a8\"],[0.3333333333333333,\"#9c179e\"],[0.4444444444444444,\"#bd3786\"],[0.5555555555555556,\"#d8576b\"],[0.6666666666666666,\"#ed7953\"],[0.7777777777777778,\"#fb9f3a\"],[0.8888888888888888,\"#fdca26\"],[1.0,\"#f0f921\"]]}],\"choropleth\":[{\"type\":\"choropleth\",\"colorbar\":{\"outlinewidth\":0,\"ticks\":\"\"}}],\"histogram2d\":[{\"type\":\"histogram2d\",\"colorbar\":{\"outlinewidth\":0,\"ticks\":\"\"},\"colorscale\":[[0.0,\"#0d0887\"],[0.1111111111111111,\"#46039f\"],[0.2222222222222222,\"#7201a8\"],[0.3333333333333333,\"#9c179e\"],[0.4444444444444444,\"#bd3786\"],[0.5555555555555556,\"#d8576b\"],[0.6666666666666666,\"#ed7953\"],[0.7777777777777778,\"#fb9f3a\"],[0.8888888888888888,\"#fdca26\"],[1.0,\"#f0f921\"]]}],\"heatmap\":[{\"type\":\"heatmap\",\"colorbar\":{\"outlinewidth\":0,\"ticks\":\"\"},\"colorscale\":[[0.0,\"#0d0887\"],[0.1111111111111111,\"#46039f\"],[0.2222222222222222,\"#7201a8\"],[0.3333333333333333,\"#9c179e\"],[0.4444444444444444,\"#bd3786\"],[0.5555555555555556,\"#d8576b\"],[0.6666666666666666,\"#ed7953\"],[0.7777777777777778,\"#fb9f3a\"],[0.8888888888888888,\"#fdca26\"],[1.0,\"#f0f921\"]]}],\"heatmapgl\":[{\"type\":\"heatmapgl\",\"colorbar\":{\"outlinewidth\":0,\"ticks\":\"\"},\"colorscale\":[[0.0,\"#0d0887\"],[0.1111111111111111,\"#46039f\"],[0.2222222222222222,\"#7201a8\"],[0.3333333333333333,\"#9c179e\"],[0.4444444444444444,\"#bd3786\"],[0.5555555555555556,\"#d8576b\"],[0.6666666666666666,\"#ed7953\"],[0.7777777777777778,\"#fb9f3a\"],[0.8888888888888888,\"#fdca26\"],[1.0,\"#f0f921\"]]}],\"contourcarpet\":[{\"type\":\"contourcarpet\",\"colorbar\":{\"outlinewidth\":0,\"ticks\":\"\"}}],\"contour\":[{\"type\":\"contour\",\"colorbar\":{\"outlinewidth\":0,\"ticks\":\"\"},\"colorscale\":[[0.0,\"#0d0887\"],[0.1111111111111111,\"#46039f\"],[0.2222222222222222,\"#7201a8\"],[0.3333333333333333,\"#9c179e\"],[0.4444444444444444,\"#bd3786\"],[0.5555555555555556,\"#d8576b\"],[0.6666666666666666,\"#ed7953\"],[0.7777777777777778,\"#fb9f3a\"],[0.8888888888888888,\"#fdca26\"],[1.0,\"#f0f921\"]]}],\"surface\":[{\"type\":\"surface\",\"colorbar\":{\"outlinewidth\":0,\"ticks\":\"\"},\"colorscale\":[[0.0,\"#0d0887\"],[0.1111111111111111,\"#46039f\"],[0.2222222222222222,\"#7201a8\"],[0.3333333333333333,\"#9c179e\"],[0.4444444444444444,\"#bd3786\"],[0.5555555555555556,\"#d8576b\"],[0.6666666666666666,\"#ed7953\"],[0.7777777777777778,\"#fb9f3a\"],[0.8888888888888888,\"#fdca26\"],[1.0,\"#f0f921\"]]}],\"mesh3d\":[{\"type\":\"mesh3d\",\"colorbar\":{\"outlinewidth\":0,\"ticks\":\"\"}}],\"scatter\":[{\"fillpattern\":{\"fillmode\":\"overlay\",\"size\":10,\"solidity\":0.2},\"type\":\"scatter\"}],\"parcoords\":[{\"type\":\"parcoords\",\"line\":{\"colorbar\":{\"outlinewidth\":0,\"ticks\":\"\"}}}],\"scatterpolargl\":[{\"type\":\"scatterpolargl\",\"marker\":{\"colorbar\":{\"outlinewidth\":0,\"ticks\":\"\"}}}],\"bar\":[{\"error_x\":{\"color\":\"#2a3f5f\"},\"error_y\":{\"color\":\"#2a3f5f\"},\"marker\":{\"line\":{\"color\":\"#E5ECF6\",\"width\":0.5},\"pattern\":{\"fillmode\":\"overlay\",\"size\":10,\"solidity\":0.2}},\"type\":\"bar\"}],\"scattergeo\":[{\"type\":\"scattergeo\",\"marker\":{\"colorbar\":{\"outlinewidth\":0,\"ticks\":\"\"}}}],\"scatterpolar\":[{\"type\":\"scatterpolar\",\"marker\":{\"colorbar\":{\"outlinewidth\":0,\"ticks\":\"\"}}}],\"histogram\":[{\"marker\":{\"pattern\":{\"fillmode\":\"overlay\",\"size\":10,\"solidity\":0.2}},\"type\":\"histogram\"}],\"scattergl\":[{\"type\":\"scattergl\",\"marker\":{\"colorbar\":{\"outlinewidth\":0,\"ticks\":\"\"}}}],\"scatter3d\":[{\"type\":\"scatter3d\",\"line\":{\"colorbar\":{\"outlinewidth\":0,\"ticks\":\"\"}},\"marker\":{\"colorbar\":{\"outlinewidth\":0,\"ticks\":\"\"}}}],\"scattermapbox\":[{\"type\":\"scattermapbox\",\"marker\":{\"colorbar\":{\"outlinewidth\":0,\"ticks\":\"\"}}}],\"scatterternary\":[{\"type\":\"scatterternary\",\"marker\":{\"colorbar\":{\"outlinewidth\":0,\"ticks\":\"\"}}}],\"scattercarpet\":[{\"type\":\"scattercarpet\",\"marker\":{\"colorbar\":{\"outlinewidth\":0,\"ticks\":\"\"}}}],\"carpet\":[{\"aaxis\":{\"endlinecolor\":\"#2a3f5f\",\"gridcolor\":\"white\",\"linecolor\":\"white\",\"minorgridcolor\":\"white\",\"startlinecolor\":\"#2a3f5f\"},\"baxis\":{\"endlinecolor\":\"#2a3f5f\",\"gridcolor\":\"white\",\"linecolor\":\"white\",\"minorgridcolor\":\"white\",\"startlinecolor\":\"#2a3f5f\"},\"type\":\"carpet\"}],\"table\":[{\"cells\":{\"fill\":{\"color\":\"#EBF0F8\"},\"line\":{\"color\":\"white\"}},\"header\":{\"fill\":{\"color\":\"#C8D4E3\"},\"line\":{\"color\":\"white\"}},\"type\":\"table\"}],\"barpolar\":[{\"marker\":{\"line\":{\"color\":\"#E5ECF6\",\"width\":0.5},\"pattern\":{\"fillmode\":\"overlay\",\"size\":10,\"solidity\":0.2}},\"type\":\"barpolar\"}],\"pie\":[{\"automargin\":true,\"type\":\"pie\"}]},\"layout\":{\"autotypenumbers\":\"strict\",\"colorway\":[\"#636efa\",\"#EF553B\",\"#00cc96\",\"#ab63fa\",\"#FFA15A\",\"#19d3f3\",\"#FF6692\",\"#B6E880\",\"#FF97FF\",\"#FECB52\"],\"font\":{\"color\":\"#2a3f5f\"},\"hovermode\":\"closest\",\"hoverlabel\":{\"align\":\"left\"},\"paper_bgcolor\":\"white\",\"plot_bgcolor\":\"#E5ECF6\",\"polar\":{\"bgcolor\":\"#E5ECF6\",\"angularaxis\":{\"gridcolor\":\"white\",\"linecolor\":\"white\",\"ticks\":\"\"},\"radialaxis\":{\"gridcolor\":\"white\",\"linecolor\":\"white\",\"ticks\":\"\"}},\"ternary\":{\"bgcolor\":\"#E5ECF6\",\"aaxis\":{\"gridcolor\":\"white\",\"linecolor\":\"white\",\"ticks\":\"\"},\"baxis\":{\"gridcolor\":\"white\",\"linecolor\":\"white\",\"ticks\":\"\"},\"caxis\":{\"gridcolor\":\"white\",\"linecolor\":\"white\",\"ticks\":\"\"}},\"coloraxis\":{\"colorbar\":{\"outlinewidth\":0,\"ticks\":\"\"}},\"colorscale\":{\"sequential\":[[0.0,\"#0d0887\"],[0.1111111111111111,\"#46039f\"],[0.2222222222222222,\"#7201a8\"],[0.3333333333333333,\"#9c179e\"],[0.4444444444444444,\"#bd3786\"],[0.5555555555555556,\"#d8576b\"],[0.6666666666666666,\"#ed7953\"],[0.7777777777777778,\"#fb9f3a\"],[0.8888888888888888,\"#fdca26\"],[1.0,\"#f0f921\"]],\"sequentialminus\":[[0.0,\"#0d0887\"],[0.1111111111111111,\"#46039f\"],[0.2222222222222222,\"#7201a8\"],[0.3333333333333333,\"#9c179e\"],[0.4444444444444444,\"#bd3786\"],[0.5555555555555556,\"#d8576b\"],[0.6666666666666666,\"#ed7953\"],[0.7777777777777778,\"#fb9f3a\"],[0.8888888888888888,\"#fdca26\"],[1.0,\"#f0f921\"]],\"diverging\":[[0,\"#8e0152\"],[0.1,\"#c51b7d\"],[0.2,\"#de77ae\"],[0.3,\"#f1b6da\"],[0.4,\"#fde0ef\"],[0.5,\"#f7f7f7\"],[0.6,\"#e6f5d0\"],[0.7,\"#b8e186\"],[0.8,\"#7fbc41\"],[0.9,\"#4d9221\"],[1,\"#276419\"]]},\"xaxis\":{\"gridcolor\":\"white\",\"linecolor\":\"white\",\"ticks\":\"\",\"title\":{\"standoff\":15},\"zerolinecolor\":\"white\",\"automargin\":true,\"zerolinewidth\":2},\"yaxis\":{\"gridcolor\":\"white\",\"linecolor\":\"white\",\"ticks\":\"\",\"title\":{\"standoff\":15},\"zerolinecolor\":\"white\",\"automargin\":true,\"zerolinewidth\":2},\"scene\":{\"xaxis\":{\"backgroundcolor\":\"#E5ECF6\",\"gridcolor\":\"white\",\"linecolor\":\"white\",\"showbackground\":true,\"ticks\":\"\",\"zerolinecolor\":\"white\",\"gridwidth\":2},\"yaxis\":{\"backgroundcolor\":\"#E5ECF6\",\"gridcolor\":\"white\",\"linecolor\":\"white\",\"showbackground\":true,\"ticks\":\"\",\"zerolinecolor\":\"white\",\"gridwidth\":2},\"zaxis\":{\"backgroundcolor\":\"#E5ECF6\",\"gridcolor\":\"white\",\"linecolor\":\"white\",\"showbackground\":true,\"ticks\":\"\",\"zerolinecolor\":\"white\",\"gridwidth\":2}},\"shapedefaults\":{\"line\":{\"color\":\"#2a3f5f\"}},\"annotationdefaults\":{\"arrowcolor\":\"#2a3f5f\",\"arrowhead\":0,\"arrowwidth\":1},\"geo\":{\"bgcolor\":\"white\",\"landcolor\":\"#E5ECF6\",\"subunitcolor\":\"white\",\"showland\":true,\"showlakes\":true,\"lakecolor\":\"white\"},\"title\":{\"x\":0.05},\"mapbox\":{\"style\":\"light\"}}},\"xaxis\":{\"anchor\":\"y\",\"domain\":[0.0,1.0],\"title\":{\"text\":\"OverallQual\"},\"categoryorder\":\"array\",\"categoryarray\":[7,6,8,5,9,4,10,3,1,2]},\"yaxis\":{\"anchor\":\"x\",\"domain\":[0.0,1.0],\"title\":{\"text\":\"SalePrice\"}},\"legend\":{\"title\":{\"text\":\"OverallQual\"},\"tracegroupgap\":0},\"title\":{\"text\":\"OverallQual vs SalePrice (0.8)\"},\"boxmode\":\"overlay\"},                        {\"responsive\": true}                    ).then(function(){\n",
       "                            \n",
       "var gd = document.getElementById('626549b5-ca03-4898-8288-5291dc2ce78f');\n",
       "var x = new MutationObserver(function (mutations, observer) {{\n",
       "        var display = window.getComputedStyle(gd).display;\n",
       "        if (!display || display === 'none') {{\n",
       "            console.log([gd, 'removed!']);\n",
       "            Plotly.purge(gd);\n",
       "            observer.disconnect();\n",
       "        }}\n",
       "}});\n",
       "\n",
       "// Listen for the removal of the full notebook cells\n",
       "var notebookContainer = gd.closest('#notebook-container');\n",
       "if (notebookContainer) {{\n",
       "    x.observe(notebookContainer, {childList: true});\n",
       "}}\n",
       "\n",
       "// Listen for the clearing of the current output cell\n",
       "var outputEl = gd.closest('.output');\n",
       "if (outputEl) {{\n",
       "    x.observe(outputEl, {childList: true});\n",
       "}}\n",
       "\n",
       "                        })                };                });            </script>        </div>"
      ]
     },
     "metadata": {},
     "output_type": "display_data"
    }
   ],
   "source": [
    "fig = px.histogram(df, 'SalePrice', color=\"OverallQual\", title=\"OverallQual vs SalePrice (0.8)\")\n",
    "fig.show()\n",
    "\n",
    "fig = px.box(df, y = 'SalePrice', x = 'OverallQual', color=\"OverallQual\", title=\"OverallQual vs SalePrice (0.8)\")\n",
    "fig.show()"
   ]
  },
  {
   "cell_type": "markdown",
   "id": "0a14e5d9",
   "metadata": {
    "papermill": {
     "duration": 0.025057,
     "end_time": "2023-12-05T00:01:16.976440",
     "exception": false,
     "start_time": "2023-12-05T00:01:16.951383",
     "status": "completed"
    },
    "tags": []
   },
   "source": [
    "A clear **linear relationship** emerges as the **overall quality value ascends**, coinciding with an **increase in prices**. This correlation aligns logically, as **superior quality** often commands **higher prices**. Notably, a distinct **trend surfaces**: houses with a **quality rating of 10**, the **highest achievable rating**, command notably **higher prices** compared to those **graded at the 4th and 5th quality levels**, which exhibit comparatively **lower pricing**. A **histogram analysis** of **sales** status further accentuates this trend, showcasing a **significantly larger number of customers for houses** categorized at **lower quality levels** in contrast to their **higher-quality counterparts.**"
   ]
  },
  {
   "cell_type": "code",
   "execution_count": 17,
   "id": "00bc9444",
   "metadata": {
    "execution": {
     "iopub.execute_input": "2023-12-05T00:01:17.028616Z",
     "iopub.status.busy": "2023-12-05T00:01:17.028223Z",
     "iopub.status.idle": "2023-12-05T00:01:17.187288Z",
     "shell.execute_reply": "2023-12-05T00:01:17.186212Z"
    },
    "papermill": {
     "duration": 0.188333,
     "end_time": "2023-12-05T00:01:17.189919",
     "exception": false,
     "start_time": "2023-12-05T00:01:17.001586",
     "status": "completed"
    },
    "tags": []
   },
   "outputs": [
    {
     "data": {
      "text/html": [
       "<div>                            <div id=\"d9130191-e934-47e2-924b-a893aa8dd282\" class=\"plotly-graph-div\" style=\"height:525px; width:100%;\"></div>            <script type=\"text/javascript\">                require([\"plotly\"], function(Plotly) {                    window.PLOTLYENV=window.PLOTLYENV || {};                                    if (document.getElementById(\"d9130191-e934-47e2-924b-a893aa8dd282\")) {                    Plotly.newPlot(                        \"d9130191-e934-47e2-924b-a893aa8dd282\",                        [{\"alignmentgroup\":\"True\",\"bingroup\":\"x\",\"histfunc\":\"sum\",\"hovertemplate\":\"YearBuilt=%{x}\\u003cbr\\u003esum of GarageYrBlt=%{y}\\u003cextra\\u003e\\u003c\\u002fextra\\u003e\",\"legendgroup\":\"\",\"marker\":{\"color\":\"#636efa\",\"pattern\":{\"shape\":\"\"}},\"name\":\"\",\"offsetgroup\":\"\",\"orientation\":\"v\",\"showlegend\":false,\"texttemplate\":\"%{value}\",\"x\":[2003,1976,2001,1915,2000,1993,2004,1973,1931,1939,1965,2005,1962,2006,1960,1929,1970,1967,2004,1958,2005,1930,2002,1976,1968,2007,1951,2007,1957,1927,1920,1966,2007,1959,2005,2004,1994,1954,1953,1955,1965,1959,1983,1975,1959,2005,2003,2006,1920,1966,1997,1934,1963,1981,1955,1964,1999,2004,2006,1972,2004,1920,2006,1921,1997,2004,1970,2003,1945,1953,1973,1982,1998,1954,1915,1973,1956,1948,1968,1910,1968,1998,2007,1960,1995,1991,2005,2009,1915,1994,1950,1961,1921,1910,1997,1993,1999,1965,1920,1959,1977,1985,1979,2009,1931,2003,1885,1948,1919,1977,1954,2000,2007,1953,1945,1999,1962,2006,1990,2005,1969,1939,1958,1993,1979,1935,1976,1930,1966,1958,1966,2000,1959,2001,1968,1970,1967,1988,1999,1997,1971,2005,1952,1999,1963,2004,1931,2001,2004,1936,1975,2007,1971,1960,1923,1924,1950,2009,2004,2005,1984,2003,2005,1956,1926,1940,1955,2007,2004,1981,1941,1960,1987,1961,1986,1950,1988,1958,2008,1923,2000,1920,1957,2003,1908,1892,1990,1916,1979,2001,1932,1972,1999,2004,1972,1976,2007,1918,1912,2004,2003,1977,1924,2004,1947,1990,1962,1960,1988,1964,1925,2009,2009,1995,1977,1957,2004,1925,1939,2005,2006,2002,1975,1971,2003,1971,1995,1970,1967,2005,1959,1995,1972,1976,2002,1971,2004,1993,2007,1945,2008,1945,1900,1980,1994,1988,1910,1954,2003,1958,1940,2006,2004,1964,1957,1999,2003,2006,2001,1956,1962,2007,1977,1929,1925,1981,1997,1939,1940,1976,2006,1954,1999,1958,1982,1925,2003,1951,2006,1977,1989,2006,2007,2008,1992,2006,1962,1971,1967,1915,2006,1912,1949,1977,1953,1984,1950,1997,1968,1950,1953,1998,2001,1972,1880,2004,1990,1920,1940,2003,1993,1948,1939,1965,1925,2004,1980,2006,1993,1980,2006,2004,1986,1955,1967,1941,1993,1960,1916,1920,1964,1958,2003,2004,1998,1965,2005,2002,1984,1958,2002,1950,1949,2005,1976,1939,1960,1960,2003,2005,2007,1986,1941,1928,1940,1995,1992,1976,1958,1998,1978,1940,2003,1972,1976,1920,1963,1962,1954,1959,2000,1959,1984,1953,2003,1922,1996,2004,2010,2000,1924,2006,2006,1928,1992,2004,1910,1976,1999,2007,1900,2001,1959,1941,1940,1956,1972,1962,1920,2006,1996,2005,1940,1998,1995,1976,1936,1915,2006,2007,1958,1955,2009,1927,1993,2007,1978,1918,1940,1968,1997,1977,1954,1998,1956,1946,1989,1957,2007,1988,1971,1920,1971,1997,1972,1996,1920,1926,1913,1920,2008,1955,1930,2006,1994,1956,1966,1998,1937,1948,1930,1975,1996,2008,1976,1973,1916,1954,1925,1950,2009,1936,1965,1934,1978,2004,1970,1942,2006,1993,1985,1977,2005,2006,2000,1963,1997,2006,2007,1937,2004,2003,1915,1998,1962,1950,1965,1971,1900,1970,1976,1941,2006,1960,1938,1920,1992,1925,1967,1958,1973,2005,1965,1959,1974,1952,1993,2009,1928,1959,1951,2005,1958,1983,1926,2009,1972,1996,1998,1926,1900,1957,1947,2007,1996,2005,1956,2008,1920,1957,1988,1920,1955,1946,2004,1910,1998,1972,1968,2001,2006,2000,1998,1998,2006,1988,1923,1970,1955,2003,1977,1957,2006,1949,2003,1922,1957,1920,1996,2003,1957,1974,1940,1918,1992,1915,2005,2004,1983,1979,1965,1959,2009,2000,1971,1947,1928,1966,2007,1954,1960,2008,1990,1893,1935,2005,1918,1982,1968,1930,2004,2008,1982,2003,1975,2005,1910,2006,1977,1980,2005,1937,1992,2004,2002,1965,1996,1948,1934,1961,2000,1978,2001,2007,1972,1963,2002,1954,2007,2003,1914,1974,1977,2000,1972,1962,1960,1955,1969,1964,1880,2006,1977,1954,1980,1914,1936,1954,1910,2006,2003,2001,1972,1969,2009,1971,1950,1953,1966,1970,2007,1940,1996,1906,1995,1971,1959,1931,1948,1964,1976,1994,1968,1972,2005,2000,1965,1994,1956,1922,2005,1925,1977,1957,1965,1978,1900,1924,2008,1961,1980,1932,1996,2002,1998,1984,2007,2004,2007,2005,2004,1994,1989,1921,1936,1987,1921,1952,1965,2004,2002,1969,2006,1900,2004,1930,1971,2006,2007,1966,1935,1900,1988,1970,1976,1974,1890,1973,1993,1969,1985,2004,1970,1954,2007,1970,1988,2007,1958,1925,1995,2003,1998,1961,1968,1914,1950,2005,1987,2004,1910,1961,2000,1963,1993,1976,2000,1880,1996,1945,1910,2003,1997,2005,1969,1999,2007,1978,1999,1995,1959,1924,2009,1999,1995,2008,1988,1940,2004,2003,1982,1951,1976,1958,2006,1998,2005,1974,1977,1977,1995,1992,2001,1978,1914,1967,1915,2004,1954,1966,2005,1976,1996,2007,1994,1980,1977,1953,2008,1937,1997,1916,2005,2008,1954,2008,1967,1923,1966,1898,1974,2004,1952,1958,1918,1998,1954,2002,1971,2009,2003,1953,2003,1940,2006,2007,1924,2001,1967,2005,1957,2005,2003,1964,1961,1950,1948,1973,1995,1946,1925,1904,1966,1961,1915,1975,1993,1972,1908,1976,2003,2003,1941,1964,1955,1962,1978,1994,1976,1968,1918,1965,1984,1959,2007,1970,2006,1961,1948,1993,1962,1998,1953,1949,1941,2007,1963,2004,1961,1978,2005,1990,1992,1912,1967,1999,1959,1955,1970,1953,1949,1978,1963,1954,1979,1963,1936,1979,2009,1961,1971,1957,2003,2006,1967,1954,2006,1936,1983,2005,1960,1977,1925,1949,2009,1970,1949,1956,1991,1958,1994,1900,2005,1993,1980,1977,2003,1968,2001,1997,2007,1965,2006,2004,1960,1926,2003,2005,2006,1940,1976,1999,1977,1967,1958,1890,1959,2002,2002,1972,1950,1965,1972,1969,1975,1946,1980,1962,2003,1999,1958,1977,1976,2007,2002,2005,1940,1955,1910,1958,1949,2003,1979,2007,1910,2000,1923,2006,1954,1963,1961,1998,2007,2002,1977,1950,1910,2009,1976,2006,1997,1882,1964,2005,2006,1946,1961,1970,1922,2006,1952,1920,2006,1976,2005,1977,1970,1970,2004,1926,1948,1965,1923,1910,1948,2001,1996,1984,1991,2005,2005,2006,1930,2005,1976,1972,1960,2007,1941,1972,1916,1920,1993,2002,1938,1957,2007,2001,1970,1970,1957,1966,2005,1990,1981,1955,2005,1994,1960,1946,2007,2007,1964,1957,2002,1976,2005,1994,2008,1932,2001,1935,1900,1925,1966,1996,1993,1964,1973,1949,1956,1968,1948,1977,2006,1940,1936,1969,2004,1994,1971,1963,2002,1964,1995,1992,1973,2005,2004,2005,1950,1999,1925,1965,1956,2006,1914,1986,1936,1978,1920,1971,1960,1959,1970,1994,1990,2006,2000,2004,1995,1976,1957,1953,1954,2007,2002,1967,1958,1959,1920,2005,1956,1947,1992,1955,2007,2004,2004,1980,1928,1991,1880,1995,1997,1926,1950,1875,1977,1920,1951,1976,2006,1959,1941,1928,1985,1941,1926,1920,1950,1959,1956,1930,1965,1976,1965,2007,2007,1974,1978,1954,1968,1969,1978,2009,2008,2000,1935,1995,1977,1958,2006,1946,1932,1992,1984,1926,1921,1954,1990,2008,1996,1920,1963,1924,1900,1994,2002,1999,1961,1999,1925,1999,1969,2005,2006,1916,2001,1963,1970,1998,1925,2000,1975,1990,1966,2003,1962,2006,1992,1988,1941,1965,1962,1966,1978,2009,1947,1971,1964,1968,1949,1951,2004,1958,2007,1965,2008,1960,1977,1962,1962,1959,1911,1914,2003,2004,2005,2006,2003,2007,1974,2006,1929,1984,2005,1976,1917,1950,1968,2003,1968,1974,2003,1931,1994,1922,2005,1969,1999,1956,1957,1919,1998,1999,1910,2008,1935,1958,1979,1968,1965,1959,1910,1948,1972,1967,2002,1920,2002,1990,1977,1971,1919,1939,1963,1964,2000,2006,1964,1972,1892,1976,1955,1968,1963,2005,2008,1959,1999,1942,1994,2005,2004,2006,2005,1994,1948,1991,1959,2005,1990,1999,1954,1969,2008,2006,2001,1954,1957,1949,1992,1940,2006,1922,1931,1982,1920,1998,2006,1976,1938,1938,1970,1977,1973,1941,2002,1972,1971,2003,2002,1928,2006,1920,1968,2006,1998,1872,1969,1962,1937,1995,2000,1968,1966,1971,2000,2004,1921,2005,1920,2006,2005,2000,1999,1977,2003,2003,1920,1955,1998,2001,2005,2007,1930,1941,1973,2006,1914,1970,1920,1918,1939,1922,1978,1916,2006,1941,2000,1967,1967,1905,2006,2005,1948,1920,1950,1925,1929,2004,2006,2007,1915,2004,1972,1985,1910,1986,2001,1950,1949,2005,1923,2007,1885,1998,1963,1969,1968,1977,2003,1966,1958,1959,1994,1945,1940,1981,2005,1976,1927,2000,1977,1962,1971,2008,1957,1979,1922,2004,2008,1916,2004,1966,1962,1995,1910,1970,1974,2008,2005,2006,2004,1999,1978,1941,1950,1965],\"xaxis\":\"x\",\"y\":[2003.0,1976.0,2001.0,1998.0,2000.0,1993.0,2004.0,1973.0,1931.0,1939.0,1965.0,2005.0,1962.0,2006.0,1960.0,1991.0,1970.0,1967.0,2004.0,1958.0,2005.0,1930.0,2002.0,1976.0,1968.0,2007.0,2005.0,2008.0,1957.0,1920.0,1920.0,1966.0,2007.0,1959.0,2005.0,2004.0,1995.0,1954.0,1953.0,1978.5061638868744,1965.0,1959.0,1983.0,1977.0,1959.0,2005.0,2003.0,2006.0,1978.5061638868744,1966.0,1997.0,1985.0,1963.0,1981.0,1962.0,1964.0,1999.0,2004.0,2006.0,1973.0,2006.0,1935.0,2006.0,1990.0,1998.0,2004.0,1970.0,2003.0,1945.0,1953.0,1973.0,1987.0,1998.0,1989.0,1915.0,1973.0,1956.0,1948.0,1978.5061638868744,1966.0,1968.0,1998.0,2007.0,1974.0,1995.0,1991.0,2005.0,2009.0,1978.5061638868744,1978.5061638868744,1950.0,1961.0,1921.0,1900.0,1997.0,1993.0,1999.0,1965.0,1920.0,1978.5061638868744,1977.0,1985.0,1979.0,2009.0,1951.0,2003.0,1954.0,1948.0,1978.5061638868744,1977.0,1954.0,2000.0,2007.0,1953.0,1945.0,1999.0,1962.0,2007.0,1990.0,2005.0,1969.0,1979.0,1958.0,1993.0,1979.0,1978.5061638868744,1977.0,1978.5061638868744,1966.0,1998.0,1966.0,2000.0,1974.0,2001.0,1968.0,1970.0,1967.0,1989.0,1999.0,1997.0,1978.5061638868744,2005.0,2000.0,1999.0,1963.0,2004.0,1931.0,2001.0,1978.5061638868744,1936.0,1975.0,2007.0,1971.0,1960.0,1923.0,1978.5061638868744,1950.0,2009.0,2004.0,2006.0,1984.0,2003.0,2005.0,1978.5061638868744,1926.0,1978.5061638868744,1955.0,2007.0,2004.0,1981.0,1991.0,1960.0,1987.0,1961.0,1986.0,1950.0,1988.0,1958.0,2009.0,1935.0,2000.0,1920.0,1957.0,2003.0,1986.0,1993.0,1990.0,1916.0,1979.0,2001.0,1932.0,1972.0,1999.0,2004.0,1989.0,1976.0,2007.0,1918.0,1978.5061638868744,2004.0,2003.0,1980.0,1924.0,2004.0,1948.0,1990.0,1962.0,1960.0,1988.0,1964.0,1978.5061638868744,2009.0,2009.0,1996.0,1977.0,1957.0,2004.0,1940.0,1939.0,2005.0,2006.0,2002.0,1975.0,1989.0,2003.0,1991.0,1995.0,1987.0,1974.0,2005.0,1959.0,1995.0,1972.0,1976.0,2002.0,1971.0,2004.0,1993.0,2007.0,1949.0,2008.0,1978.5061638868744,1940.0,1980.0,1994.0,1988.0,1910.0,1954.0,2003.0,1958.0,1978.5061638868744,2006.0,2004.0,1964.0,1957.0,1999.0,2003.0,2006.0,2001.0,1956.0,1991.0,2007.0,1978.0,1974.0,1965.0,1981.0,1997.0,1939.0,1966.0,1987.0,2006.0,1954.0,1999.0,1958.0,1982.0,1978.0,2003.0,1951.0,2007.0,1977.0,1989.0,2006.0,2008.0,2008.0,1992.0,2006.0,1962.0,1978.5061638868744,1970.0,2003.0,2006.0,1978.5061638868744,1949.0,1977.0,1953.0,1984.0,1950.0,1997.0,1968.0,1950.0,1953.0,1998.0,2001.0,1975.0,2003.0,2004.0,1990.0,1978.5061638868744,1961.0,2003.0,1993.0,1948.0,1939.0,1965.0,1925.0,2004.0,1983.0,2006.0,1993.0,1980.0,2006.0,2004.0,1987.0,1955.0,1961.0,1941.0,1993.0,1960.0,1930.0,1920.0,2002.0,1958.0,2003.0,2004.0,1998.0,1965.0,2005.0,2002.0,1984.0,1958.0,2002.0,1950.0,1949.0,2005.0,1976.0,1939.0,1960.0,1960.0,2003.0,2006.0,2007.0,1986.0,1941.0,2005.0,1940.0,1995.0,1992.0,1976.0,1958.0,1998.0,1978.0,1940.0,2003.0,1972.0,1976.0,1964.0,1963.0,1962.0,1954.0,1997.0,2000.0,1991.0,1984.0,1953.0,2003.0,1978.5061638868744,1998.0,2004.0,2010.0,2000.0,1924.0,2006.0,2006.0,1950.0,1992.0,2004.0,1978.5061638868744,1977.0,1999.0,2008.0,1978.0,2001.0,1959.0,1978.5061638868744,1940.0,1956.0,1985.0,1962.0,1920.0,2007.0,1996.0,2005.0,1940.0,1998.0,1995.0,1993.0,1936.0,1960.0,2006.0,2008.0,1958.0,1955.0,2009.0,1927.0,1993.0,2007.0,1978.0,1918.0,1940.0,1968.0,1997.0,1977.0,1954.0,1998.0,1956.0,1947.0,1989.0,1964.0,2007.0,1988.0,1971.0,1978.5061638868744,1971.0,1997.0,1978.5061638868744,1996.0,1990.0,1926.0,1990.0,2005.0,2008.0,1978.5061638868744,1930.0,2007.0,1994.0,1956.0,1966.0,1998.0,1937.0,1981.0,1932.0,1975.0,1996.0,2008.0,1976.0,1973.0,1916.0,1954.0,1925.0,1950.0,2009.0,1971.0,1965.0,1939.0,1978.5061638868744,2004.0,1970.0,1942.0,2006.0,1993.0,1985.0,1977.0,2005.0,2006.0,2000.0,1996.0,1997.0,2006.0,2007.0,1995.0,2004.0,2003.0,1915.0,1998.0,1963.0,1950.0,1965.0,1971.0,1970.0,1970.0,1976.0,1941.0,2006.0,1964.0,1938.0,1978.5061638868744,1992.0,1925.0,1967.0,1958.0,1973.0,2005.0,1965.0,1959.0,1974.0,1952.0,1993.0,2009.0,1928.0,1959.0,1951.0,2005.0,1964.0,1983.0,1926.0,2009.0,1972.0,1996.0,1998.0,1926.0,1978.5061638868744,1957.0,1950.0,2007.0,1996.0,2005.0,1956.0,2008.0,1978.5061638868744,1975.0,1988.0,1920.0,1967.0,1978.5061638868744,2004.0,1978.5061638868744,1998.0,1980.0,1968.0,2001.0,2006.0,2000.0,1998.0,1998.0,2006.0,1988.0,1950.0,1987.0,1963.0,2003.0,1977.0,1957.0,2006.0,2002.0,2003.0,1922.0,1957.0,1994.0,1996.0,2003.0,1957.0,1975.0,1978.5061638868744,1955.0,1992.0,1920.0,2005.0,2004.0,1983.0,1979.0,1987.0,1959.0,2009.0,2000.0,1971.0,1947.0,1928.0,1966.0,2007.0,1954.0,1960.0,2009.0,1978.5061638868744,1988.0,1935.0,2005.0,1961.0,1996.0,1968.0,1988.0,2004.0,2008.0,1985.0,2003.0,1981.0,2005.0,1930.0,2006.0,1977.0,1980.0,2003.0,1979.0,1992.0,2004.0,2002.0,1965.0,2000.0,1948.0,1934.0,1961.0,2000.0,1978.0,2001.0,1978.5061638868744,1978.5061638868744,1963.0,2002.0,1962.0,2007.0,2003.0,1978.5061638868744,1974.0,1986.0,2000.0,1972.0,1962.0,1960.0,1955.0,1969.0,1964.0,1937.0,2006.0,1977.0,1954.0,1980.0,1978.5061638868744,1978.5061638868744,1954.0,1978.5061638868744,2006.0,2003.0,2001.0,1972.0,1969.0,2009.0,1979.0,1950.0,1953.0,1966.0,1978.5061638868744,2007.0,1940.0,1996.0,1906.0,1995.0,1971.0,1959.0,1931.0,1948.0,1968.0,1976.0,1994.0,1968.0,1974.0,2005.0,2000.0,1965.0,1994.0,1999.0,1922.0,2005.0,1930.0,1977.0,1957.0,1965.0,1978.0,1920.0,1924.0,2008.0,1963.0,1980.0,1968.0,1996.0,2002.0,1998.0,1984.0,2007.0,2004.0,2007.0,2005.0,2004.0,1994.0,1989.0,1968.0,1995.0,1987.0,1921.0,1952.0,1973.0,2004.0,2002.0,1969.0,2006.0,1999.0,2004.0,1978.5061638868744,1971.0,2006.0,2007.0,1966.0,1978.5061638868744,1964.0,1988.0,1970.0,1976.0,1974.0,1996.0,1973.0,1993.0,1969.0,1985.0,2004.0,1994.0,1958.0,2007.0,1989.0,1988.0,2007.0,1968.0,1962.0,1995.0,2003.0,1998.0,1961.0,1968.0,1914.0,1949.0,2005.0,1978.5061638868744,2004.0,1910.0,1962.0,2000.0,1997.0,1993.0,1994.0,2000.0,1950.0,1996.0,1945.0,1978.5061638868744,2003.0,1997.0,2005.0,1969.0,1999.0,2007.0,1978.0,1999.0,1995.0,2008.0,1965.0,2009.0,1999.0,1995.0,2008.0,1988.0,1989.0,2004.0,2003.0,1983.0,1951.0,1976.0,1958.0,2006.0,1998.0,2005.0,1974.0,1977.0,1977.0,1995.0,1992.0,2001.0,1978.0,1978.5061638868744,1967.0,1961.0,2004.0,1954.0,1966.0,2005.0,1976.0,1997.0,2007.0,1994.0,1980.0,1977.0,1953.0,2009.0,1939.0,1997.0,1957.0,2005.0,2009.0,1954.0,2008.0,1967.0,1923.0,1966.0,1910.0,1974.0,2004.0,1952.0,1958.0,1955.0,1998.0,1954.0,2002.0,1971.0,2010.0,2003.0,1974.0,2003.0,1940.0,2006.0,2007.0,1978.5061638868744,2001.0,1967.0,2005.0,1957.0,2005.0,2003.0,1964.0,1961.0,1996.0,1948.0,1973.0,1999.0,1946.0,1934.0,1983.0,1966.0,1978.5061638868744,1949.0,1975.0,1993.0,1972.0,1908.0,1976.0,2003.0,2003.0,1941.0,1964.0,1955.0,1962.0,1981.0,1994.0,1976.0,1968.0,1925.0,1965.0,1986.0,1959.0,2008.0,1973.0,2007.0,1961.0,1979.0,1993.0,1962.0,1998.0,1953.0,1949.0,1941.0,2007.0,1963.0,2004.0,1987.0,1978.0,2005.0,1990.0,1993.0,1997.0,1967.0,1999.0,2005.0,1955.0,1970.0,1953.0,2003.0,1978.0,1963.0,1954.0,1979.0,1963.0,1936.0,1979.0,2009.0,1961.0,1979.0,1968.0,2003.0,2006.0,1967.0,1954.0,2006.0,1936.0,1983.0,2005.0,1960.0,1978.0,1925.0,1949.0,2009.0,1970.0,1958.0,1956.0,1991.0,1990.0,1994.0,1978.5061638868744,2005.0,1993.0,1980.0,1977.0,2003.0,1968.0,2001.0,1997.0,2007.0,1965.0,2006.0,2004.0,1960.0,1953.0,2003.0,2005.0,2006.0,1940.0,1976.0,1999.0,1978.5061638868744,1967.0,1958.0,1963.0,1959.0,2002.0,2002.0,1972.0,1980.0,1979.0,1974.0,1969.0,1978.5061638868744,1946.0,1980.0,1977.0,2003.0,1999.0,1978.5061638868744,1977.0,1976.0,2007.0,2002.0,2005.0,1940.0,1955.0,1978.5061638868744,1958.0,1978.5061638868744,2003.0,1979.0,2007.0,1997.0,2000.0,1978.5061638868744,2007.0,1999.0,1963.0,1961.0,1998.0,2007.0,2002.0,1977.0,1950.0,1950.0,2010.0,1976.0,2006.0,1997.0,1925.0,1964.0,2005.0,2008.0,1946.0,1961.0,1970.0,1922.0,2006.0,1956.0,1920.0,2006.0,1976.0,2005.0,1977.0,1970.0,1970.0,2004.0,1978.5061638868744,1948.0,1978.5061638868744,1923.0,1956.0,1948.0,2001.0,1996.0,1984.0,1991.0,2005.0,2005.0,2006.0,1957.0,2005.0,1976.0,1980.0,1960.0,2008.0,1941.0,1972.0,1978.5061638868744,1970.0,1993.0,2002.0,1938.0,1957.0,2008.0,2001.0,1978.5061638868744,1970.0,1957.0,1966.0,2005.0,1990.0,1981.0,1955.0,2005.0,1996.0,1960.0,1946.0,2007.0,2007.0,1964.0,1957.0,2002.0,1976.0,2005.0,1994.0,2008.0,1977.0,2001.0,1994.0,1945.0,1976.0,1966.0,1996.0,1993.0,1964.0,1973.0,1985.0,1956.0,1968.0,1954.0,1977.0,2006.0,1940.0,1950.0,1969.0,2004.0,1996.0,1971.0,1963.0,2002.0,1964.0,1995.0,1992.0,1973.0,2005.0,2004.0,2005.0,1987.0,1999.0,1925.0,1977.0,1956.0,2006.0,1978.5061638868744,1987.0,1936.0,1978.0,1930.0,1981.0,1960.0,1954.0,1970.0,1994.0,1990.0,2006.0,2000.0,2004.0,1995.0,1976.0,1957.0,1953.0,1955.0,2007.0,2002.0,1967.0,1958.0,1959.0,1920.0,2005.0,1956.0,1978.5061638868744,1992.0,1977.0,2007.0,2004.0,2004.0,1980.0,1981.0,1978.5061638868744,1930.0,1995.0,1997.0,1926.0,1950.0,1978.5061638868744,1977.0,1972.0,1988.0,1976.0,2006.0,1978.5061638868744,1941.0,1928.0,1985.0,1941.0,1982.0,1930.0,1950.0,1959.0,1956.0,2002.0,1965.0,1976.0,1965.0,2008.0,2008.0,1974.0,1978.0,1993.0,1968.0,1969.0,1978.0,2009.0,2008.0,2000.0,1935.0,1995.0,1977.0,1958.0,2006.0,1978.5061638868744,1932.0,1992.0,1984.0,1926.0,1921.0,1978.5061638868744,1990.0,2008.0,1996.0,1970.0,1963.0,1965.0,1920.0,1994.0,2002.0,1999.0,1975.0,1999.0,1925.0,1999.0,1969.0,2005.0,2006.0,1916.0,2001.0,1974.0,1972.0,1998.0,1960.0,2000.0,1975.0,1990.0,1966.0,2003.0,1980.0,2006.0,1992.0,1988.0,1941.0,1965.0,1962.0,1966.0,1978.0,2009.0,1978.5061638868744,1978.5061638868744,1964.0,1968.0,1949.0,1951.0,2004.0,1958.0,2007.0,1992.0,2008.0,1960.0,1977.0,1962.0,1962.0,1959.0,1978.5061638868744,1914.0,2003.0,2004.0,2005.0,2006.0,2003.0,2007.0,1974.0,2006.0,1931.0,1984.0,2005.0,1976.0,1950.0,1950.0,1968.0,2003.0,1968.0,1974.0,2003.0,1978.0,1994.0,1978.5061638868744,2005.0,1969.0,1999.0,1956.0,1957.0,1940.0,1998.0,1999.0,1960.0,2009.0,1982.0,1958.0,1979.0,1968.0,1965.0,1959.0,1985.0,1948.0,1972.0,1967.0,2002.0,1980.0,2002.0,1990.0,1977.0,1978.5061638868744,1969.0,1939.0,1963.0,1964.0,2000.0,2006.0,1964.0,1972.0,1985.0,1976.0,1957.0,1968.0,1963.0,2005.0,2008.0,1959.0,1999.0,1942.0,1994.0,2005.0,2004.0,2006.0,2005.0,2000.0,1948.0,1991.0,1959.0,2005.0,1990.0,1999.0,1956.0,1969.0,2008.0,2006.0,2001.0,1954.0,1957.0,1955.0,1992.0,1978.5061638868744,2007.0,1978.5061638868744,1978.5061638868744,1982.0,1920.0,1998.0,2006.0,1976.0,1958.0,1951.0,1970.0,1977.0,1973.0,1978.5061638868744,2002.0,1972.0,1974.0,2004.0,2002.0,1929.0,2006.0,1997.0,1968.0,2006.0,1998.0,1978.5061638868744,1969.0,1962.0,1999.0,1996.0,2000.0,1968.0,1966.0,1971.0,2000.0,2004.0,1998.0,2005.0,1920.0,2007.0,2005.0,2000.0,1999.0,1977.0,2003.0,2003.0,1967.0,1955.0,1998.0,2001.0,2005.0,2007.0,1925.0,1977.0,1973.0,2007.0,1938.0,1970.0,1989.0,2007.0,1939.0,1922.0,1978.0,1916.0,2006.0,2003.0,2000.0,1967.0,1967.0,2003.0,2006.0,2005.0,1966.0,1933.0,1950.0,1925.0,1929.0,2004.0,2006.0,2007.0,1998.0,2004.0,1988.0,1978.5061638868744,1966.0,1986.0,2001.0,1950.0,1956.0,2005.0,1922.0,2007.0,1971.0,1998.0,1962.0,1969.0,1968.0,1977.0,2003.0,1966.0,1970.0,1960.0,1994.0,1962.0,1940.0,1981.0,2005.0,1976.0,1928.0,2000.0,1977.0,1962.0,1974.0,2008.0,1957.0,1979.0,1993.0,2004.0,2008.0,1916.0,2004.0,1990.0,1962.0,1995.0,1950.0,1978.5061638868744,1978.5061638868744,2008.0,2005.0,1978.5061638868744,2004.0,1999.0,1978.0,1941.0,1950.0,1965.0],\"yaxis\":\"y\",\"type\":\"histogram\"}],                        {\"template\":{\"data\":{\"histogram2dcontour\":[{\"type\":\"histogram2dcontour\",\"colorbar\":{\"outlinewidth\":0,\"ticks\":\"\"},\"colorscale\":[[0.0,\"#0d0887\"],[0.1111111111111111,\"#46039f\"],[0.2222222222222222,\"#7201a8\"],[0.3333333333333333,\"#9c179e\"],[0.4444444444444444,\"#bd3786\"],[0.5555555555555556,\"#d8576b\"],[0.6666666666666666,\"#ed7953\"],[0.7777777777777778,\"#fb9f3a\"],[0.8888888888888888,\"#fdca26\"],[1.0,\"#f0f921\"]]}],\"choropleth\":[{\"type\":\"choropleth\",\"colorbar\":{\"outlinewidth\":0,\"ticks\":\"\"}}],\"histogram2d\":[{\"type\":\"histogram2d\",\"colorbar\":{\"outlinewidth\":0,\"ticks\":\"\"},\"colorscale\":[[0.0,\"#0d0887\"],[0.1111111111111111,\"#46039f\"],[0.2222222222222222,\"#7201a8\"],[0.3333333333333333,\"#9c179e\"],[0.4444444444444444,\"#bd3786\"],[0.5555555555555556,\"#d8576b\"],[0.6666666666666666,\"#ed7953\"],[0.7777777777777778,\"#fb9f3a\"],[0.8888888888888888,\"#fdca26\"],[1.0,\"#f0f921\"]]}],\"heatmap\":[{\"type\":\"heatmap\",\"colorbar\":{\"outlinewidth\":0,\"ticks\":\"\"},\"colorscale\":[[0.0,\"#0d0887\"],[0.1111111111111111,\"#46039f\"],[0.2222222222222222,\"#7201a8\"],[0.3333333333333333,\"#9c179e\"],[0.4444444444444444,\"#bd3786\"],[0.5555555555555556,\"#d8576b\"],[0.6666666666666666,\"#ed7953\"],[0.7777777777777778,\"#fb9f3a\"],[0.8888888888888888,\"#fdca26\"],[1.0,\"#f0f921\"]]}],\"heatmapgl\":[{\"type\":\"heatmapgl\",\"colorbar\":{\"outlinewidth\":0,\"ticks\":\"\"},\"colorscale\":[[0.0,\"#0d0887\"],[0.1111111111111111,\"#46039f\"],[0.2222222222222222,\"#7201a8\"],[0.3333333333333333,\"#9c179e\"],[0.4444444444444444,\"#bd3786\"],[0.5555555555555556,\"#d8576b\"],[0.6666666666666666,\"#ed7953\"],[0.7777777777777778,\"#fb9f3a\"],[0.8888888888888888,\"#fdca26\"],[1.0,\"#f0f921\"]]}],\"contourcarpet\":[{\"type\":\"contourcarpet\",\"colorbar\":{\"outlinewidth\":0,\"ticks\":\"\"}}],\"contour\":[{\"type\":\"contour\",\"colorbar\":{\"outlinewidth\":0,\"ticks\":\"\"},\"colorscale\":[[0.0,\"#0d0887\"],[0.1111111111111111,\"#46039f\"],[0.2222222222222222,\"#7201a8\"],[0.3333333333333333,\"#9c179e\"],[0.4444444444444444,\"#bd3786\"],[0.5555555555555556,\"#d8576b\"],[0.6666666666666666,\"#ed7953\"],[0.7777777777777778,\"#fb9f3a\"],[0.8888888888888888,\"#fdca26\"],[1.0,\"#f0f921\"]]}],\"surface\":[{\"type\":\"surface\",\"colorbar\":{\"outlinewidth\":0,\"ticks\":\"\"},\"colorscale\":[[0.0,\"#0d0887\"],[0.1111111111111111,\"#46039f\"],[0.2222222222222222,\"#7201a8\"],[0.3333333333333333,\"#9c179e\"],[0.4444444444444444,\"#bd3786\"],[0.5555555555555556,\"#d8576b\"],[0.6666666666666666,\"#ed7953\"],[0.7777777777777778,\"#fb9f3a\"],[0.8888888888888888,\"#fdca26\"],[1.0,\"#f0f921\"]]}],\"mesh3d\":[{\"type\":\"mesh3d\",\"colorbar\":{\"outlinewidth\":0,\"ticks\":\"\"}}],\"scatter\":[{\"fillpattern\":{\"fillmode\":\"overlay\",\"size\":10,\"solidity\":0.2},\"type\":\"scatter\"}],\"parcoords\":[{\"type\":\"parcoords\",\"line\":{\"colorbar\":{\"outlinewidth\":0,\"ticks\":\"\"}}}],\"scatterpolargl\":[{\"type\":\"scatterpolargl\",\"marker\":{\"colorbar\":{\"outlinewidth\":0,\"ticks\":\"\"}}}],\"bar\":[{\"error_x\":{\"color\":\"#2a3f5f\"},\"error_y\":{\"color\":\"#2a3f5f\"},\"marker\":{\"line\":{\"color\":\"#E5ECF6\",\"width\":0.5},\"pattern\":{\"fillmode\":\"overlay\",\"size\":10,\"solidity\":0.2}},\"type\":\"bar\"}],\"scattergeo\":[{\"type\":\"scattergeo\",\"marker\":{\"colorbar\":{\"outlinewidth\":0,\"ticks\":\"\"}}}],\"scatterpolar\":[{\"type\":\"scatterpolar\",\"marker\":{\"colorbar\":{\"outlinewidth\":0,\"ticks\":\"\"}}}],\"histogram\":[{\"marker\":{\"pattern\":{\"fillmode\":\"overlay\",\"size\":10,\"solidity\":0.2}},\"type\":\"histogram\"}],\"scattergl\":[{\"type\":\"scattergl\",\"marker\":{\"colorbar\":{\"outlinewidth\":0,\"ticks\":\"\"}}}],\"scatter3d\":[{\"type\":\"scatter3d\",\"line\":{\"colorbar\":{\"outlinewidth\":0,\"ticks\":\"\"}},\"marker\":{\"colorbar\":{\"outlinewidth\":0,\"ticks\":\"\"}}}],\"scattermapbox\":[{\"type\":\"scattermapbox\",\"marker\":{\"colorbar\":{\"outlinewidth\":0,\"ticks\":\"\"}}}],\"scatterternary\":[{\"type\":\"scatterternary\",\"marker\":{\"colorbar\":{\"outlinewidth\":0,\"ticks\":\"\"}}}],\"scattercarpet\":[{\"type\":\"scattercarpet\",\"marker\":{\"colorbar\":{\"outlinewidth\":0,\"ticks\":\"\"}}}],\"carpet\":[{\"aaxis\":{\"endlinecolor\":\"#2a3f5f\",\"gridcolor\":\"white\",\"linecolor\":\"white\",\"minorgridcolor\":\"white\",\"startlinecolor\":\"#2a3f5f\"},\"baxis\":{\"endlinecolor\":\"#2a3f5f\",\"gridcolor\":\"white\",\"linecolor\":\"white\",\"minorgridcolor\":\"white\",\"startlinecolor\":\"#2a3f5f\"},\"type\":\"carpet\"}],\"table\":[{\"cells\":{\"fill\":{\"color\":\"#EBF0F8\"},\"line\":{\"color\":\"white\"}},\"header\":{\"fill\":{\"color\":\"#C8D4E3\"},\"line\":{\"color\":\"white\"}},\"type\":\"table\"}],\"barpolar\":[{\"marker\":{\"line\":{\"color\":\"#E5ECF6\",\"width\":0.5},\"pattern\":{\"fillmode\":\"overlay\",\"size\":10,\"solidity\":0.2}},\"type\":\"barpolar\"}],\"pie\":[{\"automargin\":true,\"type\":\"pie\"}]},\"layout\":{\"autotypenumbers\":\"strict\",\"colorway\":[\"#636efa\",\"#EF553B\",\"#00cc96\",\"#ab63fa\",\"#FFA15A\",\"#19d3f3\",\"#FF6692\",\"#B6E880\",\"#FF97FF\",\"#FECB52\"],\"font\":{\"color\":\"#2a3f5f\"},\"hovermode\":\"closest\",\"hoverlabel\":{\"align\":\"left\"},\"paper_bgcolor\":\"white\",\"plot_bgcolor\":\"#E5ECF6\",\"polar\":{\"bgcolor\":\"#E5ECF6\",\"angularaxis\":{\"gridcolor\":\"white\",\"linecolor\":\"white\",\"ticks\":\"\"},\"radialaxis\":{\"gridcolor\":\"white\",\"linecolor\":\"white\",\"ticks\":\"\"}},\"ternary\":{\"bgcolor\":\"#E5ECF6\",\"aaxis\":{\"gridcolor\":\"white\",\"linecolor\":\"white\",\"ticks\":\"\"},\"baxis\":{\"gridcolor\":\"white\",\"linecolor\":\"white\",\"ticks\":\"\"},\"caxis\":{\"gridcolor\":\"white\",\"linecolor\":\"white\",\"ticks\":\"\"}},\"coloraxis\":{\"colorbar\":{\"outlinewidth\":0,\"ticks\":\"\"}},\"colorscale\":{\"sequential\":[[0.0,\"#0d0887\"],[0.1111111111111111,\"#46039f\"],[0.2222222222222222,\"#7201a8\"],[0.3333333333333333,\"#9c179e\"],[0.4444444444444444,\"#bd3786\"],[0.5555555555555556,\"#d8576b\"],[0.6666666666666666,\"#ed7953\"],[0.7777777777777778,\"#fb9f3a\"],[0.8888888888888888,\"#fdca26\"],[1.0,\"#f0f921\"]],\"sequentialminus\":[[0.0,\"#0d0887\"],[0.1111111111111111,\"#46039f\"],[0.2222222222222222,\"#7201a8\"],[0.3333333333333333,\"#9c179e\"],[0.4444444444444444,\"#bd3786\"],[0.5555555555555556,\"#d8576b\"],[0.6666666666666666,\"#ed7953\"],[0.7777777777777778,\"#fb9f3a\"],[0.8888888888888888,\"#fdca26\"],[1.0,\"#f0f921\"]],\"diverging\":[[0,\"#8e0152\"],[0.1,\"#c51b7d\"],[0.2,\"#de77ae\"],[0.3,\"#f1b6da\"],[0.4,\"#fde0ef\"],[0.5,\"#f7f7f7\"],[0.6,\"#e6f5d0\"],[0.7,\"#b8e186\"],[0.8,\"#7fbc41\"],[0.9,\"#4d9221\"],[1,\"#276419\"]]},\"xaxis\":{\"gridcolor\":\"white\",\"linecolor\":\"white\",\"ticks\":\"\",\"title\":{\"standoff\":15},\"zerolinecolor\":\"white\",\"automargin\":true,\"zerolinewidth\":2},\"yaxis\":{\"gridcolor\":\"white\",\"linecolor\":\"white\",\"ticks\":\"\",\"title\":{\"standoff\":15},\"zerolinecolor\":\"white\",\"automargin\":true,\"zerolinewidth\":2},\"scene\":{\"xaxis\":{\"backgroundcolor\":\"#E5ECF6\",\"gridcolor\":\"white\",\"linecolor\":\"white\",\"showbackground\":true,\"ticks\":\"\",\"zerolinecolor\":\"white\",\"gridwidth\":2},\"yaxis\":{\"backgroundcolor\":\"#E5ECF6\",\"gridcolor\":\"white\",\"linecolor\":\"white\",\"showbackground\":true,\"ticks\":\"\",\"zerolinecolor\":\"white\",\"gridwidth\":2},\"zaxis\":{\"backgroundcolor\":\"#E5ECF6\",\"gridcolor\":\"white\",\"linecolor\":\"white\",\"showbackground\":true,\"ticks\":\"\",\"zerolinecolor\":\"white\",\"gridwidth\":2}},\"shapedefaults\":{\"line\":{\"color\":\"#2a3f5f\"}},\"annotationdefaults\":{\"arrowcolor\":\"#2a3f5f\",\"arrowhead\":0,\"arrowwidth\":1},\"geo\":{\"bgcolor\":\"white\",\"landcolor\":\"#E5ECF6\",\"subunitcolor\":\"white\",\"showland\":true,\"showlakes\":true,\"lakecolor\":\"white\"},\"title\":{\"x\":0.05},\"mapbox\":{\"style\":\"light\"}}},\"xaxis\":{\"anchor\":\"y\",\"domain\":[0.0,1.0],\"title\":{\"text\":\"YearBuilt\"}},\"yaxis\":{\"anchor\":\"x\",\"domain\":[0.0,1.0],\"title\":{\"text\":\"sum of GarageYrBlt\"}},\"legend\":{\"tracegroupgap\":0},\"title\":{\"text\":\"YearBuilt vs GarageYrBlt (0.8)\"},\"barmode\":\"relative\"},                        {\"responsive\": true}                    ).then(function(){\n",
       "                            \n",
       "var gd = document.getElementById('d9130191-e934-47e2-924b-a893aa8dd282');\n",
       "var x = new MutationObserver(function (mutations, observer) {{\n",
       "        var display = window.getComputedStyle(gd).display;\n",
       "        if (!display || display === 'none') {{\n",
       "            console.log([gd, 'removed!']);\n",
       "            Plotly.purge(gd);\n",
       "            observer.disconnect();\n",
       "        }}\n",
       "}});\n",
       "\n",
       "// Listen for the removal of the full notebook cells\n",
       "var notebookContainer = gd.closest('#notebook-container');\n",
       "if (notebookContainer) {{\n",
       "    x.observe(notebookContainer, {childList: true});\n",
       "}}\n",
       "\n",
       "// Listen for the clearing of the current output cell\n",
       "var outputEl = gd.closest('.output');\n",
       "if (outputEl) {{\n",
       "    x.observe(outputEl, {childList: true});\n",
       "}}\n",
       "\n",
       "                        })                };                });            </script>        </div>"
      ]
     },
     "metadata": {},
     "output_type": "display_data"
    },
    {
     "data": {
      "text/html": [
       "<div>                            <div id=\"31d15416-198c-4959-9772-9e00efec06a9\" class=\"plotly-graph-div\" style=\"height:525px; width:100%;\"></div>            <script type=\"text/javascript\">                require([\"plotly\"], function(Plotly) {                    window.PLOTLYENV=window.PLOTLYENV || {};                                    if (document.getElementById(\"31d15416-198c-4959-9772-9e00efec06a9\")) {                    Plotly.newPlot(                        \"31d15416-198c-4959-9772-9e00efec06a9\",                        [{\"hovertemplate\":\"YearBuilt=%{x}\\u003cbr\\u003eGarageYrBlt=%{y}\\u003cextra\\u003e\\u003c\\u002fextra\\u003e\",\"legendgroup\":\"\",\"marker\":{\"color\":\"#636efa\",\"symbol\":\"circle\"},\"mode\":\"markers\",\"name\":\"\",\"showlegend\":false,\"x\":[2003,1976,2001,1915,2000,1993,2004,1973,1931,1939,1965,2005,1962,2006,1960,1929,1970,1967,2004,1958,2005,1930,2002,1976,1968,2007,1951,2007,1957,1927,1920,1966,2007,1959,2005,2004,1994,1954,1953,1955,1965,1959,1983,1975,1959,2005,2003,2006,1920,1966,1997,1934,1963,1981,1955,1964,1999,2004,2006,1972,2004,1920,2006,1921,1997,2004,1970,2003,1945,1953,1973,1982,1998,1954,1915,1973,1956,1948,1968,1910,1968,1998,2007,1960,1995,1991,2005,2009,1915,1994,1950,1961,1921,1910,1997,1993,1999,1965,1920,1959,1977,1985,1979,2009,1931,2003,1885,1948,1919,1977,1954,2000,2007,1953,1945,1999,1962,2006,1990,2005,1969,1939,1958,1993,1979,1935,1976,1930,1966,1958,1966,2000,1959,2001,1968,1970,1967,1988,1999,1997,1971,2005,1952,1999,1963,2004,1931,2001,2004,1936,1975,2007,1971,1960,1923,1924,1950,2009,2004,2005,1984,2003,2005,1956,1926,1940,1955,2007,2004,1981,1941,1960,1987,1961,1986,1950,1988,1958,2008,1923,2000,1920,1957,2003,1908,1892,1990,1916,1979,2001,1932,1972,1999,2004,1972,1976,2007,1918,1912,2004,2003,1977,1924,2004,1947,1990,1962,1960,1988,1964,1925,2009,2009,1995,1977,1957,2004,1925,1939,2005,2006,2002,1975,1971,2003,1971,1995,1970,1967,2005,1959,1995,1972,1976,2002,1971,2004,1993,2007,1945,2008,1945,1900,1980,1994,1988,1910,1954,2003,1958,1940,2006,2004,1964,1957,1999,2003,2006,2001,1956,1962,2007,1977,1929,1925,1981,1997,1939,1940,1976,2006,1954,1999,1958,1982,1925,2003,1951,2006,1977,1989,2006,2007,2008,1992,2006,1962,1971,1967,1915,2006,1912,1949,1977,1953,1984,1950,1997,1968,1950,1953,1998,2001,1972,1880,2004,1990,1920,1940,2003,1993,1948,1939,1965,1925,2004,1980,2006,1993,1980,2006,2004,1986,1955,1967,1941,1993,1960,1916,1920,1964,1958,2003,2004,1998,1965,2005,2002,1984,1958,2002,1950,1949,2005,1976,1939,1960,1960,2003,2005,2007,1986,1941,1928,1940,1995,1992,1976,1958,1998,1978,1940,2003,1972,1976,1920,1963,1962,1954,1959,2000,1959,1984,1953,2003,1922,1996,2004,2010,2000,1924,2006,2006,1928,1992,2004,1910,1976,1999,2007,1900,2001,1959,1941,1940,1956,1972,1962,1920,2006,1996,2005,1940,1998,1995,1976,1936,1915,2006,2007,1958,1955,2009,1927,1993,2007,1978,1918,1940,1968,1997,1977,1954,1998,1956,1946,1989,1957,2007,1988,1971,1920,1971,1997,1972,1996,1920,1926,1913,1920,2008,1955,1930,2006,1994,1956,1966,1998,1937,1948,1930,1975,1996,2008,1976,1973,1916,1954,1925,1950,2009,1936,1965,1934,1978,2004,1970,1942,2006,1993,1985,1977,2005,2006,2000,1963,1997,2006,2007,1937,2004,2003,1915,1998,1962,1950,1965,1971,1900,1970,1976,1941,2006,1960,1938,1920,1992,1925,1967,1958,1973,2005,1965,1959,1974,1952,1993,2009,1928,1959,1951,2005,1958,1983,1926,2009,1972,1996,1998,1926,1900,1957,1947,2007,1996,2005,1956,2008,1920,1957,1988,1920,1955,1946,2004,1910,1998,1972,1968,2001,2006,2000,1998,1998,2006,1988,1923,1970,1955,2003,1977,1957,2006,1949,2003,1922,1957,1920,1996,2003,1957,1974,1940,1918,1992,1915,2005,2004,1983,1979,1965,1959,2009,2000,1971,1947,1928,1966,2007,1954,1960,2008,1990,1893,1935,2005,1918,1982,1968,1930,2004,2008,1982,2003,1975,2005,1910,2006,1977,1980,2005,1937,1992,2004,2002,1965,1996,1948,1934,1961,2000,1978,2001,2007,1972,1963,2002,1954,2007,2003,1914,1974,1977,2000,1972,1962,1960,1955,1969,1964,1880,2006,1977,1954,1980,1914,1936,1954,1910,2006,2003,2001,1972,1969,2009,1971,1950,1953,1966,1970,2007,1940,1996,1906,1995,1971,1959,1931,1948,1964,1976,1994,1968,1972,2005,2000,1965,1994,1956,1922,2005,1925,1977,1957,1965,1978,1900,1924,2008,1961,1980,1932,1996,2002,1998,1984,2007,2004,2007,2005,2004,1994,1989,1921,1936,1987,1921,1952,1965,2004,2002,1969,2006,1900,2004,1930,1971,2006,2007,1966,1935,1900,1988,1970,1976,1974,1890,1973,1993,1969,1985,2004,1970,1954,2007,1970,1988,2007,1958,1925,1995,2003,1998,1961,1968,1914,1950,2005,1987,2004,1910,1961,2000,1963,1993,1976,2000,1880,1996,1945,1910,2003,1997,2005,1969,1999,2007,1978,1999,1995,1959,1924,2009,1999,1995,2008,1988,1940,2004,2003,1982,1951,1976,1958,2006,1998,2005,1974,1977,1977,1995,1992,2001,1978,1914,1967,1915,2004,1954,1966,2005,1976,1996,2007,1994,1980,1977,1953,2008,1937,1997,1916,2005,2008,1954,2008,1967,1923,1966,1898,1974,2004,1952,1958,1918,1998,1954,2002,1971,2009,2003,1953,2003,1940,2006,2007,1924,2001,1967,2005,1957,2005,2003,1964,1961,1950,1948,1973,1995,1946,1925,1904,1966,1961,1915,1975,1993,1972,1908,1976,2003,2003,1941,1964,1955,1962,1978,1994,1976,1968,1918,1965,1984,1959,2007,1970,2006,1961,1948,1993,1962,1998,1953,1949,1941,2007,1963,2004,1961,1978,2005,1990,1992,1912,1967,1999,1959,1955,1970,1953,1949,1978,1963,1954,1979,1963,1936,1979,2009,1961,1971,1957,2003,2006,1967,1954,2006,1936,1983,2005,1960,1977,1925,1949,2009,1970,1949,1956,1991,1958,1994,1900,2005,1993,1980,1977,2003,1968,2001,1997,2007,1965,2006,2004,1960,1926,2003,2005,2006,1940,1976,1999,1977,1967,1958,1890,1959,2002,2002,1972,1950,1965,1972,1969,1975,1946,1980,1962,2003,1999,1958,1977,1976,2007,2002,2005,1940,1955,1910,1958,1949,2003,1979,2007,1910,2000,1923,2006,1954,1963,1961,1998,2007,2002,1977,1950,1910,2009,1976,2006,1997,1882,1964,2005,2006,1946,1961,1970,1922,2006,1952,1920,2006,1976,2005,1977,1970,1970,2004,1926,1948,1965,1923,1910,1948,2001,1996,1984,1991,2005,2005,2006,1930,2005,1976,1972,1960,2007,1941,1972,1916,1920,1993,2002,1938,1957,2007,2001,1970,1970,1957,1966,2005,1990,1981,1955,2005,1994,1960,1946,2007,2007,1964,1957,2002,1976,2005,1994,2008,1932,2001,1935,1900,1925,1966,1996,1993,1964,1973,1949,1956,1968,1948,1977,2006,1940,1936,1969,2004,1994,1971,1963,2002,1964,1995,1992,1973,2005,2004,2005,1950,1999,1925,1965,1956,2006,1914,1986,1936,1978,1920,1971,1960,1959,1970,1994,1990,2006,2000,2004,1995,1976,1957,1953,1954,2007,2002,1967,1958,1959,1920,2005,1956,1947,1992,1955,2007,2004,2004,1980,1928,1991,1880,1995,1997,1926,1950,1875,1977,1920,1951,1976,2006,1959,1941,1928,1985,1941,1926,1920,1950,1959,1956,1930,1965,1976,1965,2007,2007,1974,1978,1954,1968,1969,1978,2009,2008,2000,1935,1995,1977,1958,2006,1946,1932,1992,1984,1926,1921,1954,1990,2008,1996,1920,1963,1924,1900,1994,2002,1999,1961,1999,1925,1999,1969,2005,2006,1916,2001,1963,1970,1998,1925,2000,1975,1990,1966,2003,1962,2006,1992,1988,1941,1965,1962,1966,1978,2009,1947,1971,1964,1968,1949,1951,2004,1958,2007,1965,2008,1960,1977,1962,1962,1959,1911,1914,2003,2004,2005,2006,2003,2007,1974,2006,1929,1984,2005,1976,1917,1950,1968,2003,1968,1974,2003,1931,1994,1922,2005,1969,1999,1956,1957,1919,1998,1999,1910,2008,1935,1958,1979,1968,1965,1959,1910,1948,1972,1967,2002,1920,2002,1990,1977,1971,1919,1939,1963,1964,2000,2006,1964,1972,1892,1976,1955,1968,1963,2005,2008,1959,1999,1942,1994,2005,2004,2006,2005,1994,1948,1991,1959,2005,1990,1999,1954,1969,2008,2006,2001,1954,1957,1949,1992,1940,2006,1922,1931,1982,1920,1998,2006,1976,1938,1938,1970,1977,1973,1941,2002,1972,1971,2003,2002,1928,2006,1920,1968,2006,1998,1872,1969,1962,1937,1995,2000,1968,1966,1971,2000,2004,1921,2005,1920,2006,2005,2000,1999,1977,2003,2003,1920,1955,1998,2001,2005,2007,1930,1941,1973,2006,1914,1970,1920,1918,1939,1922,1978,1916,2006,1941,2000,1967,1967,1905,2006,2005,1948,1920,1950,1925,1929,2004,2006,2007,1915,2004,1972,1985,1910,1986,2001,1950,1949,2005,1923,2007,1885,1998,1963,1969,1968,1977,2003,1966,1958,1959,1994,1945,1940,1981,2005,1976,1927,2000,1977,1962,1971,2008,1957,1979,1922,2004,2008,1916,2004,1966,1962,1995,1910,1970,1974,2008,2005,2006,2004,1999,1978,1941,1950,1965],\"xaxis\":\"x\",\"y\":[2003.0,1976.0,2001.0,1998.0,2000.0,1993.0,2004.0,1973.0,1931.0,1939.0,1965.0,2005.0,1962.0,2006.0,1960.0,1991.0,1970.0,1967.0,2004.0,1958.0,2005.0,1930.0,2002.0,1976.0,1968.0,2007.0,2005.0,2008.0,1957.0,1920.0,1920.0,1966.0,2007.0,1959.0,2005.0,2004.0,1995.0,1954.0,1953.0,1978.5061638868744,1965.0,1959.0,1983.0,1977.0,1959.0,2005.0,2003.0,2006.0,1978.5061638868744,1966.0,1997.0,1985.0,1963.0,1981.0,1962.0,1964.0,1999.0,2004.0,2006.0,1973.0,2006.0,1935.0,2006.0,1990.0,1998.0,2004.0,1970.0,2003.0,1945.0,1953.0,1973.0,1987.0,1998.0,1989.0,1915.0,1973.0,1956.0,1948.0,1978.5061638868744,1966.0,1968.0,1998.0,2007.0,1974.0,1995.0,1991.0,2005.0,2009.0,1978.5061638868744,1978.5061638868744,1950.0,1961.0,1921.0,1900.0,1997.0,1993.0,1999.0,1965.0,1920.0,1978.5061638868744,1977.0,1985.0,1979.0,2009.0,1951.0,2003.0,1954.0,1948.0,1978.5061638868744,1977.0,1954.0,2000.0,2007.0,1953.0,1945.0,1999.0,1962.0,2007.0,1990.0,2005.0,1969.0,1979.0,1958.0,1993.0,1979.0,1978.5061638868744,1977.0,1978.5061638868744,1966.0,1998.0,1966.0,2000.0,1974.0,2001.0,1968.0,1970.0,1967.0,1989.0,1999.0,1997.0,1978.5061638868744,2005.0,2000.0,1999.0,1963.0,2004.0,1931.0,2001.0,1978.5061638868744,1936.0,1975.0,2007.0,1971.0,1960.0,1923.0,1978.5061638868744,1950.0,2009.0,2004.0,2006.0,1984.0,2003.0,2005.0,1978.5061638868744,1926.0,1978.5061638868744,1955.0,2007.0,2004.0,1981.0,1991.0,1960.0,1987.0,1961.0,1986.0,1950.0,1988.0,1958.0,2009.0,1935.0,2000.0,1920.0,1957.0,2003.0,1986.0,1993.0,1990.0,1916.0,1979.0,2001.0,1932.0,1972.0,1999.0,2004.0,1989.0,1976.0,2007.0,1918.0,1978.5061638868744,2004.0,2003.0,1980.0,1924.0,2004.0,1948.0,1990.0,1962.0,1960.0,1988.0,1964.0,1978.5061638868744,2009.0,2009.0,1996.0,1977.0,1957.0,2004.0,1940.0,1939.0,2005.0,2006.0,2002.0,1975.0,1989.0,2003.0,1991.0,1995.0,1987.0,1974.0,2005.0,1959.0,1995.0,1972.0,1976.0,2002.0,1971.0,2004.0,1993.0,2007.0,1949.0,2008.0,1978.5061638868744,1940.0,1980.0,1994.0,1988.0,1910.0,1954.0,2003.0,1958.0,1978.5061638868744,2006.0,2004.0,1964.0,1957.0,1999.0,2003.0,2006.0,2001.0,1956.0,1991.0,2007.0,1978.0,1974.0,1965.0,1981.0,1997.0,1939.0,1966.0,1987.0,2006.0,1954.0,1999.0,1958.0,1982.0,1978.0,2003.0,1951.0,2007.0,1977.0,1989.0,2006.0,2008.0,2008.0,1992.0,2006.0,1962.0,1978.5061638868744,1970.0,2003.0,2006.0,1978.5061638868744,1949.0,1977.0,1953.0,1984.0,1950.0,1997.0,1968.0,1950.0,1953.0,1998.0,2001.0,1975.0,2003.0,2004.0,1990.0,1978.5061638868744,1961.0,2003.0,1993.0,1948.0,1939.0,1965.0,1925.0,2004.0,1983.0,2006.0,1993.0,1980.0,2006.0,2004.0,1987.0,1955.0,1961.0,1941.0,1993.0,1960.0,1930.0,1920.0,2002.0,1958.0,2003.0,2004.0,1998.0,1965.0,2005.0,2002.0,1984.0,1958.0,2002.0,1950.0,1949.0,2005.0,1976.0,1939.0,1960.0,1960.0,2003.0,2006.0,2007.0,1986.0,1941.0,2005.0,1940.0,1995.0,1992.0,1976.0,1958.0,1998.0,1978.0,1940.0,2003.0,1972.0,1976.0,1964.0,1963.0,1962.0,1954.0,1997.0,2000.0,1991.0,1984.0,1953.0,2003.0,1978.5061638868744,1998.0,2004.0,2010.0,2000.0,1924.0,2006.0,2006.0,1950.0,1992.0,2004.0,1978.5061638868744,1977.0,1999.0,2008.0,1978.0,2001.0,1959.0,1978.5061638868744,1940.0,1956.0,1985.0,1962.0,1920.0,2007.0,1996.0,2005.0,1940.0,1998.0,1995.0,1993.0,1936.0,1960.0,2006.0,2008.0,1958.0,1955.0,2009.0,1927.0,1993.0,2007.0,1978.0,1918.0,1940.0,1968.0,1997.0,1977.0,1954.0,1998.0,1956.0,1947.0,1989.0,1964.0,2007.0,1988.0,1971.0,1978.5061638868744,1971.0,1997.0,1978.5061638868744,1996.0,1990.0,1926.0,1990.0,2005.0,2008.0,1978.5061638868744,1930.0,2007.0,1994.0,1956.0,1966.0,1998.0,1937.0,1981.0,1932.0,1975.0,1996.0,2008.0,1976.0,1973.0,1916.0,1954.0,1925.0,1950.0,2009.0,1971.0,1965.0,1939.0,1978.5061638868744,2004.0,1970.0,1942.0,2006.0,1993.0,1985.0,1977.0,2005.0,2006.0,2000.0,1996.0,1997.0,2006.0,2007.0,1995.0,2004.0,2003.0,1915.0,1998.0,1963.0,1950.0,1965.0,1971.0,1970.0,1970.0,1976.0,1941.0,2006.0,1964.0,1938.0,1978.5061638868744,1992.0,1925.0,1967.0,1958.0,1973.0,2005.0,1965.0,1959.0,1974.0,1952.0,1993.0,2009.0,1928.0,1959.0,1951.0,2005.0,1964.0,1983.0,1926.0,2009.0,1972.0,1996.0,1998.0,1926.0,1978.5061638868744,1957.0,1950.0,2007.0,1996.0,2005.0,1956.0,2008.0,1978.5061638868744,1975.0,1988.0,1920.0,1967.0,1978.5061638868744,2004.0,1978.5061638868744,1998.0,1980.0,1968.0,2001.0,2006.0,2000.0,1998.0,1998.0,2006.0,1988.0,1950.0,1987.0,1963.0,2003.0,1977.0,1957.0,2006.0,2002.0,2003.0,1922.0,1957.0,1994.0,1996.0,2003.0,1957.0,1975.0,1978.5061638868744,1955.0,1992.0,1920.0,2005.0,2004.0,1983.0,1979.0,1987.0,1959.0,2009.0,2000.0,1971.0,1947.0,1928.0,1966.0,2007.0,1954.0,1960.0,2009.0,1978.5061638868744,1988.0,1935.0,2005.0,1961.0,1996.0,1968.0,1988.0,2004.0,2008.0,1985.0,2003.0,1981.0,2005.0,1930.0,2006.0,1977.0,1980.0,2003.0,1979.0,1992.0,2004.0,2002.0,1965.0,2000.0,1948.0,1934.0,1961.0,2000.0,1978.0,2001.0,1978.5061638868744,1978.5061638868744,1963.0,2002.0,1962.0,2007.0,2003.0,1978.5061638868744,1974.0,1986.0,2000.0,1972.0,1962.0,1960.0,1955.0,1969.0,1964.0,1937.0,2006.0,1977.0,1954.0,1980.0,1978.5061638868744,1978.5061638868744,1954.0,1978.5061638868744,2006.0,2003.0,2001.0,1972.0,1969.0,2009.0,1979.0,1950.0,1953.0,1966.0,1978.5061638868744,2007.0,1940.0,1996.0,1906.0,1995.0,1971.0,1959.0,1931.0,1948.0,1968.0,1976.0,1994.0,1968.0,1974.0,2005.0,2000.0,1965.0,1994.0,1999.0,1922.0,2005.0,1930.0,1977.0,1957.0,1965.0,1978.0,1920.0,1924.0,2008.0,1963.0,1980.0,1968.0,1996.0,2002.0,1998.0,1984.0,2007.0,2004.0,2007.0,2005.0,2004.0,1994.0,1989.0,1968.0,1995.0,1987.0,1921.0,1952.0,1973.0,2004.0,2002.0,1969.0,2006.0,1999.0,2004.0,1978.5061638868744,1971.0,2006.0,2007.0,1966.0,1978.5061638868744,1964.0,1988.0,1970.0,1976.0,1974.0,1996.0,1973.0,1993.0,1969.0,1985.0,2004.0,1994.0,1958.0,2007.0,1989.0,1988.0,2007.0,1968.0,1962.0,1995.0,2003.0,1998.0,1961.0,1968.0,1914.0,1949.0,2005.0,1978.5061638868744,2004.0,1910.0,1962.0,2000.0,1997.0,1993.0,1994.0,2000.0,1950.0,1996.0,1945.0,1978.5061638868744,2003.0,1997.0,2005.0,1969.0,1999.0,2007.0,1978.0,1999.0,1995.0,2008.0,1965.0,2009.0,1999.0,1995.0,2008.0,1988.0,1989.0,2004.0,2003.0,1983.0,1951.0,1976.0,1958.0,2006.0,1998.0,2005.0,1974.0,1977.0,1977.0,1995.0,1992.0,2001.0,1978.0,1978.5061638868744,1967.0,1961.0,2004.0,1954.0,1966.0,2005.0,1976.0,1997.0,2007.0,1994.0,1980.0,1977.0,1953.0,2009.0,1939.0,1997.0,1957.0,2005.0,2009.0,1954.0,2008.0,1967.0,1923.0,1966.0,1910.0,1974.0,2004.0,1952.0,1958.0,1955.0,1998.0,1954.0,2002.0,1971.0,2010.0,2003.0,1974.0,2003.0,1940.0,2006.0,2007.0,1978.5061638868744,2001.0,1967.0,2005.0,1957.0,2005.0,2003.0,1964.0,1961.0,1996.0,1948.0,1973.0,1999.0,1946.0,1934.0,1983.0,1966.0,1978.5061638868744,1949.0,1975.0,1993.0,1972.0,1908.0,1976.0,2003.0,2003.0,1941.0,1964.0,1955.0,1962.0,1981.0,1994.0,1976.0,1968.0,1925.0,1965.0,1986.0,1959.0,2008.0,1973.0,2007.0,1961.0,1979.0,1993.0,1962.0,1998.0,1953.0,1949.0,1941.0,2007.0,1963.0,2004.0,1987.0,1978.0,2005.0,1990.0,1993.0,1997.0,1967.0,1999.0,2005.0,1955.0,1970.0,1953.0,2003.0,1978.0,1963.0,1954.0,1979.0,1963.0,1936.0,1979.0,2009.0,1961.0,1979.0,1968.0,2003.0,2006.0,1967.0,1954.0,2006.0,1936.0,1983.0,2005.0,1960.0,1978.0,1925.0,1949.0,2009.0,1970.0,1958.0,1956.0,1991.0,1990.0,1994.0,1978.5061638868744,2005.0,1993.0,1980.0,1977.0,2003.0,1968.0,2001.0,1997.0,2007.0,1965.0,2006.0,2004.0,1960.0,1953.0,2003.0,2005.0,2006.0,1940.0,1976.0,1999.0,1978.5061638868744,1967.0,1958.0,1963.0,1959.0,2002.0,2002.0,1972.0,1980.0,1979.0,1974.0,1969.0,1978.5061638868744,1946.0,1980.0,1977.0,2003.0,1999.0,1978.5061638868744,1977.0,1976.0,2007.0,2002.0,2005.0,1940.0,1955.0,1978.5061638868744,1958.0,1978.5061638868744,2003.0,1979.0,2007.0,1997.0,2000.0,1978.5061638868744,2007.0,1999.0,1963.0,1961.0,1998.0,2007.0,2002.0,1977.0,1950.0,1950.0,2010.0,1976.0,2006.0,1997.0,1925.0,1964.0,2005.0,2008.0,1946.0,1961.0,1970.0,1922.0,2006.0,1956.0,1920.0,2006.0,1976.0,2005.0,1977.0,1970.0,1970.0,2004.0,1978.5061638868744,1948.0,1978.5061638868744,1923.0,1956.0,1948.0,2001.0,1996.0,1984.0,1991.0,2005.0,2005.0,2006.0,1957.0,2005.0,1976.0,1980.0,1960.0,2008.0,1941.0,1972.0,1978.5061638868744,1970.0,1993.0,2002.0,1938.0,1957.0,2008.0,2001.0,1978.5061638868744,1970.0,1957.0,1966.0,2005.0,1990.0,1981.0,1955.0,2005.0,1996.0,1960.0,1946.0,2007.0,2007.0,1964.0,1957.0,2002.0,1976.0,2005.0,1994.0,2008.0,1977.0,2001.0,1994.0,1945.0,1976.0,1966.0,1996.0,1993.0,1964.0,1973.0,1985.0,1956.0,1968.0,1954.0,1977.0,2006.0,1940.0,1950.0,1969.0,2004.0,1996.0,1971.0,1963.0,2002.0,1964.0,1995.0,1992.0,1973.0,2005.0,2004.0,2005.0,1987.0,1999.0,1925.0,1977.0,1956.0,2006.0,1978.5061638868744,1987.0,1936.0,1978.0,1930.0,1981.0,1960.0,1954.0,1970.0,1994.0,1990.0,2006.0,2000.0,2004.0,1995.0,1976.0,1957.0,1953.0,1955.0,2007.0,2002.0,1967.0,1958.0,1959.0,1920.0,2005.0,1956.0,1978.5061638868744,1992.0,1977.0,2007.0,2004.0,2004.0,1980.0,1981.0,1978.5061638868744,1930.0,1995.0,1997.0,1926.0,1950.0,1978.5061638868744,1977.0,1972.0,1988.0,1976.0,2006.0,1978.5061638868744,1941.0,1928.0,1985.0,1941.0,1982.0,1930.0,1950.0,1959.0,1956.0,2002.0,1965.0,1976.0,1965.0,2008.0,2008.0,1974.0,1978.0,1993.0,1968.0,1969.0,1978.0,2009.0,2008.0,2000.0,1935.0,1995.0,1977.0,1958.0,2006.0,1978.5061638868744,1932.0,1992.0,1984.0,1926.0,1921.0,1978.5061638868744,1990.0,2008.0,1996.0,1970.0,1963.0,1965.0,1920.0,1994.0,2002.0,1999.0,1975.0,1999.0,1925.0,1999.0,1969.0,2005.0,2006.0,1916.0,2001.0,1974.0,1972.0,1998.0,1960.0,2000.0,1975.0,1990.0,1966.0,2003.0,1980.0,2006.0,1992.0,1988.0,1941.0,1965.0,1962.0,1966.0,1978.0,2009.0,1978.5061638868744,1978.5061638868744,1964.0,1968.0,1949.0,1951.0,2004.0,1958.0,2007.0,1992.0,2008.0,1960.0,1977.0,1962.0,1962.0,1959.0,1978.5061638868744,1914.0,2003.0,2004.0,2005.0,2006.0,2003.0,2007.0,1974.0,2006.0,1931.0,1984.0,2005.0,1976.0,1950.0,1950.0,1968.0,2003.0,1968.0,1974.0,2003.0,1978.0,1994.0,1978.5061638868744,2005.0,1969.0,1999.0,1956.0,1957.0,1940.0,1998.0,1999.0,1960.0,2009.0,1982.0,1958.0,1979.0,1968.0,1965.0,1959.0,1985.0,1948.0,1972.0,1967.0,2002.0,1980.0,2002.0,1990.0,1977.0,1978.5061638868744,1969.0,1939.0,1963.0,1964.0,2000.0,2006.0,1964.0,1972.0,1985.0,1976.0,1957.0,1968.0,1963.0,2005.0,2008.0,1959.0,1999.0,1942.0,1994.0,2005.0,2004.0,2006.0,2005.0,2000.0,1948.0,1991.0,1959.0,2005.0,1990.0,1999.0,1956.0,1969.0,2008.0,2006.0,2001.0,1954.0,1957.0,1955.0,1992.0,1978.5061638868744,2007.0,1978.5061638868744,1978.5061638868744,1982.0,1920.0,1998.0,2006.0,1976.0,1958.0,1951.0,1970.0,1977.0,1973.0,1978.5061638868744,2002.0,1972.0,1974.0,2004.0,2002.0,1929.0,2006.0,1997.0,1968.0,2006.0,1998.0,1978.5061638868744,1969.0,1962.0,1999.0,1996.0,2000.0,1968.0,1966.0,1971.0,2000.0,2004.0,1998.0,2005.0,1920.0,2007.0,2005.0,2000.0,1999.0,1977.0,2003.0,2003.0,1967.0,1955.0,1998.0,2001.0,2005.0,2007.0,1925.0,1977.0,1973.0,2007.0,1938.0,1970.0,1989.0,2007.0,1939.0,1922.0,1978.0,1916.0,2006.0,2003.0,2000.0,1967.0,1967.0,2003.0,2006.0,2005.0,1966.0,1933.0,1950.0,1925.0,1929.0,2004.0,2006.0,2007.0,1998.0,2004.0,1988.0,1978.5061638868744,1966.0,1986.0,2001.0,1950.0,1956.0,2005.0,1922.0,2007.0,1971.0,1998.0,1962.0,1969.0,1968.0,1977.0,2003.0,1966.0,1970.0,1960.0,1994.0,1962.0,1940.0,1981.0,2005.0,1976.0,1928.0,2000.0,1977.0,1962.0,1974.0,2008.0,1957.0,1979.0,1993.0,2004.0,2008.0,1916.0,2004.0,1990.0,1962.0,1995.0,1950.0,1978.5061638868744,1978.5061638868744,2008.0,2005.0,1978.5061638868744,2004.0,1999.0,1978.0,1941.0,1950.0,1965.0],\"yaxis\":\"y\",\"type\":\"scattergl\"}],                        {\"template\":{\"data\":{\"histogram2dcontour\":[{\"type\":\"histogram2dcontour\",\"colorbar\":{\"outlinewidth\":0,\"ticks\":\"\"},\"colorscale\":[[0.0,\"#0d0887\"],[0.1111111111111111,\"#46039f\"],[0.2222222222222222,\"#7201a8\"],[0.3333333333333333,\"#9c179e\"],[0.4444444444444444,\"#bd3786\"],[0.5555555555555556,\"#d8576b\"],[0.6666666666666666,\"#ed7953\"],[0.7777777777777778,\"#fb9f3a\"],[0.8888888888888888,\"#fdca26\"],[1.0,\"#f0f921\"]]}],\"choropleth\":[{\"type\":\"choropleth\",\"colorbar\":{\"outlinewidth\":0,\"ticks\":\"\"}}],\"histogram2d\":[{\"type\":\"histogram2d\",\"colorbar\":{\"outlinewidth\":0,\"ticks\":\"\"},\"colorscale\":[[0.0,\"#0d0887\"],[0.1111111111111111,\"#46039f\"],[0.2222222222222222,\"#7201a8\"],[0.3333333333333333,\"#9c179e\"],[0.4444444444444444,\"#bd3786\"],[0.5555555555555556,\"#d8576b\"],[0.6666666666666666,\"#ed7953\"],[0.7777777777777778,\"#fb9f3a\"],[0.8888888888888888,\"#fdca26\"],[1.0,\"#f0f921\"]]}],\"heatmap\":[{\"type\":\"heatmap\",\"colorbar\":{\"outlinewidth\":0,\"ticks\":\"\"},\"colorscale\":[[0.0,\"#0d0887\"],[0.1111111111111111,\"#46039f\"],[0.2222222222222222,\"#7201a8\"],[0.3333333333333333,\"#9c179e\"],[0.4444444444444444,\"#bd3786\"],[0.5555555555555556,\"#d8576b\"],[0.6666666666666666,\"#ed7953\"],[0.7777777777777778,\"#fb9f3a\"],[0.8888888888888888,\"#fdca26\"],[1.0,\"#f0f921\"]]}],\"heatmapgl\":[{\"type\":\"heatmapgl\",\"colorbar\":{\"outlinewidth\":0,\"ticks\":\"\"},\"colorscale\":[[0.0,\"#0d0887\"],[0.1111111111111111,\"#46039f\"],[0.2222222222222222,\"#7201a8\"],[0.3333333333333333,\"#9c179e\"],[0.4444444444444444,\"#bd3786\"],[0.5555555555555556,\"#d8576b\"],[0.6666666666666666,\"#ed7953\"],[0.7777777777777778,\"#fb9f3a\"],[0.8888888888888888,\"#fdca26\"],[1.0,\"#f0f921\"]]}],\"contourcarpet\":[{\"type\":\"contourcarpet\",\"colorbar\":{\"outlinewidth\":0,\"ticks\":\"\"}}],\"contour\":[{\"type\":\"contour\",\"colorbar\":{\"outlinewidth\":0,\"ticks\":\"\"},\"colorscale\":[[0.0,\"#0d0887\"],[0.1111111111111111,\"#46039f\"],[0.2222222222222222,\"#7201a8\"],[0.3333333333333333,\"#9c179e\"],[0.4444444444444444,\"#bd3786\"],[0.5555555555555556,\"#d8576b\"],[0.6666666666666666,\"#ed7953\"],[0.7777777777777778,\"#fb9f3a\"],[0.8888888888888888,\"#fdca26\"],[1.0,\"#f0f921\"]]}],\"surface\":[{\"type\":\"surface\",\"colorbar\":{\"outlinewidth\":0,\"ticks\":\"\"},\"colorscale\":[[0.0,\"#0d0887\"],[0.1111111111111111,\"#46039f\"],[0.2222222222222222,\"#7201a8\"],[0.3333333333333333,\"#9c179e\"],[0.4444444444444444,\"#bd3786\"],[0.5555555555555556,\"#d8576b\"],[0.6666666666666666,\"#ed7953\"],[0.7777777777777778,\"#fb9f3a\"],[0.8888888888888888,\"#fdca26\"],[1.0,\"#f0f921\"]]}],\"mesh3d\":[{\"type\":\"mesh3d\",\"colorbar\":{\"outlinewidth\":0,\"ticks\":\"\"}}],\"scatter\":[{\"fillpattern\":{\"fillmode\":\"overlay\",\"size\":10,\"solidity\":0.2},\"type\":\"scatter\"}],\"parcoords\":[{\"type\":\"parcoords\",\"line\":{\"colorbar\":{\"outlinewidth\":0,\"ticks\":\"\"}}}],\"scatterpolargl\":[{\"type\":\"scatterpolargl\",\"marker\":{\"colorbar\":{\"outlinewidth\":0,\"ticks\":\"\"}}}],\"bar\":[{\"error_x\":{\"color\":\"#2a3f5f\"},\"error_y\":{\"color\":\"#2a3f5f\"},\"marker\":{\"line\":{\"color\":\"#E5ECF6\",\"width\":0.5},\"pattern\":{\"fillmode\":\"overlay\",\"size\":10,\"solidity\":0.2}},\"type\":\"bar\"}],\"scattergeo\":[{\"type\":\"scattergeo\",\"marker\":{\"colorbar\":{\"outlinewidth\":0,\"ticks\":\"\"}}}],\"scatterpolar\":[{\"type\":\"scatterpolar\",\"marker\":{\"colorbar\":{\"outlinewidth\":0,\"ticks\":\"\"}}}],\"histogram\":[{\"marker\":{\"pattern\":{\"fillmode\":\"overlay\",\"size\":10,\"solidity\":0.2}},\"type\":\"histogram\"}],\"scattergl\":[{\"type\":\"scattergl\",\"marker\":{\"colorbar\":{\"outlinewidth\":0,\"ticks\":\"\"}}}],\"scatter3d\":[{\"type\":\"scatter3d\",\"line\":{\"colorbar\":{\"outlinewidth\":0,\"ticks\":\"\"}},\"marker\":{\"colorbar\":{\"outlinewidth\":0,\"ticks\":\"\"}}}],\"scattermapbox\":[{\"type\":\"scattermapbox\",\"marker\":{\"colorbar\":{\"outlinewidth\":0,\"ticks\":\"\"}}}],\"scatterternary\":[{\"type\":\"scatterternary\",\"marker\":{\"colorbar\":{\"outlinewidth\":0,\"ticks\":\"\"}}}],\"scattercarpet\":[{\"type\":\"scattercarpet\",\"marker\":{\"colorbar\":{\"outlinewidth\":0,\"ticks\":\"\"}}}],\"carpet\":[{\"aaxis\":{\"endlinecolor\":\"#2a3f5f\",\"gridcolor\":\"white\",\"linecolor\":\"white\",\"minorgridcolor\":\"white\",\"startlinecolor\":\"#2a3f5f\"},\"baxis\":{\"endlinecolor\":\"#2a3f5f\",\"gridcolor\":\"white\",\"linecolor\":\"white\",\"minorgridcolor\":\"white\",\"startlinecolor\":\"#2a3f5f\"},\"type\":\"carpet\"}],\"table\":[{\"cells\":{\"fill\":{\"color\":\"#EBF0F8\"},\"line\":{\"color\":\"white\"}},\"header\":{\"fill\":{\"color\":\"#C8D4E3\"},\"line\":{\"color\":\"white\"}},\"type\":\"table\"}],\"barpolar\":[{\"marker\":{\"line\":{\"color\":\"#E5ECF6\",\"width\":0.5},\"pattern\":{\"fillmode\":\"overlay\",\"size\":10,\"solidity\":0.2}},\"type\":\"barpolar\"}],\"pie\":[{\"automargin\":true,\"type\":\"pie\"}]},\"layout\":{\"autotypenumbers\":\"strict\",\"colorway\":[\"#636efa\",\"#EF553B\",\"#00cc96\",\"#ab63fa\",\"#FFA15A\",\"#19d3f3\",\"#FF6692\",\"#B6E880\",\"#FF97FF\",\"#FECB52\"],\"font\":{\"color\":\"#2a3f5f\"},\"hovermode\":\"closest\",\"hoverlabel\":{\"align\":\"left\"},\"paper_bgcolor\":\"white\",\"plot_bgcolor\":\"#E5ECF6\",\"polar\":{\"bgcolor\":\"#E5ECF6\",\"angularaxis\":{\"gridcolor\":\"white\",\"linecolor\":\"white\",\"ticks\":\"\"},\"radialaxis\":{\"gridcolor\":\"white\",\"linecolor\":\"white\",\"ticks\":\"\"}},\"ternary\":{\"bgcolor\":\"#E5ECF6\",\"aaxis\":{\"gridcolor\":\"white\",\"linecolor\":\"white\",\"ticks\":\"\"},\"baxis\":{\"gridcolor\":\"white\",\"linecolor\":\"white\",\"ticks\":\"\"},\"caxis\":{\"gridcolor\":\"white\",\"linecolor\":\"white\",\"ticks\":\"\"}},\"coloraxis\":{\"colorbar\":{\"outlinewidth\":0,\"ticks\":\"\"}},\"colorscale\":{\"sequential\":[[0.0,\"#0d0887\"],[0.1111111111111111,\"#46039f\"],[0.2222222222222222,\"#7201a8\"],[0.3333333333333333,\"#9c179e\"],[0.4444444444444444,\"#bd3786\"],[0.5555555555555556,\"#d8576b\"],[0.6666666666666666,\"#ed7953\"],[0.7777777777777778,\"#fb9f3a\"],[0.8888888888888888,\"#fdca26\"],[1.0,\"#f0f921\"]],\"sequentialminus\":[[0.0,\"#0d0887\"],[0.1111111111111111,\"#46039f\"],[0.2222222222222222,\"#7201a8\"],[0.3333333333333333,\"#9c179e\"],[0.4444444444444444,\"#bd3786\"],[0.5555555555555556,\"#d8576b\"],[0.6666666666666666,\"#ed7953\"],[0.7777777777777778,\"#fb9f3a\"],[0.8888888888888888,\"#fdca26\"],[1.0,\"#f0f921\"]],\"diverging\":[[0,\"#8e0152\"],[0.1,\"#c51b7d\"],[0.2,\"#de77ae\"],[0.3,\"#f1b6da\"],[0.4,\"#fde0ef\"],[0.5,\"#f7f7f7\"],[0.6,\"#e6f5d0\"],[0.7,\"#b8e186\"],[0.8,\"#7fbc41\"],[0.9,\"#4d9221\"],[1,\"#276419\"]]},\"xaxis\":{\"gridcolor\":\"white\",\"linecolor\":\"white\",\"ticks\":\"\",\"title\":{\"standoff\":15},\"zerolinecolor\":\"white\",\"automargin\":true,\"zerolinewidth\":2},\"yaxis\":{\"gridcolor\":\"white\",\"linecolor\":\"white\",\"ticks\":\"\",\"title\":{\"standoff\":15},\"zerolinecolor\":\"white\",\"automargin\":true,\"zerolinewidth\":2},\"scene\":{\"xaxis\":{\"backgroundcolor\":\"#E5ECF6\",\"gridcolor\":\"white\",\"linecolor\":\"white\",\"showbackground\":true,\"ticks\":\"\",\"zerolinecolor\":\"white\",\"gridwidth\":2},\"yaxis\":{\"backgroundcolor\":\"#E5ECF6\",\"gridcolor\":\"white\",\"linecolor\":\"white\",\"showbackground\":true,\"ticks\":\"\",\"zerolinecolor\":\"white\",\"gridwidth\":2},\"zaxis\":{\"backgroundcolor\":\"#E5ECF6\",\"gridcolor\":\"white\",\"linecolor\":\"white\",\"showbackground\":true,\"ticks\":\"\",\"zerolinecolor\":\"white\",\"gridwidth\":2}},\"shapedefaults\":{\"line\":{\"color\":\"#2a3f5f\"}},\"annotationdefaults\":{\"arrowcolor\":\"#2a3f5f\",\"arrowhead\":0,\"arrowwidth\":1},\"geo\":{\"bgcolor\":\"white\",\"landcolor\":\"#E5ECF6\",\"subunitcolor\":\"white\",\"showland\":true,\"showlakes\":true,\"lakecolor\":\"white\"},\"title\":{\"x\":0.05},\"mapbox\":{\"style\":\"light\"}}},\"xaxis\":{\"anchor\":\"y\",\"domain\":[0.0,1.0],\"title\":{\"text\":\"YearBuilt\"}},\"yaxis\":{\"anchor\":\"x\",\"domain\":[0.0,1.0],\"title\":{\"text\":\"GarageYrBlt\"}},\"legend\":{\"tracegroupgap\":0},\"title\":{\"text\":\"YearBuilt vs GarageYrBlt (0.8)\"}},                        {\"responsive\": true}                    ).then(function(){\n",
       "                            \n",
       "var gd = document.getElementById('31d15416-198c-4959-9772-9e00efec06a9');\n",
       "var x = new MutationObserver(function (mutations, observer) {{\n",
       "        var display = window.getComputedStyle(gd).display;\n",
       "        if (!display || display === 'none') {{\n",
       "            console.log([gd, 'removed!']);\n",
       "            Plotly.purge(gd);\n",
       "            observer.disconnect();\n",
       "        }}\n",
       "}});\n",
       "\n",
       "// Listen for the removal of the full notebook cells\n",
       "var notebookContainer = gd.closest('#notebook-container');\n",
       "if (notebookContainer) {{\n",
       "    x.observe(notebookContainer, {childList: true});\n",
       "}}\n",
       "\n",
       "// Listen for the clearing of the current output cell\n",
       "var outputEl = gd.closest('.output');\n",
       "if (outputEl) {{\n",
       "    x.observe(outputEl, {childList: true});\n",
       "}}\n",
       "\n",
       "                        })                };                });            </script>        </div>"
      ]
     },
     "metadata": {},
     "output_type": "display_data"
    }
   ],
   "source": [
    "fig = px.histogram(df, x='YearBuilt', y='GarageYrBlt', title=\"YearBuilt vs GarageYrBlt (0.8)\", text_auto=True)\n",
    "fig.show()\n",
    "\n",
    "fig = px.scatter(df, x = 'YearBuilt', y = 'GarageYrBlt', title=\"YearBuilt vs GarageYrBlt (0.8)\")\n",
    "fig.show()"
   ]
  },
  {
   "cell_type": "markdown",
   "id": "4eb96255",
   "metadata": {
    "papermill": {
     "duration": 0.025878,
     "end_time": "2023-12-05T00:01:17.241505",
     "exception": false,
     "start_time": "2023-12-05T00:01:17.215627",
     "status": "completed"
    },
    "tags": []
   },
   "source": [
    "Upon examining **the histogram**, the unexpectedly **clear linear relationship** between **the year and house prices** becomes apparent. Notably, this relationship wasn't consistently present throughout the **dataset's history**. Its emergence **began post-1920 and continues to persist to the current day**. The **trend aligns** with **real-world observations**, depicting an **increase in house prices corresponding to the passing years**. This observation resonates with **real-world data**, indicating a **logical correlation** where, generally, as the year progresses, house prices tend to ascend."
   ]
  },
  {
   "cell_type": "code",
   "execution_count": 18,
   "id": "6e9b74f1",
   "metadata": {
    "execution": {
     "iopub.execute_input": "2023-12-05T00:01:17.296916Z",
     "iopub.status.busy": "2023-12-05T00:01:17.295730Z",
     "iopub.status.idle": "2023-12-05T00:01:17.425703Z",
     "shell.execute_reply": "2023-12-05T00:01:17.424672Z"
    },
    "papermill": {
     "duration": 0.160889,
     "end_time": "2023-12-05T00:01:17.428358",
     "exception": false,
     "start_time": "2023-12-05T00:01:17.267469",
     "status": "completed"
    },
    "tags": []
   },
   "outputs": [
    {
     "data": {
      "text/html": [
       "<div>                            <div id=\"8043cfa0-060a-40ac-81e5-4e813b2c844c\" class=\"plotly-graph-div\" style=\"height:525px; width:100%;\"></div>            <script type=\"text/javascript\">                require([\"plotly\"], function(Plotly) {                    window.PLOTLYENV=window.PLOTLYENV || {};                                    if (document.getElementById(\"8043cfa0-060a-40ac-81e5-4e813b2c844c\")) {                    Plotly.newPlot(                        \"8043cfa0-060a-40ac-81e5-4e813b2c844c\",                        [{\"alignmentgroup\":\"True\",\"bingroup\":\"x\",\"hovertemplate\":\"Exterior1st=%{x}\\u003cbr\\u003ecount=%{y}\\u003cextra\\u003e\\u003c\\u002fextra\\u003e\",\"legendgroup\":\"\",\"marker\":{\"color\":\"#636efa\",\"pattern\":{\"shape\":\"\"}},\"name\":\"\",\"offsetgroup\":\"\",\"orientation\":\"v\",\"showlegend\":false,\"texttemplate\":\"%{value}\",\"x\":[12.0,8.0,12.0,13.0,12.0,12.0,12.0,6.0,3.0,8.0,6.0,14.0,6.0,12.0,8.0,13.0,13.0,8.0,12.0,3.0,12.0,13.0,12.0,5.0,9.0,12.0,13.0,12.0,8.0,8.0,3.0,6.0,12.0,3.0,8.0,12.0,12.0,13.0,12.0,0.0,13.0,12.0,6.0,12.0,3.0,8.0,12.0,12.0,8.0,6.0,12.0,13.0,13.0,14.0,8.0,6.0,8.0,12.0,12.0,6.0,12.0,8.0,12.0,11.0,12.0,12.0,9.0,12.0,8.0,3.0,9.0,6.0,12.0,13.0,12.0,5.0,12.0,13.0,6.0,13.0,12.0,12.0,12.0,8.0,6.0,6.0,12.0,12.0,9.0,12.0,3.0,6.0,13.0,8.0,12.0,12.0,12.0,6.0,13.0,9.0,9.0,6.0,6.0,12.0,11.0,12.0,12.0,12.0,5.0,9.0,13.0,12.0,12.0,13.0,13.0,8.0,13.0,12.0,9.0,12.0,9.0,0.0,8.0,9.0,6.0,13.0,9.0,14.0,12.0,9.0,8.0,12.0,8.0,12.0,9.0,9.0,8.0,12.0,12.0,12.0,6.0,12.0,3.0,12.0,6.0,12.0,13.0,12.0,12.0,8.0,6.0,12.0,6.0,3.0,13.0,13.0,13.0,12.0,12.0,12.0,9.0,12.0,12.0,8.0,8.0,13.0,13.0,12.0,12.0,9.0,8.0,3.0,6.0,14.0,12.0,14.0,9.0,8.0,12.0,13.0,8.0,11.0,13.0,12.0,0.0,13.0,6.0,6.0,9.0,5.0,3.0,6.0,12.0,12.0,6.0,9.0,5.0,11.0,13.0,12.0,12.0,9.0,8.0,12.0,0.0,6.0,6.0,13.0,9.0,6.0,11.0,12.0,12.0,12.0,6.0,6.0,12.0,8.0,12.0,12.0,12.0,12.0,12.0,6.0,12.0,6.0,12.0,6.0,6.0,12.0,8.0,12.0,6.0,6.0,12.0,6.0,12.0,6.0,12.0,12.0,12.0,12.0,13.0,9.0,12.0,13.0,0.0,13.0,12.0,13.0,13.0,12.0,12.0,6.0,8.0,12.0,12.0,12.0,12.0,3.0,13.0,5.0,6.0,13.0,13.0,8.0,12.0,13.0,12.0,6.0,12.0,9.0,12.0,13.0,6.0,13.0,12.0,12.0,5.0,9.0,9.0,12.0,12.0,12.0,9.0,8.0,13.0,6.0,8.0,13.0,12.0,12.0,13.0,9.0,6.0,6.0,13.0,12.0,6.0,6.0,8.0,12.0,12.0,12.0,5.0,5.0,6.0,8.0,12.0,12.0,6.0,12.0,8.0,3.0,13.0,12.0,5.0,12.0,6.0,9.0,12.0,12.0,9.0,12.0,13.0,8.0,3.0,13.0,13.0,13.0,6.0,13.0,12.0,12.0,12.0,9.0,12.0,12.0,13.0,13.0,12.0,13.0,11.0,8.0,5.0,8.0,8.0,13.0,12.0,5.0,8.0,13.0,12.0,12.0,13.0,12.0,6.0,5.0,13.0,12.0,12.0,8.0,6.0,6.0,6.0,12.0,9.0,9.0,6.0,13.0,12.0,14.0,9.0,8.0,12.0,13.0,12.0,5.0,12.0,12.0,3.0,12.0,12.0,13.0,6.0,12.0,13.0,8.0,12.0,12.0,8.0,12.0,8.0,14.0,8.0,13.0,8.0,12.0,8.0,5.0,3.0,12.0,13.0,12.0,8.0,9.0,8.0,13.0,12.0,12.0,2.0,13.0,8.0,14.0,12.0,12.0,6.0,13.0,8.0,12.0,12.0,5.0,6.0,12.0,13.0,6.0,13.0,8.0,12.0,6.0,6.0,8.0,6.0,12.0,5.0,12.0,11.0,13.0,14.0,13.0,12.0,12.0,8.0,14.0,12.0,13.0,3.0,12.0,8.0,8.0,13.0,9.0,12.0,12.0,9.0,6.0,0.0,9.0,11.0,8.0,12.0,13.0,8.0,11.0,6.0,12.0,9.0,8.0,12.0,6.0,6.0,14.0,12.0,12.0,5.0,6.0,12.0,12.0,12.0,11.0,12.0,12.0,11.0,12.0,6.0,8.0,8.0,9.0,13.0,5.0,5.0,13.0,12.0,3.0,8.0,13.0,3.0,13.0,6.0,8.0,6.0,12.0,8.0,3.0,9.0,13.0,12.0,12.0,8.0,8.0,13.0,12.0,12.0,12.0,13.0,5.0,6.0,12.0,12.0,8.0,8.0,12.0,5.0,5.0,12.0,12.0,13.0,12.0,13.0,13.0,6.0,13.0,12.0,12.0,12.0,8.0,12.0,8.0,9.0,12.0,12.0,12.0,12.0,8.0,12.0,6.0,3.0,12.0,8.0,12.0,9.0,3.0,12.0,12.0,12.0,8.0,13.0,8.0,6.0,12.0,13.0,6.0,14.0,13.0,6.0,13.0,12.0,12.0,13.0,8.0,6.0,14.0,12.0,12.0,8.0,8.0,13.0,12.0,12.0,8.0,13.0,12.0,6.0,13.0,0.0,12.0,11.0,6.0,13.0,12.0,12.0,5.0,6.0,12.0,6.0,12.0,12.0,12.0,9.0,8.0,12.0,13.0,6.0,8.0,12.0,6.0,12.0,8.0,3.0,12.0,12.0,6.0,12.0,12.0,5.0,8.0,12.0,8.0,5.0,12.0,11.0,6.0,9.0,8.0,12.0,13.0,13.0,0.0,9.0,9.0,12.0,12.0,9.0,13.0,9.0,12.0,0.0,13.0,8.0,12.0,8.0,12.0,9.0,14.0,5.0,9.0,8.0,13.0,8.0,5.0,5.0,8.0,12.0,8.0,8.0,6.0,6.0,11.0,12.0,8.0,9.0,12.0,13.0,9.0,12.0,12.0,9.0,6.0,5.0,8.0,12.0,13.0,9.0,5.0,6.0,9.0,0.0,12.0,12.0,13.0,9.0,12.0,13.0,12.0,12.0,6.0,12.0,8.0,8.0,12.0,12.0,6.0,8.0,8.0,13.0,6.0,13.0,13.0,8.0,8.0,12.0,6.0,12.0,13.0,12.0,12.0,9.0,8.0,12.0,6.0,12.0,8.0,6.0,6.0,6.0,6.0,13.0,6.0,13.0,6.0,6.0,12.0,8.0,8.0,5.0,6.0,13.0,12.0,12.0,8.0,5.0,12.0,12.0,6.0,9.0,13.0,11.0,12.0,9.0,12.0,13.0,6.0,12.0,6.0,6.0,12.0,12.0,11.0,12.0,14.0,13.0,12.0,12.0,12.0,9.0,8.0,12.0,6.0,8.0,12.0,13.0,13.0,12.0,12.0,3.0,12.0,6.0,12.0,12.0,5.0,13.0,13.0,9.0,13.0,12.0,12.0,12.0,6.0,9.0,9.0,6.0,12.0,12.0,9.0,13.0,3.0,8.0,12.0,8.0,6.0,12.0,6.0,8.0,5.0,8.0,6.0,9.0,12.0,12.0,13.0,12.0,8.0,14.0,12.0,13.0,12.0,12.0,13.0,12.0,0.0,6.0,12.0,13.0,8.0,11.0,12.0,3.0,5.0,6.0,12.0,12.0,8.0,12.0,12.0,12.0,5.0,8.0,12.0,9.0,8.0,6.0,8.0,12.0,6.0,12.0,12.0,12.0,6.0,12.0,8.0,13.0,8.0,6.0,3.0,13.0,6.0,6.0,6.0,13.0,9.0,12.0,12.0,8.0,8.0,13.0,6.0,9.0,6.0,6.0,6.0,13.0,9.0,6.0,3.0,12.0,8.0,12.0,12.0,9.0,8.0,8.0,12.0,14.0,6.0,13.0,5.0,6.0,12.0,6.0,12.0,12.0,6.0,12.0,13.0,6.0,8.0,8.0,8.0,13.0,13.0,8.0,6.0,6.0,13.0,9.0,6.0,13.0,9.0,12.0,6.0,6.0,8.0,12.0,12.0,6.0,6.0,12.0,3.0,6.0,12.0,8.0,6.0,8.0,8.0,12.0,5.0,0.0,12.0,6.0,8.0,6.0,8.0,12.0,9.0,9.0,12.0,12.0,8.0,12.0,6.0,12.0,12.0,12.0,12.0,13.0,8.0,12.0,12.0,12.0,8.0,9.0,12.0,8.0,6.0,6.0,12.0,6.0,12.0,12.0,9.0,12.0,12.0,14.0,6.0,14.0,8.0,8.0,8.0,12.0,8.0,13.0,6.0,9.0,12.0,12.0,12.0,8.0,13.0,12.0,6.0,0.0,12.0,9.0,5.0,6.0,8.0,13.0,12.0,8.0,12.0,5.0,12.0,12.0,5.0,9.0,8.0,12.0,12.0,9.0,12.0,12.0,13.0,13.0,12.0,5.0,8.0,13.0,6.0,13.0,12.0,2.0,13.0,12.0,12.0,12.0,6.0,9.0,5.0,12.0,13.0,13.0,1.0,13.0,8.0,8.0,12.0,12.0,6.0,6.0,12.0,12.0,12.0,13.0,12.0,10.0,12.0,8.0,12.0,14.0,6.0,12.0,13.0,8.0,12.0,8.0,13.0,12.0,12.0,5.0,5.0,13.0,6.0,12.0,6.0,3.0,3.0,5.0,12.0,6.0,8.0,12.0,12.0,12.0,6.0,12.0,9.0,12.0,6.0,12.0,8.0,5.0,8.0,13.0,8.0,9.0,13.0,12.0,6.0,5.0,8.0,8.0,8.0,8.0,6.0,12.0,13.0,13.0,12.0,12.0,12.0,12.0,6.0,12.0,6.0,6.0,6.0,5.0,12.0,12.0,8.0,3.0,8.0,8.0,8.0,8.0,12.0,13.0,6.0,8.0,9.0,13.0,6.0,13.0,3.0,6.0,6.0,6.0,12.0,12.0,8.0,6.0,9.0,14.0,13.0,8.0,12.0,12.0,12.0,8.0,3.0,3.0,12.0,0.0,12.0,6.0,9.0,12.0,12.0,12.0,8.0,14.0,6.0,13.0,12.0,12.0,13.0,12.0,12.0,9.0,11.0,6.0,9.0,12.0,13.0,8.0,8.0,13.0,8.0,13.0,12.0,3.0,6.0,10.0,13.0,12.0,9.0,3.0,12.0,12.0,6.0,9.0,6.0,12.0,9.0,9.0,12.0,12.0,12.0,11.0,6.0,9.0,8.0,8.0,8.0,13.0,6.0,6.0,8.0,13.0,13.0,8.0,5.0,13.0,11.0,8.0,0.0,6.0,7.0,12.0,12.0,8.0,8.0,12.0,12.0,6.0,12.0,12.0,8.0,12.0,6.0,8.0,12.0,13.0,12.0,6.0,6.0,6.0,12.0,8.0,12.0,13.0,13.0,8.0,12.0,8.0,12.0,12.0,5.0,0.0,5.0,13.0,6.0,13.0,13.0,12.0,12.0,12.0,12.0,8.0,3.0,9.0,13.0,6.0,9.0,8.0,13.0,12.0,12.0,12.0,12.0,12.0,12.0,9.0,12.0,3.0,12.0,12.0,6.0,0.0,8.0,3.0,12.0,6.0,13.0,12.0,13.0,6.0,13.0,12.0,6.0,12.0,8.0,13.0,13.0,8.0,8.0,13.0,11.0,11.0,8.0,9.0,3.0,6.0,9.0,13.0,0.0,6.0,6.0,12.0,8.0,12.0,6.0,6.0,8.0,13.0,8.0,6.0,13.0,5.0,12.0,13.0,5.0,13.0,6.0,14.0,6.0,8.0,12.0,11.0,3.0,12.0,13.0,12.0,12.0,12.0,12.0,12.0,12.0,8.0,6.0,3.0,12.0,13.0,12.0,13.0,6.0,12.0,12.0,12.0,13.0,3.0,12.0,6.0,12.0,12.0,0.0,8.0,12.0,3.0,12.0,12.0,8.0,8.0,13.0,6.0,9.0,9.0,13.0,12.0,8.0,8.0,12.0,12.0,3.0,12.0,8.0,3.0,12.0,12.0,8.0,8.0,6.0,8.0,12.0,12.0,8.0,6.0,12.0,8.0,12.0,8.0,12.0,12.0,12.0,8.0,12.0,12.0,5.0,12.0,12.0,4.0,0.0,12.0,12.0,5.0,12.0,13.0,13.0,6.0,12.0,11.0,3.0,13.0,13.0,14.0,12.0,9.0,11.0,12.0,13.0,12.0,9.0,6.0,13.0,12.0,12.0,13.0,8.0,12.0,14.0,14.0,12.0,12.0,12.0,13.0,5.0,6.0,6.0,12.0,9.0,12.0,12.0,3.0,12.0,13.0,12.0,12.0,12.0,6.0,9.0,6.0,9.0,12.0,9.0,6.0,6.0,12.0,8.0,8.0,8.0,12.0,9.0,13.0,12.0,3.0,13.0,6.0,12.0,8.0,6.0,8.0,12.0,12.0,13.0,12.0,12.0,6.0,12.0,8.0,5.0,12.0,5.0,12.0,12.0,12.0,12.0,9.0,5.0,8.0,6.0],\"xaxis\":\"x\",\"yaxis\":\"y\",\"type\":\"histogram\"}],                        {\"template\":{\"data\":{\"histogram2dcontour\":[{\"type\":\"histogram2dcontour\",\"colorbar\":{\"outlinewidth\":0,\"ticks\":\"\"},\"colorscale\":[[0.0,\"#0d0887\"],[0.1111111111111111,\"#46039f\"],[0.2222222222222222,\"#7201a8\"],[0.3333333333333333,\"#9c179e\"],[0.4444444444444444,\"#bd3786\"],[0.5555555555555556,\"#d8576b\"],[0.6666666666666666,\"#ed7953\"],[0.7777777777777778,\"#fb9f3a\"],[0.8888888888888888,\"#fdca26\"],[1.0,\"#f0f921\"]]}],\"choropleth\":[{\"type\":\"choropleth\",\"colorbar\":{\"outlinewidth\":0,\"ticks\":\"\"}}],\"histogram2d\":[{\"type\":\"histogram2d\",\"colorbar\":{\"outlinewidth\":0,\"ticks\":\"\"},\"colorscale\":[[0.0,\"#0d0887\"],[0.1111111111111111,\"#46039f\"],[0.2222222222222222,\"#7201a8\"],[0.3333333333333333,\"#9c179e\"],[0.4444444444444444,\"#bd3786\"],[0.5555555555555556,\"#d8576b\"],[0.6666666666666666,\"#ed7953\"],[0.7777777777777778,\"#fb9f3a\"],[0.8888888888888888,\"#fdca26\"],[1.0,\"#f0f921\"]]}],\"heatmap\":[{\"type\":\"heatmap\",\"colorbar\":{\"outlinewidth\":0,\"ticks\":\"\"},\"colorscale\":[[0.0,\"#0d0887\"],[0.1111111111111111,\"#46039f\"],[0.2222222222222222,\"#7201a8\"],[0.3333333333333333,\"#9c179e\"],[0.4444444444444444,\"#bd3786\"],[0.5555555555555556,\"#d8576b\"],[0.6666666666666666,\"#ed7953\"],[0.7777777777777778,\"#fb9f3a\"],[0.8888888888888888,\"#fdca26\"],[1.0,\"#f0f921\"]]}],\"heatmapgl\":[{\"type\":\"heatmapgl\",\"colorbar\":{\"outlinewidth\":0,\"ticks\":\"\"},\"colorscale\":[[0.0,\"#0d0887\"],[0.1111111111111111,\"#46039f\"],[0.2222222222222222,\"#7201a8\"],[0.3333333333333333,\"#9c179e\"],[0.4444444444444444,\"#bd3786\"],[0.5555555555555556,\"#d8576b\"],[0.6666666666666666,\"#ed7953\"],[0.7777777777777778,\"#fb9f3a\"],[0.8888888888888888,\"#fdca26\"],[1.0,\"#f0f921\"]]}],\"contourcarpet\":[{\"type\":\"contourcarpet\",\"colorbar\":{\"outlinewidth\":0,\"ticks\":\"\"}}],\"contour\":[{\"type\":\"contour\",\"colorbar\":{\"outlinewidth\":0,\"ticks\":\"\"},\"colorscale\":[[0.0,\"#0d0887\"],[0.1111111111111111,\"#46039f\"],[0.2222222222222222,\"#7201a8\"],[0.3333333333333333,\"#9c179e\"],[0.4444444444444444,\"#bd3786\"],[0.5555555555555556,\"#d8576b\"],[0.6666666666666666,\"#ed7953\"],[0.7777777777777778,\"#fb9f3a\"],[0.8888888888888888,\"#fdca26\"],[1.0,\"#f0f921\"]]}],\"surface\":[{\"type\":\"surface\",\"colorbar\":{\"outlinewidth\":0,\"ticks\":\"\"},\"colorscale\":[[0.0,\"#0d0887\"],[0.1111111111111111,\"#46039f\"],[0.2222222222222222,\"#7201a8\"],[0.3333333333333333,\"#9c179e\"],[0.4444444444444444,\"#bd3786\"],[0.5555555555555556,\"#d8576b\"],[0.6666666666666666,\"#ed7953\"],[0.7777777777777778,\"#fb9f3a\"],[0.8888888888888888,\"#fdca26\"],[1.0,\"#f0f921\"]]}],\"mesh3d\":[{\"type\":\"mesh3d\",\"colorbar\":{\"outlinewidth\":0,\"ticks\":\"\"}}],\"scatter\":[{\"fillpattern\":{\"fillmode\":\"overlay\",\"size\":10,\"solidity\":0.2},\"type\":\"scatter\"}],\"parcoords\":[{\"type\":\"parcoords\",\"line\":{\"colorbar\":{\"outlinewidth\":0,\"ticks\":\"\"}}}],\"scatterpolargl\":[{\"type\":\"scatterpolargl\",\"marker\":{\"colorbar\":{\"outlinewidth\":0,\"ticks\":\"\"}}}],\"bar\":[{\"error_x\":{\"color\":\"#2a3f5f\"},\"error_y\":{\"color\":\"#2a3f5f\"},\"marker\":{\"line\":{\"color\":\"#E5ECF6\",\"width\":0.5},\"pattern\":{\"fillmode\":\"overlay\",\"size\":10,\"solidity\":0.2}},\"type\":\"bar\"}],\"scattergeo\":[{\"type\":\"scattergeo\",\"marker\":{\"colorbar\":{\"outlinewidth\":0,\"ticks\":\"\"}}}],\"scatterpolar\":[{\"type\":\"scatterpolar\",\"marker\":{\"colorbar\":{\"outlinewidth\":0,\"ticks\":\"\"}}}],\"histogram\":[{\"marker\":{\"pattern\":{\"fillmode\":\"overlay\",\"size\":10,\"solidity\":0.2}},\"type\":\"histogram\"}],\"scattergl\":[{\"type\":\"scattergl\",\"marker\":{\"colorbar\":{\"outlinewidth\":0,\"ticks\":\"\"}}}],\"scatter3d\":[{\"type\":\"scatter3d\",\"line\":{\"colorbar\":{\"outlinewidth\":0,\"ticks\":\"\"}},\"marker\":{\"colorbar\":{\"outlinewidth\":0,\"ticks\":\"\"}}}],\"scattermapbox\":[{\"type\":\"scattermapbox\",\"marker\":{\"colorbar\":{\"outlinewidth\":0,\"ticks\":\"\"}}}],\"scatterternary\":[{\"type\":\"scatterternary\",\"marker\":{\"colorbar\":{\"outlinewidth\":0,\"ticks\":\"\"}}}],\"scattercarpet\":[{\"type\":\"scattercarpet\",\"marker\":{\"colorbar\":{\"outlinewidth\":0,\"ticks\":\"\"}}}],\"carpet\":[{\"aaxis\":{\"endlinecolor\":\"#2a3f5f\",\"gridcolor\":\"white\",\"linecolor\":\"white\",\"minorgridcolor\":\"white\",\"startlinecolor\":\"#2a3f5f\"},\"baxis\":{\"endlinecolor\":\"#2a3f5f\",\"gridcolor\":\"white\",\"linecolor\":\"white\",\"minorgridcolor\":\"white\",\"startlinecolor\":\"#2a3f5f\"},\"type\":\"carpet\"}],\"table\":[{\"cells\":{\"fill\":{\"color\":\"#EBF0F8\"},\"line\":{\"color\":\"white\"}},\"header\":{\"fill\":{\"color\":\"#C8D4E3\"},\"line\":{\"color\":\"white\"}},\"type\":\"table\"}],\"barpolar\":[{\"marker\":{\"line\":{\"color\":\"#E5ECF6\",\"width\":0.5},\"pattern\":{\"fillmode\":\"overlay\",\"size\":10,\"solidity\":0.2}},\"type\":\"barpolar\"}],\"pie\":[{\"automargin\":true,\"type\":\"pie\"}]},\"layout\":{\"autotypenumbers\":\"strict\",\"colorway\":[\"#636efa\",\"#EF553B\",\"#00cc96\",\"#ab63fa\",\"#FFA15A\",\"#19d3f3\",\"#FF6692\",\"#B6E880\",\"#FF97FF\",\"#FECB52\"],\"font\":{\"color\":\"#2a3f5f\"},\"hovermode\":\"closest\",\"hoverlabel\":{\"align\":\"left\"},\"paper_bgcolor\":\"white\",\"plot_bgcolor\":\"#E5ECF6\",\"polar\":{\"bgcolor\":\"#E5ECF6\",\"angularaxis\":{\"gridcolor\":\"white\",\"linecolor\":\"white\",\"ticks\":\"\"},\"radialaxis\":{\"gridcolor\":\"white\",\"linecolor\":\"white\",\"ticks\":\"\"}},\"ternary\":{\"bgcolor\":\"#E5ECF6\",\"aaxis\":{\"gridcolor\":\"white\",\"linecolor\":\"white\",\"ticks\":\"\"},\"baxis\":{\"gridcolor\":\"white\",\"linecolor\":\"white\",\"ticks\":\"\"},\"caxis\":{\"gridcolor\":\"white\",\"linecolor\":\"white\",\"ticks\":\"\"}},\"coloraxis\":{\"colorbar\":{\"outlinewidth\":0,\"ticks\":\"\"}},\"colorscale\":{\"sequential\":[[0.0,\"#0d0887\"],[0.1111111111111111,\"#46039f\"],[0.2222222222222222,\"#7201a8\"],[0.3333333333333333,\"#9c179e\"],[0.4444444444444444,\"#bd3786\"],[0.5555555555555556,\"#d8576b\"],[0.6666666666666666,\"#ed7953\"],[0.7777777777777778,\"#fb9f3a\"],[0.8888888888888888,\"#fdca26\"],[1.0,\"#f0f921\"]],\"sequentialminus\":[[0.0,\"#0d0887\"],[0.1111111111111111,\"#46039f\"],[0.2222222222222222,\"#7201a8\"],[0.3333333333333333,\"#9c179e\"],[0.4444444444444444,\"#bd3786\"],[0.5555555555555556,\"#d8576b\"],[0.6666666666666666,\"#ed7953\"],[0.7777777777777778,\"#fb9f3a\"],[0.8888888888888888,\"#fdca26\"],[1.0,\"#f0f921\"]],\"diverging\":[[0,\"#8e0152\"],[0.1,\"#c51b7d\"],[0.2,\"#de77ae\"],[0.3,\"#f1b6da\"],[0.4,\"#fde0ef\"],[0.5,\"#f7f7f7\"],[0.6,\"#e6f5d0\"],[0.7,\"#b8e186\"],[0.8,\"#7fbc41\"],[0.9,\"#4d9221\"],[1,\"#276419\"]]},\"xaxis\":{\"gridcolor\":\"white\",\"linecolor\":\"white\",\"ticks\":\"\",\"title\":{\"standoff\":15},\"zerolinecolor\":\"white\",\"automargin\":true,\"zerolinewidth\":2},\"yaxis\":{\"gridcolor\":\"white\",\"linecolor\":\"white\",\"ticks\":\"\",\"title\":{\"standoff\":15},\"zerolinecolor\":\"white\",\"automargin\":true,\"zerolinewidth\":2},\"scene\":{\"xaxis\":{\"backgroundcolor\":\"#E5ECF6\",\"gridcolor\":\"white\",\"linecolor\":\"white\",\"showbackground\":true,\"ticks\":\"\",\"zerolinecolor\":\"white\",\"gridwidth\":2},\"yaxis\":{\"backgroundcolor\":\"#E5ECF6\",\"gridcolor\":\"white\",\"linecolor\":\"white\",\"showbackground\":true,\"ticks\":\"\",\"zerolinecolor\":\"white\",\"gridwidth\":2},\"zaxis\":{\"backgroundcolor\":\"#E5ECF6\",\"gridcolor\":\"white\",\"linecolor\":\"white\",\"showbackground\":true,\"ticks\":\"\",\"zerolinecolor\":\"white\",\"gridwidth\":2}},\"shapedefaults\":{\"line\":{\"color\":\"#2a3f5f\"}},\"annotationdefaults\":{\"arrowcolor\":\"#2a3f5f\",\"arrowhead\":0,\"arrowwidth\":1},\"geo\":{\"bgcolor\":\"white\",\"landcolor\":\"#E5ECF6\",\"subunitcolor\":\"white\",\"showland\":true,\"showlakes\":true,\"lakecolor\":\"white\"},\"title\":{\"x\":0.05},\"mapbox\":{\"style\":\"light\"}}},\"xaxis\":{\"anchor\":\"y\",\"domain\":[0.0,1.0],\"title\":{\"text\":\"Exterior1st\"}},\"yaxis\":{\"anchor\":\"x\",\"domain\":[0.0,1.0],\"title\":{\"text\":\"count\"}},\"legend\":{\"tracegroupgap\":0},\"title\":{\"text\":\"Histogram of Exterior1st\"},\"barmode\":\"relative\"},                        {\"responsive\": true}                    ).then(function(){\n",
       "                            \n",
       "var gd = document.getElementById('8043cfa0-060a-40ac-81e5-4e813b2c844c');\n",
       "var x = new MutationObserver(function (mutations, observer) {{\n",
       "        var display = window.getComputedStyle(gd).display;\n",
       "        if (!display || display === 'none') {{\n",
       "            console.log([gd, 'removed!']);\n",
       "            Plotly.purge(gd);\n",
       "            observer.disconnect();\n",
       "        }}\n",
       "}});\n",
       "\n",
       "// Listen for the removal of the full notebook cells\n",
       "var notebookContainer = gd.closest('#notebook-container');\n",
       "if (notebookContainer) {{\n",
       "    x.observe(notebookContainer, {childList: true});\n",
       "}}\n",
       "\n",
       "// Listen for the clearing of the current output cell\n",
       "var outputEl = gd.closest('.output');\n",
       "if (outputEl) {{\n",
       "    x.observe(outputEl, {childList: true});\n",
       "}}\n",
       "\n",
       "                        })                };                });            </script>        </div>"
      ]
     },
     "metadata": {},
     "output_type": "display_data"
    },
    {
     "data": {
      "text/html": [
       "<div>                            <div id=\"740c98e8-cb5d-40e2-a0c6-c0b2b4a9d53a\" class=\"plotly-graph-div\" style=\"height:525px; width:100%;\"></div>            <script type=\"text/javascript\">                require([\"plotly\"], function(Plotly) {                    window.PLOTLYENV=window.PLOTLYENV || {};                                    if (document.getElementById(\"740c98e8-cb5d-40e2-a0c6-c0b2b4a9d53a\")) {                    Plotly.newPlot(                        \"740c98e8-cb5d-40e2-a0c6-c0b2b4a9d53a\",                        [{\"alignmentgroup\":\"True\",\"bingroup\":\"x\",\"hovertemplate\":\"Exterior2nd=%{x}\\u003cbr\\u003ecount=%{y}\\u003cextra\\u003e\\u003c\\u002fextra\\u003e\",\"legendgroup\":\"\",\"marker\":{\"color\":\"#636efa\",\"pattern\":{\"shape\":\"\"}},\"name\":\"\",\"offsetgroup\":\"\",\"orientation\":\"v\",\"showlegend\":false,\"texttemplate\":\"%{value}\",\"x\":[13.0,8.0,13.0,15.0,13.0,13.0,13.0,6.0,15.0,8.0,6.0,15.0,10.0,13.0,8.0,14.0,14.0,8.0,13.0,10.0,13.0,14.0,13.0,5.0,10.0,13.0,14.0,13.0,8.0,8.0,3.0,6.0,13.0,3.0,8.0,13.0,13.0,14.0,13.0,10.0,14.0,13.0,6.0,13.0,14.0,8.0,13.0,13.0,8.0,6.0,13.0,14.0,14.0,15.0,8.0,10.0,8.0,13.0,13.0,6.0,13.0,8.0,13.0,12.0,13.0,13.0,10.0,13.0,8.0,0.0,10.0,10.0,13.0,14.0,13.0,5.0,13.0,14.0,6.0,14.0,13.0,13.0,13.0,8.0,6.0,6.0,13.0,13.0,10.0,13.0,14.0,6.0,14.0,8.0,13.0,13.0,13.0,6.0,14.0,10.0,10.0,6.0,6.0,13.0,12.0,13.0,13.0,13.0,5.0,10.0,14.0,13.0,13.0,14.0,14.0,8.0,14.0,13.0,10.0,13.0,10.0,0.0,8.0,10.0,6.0,14.0,10.0,14.0,13.0,10.0,8.0,13.0,8.0,13.0,10.0,10.0,8.0,13.0,13.0,13.0,6.0,13.0,14.0,13.0,6.0,13.0,14.0,13.0,13.0,8.0,6.0,13.0,6.0,10.0,14.0,14.0,14.0,13.0,13.0,13.0,10.0,13.0,13.0,8.0,8.0,14.0,14.0,13.0,13.0,10.0,8.0,10.0,6.0,15.0,10.0,15.0,10.0,8.0,13.0,14.0,8.0,12.0,14.0,13.0,10.0,14.0,6.0,6.0,10.0,5.0,3.0,6.0,13.0,13.0,6.0,2.0,5.0,12.0,14.0,13.0,13.0,10.0,8.0,13.0,0.0,6.0,6.0,14.0,10.0,6.0,12.0,13.0,13.0,13.0,6.0,6.0,13.0,8.0,13.0,13.0,13.0,13.0,13.0,6.0,13.0,6.0,13.0,6.0,6.0,13.0,8.0,13.0,6.0,6.0,13.0,6.0,13.0,6.0,13.0,13.0,13.0,13.0,14.0,10.0,13.0,14.0,0.0,3.0,13.0,6.0,10.0,13.0,13.0,6.0,8.0,13.0,13.0,13.0,13.0,3.0,14.0,5.0,10.0,14.0,14.0,8.0,13.0,14.0,13.0,6.0,13.0,10.0,13.0,14.0,7.0,14.0,13.0,13.0,5.0,10.0,10.0,13.0,13.0,13.0,7.0,8.0,14.0,6.0,8.0,14.0,13.0,13.0,14.0,10.0,6.0,6.0,14.0,13.0,1.0,6.0,8.0,13.0,13.0,13.0,5.0,5.0,10.0,8.0,13.0,13.0,6.0,13.0,8.0,3.0,14.0,13.0,5.0,13.0,6.0,10.0,13.0,13.0,10.0,13.0,14.0,8.0,3.0,14.0,15.0,15.0,6.0,14.0,13.0,13.0,13.0,10.0,13.0,13.0,14.0,14.0,13.0,0.0,12.0,8.0,5.0,8.0,8.0,14.0,15.0,5.0,8.0,14.0,13.0,13.0,8.0,13.0,6.0,5.0,7.0,13.0,13.0,8.0,6.0,6.0,6.0,13.0,10.0,10.0,6.0,14.0,13.0,10.0,10.0,8.0,13.0,14.0,13.0,5.0,13.0,13.0,14.0,13.0,13.0,14.0,6.0,13.0,13.0,8.0,13.0,13.0,8.0,13.0,8.0,15.0,8.0,14.0,8.0,13.0,8.0,5.0,3.0,13.0,14.0,13.0,8.0,10.0,8.0,10.0,13.0,13.0,2.0,14.0,8.0,15.0,13.0,13.0,6.0,12.0,8.0,13.0,13.0,5.0,6.0,13.0,14.0,6.0,14.0,8.0,13.0,6.0,6.0,8.0,6.0,13.0,5.0,13.0,12.0,14.0,12.0,14.0,13.0,13.0,8.0,15.0,13.0,14.0,10.0,13.0,8.0,8.0,14.0,10.0,13.0,13.0,10.0,6.0,0.0,10.0,15.0,8.0,13.0,14.0,8.0,12.0,6.0,13.0,10.0,8.0,13.0,6.0,6.0,10.0,13.0,13.0,5.0,6.0,13.0,13.0,13.0,12.0,13.0,13.0,12.0,13.0,10.0,8.0,8.0,10.0,14.0,5.0,5.0,14.0,13.0,14.0,8.0,14.0,3.0,14.0,6.0,8.0,6.0,13.0,8.0,14.0,2.0,14.0,13.0,13.0,8.0,8.0,14.0,13.0,13.0,13.0,14.0,5.0,6.0,13.0,13.0,8.0,8.0,13.0,5.0,5.0,13.0,13.0,14.0,13.0,14.0,11.0,6.0,14.0,13.0,13.0,13.0,8.0,13.0,8.0,10.0,13.0,13.0,13.0,13.0,8.0,13.0,6.0,14.0,13.0,8.0,13.0,10.0,3.0,13.0,13.0,13.0,8.0,14.0,8.0,6.0,13.0,14.0,6.0,15.0,14.0,6.0,14.0,13.0,13.0,14.0,8.0,6.0,15.0,13.0,13.0,1.0,8.0,14.0,13.0,13.0,8.0,14.0,13.0,6.0,14.0,0.0,13.0,15.0,6.0,14.0,13.0,13.0,5.0,6.0,13.0,6.0,9.0,13.0,13.0,10.0,8.0,13.0,14.0,6.0,8.0,13.0,6.0,13.0,8.0,14.0,13.0,13.0,6.0,13.0,13.0,5.0,8.0,13.0,8.0,5.0,13.0,12.0,6.0,10.0,8.0,13.0,14.0,14.0,0.0,10.0,14.0,13.0,13.0,10.0,14.0,10.0,13.0,0.0,14.0,14.0,13.0,8.0,13.0,14.0,6.0,5.0,10.0,8.0,14.0,8.0,5.0,5.0,8.0,13.0,8.0,8.0,7.0,6.0,15.0,13.0,8.0,10.0,13.0,14.0,10.0,13.0,13.0,10.0,6.0,14.0,8.0,13.0,14.0,10.0,5.0,6.0,2.0,12.0,13.0,13.0,14.0,10.0,12.0,14.0,13.0,13.0,6.0,13.0,8.0,8.0,13.0,13.0,6.0,8.0,8.0,14.0,6.0,15.0,14.0,8.0,8.0,13.0,6.0,13.0,14.0,13.0,15.0,10.0,8.0,13.0,6.0,13.0,8.0,6.0,6.0,10.0,6.0,13.0,6.0,7.0,10.0,6.0,13.0,8.0,8.0,5.0,10.0,10.0,13.0,13.0,8.0,5.0,13.0,13.0,6.0,10.0,14.0,11.0,13.0,10.0,13.0,15.0,6.0,13.0,6.0,6.0,13.0,13.0,12.0,13.0,15.0,14.0,13.0,13.0,13.0,10.0,8.0,13.0,6.0,8.0,13.0,14.0,14.0,13.0,13.0,3.0,13.0,6.0,13.0,13.0,15.0,14.0,14.0,10.0,14.0,13.0,13.0,13.0,10.0,10.0,7.0,6.0,13.0,13.0,10.0,15.0,14.0,8.0,13.0,8.0,6.0,13.0,6.0,8.0,5.0,8.0,6.0,10.0,13.0,13.0,14.0,13.0,8.0,15.0,13.0,14.0,13.0,13.0,14.0,13.0,0.0,6.0,13.0,14.0,8.0,12.0,13.0,3.0,5.0,6.0,13.0,13.0,8.0,13.0,13.0,13.0,5.0,8.0,13.0,10.0,8.0,6.0,8.0,13.0,10.0,13.0,6.0,13.0,6.0,13.0,8.0,14.0,8.0,6.0,3.0,14.0,6.0,6.0,10.0,14.0,10.0,13.0,13.0,8.0,6.0,10.0,6.0,6.0,6.0,6.0,6.0,14.0,6.0,10.0,10.0,13.0,8.0,13.0,13.0,10.0,8.0,8.0,13.0,15.0,6.0,14.0,5.0,10.0,13.0,6.0,13.0,13.0,6.0,13.0,14.0,6.0,8.0,8.0,8.0,14.0,14.0,8.0,6.0,6.0,10.0,10.0,6.0,14.0,10.0,13.0,10.0,6.0,8.0,13.0,13.0,14.0,6.0,13.0,3.0,6.0,13.0,8.0,10.0,8.0,8.0,13.0,5.0,0.0,13.0,6.0,8.0,6.0,8.0,13.0,10.0,10.0,13.0,13.0,8.0,13.0,6.0,13.0,13.0,7.0,13.0,14.0,8.0,13.0,13.0,13.0,8.0,10.0,13.0,8.0,10.0,6.0,13.0,6.0,13.0,13.0,10.0,13.0,13.0,6.0,6.0,10.0,8.0,8.0,8.0,13.0,8.0,10.0,6.0,2.0,13.0,13.0,13.0,8.0,14.0,13.0,6.0,0.0,15.0,10.0,5.0,6.0,8.0,14.0,13.0,8.0,13.0,5.0,13.0,13.0,5.0,10.0,8.0,13.0,13.0,10.0,13.0,13.0,14.0,14.0,13.0,5.0,8.0,14.0,6.0,14.0,13.0,2.0,14.0,13.0,13.0,13.0,6.0,10.0,5.0,13.0,14.0,14.0,1.0,14.0,12.0,8.0,13.0,13.0,6.0,6.0,13.0,13.0,13.0,14.0,13.0,6.0,13.0,6.0,13.0,15.0,6.0,13.0,10.0,8.0,13.0,8.0,14.0,13.0,13.0,5.0,5.0,14.0,6.0,13.0,6.0,3.0,14.0,5.0,13.0,6.0,8.0,13.0,13.0,13.0,6.0,13.0,10.0,13.0,6.0,13.0,8.0,5.0,8.0,14.0,8.0,10.0,14.0,13.0,6.0,5.0,8.0,8.0,8.0,8.0,10.0,13.0,14.0,14.0,10.0,13.0,13.0,13.0,6.0,13.0,6.0,6.0,6.0,5.0,13.0,13.0,8.0,3.0,8.0,8.0,8.0,8.0,13.0,14.0,6.0,8.0,10.0,14.0,8.0,14.0,3.0,6.0,6.0,6.0,13.0,13.0,8.0,6.0,10.0,15.0,14.0,8.0,13.0,13.0,13.0,8.0,14.0,3.0,13.0,0.0,13.0,6.0,10.0,13.0,13.0,13.0,8.0,10.0,6.0,14.0,13.0,13.0,14.0,13.0,13.0,7.0,12.0,6.0,10.0,13.0,10.0,8.0,8.0,15.0,8.0,14.0,13.0,3.0,10.0,11.0,14.0,13.0,10.0,3.0,13.0,13.0,6.0,2.0,6.0,13.0,10.0,10.0,13.0,13.0,13.0,12.0,6.0,10.0,8.0,8.0,8.0,14.0,6.0,10.0,8.0,14.0,14.0,8.0,5.0,7.0,12.0,8.0,0.0,6.0,7.0,13.0,13.0,8.0,8.0,13.0,13.0,6.0,13.0,13.0,8.0,13.0,6.0,8.0,13.0,14.0,13.0,6.0,6.0,6.0,13.0,8.0,13.0,14.0,14.0,8.0,13.0,8.0,13.0,13.0,5.0,0.0,5.0,14.0,6.0,14.0,14.0,13.0,13.0,13.0,13.0,8.0,6.0,10.0,14.0,6.0,10.0,8.0,14.0,15.0,13.0,13.0,13.0,13.0,13.0,10.0,13.0,12.0,13.0,13.0,6.0,0.0,8.0,3.0,15.0,6.0,14.0,13.0,14.0,6.0,14.0,13.0,6.0,13.0,8.0,14.0,14.0,8.0,8.0,14.0,5.0,12.0,8.0,10.0,3.0,10.0,10.0,15.0,0.0,10.0,6.0,13.0,8.0,13.0,6.0,6.0,15.0,15.0,8.0,6.0,14.0,5.0,13.0,6.0,5.0,14.0,6.0,10.0,6.0,8.0,13.0,12.0,3.0,13.0,14.0,13.0,13.0,13.0,13.0,13.0,13.0,8.0,6.0,6.0,13.0,14.0,13.0,14.0,6.0,13.0,13.0,13.0,14.0,3.0,13.0,6.0,13.0,13.0,0.0,8.0,13.0,14.0,13.0,13.0,8.0,8.0,14.0,6.0,10.0,10.0,14.0,13.0,8.0,8.0,13.0,13.0,11.0,13.0,8.0,6.0,13.0,13.0,8.0,8.0,6.0,8.0,13.0,13.0,8.0,6.0,13.0,8.0,13.0,14.0,13.0,13.0,13.0,8.0,13.0,13.0,5.0,13.0,13.0,4.0,0.0,13.0,13.0,5.0,13.0,14.0,14.0,6.0,13.0,12.0,10.0,14.0,14.0,15.0,13.0,10.0,12.0,13.0,14.0,13.0,10.0,6.0,14.0,13.0,13.0,14.0,8.0,14.0,15.0,15.0,13.0,13.0,13.0,14.0,5.0,15.0,10.0,13.0,10.0,13.0,13.0,11.0,13.0,14.0,13.0,0.0,13.0,6.0,10.0,6.0,10.0,13.0,10.0,6.0,6.0,13.0,8.0,8.0,8.0,13.0,10.0,14.0,13.0,3.0,14.0,6.0,13.0,8.0,6.0,8.0,13.0,13.0,14.0,13.0,13.0,6.0,13.0,6.0,5.0,13.0,5.0,13.0,13.0,13.0,13.0,10.0,5.0,8.0,6.0],\"xaxis\":\"x\",\"yaxis\":\"y\",\"type\":\"histogram\"}],                        {\"template\":{\"data\":{\"histogram2dcontour\":[{\"type\":\"histogram2dcontour\",\"colorbar\":{\"outlinewidth\":0,\"ticks\":\"\"},\"colorscale\":[[0.0,\"#0d0887\"],[0.1111111111111111,\"#46039f\"],[0.2222222222222222,\"#7201a8\"],[0.3333333333333333,\"#9c179e\"],[0.4444444444444444,\"#bd3786\"],[0.5555555555555556,\"#d8576b\"],[0.6666666666666666,\"#ed7953\"],[0.7777777777777778,\"#fb9f3a\"],[0.8888888888888888,\"#fdca26\"],[1.0,\"#f0f921\"]]}],\"choropleth\":[{\"type\":\"choropleth\",\"colorbar\":{\"outlinewidth\":0,\"ticks\":\"\"}}],\"histogram2d\":[{\"type\":\"histogram2d\",\"colorbar\":{\"outlinewidth\":0,\"ticks\":\"\"},\"colorscale\":[[0.0,\"#0d0887\"],[0.1111111111111111,\"#46039f\"],[0.2222222222222222,\"#7201a8\"],[0.3333333333333333,\"#9c179e\"],[0.4444444444444444,\"#bd3786\"],[0.5555555555555556,\"#d8576b\"],[0.6666666666666666,\"#ed7953\"],[0.7777777777777778,\"#fb9f3a\"],[0.8888888888888888,\"#fdca26\"],[1.0,\"#f0f921\"]]}],\"heatmap\":[{\"type\":\"heatmap\",\"colorbar\":{\"outlinewidth\":0,\"ticks\":\"\"},\"colorscale\":[[0.0,\"#0d0887\"],[0.1111111111111111,\"#46039f\"],[0.2222222222222222,\"#7201a8\"],[0.3333333333333333,\"#9c179e\"],[0.4444444444444444,\"#bd3786\"],[0.5555555555555556,\"#d8576b\"],[0.6666666666666666,\"#ed7953\"],[0.7777777777777778,\"#fb9f3a\"],[0.8888888888888888,\"#fdca26\"],[1.0,\"#f0f921\"]]}],\"heatmapgl\":[{\"type\":\"heatmapgl\",\"colorbar\":{\"outlinewidth\":0,\"ticks\":\"\"},\"colorscale\":[[0.0,\"#0d0887\"],[0.1111111111111111,\"#46039f\"],[0.2222222222222222,\"#7201a8\"],[0.3333333333333333,\"#9c179e\"],[0.4444444444444444,\"#bd3786\"],[0.5555555555555556,\"#d8576b\"],[0.6666666666666666,\"#ed7953\"],[0.7777777777777778,\"#fb9f3a\"],[0.8888888888888888,\"#fdca26\"],[1.0,\"#f0f921\"]]}],\"contourcarpet\":[{\"type\":\"contourcarpet\",\"colorbar\":{\"outlinewidth\":0,\"ticks\":\"\"}}],\"contour\":[{\"type\":\"contour\",\"colorbar\":{\"outlinewidth\":0,\"ticks\":\"\"},\"colorscale\":[[0.0,\"#0d0887\"],[0.1111111111111111,\"#46039f\"],[0.2222222222222222,\"#7201a8\"],[0.3333333333333333,\"#9c179e\"],[0.4444444444444444,\"#bd3786\"],[0.5555555555555556,\"#d8576b\"],[0.6666666666666666,\"#ed7953\"],[0.7777777777777778,\"#fb9f3a\"],[0.8888888888888888,\"#fdca26\"],[1.0,\"#f0f921\"]]}],\"surface\":[{\"type\":\"surface\",\"colorbar\":{\"outlinewidth\":0,\"ticks\":\"\"},\"colorscale\":[[0.0,\"#0d0887\"],[0.1111111111111111,\"#46039f\"],[0.2222222222222222,\"#7201a8\"],[0.3333333333333333,\"#9c179e\"],[0.4444444444444444,\"#bd3786\"],[0.5555555555555556,\"#d8576b\"],[0.6666666666666666,\"#ed7953\"],[0.7777777777777778,\"#fb9f3a\"],[0.8888888888888888,\"#fdca26\"],[1.0,\"#f0f921\"]]}],\"mesh3d\":[{\"type\":\"mesh3d\",\"colorbar\":{\"outlinewidth\":0,\"ticks\":\"\"}}],\"scatter\":[{\"fillpattern\":{\"fillmode\":\"overlay\",\"size\":10,\"solidity\":0.2},\"type\":\"scatter\"}],\"parcoords\":[{\"type\":\"parcoords\",\"line\":{\"colorbar\":{\"outlinewidth\":0,\"ticks\":\"\"}}}],\"scatterpolargl\":[{\"type\":\"scatterpolargl\",\"marker\":{\"colorbar\":{\"outlinewidth\":0,\"ticks\":\"\"}}}],\"bar\":[{\"error_x\":{\"color\":\"#2a3f5f\"},\"error_y\":{\"color\":\"#2a3f5f\"},\"marker\":{\"line\":{\"color\":\"#E5ECF6\",\"width\":0.5},\"pattern\":{\"fillmode\":\"overlay\",\"size\":10,\"solidity\":0.2}},\"type\":\"bar\"}],\"scattergeo\":[{\"type\":\"scattergeo\",\"marker\":{\"colorbar\":{\"outlinewidth\":0,\"ticks\":\"\"}}}],\"scatterpolar\":[{\"type\":\"scatterpolar\",\"marker\":{\"colorbar\":{\"outlinewidth\":0,\"ticks\":\"\"}}}],\"histogram\":[{\"marker\":{\"pattern\":{\"fillmode\":\"overlay\",\"size\":10,\"solidity\":0.2}},\"type\":\"histogram\"}],\"scattergl\":[{\"type\":\"scattergl\",\"marker\":{\"colorbar\":{\"outlinewidth\":0,\"ticks\":\"\"}}}],\"scatter3d\":[{\"type\":\"scatter3d\",\"line\":{\"colorbar\":{\"outlinewidth\":0,\"ticks\":\"\"}},\"marker\":{\"colorbar\":{\"outlinewidth\":0,\"ticks\":\"\"}}}],\"scattermapbox\":[{\"type\":\"scattermapbox\",\"marker\":{\"colorbar\":{\"outlinewidth\":0,\"ticks\":\"\"}}}],\"scatterternary\":[{\"type\":\"scatterternary\",\"marker\":{\"colorbar\":{\"outlinewidth\":0,\"ticks\":\"\"}}}],\"scattercarpet\":[{\"type\":\"scattercarpet\",\"marker\":{\"colorbar\":{\"outlinewidth\":0,\"ticks\":\"\"}}}],\"carpet\":[{\"aaxis\":{\"endlinecolor\":\"#2a3f5f\",\"gridcolor\":\"white\",\"linecolor\":\"white\",\"minorgridcolor\":\"white\",\"startlinecolor\":\"#2a3f5f\"},\"baxis\":{\"endlinecolor\":\"#2a3f5f\",\"gridcolor\":\"white\",\"linecolor\":\"white\",\"minorgridcolor\":\"white\",\"startlinecolor\":\"#2a3f5f\"},\"type\":\"carpet\"}],\"table\":[{\"cells\":{\"fill\":{\"color\":\"#EBF0F8\"},\"line\":{\"color\":\"white\"}},\"header\":{\"fill\":{\"color\":\"#C8D4E3\"},\"line\":{\"color\":\"white\"}},\"type\":\"table\"}],\"barpolar\":[{\"marker\":{\"line\":{\"color\":\"#E5ECF6\",\"width\":0.5},\"pattern\":{\"fillmode\":\"overlay\",\"size\":10,\"solidity\":0.2}},\"type\":\"barpolar\"}],\"pie\":[{\"automargin\":true,\"type\":\"pie\"}]},\"layout\":{\"autotypenumbers\":\"strict\",\"colorway\":[\"#636efa\",\"#EF553B\",\"#00cc96\",\"#ab63fa\",\"#FFA15A\",\"#19d3f3\",\"#FF6692\",\"#B6E880\",\"#FF97FF\",\"#FECB52\"],\"font\":{\"color\":\"#2a3f5f\"},\"hovermode\":\"closest\",\"hoverlabel\":{\"align\":\"left\"},\"paper_bgcolor\":\"white\",\"plot_bgcolor\":\"#E5ECF6\",\"polar\":{\"bgcolor\":\"#E5ECF6\",\"angularaxis\":{\"gridcolor\":\"white\",\"linecolor\":\"white\",\"ticks\":\"\"},\"radialaxis\":{\"gridcolor\":\"white\",\"linecolor\":\"white\",\"ticks\":\"\"}},\"ternary\":{\"bgcolor\":\"#E5ECF6\",\"aaxis\":{\"gridcolor\":\"white\",\"linecolor\":\"white\",\"ticks\":\"\"},\"baxis\":{\"gridcolor\":\"white\",\"linecolor\":\"white\",\"ticks\":\"\"},\"caxis\":{\"gridcolor\":\"white\",\"linecolor\":\"white\",\"ticks\":\"\"}},\"coloraxis\":{\"colorbar\":{\"outlinewidth\":0,\"ticks\":\"\"}},\"colorscale\":{\"sequential\":[[0.0,\"#0d0887\"],[0.1111111111111111,\"#46039f\"],[0.2222222222222222,\"#7201a8\"],[0.3333333333333333,\"#9c179e\"],[0.4444444444444444,\"#bd3786\"],[0.5555555555555556,\"#d8576b\"],[0.6666666666666666,\"#ed7953\"],[0.7777777777777778,\"#fb9f3a\"],[0.8888888888888888,\"#fdca26\"],[1.0,\"#f0f921\"]],\"sequentialminus\":[[0.0,\"#0d0887\"],[0.1111111111111111,\"#46039f\"],[0.2222222222222222,\"#7201a8\"],[0.3333333333333333,\"#9c179e\"],[0.4444444444444444,\"#bd3786\"],[0.5555555555555556,\"#d8576b\"],[0.6666666666666666,\"#ed7953\"],[0.7777777777777778,\"#fb9f3a\"],[0.8888888888888888,\"#fdca26\"],[1.0,\"#f0f921\"]],\"diverging\":[[0,\"#8e0152\"],[0.1,\"#c51b7d\"],[0.2,\"#de77ae\"],[0.3,\"#f1b6da\"],[0.4,\"#fde0ef\"],[0.5,\"#f7f7f7\"],[0.6,\"#e6f5d0\"],[0.7,\"#b8e186\"],[0.8,\"#7fbc41\"],[0.9,\"#4d9221\"],[1,\"#276419\"]]},\"xaxis\":{\"gridcolor\":\"white\",\"linecolor\":\"white\",\"ticks\":\"\",\"title\":{\"standoff\":15},\"zerolinecolor\":\"white\",\"automargin\":true,\"zerolinewidth\":2},\"yaxis\":{\"gridcolor\":\"white\",\"linecolor\":\"white\",\"ticks\":\"\",\"title\":{\"standoff\":15},\"zerolinecolor\":\"white\",\"automargin\":true,\"zerolinewidth\":2},\"scene\":{\"xaxis\":{\"backgroundcolor\":\"#E5ECF6\",\"gridcolor\":\"white\",\"linecolor\":\"white\",\"showbackground\":true,\"ticks\":\"\",\"zerolinecolor\":\"white\",\"gridwidth\":2},\"yaxis\":{\"backgroundcolor\":\"#E5ECF6\",\"gridcolor\":\"white\",\"linecolor\":\"white\",\"showbackground\":true,\"ticks\":\"\",\"zerolinecolor\":\"white\",\"gridwidth\":2},\"zaxis\":{\"backgroundcolor\":\"#E5ECF6\",\"gridcolor\":\"white\",\"linecolor\":\"white\",\"showbackground\":true,\"ticks\":\"\",\"zerolinecolor\":\"white\",\"gridwidth\":2}},\"shapedefaults\":{\"line\":{\"color\":\"#2a3f5f\"}},\"annotationdefaults\":{\"arrowcolor\":\"#2a3f5f\",\"arrowhead\":0,\"arrowwidth\":1},\"geo\":{\"bgcolor\":\"white\",\"landcolor\":\"#E5ECF6\",\"subunitcolor\":\"white\",\"showland\":true,\"showlakes\":true,\"lakecolor\":\"white\"},\"title\":{\"x\":0.05},\"mapbox\":{\"style\":\"light\"}}},\"xaxis\":{\"anchor\":\"y\",\"domain\":[0.0,1.0],\"title\":{\"text\":\"Exterior2nd\"}},\"yaxis\":{\"anchor\":\"x\",\"domain\":[0.0,1.0],\"title\":{\"text\":\"count\"}},\"legend\":{\"tracegroupgap\":0},\"title\":{\"text\":\"Histogram of Exterior2nd\"},\"barmode\":\"relative\"},                        {\"responsive\": true}                    ).then(function(){\n",
       "                            \n",
       "var gd = document.getElementById('740c98e8-cb5d-40e2-a0c6-c0b2b4a9d53a');\n",
       "var x = new MutationObserver(function (mutations, observer) {{\n",
       "        var display = window.getComputedStyle(gd).display;\n",
       "        if (!display || display === 'none') {{\n",
       "            console.log([gd, 'removed!']);\n",
       "            Plotly.purge(gd);\n",
       "            observer.disconnect();\n",
       "        }}\n",
       "}});\n",
       "\n",
       "// Listen for the removal of the full notebook cells\n",
       "var notebookContainer = gd.closest('#notebook-container');\n",
       "if (notebookContainer) {{\n",
       "    x.observe(notebookContainer, {childList: true});\n",
       "}}\n",
       "\n",
       "// Listen for the clearing of the current output cell\n",
       "var outputEl = gd.closest('.output');\n",
       "if (outputEl) {{\n",
       "    x.observe(outputEl, {childList: true});\n",
       "}}\n",
       "\n",
       "                        })                };                });            </script>        </div>"
      ]
     },
     "metadata": {},
     "output_type": "display_data"
    }
   ],
   "source": [
    "fig = px.histogram(df, x='Exterior1st', title=\"Histogram of Exterior1st\", text_auto=True)\n",
    "fig.show()\n",
    "\n",
    "fig = px.histogram(df, x='Exterior2nd', title=\"Histogram of Exterior2nd\", text_auto=True)\n",
    "fig.show()"
   ]
  },
  {
   "cell_type": "markdown",
   "id": "a2c3d4d2",
   "metadata": {
    "papermill": {
     "duration": 0.02584,
     "end_time": "2023-12-05T00:01:17.479918",
     "exception": false,
     "start_time": "2023-12-05T00:01:17.454078",
     "status": "completed"
    },
    "tags": []
   },
   "source": [
    "Both variables showcase a notably **strong linear relationship**, boasting a **coefficient of 0.85**. However, this **correlation doesn't necessarily** indicate a **direct association** between **these points**. Rather, it suggests a **correlation stemming** from their **measurement of seemingly related attributes or aspects**. Admittedly, the **specific attributes** of **'exterior first' and 'exterior second'** that they measure remain ambiguous to me. Yet, their **internal correlation implies** an **intrinsic connection** or **similarity** between what these **attributes** represent, possibly measuring aspects that share **an inherent correlation.**"
   ]
  },
  {
   "cell_type": "code",
   "execution_count": 19,
   "id": "d3b9310b",
   "metadata": {
    "execution": {
     "iopub.execute_input": "2023-12-05T00:01:17.538743Z",
     "iopub.status.busy": "2023-12-05T00:01:17.537893Z",
     "iopub.status.idle": "2023-12-05T00:01:17.685919Z",
     "shell.execute_reply": "2023-12-05T00:01:17.684837Z"
    },
    "papermill": {
     "duration": 0.182448,
     "end_time": "2023-12-05T00:01:17.688331",
     "exception": false,
     "start_time": "2023-12-05T00:01:17.505883",
     "status": "completed"
    },
    "tags": []
   },
   "outputs": [
    {
     "data": {
      "text/html": [
       "<div>                            <div id=\"ee85190b-5552-4f50-ab94-7066af38d0fe\" class=\"plotly-graph-div\" style=\"height:525px; width:100%;\"></div>            <script type=\"text/javascript\">                require([\"plotly\"], function(Plotly) {                    window.PLOTLYENV=window.PLOTLYENV || {};                                    if (document.getElementById(\"ee85190b-5552-4f50-ab94-7066af38d0fe\")) {                    Plotly.newPlot(                        \"ee85190b-5552-4f50-ab94-7066af38d0fe\",                        [{\"alignmentgroup\":\"True\",\"bingroup\":\"x\",\"histfunc\":\"sum\",\"hovertemplate\":\"TotalBsmtSF=%{x}\\u003cbr\\u003esum of 1stFlrSF=%{y}\\u003cextra\\u003e\\u003c\\u002fextra\\u003e\",\"legendgroup\":\"\",\"marker\":{\"color\":\"#636efa\",\"pattern\":{\"shape\":\"\"}},\"name\":\"\",\"offsetgroup\":\"\",\"orientation\":\"v\",\"showlegend\":false,\"texttemplate\":\"%{value}\",\"x\":[856,1262,920,756,1145,796,1686,1107,952,991,1040,1175,912,1494,1253,832,1004,0,1114,1029,1158,637,1777,1040,1060,1566,900,1704,1484,520,649,1228,1234,1398,1561,1117,1097,1297,1057,0,1088,1350,840,938,1150,1752,1434,1656,736,955,794,816,816,1842,384,1425,970,860,1410,780,1158,530,1370,576,1057,1143,1947,1453,747,1304,2223,845,832,1086,840,462,952,672,1768,440,896,1237,1563,1065,384,1288,684,612,1013,990,0,1235,876,1214,824,680,1588,960,458,950,1610,741,0,1226,1040,1053,641,789,793,1844,994,384,1264,1809,1028,729,1092,1125,1673,728,938,732,1080,1199,1362,520,1078,672,660,1008,924,992,1063,1267,1461,1304,1214,1907,1004,928,864,1734,910,1490,1728,970,715,884,1080,896,969,1710,825,1602,1200,572,0,774,991,1392,1232,1572,1541,882,1149,644,1617,1582,840,1686,720,1080,1064,1362,1606,1202,1151,1052,2216,968,756,793,0,1362,504,1107,1188,660,1086,1593,853,725,1431,970,864,855,1726,1360,755,1713,1121,1196,617,848,720,1424,1140,1100,1157,1092,864,1212,900,990,689,1070,1436,686,798,1248,1498,1010,713,864,2392,630,1203,483,912,1373,1194,1462,483,894,860,483,1414,996,1694,735,1566,686,540,626,948,1845,1020,1367,840,1444,728,1573,798,1302,1314,975,864,1604,963,0,1362,1482,506,926,680,1422,802,720,740,1143,1095,1385,1152,1240,816,952,1560,864,2121,1160,807,1262,1314,1468,1575,625,912,858,882,698,1079,780,768,795,1416,1003,910,975,702,1092,1165,1028,1541,894,1470,2000,700,319,861,1896,697,972,793,2136,728,716,845,1088,1347,1372,1249,1136,1502,1162,710,720,1719,1383,844,596,1728,1056,3206,1358,943,1499,1922,1536,1208,1215,967,721,0,1684,536,972,958,1478,764,1848,1869,1453,616,624,940,1200,1158,1142,1062,1086,888,883,0,483,796,672,1394,1099,1268,1063,953,0,744,608,847,683,870,1580,1856,982,1026,1293,939,784,1580,1256,658,1041,1468,1682,861,804,0,788,735,1144,894,864,961,1092,1260,1310,672,1141,806,1281,1064,840,1063,1034,1276,1056,1470,1008,1080,1340,672,1370,756,1056,1344,1602,988,1470,1196,651,1518,907,1208,1392,483,901,765,926,630,799,648,884,440,684,3094,1440,1078,1258,915,1436,1517,930,780,649,813,1533,872,768,1728,1242,624,1364,588,709,832,560,864,715,1040,1375,1277,728,1626,832,1488,808,547,1976,1494,970,1478,2153,1705,907,1833,1792,910,1216,999,1113,1073,1484,954,630,264,806,728,1269,190,720,3200,1026,864,912,672,866,1214,1501,855,960,777,1218,689,1041,1008,1368,864,1084,768,2006,689,1264,794,1276,0,1244,1004,3138,1379,1257,928,1452,528,2035,1461,611,0,0,707,1117,880,864,1051,1581,1838,969,1650,723,654,1204,1065,768,825,912,1069,928,1709,0,998,993,1092,637,729,1374,1392,1389,996,1163,1095,806,1122,1517,1496,943,1728,864,846,384,372,832,861,1164,689,1050,1144,2042,816,1237,884,1868,816,840,1437,742,770,1722,816,848,924,1814,684,1258,1430,716,1058,780,908,600,1494,768,1040,896,965,1029,1440,1032,1299,1120,630,936,783,832,1822,1482,864,1522,980,756,732,1116,978,1156,1040,1248,636,1554,1386,1056,1056,1440,264,811,796,1520,1518,1057,1952,780,1766,981,0,1094,756,630,813,755,880,756,2109,525,1053,776,912,1486,793,1629,1392,1138,2077,1406,1021,1408,1188,700,738,672,1208,1477,1136,855,1095,768,2046,988,923,793,1291,1626,1195,1190,874,551,1419,1362,848,2444,1210,1073,927,1112,616,980,894,1391,1800,1164,1234,360,1473,0,1643,1324,728,876,270,859,1228,960,725,1064,718,1176,1311,971,1742,848,864,941,1698,864,880,1232,1584,780,1595,868,1153,864,948,880,0,893,1200,864,264,912,1349,520,1337,1142,952,1240,1720,0,576,660,1479,1030,1026,729,866,672,744,1318,864,1145,756,1252,1494,1498,980,983,1860,1650,858,836,1029,912,1935,1204,1614,864,0,975,1237,761,1413,1097,742,1372,686,956,901,832,1145,1029,1117,1496,712,650,660,773,1926,731,616,1196,728,1734,936,1417,980,1324,1024,849,1040,848,540,1442,686,1649,1008,1568,1010,1358,798,936,847,778,1489,2078,784,1454,1013,600,1392,600,941,1516,1144,1067,1559,483,1099,768,672,650,1127,1800,876,1390,740,864,907,528,848,1273,918,1127,1763,1040,940,702,1090,1054,912,1039,1040,1148,1372,1002,1638,1040,0,1050,894,804,105,832,676,1184,1064,1462,1109,864,1090,1156,808,795,892,1698,1626,816,2217,1505,672,918,1059,1383,0,780,951,0,2330,912,858,992,783,1670,876,1056,1623,1017,864,742,1105,1268,768,1001,612,546,480,1134,1104,1184,928,1272,1316,1604,1686,1126,1181,832,1753,964,1466,925,1905,1500,585,600,1176,1113,1391,1032,1728,992,1440,1632,819,1088,1144,1616,936,1161,864,828,768,784,945,979,561,1057,1337,696,858,1330,804,1800,817,783,728,1098,600,588,720,764,918,1428,728,673,440,1241,894,1121,944,1225,1266,1128,0,1164,485,1930,848,770,1396,916,822,750,1700,747,1050,1442,1007,1187,0,691,1574,1680,1346,985,1657,546,1710,1008,720,0,602,1022,1082,810,1504,1220,384,1362,1132,1199,912,1346,1565,882,1268,1638,768,672,686,824,1338,1654,920,0,1620,1055,546,630,1134,800,1306,1475,2524,0,1992,990,0,0,1302,1316,816,1216,1065,1193,1364,973,1104,854,1338,894,662,1103,1154,1306,799,780,942,845,1048,727,810,690,1240,800,796,1096,848,990,1258,1040,1459,1251,691,936,546,1082,970,1247,0,600,1181,864,936,1314,684,1074,672,1271,290,950,1010,655,630,1463,910,868,924,1836,773,803,816,1008,833,1734,408,894,533,1040,1012,1552,672,698,384,1005,1373,1530,847,936,1122,974,1008,1128,916,960,1032,780,1567,915,952,780,1466,1006,672,1042,1298,704,572,650,932,1466,1073,816,864,1437,1219,1314,1580,901,855,1296,894,1198,1360,1502,1694,959,1127,1930,1096,1261,625,1598,952,1683,876,818,731,0,1216,1600,2396,1120,1572,784,978,1624,831,994,1249,776,702,1224,663,728,879,815,1212,1051,864,866,884,1630,1056,2158,1056,1682,931,1660,1055,559,672,648,925,894,0,1300,0,672,912,952,1040,2136,788,588,894,912,1702,1075,1361,1106,0,1188,940,747,764,847,1141,1476,884,1689,1053,2076,792,585,756,1012,735,876,2110,1405,864,1192,746,884,1986,864,856,1054,841,1050,1104,764,1405,691,925,2002,728,874,1332,1489,935,1019,661,928,723,1680,1128,698,1573,1309,1040,912,804,780,1328,1624,1501,1085,1152,630,994,832,864,1052,1120,547,6110,1246,978,771,1165,1616,976,1652,1368,990,924,1278,1902,1274,1453,1393,948,952,1622,1352,1753,864,1478,0,750,420,1795,796,544,816,1510,935,1588,911,816,803,765,1350,1656,693,916,864,858,1114,1284,896,728,960,1568,1732,1482,684,1248,858,698,2033,992,570,864,1078,756,1980,612,1530,715,616,600,814,873,757,848,1657,840,992,1108,2633,1026,1571,768,984,483,384,864,1205,596,816,560,796,1392,714,1746,735,1525,1584,864,482,1356,1094,747,939,1208,976,862,839,1286,1485,672,1594,768,833,622,791,944,856,0,1844,833,1386,777,1284,1144,1844,708,1069,848,697,1024,1252,1223,913,788,1440,732,958,656,936,1126,1319,864,1932,912,539,588,848,1017,952,1422,814,1188,1220,560,630,896,1573,547,1140,1221,953,1542,1152,1078,1256],\"xaxis\":\"x\",\"y\":[856,1262,920,961,1145,796,1694,1107,1022,1077,1040,1182,912,1494,1253,854,1004,1296,1114,1339,1158,1108,1795,1060,1060,1600,900,1704,1600,520,649,1228,1234,1700,1561,1132,1097,1297,1057,1152,1324,1328,884,938,1150,1752,1518,1656,736,955,794,816,816,1842,1360,1425,983,860,1426,780,1158,581,1370,902,1057,1143,2207,1479,747,1304,2223,845,885,1086,840,526,952,1072,1768,682,1182,1337,1563,1065,804,1301,684,612,1013,990,1040,1235,964,1260,905,680,1588,960,835,1225,1610,977,1535,1226,1226,1053,1047,789,997,1844,1216,774,1282,2259,1436,729,1092,1125,1699,728,988,772,1080,1199,1586,520,958,840,660,1053,1216,1022,1327,1296,1721,1682,1214,1959,1004,928,864,1734,910,1501,1728,970,875,884,1080,896,969,1710,1097,1252,1200,572,1040,774,991,1392,1232,1572,1541,882,1149,808,1867,1610,840,1707,854,1656,1064,1362,1651,2158,1164,1252,2234,968,769,901,1340,1362,936,1518,1217,808,1224,1593,1549,725,1431,970,864,855,1726,1360,929,1713,1121,1279,865,848,720,1442,1696,1100,1180,1092,864,1212,932,990,689,1236,1436,810,1137,1248,1498,1010,811,864,2392,630,1214,483,912,1555,1194,1490,483,894,860,483,1414,1014,1694,798,1566,866,889,626,1222,1872,908,1375,840,1444,1306,1625,798,1302,1314,1005,864,1604,963,882,1382,1482,1212,926,764,1422,802,1052,778,1113,1095,1363,1164,1632,816,952,1560,864,2121,1156,1175,1262,1314,1468,1575,625,1085,858,900,698,1079,936,1148,1468,1644,1003,910,975,1041,1152,1336,1210,1541,894,1675,2000,1122,1035,861,1944,697,972,793,2036,832,716,1153,1088,1372,1472,1249,1136,1553,1163,1898,803,1719,1383,1445,596,1728,1056,1629,1358,943,1619,1922,1536,1621,1215,993,841,1040,1684,536,972,958,1478,764,1848,1869,1453,616,720,1192,1200,1167,1142,1352,1086,912,988,495,483,790,672,1394,1431,1268,1287,953,1120,752,1319,847,904,914,1580,1856,1007,1026,1301,939,784,1079,1269,658,1125,1479,1742,961,804,882,788,735,1144,894,876,1077,1112,1288,1310,672,1165,806,1620,1166,840,1071,1050,1276,1056,1478,1028,1080,1340,672,1370,756,1056,1344,1602,988,1470,1196,707,1644,907,1208,1412,483,1088,765,926,630,827,734,904,694,684,2402,1440,1128,1258,933,1689,1888,956,780,679,813,1533,888,786,1728,1242,624,1663,833,979,832,575,864,849,1040,1414,1277,888,1634,832,1502,1161,1072,1976,1652,970,1493,2069,1718,1131,1850,1792,916,1216,999,1113,1073,1484,1766,630,616,958,728,1269,886,720,3228,1133,899,912,672,866,1214,1801,855,960,1065,1218,689,1041,1363,1368,864,1080,789,2020,1378,1277,882,1276,694,1244,1004,3138,1383,1266,928,1476,605,2515,1509,751,827,334,707,820,880,864,1159,1601,1838,997,1680,767,664,1377,915,768,825,912,1069,928,1717,1126,1006,1048,1092,897,729,1557,1392,1389,996,1163,1166,841,1134,1535,1496,943,1728,864,846,774,576,832,877,1320,703,1050,1429,2042,816,1521,989,2028,838,860,1473,779,770,1728,816,848,924,1826,684,1402,1647,716,1058,780,927,600,1494,1186,1040,1112,1940,1029,1476,1032,1299,1120,630,1054,807,832,1828,1482,864,1548,980,756,1012,1116,1422,1520,1040,1350,1089,1554,1411,1056,1056,1440,800,811,796,1567,1518,1057,2000,780,1766,981,1048,1094,1051,630,822,755,909,756,2113,525,1053,851,912,1486,1142,1686,1392,1181,2097,1454,1465,1679,1437,1180,738,697,1208,1839,1136,855,1095,792,2046,988,923,848,1291,1668,1195,1190,874,551,1419,1362,848,2444,1238,1073,1067,1137,616,1148,894,1391,1800,1164,1264,1032,1484,372,1824,1324,728,904,729,859,1228,960,725,1350,1576,1178,1325,971,1742,848,864,997,1698,864,1680,1232,1776,848,1616,1146,1153,1144,948,880,1040,901,1200,864,768,912,1349,1464,1337,1175,980,1320,1720,1088,792,660,1494,1038,1026,742,866,672,757,1328,864,1301,764,1268,1494,1506,980,983,1836,1690,858,1220,1117,912,1973,1204,1614,894,2020,1004,1253,810,1430,1110,742,1342,966,956,901,976,1145,1062,1127,1496,1086,888,1285,773,1966,981,616,1196,728,1734,1128,1428,980,1072,1086,1075,1309,848,1044,1442,686,1661,1008,1689,1052,1358,798,936,847,944,1489,2084,784,1434,1160,520,1392,520,941,1516,1144,1067,1559,483,1099,768,810,958,1165,1800,876,1701,1006,864,1307,1094,848,1456,918,1445,1779,1040,1026,702,1370,1512,912,1039,1097,1148,1372,1002,1646,1120,1547,1062,894,804,910,1036,676,1184,1040,1462,1155,864,1090,1187,808,954,892,1709,1712,872,2217,1505,672,918,1068,1383,1535,983,951,1120,2364,1236,858,1306,807,1670,902,1063,1636,1020,902,742,1105,1268,1015,1001,612,546,480,1229,912,1414,936,1272,1316,1617,1686,1126,1234,1098,1788,993,1466,925,1905,1500,2069,747,1200,1113,1391,1207,1728,1022,1440,1632,1344,1188,1144,1629,936,1381,864,965,768,1168,980,979,561,1057,1337,696,858,1542,804,1800,824,783,976,1098,600,1095,720,764,918,1428,1136,673,869,1241,894,1121,999,1276,1266,1149,1302,1164,1001,1940,1118,778,1407,916,1020,750,1718,774,1050,1442,1077,1208,944,691,1574,1680,1504,985,1657,546,1710,1008,720,1664,900,1022,1082,810,1504,1360,802,1506,1132,1220,912,1504,2898,882,1264,1646,968,672,948,1687,1352,1654,954,845,1620,1055,798,630,1803,800,1306,1532,2524,1733,1992,990,1771,930,1302,1316,1127,1526,1091,1523,1364,979,1130,1096,1338,894,1422,1103,1154,1306,799,798,1291,893,1048,829,1002,698,1240,960,1096,1096,848,990,1258,1040,1459,1251,691,996,546,1082,970,1247,1040,624,1390,1200,936,1314,773,1088,757,1601,438,950,1134,1194,630,1500,1442,887,948,1836,773,1098,816,1008,833,1734,779,894,1021,1040,1012,1552,960,698,812,1005,1555,1530,847,936,1328,974,1178,1142,916,986,1032,780,1567,1167,952,1088,1466,1006,672,1042,1298,860,572,832,932,1466,1811,816,902,1437,1265,1314,1580,943,855,1640,894,1258,1432,1502,1694,959,1236,1831,1118,1261,625,1636,1170,2129,923,818,820,1124,1298,1652,2411,1130,1572,949,1014,1624,831,1028,1622,764,842,1224,663,728,879,815,1212,1382,864,866,884,1630,1074,2196,1056,1700,1283,1660,1055,1080,672,960,999,894,1318,1314,672,672,912,1211,1168,2136,788,1138,894,912,1702,1507,1361,1190,1224,1188,1024,892,764,847,1141,1484,884,1689,1173,2076,792,1140,756,1034,1134,988,2110,1405,874,1516,760,959,1987,864,1166,1054,892,1050,1104,1060,1337,713,964,2018,1968,874,1332,1489,935,1357,661,928,735,1724,1128,698,1573,1339,1040,912,1699,825,1328,1582,1659,1120,1152,630,1378,832,864,1052,1128,1072,4692,1246,1005,753,1203,1616,976,1652,1368,990,1122,1294,1902,1274,1453,1422,948,1092,1630,1352,1787,948,1478,720,1061,708,1795,796,774,816,1584,955,1588,954,816,803,765,1334,1656,693,920,864,872,1114,1284,1172,728,960,2156,1776,1494,938,1338,858,786,2053,992,1222,892,1078,769,1980,990,1530,1281,616,520,814,882,925,848,1668,840,1661,1108,2633,1026,1571,790,984,483,754,864,2117,998,1416,698,796,1392,1664,1746,869,1525,1584,900,1221,1500,1133,1687,939,1136,1160,950,864,1294,1464,694,1646,768,833,741,1236,944,1112,1040,1844,1053,1569,1246,1310,1144,1844,708,1069,848,1575,1344,1252,1223,1048,804,1440,734,958,968,962,1126,1537,864,1932,1236,1040,1423,848,1026,952,1422,913,1188,1220,796,630,896,1578,1072,1140,1221,953,2073,1188,1078,1256],\"yaxis\":\"y\",\"type\":\"histogram\"}],                        {\"template\":{\"data\":{\"histogram2dcontour\":[{\"type\":\"histogram2dcontour\",\"colorbar\":{\"outlinewidth\":0,\"ticks\":\"\"},\"colorscale\":[[0.0,\"#0d0887\"],[0.1111111111111111,\"#46039f\"],[0.2222222222222222,\"#7201a8\"],[0.3333333333333333,\"#9c179e\"],[0.4444444444444444,\"#bd3786\"],[0.5555555555555556,\"#d8576b\"],[0.6666666666666666,\"#ed7953\"],[0.7777777777777778,\"#fb9f3a\"],[0.8888888888888888,\"#fdca26\"],[1.0,\"#f0f921\"]]}],\"choropleth\":[{\"type\":\"choropleth\",\"colorbar\":{\"outlinewidth\":0,\"ticks\":\"\"}}],\"histogram2d\":[{\"type\":\"histogram2d\",\"colorbar\":{\"outlinewidth\":0,\"ticks\":\"\"},\"colorscale\":[[0.0,\"#0d0887\"],[0.1111111111111111,\"#46039f\"],[0.2222222222222222,\"#7201a8\"],[0.3333333333333333,\"#9c179e\"],[0.4444444444444444,\"#bd3786\"],[0.5555555555555556,\"#d8576b\"],[0.6666666666666666,\"#ed7953\"],[0.7777777777777778,\"#fb9f3a\"],[0.8888888888888888,\"#fdca26\"],[1.0,\"#f0f921\"]]}],\"heatmap\":[{\"type\":\"heatmap\",\"colorbar\":{\"outlinewidth\":0,\"ticks\":\"\"},\"colorscale\":[[0.0,\"#0d0887\"],[0.1111111111111111,\"#46039f\"],[0.2222222222222222,\"#7201a8\"],[0.3333333333333333,\"#9c179e\"],[0.4444444444444444,\"#bd3786\"],[0.5555555555555556,\"#d8576b\"],[0.6666666666666666,\"#ed7953\"],[0.7777777777777778,\"#fb9f3a\"],[0.8888888888888888,\"#fdca26\"],[1.0,\"#f0f921\"]]}],\"heatmapgl\":[{\"type\":\"heatmapgl\",\"colorbar\":{\"outlinewidth\":0,\"ticks\":\"\"},\"colorscale\":[[0.0,\"#0d0887\"],[0.1111111111111111,\"#46039f\"],[0.2222222222222222,\"#7201a8\"],[0.3333333333333333,\"#9c179e\"],[0.4444444444444444,\"#bd3786\"],[0.5555555555555556,\"#d8576b\"],[0.6666666666666666,\"#ed7953\"],[0.7777777777777778,\"#fb9f3a\"],[0.8888888888888888,\"#fdca26\"],[1.0,\"#f0f921\"]]}],\"contourcarpet\":[{\"type\":\"contourcarpet\",\"colorbar\":{\"outlinewidth\":0,\"ticks\":\"\"}}],\"contour\":[{\"type\":\"contour\",\"colorbar\":{\"outlinewidth\":0,\"ticks\":\"\"},\"colorscale\":[[0.0,\"#0d0887\"],[0.1111111111111111,\"#46039f\"],[0.2222222222222222,\"#7201a8\"],[0.3333333333333333,\"#9c179e\"],[0.4444444444444444,\"#bd3786\"],[0.5555555555555556,\"#d8576b\"],[0.6666666666666666,\"#ed7953\"],[0.7777777777777778,\"#fb9f3a\"],[0.8888888888888888,\"#fdca26\"],[1.0,\"#f0f921\"]]}],\"surface\":[{\"type\":\"surface\",\"colorbar\":{\"outlinewidth\":0,\"ticks\":\"\"},\"colorscale\":[[0.0,\"#0d0887\"],[0.1111111111111111,\"#46039f\"],[0.2222222222222222,\"#7201a8\"],[0.3333333333333333,\"#9c179e\"],[0.4444444444444444,\"#bd3786\"],[0.5555555555555556,\"#d8576b\"],[0.6666666666666666,\"#ed7953\"],[0.7777777777777778,\"#fb9f3a\"],[0.8888888888888888,\"#fdca26\"],[1.0,\"#f0f921\"]]}],\"mesh3d\":[{\"type\":\"mesh3d\",\"colorbar\":{\"outlinewidth\":0,\"ticks\":\"\"}}],\"scatter\":[{\"fillpattern\":{\"fillmode\":\"overlay\",\"size\":10,\"solidity\":0.2},\"type\":\"scatter\"}],\"parcoords\":[{\"type\":\"parcoords\",\"line\":{\"colorbar\":{\"outlinewidth\":0,\"ticks\":\"\"}}}],\"scatterpolargl\":[{\"type\":\"scatterpolargl\",\"marker\":{\"colorbar\":{\"outlinewidth\":0,\"ticks\":\"\"}}}],\"bar\":[{\"error_x\":{\"color\":\"#2a3f5f\"},\"error_y\":{\"color\":\"#2a3f5f\"},\"marker\":{\"line\":{\"color\":\"#E5ECF6\",\"width\":0.5},\"pattern\":{\"fillmode\":\"overlay\",\"size\":10,\"solidity\":0.2}},\"type\":\"bar\"}],\"scattergeo\":[{\"type\":\"scattergeo\",\"marker\":{\"colorbar\":{\"outlinewidth\":0,\"ticks\":\"\"}}}],\"scatterpolar\":[{\"type\":\"scatterpolar\",\"marker\":{\"colorbar\":{\"outlinewidth\":0,\"ticks\":\"\"}}}],\"histogram\":[{\"marker\":{\"pattern\":{\"fillmode\":\"overlay\",\"size\":10,\"solidity\":0.2}},\"type\":\"histogram\"}],\"scattergl\":[{\"type\":\"scattergl\",\"marker\":{\"colorbar\":{\"outlinewidth\":0,\"ticks\":\"\"}}}],\"scatter3d\":[{\"type\":\"scatter3d\",\"line\":{\"colorbar\":{\"outlinewidth\":0,\"ticks\":\"\"}},\"marker\":{\"colorbar\":{\"outlinewidth\":0,\"ticks\":\"\"}}}],\"scattermapbox\":[{\"type\":\"scattermapbox\",\"marker\":{\"colorbar\":{\"outlinewidth\":0,\"ticks\":\"\"}}}],\"scatterternary\":[{\"type\":\"scatterternary\",\"marker\":{\"colorbar\":{\"outlinewidth\":0,\"ticks\":\"\"}}}],\"scattercarpet\":[{\"type\":\"scattercarpet\",\"marker\":{\"colorbar\":{\"outlinewidth\":0,\"ticks\":\"\"}}}],\"carpet\":[{\"aaxis\":{\"endlinecolor\":\"#2a3f5f\",\"gridcolor\":\"white\",\"linecolor\":\"white\",\"minorgridcolor\":\"white\",\"startlinecolor\":\"#2a3f5f\"},\"baxis\":{\"endlinecolor\":\"#2a3f5f\",\"gridcolor\":\"white\",\"linecolor\":\"white\",\"minorgridcolor\":\"white\",\"startlinecolor\":\"#2a3f5f\"},\"type\":\"carpet\"}],\"table\":[{\"cells\":{\"fill\":{\"color\":\"#EBF0F8\"},\"line\":{\"color\":\"white\"}},\"header\":{\"fill\":{\"color\":\"#C8D4E3\"},\"line\":{\"color\":\"white\"}},\"type\":\"table\"}],\"barpolar\":[{\"marker\":{\"line\":{\"color\":\"#E5ECF6\",\"width\":0.5},\"pattern\":{\"fillmode\":\"overlay\",\"size\":10,\"solidity\":0.2}},\"type\":\"barpolar\"}],\"pie\":[{\"automargin\":true,\"type\":\"pie\"}]},\"layout\":{\"autotypenumbers\":\"strict\",\"colorway\":[\"#636efa\",\"#EF553B\",\"#00cc96\",\"#ab63fa\",\"#FFA15A\",\"#19d3f3\",\"#FF6692\",\"#B6E880\",\"#FF97FF\",\"#FECB52\"],\"font\":{\"color\":\"#2a3f5f\"},\"hovermode\":\"closest\",\"hoverlabel\":{\"align\":\"left\"},\"paper_bgcolor\":\"white\",\"plot_bgcolor\":\"#E5ECF6\",\"polar\":{\"bgcolor\":\"#E5ECF6\",\"angularaxis\":{\"gridcolor\":\"white\",\"linecolor\":\"white\",\"ticks\":\"\"},\"radialaxis\":{\"gridcolor\":\"white\",\"linecolor\":\"white\",\"ticks\":\"\"}},\"ternary\":{\"bgcolor\":\"#E5ECF6\",\"aaxis\":{\"gridcolor\":\"white\",\"linecolor\":\"white\",\"ticks\":\"\"},\"baxis\":{\"gridcolor\":\"white\",\"linecolor\":\"white\",\"ticks\":\"\"},\"caxis\":{\"gridcolor\":\"white\",\"linecolor\":\"white\",\"ticks\":\"\"}},\"coloraxis\":{\"colorbar\":{\"outlinewidth\":0,\"ticks\":\"\"}},\"colorscale\":{\"sequential\":[[0.0,\"#0d0887\"],[0.1111111111111111,\"#46039f\"],[0.2222222222222222,\"#7201a8\"],[0.3333333333333333,\"#9c179e\"],[0.4444444444444444,\"#bd3786\"],[0.5555555555555556,\"#d8576b\"],[0.6666666666666666,\"#ed7953\"],[0.7777777777777778,\"#fb9f3a\"],[0.8888888888888888,\"#fdca26\"],[1.0,\"#f0f921\"]],\"sequentialminus\":[[0.0,\"#0d0887\"],[0.1111111111111111,\"#46039f\"],[0.2222222222222222,\"#7201a8\"],[0.3333333333333333,\"#9c179e\"],[0.4444444444444444,\"#bd3786\"],[0.5555555555555556,\"#d8576b\"],[0.6666666666666666,\"#ed7953\"],[0.7777777777777778,\"#fb9f3a\"],[0.8888888888888888,\"#fdca26\"],[1.0,\"#f0f921\"]],\"diverging\":[[0,\"#8e0152\"],[0.1,\"#c51b7d\"],[0.2,\"#de77ae\"],[0.3,\"#f1b6da\"],[0.4,\"#fde0ef\"],[0.5,\"#f7f7f7\"],[0.6,\"#e6f5d0\"],[0.7,\"#b8e186\"],[0.8,\"#7fbc41\"],[0.9,\"#4d9221\"],[1,\"#276419\"]]},\"xaxis\":{\"gridcolor\":\"white\",\"linecolor\":\"white\",\"ticks\":\"\",\"title\":{\"standoff\":15},\"zerolinecolor\":\"white\",\"automargin\":true,\"zerolinewidth\":2},\"yaxis\":{\"gridcolor\":\"white\",\"linecolor\":\"white\",\"ticks\":\"\",\"title\":{\"standoff\":15},\"zerolinecolor\":\"white\",\"automargin\":true,\"zerolinewidth\":2},\"scene\":{\"xaxis\":{\"backgroundcolor\":\"#E5ECF6\",\"gridcolor\":\"white\",\"linecolor\":\"white\",\"showbackground\":true,\"ticks\":\"\",\"zerolinecolor\":\"white\",\"gridwidth\":2},\"yaxis\":{\"backgroundcolor\":\"#E5ECF6\",\"gridcolor\":\"white\",\"linecolor\":\"white\",\"showbackground\":true,\"ticks\":\"\",\"zerolinecolor\":\"white\",\"gridwidth\":2},\"zaxis\":{\"backgroundcolor\":\"#E5ECF6\",\"gridcolor\":\"white\",\"linecolor\":\"white\",\"showbackground\":true,\"ticks\":\"\",\"zerolinecolor\":\"white\",\"gridwidth\":2}},\"shapedefaults\":{\"line\":{\"color\":\"#2a3f5f\"}},\"annotationdefaults\":{\"arrowcolor\":\"#2a3f5f\",\"arrowhead\":0,\"arrowwidth\":1},\"geo\":{\"bgcolor\":\"white\",\"landcolor\":\"#E5ECF6\",\"subunitcolor\":\"white\",\"showland\":true,\"showlakes\":true,\"lakecolor\":\"white\"},\"title\":{\"x\":0.05},\"mapbox\":{\"style\":\"light\"}}},\"xaxis\":{\"anchor\":\"y\",\"domain\":[0.0,1.0],\"title\":{\"text\":\"TotalBsmtSF\"}},\"yaxis\":{\"anchor\":\"x\",\"domain\":[0.0,1.0],\"title\":{\"text\":\"sum of 1stFlrSF\"}},\"legend\":{\"tracegroupgap\":0},\"title\":{\"text\":\"TotalBsmtSF vs 1stFlrSF (0.8)\"},\"barmode\":\"relative\"},                        {\"responsive\": true}                    ).then(function(){\n",
       "                            \n",
       "var gd = document.getElementById('ee85190b-5552-4f50-ab94-7066af38d0fe');\n",
       "var x = new MutationObserver(function (mutations, observer) {{\n",
       "        var display = window.getComputedStyle(gd).display;\n",
       "        if (!display || display === 'none') {{\n",
       "            console.log([gd, 'removed!']);\n",
       "            Plotly.purge(gd);\n",
       "            observer.disconnect();\n",
       "        }}\n",
       "}});\n",
       "\n",
       "// Listen for the removal of the full notebook cells\n",
       "var notebookContainer = gd.closest('#notebook-container');\n",
       "if (notebookContainer) {{\n",
       "    x.observe(notebookContainer, {childList: true});\n",
       "}}\n",
       "\n",
       "// Listen for the clearing of the current output cell\n",
       "var outputEl = gd.closest('.output');\n",
       "if (outputEl) {{\n",
       "    x.observe(outputEl, {childList: true});\n",
       "}}\n",
       "\n",
       "                        })                };                });            </script>        </div>"
      ]
     },
     "metadata": {},
     "output_type": "display_data"
    },
    {
     "data": {
      "text/html": [
       "<div>                            <div id=\"c88256ed-db6c-4e66-8ff8-3a7db7d2c66f\" class=\"plotly-graph-div\" style=\"height:525px; width:100%;\"></div>            <script type=\"text/javascript\">                require([\"plotly\"], function(Plotly) {                    window.PLOTLYENV=window.PLOTLYENV || {};                                    if (document.getElementById(\"c88256ed-db6c-4e66-8ff8-3a7db7d2c66f\")) {                    Plotly.newPlot(                        \"c88256ed-db6c-4e66-8ff8-3a7db7d2c66f\",                        [{\"hovertemplate\":\"TotalBsmtSF=%{x}\\u003cbr\\u003e1stFlrSF=%{y}\\u003cextra\\u003e\\u003c\\u002fextra\\u003e\",\"legendgroup\":\"\",\"marker\":{\"color\":\"#636efa\",\"symbol\":\"circle\"},\"mode\":\"markers\",\"name\":\"\",\"showlegend\":false,\"x\":[856,1262,920,756,1145,796,1686,1107,952,991,1040,1175,912,1494,1253,832,1004,0,1114,1029,1158,637,1777,1040,1060,1566,900,1704,1484,520,649,1228,1234,1398,1561,1117,1097,1297,1057,0,1088,1350,840,938,1150,1752,1434,1656,736,955,794,816,816,1842,384,1425,970,860,1410,780,1158,530,1370,576,1057,1143,1947,1453,747,1304,2223,845,832,1086,840,462,952,672,1768,440,896,1237,1563,1065,384,1288,684,612,1013,990,0,1235,876,1214,824,680,1588,960,458,950,1610,741,0,1226,1040,1053,641,789,793,1844,994,384,1264,1809,1028,729,1092,1125,1673,728,938,732,1080,1199,1362,520,1078,672,660,1008,924,992,1063,1267,1461,1304,1214,1907,1004,928,864,1734,910,1490,1728,970,715,884,1080,896,969,1710,825,1602,1200,572,0,774,991,1392,1232,1572,1541,882,1149,644,1617,1582,840,1686,720,1080,1064,1362,1606,1202,1151,1052,2216,968,756,793,0,1362,504,1107,1188,660,1086,1593,853,725,1431,970,864,855,1726,1360,755,1713,1121,1196,617,848,720,1424,1140,1100,1157,1092,864,1212,900,990,689,1070,1436,686,798,1248,1498,1010,713,864,2392,630,1203,483,912,1373,1194,1462,483,894,860,483,1414,996,1694,735,1566,686,540,626,948,1845,1020,1367,840,1444,728,1573,798,1302,1314,975,864,1604,963,0,1362,1482,506,926,680,1422,802,720,740,1143,1095,1385,1152,1240,816,952,1560,864,2121,1160,807,1262,1314,1468,1575,625,912,858,882,698,1079,780,768,795,1416,1003,910,975,702,1092,1165,1028,1541,894,1470,2000,700,319,861,1896,697,972,793,2136,728,716,845,1088,1347,1372,1249,1136,1502,1162,710,720,1719,1383,844,596,1728,1056,3206,1358,943,1499,1922,1536,1208,1215,967,721,0,1684,536,972,958,1478,764,1848,1869,1453,616,624,940,1200,1158,1142,1062,1086,888,883,0,483,796,672,1394,1099,1268,1063,953,0,744,608,847,683,870,1580,1856,982,1026,1293,939,784,1580,1256,658,1041,1468,1682,861,804,0,788,735,1144,894,864,961,1092,1260,1310,672,1141,806,1281,1064,840,1063,1034,1276,1056,1470,1008,1080,1340,672,1370,756,1056,1344,1602,988,1470,1196,651,1518,907,1208,1392,483,901,765,926,630,799,648,884,440,684,3094,1440,1078,1258,915,1436,1517,930,780,649,813,1533,872,768,1728,1242,624,1364,588,709,832,560,864,715,1040,1375,1277,728,1626,832,1488,808,547,1976,1494,970,1478,2153,1705,907,1833,1792,910,1216,999,1113,1073,1484,954,630,264,806,728,1269,190,720,3200,1026,864,912,672,866,1214,1501,855,960,777,1218,689,1041,1008,1368,864,1084,768,2006,689,1264,794,1276,0,1244,1004,3138,1379,1257,928,1452,528,2035,1461,611,0,0,707,1117,880,864,1051,1581,1838,969,1650,723,654,1204,1065,768,825,912,1069,928,1709,0,998,993,1092,637,729,1374,1392,1389,996,1163,1095,806,1122,1517,1496,943,1728,864,846,384,372,832,861,1164,689,1050,1144,2042,816,1237,884,1868,816,840,1437,742,770,1722,816,848,924,1814,684,1258,1430,716,1058,780,908,600,1494,768,1040,896,965,1029,1440,1032,1299,1120,630,936,783,832,1822,1482,864,1522,980,756,732,1116,978,1156,1040,1248,636,1554,1386,1056,1056,1440,264,811,796,1520,1518,1057,1952,780,1766,981,0,1094,756,630,813,755,880,756,2109,525,1053,776,912,1486,793,1629,1392,1138,2077,1406,1021,1408,1188,700,738,672,1208,1477,1136,855,1095,768,2046,988,923,793,1291,1626,1195,1190,874,551,1419,1362,848,2444,1210,1073,927,1112,616,980,894,1391,1800,1164,1234,360,1473,0,1643,1324,728,876,270,859,1228,960,725,1064,718,1176,1311,971,1742,848,864,941,1698,864,880,1232,1584,780,1595,868,1153,864,948,880,0,893,1200,864,264,912,1349,520,1337,1142,952,1240,1720,0,576,660,1479,1030,1026,729,866,672,744,1318,864,1145,756,1252,1494,1498,980,983,1860,1650,858,836,1029,912,1935,1204,1614,864,0,975,1237,761,1413,1097,742,1372,686,956,901,832,1145,1029,1117,1496,712,650,660,773,1926,731,616,1196,728,1734,936,1417,980,1324,1024,849,1040,848,540,1442,686,1649,1008,1568,1010,1358,798,936,847,778,1489,2078,784,1454,1013,600,1392,600,941,1516,1144,1067,1559,483,1099,768,672,650,1127,1800,876,1390,740,864,907,528,848,1273,918,1127,1763,1040,940,702,1090,1054,912,1039,1040,1148,1372,1002,1638,1040,0,1050,894,804,105,832,676,1184,1064,1462,1109,864,1090,1156,808,795,892,1698,1626,816,2217,1505,672,918,1059,1383,0,780,951,0,2330,912,858,992,783,1670,876,1056,1623,1017,864,742,1105,1268,768,1001,612,546,480,1134,1104,1184,928,1272,1316,1604,1686,1126,1181,832,1753,964,1466,925,1905,1500,585,600,1176,1113,1391,1032,1728,992,1440,1632,819,1088,1144,1616,936,1161,864,828,768,784,945,979,561,1057,1337,696,858,1330,804,1800,817,783,728,1098,600,588,720,764,918,1428,728,673,440,1241,894,1121,944,1225,1266,1128,0,1164,485,1930,848,770,1396,916,822,750,1700,747,1050,1442,1007,1187,0,691,1574,1680,1346,985,1657,546,1710,1008,720,0,602,1022,1082,810,1504,1220,384,1362,1132,1199,912,1346,1565,882,1268,1638,768,672,686,824,1338,1654,920,0,1620,1055,546,630,1134,800,1306,1475,2524,0,1992,990,0,0,1302,1316,816,1216,1065,1193,1364,973,1104,854,1338,894,662,1103,1154,1306,799,780,942,845,1048,727,810,690,1240,800,796,1096,848,990,1258,1040,1459,1251,691,936,546,1082,970,1247,0,600,1181,864,936,1314,684,1074,672,1271,290,950,1010,655,630,1463,910,868,924,1836,773,803,816,1008,833,1734,408,894,533,1040,1012,1552,672,698,384,1005,1373,1530,847,936,1122,974,1008,1128,916,960,1032,780,1567,915,952,780,1466,1006,672,1042,1298,704,572,650,932,1466,1073,816,864,1437,1219,1314,1580,901,855,1296,894,1198,1360,1502,1694,959,1127,1930,1096,1261,625,1598,952,1683,876,818,731,0,1216,1600,2396,1120,1572,784,978,1624,831,994,1249,776,702,1224,663,728,879,815,1212,1051,864,866,884,1630,1056,2158,1056,1682,931,1660,1055,559,672,648,925,894,0,1300,0,672,912,952,1040,2136,788,588,894,912,1702,1075,1361,1106,0,1188,940,747,764,847,1141,1476,884,1689,1053,2076,792,585,756,1012,735,876,2110,1405,864,1192,746,884,1986,864,856,1054,841,1050,1104,764,1405,691,925,2002,728,874,1332,1489,935,1019,661,928,723,1680,1128,698,1573,1309,1040,912,804,780,1328,1624,1501,1085,1152,630,994,832,864,1052,1120,547,6110,1246,978,771,1165,1616,976,1652,1368,990,924,1278,1902,1274,1453,1393,948,952,1622,1352,1753,864,1478,0,750,420,1795,796,544,816,1510,935,1588,911,816,803,765,1350,1656,693,916,864,858,1114,1284,896,728,960,1568,1732,1482,684,1248,858,698,2033,992,570,864,1078,756,1980,612,1530,715,616,600,814,873,757,848,1657,840,992,1108,2633,1026,1571,768,984,483,384,864,1205,596,816,560,796,1392,714,1746,735,1525,1584,864,482,1356,1094,747,939,1208,976,862,839,1286,1485,672,1594,768,833,622,791,944,856,0,1844,833,1386,777,1284,1144,1844,708,1069,848,697,1024,1252,1223,913,788,1440,732,958,656,936,1126,1319,864,1932,912,539,588,848,1017,952,1422,814,1188,1220,560,630,896,1573,547,1140,1221,953,1542,1152,1078,1256],\"xaxis\":\"x\",\"y\":[856,1262,920,961,1145,796,1694,1107,1022,1077,1040,1182,912,1494,1253,854,1004,1296,1114,1339,1158,1108,1795,1060,1060,1600,900,1704,1600,520,649,1228,1234,1700,1561,1132,1097,1297,1057,1152,1324,1328,884,938,1150,1752,1518,1656,736,955,794,816,816,1842,1360,1425,983,860,1426,780,1158,581,1370,902,1057,1143,2207,1479,747,1304,2223,845,885,1086,840,526,952,1072,1768,682,1182,1337,1563,1065,804,1301,684,612,1013,990,1040,1235,964,1260,905,680,1588,960,835,1225,1610,977,1535,1226,1226,1053,1047,789,997,1844,1216,774,1282,2259,1436,729,1092,1125,1699,728,988,772,1080,1199,1586,520,958,840,660,1053,1216,1022,1327,1296,1721,1682,1214,1959,1004,928,864,1734,910,1501,1728,970,875,884,1080,896,969,1710,1097,1252,1200,572,1040,774,991,1392,1232,1572,1541,882,1149,808,1867,1610,840,1707,854,1656,1064,1362,1651,2158,1164,1252,2234,968,769,901,1340,1362,936,1518,1217,808,1224,1593,1549,725,1431,970,864,855,1726,1360,929,1713,1121,1279,865,848,720,1442,1696,1100,1180,1092,864,1212,932,990,689,1236,1436,810,1137,1248,1498,1010,811,864,2392,630,1214,483,912,1555,1194,1490,483,894,860,483,1414,1014,1694,798,1566,866,889,626,1222,1872,908,1375,840,1444,1306,1625,798,1302,1314,1005,864,1604,963,882,1382,1482,1212,926,764,1422,802,1052,778,1113,1095,1363,1164,1632,816,952,1560,864,2121,1156,1175,1262,1314,1468,1575,625,1085,858,900,698,1079,936,1148,1468,1644,1003,910,975,1041,1152,1336,1210,1541,894,1675,2000,1122,1035,861,1944,697,972,793,2036,832,716,1153,1088,1372,1472,1249,1136,1553,1163,1898,803,1719,1383,1445,596,1728,1056,1629,1358,943,1619,1922,1536,1621,1215,993,841,1040,1684,536,972,958,1478,764,1848,1869,1453,616,720,1192,1200,1167,1142,1352,1086,912,988,495,483,790,672,1394,1431,1268,1287,953,1120,752,1319,847,904,914,1580,1856,1007,1026,1301,939,784,1079,1269,658,1125,1479,1742,961,804,882,788,735,1144,894,876,1077,1112,1288,1310,672,1165,806,1620,1166,840,1071,1050,1276,1056,1478,1028,1080,1340,672,1370,756,1056,1344,1602,988,1470,1196,707,1644,907,1208,1412,483,1088,765,926,630,827,734,904,694,684,2402,1440,1128,1258,933,1689,1888,956,780,679,813,1533,888,786,1728,1242,624,1663,833,979,832,575,864,849,1040,1414,1277,888,1634,832,1502,1161,1072,1976,1652,970,1493,2069,1718,1131,1850,1792,916,1216,999,1113,1073,1484,1766,630,616,958,728,1269,886,720,3228,1133,899,912,672,866,1214,1801,855,960,1065,1218,689,1041,1363,1368,864,1080,789,2020,1378,1277,882,1276,694,1244,1004,3138,1383,1266,928,1476,605,2515,1509,751,827,334,707,820,880,864,1159,1601,1838,997,1680,767,664,1377,915,768,825,912,1069,928,1717,1126,1006,1048,1092,897,729,1557,1392,1389,996,1163,1166,841,1134,1535,1496,943,1728,864,846,774,576,832,877,1320,703,1050,1429,2042,816,1521,989,2028,838,860,1473,779,770,1728,816,848,924,1826,684,1402,1647,716,1058,780,927,600,1494,1186,1040,1112,1940,1029,1476,1032,1299,1120,630,1054,807,832,1828,1482,864,1548,980,756,1012,1116,1422,1520,1040,1350,1089,1554,1411,1056,1056,1440,800,811,796,1567,1518,1057,2000,780,1766,981,1048,1094,1051,630,822,755,909,756,2113,525,1053,851,912,1486,1142,1686,1392,1181,2097,1454,1465,1679,1437,1180,738,697,1208,1839,1136,855,1095,792,2046,988,923,848,1291,1668,1195,1190,874,551,1419,1362,848,2444,1238,1073,1067,1137,616,1148,894,1391,1800,1164,1264,1032,1484,372,1824,1324,728,904,729,859,1228,960,725,1350,1576,1178,1325,971,1742,848,864,997,1698,864,1680,1232,1776,848,1616,1146,1153,1144,948,880,1040,901,1200,864,768,912,1349,1464,1337,1175,980,1320,1720,1088,792,660,1494,1038,1026,742,866,672,757,1328,864,1301,764,1268,1494,1506,980,983,1836,1690,858,1220,1117,912,1973,1204,1614,894,2020,1004,1253,810,1430,1110,742,1342,966,956,901,976,1145,1062,1127,1496,1086,888,1285,773,1966,981,616,1196,728,1734,1128,1428,980,1072,1086,1075,1309,848,1044,1442,686,1661,1008,1689,1052,1358,798,936,847,944,1489,2084,784,1434,1160,520,1392,520,941,1516,1144,1067,1559,483,1099,768,810,958,1165,1800,876,1701,1006,864,1307,1094,848,1456,918,1445,1779,1040,1026,702,1370,1512,912,1039,1097,1148,1372,1002,1646,1120,1547,1062,894,804,910,1036,676,1184,1040,1462,1155,864,1090,1187,808,954,892,1709,1712,872,2217,1505,672,918,1068,1383,1535,983,951,1120,2364,1236,858,1306,807,1670,902,1063,1636,1020,902,742,1105,1268,1015,1001,612,546,480,1229,912,1414,936,1272,1316,1617,1686,1126,1234,1098,1788,993,1466,925,1905,1500,2069,747,1200,1113,1391,1207,1728,1022,1440,1632,1344,1188,1144,1629,936,1381,864,965,768,1168,980,979,561,1057,1337,696,858,1542,804,1800,824,783,976,1098,600,1095,720,764,918,1428,1136,673,869,1241,894,1121,999,1276,1266,1149,1302,1164,1001,1940,1118,778,1407,916,1020,750,1718,774,1050,1442,1077,1208,944,691,1574,1680,1504,985,1657,546,1710,1008,720,1664,900,1022,1082,810,1504,1360,802,1506,1132,1220,912,1504,2898,882,1264,1646,968,672,948,1687,1352,1654,954,845,1620,1055,798,630,1803,800,1306,1532,2524,1733,1992,990,1771,930,1302,1316,1127,1526,1091,1523,1364,979,1130,1096,1338,894,1422,1103,1154,1306,799,798,1291,893,1048,829,1002,698,1240,960,1096,1096,848,990,1258,1040,1459,1251,691,996,546,1082,970,1247,1040,624,1390,1200,936,1314,773,1088,757,1601,438,950,1134,1194,630,1500,1442,887,948,1836,773,1098,816,1008,833,1734,779,894,1021,1040,1012,1552,960,698,812,1005,1555,1530,847,936,1328,974,1178,1142,916,986,1032,780,1567,1167,952,1088,1466,1006,672,1042,1298,860,572,832,932,1466,1811,816,902,1437,1265,1314,1580,943,855,1640,894,1258,1432,1502,1694,959,1236,1831,1118,1261,625,1636,1170,2129,923,818,820,1124,1298,1652,2411,1130,1572,949,1014,1624,831,1028,1622,764,842,1224,663,728,879,815,1212,1382,864,866,884,1630,1074,2196,1056,1700,1283,1660,1055,1080,672,960,999,894,1318,1314,672,672,912,1211,1168,2136,788,1138,894,912,1702,1507,1361,1190,1224,1188,1024,892,764,847,1141,1484,884,1689,1173,2076,792,1140,756,1034,1134,988,2110,1405,874,1516,760,959,1987,864,1166,1054,892,1050,1104,1060,1337,713,964,2018,1968,874,1332,1489,935,1357,661,928,735,1724,1128,698,1573,1339,1040,912,1699,825,1328,1582,1659,1120,1152,630,1378,832,864,1052,1128,1072,4692,1246,1005,753,1203,1616,976,1652,1368,990,1122,1294,1902,1274,1453,1422,948,1092,1630,1352,1787,948,1478,720,1061,708,1795,796,774,816,1584,955,1588,954,816,803,765,1334,1656,693,920,864,872,1114,1284,1172,728,960,2156,1776,1494,938,1338,858,786,2053,992,1222,892,1078,769,1980,990,1530,1281,616,520,814,882,925,848,1668,840,1661,1108,2633,1026,1571,790,984,483,754,864,2117,998,1416,698,796,1392,1664,1746,869,1525,1584,900,1221,1500,1133,1687,939,1136,1160,950,864,1294,1464,694,1646,768,833,741,1236,944,1112,1040,1844,1053,1569,1246,1310,1144,1844,708,1069,848,1575,1344,1252,1223,1048,804,1440,734,958,968,962,1126,1537,864,1932,1236,1040,1423,848,1026,952,1422,913,1188,1220,796,630,896,1578,1072,1140,1221,953,2073,1188,1078,1256],\"yaxis\":\"y\",\"type\":\"scattergl\"}],                        {\"template\":{\"data\":{\"histogram2dcontour\":[{\"type\":\"histogram2dcontour\",\"colorbar\":{\"outlinewidth\":0,\"ticks\":\"\"},\"colorscale\":[[0.0,\"#0d0887\"],[0.1111111111111111,\"#46039f\"],[0.2222222222222222,\"#7201a8\"],[0.3333333333333333,\"#9c179e\"],[0.4444444444444444,\"#bd3786\"],[0.5555555555555556,\"#d8576b\"],[0.6666666666666666,\"#ed7953\"],[0.7777777777777778,\"#fb9f3a\"],[0.8888888888888888,\"#fdca26\"],[1.0,\"#f0f921\"]]}],\"choropleth\":[{\"type\":\"choropleth\",\"colorbar\":{\"outlinewidth\":0,\"ticks\":\"\"}}],\"histogram2d\":[{\"type\":\"histogram2d\",\"colorbar\":{\"outlinewidth\":0,\"ticks\":\"\"},\"colorscale\":[[0.0,\"#0d0887\"],[0.1111111111111111,\"#46039f\"],[0.2222222222222222,\"#7201a8\"],[0.3333333333333333,\"#9c179e\"],[0.4444444444444444,\"#bd3786\"],[0.5555555555555556,\"#d8576b\"],[0.6666666666666666,\"#ed7953\"],[0.7777777777777778,\"#fb9f3a\"],[0.8888888888888888,\"#fdca26\"],[1.0,\"#f0f921\"]]}],\"heatmap\":[{\"type\":\"heatmap\",\"colorbar\":{\"outlinewidth\":0,\"ticks\":\"\"},\"colorscale\":[[0.0,\"#0d0887\"],[0.1111111111111111,\"#46039f\"],[0.2222222222222222,\"#7201a8\"],[0.3333333333333333,\"#9c179e\"],[0.4444444444444444,\"#bd3786\"],[0.5555555555555556,\"#d8576b\"],[0.6666666666666666,\"#ed7953\"],[0.7777777777777778,\"#fb9f3a\"],[0.8888888888888888,\"#fdca26\"],[1.0,\"#f0f921\"]]}],\"heatmapgl\":[{\"type\":\"heatmapgl\",\"colorbar\":{\"outlinewidth\":0,\"ticks\":\"\"},\"colorscale\":[[0.0,\"#0d0887\"],[0.1111111111111111,\"#46039f\"],[0.2222222222222222,\"#7201a8\"],[0.3333333333333333,\"#9c179e\"],[0.4444444444444444,\"#bd3786\"],[0.5555555555555556,\"#d8576b\"],[0.6666666666666666,\"#ed7953\"],[0.7777777777777778,\"#fb9f3a\"],[0.8888888888888888,\"#fdca26\"],[1.0,\"#f0f921\"]]}],\"contourcarpet\":[{\"type\":\"contourcarpet\",\"colorbar\":{\"outlinewidth\":0,\"ticks\":\"\"}}],\"contour\":[{\"type\":\"contour\",\"colorbar\":{\"outlinewidth\":0,\"ticks\":\"\"},\"colorscale\":[[0.0,\"#0d0887\"],[0.1111111111111111,\"#46039f\"],[0.2222222222222222,\"#7201a8\"],[0.3333333333333333,\"#9c179e\"],[0.4444444444444444,\"#bd3786\"],[0.5555555555555556,\"#d8576b\"],[0.6666666666666666,\"#ed7953\"],[0.7777777777777778,\"#fb9f3a\"],[0.8888888888888888,\"#fdca26\"],[1.0,\"#f0f921\"]]}],\"surface\":[{\"type\":\"surface\",\"colorbar\":{\"outlinewidth\":0,\"ticks\":\"\"},\"colorscale\":[[0.0,\"#0d0887\"],[0.1111111111111111,\"#46039f\"],[0.2222222222222222,\"#7201a8\"],[0.3333333333333333,\"#9c179e\"],[0.4444444444444444,\"#bd3786\"],[0.5555555555555556,\"#d8576b\"],[0.6666666666666666,\"#ed7953\"],[0.7777777777777778,\"#fb9f3a\"],[0.8888888888888888,\"#fdca26\"],[1.0,\"#f0f921\"]]}],\"mesh3d\":[{\"type\":\"mesh3d\",\"colorbar\":{\"outlinewidth\":0,\"ticks\":\"\"}}],\"scatter\":[{\"fillpattern\":{\"fillmode\":\"overlay\",\"size\":10,\"solidity\":0.2},\"type\":\"scatter\"}],\"parcoords\":[{\"type\":\"parcoords\",\"line\":{\"colorbar\":{\"outlinewidth\":0,\"ticks\":\"\"}}}],\"scatterpolargl\":[{\"type\":\"scatterpolargl\",\"marker\":{\"colorbar\":{\"outlinewidth\":0,\"ticks\":\"\"}}}],\"bar\":[{\"error_x\":{\"color\":\"#2a3f5f\"},\"error_y\":{\"color\":\"#2a3f5f\"},\"marker\":{\"line\":{\"color\":\"#E5ECF6\",\"width\":0.5},\"pattern\":{\"fillmode\":\"overlay\",\"size\":10,\"solidity\":0.2}},\"type\":\"bar\"}],\"scattergeo\":[{\"type\":\"scattergeo\",\"marker\":{\"colorbar\":{\"outlinewidth\":0,\"ticks\":\"\"}}}],\"scatterpolar\":[{\"type\":\"scatterpolar\",\"marker\":{\"colorbar\":{\"outlinewidth\":0,\"ticks\":\"\"}}}],\"histogram\":[{\"marker\":{\"pattern\":{\"fillmode\":\"overlay\",\"size\":10,\"solidity\":0.2}},\"type\":\"histogram\"}],\"scattergl\":[{\"type\":\"scattergl\",\"marker\":{\"colorbar\":{\"outlinewidth\":0,\"ticks\":\"\"}}}],\"scatter3d\":[{\"type\":\"scatter3d\",\"line\":{\"colorbar\":{\"outlinewidth\":0,\"ticks\":\"\"}},\"marker\":{\"colorbar\":{\"outlinewidth\":0,\"ticks\":\"\"}}}],\"scattermapbox\":[{\"type\":\"scattermapbox\",\"marker\":{\"colorbar\":{\"outlinewidth\":0,\"ticks\":\"\"}}}],\"scatterternary\":[{\"type\":\"scatterternary\",\"marker\":{\"colorbar\":{\"outlinewidth\":0,\"ticks\":\"\"}}}],\"scattercarpet\":[{\"type\":\"scattercarpet\",\"marker\":{\"colorbar\":{\"outlinewidth\":0,\"ticks\":\"\"}}}],\"carpet\":[{\"aaxis\":{\"endlinecolor\":\"#2a3f5f\",\"gridcolor\":\"white\",\"linecolor\":\"white\",\"minorgridcolor\":\"white\",\"startlinecolor\":\"#2a3f5f\"},\"baxis\":{\"endlinecolor\":\"#2a3f5f\",\"gridcolor\":\"white\",\"linecolor\":\"white\",\"minorgridcolor\":\"white\",\"startlinecolor\":\"#2a3f5f\"},\"type\":\"carpet\"}],\"table\":[{\"cells\":{\"fill\":{\"color\":\"#EBF0F8\"},\"line\":{\"color\":\"white\"}},\"header\":{\"fill\":{\"color\":\"#C8D4E3\"},\"line\":{\"color\":\"white\"}},\"type\":\"table\"}],\"barpolar\":[{\"marker\":{\"line\":{\"color\":\"#E5ECF6\",\"width\":0.5},\"pattern\":{\"fillmode\":\"overlay\",\"size\":10,\"solidity\":0.2}},\"type\":\"barpolar\"}],\"pie\":[{\"automargin\":true,\"type\":\"pie\"}]},\"layout\":{\"autotypenumbers\":\"strict\",\"colorway\":[\"#636efa\",\"#EF553B\",\"#00cc96\",\"#ab63fa\",\"#FFA15A\",\"#19d3f3\",\"#FF6692\",\"#B6E880\",\"#FF97FF\",\"#FECB52\"],\"font\":{\"color\":\"#2a3f5f\"},\"hovermode\":\"closest\",\"hoverlabel\":{\"align\":\"left\"},\"paper_bgcolor\":\"white\",\"plot_bgcolor\":\"#E5ECF6\",\"polar\":{\"bgcolor\":\"#E5ECF6\",\"angularaxis\":{\"gridcolor\":\"white\",\"linecolor\":\"white\",\"ticks\":\"\"},\"radialaxis\":{\"gridcolor\":\"white\",\"linecolor\":\"white\",\"ticks\":\"\"}},\"ternary\":{\"bgcolor\":\"#E5ECF6\",\"aaxis\":{\"gridcolor\":\"white\",\"linecolor\":\"white\",\"ticks\":\"\"},\"baxis\":{\"gridcolor\":\"white\",\"linecolor\":\"white\",\"ticks\":\"\"},\"caxis\":{\"gridcolor\":\"white\",\"linecolor\":\"white\",\"ticks\":\"\"}},\"coloraxis\":{\"colorbar\":{\"outlinewidth\":0,\"ticks\":\"\"}},\"colorscale\":{\"sequential\":[[0.0,\"#0d0887\"],[0.1111111111111111,\"#46039f\"],[0.2222222222222222,\"#7201a8\"],[0.3333333333333333,\"#9c179e\"],[0.4444444444444444,\"#bd3786\"],[0.5555555555555556,\"#d8576b\"],[0.6666666666666666,\"#ed7953\"],[0.7777777777777778,\"#fb9f3a\"],[0.8888888888888888,\"#fdca26\"],[1.0,\"#f0f921\"]],\"sequentialminus\":[[0.0,\"#0d0887\"],[0.1111111111111111,\"#46039f\"],[0.2222222222222222,\"#7201a8\"],[0.3333333333333333,\"#9c179e\"],[0.4444444444444444,\"#bd3786\"],[0.5555555555555556,\"#d8576b\"],[0.6666666666666666,\"#ed7953\"],[0.7777777777777778,\"#fb9f3a\"],[0.8888888888888888,\"#fdca26\"],[1.0,\"#f0f921\"]],\"diverging\":[[0,\"#8e0152\"],[0.1,\"#c51b7d\"],[0.2,\"#de77ae\"],[0.3,\"#f1b6da\"],[0.4,\"#fde0ef\"],[0.5,\"#f7f7f7\"],[0.6,\"#e6f5d0\"],[0.7,\"#b8e186\"],[0.8,\"#7fbc41\"],[0.9,\"#4d9221\"],[1,\"#276419\"]]},\"xaxis\":{\"gridcolor\":\"white\",\"linecolor\":\"white\",\"ticks\":\"\",\"title\":{\"standoff\":15},\"zerolinecolor\":\"white\",\"automargin\":true,\"zerolinewidth\":2},\"yaxis\":{\"gridcolor\":\"white\",\"linecolor\":\"white\",\"ticks\":\"\",\"title\":{\"standoff\":15},\"zerolinecolor\":\"white\",\"automargin\":true,\"zerolinewidth\":2},\"scene\":{\"xaxis\":{\"backgroundcolor\":\"#E5ECF6\",\"gridcolor\":\"white\",\"linecolor\":\"white\",\"showbackground\":true,\"ticks\":\"\",\"zerolinecolor\":\"white\",\"gridwidth\":2},\"yaxis\":{\"backgroundcolor\":\"#E5ECF6\",\"gridcolor\":\"white\",\"linecolor\":\"white\",\"showbackground\":true,\"ticks\":\"\",\"zerolinecolor\":\"white\",\"gridwidth\":2},\"zaxis\":{\"backgroundcolor\":\"#E5ECF6\",\"gridcolor\":\"white\",\"linecolor\":\"white\",\"showbackground\":true,\"ticks\":\"\",\"zerolinecolor\":\"white\",\"gridwidth\":2}},\"shapedefaults\":{\"line\":{\"color\":\"#2a3f5f\"}},\"annotationdefaults\":{\"arrowcolor\":\"#2a3f5f\",\"arrowhead\":0,\"arrowwidth\":1},\"geo\":{\"bgcolor\":\"white\",\"landcolor\":\"#E5ECF6\",\"subunitcolor\":\"white\",\"showland\":true,\"showlakes\":true,\"lakecolor\":\"white\"},\"title\":{\"x\":0.05},\"mapbox\":{\"style\":\"light\"}}},\"xaxis\":{\"anchor\":\"y\",\"domain\":[0.0,1.0],\"title\":{\"text\":\"TotalBsmtSF\"}},\"yaxis\":{\"anchor\":\"x\",\"domain\":[0.0,1.0],\"title\":{\"text\":\"1stFlrSF\"}},\"legend\":{\"tracegroupgap\":0},\"title\":{\"text\":\"TotalBsmtSF vs 1stFlrSF (0.8)\"}},                        {\"responsive\": true}                    ).then(function(){\n",
       "                            \n",
       "var gd = document.getElementById('c88256ed-db6c-4e66-8ff8-3a7db7d2c66f');\n",
       "var x = new MutationObserver(function (mutations, observer) {{\n",
       "        var display = window.getComputedStyle(gd).display;\n",
       "        if (!display || display === 'none') {{\n",
       "            console.log([gd, 'removed!']);\n",
       "            Plotly.purge(gd);\n",
       "            observer.disconnect();\n",
       "        }}\n",
       "}});\n",
       "\n",
       "// Listen for the removal of the full notebook cells\n",
       "var notebookContainer = gd.closest('#notebook-container');\n",
       "if (notebookContainer) {{\n",
       "    x.observe(notebookContainer, {childList: true});\n",
       "}}\n",
       "\n",
       "// Listen for the clearing of the current output cell\n",
       "var outputEl = gd.closest('.output');\n",
       "if (outputEl) {{\n",
       "    x.observe(outputEl, {childList: true});\n",
       "}}\n",
       "\n",
       "                        })                };                });            </script>        </div>"
      ]
     },
     "metadata": {},
     "output_type": "display_data"
    }
   ],
   "source": [
    "fig = px.histogram(df, x = 'TotalBsmtSF', y = '1stFlrSF', title=\"TotalBsmtSF vs 1stFlrSF (0.8)\", text_auto=True)\n",
    "fig.show()\n",
    "\n",
    "fig = px.scatter(df, x = 'TotalBsmtSF', y = '1stFlrSF', title=\"TotalBsmtSF vs 1stFlrSF (0.8)\")\n",
    "fig.show()"
   ]
  },
  {
   "cell_type": "markdown",
   "id": "ac014594",
   "metadata": {
    "papermill": {
     "duration": 0.027985,
     "end_time": "2023-12-05T00:01:17.744077",
     "exception": false,
     "start_time": "2023-12-05T00:01:17.716092",
     "status": "completed"
    },
    "tags": []
   },
   "source": [
    "Upon **visual inspection**, a seemingly **linear relationship emerges**; however, it's noteworthy that this **linearity is somewhat influenced by an outlier,** skewing the otherwise apparent linearity. On **closer examination** within the **value range of approximately 500 to 2500,** a semblance of **linearity exists**, albeit **not consistently throughout**. This **inconsistency points** to a **fluctuating linear pattern** within this specific value range."
   ]
  },
  {
   "cell_type": "code",
   "execution_count": 20,
   "id": "64a5455e",
   "metadata": {
    "execution": {
     "iopub.execute_input": "2023-12-05T00:01:17.801353Z",
     "iopub.status.busy": "2023-12-05T00:01:17.800320Z",
     "iopub.status.idle": "2023-12-05T00:01:18.021195Z",
     "shell.execute_reply": "2023-12-05T00:01:18.020206Z"
    },
    "papermill": {
     "duration": 0.252221,
     "end_time": "2023-12-05T00:01:18.023755",
     "exception": false,
     "start_time": "2023-12-05T00:01:17.771534",
     "status": "completed"
    },
    "tags": []
   },
   "outputs": [
    {
     "data": {
      "text/html": [
       "<div>                            <div id=\"d0b24dbb-2281-429c-b90c-6259da1d716a\" class=\"plotly-graph-div\" style=\"height:525px; width:100%;\"></div>            <script type=\"text/javascript\">                require([\"plotly\"], function(Plotly) {                    window.PLOTLYENV=window.PLOTLYENV || {};                                    if (document.getElementById(\"d0b24dbb-2281-429c-b90c-6259da1d716a\")) {                    Plotly.newPlot(                        \"d0b24dbb-2281-429c-b90c-6259da1d716a\",                        [{\"alignmentgroup\":\"True\",\"bingroup\":\"x\",\"hovertemplate\":\"TotRmsAbvGrd=8\\u003cbr\\u003eGrLivArea=%{x}\\u003cbr\\u003ecount=%{y}\\u003cextra\\u003e\\u003c\\u002fextra\\u003e\",\"legendgroup\":\"8\",\"marker\":{\"color\":\"#636efa\",\"pattern\":{\"shape\":\"\"}},\"name\":\"8\",\"offsetgroup\":\"8\",\"orientation\":\"v\",\"showlegend\":true,\"x\":[1710,1774,1452,2034,2223,1605,1768,2142,1535,1456,2157,2035,1993,1968,1947,2161,2060,1920,1656,1726,3112,2229,1696,1436,1328,1954,2267,2392,1960,2110,1668,2291,1604,1511,2192,1939,2121,2022,1919,1716,2000,2243,1944,2036,1959,2730,1922,1621,1505,1928,2466,1856,1797,1184,1812,1620,1680,2078,1344,1602,2630,1440,1573,1908,1728,1935,1969,1850,1456,1820,1911,2398,1724,1838,2285,2094,2046,1674,1430,2042,1904,1915,2008,2153,1790,1750,2448,2097,1774,1812,1456,2554,1698,2031,1801,2256,2640,2098,2365,1836,2084,2013,1688,1539,1949,1712,1393,2217,1535,1796,1509,1636,1484,2002,2127,2236,1905,1971,1728,2060,1440,1632,1958,1894,1484,2019,2612,1734,1940,2030,1742,1680,1664,1803,1733,1556,1658,1964,1959,2210,2020,1576,1820,1876,2514,1456,1660,1845,1752,1902,1490,1948,1768,2058,2110,1788,1824,1250,1824,1970,1664,2526,1630,1923,2792,1632,1656,1861,1456,2358,1716,1920,1980,2601,1668,1661,2097,2633,1762,1584,1513,1593,1848,2201,1792,2090,1792],\"xaxis\":\"x\",\"yaxis\":\"y\",\"type\":\"histogram\"},{\"alignmentgroup\":\"True\",\"bingroup\":\"x\",\"hovertemplate\":\"TotRmsAbvGrd=6\\u003cbr\\u003eGrLivArea=%{x}\\u003cbr\\u003ecount=%{y}\\u003cextra\\u003e\\u003c\\u002fextra\\u003e\",\"legendgroup\":\"6\",\"marker\":{\"color\":\"#EF553B\",\"pattern\":{\"shape\":\"\"}},\"name\":\"6\",\"offsetgroup\":\"6\",\"orientation\":\"v\",\"showlegend\":true,\"x\":[1262,1786,1296,1114,1339,1108,1060,1060,1600,1317,1228,1700,1561,1097,1152,1324,1150,1752,2149,955,1470,1176,1360,1111,1370,1086,1285,1563,1065,1560,1526,1235,1470,1588,960,1225,1610,1226,1047,1092,1348,1053,1296,1385,1501,1080,1710,1232,1355,1707,1362,2082,1217,1224,1431,1279,1310,1100,1092,1212,1392,1236,1552,1302,1194,1414,1440,1217,1872,1306,1640,1382,1212,1316,1113,1632,1314,1468,1003,1558,1152,1541,1406,1501,1641,1432,1472,1163,1719,1192,1056,1358,1215,1040,1684,1577,1478,1626,1869,1453,1595,1200,1167,1142,1352,1574,1344,1394,1431,1691,1269,1125,1479,1144,894,1077,1310,1639,1340,1400,1056,1196,1389,1208,1412,1365,1661,1118,1258,1888,1183,1590,1242,1663,1135,1660,1414,1652,1792,999,1073,1269,1214,1801,1322,1041,1363,1368,1244,1266,1362,1414,1601,1635,1092,1446,1389,996,1647,1692,1216,1477,1320,1573,1582,1556,1375,1494,1040,1032,1120,1054,980,1422,1350,1554,1411,1056,1518,1092,1502,1458,1181,1437,1369,1208,1520,1291,2090,1362,1148,1164,1324,904,960,1479,1232,1146,1144,948,1768,1040,1349,1464,1320,1494,1471,1386,1501,1494,1506,1220,1117,1253,1430,1428,980,1576,1086,1661,1052,1358,1640,1434,1392,1516,1144,1099,1200,1165,1701,1779,1040,1481,1370,1039,1097,1148,1372,1646,1268,1155,864,1505,924,1068,1383,951,1236,902,1063,2057,1015,1092,1229,1414,1316,1126,1500,1144,965,1057,1337,1416,1098,968,1095,1192,1626,1428,1382,999,1266,1576,1500,1050,1442,1077,1208,985,1092,1665,1504,1506,1220,1248,1264,1376,1654,1620,1344,930,1302,1316,1364,1338,894,1154,1048,1426,1740,1096,1459,1251,1498,1092,1040,1200,1314,1324,1134,1194,1302,1442,1008,1601,1040,1012,1252,1020,1167,1466,1811,1437,1265,1314,1258,1118,1261,1472,1212,1382,1779,1630,1074,1283,999,1314,1138,1190,1224,1188,1626,1141,1484,1173,1553,1034,988,1405,1367,1054,1452,1395,1128,1573,1339,1412,1328,1152,1302,1128,1246,1652,1368,1122,1294,1274,1478,774,954,1360,1334,1114,1078,1412,1475,1374,1604,1258,1218,1525,900,1500,1294,1464,1214,1363,1840,1668,1040,1144,1344,1558,1236,1725,913,1188,1346,1140,1221,1256],\"xaxis\":\"x\",\"yaxis\":\"y\",\"type\":\"histogram\"},{\"alignmentgroup\":\"True\",\"bingroup\":\"x\",\"hovertemplate\":\"TotRmsAbvGrd=7\\u003cbr\\u003eGrLivArea=%{x}\\u003cbr\\u003ecount=%{y}\\u003cextra\\u003e\\u003c\\u002fextra\\u003e\",\"legendgroup\":\"7\",\"marker\":{\"color\":\"#00cc96\",\"pattern\":{\"shape\":\"\"}},\"name\":\"7\",\"offsetgroup\":\"7\",\"orientation\":\"v\",\"showlegend\":true,\"x\":[1717,1694,2090,1494,1795,1600,1704,1234,1656,1425,1739,1720,2207,1479,2287,1718,1474,1786,1732,1818,1517,1844,1855,1430,2259,1586,2054,1327,1721,1682,1852,1764,1734,1709,1344,1200,1541,1867,1720,1382,1656,1651,2158,1340,1479,1709,1456,1713,2062,1852,1555,1744,1694,1487,1566,2144,1302,1728,1792,1422,1560,1982,1734,1396,1644,1950,1743,1383,1629,1638,1786,1536,1924,1922,1268,1287,1664,1588,1800,1367,1961,1550,1572,1478,1134,1198,1604,1196,1689,1376,1756,1344,1666,1644,1634,1710,1976,1493,1718,1131,1826,1484,1218,1768,1378,2119,2344,1796,1294,1664,1159,1680,1496,1717,1336,1557,1535,1795,1429,2028,1826,1368,1402,1647,1986,1872,1509,1520,1387,1567,1929,1620,1766,1048,1839,1665,1510,1716,1469,2113,1486,1935,1936,2380,1679,1476,1839,1441,2046,1668,1839,1761,1419,1800,1484,1092,1178,1350,1470,1728,1432,1720,1140,1768,1547,1714,1750,1614,1603,1342,1652,1496,1895,1564,1285,1768,1456,1442,1250,1689,1733,1489,1489,2084,2126,1829,1482,1416,1775,1855,1456,1646,1445,1426,2320,1682,1717,1593,1683,1670,1721,1686,1788,1466,1962,1344,1869,1776,1968,1548,1800,1308,2392,1851,1718,1574,1504,1657,1710,1522,1271,1502,1472,1504,1646,1218,2263,1632,1526,1989,1523,1850,1991,2260,1571,1611,1456,1466,1709,1694,1355,1601,1690,1836,1734,1419,1552,1482,1555,1530,1981,1600,1564,1482,1580,1456,1640,1502,1694,1671,2108,1343,1221,1699,1660,1804,1622,1352,1690,2196,1700,1218,1846,2136,1702,1507,1964,1689,2076,1517,1868,1656,1987,1675,1524,1489,1724,2031,1582,1494,1616,1708,1902,1787,1795,1588,1365,2169,1776,1865,1530,1738,1674,1790,1571,1394,2117,1416,1154,1746,1912,1687,1904,1608,2093,1844,1569,2450,1844,1416,1252,1440,1838,1537,1932,1422,1578,1647,2073],\"xaxis\":\"x\",\"yaxis\":\"y\",\"type\":\"histogram\"},{\"alignmentgroup\":\"True\",\"bingroup\":\"x\",\"hovertemplate\":\"TotRmsAbvGrd=9\\u003cbr\\u003eGrLivArea=%{x}\\u003cbr\\u003ecount=%{y}\\u003cextra\\u003e\\u003c\\u002fextra\\u003e\",\"legendgroup\":\"9\",\"marker\":{\"color\":\"#ab63fa\",\"pattern\":{\"shape\":\"\"}},\"name\":\"9\",\"offsetgroup\":\"9\",\"orientation\":\"v\",\"showlegend\":true,\"x\":[2198,2376,2452,1710,2473,2417,2291,1992,2320,1959,2462,2234,1802,2520,2794,1928,2270,1716,2263,2452,2646,2596,1908,1953,2332,2172,2097,2643,2020,2080,2515,2183,2295,2775,1828,2614,2080,2704,2519,2418,1776,1529,2531,1973,1484,2087,2654,2200,1978,2069,1629,2290,2524,1771,1977,1953,2622,2021,1868,2345,2872,1863,1933,1784,2167,1889,1983,2810,2112,1913,2156,3238,1958,2482,2340],\"xaxis\":\"x\",\"yaxis\":\"y\",\"type\":\"histogram\"},{\"alignmentgroup\":\"True\",\"bingroup\":\"x\",\"hovertemplate\":\"TotRmsAbvGrd=5\\u003cbr\\u003eGrLivArea=%{x}\\u003cbr\\u003ecount=%{y}\\u003cextra\\u003e\\u003c\\u002fextra\\u003e\",\"legendgroup\":\"5\",\"marker\":{\"color\":\"#FFA15A\",\"pattern\":{\"shape\":\"\"}},\"name\":\"5\",\"offsetgroup\":\"5\",\"orientation\":\"v\",\"showlegend\":true,\"x\":[1362,1077,1040,1253,854,1004,900,1297,1057,1328,884,938,816,1842,1158,988,1230,1337,990,964,835,789,1458,1125,1080,1199,754,958,840,1214,864,875,969,1096,1040,1616,1767,968,1525,1252,1593,864,1121,1284,1442,864,990,1248,1498,987,912,987,894,987,1375,1625,1314,1363,816,1548,1262,1575,1250,858,900,1336,894,972,1118,803,958,1111,720,912,987,1319,914,1301,784,882,1034,1276,1056,1028,1644,907,813,1533,1203,864,1040,1277,1072,970,1216,1113,1578,899,912,864,1080,789,605,1509,827,1347,864,768,928,1126,1048,1392,2132,1109,1392,816,838,1473,924,1029,864,1116,981,1094,1053,1392,1180,1136,792,988,923,1539,1137,894,1391,1824,729,1228,1178,971,1742,864,864,1680,1208,1616,1200,912,1337,1026,864,1301,858,912,1204,894,1145,1062,1196,1128,1309,784,1559,987,864,1026,1002,1120,894,910,1131,1040,1090,892,1709,1306,902,1268,1617,925,747,1200,1381,864,768,1229,918,894,1121,1164,1635,1230,1082,1132,882,954,845,1306,990,1103,1240,990,1258,1040,996,1088,950,816,894,960,1005,974,986,1567,1006,924,1298,1111,816,894,1432,1250,923,1224,1124,1652,1130,1572,1624,1441,1224,864,1348,1056,894,912,1211,912,874,1166,1050,1337,935,1357,1040,1659,864,1052,1072,990,948,1352,948,708,796,816,864,872,960,1494,892,1573,987,864,1158,1646,768,833,2127,958,968,1126,864,1072,1078],\"xaxis\":\"x\",\"yaxis\":\"y\",\"type\":\"histogram\"},{\"alignmentgroup\":\"True\",\"bingroup\":\"x\",\"hovertemplate\":\"TotRmsAbvGrd=11\\u003cbr\\u003eGrLivArea=%{x}\\u003cbr\\u003ecount=%{y}\\u003cextra\\u003e\\u003c\\u002fextra\\u003e\",\"legendgroup\":\"11\",\"marker\":{\"color\":\"#19d3f3\",\"pattern\":{\"shape\":\"\"}},\"name\":\"11\",\"offsetgroup\":\"11\",\"orientation\":\"v\",\"showlegend\":true,\"x\":[2324,3222,2978,4676,2713,2504,2715,3140,2138,2610,2364,2872,2868,2828,3447,2372,2290,2555],\"xaxis\":\"x\",\"yaxis\":\"y\",\"type\":\"histogram\"},{\"alignmentgroup\":\"True\",\"bingroup\":\"x\",\"hovertemplate\":\"TotRmsAbvGrd=4\\u003cbr\\u003eGrLivArea=%{x}\\u003cbr\\u003ecount=%{y}\\u003cextra\\u003e\\u003c\\u002fextra\\u003e\",\"legendgroup\":\"4\",\"marker\":{\"color\":\"#FF6692\",\"pattern\":{\"shape\":\"\"}},\"name\":\"4\",\"offsetgroup\":\"4\",\"orientation\":\"v\",\"showlegend\":true,\"x\":[912,520,780,747,845,952,1224,1040,988,1123,1252,882,864,866,882,764,778,864,861,841,1112,752,904,788,1288,672,988,987,904,694,1502,1304,886,720,1218,928,767,825,1069,943,864,860,935,816,848,1200,832,1512,1056,800,796,1102,1073,616,1004,1110,901,773,848,1044,1008,936,1223,1200,1067,858,1224,480,980,858,869,1241,944,691,1022,1360,893,1247,1252,936,833,698,936,952,932,672,864,1524,720,693,1176,1200,848,790,1069,804,952],\"xaxis\":\"x\",\"yaxis\":\"y\",\"type\":\"histogram\"},{\"alignmentgroup\":\"True\",\"bingroup\":\"x\",\"hovertemplate\":\"TotRmsAbvGrd=10\\u003cbr\\u003eGrLivArea=%{x}\\u003cbr\\u003ecount=%{y}\\u003cextra\\u003e\\u003c\\u002fextra\\u003e\",\"legendgroup\":\"10\",\"marker\":{\"color\":\"#B6E880\",\"pattern\":{\"shape\":\"\"}},\"name\":\"10\",\"offsetgroup\":\"10\",\"orientation\":\"v\",\"showlegend\":true,\"x\":[2945,2696,1728,2668,2727,2574,3493,2353,2468,2134,1728,2728,2263,2624,2402,1886,2414,3228,1960,1728,2296,3194,2262,4316,2576,2020,1800,2358,2224,2230,2374,2403,2898,1928,2520,2329,2184,2337,2521,3627,4476,2018,1920,2447,2599,2526,2007],\"xaxis\":\"x\",\"yaxis\":\"y\",\"type\":\"histogram\"},{\"alignmentgroup\":\"True\",\"bingroup\":\"x\",\"hovertemplate\":\"TotRmsAbvGrd=12\\u003cbr\\u003eGrLivArea=%{x}\\u003cbr\\u003ecount=%{y}\\u003cextra\\u003e\\u003c\\u002fextra\\u003e\",\"legendgroup\":\"12\",\"marker\":{\"color\":\"#FF97FF\",\"pattern\":{\"shape\":\"\"}},\"name\":\"12\",\"offsetgroup\":\"12\",\"orientation\":\"v\",\"showlegend\":true,\"x\":[3608,3279,2822,2240,2274,3082,3086,2620,5642,2634,2784],\"xaxis\":\"x\",\"yaxis\":\"y\",\"type\":\"histogram\"},{\"alignmentgroup\":\"True\",\"bingroup\":\"x\",\"hovertemplate\":\"TotRmsAbvGrd=3\\u003cbr\\u003eGrLivArea=%{x}\\u003cbr\\u003ecount=%{y}\\u003cextra\\u003e\\u003c\\u002fextra\\u003e\",\"legendgroup\":\"3\",\"marker\":{\"color\":\"#FECB52\",\"pattern\":{\"shape\":\"\"}},\"name\":\"3\",\"offsetgroup\":\"3\",\"orientation\":\"v\",\"showlegend\":true,\"x\":[848,630,630,630,630,848,848,848,630,848,438,960,912,816,848,848,630],\"xaxis\":\"x\",\"yaxis\":\"y\",\"type\":\"histogram\"},{\"alignmentgroup\":\"True\",\"bingroup\":\"x\",\"hovertemplate\":\"TotRmsAbvGrd=2\\u003cbr\\u003eGrLivArea=%{x}\\u003cbr\\u003ecount=%{y}\\u003cextra\\u003e\\u003c\\u002fextra\\u003e\",\"legendgroup\":\"2\",\"marker\":{\"color\":\"#636efa\",\"pattern\":{\"shape\":\"\"}},\"name\":\"2\",\"offsetgroup\":\"2\",\"orientation\":\"v\",\"showlegend\":true,\"x\":[334],\"xaxis\":\"x\",\"yaxis\":\"y\",\"type\":\"histogram\"},{\"alignmentgroup\":\"True\",\"bingroup\":\"x\",\"hovertemplate\":\"TotRmsAbvGrd=14\\u003cbr\\u003eGrLivArea=%{x}\\u003cbr\\u003ecount=%{y}\\u003cextra\\u003e\\u003c\\u002fextra\\u003e\",\"legendgroup\":\"14\",\"marker\":{\"color\":\"#EF553B\",\"pattern\":{\"shape\":\"\"}},\"name\":\"14\",\"offsetgroup\":\"14\",\"orientation\":\"v\",\"showlegend\":true,\"x\":[3395],\"xaxis\":\"x\",\"yaxis\":\"y\",\"type\":\"histogram\"}],                        {\"template\":{\"data\":{\"histogram2dcontour\":[{\"type\":\"histogram2dcontour\",\"colorbar\":{\"outlinewidth\":0,\"ticks\":\"\"},\"colorscale\":[[0.0,\"#0d0887\"],[0.1111111111111111,\"#46039f\"],[0.2222222222222222,\"#7201a8\"],[0.3333333333333333,\"#9c179e\"],[0.4444444444444444,\"#bd3786\"],[0.5555555555555556,\"#d8576b\"],[0.6666666666666666,\"#ed7953\"],[0.7777777777777778,\"#fb9f3a\"],[0.8888888888888888,\"#fdca26\"],[1.0,\"#f0f921\"]]}],\"choropleth\":[{\"type\":\"choropleth\",\"colorbar\":{\"outlinewidth\":0,\"ticks\":\"\"}}],\"histogram2d\":[{\"type\":\"histogram2d\",\"colorbar\":{\"outlinewidth\":0,\"ticks\":\"\"},\"colorscale\":[[0.0,\"#0d0887\"],[0.1111111111111111,\"#46039f\"],[0.2222222222222222,\"#7201a8\"],[0.3333333333333333,\"#9c179e\"],[0.4444444444444444,\"#bd3786\"],[0.5555555555555556,\"#d8576b\"],[0.6666666666666666,\"#ed7953\"],[0.7777777777777778,\"#fb9f3a\"],[0.8888888888888888,\"#fdca26\"],[1.0,\"#f0f921\"]]}],\"heatmap\":[{\"type\":\"heatmap\",\"colorbar\":{\"outlinewidth\":0,\"ticks\":\"\"},\"colorscale\":[[0.0,\"#0d0887\"],[0.1111111111111111,\"#46039f\"],[0.2222222222222222,\"#7201a8\"],[0.3333333333333333,\"#9c179e\"],[0.4444444444444444,\"#bd3786\"],[0.5555555555555556,\"#d8576b\"],[0.6666666666666666,\"#ed7953\"],[0.7777777777777778,\"#fb9f3a\"],[0.8888888888888888,\"#fdca26\"],[1.0,\"#f0f921\"]]}],\"heatmapgl\":[{\"type\":\"heatmapgl\",\"colorbar\":{\"outlinewidth\":0,\"ticks\":\"\"},\"colorscale\":[[0.0,\"#0d0887\"],[0.1111111111111111,\"#46039f\"],[0.2222222222222222,\"#7201a8\"],[0.3333333333333333,\"#9c179e\"],[0.4444444444444444,\"#bd3786\"],[0.5555555555555556,\"#d8576b\"],[0.6666666666666666,\"#ed7953\"],[0.7777777777777778,\"#fb9f3a\"],[0.8888888888888888,\"#fdca26\"],[1.0,\"#f0f921\"]]}],\"contourcarpet\":[{\"type\":\"contourcarpet\",\"colorbar\":{\"outlinewidth\":0,\"ticks\":\"\"}}],\"contour\":[{\"type\":\"contour\",\"colorbar\":{\"outlinewidth\":0,\"ticks\":\"\"},\"colorscale\":[[0.0,\"#0d0887\"],[0.1111111111111111,\"#46039f\"],[0.2222222222222222,\"#7201a8\"],[0.3333333333333333,\"#9c179e\"],[0.4444444444444444,\"#bd3786\"],[0.5555555555555556,\"#d8576b\"],[0.6666666666666666,\"#ed7953\"],[0.7777777777777778,\"#fb9f3a\"],[0.8888888888888888,\"#fdca26\"],[1.0,\"#f0f921\"]]}],\"surface\":[{\"type\":\"surface\",\"colorbar\":{\"outlinewidth\":0,\"ticks\":\"\"},\"colorscale\":[[0.0,\"#0d0887\"],[0.1111111111111111,\"#46039f\"],[0.2222222222222222,\"#7201a8\"],[0.3333333333333333,\"#9c179e\"],[0.4444444444444444,\"#bd3786\"],[0.5555555555555556,\"#d8576b\"],[0.6666666666666666,\"#ed7953\"],[0.7777777777777778,\"#fb9f3a\"],[0.8888888888888888,\"#fdca26\"],[1.0,\"#f0f921\"]]}],\"mesh3d\":[{\"type\":\"mesh3d\",\"colorbar\":{\"outlinewidth\":0,\"ticks\":\"\"}}],\"scatter\":[{\"fillpattern\":{\"fillmode\":\"overlay\",\"size\":10,\"solidity\":0.2},\"type\":\"scatter\"}],\"parcoords\":[{\"type\":\"parcoords\",\"line\":{\"colorbar\":{\"outlinewidth\":0,\"ticks\":\"\"}}}],\"scatterpolargl\":[{\"type\":\"scatterpolargl\",\"marker\":{\"colorbar\":{\"outlinewidth\":0,\"ticks\":\"\"}}}],\"bar\":[{\"error_x\":{\"color\":\"#2a3f5f\"},\"error_y\":{\"color\":\"#2a3f5f\"},\"marker\":{\"line\":{\"color\":\"#E5ECF6\",\"width\":0.5},\"pattern\":{\"fillmode\":\"overlay\",\"size\":10,\"solidity\":0.2}},\"type\":\"bar\"}],\"scattergeo\":[{\"type\":\"scattergeo\",\"marker\":{\"colorbar\":{\"outlinewidth\":0,\"ticks\":\"\"}}}],\"scatterpolar\":[{\"type\":\"scatterpolar\",\"marker\":{\"colorbar\":{\"outlinewidth\":0,\"ticks\":\"\"}}}],\"histogram\":[{\"marker\":{\"pattern\":{\"fillmode\":\"overlay\",\"size\":10,\"solidity\":0.2}},\"type\":\"histogram\"}],\"scattergl\":[{\"type\":\"scattergl\",\"marker\":{\"colorbar\":{\"outlinewidth\":0,\"ticks\":\"\"}}}],\"scatter3d\":[{\"type\":\"scatter3d\",\"line\":{\"colorbar\":{\"outlinewidth\":0,\"ticks\":\"\"}},\"marker\":{\"colorbar\":{\"outlinewidth\":0,\"ticks\":\"\"}}}],\"scattermapbox\":[{\"type\":\"scattermapbox\",\"marker\":{\"colorbar\":{\"outlinewidth\":0,\"ticks\":\"\"}}}],\"scatterternary\":[{\"type\":\"scatterternary\",\"marker\":{\"colorbar\":{\"outlinewidth\":0,\"ticks\":\"\"}}}],\"scattercarpet\":[{\"type\":\"scattercarpet\",\"marker\":{\"colorbar\":{\"outlinewidth\":0,\"ticks\":\"\"}}}],\"carpet\":[{\"aaxis\":{\"endlinecolor\":\"#2a3f5f\",\"gridcolor\":\"white\",\"linecolor\":\"white\",\"minorgridcolor\":\"white\",\"startlinecolor\":\"#2a3f5f\"},\"baxis\":{\"endlinecolor\":\"#2a3f5f\",\"gridcolor\":\"white\",\"linecolor\":\"white\",\"minorgridcolor\":\"white\",\"startlinecolor\":\"#2a3f5f\"},\"type\":\"carpet\"}],\"table\":[{\"cells\":{\"fill\":{\"color\":\"#EBF0F8\"},\"line\":{\"color\":\"white\"}},\"header\":{\"fill\":{\"color\":\"#C8D4E3\"},\"line\":{\"color\":\"white\"}},\"type\":\"table\"}],\"barpolar\":[{\"marker\":{\"line\":{\"color\":\"#E5ECF6\",\"width\":0.5},\"pattern\":{\"fillmode\":\"overlay\",\"size\":10,\"solidity\":0.2}},\"type\":\"barpolar\"}],\"pie\":[{\"automargin\":true,\"type\":\"pie\"}]},\"layout\":{\"autotypenumbers\":\"strict\",\"colorway\":[\"#636efa\",\"#EF553B\",\"#00cc96\",\"#ab63fa\",\"#FFA15A\",\"#19d3f3\",\"#FF6692\",\"#B6E880\",\"#FF97FF\",\"#FECB52\"],\"font\":{\"color\":\"#2a3f5f\"},\"hovermode\":\"closest\",\"hoverlabel\":{\"align\":\"left\"},\"paper_bgcolor\":\"white\",\"plot_bgcolor\":\"#E5ECF6\",\"polar\":{\"bgcolor\":\"#E5ECF6\",\"angularaxis\":{\"gridcolor\":\"white\",\"linecolor\":\"white\",\"ticks\":\"\"},\"radialaxis\":{\"gridcolor\":\"white\",\"linecolor\":\"white\",\"ticks\":\"\"}},\"ternary\":{\"bgcolor\":\"#E5ECF6\",\"aaxis\":{\"gridcolor\":\"white\",\"linecolor\":\"white\",\"ticks\":\"\"},\"baxis\":{\"gridcolor\":\"white\",\"linecolor\":\"white\",\"ticks\":\"\"},\"caxis\":{\"gridcolor\":\"white\",\"linecolor\":\"white\",\"ticks\":\"\"}},\"coloraxis\":{\"colorbar\":{\"outlinewidth\":0,\"ticks\":\"\"}},\"colorscale\":{\"sequential\":[[0.0,\"#0d0887\"],[0.1111111111111111,\"#46039f\"],[0.2222222222222222,\"#7201a8\"],[0.3333333333333333,\"#9c179e\"],[0.4444444444444444,\"#bd3786\"],[0.5555555555555556,\"#d8576b\"],[0.6666666666666666,\"#ed7953\"],[0.7777777777777778,\"#fb9f3a\"],[0.8888888888888888,\"#fdca26\"],[1.0,\"#f0f921\"]],\"sequentialminus\":[[0.0,\"#0d0887\"],[0.1111111111111111,\"#46039f\"],[0.2222222222222222,\"#7201a8\"],[0.3333333333333333,\"#9c179e\"],[0.4444444444444444,\"#bd3786\"],[0.5555555555555556,\"#d8576b\"],[0.6666666666666666,\"#ed7953\"],[0.7777777777777778,\"#fb9f3a\"],[0.8888888888888888,\"#fdca26\"],[1.0,\"#f0f921\"]],\"diverging\":[[0,\"#8e0152\"],[0.1,\"#c51b7d\"],[0.2,\"#de77ae\"],[0.3,\"#f1b6da\"],[0.4,\"#fde0ef\"],[0.5,\"#f7f7f7\"],[0.6,\"#e6f5d0\"],[0.7,\"#b8e186\"],[0.8,\"#7fbc41\"],[0.9,\"#4d9221\"],[1,\"#276419\"]]},\"xaxis\":{\"gridcolor\":\"white\",\"linecolor\":\"white\",\"ticks\":\"\",\"title\":{\"standoff\":15},\"zerolinecolor\":\"white\",\"automargin\":true,\"zerolinewidth\":2},\"yaxis\":{\"gridcolor\":\"white\",\"linecolor\":\"white\",\"ticks\":\"\",\"title\":{\"standoff\":15},\"zerolinecolor\":\"white\",\"automargin\":true,\"zerolinewidth\":2},\"scene\":{\"xaxis\":{\"backgroundcolor\":\"#E5ECF6\",\"gridcolor\":\"white\",\"linecolor\":\"white\",\"showbackground\":true,\"ticks\":\"\",\"zerolinecolor\":\"white\",\"gridwidth\":2},\"yaxis\":{\"backgroundcolor\":\"#E5ECF6\",\"gridcolor\":\"white\",\"linecolor\":\"white\",\"showbackground\":true,\"ticks\":\"\",\"zerolinecolor\":\"white\",\"gridwidth\":2},\"zaxis\":{\"backgroundcolor\":\"#E5ECF6\",\"gridcolor\":\"white\",\"linecolor\":\"white\",\"showbackground\":true,\"ticks\":\"\",\"zerolinecolor\":\"white\",\"gridwidth\":2}},\"shapedefaults\":{\"line\":{\"color\":\"#2a3f5f\"}},\"annotationdefaults\":{\"arrowcolor\":\"#2a3f5f\",\"arrowhead\":0,\"arrowwidth\":1},\"geo\":{\"bgcolor\":\"white\",\"landcolor\":\"#E5ECF6\",\"subunitcolor\":\"white\",\"showland\":true,\"showlakes\":true,\"lakecolor\":\"white\"},\"title\":{\"x\":0.05},\"mapbox\":{\"style\":\"light\"}}},\"xaxis\":{\"anchor\":\"y\",\"domain\":[0.0,1.0],\"title\":{\"text\":\"GrLivArea\"}},\"yaxis\":{\"anchor\":\"x\",\"domain\":[0.0,1.0],\"title\":{\"text\":\"count\"}},\"legend\":{\"title\":{\"text\":\"TotRmsAbvGrd\"},\"tracegroupgap\":0},\"title\":{\"text\":\"TotRmsAbvGrd vs GrLivArea (0.8)\"},\"barmode\":\"relative\"},                        {\"responsive\": true}                    ).then(function(){\n",
       "                            \n",
       "var gd = document.getElementById('d0b24dbb-2281-429c-b90c-6259da1d716a');\n",
       "var x = new MutationObserver(function (mutations, observer) {{\n",
       "        var display = window.getComputedStyle(gd).display;\n",
       "        if (!display || display === 'none') {{\n",
       "            console.log([gd, 'removed!']);\n",
       "            Plotly.purge(gd);\n",
       "            observer.disconnect();\n",
       "        }}\n",
       "}});\n",
       "\n",
       "// Listen for the removal of the full notebook cells\n",
       "var notebookContainer = gd.closest('#notebook-container');\n",
       "if (notebookContainer) {{\n",
       "    x.observe(notebookContainer, {childList: true});\n",
       "}}\n",
       "\n",
       "// Listen for the clearing of the current output cell\n",
       "var outputEl = gd.closest('.output');\n",
       "if (outputEl) {{\n",
       "    x.observe(outputEl, {childList: true});\n",
       "}}\n",
       "\n",
       "                        })                };                });            </script>        </div>"
      ]
     },
     "metadata": {},
     "output_type": "display_data"
    },
    {
     "data": {
      "text/html": [
       "<div>                            <div id=\"51b91430-cccf-4889-b227-6ef9843da79a\" class=\"plotly-graph-div\" style=\"height:525px; width:100%;\"></div>            <script type=\"text/javascript\">                require([\"plotly\"], function(Plotly) {                    window.PLOTLYENV=window.PLOTLYENV || {};                                    if (document.getElementById(\"51b91430-cccf-4889-b227-6ef9843da79a\")) {                    Plotly.newPlot(                        \"51b91430-cccf-4889-b227-6ef9843da79a\",                        [{\"alignmentgroup\":\"True\",\"hovertemplate\":\"TotRmsAbvGrd=%{x}\\u003cbr\\u003eGrLivArea=%{y}\\u003cextra\\u003e\\u003c\\u002fextra\\u003e\",\"legendgroup\":\"8\",\"marker\":{\"color\":\"#636efa\"},\"name\":\"8\",\"notched\":false,\"offsetgroup\":\"8\",\"orientation\":\"v\",\"showlegend\":true,\"x\":[8,8,8,8,8,8,8,8,8,8,8,8,8,8,8,8,8,8,8,8,8,8,8,8,8,8,8,8,8,8,8,8,8,8,8,8,8,8,8,8,8,8,8,8,8,8,8,8,8,8,8,8,8,8,8,8,8,8,8,8,8,8,8,8,8,8,8,8,8,8,8,8,8,8,8,8,8,8,8,8,8,8,8,8,8,8,8,8,8,8,8,8,8,8,8,8,8,8,8,8,8,8,8,8,8,8,8,8,8,8,8,8,8,8,8,8,8,8,8,8,8,8,8,8,8,8,8,8,8,8,8,8,8,8,8,8,8,8,8,8,8,8,8,8,8,8,8,8,8,8,8,8,8,8,8,8,8,8,8,8,8,8,8,8,8,8,8,8,8,8,8,8,8,8,8,8,8,8,8,8,8,8,8,8,8,8,8],\"x0\":\" \",\"xaxis\":\"x\",\"y\":[1710,1774,1452,2034,2223,1605,1768,2142,1535,1456,2157,2035,1993,1968,1947,2161,2060,1920,1656,1726,3112,2229,1696,1436,1328,1954,2267,2392,1960,2110,1668,2291,1604,1511,2192,1939,2121,2022,1919,1716,2000,2243,1944,2036,1959,2730,1922,1621,1505,1928,2466,1856,1797,1184,1812,1620,1680,2078,1344,1602,2630,1440,1573,1908,1728,1935,1969,1850,1456,1820,1911,2398,1724,1838,2285,2094,2046,1674,1430,2042,1904,1915,2008,2153,1790,1750,2448,2097,1774,1812,1456,2554,1698,2031,1801,2256,2640,2098,2365,1836,2084,2013,1688,1539,1949,1712,1393,2217,1535,1796,1509,1636,1484,2002,2127,2236,1905,1971,1728,2060,1440,1632,1958,1894,1484,2019,2612,1734,1940,2030,1742,1680,1664,1803,1733,1556,1658,1964,1959,2210,2020,1576,1820,1876,2514,1456,1660,1845,1752,1902,1490,1948,1768,2058,2110,1788,1824,1250,1824,1970,1664,2526,1630,1923,2792,1632,1656,1861,1456,2358,1716,1920,1980,2601,1668,1661,2097,2633,1762,1584,1513,1593,1848,2201,1792,2090,1792],\"y0\":\" \",\"yaxis\":\"y\",\"type\":\"box\"},{\"alignmentgroup\":\"True\",\"hovertemplate\":\"TotRmsAbvGrd=%{x}\\u003cbr\\u003eGrLivArea=%{y}\\u003cextra\\u003e\\u003c\\u002fextra\\u003e\",\"legendgroup\":\"6\",\"marker\":{\"color\":\"#EF553B\"},\"name\":\"6\",\"notched\":false,\"offsetgroup\":\"6\",\"orientation\":\"v\",\"showlegend\":true,\"x\":[6,6,6,6,6,6,6,6,6,6,6,6,6,6,6,6,6,6,6,6,6,6,6,6,6,6,6,6,6,6,6,6,6,6,6,6,6,6,6,6,6,6,6,6,6,6,6,6,6,6,6,6,6,6,6,6,6,6,6,6,6,6,6,6,6,6,6,6,6,6,6,6,6,6,6,6,6,6,6,6,6,6,6,6,6,6,6,6,6,6,6,6,6,6,6,6,6,6,6,6,6,6,6,6,6,6,6,6,6,6,6,6,6,6,6,6,6,6,6,6,6,6,6,6,6,6,6,6,6,6,6,6,6,6,6,6,6,6,6,6,6,6,6,6,6,6,6,6,6,6,6,6,6,6,6,6,6,6,6,6,6,6,6,6,6,6,6,6,6,6,6,6,6,6,6,6,6,6,6,6,6,6,6,6,6,6,6,6,6,6,6,6,6,6,6,6,6,6,6,6,6,6,6,6,6,6,6,6,6,6,6,6,6,6,6,6,6,6,6,6,6,6,6,6,6,6,6,6,6,6,6,6,6,6,6,6,6,6,6,6,6,6,6,6,6,6,6,6,6,6,6,6,6,6,6,6,6,6,6,6,6,6,6,6,6,6,6,6,6,6,6,6,6,6,6,6,6,6,6,6,6,6,6,6,6,6,6,6,6,6,6,6,6,6,6,6,6,6,6,6,6,6,6,6,6,6,6,6,6,6,6,6,6,6,6,6,6,6,6,6,6,6,6,6,6,6,6,6,6,6,6,6,6,6,6,6,6,6,6,6,6,6,6,6,6,6,6,6,6,6,6,6,6,6,6,6,6,6,6,6,6,6,6,6,6,6,6,6,6,6,6,6,6,6,6,6,6,6,6,6,6,6,6,6,6,6,6,6,6,6,6,6,6,6,6,6,6,6,6,6,6,6],\"x0\":\" \",\"xaxis\":\"x\",\"y\":[1262,1786,1296,1114,1339,1108,1060,1060,1600,1317,1228,1700,1561,1097,1152,1324,1150,1752,2149,955,1470,1176,1360,1111,1370,1086,1285,1563,1065,1560,1526,1235,1470,1588,960,1225,1610,1226,1047,1092,1348,1053,1296,1385,1501,1080,1710,1232,1355,1707,1362,2082,1217,1224,1431,1279,1310,1100,1092,1212,1392,1236,1552,1302,1194,1414,1440,1217,1872,1306,1640,1382,1212,1316,1113,1632,1314,1468,1003,1558,1152,1541,1406,1501,1641,1432,1472,1163,1719,1192,1056,1358,1215,1040,1684,1577,1478,1626,1869,1453,1595,1200,1167,1142,1352,1574,1344,1394,1431,1691,1269,1125,1479,1144,894,1077,1310,1639,1340,1400,1056,1196,1389,1208,1412,1365,1661,1118,1258,1888,1183,1590,1242,1663,1135,1660,1414,1652,1792,999,1073,1269,1214,1801,1322,1041,1363,1368,1244,1266,1362,1414,1601,1635,1092,1446,1389,996,1647,1692,1216,1477,1320,1573,1582,1556,1375,1494,1040,1032,1120,1054,980,1422,1350,1554,1411,1056,1518,1092,1502,1458,1181,1437,1369,1208,1520,1291,2090,1362,1148,1164,1324,904,960,1479,1232,1146,1144,948,1768,1040,1349,1464,1320,1494,1471,1386,1501,1494,1506,1220,1117,1253,1430,1428,980,1576,1086,1661,1052,1358,1640,1434,1392,1516,1144,1099,1200,1165,1701,1779,1040,1481,1370,1039,1097,1148,1372,1646,1268,1155,864,1505,924,1068,1383,951,1236,902,1063,2057,1015,1092,1229,1414,1316,1126,1500,1144,965,1057,1337,1416,1098,968,1095,1192,1626,1428,1382,999,1266,1576,1500,1050,1442,1077,1208,985,1092,1665,1504,1506,1220,1248,1264,1376,1654,1620,1344,930,1302,1316,1364,1338,894,1154,1048,1426,1740,1096,1459,1251,1498,1092,1040,1200,1314,1324,1134,1194,1302,1442,1008,1601,1040,1012,1252,1020,1167,1466,1811,1437,1265,1314,1258,1118,1261,1472,1212,1382,1779,1630,1074,1283,999,1314,1138,1190,1224,1188,1626,1141,1484,1173,1553,1034,988,1405,1367,1054,1452,1395,1128,1573,1339,1412,1328,1152,1302,1128,1246,1652,1368,1122,1294,1274,1478,774,954,1360,1334,1114,1078,1412,1475,1374,1604,1258,1218,1525,900,1500,1294,1464,1214,1363,1840,1668,1040,1144,1344,1558,1236,1725,913,1188,1346,1140,1221,1256],\"y0\":\" \",\"yaxis\":\"y\",\"type\":\"box\"},{\"alignmentgroup\":\"True\",\"hovertemplate\":\"TotRmsAbvGrd=%{x}\\u003cbr\\u003eGrLivArea=%{y}\\u003cextra\\u003e\\u003c\\u002fextra\\u003e\",\"legendgroup\":\"7\",\"marker\":{\"color\":\"#00cc96\"},\"name\":\"7\",\"notched\":false,\"offsetgroup\":\"7\",\"orientation\":\"v\",\"showlegend\":true,\"x\":[7,7,7,7,7,7,7,7,7,7,7,7,7,7,7,7,7,7,7,7,7,7,7,7,7,7,7,7,7,7,7,7,7,7,7,7,7,7,7,7,7,7,7,7,7,7,7,7,7,7,7,7,7,7,7,7,7,7,7,7,7,7,7,7,7,7,7,7,7,7,7,7,7,7,7,7,7,7,7,7,7,7,7,7,7,7,7,7,7,7,7,7,7,7,7,7,7,7,7,7,7,7,7,7,7,7,7,7,7,7,7,7,7,7,7,7,7,7,7,7,7,7,7,7,7,7,7,7,7,7,7,7,7,7,7,7,7,7,7,7,7,7,7,7,7,7,7,7,7,7,7,7,7,7,7,7,7,7,7,7,7,7,7,7,7,7,7,7,7,7,7,7,7,7,7,7,7,7,7,7,7,7,7,7,7,7,7,7,7,7,7,7,7,7,7,7,7,7,7,7,7,7,7,7,7,7,7,7,7,7,7,7,7,7,7,7,7,7,7,7,7,7,7,7,7,7,7,7,7,7,7,7,7,7,7,7,7,7,7,7,7,7,7,7,7,7,7,7,7,7,7,7,7,7,7,7,7,7,7,7,7,7,7,7,7,7,7,7,7,7,7,7,7,7,7,7,7,7,7,7,7,7,7,7,7,7,7,7,7,7,7,7,7,7,7,7,7,7,7,7,7,7,7,7,7,7,7,7,7,7,7,7,7,7,7,7,7,7,7,7,7,7,7,7,7,7,7,7,7],\"x0\":\" \",\"xaxis\":\"x\",\"y\":[1717,1694,2090,1494,1795,1600,1704,1234,1656,1425,1739,1720,2207,1479,2287,1718,1474,1786,1732,1818,1517,1844,1855,1430,2259,1586,2054,1327,1721,1682,1852,1764,1734,1709,1344,1200,1541,1867,1720,1382,1656,1651,2158,1340,1479,1709,1456,1713,2062,1852,1555,1744,1694,1487,1566,2144,1302,1728,1792,1422,1560,1982,1734,1396,1644,1950,1743,1383,1629,1638,1786,1536,1924,1922,1268,1287,1664,1588,1800,1367,1961,1550,1572,1478,1134,1198,1604,1196,1689,1376,1756,1344,1666,1644,1634,1710,1976,1493,1718,1131,1826,1484,1218,1768,1378,2119,2344,1796,1294,1664,1159,1680,1496,1717,1336,1557,1535,1795,1429,2028,1826,1368,1402,1647,1986,1872,1509,1520,1387,1567,1929,1620,1766,1048,1839,1665,1510,1716,1469,2113,1486,1935,1936,2380,1679,1476,1839,1441,2046,1668,1839,1761,1419,1800,1484,1092,1178,1350,1470,1728,1432,1720,1140,1768,1547,1714,1750,1614,1603,1342,1652,1496,1895,1564,1285,1768,1456,1442,1250,1689,1733,1489,1489,2084,2126,1829,1482,1416,1775,1855,1456,1646,1445,1426,2320,1682,1717,1593,1683,1670,1721,1686,1788,1466,1962,1344,1869,1776,1968,1548,1800,1308,2392,1851,1718,1574,1504,1657,1710,1522,1271,1502,1472,1504,1646,1218,2263,1632,1526,1989,1523,1850,1991,2260,1571,1611,1456,1466,1709,1694,1355,1601,1690,1836,1734,1419,1552,1482,1555,1530,1981,1600,1564,1482,1580,1456,1640,1502,1694,1671,2108,1343,1221,1699,1660,1804,1622,1352,1690,2196,1700,1218,1846,2136,1702,1507,1964,1689,2076,1517,1868,1656,1987,1675,1524,1489,1724,2031,1582,1494,1616,1708,1902,1787,1795,1588,1365,2169,1776,1865,1530,1738,1674,1790,1571,1394,2117,1416,1154,1746,1912,1687,1904,1608,2093,1844,1569,2450,1844,1416,1252,1440,1838,1537,1932,1422,1578,1647,2073],\"y0\":\" \",\"yaxis\":\"y\",\"type\":\"box\"},{\"alignmentgroup\":\"True\",\"hovertemplate\":\"TotRmsAbvGrd=%{x}\\u003cbr\\u003eGrLivArea=%{y}\\u003cextra\\u003e\\u003c\\u002fextra\\u003e\",\"legendgroup\":\"9\",\"marker\":{\"color\":\"#ab63fa\"},\"name\":\"9\",\"notched\":false,\"offsetgroup\":\"9\",\"orientation\":\"v\",\"showlegend\":true,\"x\":[9,9,9,9,9,9,9,9,9,9,9,9,9,9,9,9,9,9,9,9,9,9,9,9,9,9,9,9,9,9,9,9,9,9,9,9,9,9,9,9,9,9,9,9,9,9,9,9,9,9,9,9,9,9,9,9,9,9,9,9,9,9,9,9,9,9,9,9,9,9,9,9,9,9,9],\"x0\":\" \",\"xaxis\":\"x\",\"y\":[2198,2376,2452,1710,2473,2417,2291,1992,2320,1959,2462,2234,1802,2520,2794,1928,2270,1716,2263,2452,2646,2596,1908,1953,2332,2172,2097,2643,2020,2080,2515,2183,2295,2775,1828,2614,2080,2704,2519,2418,1776,1529,2531,1973,1484,2087,2654,2200,1978,2069,1629,2290,2524,1771,1977,1953,2622,2021,1868,2345,2872,1863,1933,1784,2167,1889,1983,2810,2112,1913,2156,3238,1958,2482,2340],\"y0\":\" \",\"yaxis\":\"y\",\"type\":\"box\"},{\"alignmentgroup\":\"True\",\"hovertemplate\":\"TotRmsAbvGrd=%{x}\\u003cbr\\u003eGrLivArea=%{y}\\u003cextra\\u003e\\u003c\\u002fextra\\u003e\",\"legendgroup\":\"5\",\"marker\":{\"color\":\"#FFA15A\"},\"name\":\"5\",\"notched\":false,\"offsetgroup\":\"5\",\"orientation\":\"v\",\"showlegend\":true,\"x\":[5,5,5,5,5,5,5,5,5,5,5,5,5,5,5,5,5,5,5,5,5,5,5,5,5,5,5,5,5,5,5,5,5,5,5,5,5,5,5,5,5,5,5,5,5,5,5,5,5,5,5,5,5,5,5,5,5,5,5,5,5,5,5,5,5,5,5,5,5,5,5,5,5,5,5,5,5,5,5,5,5,5,5,5,5,5,5,5,5,5,5,5,5,5,5,5,5,5,5,5,5,5,5,5,5,5,5,5,5,5,5,5,5,5,5,5,5,5,5,5,5,5,5,5,5,5,5,5,5,5,5,5,5,5,5,5,5,5,5,5,5,5,5,5,5,5,5,5,5,5,5,5,5,5,5,5,5,5,5,5,5,5,5,5,5,5,5,5,5,5,5,5,5,5,5,5,5,5,5,5,5,5,5,5,5,5,5,5,5,5,5,5,5,5,5,5,5,5,5,5,5,5,5,5,5,5,5,5,5,5,5,5,5,5,5,5,5,5,5,5,5,5,5,5,5,5,5,5,5,5,5,5,5,5,5,5,5,5,5,5,5,5,5,5,5,5,5,5,5,5,5,5,5,5,5,5,5,5,5,5,5,5,5,5,5,5,5,5,5,5,5,5,5,5,5],\"x0\":\" \",\"xaxis\":\"x\",\"y\":[1362,1077,1040,1253,854,1004,900,1297,1057,1328,884,938,816,1842,1158,988,1230,1337,990,964,835,789,1458,1125,1080,1199,754,958,840,1214,864,875,969,1096,1040,1616,1767,968,1525,1252,1593,864,1121,1284,1442,864,990,1248,1498,987,912,987,894,987,1375,1625,1314,1363,816,1548,1262,1575,1250,858,900,1336,894,972,1118,803,958,1111,720,912,987,1319,914,1301,784,882,1034,1276,1056,1028,1644,907,813,1533,1203,864,1040,1277,1072,970,1216,1113,1578,899,912,864,1080,789,605,1509,827,1347,864,768,928,1126,1048,1392,2132,1109,1392,816,838,1473,924,1029,864,1116,981,1094,1053,1392,1180,1136,792,988,923,1539,1137,894,1391,1824,729,1228,1178,971,1742,864,864,1680,1208,1616,1200,912,1337,1026,864,1301,858,912,1204,894,1145,1062,1196,1128,1309,784,1559,987,864,1026,1002,1120,894,910,1131,1040,1090,892,1709,1306,902,1268,1617,925,747,1200,1381,864,768,1229,918,894,1121,1164,1635,1230,1082,1132,882,954,845,1306,990,1103,1240,990,1258,1040,996,1088,950,816,894,960,1005,974,986,1567,1006,924,1298,1111,816,894,1432,1250,923,1224,1124,1652,1130,1572,1624,1441,1224,864,1348,1056,894,912,1211,912,874,1166,1050,1337,935,1357,1040,1659,864,1052,1072,990,948,1352,948,708,796,816,864,872,960,1494,892,1573,987,864,1158,1646,768,833,2127,958,968,1126,864,1072,1078],\"y0\":\" \",\"yaxis\":\"y\",\"type\":\"box\"},{\"alignmentgroup\":\"True\",\"hovertemplate\":\"TotRmsAbvGrd=%{x}\\u003cbr\\u003eGrLivArea=%{y}\\u003cextra\\u003e\\u003c\\u002fextra\\u003e\",\"legendgroup\":\"11\",\"marker\":{\"color\":\"#19d3f3\"},\"name\":\"11\",\"notched\":false,\"offsetgroup\":\"11\",\"orientation\":\"v\",\"showlegend\":true,\"x\":[11,11,11,11,11,11,11,11,11,11,11,11,11,11,11,11,11,11],\"x0\":\" \",\"xaxis\":\"x\",\"y\":[2324,3222,2978,4676,2713,2504,2715,3140,2138,2610,2364,2872,2868,2828,3447,2372,2290,2555],\"y0\":\" \",\"yaxis\":\"y\",\"type\":\"box\"},{\"alignmentgroup\":\"True\",\"hovertemplate\":\"TotRmsAbvGrd=%{x}\\u003cbr\\u003eGrLivArea=%{y}\\u003cextra\\u003e\\u003c\\u002fextra\\u003e\",\"legendgroup\":\"4\",\"marker\":{\"color\":\"#FF6692\"},\"name\":\"4\",\"notched\":false,\"offsetgroup\":\"4\",\"orientation\":\"v\",\"showlegend\":true,\"x\":[4,4,4,4,4,4,4,4,4,4,4,4,4,4,4,4,4,4,4,4,4,4,4,4,4,4,4,4,4,4,4,4,4,4,4,4,4,4,4,4,4,4,4,4,4,4,4,4,4,4,4,4,4,4,4,4,4,4,4,4,4,4,4,4,4,4,4,4,4,4,4,4,4,4,4,4,4,4,4,4,4,4,4,4,4,4,4,4,4,4,4,4,4,4,4,4,4],\"x0\":\" \",\"xaxis\":\"x\",\"y\":[912,520,780,747,845,952,1224,1040,988,1123,1252,882,864,866,882,764,778,864,861,841,1112,752,904,788,1288,672,988,987,904,694,1502,1304,886,720,1218,928,767,825,1069,943,864,860,935,816,848,1200,832,1512,1056,800,796,1102,1073,616,1004,1110,901,773,848,1044,1008,936,1223,1200,1067,858,1224,480,980,858,869,1241,944,691,1022,1360,893,1247,1252,936,833,698,936,952,932,672,864,1524,720,693,1176,1200,848,790,1069,804,952],\"y0\":\" \",\"yaxis\":\"y\",\"type\":\"box\"},{\"alignmentgroup\":\"True\",\"hovertemplate\":\"TotRmsAbvGrd=%{x}\\u003cbr\\u003eGrLivArea=%{y}\\u003cextra\\u003e\\u003c\\u002fextra\\u003e\",\"legendgroup\":\"10\",\"marker\":{\"color\":\"#B6E880\"},\"name\":\"10\",\"notched\":false,\"offsetgroup\":\"10\",\"orientation\":\"v\",\"showlegend\":true,\"x\":[10,10,10,10,10,10,10,10,10,10,10,10,10,10,10,10,10,10,10,10,10,10,10,10,10,10,10,10,10,10,10,10,10,10,10,10,10,10,10,10,10,10,10,10,10,10,10],\"x0\":\" \",\"xaxis\":\"x\",\"y\":[2945,2696,1728,2668,2727,2574,3493,2353,2468,2134,1728,2728,2263,2624,2402,1886,2414,3228,1960,1728,2296,3194,2262,4316,2576,2020,1800,2358,2224,2230,2374,2403,2898,1928,2520,2329,2184,2337,2521,3627,4476,2018,1920,2447,2599,2526,2007],\"y0\":\" \",\"yaxis\":\"y\",\"type\":\"box\"},{\"alignmentgroup\":\"True\",\"hovertemplate\":\"TotRmsAbvGrd=%{x}\\u003cbr\\u003eGrLivArea=%{y}\\u003cextra\\u003e\\u003c\\u002fextra\\u003e\",\"legendgroup\":\"12\",\"marker\":{\"color\":\"#FF97FF\"},\"name\":\"12\",\"notched\":false,\"offsetgroup\":\"12\",\"orientation\":\"v\",\"showlegend\":true,\"x\":[12,12,12,12,12,12,12,12,12,12,12],\"x0\":\" \",\"xaxis\":\"x\",\"y\":[3608,3279,2822,2240,2274,3082,3086,2620,5642,2634,2784],\"y0\":\" \",\"yaxis\":\"y\",\"type\":\"box\"},{\"alignmentgroup\":\"True\",\"hovertemplate\":\"TotRmsAbvGrd=%{x}\\u003cbr\\u003eGrLivArea=%{y}\\u003cextra\\u003e\\u003c\\u002fextra\\u003e\",\"legendgroup\":\"3\",\"marker\":{\"color\":\"#FECB52\"},\"name\":\"3\",\"notched\":false,\"offsetgroup\":\"3\",\"orientation\":\"v\",\"showlegend\":true,\"x\":[3,3,3,3,3,3,3,3,3,3,3,3,3,3,3,3,3],\"x0\":\" \",\"xaxis\":\"x\",\"y\":[848,630,630,630,630,848,848,848,630,848,438,960,912,816,848,848,630],\"y0\":\" \",\"yaxis\":\"y\",\"type\":\"box\"},{\"alignmentgroup\":\"True\",\"hovertemplate\":\"TotRmsAbvGrd=%{x}\\u003cbr\\u003eGrLivArea=%{y}\\u003cextra\\u003e\\u003c\\u002fextra\\u003e\",\"legendgroup\":\"2\",\"marker\":{\"color\":\"#636efa\"},\"name\":\"2\",\"notched\":false,\"offsetgroup\":\"2\",\"orientation\":\"v\",\"showlegend\":true,\"x\":[2],\"x0\":\" \",\"xaxis\":\"x\",\"y\":[334],\"y0\":\" \",\"yaxis\":\"y\",\"type\":\"box\"},{\"alignmentgroup\":\"True\",\"hovertemplate\":\"TotRmsAbvGrd=%{x}\\u003cbr\\u003eGrLivArea=%{y}\\u003cextra\\u003e\\u003c\\u002fextra\\u003e\",\"legendgroup\":\"14\",\"marker\":{\"color\":\"#EF553B\"},\"name\":\"14\",\"notched\":false,\"offsetgroup\":\"14\",\"orientation\":\"v\",\"showlegend\":true,\"x\":[14],\"x0\":\" \",\"xaxis\":\"x\",\"y\":[3395],\"y0\":\" \",\"yaxis\":\"y\",\"type\":\"box\"}],                        {\"template\":{\"data\":{\"histogram2dcontour\":[{\"type\":\"histogram2dcontour\",\"colorbar\":{\"outlinewidth\":0,\"ticks\":\"\"},\"colorscale\":[[0.0,\"#0d0887\"],[0.1111111111111111,\"#46039f\"],[0.2222222222222222,\"#7201a8\"],[0.3333333333333333,\"#9c179e\"],[0.4444444444444444,\"#bd3786\"],[0.5555555555555556,\"#d8576b\"],[0.6666666666666666,\"#ed7953\"],[0.7777777777777778,\"#fb9f3a\"],[0.8888888888888888,\"#fdca26\"],[1.0,\"#f0f921\"]]}],\"choropleth\":[{\"type\":\"choropleth\",\"colorbar\":{\"outlinewidth\":0,\"ticks\":\"\"}}],\"histogram2d\":[{\"type\":\"histogram2d\",\"colorbar\":{\"outlinewidth\":0,\"ticks\":\"\"},\"colorscale\":[[0.0,\"#0d0887\"],[0.1111111111111111,\"#46039f\"],[0.2222222222222222,\"#7201a8\"],[0.3333333333333333,\"#9c179e\"],[0.4444444444444444,\"#bd3786\"],[0.5555555555555556,\"#d8576b\"],[0.6666666666666666,\"#ed7953\"],[0.7777777777777778,\"#fb9f3a\"],[0.8888888888888888,\"#fdca26\"],[1.0,\"#f0f921\"]]}],\"heatmap\":[{\"type\":\"heatmap\",\"colorbar\":{\"outlinewidth\":0,\"ticks\":\"\"},\"colorscale\":[[0.0,\"#0d0887\"],[0.1111111111111111,\"#46039f\"],[0.2222222222222222,\"#7201a8\"],[0.3333333333333333,\"#9c179e\"],[0.4444444444444444,\"#bd3786\"],[0.5555555555555556,\"#d8576b\"],[0.6666666666666666,\"#ed7953\"],[0.7777777777777778,\"#fb9f3a\"],[0.8888888888888888,\"#fdca26\"],[1.0,\"#f0f921\"]]}],\"heatmapgl\":[{\"type\":\"heatmapgl\",\"colorbar\":{\"outlinewidth\":0,\"ticks\":\"\"},\"colorscale\":[[0.0,\"#0d0887\"],[0.1111111111111111,\"#46039f\"],[0.2222222222222222,\"#7201a8\"],[0.3333333333333333,\"#9c179e\"],[0.4444444444444444,\"#bd3786\"],[0.5555555555555556,\"#d8576b\"],[0.6666666666666666,\"#ed7953\"],[0.7777777777777778,\"#fb9f3a\"],[0.8888888888888888,\"#fdca26\"],[1.0,\"#f0f921\"]]}],\"contourcarpet\":[{\"type\":\"contourcarpet\",\"colorbar\":{\"outlinewidth\":0,\"ticks\":\"\"}}],\"contour\":[{\"type\":\"contour\",\"colorbar\":{\"outlinewidth\":0,\"ticks\":\"\"},\"colorscale\":[[0.0,\"#0d0887\"],[0.1111111111111111,\"#46039f\"],[0.2222222222222222,\"#7201a8\"],[0.3333333333333333,\"#9c179e\"],[0.4444444444444444,\"#bd3786\"],[0.5555555555555556,\"#d8576b\"],[0.6666666666666666,\"#ed7953\"],[0.7777777777777778,\"#fb9f3a\"],[0.8888888888888888,\"#fdca26\"],[1.0,\"#f0f921\"]]}],\"surface\":[{\"type\":\"surface\",\"colorbar\":{\"outlinewidth\":0,\"ticks\":\"\"},\"colorscale\":[[0.0,\"#0d0887\"],[0.1111111111111111,\"#46039f\"],[0.2222222222222222,\"#7201a8\"],[0.3333333333333333,\"#9c179e\"],[0.4444444444444444,\"#bd3786\"],[0.5555555555555556,\"#d8576b\"],[0.6666666666666666,\"#ed7953\"],[0.7777777777777778,\"#fb9f3a\"],[0.8888888888888888,\"#fdca26\"],[1.0,\"#f0f921\"]]}],\"mesh3d\":[{\"type\":\"mesh3d\",\"colorbar\":{\"outlinewidth\":0,\"ticks\":\"\"}}],\"scatter\":[{\"fillpattern\":{\"fillmode\":\"overlay\",\"size\":10,\"solidity\":0.2},\"type\":\"scatter\"}],\"parcoords\":[{\"type\":\"parcoords\",\"line\":{\"colorbar\":{\"outlinewidth\":0,\"ticks\":\"\"}}}],\"scatterpolargl\":[{\"type\":\"scatterpolargl\",\"marker\":{\"colorbar\":{\"outlinewidth\":0,\"ticks\":\"\"}}}],\"bar\":[{\"error_x\":{\"color\":\"#2a3f5f\"},\"error_y\":{\"color\":\"#2a3f5f\"},\"marker\":{\"line\":{\"color\":\"#E5ECF6\",\"width\":0.5},\"pattern\":{\"fillmode\":\"overlay\",\"size\":10,\"solidity\":0.2}},\"type\":\"bar\"}],\"scattergeo\":[{\"type\":\"scattergeo\",\"marker\":{\"colorbar\":{\"outlinewidth\":0,\"ticks\":\"\"}}}],\"scatterpolar\":[{\"type\":\"scatterpolar\",\"marker\":{\"colorbar\":{\"outlinewidth\":0,\"ticks\":\"\"}}}],\"histogram\":[{\"marker\":{\"pattern\":{\"fillmode\":\"overlay\",\"size\":10,\"solidity\":0.2}},\"type\":\"histogram\"}],\"scattergl\":[{\"type\":\"scattergl\",\"marker\":{\"colorbar\":{\"outlinewidth\":0,\"ticks\":\"\"}}}],\"scatter3d\":[{\"type\":\"scatter3d\",\"line\":{\"colorbar\":{\"outlinewidth\":0,\"ticks\":\"\"}},\"marker\":{\"colorbar\":{\"outlinewidth\":0,\"ticks\":\"\"}}}],\"scattermapbox\":[{\"type\":\"scattermapbox\",\"marker\":{\"colorbar\":{\"outlinewidth\":0,\"ticks\":\"\"}}}],\"scatterternary\":[{\"type\":\"scatterternary\",\"marker\":{\"colorbar\":{\"outlinewidth\":0,\"ticks\":\"\"}}}],\"scattercarpet\":[{\"type\":\"scattercarpet\",\"marker\":{\"colorbar\":{\"outlinewidth\":0,\"ticks\":\"\"}}}],\"carpet\":[{\"aaxis\":{\"endlinecolor\":\"#2a3f5f\",\"gridcolor\":\"white\",\"linecolor\":\"white\",\"minorgridcolor\":\"white\",\"startlinecolor\":\"#2a3f5f\"},\"baxis\":{\"endlinecolor\":\"#2a3f5f\",\"gridcolor\":\"white\",\"linecolor\":\"white\",\"minorgridcolor\":\"white\",\"startlinecolor\":\"#2a3f5f\"},\"type\":\"carpet\"}],\"table\":[{\"cells\":{\"fill\":{\"color\":\"#EBF0F8\"},\"line\":{\"color\":\"white\"}},\"header\":{\"fill\":{\"color\":\"#C8D4E3\"},\"line\":{\"color\":\"white\"}},\"type\":\"table\"}],\"barpolar\":[{\"marker\":{\"line\":{\"color\":\"#E5ECF6\",\"width\":0.5},\"pattern\":{\"fillmode\":\"overlay\",\"size\":10,\"solidity\":0.2}},\"type\":\"barpolar\"}],\"pie\":[{\"automargin\":true,\"type\":\"pie\"}]},\"layout\":{\"autotypenumbers\":\"strict\",\"colorway\":[\"#636efa\",\"#EF553B\",\"#00cc96\",\"#ab63fa\",\"#FFA15A\",\"#19d3f3\",\"#FF6692\",\"#B6E880\",\"#FF97FF\",\"#FECB52\"],\"font\":{\"color\":\"#2a3f5f\"},\"hovermode\":\"closest\",\"hoverlabel\":{\"align\":\"left\"},\"paper_bgcolor\":\"white\",\"plot_bgcolor\":\"#E5ECF6\",\"polar\":{\"bgcolor\":\"#E5ECF6\",\"angularaxis\":{\"gridcolor\":\"white\",\"linecolor\":\"white\",\"ticks\":\"\"},\"radialaxis\":{\"gridcolor\":\"white\",\"linecolor\":\"white\",\"ticks\":\"\"}},\"ternary\":{\"bgcolor\":\"#E5ECF6\",\"aaxis\":{\"gridcolor\":\"white\",\"linecolor\":\"white\",\"ticks\":\"\"},\"baxis\":{\"gridcolor\":\"white\",\"linecolor\":\"white\",\"ticks\":\"\"},\"caxis\":{\"gridcolor\":\"white\",\"linecolor\":\"white\",\"ticks\":\"\"}},\"coloraxis\":{\"colorbar\":{\"outlinewidth\":0,\"ticks\":\"\"}},\"colorscale\":{\"sequential\":[[0.0,\"#0d0887\"],[0.1111111111111111,\"#46039f\"],[0.2222222222222222,\"#7201a8\"],[0.3333333333333333,\"#9c179e\"],[0.4444444444444444,\"#bd3786\"],[0.5555555555555556,\"#d8576b\"],[0.6666666666666666,\"#ed7953\"],[0.7777777777777778,\"#fb9f3a\"],[0.8888888888888888,\"#fdca26\"],[1.0,\"#f0f921\"]],\"sequentialminus\":[[0.0,\"#0d0887\"],[0.1111111111111111,\"#46039f\"],[0.2222222222222222,\"#7201a8\"],[0.3333333333333333,\"#9c179e\"],[0.4444444444444444,\"#bd3786\"],[0.5555555555555556,\"#d8576b\"],[0.6666666666666666,\"#ed7953\"],[0.7777777777777778,\"#fb9f3a\"],[0.8888888888888888,\"#fdca26\"],[1.0,\"#f0f921\"]],\"diverging\":[[0,\"#8e0152\"],[0.1,\"#c51b7d\"],[0.2,\"#de77ae\"],[0.3,\"#f1b6da\"],[0.4,\"#fde0ef\"],[0.5,\"#f7f7f7\"],[0.6,\"#e6f5d0\"],[0.7,\"#b8e186\"],[0.8,\"#7fbc41\"],[0.9,\"#4d9221\"],[1,\"#276419\"]]},\"xaxis\":{\"gridcolor\":\"white\",\"linecolor\":\"white\",\"ticks\":\"\",\"title\":{\"standoff\":15},\"zerolinecolor\":\"white\",\"automargin\":true,\"zerolinewidth\":2},\"yaxis\":{\"gridcolor\":\"white\",\"linecolor\":\"white\",\"ticks\":\"\",\"title\":{\"standoff\":15},\"zerolinecolor\":\"white\",\"automargin\":true,\"zerolinewidth\":2},\"scene\":{\"xaxis\":{\"backgroundcolor\":\"#E5ECF6\",\"gridcolor\":\"white\",\"linecolor\":\"white\",\"showbackground\":true,\"ticks\":\"\",\"zerolinecolor\":\"white\",\"gridwidth\":2},\"yaxis\":{\"backgroundcolor\":\"#E5ECF6\",\"gridcolor\":\"white\",\"linecolor\":\"white\",\"showbackground\":true,\"ticks\":\"\",\"zerolinecolor\":\"white\",\"gridwidth\":2},\"zaxis\":{\"backgroundcolor\":\"#E5ECF6\",\"gridcolor\":\"white\",\"linecolor\":\"white\",\"showbackground\":true,\"ticks\":\"\",\"zerolinecolor\":\"white\",\"gridwidth\":2}},\"shapedefaults\":{\"line\":{\"color\":\"#2a3f5f\"}},\"annotationdefaults\":{\"arrowcolor\":\"#2a3f5f\",\"arrowhead\":0,\"arrowwidth\":1},\"geo\":{\"bgcolor\":\"white\",\"landcolor\":\"#E5ECF6\",\"subunitcolor\":\"white\",\"showland\":true,\"showlakes\":true,\"lakecolor\":\"white\"},\"title\":{\"x\":0.05},\"mapbox\":{\"style\":\"light\"}}},\"xaxis\":{\"anchor\":\"y\",\"domain\":[0.0,1.0],\"title\":{\"text\":\"TotRmsAbvGrd\"},\"categoryorder\":\"array\",\"categoryarray\":[8,6,7,9,5,11,4,10,12,3,2,14]},\"yaxis\":{\"anchor\":\"x\",\"domain\":[0.0,1.0],\"title\":{\"text\":\"GrLivArea\"}},\"legend\":{\"title\":{\"text\":\"TotRmsAbvGrd\"},\"tracegroupgap\":0},\"title\":{\"text\":\"TotRmsAbvGrd vs GrLivArea (0.8)\"},\"boxmode\":\"overlay\"},                        {\"responsive\": true}                    ).then(function(){\n",
       "                            \n",
       "var gd = document.getElementById('51b91430-cccf-4889-b227-6ef9843da79a');\n",
       "var x = new MutationObserver(function (mutations, observer) {{\n",
       "        var display = window.getComputedStyle(gd).display;\n",
       "        if (!display || display === 'none') {{\n",
       "            console.log([gd, 'removed!']);\n",
       "            Plotly.purge(gd);\n",
       "            observer.disconnect();\n",
       "        }}\n",
       "}});\n",
       "\n",
       "// Listen for the removal of the full notebook cells\n",
       "var notebookContainer = gd.closest('#notebook-container');\n",
       "if (notebookContainer) {{\n",
       "    x.observe(notebookContainer, {childList: true});\n",
       "}}\n",
       "\n",
       "// Listen for the clearing of the current output cell\n",
       "var outputEl = gd.closest('.output');\n",
       "if (outputEl) {{\n",
       "    x.observe(outputEl, {childList: true});\n",
       "}}\n",
       "\n",
       "                        })                };                });            </script>        </div>"
      ]
     },
     "metadata": {},
     "output_type": "display_data"
    }
   ],
   "source": [
    "fig = px.histogram(df, 'GrLivArea', color=\"TotRmsAbvGrd\", title=\"TotRmsAbvGrd vs GrLivArea (0.8)\")\n",
    "fig.show()\n",
    "\n",
    "fig = px.box(df, y = 'GrLivArea', x = 'TotRmsAbvGrd', color=\"TotRmsAbvGrd\", title=\"TotRmsAbvGrd vs GrLivArea (0.8)\")\n",
    "fig.show()"
   ]
  },
  {
   "cell_type": "markdown",
   "id": "d9ace2d4",
   "metadata": {
    "papermill": {
     "duration": 0.028582,
     "end_time": "2023-12-05T00:01:18.080745",
     "exception": false,
     "start_time": "2023-12-05T00:01:18.052163",
     "status": "completed"
    },
    "tags": []
   },
   "source": [
    "Here, the linear relationship is visible by the help of the box plot, because the mean values are continuously rising, but the outliers present in between as well."
   ]
  },
  {
   "cell_type": "code",
   "execution_count": 21,
   "id": "fd7aa786",
   "metadata": {
    "execution": {
     "iopub.execute_input": "2023-12-05T00:01:18.138754Z",
     "iopub.status.busy": "2023-12-05T00:01:18.138335Z",
     "iopub.status.idle": "2023-12-05T00:01:18.271338Z",
     "shell.execute_reply": "2023-12-05T00:01:18.270232Z"
    },
    "papermill": {
     "duration": 0.165068,
     "end_time": "2023-12-05T00:01:18.273872",
     "exception": false,
     "start_time": "2023-12-05T00:01:18.108804",
     "status": "completed"
    },
    "tags": []
   },
   "outputs": [
    {
     "data": {
      "text/html": [
       "<div>                            <div id=\"c57b2e7b-0d38-4fad-a0ab-a54749806fba\" class=\"plotly-graph-div\" style=\"height:525px; width:100%;\"></div>            <script type=\"text/javascript\">                require([\"plotly\"], function(Plotly) {                    window.PLOTLYENV=window.PLOTLYENV || {};                                    if (document.getElementById(\"c57b2e7b-0d38-4fad-a0ab-a54749806fba\")) {                    Plotly.newPlot(                        \"c57b2e7b-0d38-4fad-a0ab-a54749806fba\",                        [{\"alignmentgroup\":\"True\",\"bingroup\":\"x\",\"histfunc\":\"sum\",\"hovertemplate\":\"SalePrice=%{x}\\u003cbr\\u003esum of GarageYrBlt=%{y}\\u003cextra\\u003e\\u003c\\u002fextra\\u003e\",\"legendgroup\":\"\",\"marker\":{\"color\":\"#636efa\",\"pattern\":{\"shape\":\"\"}},\"name\":\"\",\"offsetgroup\":\"\",\"orientation\":\"v\",\"showlegend\":false,\"texttemplate\":\"%{value}\",\"x\":[208500,181500,223500,140000,250000,143000,307000,200000,129900,118000,129500,345000,144000,279500,157000,132000,149000,90000,159000,139000,325300,139400,230000,129900,154000,256300,134800,306000,207500,68500,40000,149350,179900,165500,277500,309000,145000,153000,109000,82000,160000,170000,144000,130250,141000,319900,239686,249700,113000,127000,177000,114500,110000,385000,130000,180500,172500,196500,438780,124900,158000,101000,202500,140000,219500,317000,180000,226000,80000,225000,244000,129500,185000,144900,107400,91000,135750,127000,136500,110000,193500,153500,245000,126500,168500,260000,174000,164500,85000,123600,109900,98600,163500,133900,204750,185000,214000,94750,83000,128950,205000,178000,118964,198900,169500,250000,100000,115000,115000,190000,136900,180000,383970,217000,259500,176000,139000,155000,320000,163990,180000,100000,136000,153900,181000,84500,128000,87000,155000,150000,226000,244000,150750,220000,180000,174000,143000,171000,230000,231500,115000,260000,166000,204000,125000,130000,105000,222500,141000,115000,122000,372402,190000,235000,125000,79000,109500,269500,254900,320000,162500,412500,220000,103200,152000,127500,190000,325624,183500,228000,128500,215000,239000,163000,184000,243000,211000,172500,501837,100000,177000,200100,120000,200000,127000,475000,173000,135000,153337,286000,315000,184000,192000,130000,127000,148500,311872,235000,104000,274900,140000,171500,112000,149000,110000,180500,143900,141000,277000,145000,98000,186000,252678,156000,161750,134450,210000,107000,311500,167240,204900,200000,179900,97000,386250,112000,290000,106000,125000,192500,148000,403000,94500,128200,216500,89500,185500,194500,318000,113000,262500,110500,79000,120000,205000,241500,137000,140000,180000,277000,76500,235000,173000,158000,145000,230000,207500,220000,231500,97000,176000,276000,151000,130000,73000,175500,185000,179500,120500,148000,266000,241500,290000,139000,124500,205000,201000,141000,415298,192000,228500,185000,207500,244600,179200,164700,159000,88000,122000,153575,233230,135900,131000,235000,167000,142500,152000,239000,175000,158500,157000,267000,205000,149900,295000,305900,225000,89500,82500,360000,165600,132000,119900,375000,178000,188500,260000,270000,260000,187500,342643,354000,301000,126175,242000,87000,324000,145250,214500,78000,119000,139000,284000,207000,192000,228950,377426,214000,202500,155000,202900,82000,87500,266000,85000,140200,151500,157500,154000,437154,318061,190000,95000,105900,140000,177500,173000,134000,130000,280000,156000,145000,198500,118000,190000,147000,159000,165000,132000,162000,172400,134432,125000,123000,219500,61000,148000,340000,394432,179000,127000,187750,213500,76000,240000,192000,81000,125000,191000,426000,119000,215000,106500,100000,109000,129000,123000,169500,67000,241000,245500,164990,108000,258000,168000,150000,115000,177000,280000,339750,60000,145000,222000,115000,228000,181134,149500,239000,126000,142000,206300,215000,113000,315000,139000,135000,275000,109008,195400,175000,85400,79900,122500,181000,81000,212000,116000,119000,90350,110000,555000,118000,162900,172500,210000,127500,190000,199900,119500,120000,110000,280000,204000,210000,188000,175500,98000,256000,161000,110000,263435,155000,62383,188700,124000,178740,167000,146500,250000,187000,212000,190000,148000,440000,251000,132500,208900,380000,297000,89471,326000,374000,155000,164000,132500,147000,156000,175000,160000,86000,115000,133000,172785,155000,91300,34900,430000,184000,130000,120000,113000,226700,140000,289000,147000,124500,215000,208300,161000,124500,164900,202665,129900,134000,96500,402861,158000,265000,211000,234000,106250,150000,159000,184750,315750,176000,132000,446261,86000,200624,175000,128000,107500,39300,178000,107500,188000,111250,158000,272000,315000,248000,213250,133000,179665,229000,210000,129500,125000,263000,140000,112500,255500,108000,284000,113000,141000,108000,175000,234000,121500,170000,108000,185000,268000,128000,325000,214000,316600,135960,142600,120000,224500,170000,139000,118500,145000,164500,146000,131500,181900,253293,118500,325000,133000,369900,130000,137000,143000,79500,185900,451950,138000,140000,110000,319000,114504,194201,217500,151000,275000,141000,220000,151000,221000,205000,152000,225000,359100,118500,313000,148000,261500,147000,75500,137500,183200,105500,314813,305000,67000,240000,135000,168500,165150,160000,139900,153000,135000,168500,124000,209500,82500,139400,144000,200000,60000,93000,85000,264561,274000,226000,345000,152000,370878,143250,98300,155000,155000,84500,205950,108000,191000,135000,350000,88000,145500,149000,97500,167000,197900,402000,110000,137500,423000,230500,129000,193500,168000,137500,173500,103600,165000,257500,140000,148500,87000,109500,372500,128500,143000,159434,173000,285000,221000,207500,227875,148800,392000,194700,141000,755000,335000,108480,141500,176000,89000,123500,138500,196000,312500,140000,361919,140000,213000,55000,302000,254000,179540,109900,52000,102776,189000,129000,130500,165000,159500,157000,341000,128500,275000,143000,124500,135000,320000,120500,222000,194500,110000,103000,236500,187500,222500,131400,108000,163000,93500,239900,179000,190000,132000,142000,179000,175000,180000,299800,236000,265979,260400,98000,96500,162000,217000,275500,156000,172500,212000,158900,179400,290000,127500,100000,215200,337000,270000,264132,196500,160000,216837,538000,134900,102000,107000,114500,395000,162000,221500,142500,144000,135000,176000,175900,187100,165500,128000,161500,139000,233000,107900,187500,160200,146800,269790,225000,194500,171000,143500,110000,485000,175000,200000,109900,189000,582933,118000,227680,135500,223500,159950,106000,181000,144500,55993,157900,116000,224900,137000,271000,155000,224000,183000,93000,225000,139500,232600,385000,109500,189000,185000,147400,166000,151000,237000,167000,139950,128000,153500,100000,144000,130500,140000,157500,174900,141000,153900,171000,213000,133500,240000,187000,131500,215000,164000,158000,170000,127000,147000,174000,152000,250000,189950,131500,152000,132500,250580,148500,248900,129000,169000,236000,109500,200500,116000,133000,66500,303477,132250,350000,148000,136500,157000,187500,178000,118500,100000,328900,145000,135500,268000,149500,122900,172500,154500,165000,118858,140000,106500,142953,611657,135000,110000,153000,180000,240000,125500,128000,255000,250000,131000,174000,154300,143500,88000,145000,173733,75000,35311,135000,238000,176500,201000,145900,169990,193000,207500,175000,285000,176000,236500,222000,201000,117500,320000,190000,242000,79900,184900,253000,239799,244400,150900,214000,150000,143000,137500,124900,143000,270000,192500,197500,129000,119900,133900,172000,127500,145000,124000,132000,185000,155000,116500,272000,155000,239000,214900,178900,160000,135000,37900,140000,135000,173000,99500,182000,167500,165000,85500,199900,110000,139000,178400,336000,159895,255900,126000,125000,117000,395192,195000,197000,348000,168000,187000,173900,337500,121600,136500,185000,91000,206000,82000,86000,232000,136905,181000,149900,163500,88000,240000,102000,135000,100000,165000,85000,119200,227000,203000,187500,160000,213490,176000,194000,87000,191000,287000,112500,167500,293077,105000,118000,160000,197000,310000,230000,119750,84000,315500,287000,97000,80000,155000,173000,196000,262280,278000,139600,556581,145000,115000,84900,176485,200141,165000,144500,255000,180000,185850,248000,335000,220000,213500,81000,90000,110500,154000,328000,178000,167900,151400,135000,135000,154000,91500,159500,194000,219500,170000,138800,155900,126000,145000,133000,192000,160000,187500,147000,83500,252000,137500,197000,92900,160000,136500,146000,129000,176432,127000,170000,128000,157000,60000,119500,135000,159500,106000,325000,179900,274725,181000,280000,188000,205000,129900,134500,117000,318000,184100,130000,140000,133700,118400,212900,112000,118000,163900,115000,174000,259000,215000,140000,135000,93500,117500,239500,169000,102000,119000,94000,196000,144000,139000,197500,424870,80000,80000,149000,180000,174500,116900,143000,124000,149900,230000,120500,201800,218000,179900,230000,235128,185000,146000,224000,129000,108959,194000,233170,245350,173000,235000,625000,171000,163000,171900,200500,239000,285000,119500,115000,154900,93000,250000,392500,745000,120000,186700,104900,95000,262000,195000,189000,168000,174000,125000,165000,158000,176000,219210,144000,178000,148000,116050,197900,117000,213000,153500,271900,107000,200000,140000,290000,189000,164000,113000,145000,134500,125000,112000,229456,80500,91500,115000,134000,143000,137900,184000,145000,214000,147000,367294,127000,190000,132500,101800,142000,130000,138887,175500,195000,142500,265900,224900,248328,170000,465000,230000,178000,186500,169900,129500,119000,244000,171750,130000,294000,165400,127500,301500,99900,190000,151000,181000,128900,161500,180500,181000,183900,122000,378500,381000,144000,260000,185750,137000,177000,139000,137000,162000,197900,237000,68400,227000,180000,150500,139000,169000,132500,143000,190000,278000,281000,180500,119500,107500,162900,115000,138500,155000,140000,160000,154000,225000,177500,290000,232000,130000,325000,202500,138000,147000,179200,335000,203000,302000,333168,119000,206900,295493,208900,275000,111000,156500,72500,190000,82500,147000,55000,79000,130500,256000,176500,227000,132500,100000,125500,125000,167900,135000,52500,200000,128500,123000,155000,228500,177000,155835,108500,262500,283463,215000,122000,200000,171000,134900,410000,235000,170000,110000,149900,177500,315000,189000,260000,104900,156932,144152,216000,193000,127000,144000,232000,105000,165500,274300,466500,250000,239000,91000,117000,83000,167500,58500,237500,157000,112000,105000,125500,250000,136000,377500,131000,235000,124000,123000,163000,246578,281213,160000,137500,138000,137450,120000,193000,193879,282922,105000,275000,133000,112000,125500,215000,230000,140000,90000,257000,207000,175900,122500,340000,124000,223000,179900,127500,136500,274970,144000,142000,271000,140000,119000,182900,192140,143750,64500,186500,160000,174000,120500,394617,149700,197000,191000,149300,310000,121000,179600,129000,157900,240000,112000,92000,136000,287090,145000,84500,185000,175000,210000,266500,142125,147500],\"xaxis\":\"x\",\"y\":[2003.0,1976.0,2001.0,1998.0,2000.0,1993.0,2004.0,1973.0,1931.0,1939.0,1965.0,2005.0,1962.0,2006.0,1960.0,1991.0,1970.0,1967.0,2004.0,1958.0,2005.0,1930.0,2002.0,1976.0,1968.0,2007.0,2005.0,2008.0,1957.0,1920.0,1920.0,1966.0,2007.0,1959.0,2005.0,2004.0,1995.0,1954.0,1953.0,1978.5061638868744,1965.0,1959.0,1983.0,1977.0,1959.0,2005.0,2003.0,2006.0,1978.5061638868744,1966.0,1997.0,1985.0,1963.0,1981.0,1962.0,1964.0,1999.0,2004.0,2006.0,1973.0,2006.0,1935.0,2006.0,1990.0,1998.0,2004.0,1970.0,2003.0,1945.0,1953.0,1973.0,1987.0,1998.0,1989.0,1915.0,1973.0,1956.0,1948.0,1978.5061638868744,1966.0,1968.0,1998.0,2007.0,1974.0,1995.0,1991.0,2005.0,2009.0,1978.5061638868744,1978.5061638868744,1950.0,1961.0,1921.0,1900.0,1997.0,1993.0,1999.0,1965.0,1920.0,1978.5061638868744,1977.0,1985.0,1979.0,2009.0,1951.0,2003.0,1954.0,1948.0,1978.5061638868744,1977.0,1954.0,2000.0,2007.0,1953.0,1945.0,1999.0,1962.0,2007.0,1990.0,2005.0,1969.0,1979.0,1958.0,1993.0,1979.0,1978.5061638868744,1977.0,1978.5061638868744,1966.0,1998.0,1966.0,2000.0,1974.0,2001.0,1968.0,1970.0,1967.0,1989.0,1999.0,1997.0,1978.5061638868744,2005.0,2000.0,1999.0,1963.0,2004.0,1931.0,2001.0,1978.5061638868744,1936.0,1975.0,2007.0,1971.0,1960.0,1923.0,1978.5061638868744,1950.0,2009.0,2004.0,2006.0,1984.0,2003.0,2005.0,1978.5061638868744,1926.0,1978.5061638868744,1955.0,2007.0,2004.0,1981.0,1991.0,1960.0,1987.0,1961.0,1986.0,1950.0,1988.0,1958.0,2009.0,1935.0,2000.0,1920.0,1957.0,2003.0,1986.0,1993.0,1990.0,1916.0,1979.0,2001.0,1932.0,1972.0,1999.0,2004.0,1989.0,1976.0,2007.0,1918.0,1978.5061638868744,2004.0,2003.0,1980.0,1924.0,2004.0,1948.0,1990.0,1962.0,1960.0,1988.0,1964.0,1978.5061638868744,2009.0,2009.0,1996.0,1977.0,1957.0,2004.0,1940.0,1939.0,2005.0,2006.0,2002.0,1975.0,1989.0,2003.0,1991.0,1995.0,1987.0,1974.0,2005.0,1959.0,1995.0,1972.0,1976.0,2002.0,1971.0,2004.0,1993.0,2007.0,1949.0,2008.0,1978.5061638868744,1940.0,1980.0,1994.0,1988.0,1910.0,1954.0,2003.0,1958.0,1978.5061638868744,2006.0,2004.0,1964.0,1957.0,1999.0,2003.0,2006.0,2001.0,1956.0,1991.0,2007.0,1978.0,1974.0,1965.0,1981.0,1997.0,1939.0,1966.0,1987.0,2006.0,1954.0,1999.0,1958.0,1982.0,1978.0,2003.0,1951.0,2007.0,1977.0,1989.0,2006.0,2008.0,2008.0,1992.0,2006.0,1962.0,1978.5061638868744,1970.0,2003.0,2006.0,1978.5061638868744,1949.0,1977.0,1953.0,1984.0,1950.0,1997.0,1968.0,1950.0,1953.0,1998.0,2001.0,1975.0,2003.0,2004.0,1990.0,1978.5061638868744,1961.0,2003.0,1993.0,1948.0,1939.0,1965.0,1925.0,2004.0,1983.0,2006.0,1993.0,1980.0,2006.0,2004.0,1987.0,1955.0,1961.0,1941.0,1993.0,1960.0,1930.0,1920.0,2002.0,1958.0,2003.0,2004.0,1998.0,1965.0,2005.0,2002.0,1984.0,1958.0,2002.0,1950.0,1949.0,2005.0,1976.0,1939.0,1960.0,1960.0,2003.0,2006.0,2007.0,1986.0,1941.0,2005.0,1940.0,1995.0,1992.0,1976.0,1958.0,1998.0,1978.0,1940.0,2003.0,1972.0,1976.0,1964.0,1963.0,1962.0,1954.0,1997.0,2000.0,1991.0,1984.0,1953.0,2003.0,1978.5061638868744,1998.0,2004.0,2010.0,2000.0,1924.0,2006.0,2006.0,1950.0,1992.0,2004.0,1978.5061638868744,1977.0,1999.0,2008.0,1978.0,2001.0,1959.0,1978.5061638868744,1940.0,1956.0,1985.0,1962.0,1920.0,2007.0,1996.0,2005.0,1940.0,1998.0,1995.0,1993.0,1936.0,1960.0,2006.0,2008.0,1958.0,1955.0,2009.0,1927.0,1993.0,2007.0,1978.0,1918.0,1940.0,1968.0,1997.0,1977.0,1954.0,1998.0,1956.0,1947.0,1989.0,1964.0,2007.0,1988.0,1971.0,1978.5061638868744,1971.0,1997.0,1978.5061638868744,1996.0,1990.0,1926.0,1990.0,2005.0,2008.0,1978.5061638868744,1930.0,2007.0,1994.0,1956.0,1966.0,1998.0,1937.0,1981.0,1932.0,1975.0,1996.0,2008.0,1976.0,1973.0,1916.0,1954.0,1925.0,1950.0,2009.0,1971.0,1965.0,1939.0,1978.5061638868744,2004.0,1970.0,1942.0,2006.0,1993.0,1985.0,1977.0,2005.0,2006.0,2000.0,1996.0,1997.0,2006.0,2007.0,1995.0,2004.0,2003.0,1915.0,1998.0,1963.0,1950.0,1965.0,1971.0,1970.0,1970.0,1976.0,1941.0,2006.0,1964.0,1938.0,1978.5061638868744,1992.0,1925.0,1967.0,1958.0,1973.0,2005.0,1965.0,1959.0,1974.0,1952.0,1993.0,2009.0,1928.0,1959.0,1951.0,2005.0,1964.0,1983.0,1926.0,2009.0,1972.0,1996.0,1998.0,1926.0,1978.5061638868744,1957.0,1950.0,2007.0,1996.0,2005.0,1956.0,2008.0,1978.5061638868744,1975.0,1988.0,1920.0,1967.0,1978.5061638868744,2004.0,1978.5061638868744,1998.0,1980.0,1968.0,2001.0,2006.0,2000.0,1998.0,1998.0,2006.0,1988.0,1950.0,1987.0,1963.0,2003.0,1977.0,1957.0,2006.0,2002.0,2003.0,1922.0,1957.0,1994.0,1996.0,2003.0,1957.0,1975.0,1978.5061638868744,1955.0,1992.0,1920.0,2005.0,2004.0,1983.0,1979.0,1987.0,1959.0,2009.0,2000.0,1971.0,1947.0,1928.0,1966.0,2007.0,1954.0,1960.0,2009.0,1978.5061638868744,1988.0,1935.0,2005.0,1961.0,1996.0,1968.0,1988.0,2004.0,2008.0,1985.0,2003.0,1981.0,2005.0,1930.0,2006.0,1977.0,1980.0,2003.0,1979.0,1992.0,2004.0,2002.0,1965.0,2000.0,1948.0,1934.0,1961.0,2000.0,1978.0,2001.0,1978.5061638868744,1978.5061638868744,1963.0,2002.0,1962.0,2007.0,2003.0,1978.5061638868744,1974.0,1986.0,2000.0,1972.0,1962.0,1960.0,1955.0,1969.0,1964.0,1937.0,2006.0,1977.0,1954.0,1980.0,1978.5061638868744,1978.5061638868744,1954.0,1978.5061638868744,2006.0,2003.0,2001.0,1972.0,1969.0,2009.0,1979.0,1950.0,1953.0,1966.0,1978.5061638868744,2007.0,1940.0,1996.0,1906.0,1995.0,1971.0,1959.0,1931.0,1948.0,1968.0,1976.0,1994.0,1968.0,1974.0,2005.0,2000.0,1965.0,1994.0,1999.0,1922.0,2005.0,1930.0,1977.0,1957.0,1965.0,1978.0,1920.0,1924.0,2008.0,1963.0,1980.0,1968.0,1996.0,2002.0,1998.0,1984.0,2007.0,2004.0,2007.0,2005.0,2004.0,1994.0,1989.0,1968.0,1995.0,1987.0,1921.0,1952.0,1973.0,2004.0,2002.0,1969.0,2006.0,1999.0,2004.0,1978.5061638868744,1971.0,2006.0,2007.0,1966.0,1978.5061638868744,1964.0,1988.0,1970.0,1976.0,1974.0,1996.0,1973.0,1993.0,1969.0,1985.0,2004.0,1994.0,1958.0,2007.0,1989.0,1988.0,2007.0,1968.0,1962.0,1995.0,2003.0,1998.0,1961.0,1968.0,1914.0,1949.0,2005.0,1978.5061638868744,2004.0,1910.0,1962.0,2000.0,1997.0,1993.0,1994.0,2000.0,1950.0,1996.0,1945.0,1978.5061638868744,2003.0,1997.0,2005.0,1969.0,1999.0,2007.0,1978.0,1999.0,1995.0,2008.0,1965.0,2009.0,1999.0,1995.0,2008.0,1988.0,1989.0,2004.0,2003.0,1983.0,1951.0,1976.0,1958.0,2006.0,1998.0,2005.0,1974.0,1977.0,1977.0,1995.0,1992.0,2001.0,1978.0,1978.5061638868744,1967.0,1961.0,2004.0,1954.0,1966.0,2005.0,1976.0,1997.0,2007.0,1994.0,1980.0,1977.0,1953.0,2009.0,1939.0,1997.0,1957.0,2005.0,2009.0,1954.0,2008.0,1967.0,1923.0,1966.0,1910.0,1974.0,2004.0,1952.0,1958.0,1955.0,1998.0,1954.0,2002.0,1971.0,2010.0,2003.0,1974.0,2003.0,1940.0,2006.0,2007.0,1978.5061638868744,2001.0,1967.0,2005.0,1957.0,2005.0,2003.0,1964.0,1961.0,1996.0,1948.0,1973.0,1999.0,1946.0,1934.0,1983.0,1966.0,1978.5061638868744,1949.0,1975.0,1993.0,1972.0,1908.0,1976.0,2003.0,2003.0,1941.0,1964.0,1955.0,1962.0,1981.0,1994.0,1976.0,1968.0,1925.0,1965.0,1986.0,1959.0,2008.0,1973.0,2007.0,1961.0,1979.0,1993.0,1962.0,1998.0,1953.0,1949.0,1941.0,2007.0,1963.0,2004.0,1987.0,1978.0,2005.0,1990.0,1993.0,1997.0,1967.0,1999.0,2005.0,1955.0,1970.0,1953.0,2003.0,1978.0,1963.0,1954.0,1979.0,1963.0,1936.0,1979.0,2009.0,1961.0,1979.0,1968.0,2003.0,2006.0,1967.0,1954.0,2006.0,1936.0,1983.0,2005.0,1960.0,1978.0,1925.0,1949.0,2009.0,1970.0,1958.0,1956.0,1991.0,1990.0,1994.0,1978.5061638868744,2005.0,1993.0,1980.0,1977.0,2003.0,1968.0,2001.0,1997.0,2007.0,1965.0,2006.0,2004.0,1960.0,1953.0,2003.0,2005.0,2006.0,1940.0,1976.0,1999.0,1978.5061638868744,1967.0,1958.0,1963.0,1959.0,2002.0,2002.0,1972.0,1980.0,1979.0,1974.0,1969.0,1978.5061638868744,1946.0,1980.0,1977.0,2003.0,1999.0,1978.5061638868744,1977.0,1976.0,2007.0,2002.0,2005.0,1940.0,1955.0,1978.5061638868744,1958.0,1978.5061638868744,2003.0,1979.0,2007.0,1997.0,2000.0,1978.5061638868744,2007.0,1999.0,1963.0,1961.0,1998.0,2007.0,2002.0,1977.0,1950.0,1950.0,2010.0,1976.0,2006.0,1997.0,1925.0,1964.0,2005.0,2008.0,1946.0,1961.0,1970.0,1922.0,2006.0,1956.0,1920.0,2006.0,1976.0,2005.0,1977.0,1970.0,1970.0,2004.0,1978.5061638868744,1948.0,1978.5061638868744,1923.0,1956.0,1948.0,2001.0,1996.0,1984.0,1991.0,2005.0,2005.0,2006.0,1957.0,2005.0,1976.0,1980.0,1960.0,2008.0,1941.0,1972.0,1978.5061638868744,1970.0,1993.0,2002.0,1938.0,1957.0,2008.0,2001.0,1978.5061638868744,1970.0,1957.0,1966.0,2005.0,1990.0,1981.0,1955.0,2005.0,1996.0,1960.0,1946.0,2007.0,2007.0,1964.0,1957.0,2002.0,1976.0,2005.0,1994.0,2008.0,1977.0,2001.0,1994.0,1945.0,1976.0,1966.0,1996.0,1993.0,1964.0,1973.0,1985.0,1956.0,1968.0,1954.0,1977.0,2006.0,1940.0,1950.0,1969.0,2004.0,1996.0,1971.0,1963.0,2002.0,1964.0,1995.0,1992.0,1973.0,2005.0,2004.0,2005.0,1987.0,1999.0,1925.0,1977.0,1956.0,2006.0,1978.5061638868744,1987.0,1936.0,1978.0,1930.0,1981.0,1960.0,1954.0,1970.0,1994.0,1990.0,2006.0,2000.0,2004.0,1995.0,1976.0,1957.0,1953.0,1955.0,2007.0,2002.0,1967.0,1958.0,1959.0,1920.0,2005.0,1956.0,1978.5061638868744,1992.0,1977.0,2007.0,2004.0,2004.0,1980.0,1981.0,1978.5061638868744,1930.0,1995.0,1997.0,1926.0,1950.0,1978.5061638868744,1977.0,1972.0,1988.0,1976.0,2006.0,1978.5061638868744,1941.0,1928.0,1985.0,1941.0,1982.0,1930.0,1950.0,1959.0,1956.0,2002.0,1965.0,1976.0,1965.0,2008.0,2008.0,1974.0,1978.0,1993.0,1968.0,1969.0,1978.0,2009.0,2008.0,2000.0,1935.0,1995.0,1977.0,1958.0,2006.0,1978.5061638868744,1932.0,1992.0,1984.0,1926.0,1921.0,1978.5061638868744,1990.0,2008.0,1996.0,1970.0,1963.0,1965.0,1920.0,1994.0,2002.0,1999.0,1975.0,1999.0,1925.0,1999.0,1969.0,2005.0,2006.0,1916.0,2001.0,1974.0,1972.0,1998.0,1960.0,2000.0,1975.0,1990.0,1966.0,2003.0,1980.0,2006.0,1992.0,1988.0,1941.0,1965.0,1962.0,1966.0,1978.0,2009.0,1978.5061638868744,1978.5061638868744,1964.0,1968.0,1949.0,1951.0,2004.0,1958.0,2007.0,1992.0,2008.0,1960.0,1977.0,1962.0,1962.0,1959.0,1978.5061638868744,1914.0,2003.0,2004.0,2005.0,2006.0,2003.0,2007.0,1974.0,2006.0,1931.0,1984.0,2005.0,1976.0,1950.0,1950.0,1968.0,2003.0,1968.0,1974.0,2003.0,1978.0,1994.0,1978.5061638868744,2005.0,1969.0,1999.0,1956.0,1957.0,1940.0,1998.0,1999.0,1960.0,2009.0,1982.0,1958.0,1979.0,1968.0,1965.0,1959.0,1985.0,1948.0,1972.0,1967.0,2002.0,1980.0,2002.0,1990.0,1977.0,1978.5061638868744,1969.0,1939.0,1963.0,1964.0,2000.0,2006.0,1964.0,1972.0,1985.0,1976.0,1957.0,1968.0,1963.0,2005.0,2008.0,1959.0,1999.0,1942.0,1994.0,2005.0,2004.0,2006.0,2005.0,2000.0,1948.0,1991.0,1959.0,2005.0,1990.0,1999.0,1956.0,1969.0,2008.0,2006.0,2001.0,1954.0,1957.0,1955.0,1992.0,1978.5061638868744,2007.0,1978.5061638868744,1978.5061638868744,1982.0,1920.0,1998.0,2006.0,1976.0,1958.0,1951.0,1970.0,1977.0,1973.0,1978.5061638868744,2002.0,1972.0,1974.0,2004.0,2002.0,1929.0,2006.0,1997.0,1968.0,2006.0,1998.0,1978.5061638868744,1969.0,1962.0,1999.0,1996.0,2000.0,1968.0,1966.0,1971.0,2000.0,2004.0,1998.0,2005.0,1920.0,2007.0,2005.0,2000.0,1999.0,1977.0,2003.0,2003.0,1967.0,1955.0,1998.0,2001.0,2005.0,2007.0,1925.0,1977.0,1973.0,2007.0,1938.0,1970.0,1989.0,2007.0,1939.0,1922.0,1978.0,1916.0,2006.0,2003.0,2000.0,1967.0,1967.0,2003.0,2006.0,2005.0,1966.0,1933.0,1950.0,1925.0,1929.0,2004.0,2006.0,2007.0,1998.0,2004.0,1988.0,1978.5061638868744,1966.0,1986.0,2001.0,1950.0,1956.0,2005.0,1922.0,2007.0,1971.0,1998.0,1962.0,1969.0,1968.0,1977.0,2003.0,1966.0,1970.0,1960.0,1994.0,1962.0,1940.0,1981.0,2005.0,1976.0,1928.0,2000.0,1977.0,1962.0,1974.0,2008.0,1957.0,1979.0,1993.0,2004.0,2008.0,1916.0,2004.0,1990.0,1962.0,1995.0,1950.0,1978.5061638868744,1978.5061638868744,2008.0,2005.0,1978.5061638868744,2004.0,1999.0,1978.0,1941.0,1950.0,1965.0],\"yaxis\":\"y\",\"type\":\"histogram\"}],                        {\"template\":{\"data\":{\"histogram2dcontour\":[{\"type\":\"histogram2dcontour\",\"colorbar\":{\"outlinewidth\":0,\"ticks\":\"\"},\"colorscale\":[[0.0,\"#0d0887\"],[0.1111111111111111,\"#46039f\"],[0.2222222222222222,\"#7201a8\"],[0.3333333333333333,\"#9c179e\"],[0.4444444444444444,\"#bd3786\"],[0.5555555555555556,\"#d8576b\"],[0.6666666666666666,\"#ed7953\"],[0.7777777777777778,\"#fb9f3a\"],[0.8888888888888888,\"#fdca26\"],[1.0,\"#f0f921\"]]}],\"choropleth\":[{\"type\":\"choropleth\",\"colorbar\":{\"outlinewidth\":0,\"ticks\":\"\"}}],\"histogram2d\":[{\"type\":\"histogram2d\",\"colorbar\":{\"outlinewidth\":0,\"ticks\":\"\"},\"colorscale\":[[0.0,\"#0d0887\"],[0.1111111111111111,\"#46039f\"],[0.2222222222222222,\"#7201a8\"],[0.3333333333333333,\"#9c179e\"],[0.4444444444444444,\"#bd3786\"],[0.5555555555555556,\"#d8576b\"],[0.6666666666666666,\"#ed7953\"],[0.7777777777777778,\"#fb9f3a\"],[0.8888888888888888,\"#fdca26\"],[1.0,\"#f0f921\"]]}],\"heatmap\":[{\"type\":\"heatmap\",\"colorbar\":{\"outlinewidth\":0,\"ticks\":\"\"},\"colorscale\":[[0.0,\"#0d0887\"],[0.1111111111111111,\"#46039f\"],[0.2222222222222222,\"#7201a8\"],[0.3333333333333333,\"#9c179e\"],[0.4444444444444444,\"#bd3786\"],[0.5555555555555556,\"#d8576b\"],[0.6666666666666666,\"#ed7953\"],[0.7777777777777778,\"#fb9f3a\"],[0.8888888888888888,\"#fdca26\"],[1.0,\"#f0f921\"]]}],\"heatmapgl\":[{\"type\":\"heatmapgl\",\"colorbar\":{\"outlinewidth\":0,\"ticks\":\"\"},\"colorscale\":[[0.0,\"#0d0887\"],[0.1111111111111111,\"#46039f\"],[0.2222222222222222,\"#7201a8\"],[0.3333333333333333,\"#9c179e\"],[0.4444444444444444,\"#bd3786\"],[0.5555555555555556,\"#d8576b\"],[0.6666666666666666,\"#ed7953\"],[0.7777777777777778,\"#fb9f3a\"],[0.8888888888888888,\"#fdca26\"],[1.0,\"#f0f921\"]]}],\"contourcarpet\":[{\"type\":\"contourcarpet\",\"colorbar\":{\"outlinewidth\":0,\"ticks\":\"\"}}],\"contour\":[{\"type\":\"contour\",\"colorbar\":{\"outlinewidth\":0,\"ticks\":\"\"},\"colorscale\":[[0.0,\"#0d0887\"],[0.1111111111111111,\"#46039f\"],[0.2222222222222222,\"#7201a8\"],[0.3333333333333333,\"#9c179e\"],[0.4444444444444444,\"#bd3786\"],[0.5555555555555556,\"#d8576b\"],[0.6666666666666666,\"#ed7953\"],[0.7777777777777778,\"#fb9f3a\"],[0.8888888888888888,\"#fdca26\"],[1.0,\"#f0f921\"]]}],\"surface\":[{\"type\":\"surface\",\"colorbar\":{\"outlinewidth\":0,\"ticks\":\"\"},\"colorscale\":[[0.0,\"#0d0887\"],[0.1111111111111111,\"#46039f\"],[0.2222222222222222,\"#7201a8\"],[0.3333333333333333,\"#9c179e\"],[0.4444444444444444,\"#bd3786\"],[0.5555555555555556,\"#d8576b\"],[0.6666666666666666,\"#ed7953\"],[0.7777777777777778,\"#fb9f3a\"],[0.8888888888888888,\"#fdca26\"],[1.0,\"#f0f921\"]]}],\"mesh3d\":[{\"type\":\"mesh3d\",\"colorbar\":{\"outlinewidth\":0,\"ticks\":\"\"}}],\"scatter\":[{\"fillpattern\":{\"fillmode\":\"overlay\",\"size\":10,\"solidity\":0.2},\"type\":\"scatter\"}],\"parcoords\":[{\"type\":\"parcoords\",\"line\":{\"colorbar\":{\"outlinewidth\":0,\"ticks\":\"\"}}}],\"scatterpolargl\":[{\"type\":\"scatterpolargl\",\"marker\":{\"colorbar\":{\"outlinewidth\":0,\"ticks\":\"\"}}}],\"bar\":[{\"error_x\":{\"color\":\"#2a3f5f\"},\"error_y\":{\"color\":\"#2a3f5f\"},\"marker\":{\"line\":{\"color\":\"#E5ECF6\",\"width\":0.5},\"pattern\":{\"fillmode\":\"overlay\",\"size\":10,\"solidity\":0.2}},\"type\":\"bar\"}],\"scattergeo\":[{\"type\":\"scattergeo\",\"marker\":{\"colorbar\":{\"outlinewidth\":0,\"ticks\":\"\"}}}],\"scatterpolar\":[{\"type\":\"scatterpolar\",\"marker\":{\"colorbar\":{\"outlinewidth\":0,\"ticks\":\"\"}}}],\"histogram\":[{\"marker\":{\"pattern\":{\"fillmode\":\"overlay\",\"size\":10,\"solidity\":0.2}},\"type\":\"histogram\"}],\"scattergl\":[{\"type\":\"scattergl\",\"marker\":{\"colorbar\":{\"outlinewidth\":0,\"ticks\":\"\"}}}],\"scatter3d\":[{\"type\":\"scatter3d\",\"line\":{\"colorbar\":{\"outlinewidth\":0,\"ticks\":\"\"}},\"marker\":{\"colorbar\":{\"outlinewidth\":0,\"ticks\":\"\"}}}],\"scattermapbox\":[{\"type\":\"scattermapbox\",\"marker\":{\"colorbar\":{\"outlinewidth\":0,\"ticks\":\"\"}}}],\"scatterternary\":[{\"type\":\"scatterternary\",\"marker\":{\"colorbar\":{\"outlinewidth\":0,\"ticks\":\"\"}}}],\"scattercarpet\":[{\"type\":\"scattercarpet\",\"marker\":{\"colorbar\":{\"outlinewidth\":0,\"ticks\":\"\"}}}],\"carpet\":[{\"aaxis\":{\"endlinecolor\":\"#2a3f5f\",\"gridcolor\":\"white\",\"linecolor\":\"white\",\"minorgridcolor\":\"white\",\"startlinecolor\":\"#2a3f5f\"},\"baxis\":{\"endlinecolor\":\"#2a3f5f\",\"gridcolor\":\"white\",\"linecolor\":\"white\",\"minorgridcolor\":\"white\",\"startlinecolor\":\"#2a3f5f\"},\"type\":\"carpet\"}],\"table\":[{\"cells\":{\"fill\":{\"color\":\"#EBF0F8\"},\"line\":{\"color\":\"white\"}},\"header\":{\"fill\":{\"color\":\"#C8D4E3\"},\"line\":{\"color\":\"white\"}},\"type\":\"table\"}],\"barpolar\":[{\"marker\":{\"line\":{\"color\":\"#E5ECF6\",\"width\":0.5},\"pattern\":{\"fillmode\":\"overlay\",\"size\":10,\"solidity\":0.2}},\"type\":\"barpolar\"}],\"pie\":[{\"automargin\":true,\"type\":\"pie\"}]},\"layout\":{\"autotypenumbers\":\"strict\",\"colorway\":[\"#636efa\",\"#EF553B\",\"#00cc96\",\"#ab63fa\",\"#FFA15A\",\"#19d3f3\",\"#FF6692\",\"#B6E880\",\"#FF97FF\",\"#FECB52\"],\"font\":{\"color\":\"#2a3f5f\"},\"hovermode\":\"closest\",\"hoverlabel\":{\"align\":\"left\"},\"paper_bgcolor\":\"white\",\"plot_bgcolor\":\"#E5ECF6\",\"polar\":{\"bgcolor\":\"#E5ECF6\",\"angularaxis\":{\"gridcolor\":\"white\",\"linecolor\":\"white\",\"ticks\":\"\"},\"radialaxis\":{\"gridcolor\":\"white\",\"linecolor\":\"white\",\"ticks\":\"\"}},\"ternary\":{\"bgcolor\":\"#E5ECF6\",\"aaxis\":{\"gridcolor\":\"white\",\"linecolor\":\"white\",\"ticks\":\"\"},\"baxis\":{\"gridcolor\":\"white\",\"linecolor\":\"white\",\"ticks\":\"\"},\"caxis\":{\"gridcolor\":\"white\",\"linecolor\":\"white\",\"ticks\":\"\"}},\"coloraxis\":{\"colorbar\":{\"outlinewidth\":0,\"ticks\":\"\"}},\"colorscale\":{\"sequential\":[[0.0,\"#0d0887\"],[0.1111111111111111,\"#46039f\"],[0.2222222222222222,\"#7201a8\"],[0.3333333333333333,\"#9c179e\"],[0.4444444444444444,\"#bd3786\"],[0.5555555555555556,\"#d8576b\"],[0.6666666666666666,\"#ed7953\"],[0.7777777777777778,\"#fb9f3a\"],[0.8888888888888888,\"#fdca26\"],[1.0,\"#f0f921\"]],\"sequentialminus\":[[0.0,\"#0d0887\"],[0.1111111111111111,\"#46039f\"],[0.2222222222222222,\"#7201a8\"],[0.3333333333333333,\"#9c179e\"],[0.4444444444444444,\"#bd3786\"],[0.5555555555555556,\"#d8576b\"],[0.6666666666666666,\"#ed7953\"],[0.7777777777777778,\"#fb9f3a\"],[0.8888888888888888,\"#fdca26\"],[1.0,\"#f0f921\"]],\"diverging\":[[0,\"#8e0152\"],[0.1,\"#c51b7d\"],[0.2,\"#de77ae\"],[0.3,\"#f1b6da\"],[0.4,\"#fde0ef\"],[0.5,\"#f7f7f7\"],[0.6,\"#e6f5d0\"],[0.7,\"#b8e186\"],[0.8,\"#7fbc41\"],[0.9,\"#4d9221\"],[1,\"#276419\"]]},\"xaxis\":{\"gridcolor\":\"white\",\"linecolor\":\"white\",\"ticks\":\"\",\"title\":{\"standoff\":15},\"zerolinecolor\":\"white\",\"automargin\":true,\"zerolinewidth\":2},\"yaxis\":{\"gridcolor\":\"white\",\"linecolor\":\"white\",\"ticks\":\"\",\"title\":{\"standoff\":15},\"zerolinecolor\":\"white\",\"automargin\":true,\"zerolinewidth\":2},\"scene\":{\"xaxis\":{\"backgroundcolor\":\"#E5ECF6\",\"gridcolor\":\"white\",\"linecolor\":\"white\",\"showbackground\":true,\"ticks\":\"\",\"zerolinecolor\":\"white\",\"gridwidth\":2},\"yaxis\":{\"backgroundcolor\":\"#E5ECF6\",\"gridcolor\":\"white\",\"linecolor\":\"white\",\"showbackground\":true,\"ticks\":\"\",\"zerolinecolor\":\"white\",\"gridwidth\":2},\"zaxis\":{\"backgroundcolor\":\"#E5ECF6\",\"gridcolor\":\"white\",\"linecolor\":\"white\",\"showbackground\":true,\"ticks\":\"\",\"zerolinecolor\":\"white\",\"gridwidth\":2}},\"shapedefaults\":{\"line\":{\"color\":\"#2a3f5f\"}},\"annotationdefaults\":{\"arrowcolor\":\"#2a3f5f\",\"arrowhead\":0,\"arrowwidth\":1},\"geo\":{\"bgcolor\":\"white\",\"landcolor\":\"#E5ECF6\",\"subunitcolor\":\"white\",\"showland\":true,\"showlakes\":true,\"lakecolor\":\"white\"},\"title\":{\"x\":0.05},\"mapbox\":{\"style\":\"light\"}}},\"xaxis\":{\"anchor\":\"y\",\"domain\":[0.0,1.0],\"title\":{\"text\":\"SalePrice\"}},\"yaxis\":{\"anchor\":\"x\",\"domain\":[0.0,1.0],\"title\":{\"text\":\"sum of GarageYrBlt\"}},\"legend\":{\"tracegroupgap\":0},\"title\":{\"text\":\"SalePrice vs GarageYrBlt (0.8)\"},\"barmode\":\"relative\"},                        {\"responsive\": true}                    ).then(function(){\n",
       "                            \n",
       "var gd = document.getElementById('c57b2e7b-0d38-4fad-a0ab-a54749806fba');\n",
       "var x = new MutationObserver(function (mutations, observer) {{\n",
       "        var display = window.getComputedStyle(gd).display;\n",
       "        if (!display || display === 'none') {{\n",
       "            console.log([gd, 'removed!']);\n",
       "            Plotly.purge(gd);\n",
       "            observer.disconnect();\n",
       "        }}\n",
       "}});\n",
       "\n",
       "// Listen for the removal of the full notebook cells\n",
       "var notebookContainer = gd.closest('#notebook-container');\n",
       "if (notebookContainer) {{\n",
       "    x.observe(notebookContainer, {childList: true});\n",
       "}}\n",
       "\n",
       "// Listen for the clearing of the current output cell\n",
       "var outputEl = gd.closest('.output');\n",
       "if (outputEl) {{\n",
       "    x.observe(outputEl, {childList: true});\n",
       "}}\n",
       "\n",
       "                        })                };                });            </script>        </div>"
      ]
     },
     "metadata": {},
     "output_type": "display_data"
    },
    {
     "data": {
      "text/html": [
       "<div>                            <div id=\"c751a6ab-c6cb-4e48-9b31-424405673590\" class=\"plotly-graph-div\" style=\"height:525px; width:100%;\"></div>            <script type=\"text/javascript\">                require([\"plotly\"], function(Plotly) {                    window.PLOTLYENV=window.PLOTLYENV || {};                                    if (document.getElementById(\"c751a6ab-c6cb-4e48-9b31-424405673590\")) {                    Plotly.newPlot(                        \"c751a6ab-c6cb-4e48-9b31-424405673590\",                        [{\"hovertemplate\":\"SalePrice=%{x}\\u003cbr\\u003eGarageYrBlt=%{y}\\u003cextra\\u003e\\u003c\\u002fextra\\u003e\",\"legendgroup\":\"\",\"marker\":{\"color\":\"#636efa\",\"symbol\":\"circle\"},\"mode\":\"markers\",\"name\":\"\",\"showlegend\":false,\"x\":[208500,181500,223500,140000,250000,143000,307000,200000,129900,118000,129500,345000,144000,279500,157000,132000,149000,90000,159000,139000,325300,139400,230000,129900,154000,256300,134800,306000,207500,68500,40000,149350,179900,165500,277500,309000,145000,153000,109000,82000,160000,170000,144000,130250,141000,319900,239686,249700,113000,127000,177000,114500,110000,385000,130000,180500,172500,196500,438780,124900,158000,101000,202500,140000,219500,317000,180000,226000,80000,225000,244000,129500,185000,144900,107400,91000,135750,127000,136500,110000,193500,153500,245000,126500,168500,260000,174000,164500,85000,123600,109900,98600,163500,133900,204750,185000,214000,94750,83000,128950,205000,178000,118964,198900,169500,250000,100000,115000,115000,190000,136900,180000,383970,217000,259500,176000,139000,155000,320000,163990,180000,100000,136000,153900,181000,84500,128000,87000,155000,150000,226000,244000,150750,220000,180000,174000,143000,171000,230000,231500,115000,260000,166000,204000,125000,130000,105000,222500,141000,115000,122000,372402,190000,235000,125000,79000,109500,269500,254900,320000,162500,412500,220000,103200,152000,127500,190000,325624,183500,228000,128500,215000,239000,163000,184000,243000,211000,172500,501837,100000,177000,200100,120000,200000,127000,475000,173000,135000,153337,286000,315000,184000,192000,130000,127000,148500,311872,235000,104000,274900,140000,171500,112000,149000,110000,180500,143900,141000,277000,145000,98000,186000,252678,156000,161750,134450,210000,107000,311500,167240,204900,200000,179900,97000,386250,112000,290000,106000,125000,192500,148000,403000,94500,128200,216500,89500,185500,194500,318000,113000,262500,110500,79000,120000,205000,241500,137000,140000,180000,277000,76500,235000,173000,158000,145000,230000,207500,220000,231500,97000,176000,276000,151000,130000,73000,175500,185000,179500,120500,148000,266000,241500,290000,139000,124500,205000,201000,141000,415298,192000,228500,185000,207500,244600,179200,164700,159000,88000,122000,153575,233230,135900,131000,235000,167000,142500,152000,239000,175000,158500,157000,267000,205000,149900,295000,305900,225000,89500,82500,360000,165600,132000,119900,375000,178000,188500,260000,270000,260000,187500,342643,354000,301000,126175,242000,87000,324000,145250,214500,78000,119000,139000,284000,207000,192000,228950,377426,214000,202500,155000,202900,82000,87500,266000,85000,140200,151500,157500,154000,437154,318061,190000,95000,105900,140000,177500,173000,134000,130000,280000,156000,145000,198500,118000,190000,147000,159000,165000,132000,162000,172400,134432,125000,123000,219500,61000,148000,340000,394432,179000,127000,187750,213500,76000,240000,192000,81000,125000,191000,426000,119000,215000,106500,100000,109000,129000,123000,169500,67000,241000,245500,164990,108000,258000,168000,150000,115000,177000,280000,339750,60000,145000,222000,115000,228000,181134,149500,239000,126000,142000,206300,215000,113000,315000,139000,135000,275000,109008,195400,175000,85400,79900,122500,181000,81000,212000,116000,119000,90350,110000,555000,118000,162900,172500,210000,127500,190000,199900,119500,120000,110000,280000,204000,210000,188000,175500,98000,256000,161000,110000,263435,155000,62383,188700,124000,178740,167000,146500,250000,187000,212000,190000,148000,440000,251000,132500,208900,380000,297000,89471,326000,374000,155000,164000,132500,147000,156000,175000,160000,86000,115000,133000,172785,155000,91300,34900,430000,184000,130000,120000,113000,226700,140000,289000,147000,124500,215000,208300,161000,124500,164900,202665,129900,134000,96500,402861,158000,265000,211000,234000,106250,150000,159000,184750,315750,176000,132000,446261,86000,200624,175000,128000,107500,39300,178000,107500,188000,111250,158000,272000,315000,248000,213250,133000,179665,229000,210000,129500,125000,263000,140000,112500,255500,108000,284000,113000,141000,108000,175000,234000,121500,170000,108000,185000,268000,128000,325000,214000,316600,135960,142600,120000,224500,170000,139000,118500,145000,164500,146000,131500,181900,253293,118500,325000,133000,369900,130000,137000,143000,79500,185900,451950,138000,140000,110000,319000,114504,194201,217500,151000,275000,141000,220000,151000,221000,205000,152000,225000,359100,118500,313000,148000,261500,147000,75500,137500,183200,105500,314813,305000,67000,240000,135000,168500,165150,160000,139900,153000,135000,168500,124000,209500,82500,139400,144000,200000,60000,93000,85000,264561,274000,226000,345000,152000,370878,143250,98300,155000,155000,84500,205950,108000,191000,135000,350000,88000,145500,149000,97500,167000,197900,402000,110000,137500,423000,230500,129000,193500,168000,137500,173500,103600,165000,257500,140000,148500,87000,109500,372500,128500,143000,159434,173000,285000,221000,207500,227875,148800,392000,194700,141000,755000,335000,108480,141500,176000,89000,123500,138500,196000,312500,140000,361919,140000,213000,55000,302000,254000,179540,109900,52000,102776,189000,129000,130500,165000,159500,157000,341000,128500,275000,143000,124500,135000,320000,120500,222000,194500,110000,103000,236500,187500,222500,131400,108000,163000,93500,239900,179000,190000,132000,142000,179000,175000,180000,299800,236000,265979,260400,98000,96500,162000,217000,275500,156000,172500,212000,158900,179400,290000,127500,100000,215200,337000,270000,264132,196500,160000,216837,538000,134900,102000,107000,114500,395000,162000,221500,142500,144000,135000,176000,175900,187100,165500,128000,161500,139000,233000,107900,187500,160200,146800,269790,225000,194500,171000,143500,110000,485000,175000,200000,109900,189000,582933,118000,227680,135500,223500,159950,106000,181000,144500,55993,157900,116000,224900,137000,271000,155000,224000,183000,93000,225000,139500,232600,385000,109500,189000,185000,147400,166000,151000,237000,167000,139950,128000,153500,100000,144000,130500,140000,157500,174900,141000,153900,171000,213000,133500,240000,187000,131500,215000,164000,158000,170000,127000,147000,174000,152000,250000,189950,131500,152000,132500,250580,148500,248900,129000,169000,236000,109500,200500,116000,133000,66500,303477,132250,350000,148000,136500,157000,187500,178000,118500,100000,328900,145000,135500,268000,149500,122900,172500,154500,165000,118858,140000,106500,142953,611657,135000,110000,153000,180000,240000,125500,128000,255000,250000,131000,174000,154300,143500,88000,145000,173733,75000,35311,135000,238000,176500,201000,145900,169990,193000,207500,175000,285000,176000,236500,222000,201000,117500,320000,190000,242000,79900,184900,253000,239799,244400,150900,214000,150000,143000,137500,124900,143000,270000,192500,197500,129000,119900,133900,172000,127500,145000,124000,132000,185000,155000,116500,272000,155000,239000,214900,178900,160000,135000,37900,140000,135000,173000,99500,182000,167500,165000,85500,199900,110000,139000,178400,336000,159895,255900,126000,125000,117000,395192,195000,197000,348000,168000,187000,173900,337500,121600,136500,185000,91000,206000,82000,86000,232000,136905,181000,149900,163500,88000,240000,102000,135000,100000,165000,85000,119200,227000,203000,187500,160000,213490,176000,194000,87000,191000,287000,112500,167500,293077,105000,118000,160000,197000,310000,230000,119750,84000,315500,287000,97000,80000,155000,173000,196000,262280,278000,139600,556581,145000,115000,84900,176485,200141,165000,144500,255000,180000,185850,248000,335000,220000,213500,81000,90000,110500,154000,328000,178000,167900,151400,135000,135000,154000,91500,159500,194000,219500,170000,138800,155900,126000,145000,133000,192000,160000,187500,147000,83500,252000,137500,197000,92900,160000,136500,146000,129000,176432,127000,170000,128000,157000,60000,119500,135000,159500,106000,325000,179900,274725,181000,280000,188000,205000,129900,134500,117000,318000,184100,130000,140000,133700,118400,212900,112000,118000,163900,115000,174000,259000,215000,140000,135000,93500,117500,239500,169000,102000,119000,94000,196000,144000,139000,197500,424870,80000,80000,149000,180000,174500,116900,143000,124000,149900,230000,120500,201800,218000,179900,230000,235128,185000,146000,224000,129000,108959,194000,233170,245350,173000,235000,625000,171000,163000,171900,200500,239000,285000,119500,115000,154900,93000,250000,392500,745000,120000,186700,104900,95000,262000,195000,189000,168000,174000,125000,165000,158000,176000,219210,144000,178000,148000,116050,197900,117000,213000,153500,271900,107000,200000,140000,290000,189000,164000,113000,145000,134500,125000,112000,229456,80500,91500,115000,134000,143000,137900,184000,145000,214000,147000,367294,127000,190000,132500,101800,142000,130000,138887,175500,195000,142500,265900,224900,248328,170000,465000,230000,178000,186500,169900,129500,119000,244000,171750,130000,294000,165400,127500,301500,99900,190000,151000,181000,128900,161500,180500,181000,183900,122000,378500,381000,144000,260000,185750,137000,177000,139000,137000,162000,197900,237000,68400,227000,180000,150500,139000,169000,132500,143000,190000,278000,281000,180500,119500,107500,162900,115000,138500,155000,140000,160000,154000,225000,177500,290000,232000,130000,325000,202500,138000,147000,179200,335000,203000,302000,333168,119000,206900,295493,208900,275000,111000,156500,72500,190000,82500,147000,55000,79000,130500,256000,176500,227000,132500,100000,125500,125000,167900,135000,52500,200000,128500,123000,155000,228500,177000,155835,108500,262500,283463,215000,122000,200000,171000,134900,410000,235000,170000,110000,149900,177500,315000,189000,260000,104900,156932,144152,216000,193000,127000,144000,232000,105000,165500,274300,466500,250000,239000,91000,117000,83000,167500,58500,237500,157000,112000,105000,125500,250000,136000,377500,131000,235000,124000,123000,163000,246578,281213,160000,137500,138000,137450,120000,193000,193879,282922,105000,275000,133000,112000,125500,215000,230000,140000,90000,257000,207000,175900,122500,340000,124000,223000,179900,127500,136500,274970,144000,142000,271000,140000,119000,182900,192140,143750,64500,186500,160000,174000,120500,394617,149700,197000,191000,149300,310000,121000,179600,129000,157900,240000,112000,92000,136000,287090,145000,84500,185000,175000,210000,266500,142125,147500],\"xaxis\":\"x\",\"y\":[2003.0,1976.0,2001.0,1998.0,2000.0,1993.0,2004.0,1973.0,1931.0,1939.0,1965.0,2005.0,1962.0,2006.0,1960.0,1991.0,1970.0,1967.0,2004.0,1958.0,2005.0,1930.0,2002.0,1976.0,1968.0,2007.0,2005.0,2008.0,1957.0,1920.0,1920.0,1966.0,2007.0,1959.0,2005.0,2004.0,1995.0,1954.0,1953.0,1978.5061638868744,1965.0,1959.0,1983.0,1977.0,1959.0,2005.0,2003.0,2006.0,1978.5061638868744,1966.0,1997.0,1985.0,1963.0,1981.0,1962.0,1964.0,1999.0,2004.0,2006.0,1973.0,2006.0,1935.0,2006.0,1990.0,1998.0,2004.0,1970.0,2003.0,1945.0,1953.0,1973.0,1987.0,1998.0,1989.0,1915.0,1973.0,1956.0,1948.0,1978.5061638868744,1966.0,1968.0,1998.0,2007.0,1974.0,1995.0,1991.0,2005.0,2009.0,1978.5061638868744,1978.5061638868744,1950.0,1961.0,1921.0,1900.0,1997.0,1993.0,1999.0,1965.0,1920.0,1978.5061638868744,1977.0,1985.0,1979.0,2009.0,1951.0,2003.0,1954.0,1948.0,1978.5061638868744,1977.0,1954.0,2000.0,2007.0,1953.0,1945.0,1999.0,1962.0,2007.0,1990.0,2005.0,1969.0,1979.0,1958.0,1993.0,1979.0,1978.5061638868744,1977.0,1978.5061638868744,1966.0,1998.0,1966.0,2000.0,1974.0,2001.0,1968.0,1970.0,1967.0,1989.0,1999.0,1997.0,1978.5061638868744,2005.0,2000.0,1999.0,1963.0,2004.0,1931.0,2001.0,1978.5061638868744,1936.0,1975.0,2007.0,1971.0,1960.0,1923.0,1978.5061638868744,1950.0,2009.0,2004.0,2006.0,1984.0,2003.0,2005.0,1978.5061638868744,1926.0,1978.5061638868744,1955.0,2007.0,2004.0,1981.0,1991.0,1960.0,1987.0,1961.0,1986.0,1950.0,1988.0,1958.0,2009.0,1935.0,2000.0,1920.0,1957.0,2003.0,1986.0,1993.0,1990.0,1916.0,1979.0,2001.0,1932.0,1972.0,1999.0,2004.0,1989.0,1976.0,2007.0,1918.0,1978.5061638868744,2004.0,2003.0,1980.0,1924.0,2004.0,1948.0,1990.0,1962.0,1960.0,1988.0,1964.0,1978.5061638868744,2009.0,2009.0,1996.0,1977.0,1957.0,2004.0,1940.0,1939.0,2005.0,2006.0,2002.0,1975.0,1989.0,2003.0,1991.0,1995.0,1987.0,1974.0,2005.0,1959.0,1995.0,1972.0,1976.0,2002.0,1971.0,2004.0,1993.0,2007.0,1949.0,2008.0,1978.5061638868744,1940.0,1980.0,1994.0,1988.0,1910.0,1954.0,2003.0,1958.0,1978.5061638868744,2006.0,2004.0,1964.0,1957.0,1999.0,2003.0,2006.0,2001.0,1956.0,1991.0,2007.0,1978.0,1974.0,1965.0,1981.0,1997.0,1939.0,1966.0,1987.0,2006.0,1954.0,1999.0,1958.0,1982.0,1978.0,2003.0,1951.0,2007.0,1977.0,1989.0,2006.0,2008.0,2008.0,1992.0,2006.0,1962.0,1978.5061638868744,1970.0,2003.0,2006.0,1978.5061638868744,1949.0,1977.0,1953.0,1984.0,1950.0,1997.0,1968.0,1950.0,1953.0,1998.0,2001.0,1975.0,2003.0,2004.0,1990.0,1978.5061638868744,1961.0,2003.0,1993.0,1948.0,1939.0,1965.0,1925.0,2004.0,1983.0,2006.0,1993.0,1980.0,2006.0,2004.0,1987.0,1955.0,1961.0,1941.0,1993.0,1960.0,1930.0,1920.0,2002.0,1958.0,2003.0,2004.0,1998.0,1965.0,2005.0,2002.0,1984.0,1958.0,2002.0,1950.0,1949.0,2005.0,1976.0,1939.0,1960.0,1960.0,2003.0,2006.0,2007.0,1986.0,1941.0,2005.0,1940.0,1995.0,1992.0,1976.0,1958.0,1998.0,1978.0,1940.0,2003.0,1972.0,1976.0,1964.0,1963.0,1962.0,1954.0,1997.0,2000.0,1991.0,1984.0,1953.0,2003.0,1978.5061638868744,1998.0,2004.0,2010.0,2000.0,1924.0,2006.0,2006.0,1950.0,1992.0,2004.0,1978.5061638868744,1977.0,1999.0,2008.0,1978.0,2001.0,1959.0,1978.5061638868744,1940.0,1956.0,1985.0,1962.0,1920.0,2007.0,1996.0,2005.0,1940.0,1998.0,1995.0,1993.0,1936.0,1960.0,2006.0,2008.0,1958.0,1955.0,2009.0,1927.0,1993.0,2007.0,1978.0,1918.0,1940.0,1968.0,1997.0,1977.0,1954.0,1998.0,1956.0,1947.0,1989.0,1964.0,2007.0,1988.0,1971.0,1978.5061638868744,1971.0,1997.0,1978.5061638868744,1996.0,1990.0,1926.0,1990.0,2005.0,2008.0,1978.5061638868744,1930.0,2007.0,1994.0,1956.0,1966.0,1998.0,1937.0,1981.0,1932.0,1975.0,1996.0,2008.0,1976.0,1973.0,1916.0,1954.0,1925.0,1950.0,2009.0,1971.0,1965.0,1939.0,1978.5061638868744,2004.0,1970.0,1942.0,2006.0,1993.0,1985.0,1977.0,2005.0,2006.0,2000.0,1996.0,1997.0,2006.0,2007.0,1995.0,2004.0,2003.0,1915.0,1998.0,1963.0,1950.0,1965.0,1971.0,1970.0,1970.0,1976.0,1941.0,2006.0,1964.0,1938.0,1978.5061638868744,1992.0,1925.0,1967.0,1958.0,1973.0,2005.0,1965.0,1959.0,1974.0,1952.0,1993.0,2009.0,1928.0,1959.0,1951.0,2005.0,1964.0,1983.0,1926.0,2009.0,1972.0,1996.0,1998.0,1926.0,1978.5061638868744,1957.0,1950.0,2007.0,1996.0,2005.0,1956.0,2008.0,1978.5061638868744,1975.0,1988.0,1920.0,1967.0,1978.5061638868744,2004.0,1978.5061638868744,1998.0,1980.0,1968.0,2001.0,2006.0,2000.0,1998.0,1998.0,2006.0,1988.0,1950.0,1987.0,1963.0,2003.0,1977.0,1957.0,2006.0,2002.0,2003.0,1922.0,1957.0,1994.0,1996.0,2003.0,1957.0,1975.0,1978.5061638868744,1955.0,1992.0,1920.0,2005.0,2004.0,1983.0,1979.0,1987.0,1959.0,2009.0,2000.0,1971.0,1947.0,1928.0,1966.0,2007.0,1954.0,1960.0,2009.0,1978.5061638868744,1988.0,1935.0,2005.0,1961.0,1996.0,1968.0,1988.0,2004.0,2008.0,1985.0,2003.0,1981.0,2005.0,1930.0,2006.0,1977.0,1980.0,2003.0,1979.0,1992.0,2004.0,2002.0,1965.0,2000.0,1948.0,1934.0,1961.0,2000.0,1978.0,2001.0,1978.5061638868744,1978.5061638868744,1963.0,2002.0,1962.0,2007.0,2003.0,1978.5061638868744,1974.0,1986.0,2000.0,1972.0,1962.0,1960.0,1955.0,1969.0,1964.0,1937.0,2006.0,1977.0,1954.0,1980.0,1978.5061638868744,1978.5061638868744,1954.0,1978.5061638868744,2006.0,2003.0,2001.0,1972.0,1969.0,2009.0,1979.0,1950.0,1953.0,1966.0,1978.5061638868744,2007.0,1940.0,1996.0,1906.0,1995.0,1971.0,1959.0,1931.0,1948.0,1968.0,1976.0,1994.0,1968.0,1974.0,2005.0,2000.0,1965.0,1994.0,1999.0,1922.0,2005.0,1930.0,1977.0,1957.0,1965.0,1978.0,1920.0,1924.0,2008.0,1963.0,1980.0,1968.0,1996.0,2002.0,1998.0,1984.0,2007.0,2004.0,2007.0,2005.0,2004.0,1994.0,1989.0,1968.0,1995.0,1987.0,1921.0,1952.0,1973.0,2004.0,2002.0,1969.0,2006.0,1999.0,2004.0,1978.5061638868744,1971.0,2006.0,2007.0,1966.0,1978.5061638868744,1964.0,1988.0,1970.0,1976.0,1974.0,1996.0,1973.0,1993.0,1969.0,1985.0,2004.0,1994.0,1958.0,2007.0,1989.0,1988.0,2007.0,1968.0,1962.0,1995.0,2003.0,1998.0,1961.0,1968.0,1914.0,1949.0,2005.0,1978.5061638868744,2004.0,1910.0,1962.0,2000.0,1997.0,1993.0,1994.0,2000.0,1950.0,1996.0,1945.0,1978.5061638868744,2003.0,1997.0,2005.0,1969.0,1999.0,2007.0,1978.0,1999.0,1995.0,2008.0,1965.0,2009.0,1999.0,1995.0,2008.0,1988.0,1989.0,2004.0,2003.0,1983.0,1951.0,1976.0,1958.0,2006.0,1998.0,2005.0,1974.0,1977.0,1977.0,1995.0,1992.0,2001.0,1978.0,1978.5061638868744,1967.0,1961.0,2004.0,1954.0,1966.0,2005.0,1976.0,1997.0,2007.0,1994.0,1980.0,1977.0,1953.0,2009.0,1939.0,1997.0,1957.0,2005.0,2009.0,1954.0,2008.0,1967.0,1923.0,1966.0,1910.0,1974.0,2004.0,1952.0,1958.0,1955.0,1998.0,1954.0,2002.0,1971.0,2010.0,2003.0,1974.0,2003.0,1940.0,2006.0,2007.0,1978.5061638868744,2001.0,1967.0,2005.0,1957.0,2005.0,2003.0,1964.0,1961.0,1996.0,1948.0,1973.0,1999.0,1946.0,1934.0,1983.0,1966.0,1978.5061638868744,1949.0,1975.0,1993.0,1972.0,1908.0,1976.0,2003.0,2003.0,1941.0,1964.0,1955.0,1962.0,1981.0,1994.0,1976.0,1968.0,1925.0,1965.0,1986.0,1959.0,2008.0,1973.0,2007.0,1961.0,1979.0,1993.0,1962.0,1998.0,1953.0,1949.0,1941.0,2007.0,1963.0,2004.0,1987.0,1978.0,2005.0,1990.0,1993.0,1997.0,1967.0,1999.0,2005.0,1955.0,1970.0,1953.0,2003.0,1978.0,1963.0,1954.0,1979.0,1963.0,1936.0,1979.0,2009.0,1961.0,1979.0,1968.0,2003.0,2006.0,1967.0,1954.0,2006.0,1936.0,1983.0,2005.0,1960.0,1978.0,1925.0,1949.0,2009.0,1970.0,1958.0,1956.0,1991.0,1990.0,1994.0,1978.5061638868744,2005.0,1993.0,1980.0,1977.0,2003.0,1968.0,2001.0,1997.0,2007.0,1965.0,2006.0,2004.0,1960.0,1953.0,2003.0,2005.0,2006.0,1940.0,1976.0,1999.0,1978.5061638868744,1967.0,1958.0,1963.0,1959.0,2002.0,2002.0,1972.0,1980.0,1979.0,1974.0,1969.0,1978.5061638868744,1946.0,1980.0,1977.0,2003.0,1999.0,1978.5061638868744,1977.0,1976.0,2007.0,2002.0,2005.0,1940.0,1955.0,1978.5061638868744,1958.0,1978.5061638868744,2003.0,1979.0,2007.0,1997.0,2000.0,1978.5061638868744,2007.0,1999.0,1963.0,1961.0,1998.0,2007.0,2002.0,1977.0,1950.0,1950.0,2010.0,1976.0,2006.0,1997.0,1925.0,1964.0,2005.0,2008.0,1946.0,1961.0,1970.0,1922.0,2006.0,1956.0,1920.0,2006.0,1976.0,2005.0,1977.0,1970.0,1970.0,2004.0,1978.5061638868744,1948.0,1978.5061638868744,1923.0,1956.0,1948.0,2001.0,1996.0,1984.0,1991.0,2005.0,2005.0,2006.0,1957.0,2005.0,1976.0,1980.0,1960.0,2008.0,1941.0,1972.0,1978.5061638868744,1970.0,1993.0,2002.0,1938.0,1957.0,2008.0,2001.0,1978.5061638868744,1970.0,1957.0,1966.0,2005.0,1990.0,1981.0,1955.0,2005.0,1996.0,1960.0,1946.0,2007.0,2007.0,1964.0,1957.0,2002.0,1976.0,2005.0,1994.0,2008.0,1977.0,2001.0,1994.0,1945.0,1976.0,1966.0,1996.0,1993.0,1964.0,1973.0,1985.0,1956.0,1968.0,1954.0,1977.0,2006.0,1940.0,1950.0,1969.0,2004.0,1996.0,1971.0,1963.0,2002.0,1964.0,1995.0,1992.0,1973.0,2005.0,2004.0,2005.0,1987.0,1999.0,1925.0,1977.0,1956.0,2006.0,1978.5061638868744,1987.0,1936.0,1978.0,1930.0,1981.0,1960.0,1954.0,1970.0,1994.0,1990.0,2006.0,2000.0,2004.0,1995.0,1976.0,1957.0,1953.0,1955.0,2007.0,2002.0,1967.0,1958.0,1959.0,1920.0,2005.0,1956.0,1978.5061638868744,1992.0,1977.0,2007.0,2004.0,2004.0,1980.0,1981.0,1978.5061638868744,1930.0,1995.0,1997.0,1926.0,1950.0,1978.5061638868744,1977.0,1972.0,1988.0,1976.0,2006.0,1978.5061638868744,1941.0,1928.0,1985.0,1941.0,1982.0,1930.0,1950.0,1959.0,1956.0,2002.0,1965.0,1976.0,1965.0,2008.0,2008.0,1974.0,1978.0,1993.0,1968.0,1969.0,1978.0,2009.0,2008.0,2000.0,1935.0,1995.0,1977.0,1958.0,2006.0,1978.5061638868744,1932.0,1992.0,1984.0,1926.0,1921.0,1978.5061638868744,1990.0,2008.0,1996.0,1970.0,1963.0,1965.0,1920.0,1994.0,2002.0,1999.0,1975.0,1999.0,1925.0,1999.0,1969.0,2005.0,2006.0,1916.0,2001.0,1974.0,1972.0,1998.0,1960.0,2000.0,1975.0,1990.0,1966.0,2003.0,1980.0,2006.0,1992.0,1988.0,1941.0,1965.0,1962.0,1966.0,1978.0,2009.0,1978.5061638868744,1978.5061638868744,1964.0,1968.0,1949.0,1951.0,2004.0,1958.0,2007.0,1992.0,2008.0,1960.0,1977.0,1962.0,1962.0,1959.0,1978.5061638868744,1914.0,2003.0,2004.0,2005.0,2006.0,2003.0,2007.0,1974.0,2006.0,1931.0,1984.0,2005.0,1976.0,1950.0,1950.0,1968.0,2003.0,1968.0,1974.0,2003.0,1978.0,1994.0,1978.5061638868744,2005.0,1969.0,1999.0,1956.0,1957.0,1940.0,1998.0,1999.0,1960.0,2009.0,1982.0,1958.0,1979.0,1968.0,1965.0,1959.0,1985.0,1948.0,1972.0,1967.0,2002.0,1980.0,2002.0,1990.0,1977.0,1978.5061638868744,1969.0,1939.0,1963.0,1964.0,2000.0,2006.0,1964.0,1972.0,1985.0,1976.0,1957.0,1968.0,1963.0,2005.0,2008.0,1959.0,1999.0,1942.0,1994.0,2005.0,2004.0,2006.0,2005.0,2000.0,1948.0,1991.0,1959.0,2005.0,1990.0,1999.0,1956.0,1969.0,2008.0,2006.0,2001.0,1954.0,1957.0,1955.0,1992.0,1978.5061638868744,2007.0,1978.5061638868744,1978.5061638868744,1982.0,1920.0,1998.0,2006.0,1976.0,1958.0,1951.0,1970.0,1977.0,1973.0,1978.5061638868744,2002.0,1972.0,1974.0,2004.0,2002.0,1929.0,2006.0,1997.0,1968.0,2006.0,1998.0,1978.5061638868744,1969.0,1962.0,1999.0,1996.0,2000.0,1968.0,1966.0,1971.0,2000.0,2004.0,1998.0,2005.0,1920.0,2007.0,2005.0,2000.0,1999.0,1977.0,2003.0,2003.0,1967.0,1955.0,1998.0,2001.0,2005.0,2007.0,1925.0,1977.0,1973.0,2007.0,1938.0,1970.0,1989.0,2007.0,1939.0,1922.0,1978.0,1916.0,2006.0,2003.0,2000.0,1967.0,1967.0,2003.0,2006.0,2005.0,1966.0,1933.0,1950.0,1925.0,1929.0,2004.0,2006.0,2007.0,1998.0,2004.0,1988.0,1978.5061638868744,1966.0,1986.0,2001.0,1950.0,1956.0,2005.0,1922.0,2007.0,1971.0,1998.0,1962.0,1969.0,1968.0,1977.0,2003.0,1966.0,1970.0,1960.0,1994.0,1962.0,1940.0,1981.0,2005.0,1976.0,1928.0,2000.0,1977.0,1962.0,1974.0,2008.0,1957.0,1979.0,1993.0,2004.0,2008.0,1916.0,2004.0,1990.0,1962.0,1995.0,1950.0,1978.5061638868744,1978.5061638868744,2008.0,2005.0,1978.5061638868744,2004.0,1999.0,1978.0,1941.0,1950.0,1965.0],\"yaxis\":\"y\",\"type\":\"scattergl\"}],                        {\"template\":{\"data\":{\"histogram2dcontour\":[{\"type\":\"histogram2dcontour\",\"colorbar\":{\"outlinewidth\":0,\"ticks\":\"\"},\"colorscale\":[[0.0,\"#0d0887\"],[0.1111111111111111,\"#46039f\"],[0.2222222222222222,\"#7201a8\"],[0.3333333333333333,\"#9c179e\"],[0.4444444444444444,\"#bd3786\"],[0.5555555555555556,\"#d8576b\"],[0.6666666666666666,\"#ed7953\"],[0.7777777777777778,\"#fb9f3a\"],[0.8888888888888888,\"#fdca26\"],[1.0,\"#f0f921\"]]}],\"choropleth\":[{\"type\":\"choropleth\",\"colorbar\":{\"outlinewidth\":0,\"ticks\":\"\"}}],\"histogram2d\":[{\"type\":\"histogram2d\",\"colorbar\":{\"outlinewidth\":0,\"ticks\":\"\"},\"colorscale\":[[0.0,\"#0d0887\"],[0.1111111111111111,\"#46039f\"],[0.2222222222222222,\"#7201a8\"],[0.3333333333333333,\"#9c179e\"],[0.4444444444444444,\"#bd3786\"],[0.5555555555555556,\"#d8576b\"],[0.6666666666666666,\"#ed7953\"],[0.7777777777777778,\"#fb9f3a\"],[0.8888888888888888,\"#fdca26\"],[1.0,\"#f0f921\"]]}],\"heatmap\":[{\"type\":\"heatmap\",\"colorbar\":{\"outlinewidth\":0,\"ticks\":\"\"},\"colorscale\":[[0.0,\"#0d0887\"],[0.1111111111111111,\"#46039f\"],[0.2222222222222222,\"#7201a8\"],[0.3333333333333333,\"#9c179e\"],[0.4444444444444444,\"#bd3786\"],[0.5555555555555556,\"#d8576b\"],[0.6666666666666666,\"#ed7953\"],[0.7777777777777778,\"#fb9f3a\"],[0.8888888888888888,\"#fdca26\"],[1.0,\"#f0f921\"]]}],\"heatmapgl\":[{\"type\":\"heatmapgl\",\"colorbar\":{\"outlinewidth\":0,\"ticks\":\"\"},\"colorscale\":[[0.0,\"#0d0887\"],[0.1111111111111111,\"#46039f\"],[0.2222222222222222,\"#7201a8\"],[0.3333333333333333,\"#9c179e\"],[0.4444444444444444,\"#bd3786\"],[0.5555555555555556,\"#d8576b\"],[0.6666666666666666,\"#ed7953\"],[0.7777777777777778,\"#fb9f3a\"],[0.8888888888888888,\"#fdca26\"],[1.0,\"#f0f921\"]]}],\"contourcarpet\":[{\"type\":\"contourcarpet\",\"colorbar\":{\"outlinewidth\":0,\"ticks\":\"\"}}],\"contour\":[{\"type\":\"contour\",\"colorbar\":{\"outlinewidth\":0,\"ticks\":\"\"},\"colorscale\":[[0.0,\"#0d0887\"],[0.1111111111111111,\"#46039f\"],[0.2222222222222222,\"#7201a8\"],[0.3333333333333333,\"#9c179e\"],[0.4444444444444444,\"#bd3786\"],[0.5555555555555556,\"#d8576b\"],[0.6666666666666666,\"#ed7953\"],[0.7777777777777778,\"#fb9f3a\"],[0.8888888888888888,\"#fdca26\"],[1.0,\"#f0f921\"]]}],\"surface\":[{\"type\":\"surface\",\"colorbar\":{\"outlinewidth\":0,\"ticks\":\"\"},\"colorscale\":[[0.0,\"#0d0887\"],[0.1111111111111111,\"#46039f\"],[0.2222222222222222,\"#7201a8\"],[0.3333333333333333,\"#9c179e\"],[0.4444444444444444,\"#bd3786\"],[0.5555555555555556,\"#d8576b\"],[0.6666666666666666,\"#ed7953\"],[0.7777777777777778,\"#fb9f3a\"],[0.8888888888888888,\"#fdca26\"],[1.0,\"#f0f921\"]]}],\"mesh3d\":[{\"type\":\"mesh3d\",\"colorbar\":{\"outlinewidth\":0,\"ticks\":\"\"}}],\"scatter\":[{\"fillpattern\":{\"fillmode\":\"overlay\",\"size\":10,\"solidity\":0.2},\"type\":\"scatter\"}],\"parcoords\":[{\"type\":\"parcoords\",\"line\":{\"colorbar\":{\"outlinewidth\":0,\"ticks\":\"\"}}}],\"scatterpolargl\":[{\"type\":\"scatterpolargl\",\"marker\":{\"colorbar\":{\"outlinewidth\":0,\"ticks\":\"\"}}}],\"bar\":[{\"error_x\":{\"color\":\"#2a3f5f\"},\"error_y\":{\"color\":\"#2a3f5f\"},\"marker\":{\"line\":{\"color\":\"#E5ECF6\",\"width\":0.5},\"pattern\":{\"fillmode\":\"overlay\",\"size\":10,\"solidity\":0.2}},\"type\":\"bar\"}],\"scattergeo\":[{\"type\":\"scattergeo\",\"marker\":{\"colorbar\":{\"outlinewidth\":0,\"ticks\":\"\"}}}],\"scatterpolar\":[{\"type\":\"scatterpolar\",\"marker\":{\"colorbar\":{\"outlinewidth\":0,\"ticks\":\"\"}}}],\"histogram\":[{\"marker\":{\"pattern\":{\"fillmode\":\"overlay\",\"size\":10,\"solidity\":0.2}},\"type\":\"histogram\"}],\"scattergl\":[{\"type\":\"scattergl\",\"marker\":{\"colorbar\":{\"outlinewidth\":0,\"ticks\":\"\"}}}],\"scatter3d\":[{\"type\":\"scatter3d\",\"line\":{\"colorbar\":{\"outlinewidth\":0,\"ticks\":\"\"}},\"marker\":{\"colorbar\":{\"outlinewidth\":0,\"ticks\":\"\"}}}],\"scattermapbox\":[{\"type\":\"scattermapbox\",\"marker\":{\"colorbar\":{\"outlinewidth\":0,\"ticks\":\"\"}}}],\"scatterternary\":[{\"type\":\"scatterternary\",\"marker\":{\"colorbar\":{\"outlinewidth\":0,\"ticks\":\"\"}}}],\"scattercarpet\":[{\"type\":\"scattercarpet\",\"marker\":{\"colorbar\":{\"outlinewidth\":0,\"ticks\":\"\"}}}],\"carpet\":[{\"aaxis\":{\"endlinecolor\":\"#2a3f5f\",\"gridcolor\":\"white\",\"linecolor\":\"white\",\"minorgridcolor\":\"white\",\"startlinecolor\":\"#2a3f5f\"},\"baxis\":{\"endlinecolor\":\"#2a3f5f\",\"gridcolor\":\"white\",\"linecolor\":\"white\",\"minorgridcolor\":\"white\",\"startlinecolor\":\"#2a3f5f\"},\"type\":\"carpet\"}],\"table\":[{\"cells\":{\"fill\":{\"color\":\"#EBF0F8\"},\"line\":{\"color\":\"white\"}},\"header\":{\"fill\":{\"color\":\"#C8D4E3\"},\"line\":{\"color\":\"white\"}},\"type\":\"table\"}],\"barpolar\":[{\"marker\":{\"line\":{\"color\":\"#E5ECF6\",\"width\":0.5},\"pattern\":{\"fillmode\":\"overlay\",\"size\":10,\"solidity\":0.2}},\"type\":\"barpolar\"}],\"pie\":[{\"automargin\":true,\"type\":\"pie\"}]},\"layout\":{\"autotypenumbers\":\"strict\",\"colorway\":[\"#636efa\",\"#EF553B\",\"#00cc96\",\"#ab63fa\",\"#FFA15A\",\"#19d3f3\",\"#FF6692\",\"#B6E880\",\"#FF97FF\",\"#FECB52\"],\"font\":{\"color\":\"#2a3f5f\"},\"hovermode\":\"closest\",\"hoverlabel\":{\"align\":\"left\"},\"paper_bgcolor\":\"white\",\"plot_bgcolor\":\"#E5ECF6\",\"polar\":{\"bgcolor\":\"#E5ECF6\",\"angularaxis\":{\"gridcolor\":\"white\",\"linecolor\":\"white\",\"ticks\":\"\"},\"radialaxis\":{\"gridcolor\":\"white\",\"linecolor\":\"white\",\"ticks\":\"\"}},\"ternary\":{\"bgcolor\":\"#E5ECF6\",\"aaxis\":{\"gridcolor\":\"white\",\"linecolor\":\"white\",\"ticks\":\"\"},\"baxis\":{\"gridcolor\":\"white\",\"linecolor\":\"white\",\"ticks\":\"\"},\"caxis\":{\"gridcolor\":\"white\",\"linecolor\":\"white\",\"ticks\":\"\"}},\"coloraxis\":{\"colorbar\":{\"outlinewidth\":0,\"ticks\":\"\"}},\"colorscale\":{\"sequential\":[[0.0,\"#0d0887\"],[0.1111111111111111,\"#46039f\"],[0.2222222222222222,\"#7201a8\"],[0.3333333333333333,\"#9c179e\"],[0.4444444444444444,\"#bd3786\"],[0.5555555555555556,\"#d8576b\"],[0.6666666666666666,\"#ed7953\"],[0.7777777777777778,\"#fb9f3a\"],[0.8888888888888888,\"#fdca26\"],[1.0,\"#f0f921\"]],\"sequentialminus\":[[0.0,\"#0d0887\"],[0.1111111111111111,\"#46039f\"],[0.2222222222222222,\"#7201a8\"],[0.3333333333333333,\"#9c179e\"],[0.4444444444444444,\"#bd3786\"],[0.5555555555555556,\"#d8576b\"],[0.6666666666666666,\"#ed7953\"],[0.7777777777777778,\"#fb9f3a\"],[0.8888888888888888,\"#fdca26\"],[1.0,\"#f0f921\"]],\"diverging\":[[0,\"#8e0152\"],[0.1,\"#c51b7d\"],[0.2,\"#de77ae\"],[0.3,\"#f1b6da\"],[0.4,\"#fde0ef\"],[0.5,\"#f7f7f7\"],[0.6,\"#e6f5d0\"],[0.7,\"#b8e186\"],[0.8,\"#7fbc41\"],[0.9,\"#4d9221\"],[1,\"#276419\"]]},\"xaxis\":{\"gridcolor\":\"white\",\"linecolor\":\"white\",\"ticks\":\"\",\"title\":{\"standoff\":15},\"zerolinecolor\":\"white\",\"automargin\":true,\"zerolinewidth\":2},\"yaxis\":{\"gridcolor\":\"white\",\"linecolor\":\"white\",\"ticks\":\"\",\"title\":{\"standoff\":15},\"zerolinecolor\":\"white\",\"automargin\":true,\"zerolinewidth\":2},\"scene\":{\"xaxis\":{\"backgroundcolor\":\"#E5ECF6\",\"gridcolor\":\"white\",\"linecolor\":\"white\",\"showbackground\":true,\"ticks\":\"\",\"zerolinecolor\":\"white\",\"gridwidth\":2},\"yaxis\":{\"backgroundcolor\":\"#E5ECF6\",\"gridcolor\":\"white\",\"linecolor\":\"white\",\"showbackground\":true,\"ticks\":\"\",\"zerolinecolor\":\"white\",\"gridwidth\":2},\"zaxis\":{\"backgroundcolor\":\"#E5ECF6\",\"gridcolor\":\"white\",\"linecolor\":\"white\",\"showbackground\":true,\"ticks\":\"\",\"zerolinecolor\":\"white\",\"gridwidth\":2}},\"shapedefaults\":{\"line\":{\"color\":\"#2a3f5f\"}},\"annotationdefaults\":{\"arrowcolor\":\"#2a3f5f\",\"arrowhead\":0,\"arrowwidth\":1},\"geo\":{\"bgcolor\":\"white\",\"landcolor\":\"#E5ECF6\",\"subunitcolor\":\"white\",\"showland\":true,\"showlakes\":true,\"lakecolor\":\"white\"},\"title\":{\"x\":0.05},\"mapbox\":{\"style\":\"light\"}}},\"xaxis\":{\"anchor\":\"y\",\"domain\":[0.0,1.0],\"title\":{\"text\":\"SalePrice\"}},\"yaxis\":{\"anchor\":\"x\",\"domain\":[0.0,1.0],\"title\":{\"text\":\"GarageYrBlt\"}},\"legend\":{\"tracegroupgap\":0},\"title\":{\"text\":\"SalePrice vs GarageYrBlt (0.8)\"}},                        {\"responsive\": true}                    ).then(function(){\n",
       "                            \n",
       "var gd = document.getElementById('c751a6ab-c6cb-4e48-9b31-424405673590');\n",
       "var x = new MutationObserver(function (mutations, observer) {{\n",
       "        var display = window.getComputedStyle(gd).display;\n",
       "        if (!display || display === 'none') {{\n",
       "            console.log([gd, 'removed!']);\n",
       "            Plotly.purge(gd);\n",
       "            observer.disconnect();\n",
       "        }}\n",
       "}});\n",
       "\n",
       "// Listen for the removal of the full notebook cells\n",
       "var notebookContainer = gd.closest('#notebook-container');\n",
       "if (notebookContainer) {{\n",
       "    x.observe(notebookContainer, {childList: true});\n",
       "}}\n",
       "\n",
       "// Listen for the clearing of the current output cell\n",
       "var outputEl = gd.closest('.output');\n",
       "if (outputEl) {{\n",
       "    x.observe(outputEl, {childList: true});\n",
       "}}\n",
       "\n",
       "                        })                };                });            </script>        </div>"
      ]
     },
     "metadata": {},
     "output_type": "display_data"
    }
   ],
   "source": [
    "fig = px.histogram(df, x='SalePrice', y='GarageYrBlt', title=\"SalePrice vs GarageYrBlt (0.8)\", text_auto=True)\n",
    "fig.show()\n",
    "\n",
    "fig = px.scatter(df, x = 'SalePrice', y = 'GarageYrBlt', title=\"SalePrice vs GarageYrBlt (0.8)\")\n",
    "fig.show()"
   ]
  },
  {
   "cell_type": "code",
   "execution_count": 22,
   "id": "34b07660",
   "metadata": {
    "execution": {
     "iopub.execute_input": "2023-12-05T00:01:18.334540Z",
     "iopub.status.busy": "2023-12-05T00:01:18.334173Z",
     "iopub.status.idle": "2023-12-05T00:01:18.499496Z",
     "shell.execute_reply": "2023-12-05T00:01:18.498408Z"
    },
    "papermill": {
     "duration": 0.198441,
     "end_time": "2023-12-05T00:01:18.501802",
     "exception": false,
     "start_time": "2023-12-05T00:01:18.303361",
     "status": "completed"
    },
    "tags": []
   },
   "outputs": [
    {
     "data": {
      "text/html": [
       "<div>                            <div id=\"c157b0ce-2490-45dc-be3d-20691a86d972\" class=\"plotly-graph-div\" style=\"height:525px; width:100%;\"></div>            <script type=\"text/javascript\">                require([\"plotly\"], function(Plotly) {                    window.PLOTLYENV=window.PLOTLYENV || {};                                    if (document.getElementById(\"c157b0ce-2490-45dc-be3d-20691a86d972\")) {                    Plotly.newPlot(                        \"c157b0ce-2490-45dc-be3d-20691a86d972\",                        [{\"alignmentgroup\":\"True\",\"bingroup\":\"x\",\"hovertemplate\":\"GarageCars=2\\u003cbr\\u003eGarageArea=%{x}\\u003cbr\\u003ecount=%{y}\\u003cextra\\u003e\\u003c\\u002fextra\\u003e\",\"legendgroup\":\"2\",\"marker\":{\"color\":\"#636efa\",\"pattern\":{\"shape\":\"\"}},\"name\":\"2\",\"offsetgroup\":\"2\",\"orientation\":\"v\",\"showlegend\":true,\"x\":[548,460,608,480,636,484,468,576,480,516,576,534,572,576,484,447,556,672,498,440,504,576,670,388,528,516,572,576,480,565,576,484,480,645,576,558,667,516,360,427,490,440,405,461,400,462,400,528,420,480,432,506,684,420,472,480,476,410,648,546,400,450,440,430,390,540,530,435,440,453,750,487,390,624,471,440,530,470,660,720,577,504,380,434,440,495,564,625,678,576,516,532,440,511,660,528,504,504,616,576,521,451,480,440,484,576,497,528,682,440,484,666,380,440,795,440,473,420,500,454,504,460,644,576,484,431,438,675,390,434,576,430,440,494,457,750,463,604,451,500,389,538,520,429,673,660,564,884,492,484,504,576,413,439,672,573,400,505,575,572,626,529,528,440,685,539,418,588,576,539,683,552,539,420,410,513,546,432,484,588,576,564,360,473,441,484,472,529,532,440,431,400,564,498,474,617,445,484,521,400,528,592,470,672,566,514,576,460,680,434,576,610,463,572,639,360,501,430,577,560,600,438,500,400,420,373,490,572,484,360,396,440,529,520,569,628,576,440,470,550,440,528,360,493,480,578,431,576,422,676,560,528,529,552,576,398,526,506,528,534,525,499,624,508,672,402,515,487,520,429,546,603,461,484,440,400,471,676,360,474,624,484,583,546,420,453,484,600,502,403,527,576,670,583,426,440,624,720,615,440,520,406,420,528,418,396,590,532,612,600,576,650,400,564,540,572,880,528,520,816,420,621,452,736,506,480,530,486,576,380,564,531,480,393,528,624,484,440,484,440,504,520,627,544,576,588,650,538,462,576,420,495,442,562,512,480,550,576,588,504,596,575,576,540,546,416,440,572,431,486,577,578,480,567,460,420,628,576,551,530,528,672,606,739,550,400,472,576,475,478,704,439,564,420,463,660,540,632,539,608,438,541,320,400,572,360,539,480,462,831,554,527,400,576,440,440,578,440,440,440,614,481,592,496,484,576,396,672,412,440,630,504,402,484,605,602,457,618,444,397,539,455,474,409,476,528,603,440,410,554,528,484,360,484,420,504,598,440,484,595,576,433,776,527,538,480,458,480,613,472,456,436,812,686,490,611,425,360,512,420,400,645,454,576,343,479,619,504,480,529,902,544,672,574,523,414,550,648,576,450,400,389,506,588,621,505,576,440,400,483,528,393,484,390,480,528,601,471,397,533,612,540,486,522,642,570,505,528,555,689,574,390,576,525,456,474,676,720,530,492,462,576,531,484,619,440,702,510,393,474,480,532,490,569,400,480,588,388,779,539,551,614,424,440,564,615,632,528,528,457,484,550,528,478,565,402,440,451,632,437,665,461,461,672,905,484,484,624,514,542,452,672,336,436,440,540,586,478,484,467,432,582,560,440,480,533,380,442,576,576,441,440,566,420,528,527,409,564,380,550,400,462,576,884,440,461,478,539,440,712,719,422,463,431,483,527,450,392,672,434,672,576,466,460,714,495,840,484,403,324,528,470,492,528,502,626,540,440,924,450,400,588,644,472,540,433,625,360,541,693,482,720,420,493,442,492,402,400,573,459,546,451,495,544,506,500,462,492,539,552,528,388,576,600,540,462,531,474,434,484,472,543,528,400,477,615,396,522,478,518,397,691,400,460,502,520,511,506,586,462,552,400,497,480,577,528,544,484,484,528,390,499,484,528,572,525,525,1418,490,380,840,474,480,528,496,567,508,750,576,466,442,564,520,462,576,440,630,506,492,576,647,342,440,508,514,490,624,487,500,440,621,430,432,480,663,588,420,502,583,660,400,550,576,576,564,440,541,672,572,398,662,482,396,528,542,622,420,620,370,560,540,776,440,420,432,528,525,467,372,440,451,484,462,528,923,550,672,420,626,556,525,400,460,500],\"xaxis\":\"x\",\"yaxis\":\"y\",\"type\":\"histogram\"},{\"alignmentgroup\":\"True\",\"bingroup\":\"x\",\"hovertemplate\":\"GarageCars=3\\u003cbr\\u003eGarageArea=%{x}\\u003cbr\\u003ecount=%{y}\\u003cextra\\u003e\\u003c\\u002fextra\\u003e\",\"legendgroup\":\"3\",\"marker\":{\"color\":\"#EF553B\",\"pattern\":{\"shape\":\"\"}},\"name\":\"3\",\"offsetgroup\":\"3\",\"orientation\":\"v\",\"showlegend\":true,\"x\":[642,836,736,840,853,890,772,691,826,894,641,852,758,740,792,594,766,660,866,680,726,789,1166,840,786,856,968,721,810,818,868,1053,671,732,898,843,870,888,746,708,1025,656,840,872,880,676,706,834,846,947,836,678,864,696,672,648,513,866,908,694,826,772,874,900,889,884,834,858,765,648,786,908,871,656,1390,880,842,758,648,736,774,749,648,478,839,711,1134,779,834,702,832,765,666,983,768,888,800,878,752,856,841,895,865,820,1020,857,1220,720,870,738,820,690,865,871,833,656,610,788,868,808,676,606,870,786,824,800,796,900,912,716,836,1248,826,1043,862,928,782,660,630,1052,830,776,807,813,995,757,660,701,668,1052,954,850,888,746,1014,753,844,834,779,860,748,895,825,712,666,839,770,804,936,722,758,792,648,642,754,936,660,1069,774,812,840],\"xaxis\":\"x\",\"yaxis\":\"y\",\"type\":\"histogram\"},{\"alignmentgroup\":\"True\",\"bingroup\":\"x\",\"hovertemplate\":\"GarageCars=1\\u003cbr\\u003eGarageArea=%{x}\\u003cbr\\u003ecount=%{y}\\u003cextra\\u003e\\u003c\\u002fextra\\u003e\",\"legendgroup\":\"1\",\"marker\":{\"color\":\"#00cc96\",\"pattern\":{\"shape\":\"\"}},\"name\":\"1\",\"offsetgroup\":\"1\",\"orientation\":\"v\",\"showlegend\":true,\"x\":[205,384,352,352,294,280,270,319,240,250,271,246,308,308,300,386,352,288,220,379,297,283,240,509,432,366,240,273,250,325,180,288,264,288,318,180,240,312,216,303,216,252,180,352,398,240,349,312,299,447,210,280,280,336,312,288,308,264,220,352,288,440,309,294,308,240,924,504,338,264,280,384,281,282,300,375,240,220,292,189,352,308,297,294,336,312,301,200,240,288,240,264,468,296,244,264,270,308,352,384,294,240,596,264,338,240,240,308,350,240,304,297,240,352,264,180,352,198,308,270,228,352,360,240,312,164,264,264,286,336,240,308,273,240,288,297,264,270,288,200,282,336,252,392,336,367,288,280,299,570,216,288,288,336,216,352,240,275,452,308,280,216,544,230,261,286,364,240,260,256,296,216,264,312,270,330,252,300,384,240,264,281,326,205,308,336,408,384,300,548,264,300,288,240,300,423,275,416,281,240,240,286,384,301,280,275,240,264,352,240,400,338,240,260,216,672,308,288,200,336,440,288,300,264,354,327,288,684,756,288,280,180,252,450,286,308,284,429,349,796,300,396,256,260,264,264,240,255,305,368,210,216,328,286,312,180,280,240,160,240,264,240,290,286,308,364,286,280,240,299,299,308,461,286,308,240,246,280,254,308,240,326,300,286,308,288,205,180,288,280,225,234,288,306,432,358,264,210,186,392,250,299,225,280,216,384,234,364,300,384,288,322,315,264,404,180,276,288,560,338,304,308,315,288,312,336,280,264,432,288,305,213,280,248,287,264,288,297,288,308,264,368,336,338,377,160,264,200,280,240,216,288,180,240,216,208,271,336,484,288,240,216,192,240,312,384,252,240,276],\"xaxis\":\"x\",\"yaxis\":\"y\",\"type\":\"histogram\"},{\"alignmentgroup\":\"True\",\"bingroup\":\"x\",\"hovertemplate\":\"GarageCars=0\\u003cbr\\u003eGarageArea=%{x}\\u003cbr\\u003ecount=%{y}\\u003cextra\\u003e\\u003c\\u002fextra\\u003e\",\"legendgroup\":\"0\",\"marker\":{\"color\":\"#ab63fa\",\"pattern\":{\"shape\":\"\"}},\"name\":\"0\",\"offsetgroup\":\"0\",\"orientation\":\"v\",\"showlegend\":true,\"x\":[0,0,0,0,0,0,0,0,0,0,0,0,0,0,0,0,0,0,0,0,0,0,0,0,0,0,0,0,0,0,0,0,0,0,0,0,0,0,0,0,0,0,0,0,0,0,0,0,0,0,0,0,0,0,0,0,0,0,0,0,0,0,0,0,0,0,0,0,0,0,0,0,0,0,0,0,0,0,0,0,0],\"xaxis\":\"x\",\"yaxis\":\"y\",\"type\":\"histogram\"},{\"alignmentgroup\":\"True\",\"bingroup\":\"x\",\"hovertemplate\":\"GarageCars=4\\u003cbr\\u003eGarageArea=%{x}\\u003cbr\\u003ecount=%{y}\\u003cextra\\u003e\\u003c\\u002fextra\\u003e\",\"legendgroup\":\"4\",\"marker\":{\"color\":\"#FFA15A\",\"pattern\":{\"shape\":\"\"}},\"name\":\"4\",\"offsetgroup\":\"4\",\"orientation\":\"v\",\"showlegend\":true,\"x\":[784,864,1356,480,968],\"xaxis\":\"x\",\"yaxis\":\"y\",\"type\":\"histogram\"}],                        {\"template\":{\"data\":{\"histogram2dcontour\":[{\"type\":\"histogram2dcontour\",\"colorbar\":{\"outlinewidth\":0,\"ticks\":\"\"},\"colorscale\":[[0.0,\"#0d0887\"],[0.1111111111111111,\"#46039f\"],[0.2222222222222222,\"#7201a8\"],[0.3333333333333333,\"#9c179e\"],[0.4444444444444444,\"#bd3786\"],[0.5555555555555556,\"#d8576b\"],[0.6666666666666666,\"#ed7953\"],[0.7777777777777778,\"#fb9f3a\"],[0.8888888888888888,\"#fdca26\"],[1.0,\"#f0f921\"]]}],\"choropleth\":[{\"type\":\"choropleth\",\"colorbar\":{\"outlinewidth\":0,\"ticks\":\"\"}}],\"histogram2d\":[{\"type\":\"histogram2d\",\"colorbar\":{\"outlinewidth\":0,\"ticks\":\"\"},\"colorscale\":[[0.0,\"#0d0887\"],[0.1111111111111111,\"#46039f\"],[0.2222222222222222,\"#7201a8\"],[0.3333333333333333,\"#9c179e\"],[0.4444444444444444,\"#bd3786\"],[0.5555555555555556,\"#d8576b\"],[0.6666666666666666,\"#ed7953\"],[0.7777777777777778,\"#fb9f3a\"],[0.8888888888888888,\"#fdca26\"],[1.0,\"#f0f921\"]]}],\"heatmap\":[{\"type\":\"heatmap\",\"colorbar\":{\"outlinewidth\":0,\"ticks\":\"\"},\"colorscale\":[[0.0,\"#0d0887\"],[0.1111111111111111,\"#46039f\"],[0.2222222222222222,\"#7201a8\"],[0.3333333333333333,\"#9c179e\"],[0.4444444444444444,\"#bd3786\"],[0.5555555555555556,\"#d8576b\"],[0.6666666666666666,\"#ed7953\"],[0.7777777777777778,\"#fb9f3a\"],[0.8888888888888888,\"#fdca26\"],[1.0,\"#f0f921\"]]}],\"heatmapgl\":[{\"type\":\"heatmapgl\",\"colorbar\":{\"outlinewidth\":0,\"ticks\":\"\"},\"colorscale\":[[0.0,\"#0d0887\"],[0.1111111111111111,\"#46039f\"],[0.2222222222222222,\"#7201a8\"],[0.3333333333333333,\"#9c179e\"],[0.4444444444444444,\"#bd3786\"],[0.5555555555555556,\"#d8576b\"],[0.6666666666666666,\"#ed7953\"],[0.7777777777777778,\"#fb9f3a\"],[0.8888888888888888,\"#fdca26\"],[1.0,\"#f0f921\"]]}],\"contourcarpet\":[{\"type\":\"contourcarpet\",\"colorbar\":{\"outlinewidth\":0,\"ticks\":\"\"}}],\"contour\":[{\"type\":\"contour\",\"colorbar\":{\"outlinewidth\":0,\"ticks\":\"\"},\"colorscale\":[[0.0,\"#0d0887\"],[0.1111111111111111,\"#46039f\"],[0.2222222222222222,\"#7201a8\"],[0.3333333333333333,\"#9c179e\"],[0.4444444444444444,\"#bd3786\"],[0.5555555555555556,\"#d8576b\"],[0.6666666666666666,\"#ed7953\"],[0.7777777777777778,\"#fb9f3a\"],[0.8888888888888888,\"#fdca26\"],[1.0,\"#f0f921\"]]}],\"surface\":[{\"type\":\"surface\",\"colorbar\":{\"outlinewidth\":0,\"ticks\":\"\"},\"colorscale\":[[0.0,\"#0d0887\"],[0.1111111111111111,\"#46039f\"],[0.2222222222222222,\"#7201a8\"],[0.3333333333333333,\"#9c179e\"],[0.4444444444444444,\"#bd3786\"],[0.5555555555555556,\"#d8576b\"],[0.6666666666666666,\"#ed7953\"],[0.7777777777777778,\"#fb9f3a\"],[0.8888888888888888,\"#fdca26\"],[1.0,\"#f0f921\"]]}],\"mesh3d\":[{\"type\":\"mesh3d\",\"colorbar\":{\"outlinewidth\":0,\"ticks\":\"\"}}],\"scatter\":[{\"fillpattern\":{\"fillmode\":\"overlay\",\"size\":10,\"solidity\":0.2},\"type\":\"scatter\"}],\"parcoords\":[{\"type\":\"parcoords\",\"line\":{\"colorbar\":{\"outlinewidth\":0,\"ticks\":\"\"}}}],\"scatterpolargl\":[{\"type\":\"scatterpolargl\",\"marker\":{\"colorbar\":{\"outlinewidth\":0,\"ticks\":\"\"}}}],\"bar\":[{\"error_x\":{\"color\":\"#2a3f5f\"},\"error_y\":{\"color\":\"#2a3f5f\"},\"marker\":{\"line\":{\"color\":\"#E5ECF6\",\"width\":0.5},\"pattern\":{\"fillmode\":\"overlay\",\"size\":10,\"solidity\":0.2}},\"type\":\"bar\"}],\"scattergeo\":[{\"type\":\"scattergeo\",\"marker\":{\"colorbar\":{\"outlinewidth\":0,\"ticks\":\"\"}}}],\"scatterpolar\":[{\"type\":\"scatterpolar\",\"marker\":{\"colorbar\":{\"outlinewidth\":0,\"ticks\":\"\"}}}],\"histogram\":[{\"marker\":{\"pattern\":{\"fillmode\":\"overlay\",\"size\":10,\"solidity\":0.2}},\"type\":\"histogram\"}],\"scattergl\":[{\"type\":\"scattergl\",\"marker\":{\"colorbar\":{\"outlinewidth\":0,\"ticks\":\"\"}}}],\"scatter3d\":[{\"type\":\"scatter3d\",\"line\":{\"colorbar\":{\"outlinewidth\":0,\"ticks\":\"\"}},\"marker\":{\"colorbar\":{\"outlinewidth\":0,\"ticks\":\"\"}}}],\"scattermapbox\":[{\"type\":\"scattermapbox\",\"marker\":{\"colorbar\":{\"outlinewidth\":0,\"ticks\":\"\"}}}],\"scatterternary\":[{\"type\":\"scatterternary\",\"marker\":{\"colorbar\":{\"outlinewidth\":0,\"ticks\":\"\"}}}],\"scattercarpet\":[{\"type\":\"scattercarpet\",\"marker\":{\"colorbar\":{\"outlinewidth\":0,\"ticks\":\"\"}}}],\"carpet\":[{\"aaxis\":{\"endlinecolor\":\"#2a3f5f\",\"gridcolor\":\"white\",\"linecolor\":\"white\",\"minorgridcolor\":\"white\",\"startlinecolor\":\"#2a3f5f\"},\"baxis\":{\"endlinecolor\":\"#2a3f5f\",\"gridcolor\":\"white\",\"linecolor\":\"white\",\"minorgridcolor\":\"white\",\"startlinecolor\":\"#2a3f5f\"},\"type\":\"carpet\"}],\"table\":[{\"cells\":{\"fill\":{\"color\":\"#EBF0F8\"},\"line\":{\"color\":\"white\"}},\"header\":{\"fill\":{\"color\":\"#C8D4E3\"},\"line\":{\"color\":\"white\"}},\"type\":\"table\"}],\"barpolar\":[{\"marker\":{\"line\":{\"color\":\"#E5ECF6\",\"width\":0.5},\"pattern\":{\"fillmode\":\"overlay\",\"size\":10,\"solidity\":0.2}},\"type\":\"barpolar\"}],\"pie\":[{\"automargin\":true,\"type\":\"pie\"}]},\"layout\":{\"autotypenumbers\":\"strict\",\"colorway\":[\"#636efa\",\"#EF553B\",\"#00cc96\",\"#ab63fa\",\"#FFA15A\",\"#19d3f3\",\"#FF6692\",\"#B6E880\",\"#FF97FF\",\"#FECB52\"],\"font\":{\"color\":\"#2a3f5f\"},\"hovermode\":\"closest\",\"hoverlabel\":{\"align\":\"left\"},\"paper_bgcolor\":\"white\",\"plot_bgcolor\":\"#E5ECF6\",\"polar\":{\"bgcolor\":\"#E5ECF6\",\"angularaxis\":{\"gridcolor\":\"white\",\"linecolor\":\"white\",\"ticks\":\"\"},\"radialaxis\":{\"gridcolor\":\"white\",\"linecolor\":\"white\",\"ticks\":\"\"}},\"ternary\":{\"bgcolor\":\"#E5ECF6\",\"aaxis\":{\"gridcolor\":\"white\",\"linecolor\":\"white\",\"ticks\":\"\"},\"baxis\":{\"gridcolor\":\"white\",\"linecolor\":\"white\",\"ticks\":\"\"},\"caxis\":{\"gridcolor\":\"white\",\"linecolor\":\"white\",\"ticks\":\"\"}},\"coloraxis\":{\"colorbar\":{\"outlinewidth\":0,\"ticks\":\"\"}},\"colorscale\":{\"sequential\":[[0.0,\"#0d0887\"],[0.1111111111111111,\"#46039f\"],[0.2222222222222222,\"#7201a8\"],[0.3333333333333333,\"#9c179e\"],[0.4444444444444444,\"#bd3786\"],[0.5555555555555556,\"#d8576b\"],[0.6666666666666666,\"#ed7953\"],[0.7777777777777778,\"#fb9f3a\"],[0.8888888888888888,\"#fdca26\"],[1.0,\"#f0f921\"]],\"sequentialminus\":[[0.0,\"#0d0887\"],[0.1111111111111111,\"#46039f\"],[0.2222222222222222,\"#7201a8\"],[0.3333333333333333,\"#9c179e\"],[0.4444444444444444,\"#bd3786\"],[0.5555555555555556,\"#d8576b\"],[0.6666666666666666,\"#ed7953\"],[0.7777777777777778,\"#fb9f3a\"],[0.8888888888888888,\"#fdca26\"],[1.0,\"#f0f921\"]],\"diverging\":[[0,\"#8e0152\"],[0.1,\"#c51b7d\"],[0.2,\"#de77ae\"],[0.3,\"#f1b6da\"],[0.4,\"#fde0ef\"],[0.5,\"#f7f7f7\"],[0.6,\"#e6f5d0\"],[0.7,\"#b8e186\"],[0.8,\"#7fbc41\"],[0.9,\"#4d9221\"],[1,\"#276419\"]]},\"xaxis\":{\"gridcolor\":\"white\",\"linecolor\":\"white\",\"ticks\":\"\",\"title\":{\"standoff\":15},\"zerolinecolor\":\"white\",\"automargin\":true,\"zerolinewidth\":2},\"yaxis\":{\"gridcolor\":\"white\",\"linecolor\":\"white\",\"ticks\":\"\",\"title\":{\"standoff\":15},\"zerolinecolor\":\"white\",\"automargin\":true,\"zerolinewidth\":2},\"scene\":{\"xaxis\":{\"backgroundcolor\":\"#E5ECF6\",\"gridcolor\":\"white\",\"linecolor\":\"white\",\"showbackground\":true,\"ticks\":\"\",\"zerolinecolor\":\"white\",\"gridwidth\":2},\"yaxis\":{\"backgroundcolor\":\"#E5ECF6\",\"gridcolor\":\"white\",\"linecolor\":\"white\",\"showbackground\":true,\"ticks\":\"\",\"zerolinecolor\":\"white\",\"gridwidth\":2},\"zaxis\":{\"backgroundcolor\":\"#E5ECF6\",\"gridcolor\":\"white\",\"linecolor\":\"white\",\"showbackground\":true,\"ticks\":\"\",\"zerolinecolor\":\"white\",\"gridwidth\":2}},\"shapedefaults\":{\"line\":{\"color\":\"#2a3f5f\"}},\"annotationdefaults\":{\"arrowcolor\":\"#2a3f5f\",\"arrowhead\":0,\"arrowwidth\":1},\"geo\":{\"bgcolor\":\"white\",\"landcolor\":\"#E5ECF6\",\"subunitcolor\":\"white\",\"showland\":true,\"showlakes\":true,\"lakecolor\":\"white\"},\"title\":{\"x\":0.05},\"mapbox\":{\"style\":\"light\"}}},\"xaxis\":{\"anchor\":\"y\",\"domain\":[0.0,1.0],\"title\":{\"text\":\"GarageArea\"}},\"yaxis\":{\"anchor\":\"x\",\"domain\":[0.0,1.0],\"title\":{\"text\":\"count\"}},\"legend\":{\"title\":{\"text\":\"GarageCars\"},\"tracegroupgap\":0},\"title\":{\"text\":\"GarageArea vs GarageCars (0.8)\"},\"barmode\":\"relative\"},                        {\"responsive\": true}                    ).then(function(){\n",
       "                            \n",
       "var gd = document.getElementById('c157b0ce-2490-45dc-be3d-20691a86d972');\n",
       "var x = new MutationObserver(function (mutations, observer) {{\n",
       "        var display = window.getComputedStyle(gd).display;\n",
       "        if (!display || display === 'none') {{\n",
       "            console.log([gd, 'removed!']);\n",
       "            Plotly.purge(gd);\n",
       "            observer.disconnect();\n",
       "        }}\n",
       "}});\n",
       "\n",
       "// Listen for the removal of the full notebook cells\n",
       "var notebookContainer = gd.closest('#notebook-container');\n",
       "if (notebookContainer) {{\n",
       "    x.observe(notebookContainer, {childList: true});\n",
       "}}\n",
       "\n",
       "// Listen for the clearing of the current output cell\n",
       "var outputEl = gd.closest('.output');\n",
       "if (outputEl) {{\n",
       "    x.observe(outputEl, {childList: true});\n",
       "}}\n",
       "\n",
       "                        })                };                });            </script>        </div>"
      ]
     },
     "metadata": {},
     "output_type": "display_data"
    },
    {
     "data": {
      "text/html": [
       "<div>                            <div id=\"e4536312-1f2f-4629-8224-3517739b03d9\" class=\"plotly-graph-div\" style=\"height:525px; width:100%;\"></div>            <script type=\"text/javascript\">                require([\"plotly\"], function(Plotly) {                    window.PLOTLYENV=window.PLOTLYENV || {};                                    if (document.getElementById(\"e4536312-1f2f-4629-8224-3517739b03d9\")) {                    Plotly.newPlot(                        \"e4536312-1f2f-4629-8224-3517739b03d9\",                        [{\"alignmentgroup\":\"True\",\"hovertemplate\":\"GarageCars=%{x}\\u003cbr\\u003eGarageArea=%{y}\\u003cextra\\u003e\\u003c\\u002fextra\\u003e\",\"legendgroup\":\"2\",\"marker\":{\"color\":\"#636efa\"},\"name\":\"2\",\"notched\":false,\"offsetgroup\":\"2\",\"orientation\":\"v\",\"showlegend\":true,\"x\":[2,2,2,2,2,2,2,2,2,2,2,2,2,2,2,2,2,2,2,2,2,2,2,2,2,2,2,2,2,2,2,2,2,2,2,2,2,2,2,2,2,2,2,2,2,2,2,2,2,2,2,2,2,2,2,2,2,2,2,2,2,2,2,2,2,2,2,2,2,2,2,2,2,2,2,2,2,2,2,2,2,2,2,2,2,2,2,2,2,2,2,2,2,2,2,2,2,2,2,2,2,2,2,2,2,2,2,2,2,2,2,2,2,2,2,2,2,2,2,2,2,2,2,2,2,2,2,2,2,2,2,2,2,2,2,2,2,2,2,2,2,2,2,2,2,2,2,2,2,2,2,2,2,2,2,2,2,2,2,2,2,2,2,2,2,2,2,2,2,2,2,2,2,2,2,2,2,2,2,2,2,2,2,2,2,2,2,2,2,2,2,2,2,2,2,2,2,2,2,2,2,2,2,2,2,2,2,2,2,2,2,2,2,2,2,2,2,2,2,2,2,2,2,2,2,2,2,2,2,2,2,2,2,2,2,2,2,2,2,2,2,2,2,2,2,2,2,2,2,2,2,2,2,2,2,2,2,2,2,2,2,2,2,2,2,2,2,2,2,2,2,2,2,2,2,2,2,2,2,2,2,2,2,2,2,2,2,2,2,2,2,2,2,2,2,2,2,2,2,2,2,2,2,2,2,2,2,2,2,2,2,2,2,2,2,2,2,2,2,2,2,2,2,2,2,2,2,2,2,2,2,2,2,2,2,2,2,2,2,2,2,2,2,2,2,2,2,2,2,2,2,2,2,2,2,2,2,2,2,2,2,2,2,2,2,2,2,2,2,2,2,2,2,2,2,2,2,2,2,2,2,2,2,2,2,2,2,2,2,2,2,2,2,2,2,2,2,2,2,2,2,2,2,2,2,2,2,2,2,2,2,2,2,2,2,2,2,2,2,2,2,2,2,2,2,2,2,2,2,2,2,2,2,2,2,2,2,2,2,2,2,2,2,2,2,2,2,2,2,2,2,2,2,2,2,2,2,2,2,2,2,2,2,2,2,2,2,2,2,2,2,2,2,2,2,2,2,2,2,2,2,2,2,2,2,2,2,2,2,2,2,2,2,2,2,2,2,2,2,2,2,2,2,2,2,2,2,2,2,2,2,2,2,2,2,2,2,2,2,2,2,2,2,2,2,2,2,2,2,2,2,2,2,2,2,2,2,2,2,2,2,2,2,2,2,2,2,2,2,2,2,2,2,2,2,2,2,2,2,2,2,2,2,2,2,2,2,2,2,2,2,2,2,2,2,2,2,2,2,2,2,2,2,2,2,2,2,2,2,2,2,2,2,2,2,2,2,2,2,2,2,2,2,2,2,2,2,2,2,2,2,2,2,2,2,2,2,2,2,2,2,2,2,2,2,2,2,2,2,2,2,2,2,2,2,2,2,2,2,2,2,2,2,2,2,2,2,2,2,2,2,2,2,2,2,2,2,2,2,2,2,2,2,2,2,2,2,2,2,2,2,2,2,2,2,2,2,2,2,2,2,2,2,2,2,2,2,2,2,2,2,2,2,2,2,2,2,2,2,2,2,2,2,2,2,2,2,2,2,2,2,2,2,2,2,2,2,2,2,2,2,2,2,2,2,2,2,2,2,2,2,2,2,2,2,2,2,2,2,2,2,2,2,2,2,2,2,2,2,2,2,2,2,2,2,2,2,2,2,2,2,2,2,2,2,2,2,2,2,2,2,2,2,2,2,2,2,2,2,2,2,2,2,2,2,2,2,2,2,2,2,2,2,2,2,2,2,2,2,2,2,2,2,2,2,2,2,2,2,2,2,2,2,2,2,2,2,2,2,2,2,2,2,2],\"x0\":\" \",\"xaxis\":\"x\",\"y\":[548,460,608,480,636,484,468,576,480,516,576,534,572,576,484,447,556,672,498,440,504,576,670,388,528,516,572,576,480,565,576,484,480,645,576,558,667,516,360,427,490,440,405,461,400,462,400,528,420,480,432,506,684,420,472,480,476,410,648,546,400,450,440,430,390,540,530,435,440,453,750,487,390,624,471,440,530,470,660,720,577,504,380,434,440,495,564,625,678,576,516,532,440,511,660,528,504,504,616,576,521,451,480,440,484,576,497,528,682,440,484,666,380,440,795,440,473,420,500,454,504,460,644,576,484,431,438,675,390,434,576,430,440,494,457,750,463,604,451,500,389,538,520,429,673,660,564,884,492,484,504,576,413,439,672,573,400,505,575,572,626,529,528,440,685,539,418,588,576,539,683,552,539,420,410,513,546,432,484,588,576,564,360,473,441,484,472,529,532,440,431,400,564,498,474,617,445,484,521,400,528,592,470,672,566,514,576,460,680,434,576,610,463,572,639,360,501,430,577,560,600,438,500,400,420,373,490,572,484,360,396,440,529,520,569,628,576,440,470,550,440,528,360,493,480,578,431,576,422,676,560,528,529,552,576,398,526,506,528,534,525,499,624,508,672,402,515,487,520,429,546,603,461,484,440,400,471,676,360,474,624,484,583,546,420,453,484,600,502,403,527,576,670,583,426,440,624,720,615,440,520,406,420,528,418,396,590,532,612,600,576,650,400,564,540,572,880,528,520,816,420,621,452,736,506,480,530,486,576,380,564,531,480,393,528,624,484,440,484,440,504,520,627,544,576,588,650,538,462,576,420,495,442,562,512,480,550,576,588,504,596,575,576,540,546,416,440,572,431,486,577,578,480,567,460,420,628,576,551,530,528,672,606,739,550,400,472,576,475,478,704,439,564,420,463,660,540,632,539,608,438,541,320,400,572,360,539,480,462,831,554,527,400,576,440,440,578,440,440,440,614,481,592,496,484,576,396,672,412,440,630,504,402,484,605,602,457,618,444,397,539,455,474,409,476,528,603,440,410,554,528,484,360,484,420,504,598,440,484,595,576,433,776,527,538,480,458,480,613,472,456,436,812,686,490,611,425,360,512,420,400,645,454,576,343,479,619,504,480,529,902,544,672,574,523,414,550,648,576,450,400,389,506,588,621,505,576,440,400,483,528,393,484,390,480,528,601,471,397,533,612,540,486,522,642,570,505,528,555,689,574,390,576,525,456,474,676,720,530,492,462,576,531,484,619,440,702,510,393,474,480,532,490,569,400,480,588,388,779,539,551,614,424,440,564,615,632,528,528,457,484,550,528,478,565,402,440,451,632,437,665,461,461,672,905,484,484,624,514,542,452,672,336,436,440,540,586,478,484,467,432,582,560,440,480,533,380,442,576,576,441,440,566,420,528,527,409,564,380,550,400,462,576,884,440,461,478,539,440,712,719,422,463,431,483,527,450,392,672,434,672,576,466,460,714,495,840,484,403,324,528,470,492,528,502,626,540,440,924,450,400,588,644,472,540,433,625,360,541,693,482,720,420,493,442,492,402,400,573,459,546,451,495,544,506,500,462,492,539,552,528,388,576,600,540,462,531,474,434,484,472,543,528,400,477,615,396,522,478,518,397,691,400,460,502,520,511,506,586,462,552,400,497,480,577,528,544,484,484,528,390,499,484,528,572,525,525,1418,490,380,840,474,480,528,496,567,508,750,576,466,442,564,520,462,576,440,630,506,492,576,647,342,440,508,514,490,624,487,500,440,621,430,432,480,663,588,420,502,583,660,400,550,576,576,564,440,541,672,572,398,662,482,396,528,542,622,420,620,370,560,540,776,440,420,432,528,525,467,372,440,451,484,462,528,923,550,672,420,626,556,525,400,460,500],\"y0\":\" \",\"yaxis\":\"y\",\"type\":\"box\"},{\"alignmentgroup\":\"True\",\"hovertemplate\":\"GarageCars=%{x}\\u003cbr\\u003eGarageArea=%{y}\\u003cextra\\u003e\\u003c\\u002fextra\\u003e\",\"legendgroup\":\"3\",\"marker\":{\"color\":\"#EF553B\"},\"name\":\"3\",\"notched\":false,\"offsetgroup\":\"3\",\"orientation\":\"v\",\"showlegend\":true,\"x\":[3,3,3,3,3,3,3,3,3,3,3,3,3,3,3,3,3,3,3,3,3,3,3,3,3,3,3,3,3,3,3,3,3,3,3,3,3,3,3,3,3,3,3,3,3,3,3,3,3,3,3,3,3,3,3,3,3,3,3,3,3,3,3,3,3,3,3,3,3,3,3,3,3,3,3,3,3,3,3,3,3,3,3,3,3,3,3,3,3,3,3,3,3,3,3,3,3,3,3,3,3,3,3,3,3,3,3,3,3,3,3,3,3,3,3,3,3,3,3,3,3,3,3,3,3,3,3,3,3,3,3,3,3,3,3,3,3,3,3,3,3,3,3,3,3,3,3,3,3,3,3,3,3,3,3,3,3,3,3,3,3,3,3,3,3,3,3,3,3,3,3,3,3,3,3,3,3,3,3,3,3],\"x0\":\" \",\"xaxis\":\"x\",\"y\":[642,836,736,840,853,890,772,691,826,894,641,852,758,740,792,594,766,660,866,680,726,789,1166,840,786,856,968,721,810,818,868,1053,671,732,898,843,870,888,746,708,1025,656,840,872,880,676,706,834,846,947,836,678,864,696,672,648,513,866,908,694,826,772,874,900,889,884,834,858,765,648,786,908,871,656,1390,880,842,758,648,736,774,749,648,478,839,711,1134,779,834,702,832,765,666,983,768,888,800,878,752,856,841,895,865,820,1020,857,1220,720,870,738,820,690,865,871,833,656,610,788,868,808,676,606,870,786,824,800,796,900,912,716,836,1248,826,1043,862,928,782,660,630,1052,830,776,807,813,995,757,660,701,668,1052,954,850,888,746,1014,753,844,834,779,860,748,895,825,712,666,839,770,804,936,722,758,792,648,642,754,936,660,1069,774,812,840],\"y0\":\" \",\"yaxis\":\"y\",\"type\":\"box\"},{\"alignmentgroup\":\"True\",\"hovertemplate\":\"GarageCars=%{x}\\u003cbr\\u003eGarageArea=%{y}\\u003cextra\\u003e\\u003c\\u002fextra\\u003e\",\"legendgroup\":\"1\",\"marker\":{\"color\":\"#00cc96\"},\"name\":\"1\",\"notched\":false,\"offsetgroup\":\"1\",\"orientation\":\"v\",\"showlegend\":true,\"x\":[1,1,1,1,1,1,1,1,1,1,1,1,1,1,1,1,1,1,1,1,1,1,1,1,1,1,1,1,1,1,1,1,1,1,1,1,1,1,1,1,1,1,1,1,1,1,1,1,1,1,1,1,1,1,1,1,1,1,1,1,1,1,1,1,1,1,1,1,1,1,1,1,1,1,1,1,1,1,1,1,1,1,1,1,1,1,1,1,1,1,1,1,1,1,1,1,1,1,1,1,1,1,1,1,1,1,1,1,1,1,1,1,1,1,1,1,1,1,1,1,1,1,1,1,1,1,1,1,1,1,1,1,1,1,1,1,1,1,1,1,1,1,1,1,1,1,1,1,1,1,1,1,1,1,1,1,1,1,1,1,1,1,1,1,1,1,1,1,1,1,1,1,1,1,1,1,1,1,1,1,1,1,1,1,1,1,1,1,1,1,1,1,1,1,1,1,1,1,1,1,1,1,1,1,1,1,1,1,1,1,1,1,1,1,1,1,1,1,1,1,1,1,1,1,1,1,1,1,1,1,1,1,1,1,1,1,1,1,1,1,1,1,1,1,1,1,1,1,1,1,1,1,1,1,1,1,1,1,1,1,1,1,1,1,1,1,1,1,1,1,1,1,1,1,1,1,1,1,1,1,1,1,1,1,1,1,1,1,1,1,1,1,1,1,1,1,1,1,1,1,1,1,1,1,1,1,1,1,1,1,1,1,1,1,1,1,1,1,1,1,1,1,1,1,1,1,1,1,1,1,1,1,1,1,1,1,1,1,1,1,1,1,1,1,1,1,1,1,1,1,1,1,1,1,1,1,1,1,1,1,1,1,1,1,1,1,1,1,1],\"x0\":\" \",\"xaxis\":\"x\",\"y\":[205,384,352,352,294,280,270,319,240,250,271,246,308,308,300,386,352,288,220,379,297,283,240,509,432,366,240,273,250,325,180,288,264,288,318,180,240,312,216,303,216,252,180,352,398,240,349,312,299,447,210,280,280,336,312,288,308,264,220,352,288,440,309,294,308,240,924,504,338,264,280,384,281,282,300,375,240,220,292,189,352,308,297,294,336,312,301,200,240,288,240,264,468,296,244,264,270,308,352,384,294,240,596,264,338,240,240,308,350,240,304,297,240,352,264,180,352,198,308,270,228,352,360,240,312,164,264,264,286,336,240,308,273,240,288,297,264,270,288,200,282,336,252,392,336,367,288,280,299,570,216,288,288,336,216,352,240,275,452,308,280,216,544,230,261,286,364,240,260,256,296,216,264,312,270,330,252,300,384,240,264,281,326,205,308,336,408,384,300,548,264,300,288,240,300,423,275,416,281,240,240,286,384,301,280,275,240,264,352,240,400,338,240,260,216,672,308,288,200,336,440,288,300,264,354,327,288,684,756,288,280,180,252,450,286,308,284,429,349,796,300,396,256,260,264,264,240,255,305,368,210,216,328,286,312,180,280,240,160,240,264,240,290,286,308,364,286,280,240,299,299,308,461,286,308,240,246,280,254,308,240,326,300,286,308,288,205,180,288,280,225,234,288,306,432,358,264,210,186,392,250,299,225,280,216,384,234,364,300,384,288,322,315,264,404,180,276,288,560,338,304,308,315,288,312,336,280,264,432,288,305,213,280,248,287,264,288,297,288,308,264,368,336,338,377,160,264,200,280,240,216,288,180,240,216,208,271,336,484,288,240,216,192,240,312,384,252,240,276],\"y0\":\" \",\"yaxis\":\"y\",\"type\":\"box\"},{\"alignmentgroup\":\"True\",\"hovertemplate\":\"GarageCars=%{x}\\u003cbr\\u003eGarageArea=%{y}\\u003cextra\\u003e\\u003c\\u002fextra\\u003e\",\"legendgroup\":\"0\",\"marker\":{\"color\":\"#ab63fa\"},\"name\":\"0\",\"notched\":false,\"offsetgroup\":\"0\",\"orientation\":\"v\",\"showlegend\":true,\"x\":[0,0,0,0,0,0,0,0,0,0,0,0,0,0,0,0,0,0,0,0,0,0,0,0,0,0,0,0,0,0,0,0,0,0,0,0,0,0,0,0,0,0,0,0,0,0,0,0,0,0,0,0,0,0,0,0,0,0,0,0,0,0,0,0,0,0,0,0,0,0,0,0,0,0,0,0,0,0,0,0,0],\"x0\":\" \",\"xaxis\":\"x\",\"y\":[0,0,0,0,0,0,0,0,0,0,0,0,0,0,0,0,0,0,0,0,0,0,0,0,0,0,0,0,0,0,0,0,0,0,0,0,0,0,0,0,0,0,0,0,0,0,0,0,0,0,0,0,0,0,0,0,0,0,0,0,0,0,0,0,0,0,0,0,0,0,0,0,0,0,0,0,0,0,0,0,0],\"y0\":\" \",\"yaxis\":\"y\",\"type\":\"box\"},{\"alignmentgroup\":\"True\",\"hovertemplate\":\"GarageCars=%{x}\\u003cbr\\u003eGarageArea=%{y}\\u003cextra\\u003e\\u003c\\u002fextra\\u003e\",\"legendgroup\":\"4\",\"marker\":{\"color\":\"#FFA15A\"},\"name\":\"4\",\"notched\":false,\"offsetgroup\":\"4\",\"orientation\":\"v\",\"showlegend\":true,\"x\":[4,4,4,4,4],\"x0\":\" \",\"xaxis\":\"x\",\"y\":[784,864,1356,480,968],\"y0\":\" \",\"yaxis\":\"y\",\"type\":\"box\"}],                        {\"template\":{\"data\":{\"histogram2dcontour\":[{\"type\":\"histogram2dcontour\",\"colorbar\":{\"outlinewidth\":0,\"ticks\":\"\"},\"colorscale\":[[0.0,\"#0d0887\"],[0.1111111111111111,\"#46039f\"],[0.2222222222222222,\"#7201a8\"],[0.3333333333333333,\"#9c179e\"],[0.4444444444444444,\"#bd3786\"],[0.5555555555555556,\"#d8576b\"],[0.6666666666666666,\"#ed7953\"],[0.7777777777777778,\"#fb9f3a\"],[0.8888888888888888,\"#fdca26\"],[1.0,\"#f0f921\"]]}],\"choropleth\":[{\"type\":\"choropleth\",\"colorbar\":{\"outlinewidth\":0,\"ticks\":\"\"}}],\"histogram2d\":[{\"type\":\"histogram2d\",\"colorbar\":{\"outlinewidth\":0,\"ticks\":\"\"},\"colorscale\":[[0.0,\"#0d0887\"],[0.1111111111111111,\"#46039f\"],[0.2222222222222222,\"#7201a8\"],[0.3333333333333333,\"#9c179e\"],[0.4444444444444444,\"#bd3786\"],[0.5555555555555556,\"#d8576b\"],[0.6666666666666666,\"#ed7953\"],[0.7777777777777778,\"#fb9f3a\"],[0.8888888888888888,\"#fdca26\"],[1.0,\"#f0f921\"]]}],\"heatmap\":[{\"type\":\"heatmap\",\"colorbar\":{\"outlinewidth\":0,\"ticks\":\"\"},\"colorscale\":[[0.0,\"#0d0887\"],[0.1111111111111111,\"#46039f\"],[0.2222222222222222,\"#7201a8\"],[0.3333333333333333,\"#9c179e\"],[0.4444444444444444,\"#bd3786\"],[0.5555555555555556,\"#d8576b\"],[0.6666666666666666,\"#ed7953\"],[0.7777777777777778,\"#fb9f3a\"],[0.8888888888888888,\"#fdca26\"],[1.0,\"#f0f921\"]]}],\"heatmapgl\":[{\"type\":\"heatmapgl\",\"colorbar\":{\"outlinewidth\":0,\"ticks\":\"\"},\"colorscale\":[[0.0,\"#0d0887\"],[0.1111111111111111,\"#46039f\"],[0.2222222222222222,\"#7201a8\"],[0.3333333333333333,\"#9c179e\"],[0.4444444444444444,\"#bd3786\"],[0.5555555555555556,\"#d8576b\"],[0.6666666666666666,\"#ed7953\"],[0.7777777777777778,\"#fb9f3a\"],[0.8888888888888888,\"#fdca26\"],[1.0,\"#f0f921\"]]}],\"contourcarpet\":[{\"type\":\"contourcarpet\",\"colorbar\":{\"outlinewidth\":0,\"ticks\":\"\"}}],\"contour\":[{\"type\":\"contour\",\"colorbar\":{\"outlinewidth\":0,\"ticks\":\"\"},\"colorscale\":[[0.0,\"#0d0887\"],[0.1111111111111111,\"#46039f\"],[0.2222222222222222,\"#7201a8\"],[0.3333333333333333,\"#9c179e\"],[0.4444444444444444,\"#bd3786\"],[0.5555555555555556,\"#d8576b\"],[0.6666666666666666,\"#ed7953\"],[0.7777777777777778,\"#fb9f3a\"],[0.8888888888888888,\"#fdca26\"],[1.0,\"#f0f921\"]]}],\"surface\":[{\"type\":\"surface\",\"colorbar\":{\"outlinewidth\":0,\"ticks\":\"\"},\"colorscale\":[[0.0,\"#0d0887\"],[0.1111111111111111,\"#46039f\"],[0.2222222222222222,\"#7201a8\"],[0.3333333333333333,\"#9c179e\"],[0.4444444444444444,\"#bd3786\"],[0.5555555555555556,\"#d8576b\"],[0.6666666666666666,\"#ed7953\"],[0.7777777777777778,\"#fb9f3a\"],[0.8888888888888888,\"#fdca26\"],[1.0,\"#f0f921\"]]}],\"mesh3d\":[{\"type\":\"mesh3d\",\"colorbar\":{\"outlinewidth\":0,\"ticks\":\"\"}}],\"scatter\":[{\"fillpattern\":{\"fillmode\":\"overlay\",\"size\":10,\"solidity\":0.2},\"type\":\"scatter\"}],\"parcoords\":[{\"type\":\"parcoords\",\"line\":{\"colorbar\":{\"outlinewidth\":0,\"ticks\":\"\"}}}],\"scatterpolargl\":[{\"type\":\"scatterpolargl\",\"marker\":{\"colorbar\":{\"outlinewidth\":0,\"ticks\":\"\"}}}],\"bar\":[{\"error_x\":{\"color\":\"#2a3f5f\"},\"error_y\":{\"color\":\"#2a3f5f\"},\"marker\":{\"line\":{\"color\":\"#E5ECF6\",\"width\":0.5},\"pattern\":{\"fillmode\":\"overlay\",\"size\":10,\"solidity\":0.2}},\"type\":\"bar\"}],\"scattergeo\":[{\"type\":\"scattergeo\",\"marker\":{\"colorbar\":{\"outlinewidth\":0,\"ticks\":\"\"}}}],\"scatterpolar\":[{\"type\":\"scatterpolar\",\"marker\":{\"colorbar\":{\"outlinewidth\":0,\"ticks\":\"\"}}}],\"histogram\":[{\"marker\":{\"pattern\":{\"fillmode\":\"overlay\",\"size\":10,\"solidity\":0.2}},\"type\":\"histogram\"}],\"scattergl\":[{\"type\":\"scattergl\",\"marker\":{\"colorbar\":{\"outlinewidth\":0,\"ticks\":\"\"}}}],\"scatter3d\":[{\"type\":\"scatter3d\",\"line\":{\"colorbar\":{\"outlinewidth\":0,\"ticks\":\"\"}},\"marker\":{\"colorbar\":{\"outlinewidth\":0,\"ticks\":\"\"}}}],\"scattermapbox\":[{\"type\":\"scattermapbox\",\"marker\":{\"colorbar\":{\"outlinewidth\":0,\"ticks\":\"\"}}}],\"scatterternary\":[{\"type\":\"scatterternary\",\"marker\":{\"colorbar\":{\"outlinewidth\":0,\"ticks\":\"\"}}}],\"scattercarpet\":[{\"type\":\"scattercarpet\",\"marker\":{\"colorbar\":{\"outlinewidth\":0,\"ticks\":\"\"}}}],\"carpet\":[{\"aaxis\":{\"endlinecolor\":\"#2a3f5f\",\"gridcolor\":\"white\",\"linecolor\":\"white\",\"minorgridcolor\":\"white\",\"startlinecolor\":\"#2a3f5f\"},\"baxis\":{\"endlinecolor\":\"#2a3f5f\",\"gridcolor\":\"white\",\"linecolor\":\"white\",\"minorgridcolor\":\"white\",\"startlinecolor\":\"#2a3f5f\"},\"type\":\"carpet\"}],\"table\":[{\"cells\":{\"fill\":{\"color\":\"#EBF0F8\"},\"line\":{\"color\":\"white\"}},\"header\":{\"fill\":{\"color\":\"#C8D4E3\"},\"line\":{\"color\":\"white\"}},\"type\":\"table\"}],\"barpolar\":[{\"marker\":{\"line\":{\"color\":\"#E5ECF6\",\"width\":0.5},\"pattern\":{\"fillmode\":\"overlay\",\"size\":10,\"solidity\":0.2}},\"type\":\"barpolar\"}],\"pie\":[{\"automargin\":true,\"type\":\"pie\"}]},\"layout\":{\"autotypenumbers\":\"strict\",\"colorway\":[\"#636efa\",\"#EF553B\",\"#00cc96\",\"#ab63fa\",\"#FFA15A\",\"#19d3f3\",\"#FF6692\",\"#B6E880\",\"#FF97FF\",\"#FECB52\"],\"font\":{\"color\":\"#2a3f5f\"},\"hovermode\":\"closest\",\"hoverlabel\":{\"align\":\"left\"},\"paper_bgcolor\":\"white\",\"plot_bgcolor\":\"#E5ECF6\",\"polar\":{\"bgcolor\":\"#E5ECF6\",\"angularaxis\":{\"gridcolor\":\"white\",\"linecolor\":\"white\",\"ticks\":\"\"},\"radialaxis\":{\"gridcolor\":\"white\",\"linecolor\":\"white\",\"ticks\":\"\"}},\"ternary\":{\"bgcolor\":\"#E5ECF6\",\"aaxis\":{\"gridcolor\":\"white\",\"linecolor\":\"white\",\"ticks\":\"\"},\"baxis\":{\"gridcolor\":\"white\",\"linecolor\":\"white\",\"ticks\":\"\"},\"caxis\":{\"gridcolor\":\"white\",\"linecolor\":\"white\",\"ticks\":\"\"}},\"coloraxis\":{\"colorbar\":{\"outlinewidth\":0,\"ticks\":\"\"}},\"colorscale\":{\"sequential\":[[0.0,\"#0d0887\"],[0.1111111111111111,\"#46039f\"],[0.2222222222222222,\"#7201a8\"],[0.3333333333333333,\"#9c179e\"],[0.4444444444444444,\"#bd3786\"],[0.5555555555555556,\"#d8576b\"],[0.6666666666666666,\"#ed7953\"],[0.7777777777777778,\"#fb9f3a\"],[0.8888888888888888,\"#fdca26\"],[1.0,\"#f0f921\"]],\"sequentialminus\":[[0.0,\"#0d0887\"],[0.1111111111111111,\"#46039f\"],[0.2222222222222222,\"#7201a8\"],[0.3333333333333333,\"#9c179e\"],[0.4444444444444444,\"#bd3786\"],[0.5555555555555556,\"#d8576b\"],[0.6666666666666666,\"#ed7953\"],[0.7777777777777778,\"#fb9f3a\"],[0.8888888888888888,\"#fdca26\"],[1.0,\"#f0f921\"]],\"diverging\":[[0,\"#8e0152\"],[0.1,\"#c51b7d\"],[0.2,\"#de77ae\"],[0.3,\"#f1b6da\"],[0.4,\"#fde0ef\"],[0.5,\"#f7f7f7\"],[0.6,\"#e6f5d0\"],[0.7,\"#b8e186\"],[0.8,\"#7fbc41\"],[0.9,\"#4d9221\"],[1,\"#276419\"]]},\"xaxis\":{\"gridcolor\":\"white\",\"linecolor\":\"white\",\"ticks\":\"\",\"title\":{\"standoff\":15},\"zerolinecolor\":\"white\",\"automargin\":true,\"zerolinewidth\":2},\"yaxis\":{\"gridcolor\":\"white\",\"linecolor\":\"white\",\"ticks\":\"\",\"title\":{\"standoff\":15},\"zerolinecolor\":\"white\",\"automargin\":true,\"zerolinewidth\":2},\"scene\":{\"xaxis\":{\"backgroundcolor\":\"#E5ECF6\",\"gridcolor\":\"white\",\"linecolor\":\"white\",\"showbackground\":true,\"ticks\":\"\",\"zerolinecolor\":\"white\",\"gridwidth\":2},\"yaxis\":{\"backgroundcolor\":\"#E5ECF6\",\"gridcolor\":\"white\",\"linecolor\":\"white\",\"showbackground\":true,\"ticks\":\"\",\"zerolinecolor\":\"white\",\"gridwidth\":2},\"zaxis\":{\"backgroundcolor\":\"#E5ECF6\",\"gridcolor\":\"white\",\"linecolor\":\"white\",\"showbackground\":true,\"ticks\":\"\",\"zerolinecolor\":\"white\",\"gridwidth\":2}},\"shapedefaults\":{\"line\":{\"color\":\"#2a3f5f\"}},\"annotationdefaults\":{\"arrowcolor\":\"#2a3f5f\",\"arrowhead\":0,\"arrowwidth\":1},\"geo\":{\"bgcolor\":\"white\",\"landcolor\":\"#E5ECF6\",\"subunitcolor\":\"white\",\"showland\":true,\"showlakes\":true,\"lakecolor\":\"white\"},\"title\":{\"x\":0.05},\"mapbox\":{\"style\":\"light\"}}},\"xaxis\":{\"anchor\":\"y\",\"domain\":[0.0,1.0],\"title\":{\"text\":\"GarageCars\"},\"categoryorder\":\"array\",\"categoryarray\":[2,3,1,0,4]},\"yaxis\":{\"anchor\":\"x\",\"domain\":[0.0,1.0],\"title\":{\"text\":\"GarageArea\"}},\"legend\":{\"title\":{\"text\":\"GarageCars\"},\"tracegroupgap\":0},\"title\":{\"text\":\"GarageArea vs GarageCars (0.8)\"},\"boxmode\":\"overlay\"},                        {\"responsive\": true}                    ).then(function(){\n",
       "                            \n",
       "var gd = document.getElementById('e4536312-1f2f-4629-8224-3517739b03d9');\n",
       "var x = new MutationObserver(function (mutations, observer) {{\n",
       "        var display = window.getComputedStyle(gd).display;\n",
       "        if (!display || display === 'none') {{\n",
       "            console.log([gd, 'removed!']);\n",
       "            Plotly.purge(gd);\n",
       "            observer.disconnect();\n",
       "        }}\n",
       "}});\n",
       "\n",
       "// Listen for the removal of the full notebook cells\n",
       "var notebookContainer = gd.closest('#notebook-container');\n",
       "if (notebookContainer) {{\n",
       "    x.observe(notebookContainer, {childList: true});\n",
       "}}\n",
       "\n",
       "// Listen for the clearing of the current output cell\n",
       "var outputEl = gd.closest('.output');\n",
       "if (outputEl) {{\n",
       "    x.observe(outputEl, {childList: true});\n",
       "}}\n",
       "\n",
       "                        })                };                });            </script>        </div>"
      ]
     },
     "metadata": {},
     "output_type": "display_data"
    }
   ],
   "source": [
    "fig = px.histogram(df, 'GarageArea', color=\"GarageCars\", title=\"GarageArea vs GarageCars (0.8)\")\n",
    "fig.show()\n",
    "\n",
    "fig = px.box(df, y = 'GarageArea', x = 'GarageCars', color=\"GarageCars\", title=\"GarageArea vs GarageCars (0.8)\")\n",
    "fig.show()"
   ]
  },
  {
   "cell_type": "markdown",
   "id": "2f765eff",
   "metadata": {
    "papermill": {
     "duration": 0.030947,
     "end_time": "2023-12-05T00:01:18.563879",
     "exception": false,
     "start_time": "2023-12-05T00:01:18.532932",
     "status": "completed"
    },
    "tags": []
   },
   "source": [
    "The **correlation** observed between **Garage Area** and the **number of garage cars** appears intuitively **logical**. As the **count of cars escalates**, a **corresponding increase** in **the necessary garage area** for accommodating these **cars naturally follows**. This relationship adheres to an expected and pragmatic pattern, where the need for more space aligns with an increased number of cars needing storage within the garage."
   ]
  },
  {
   "cell_type": "markdown",
   "id": "cc962c75",
   "metadata": {
    "papermill": {
     "duration": 0.029853,
     "end_time": "2023-12-05T00:01:18.624362",
     "exception": false,
     "start_time": "2023-12-05T00:01:18.594509",
     "status": "completed"
    },
    "tags": []
   },
   "source": [
    "# **ML Models - Data Preprocessing**"
   ]
  },
  {
   "cell_type": "markdown",
   "id": "c0880cf2",
   "metadata": {
    "papermill": {
     "duration": 0.029931,
     "end_time": "2023-12-05T00:01:18.684503",
     "exception": false,
     "start_time": "2023-12-05T00:01:18.654572",
     "status": "completed"
    },
    "tags": []
   },
   "source": [
    "Prior to advancing further, a crucial step involves meticulous **data preprocessing** to ensure **compatibility with our machine learning models**. Firstly, we'll partition **the dataset** into **separate training and testing sets**, essential for **model evaluation**. Additionally, the **disparate scales** among the **features necessitate scaling to establish uniformity**, a practice known to **enhance model performance**. Employing the **StandardScaler,** we aim to **standardize the data**, aligning **all feature scales**, a **recognized method** for **optimizing model** performance by ensuring consistency **across the dataset.**"
   ]
  },
  {
   "cell_type": "code",
   "execution_count": 23,
   "id": "5c7d7136",
   "metadata": {
    "execution": {
     "iopub.execute_input": "2023-12-05T00:01:18.747091Z",
     "iopub.status.busy": "2023-12-05T00:01:18.746664Z",
     "iopub.status.idle": "2023-12-05T00:01:18.756646Z",
     "shell.execute_reply": "2023-12-05T00:01:18.755493Z"
    },
    "papermill": {
     "duration": 0.044254,
     "end_time": "2023-12-05T00:01:18.759360",
     "exception": false,
     "start_time": "2023-12-05T00:01:18.715106",
     "status": "completed"
    },
    "tags": []
   },
   "outputs": [],
   "source": [
    "# Target Column\n",
    "Y_data = df.pop('SalePrice')\n",
    "\n",
    "# Feature Columns\n",
    "X_data = df.copy()"
   ]
  },
  {
   "cell_type": "code",
   "execution_count": 24,
   "id": "89d2b7b8",
   "metadata": {
    "execution": {
     "iopub.execute_input": "2023-12-05T00:01:18.822742Z",
     "iopub.status.busy": "2023-12-05T00:01:18.822302Z",
     "iopub.status.idle": "2023-12-05T00:01:18.835737Z",
     "shell.execute_reply": "2023-12-05T00:01:18.834577Z"
    },
    "papermill": {
     "duration": 0.048042,
     "end_time": "2023-12-05T00:01:18.838256",
     "exception": false,
     "start_time": "2023-12-05T00:01:18.790214",
     "status": "completed"
    },
    "tags": []
   },
   "outputs": [],
   "source": [
    "# Applying Standard Scaler\n",
    "scaler = StandardScaler()\n",
    "X_scaled = scaler.fit_transform(X_data)"
   ]
  },
  {
   "cell_type": "code",
   "execution_count": 25,
   "id": "b46dbb0e",
   "metadata": {
    "execution": {
     "iopub.execute_input": "2023-12-05T00:01:18.902015Z",
     "iopub.status.busy": "2023-12-05T00:01:18.901586Z",
     "iopub.status.idle": "2023-12-05T00:01:18.908648Z",
     "shell.execute_reply": "2023-12-05T00:01:18.907587Z"
    },
    "papermill": {
     "duration": 0.042428,
     "end_time": "2023-12-05T00:01:18.910909",
     "exception": false,
     "start_time": "2023-12-05T00:01:18.868481",
     "status": "completed"
    },
    "tags": []
   },
   "outputs": [],
   "source": [
    "# Splitting data into training and testing set\n",
    "x_train, x_test, y_train, y_test = train_test_split(\n",
    "    X_scaled, Y_data, \n",
    "    shuffle = True,\n",
    "    random_state = random_seed,\n",
    "    train_size = 0.9,\n",
    "    test_size = 0.1\n",
    ")"
   ]
  },
  {
   "cell_type": "markdown",
   "id": "ce2a7b90",
   "metadata": {
    "papermill": {
     "duration": 0.030893,
     "end_time": "2023-12-05T00:01:18.971934",
     "exception": false,
     "start_time": "2023-12-05T00:01:18.941041",
     "status": "completed"
    },
    "tags": []
   },
   "source": [
    "# **ML Models**"
   ]
  },
  {
   "cell_type": "markdown",
   "id": "dfdcb92d",
   "metadata": {
    "papermill": {
     "duration": 0.030117,
     "end_time": "2023-12-05T00:01:19.032664",
     "exception": false,
     "start_time": "2023-12-05T00:01:19.002547",
     "status": "completed"
    },
    "tags": []
   },
   "source": [
    "With the successful application of **data preprocessing steps**, our dataset is **now primed** for **compatibility with various machine learning models**. Having standardized the data and made it conducive for **model interpretation**, we're poised to initiate the **crucial phases of training** and **testing** our predictive model."
   ]
  },
  {
   "cell_type": "code",
   "execution_count": 26,
   "id": "592b5dbf",
   "metadata": {
    "execution": {
     "iopub.execute_input": "2023-12-05T00:01:19.095413Z",
     "iopub.status.busy": "2023-12-05T00:01:19.094696Z",
     "iopub.status.idle": "2023-12-05T00:01:19.099431Z",
     "shell.execute_reply": "2023-12-05T00:01:19.098695Z"
    },
    "papermill": {
     "duration": 0.038555,
     "end_time": "2023-12-05T00:01:19.101456",
     "exception": false,
     "start_time": "2023-12-05T00:01:19.062901",
     "status": "completed"
    },
    "tags": []
   },
   "outputs": [],
   "source": [
    "def metrics(true, pred):\n",
    "    mse = mean_squared_error(true, pred)\n",
    "    mae = mean_absolute_error(true, pred)\n",
    "    r2_s = r2_score(true, pred)\n",
    "    return mse, mae, r2_s"
   ]
  },
  {
   "cell_type": "code",
   "execution_count": 27,
   "id": "e2521993",
   "metadata": {
    "execution": {
     "iopub.execute_input": "2023-12-05T00:01:19.164013Z",
     "iopub.status.busy": "2023-12-05T00:01:19.163277Z",
     "iopub.status.idle": "2023-12-05T00:01:19.167968Z",
     "shell.execute_reply": "2023-12-05T00:01:19.167208Z"
    },
    "papermill": {
     "duration": 0.038867,
     "end_time": "2023-12-05T00:01:19.170029",
     "exception": false,
     "start_time": "2023-12-05T00:01:19.131162",
     "status": "completed"
    },
    "tags": []
   },
   "outputs": [],
   "source": [
    "# Record all the training and validation scores\n",
    "model_names = []\n",
    "train_mses = []\n",
    "test_mses = []\n",
    "train_maes = []\n",
    "test_maes = []\n",
    "train_r2s = []\n",
    "test_r2s = []"
   ]
  },
  {
   "cell_type": "code",
   "execution_count": 28,
   "id": "f4256810",
   "metadata": {
    "execution": {
     "iopub.execute_input": "2023-12-05T00:01:19.233674Z",
     "iopub.status.busy": "2023-12-05T00:01:19.232970Z",
     "iopub.status.idle": "2023-12-05T00:01:19.280928Z",
     "shell.execute_reply": "2023-12-05T00:01:19.279307Z"
    },
    "papermill": {
     "duration": 0.086813,
     "end_time": "2023-12-05T00:01:19.287867",
     "exception": false,
     "start_time": "2023-12-05T00:01:19.201054",
     "status": "completed"
    },
    "tags": []
   },
   "outputs": [
    {
     "name": "stdout",
     "output_type": "stream",
     "text": [
      "Model Name : LinearRegression\n",
      "Train MSE  : 920248745.155921\n",
      "Test MSE   : 1360842282.1077387\n",
      "Train MAE  : 18631.17258699519\n",
      "Test MAE   : 20822.111757196693\n",
      "Train R2   : 0.8464176712013937\n",
      "Test R2    : 0.8510565906732396\n"
     ]
    }
   ],
   "source": [
    "model_name = \"LinearRegression\"\n",
    "\n",
    "# Initialize and train the Model\n",
    "lr = LinearRegression()\n",
    "lr.fit(x_train, y_train)\n",
    "\n",
    "# Calculate metrices\n",
    "train_pred = lr.predict(x_train)\n",
    "test_pred = lr.predict(x_test)\n",
    "train_mse, train_mae, train_r2 = metrics(y_train, train_pred)\n",
    "test_mse, test_mae, test_r2 = metrics(y_test, test_pred)\n",
    "\n",
    "# Append the metrics to the lists\n",
    "model_names.append(model_name)\n",
    "train_mses.append(train_mse)\n",
    "test_mses.append(test_mse)\n",
    "train_maes.append(train_mae)\n",
    "test_maes.append(test_mae)\n",
    "train_r2s.append(train_r2)\n",
    "test_r2s.append(test_r2)\n",
    "\n",
    "# Print the appended results\n",
    "print(\"Model Name :\", model_name)\n",
    "print(\"Train MSE  :\", train_mse)\n",
    "print(\"Test MSE   :\", test_mse)\n",
    "print(\"Train MAE  :\", train_mae)\n",
    "print(\"Test MAE   :\", test_mae)\n",
    "print(\"Train R2   :\", train_r2)\n",
    "print(\"Test R2    :\", test_r2)"
   ]
  },
  {
   "cell_type": "markdown",
   "id": "1d6ee594",
   "metadata": {
    "papermill": {
     "duration": 0.030782,
     "end_time": "2023-12-05T00:01:19.427994",
     "exception": false,
     "start_time": "2023-12-05T00:01:19.397212",
     "status": "completed"
    },
    "tags": []
   },
   "source": [
    "The Linear Regression model showcases a moderately favorable performance on the test data. It demonstrates an ability to predict house prices with reasonable accuracy, as indicated by the R-squared value of approximately 0.85, suggesting that around 85% of the variance in house prices is explained by the model. However, the Mean Squared Error (MSE) and Mean Absolute Error (MAE) values reveal some discrepancies between predicted and actual prices, implying room for further improvement in capturing the finer nuances of pricing dynamics. Overall, while the model shows promise, fine-tuning or exploring alternative models might enhance its predictive precision."
   ]
  },
  {
   "cell_type": "code",
   "execution_count": 29,
   "id": "a4d20f82",
   "metadata": {
    "execution": {
     "iopub.execute_input": "2023-12-05T00:01:19.490584Z",
     "iopub.status.busy": "2023-12-05T00:01:19.490197Z",
     "iopub.status.idle": "2023-12-05T00:01:19.847169Z",
     "shell.execute_reply": "2023-12-05T00:01:19.846029Z"
    },
    "papermill": {
     "duration": 0.391965,
     "end_time": "2023-12-05T00:01:19.849874",
     "exception": false,
     "start_time": "2023-12-05T00:01:19.457909",
     "status": "completed"
    },
    "tags": []
   },
   "outputs": [
    {
     "name": "stdout",
     "output_type": "stream",
     "text": [
      "Model Name : SupportVectorRegression\n",
      "Train MSE  : 6249131009.706121\n",
      "Test MSE   : 9467853895.498758\n",
      "Train MAE  : 54676.1766707412\n",
      "Test MAE   : 62950.85577393378\n",
      "Train R2   : -0.04293116235180228\n",
      "Test R2    : -0.036251192914940944\n"
     ]
    }
   ],
   "source": [
    "model_name = \"SupportVectorRegression\"\n",
    "\n",
    "# Initialize and train the Model\n",
    "svr = SVR()\n",
    "svr.fit(x_train, y_train)\n",
    "\n",
    "# Calculate metrices\n",
    "train_pred = svr.predict(x_train)\n",
    "test_pred = svr.predict(x_test)\n",
    "train_mse, train_mae, train_r2 = metrics(y_train, train_pred)\n",
    "test_mse, test_mae, test_r2 = metrics(y_test, test_pred)\n",
    "\n",
    "# Append the metrics to the lists\n",
    "model_names.append(model_name)\n",
    "train_mses.append(train_mse)\n",
    "test_mses.append(test_mse)\n",
    "train_maes.append(train_mae)\n",
    "test_maes.append(test_mae)\n",
    "train_r2s.append(train_r2)\n",
    "test_r2s.append(test_r2)\n",
    "\n",
    "# Print the appended results\n",
    "print(\"Model Name :\", model_name)\n",
    "print(\"Train MSE  :\", train_mse)\n",
    "print(\"Test MSE   :\", test_mse)\n",
    "print(\"Train MAE  :\", train_mae)\n",
    "print(\"Test MAE   :\", test_mae)\n",
    "print(\"Train R2   :\", train_r2)\n",
    "print(\"Test R2    :\", test_r2)"
   ]
  },
  {
   "cell_type": "markdown",
   "id": "cc17b142",
   "metadata": {
    "papermill": {
     "duration": 0.030865,
     "end_time": "2023-12-05T00:01:19.911606",
     "exception": false,
     "start_time": "2023-12-05T00:01:19.880741",
     "status": "completed"
    },
    "tags": []
   },
   "source": [
    "The Support Vector Regression model appears to exhibit suboptimal performance based on the provided test results. The negative R-squared values for both the training and test sets indicate that this model performs worse than a simple horizontal line fitting the data. Additionally, the high Mean Squared Error (MSE) and Mean Absolute Error (MAE) values suggest significant discrepancies between predicted and actual house prices, signifying poor predictive accuracy. It's evident that this model struggles to capture the underlying patterns within the data, highlighting the need for reevaluation or alternative modeling strategies to improve its predictive capabilities."
   ]
  },
  {
   "cell_type": "code",
   "execution_count": 30,
   "id": "8bafc299",
   "metadata": {
    "execution": {
     "iopub.execute_input": "2023-12-05T00:01:19.973721Z",
     "iopub.status.busy": "2023-12-05T00:01:19.973325Z",
     "iopub.status.idle": "2023-12-05T00:01:20.021084Z",
     "shell.execute_reply": "2023-12-05T00:01:20.019541Z"
    },
    "papermill": {
     "duration": 0.081762,
     "end_time": "2023-12-05T00:01:20.023722",
     "exception": false,
     "start_time": "2023-12-05T00:01:19.941960",
     "status": "completed"
    },
    "tags": []
   },
   "outputs": [
    {
     "name": "stdout",
     "output_type": "stream",
     "text": [
      "Model Name : DecisionTreeRegression\n",
      "Train MSE  : 0.0\n",
      "Test MSE   : 1162384929.69863\n",
      "Train MAE  : 0.0\n",
      "Test MAE   : 22168.369863013697\n",
      "Train R2   : 1.0\n",
      "Test R2    : 0.8727776343697895\n"
     ]
    }
   ],
   "source": [
    "model_name = \"DecisionTreeRegression\"\n",
    "\n",
    "# Initialize and train the Model\n",
    "dtr = DecisionTreeRegressor()\n",
    "dtr.fit(x_train, y_train)\n",
    "\n",
    "# Calculate metrices\n",
    "train_pred = dtr.predict(x_train)\n",
    "test_pred = dtr.predict(x_test)\n",
    "train_mse, train_mae, train_r2 = metrics(y_train, train_pred)\n",
    "test_mse, test_mae, test_r2 = metrics(y_test, test_pred)\n",
    "\n",
    "# Append the metrics to the lists\n",
    "model_names.append(model_name)\n",
    "train_mses.append(train_mse)\n",
    "test_mses.append(test_mse)\n",
    "train_maes.append(train_mae)\n",
    "test_maes.append(test_mae)\n",
    "train_r2s.append(train_r2)\n",
    "test_r2s.append(test_r2)\n",
    "\n",
    "# Print the appended results\n",
    "print(\"Model Name :\", model_name)\n",
    "print(\"Train MSE  :\", train_mse)\n",
    "print(\"Test MSE   :\", test_mse)\n",
    "print(\"Train MAE  :\", train_mae)\n",
    "print(\"Test MAE   :\", test_mae)\n",
    "print(\"Train R2   :\", train_r2)\n",
    "print(\"Test R2    :\", test_r2)"
   ]
  },
  {
   "cell_type": "markdown",
   "id": "01a64116",
   "metadata": {
    "papermill": {
     "duration": 0.030078,
     "end_time": "2023-12-05T00:01:20.084315",
     "exception": false,
     "start_time": "2023-12-05T00:01:20.054237",
     "status": "completed"
    },
    "tags": []
   },
   "source": [
    "The Decision Tree Regression model demonstrates an intriguingly contrasting performance between training and testing sets based on the provided metrics. With a Train Mean Squared Error (MSE) and Train Mean Absolute Error (MAE) of 0.0, the model perfectly fits the training data, implying an exact match between predicted and actual prices, a scenario uncommon in real-world applications. However, on the test set, while it exhibits a relatively high R-squared value of approximately 0.87, signifying a good fit to the test data, there's a noticeable increase in MSE and MAE. This suggests some level of overfitting, where the model excessively tailors itself to the training data, resulting in reduced generalization to unseen data. Further regularization or fine-tuning is recommended to strike a balance between complexity and predictive accuracy for improved real-world applicability."
   ]
  },
  {
   "cell_type": "code",
   "execution_count": 31,
   "id": "9fd2676a",
   "metadata": {
    "execution": {
     "iopub.execute_input": "2023-12-05T00:01:20.147677Z",
     "iopub.status.busy": "2023-12-05T00:01:20.147256Z",
     "iopub.status.idle": "2023-12-05T00:01:20.173524Z",
     "shell.execute_reply": "2023-12-05T00:01:20.172717Z"
    },
    "papermill": {
     "duration": 0.060421,
     "end_time": "2023-12-05T00:01:20.175867",
     "exception": false,
     "start_time": "2023-12-05T00:01:20.115446",
     "status": "completed"
    },
    "tags": []
   },
   "outputs": [
    {
     "name": "stdout",
     "output_type": "stream",
     "text": [
      "Model Name : DecisionTreeRegression(MD=5)\n",
      "Train MSE  : 837911112.7901535\n",
      "Test MSE   : 1411009240.766638\n",
      "Train MAE  : 21577.830107540503\n",
      "Test MAE   : 24862.38163046515\n",
      "Train R2   : 0.8601591790198645\n",
      "Test R2    : 0.8455658457452984\n"
     ]
    }
   ],
   "source": [
    "model_name = \"DecisionTreeRegression(MD=5)\"\n",
    "\n",
    "# Initialize and train the Model\n",
    "dtr = DecisionTreeRegressor(max_depth=5)\n",
    "dtr.fit(x_train, y_train)\n",
    "\n",
    "# Calculate metrices\n",
    "train_pred = dtr.predict(x_train)\n",
    "test_pred = dtr.predict(x_test)\n",
    "train_mse, train_mae, train_r2 = metrics(y_train, train_pred)\n",
    "test_mse, test_mae, test_r2 = metrics(y_test, test_pred)\n",
    "\n",
    "# Append the metrics to the lists\n",
    "model_names.append(model_name)\n",
    "train_mses.append(train_mse)\n",
    "test_mses.append(test_mse)\n",
    "train_maes.append(train_mae)\n",
    "test_maes.append(test_mae)\n",
    "train_r2s.append(train_r2)\n",
    "test_r2s.append(test_r2)\n",
    "\n",
    "# Print the appended results\n",
    "print(\"Model Name :\", model_name)\n",
    "print(\"Train MSE  :\", train_mse)\n",
    "print(\"Test MSE   :\", test_mse)\n",
    "print(\"Train MAE  :\", train_mae)\n",
    "print(\"Test MAE   :\", test_mae)\n",
    "print(\"Train R2   :\", train_r2)\n",
    "print(\"Test R2    :\", test_r2)"
   ]
  },
  {
   "cell_type": "markdown",
   "id": "c1ce1664",
   "metadata": {
    "papermill": {
     "duration": 0.030809,
     "end_time": "2023-12-05T00:01:20.238324",
     "exception": false,
     "start_time": "2023-12-05T00:01:20.207515",
     "status": "completed"
    },
    "tags": []
   },
   "source": [
    "The Decision Tree Regression model with a maximum depth of 5 exhibits favorable performance, showcasing a balanced fit between training and test datasets. With a moderate difference between training and test metrics, the model demonstrates good generalization to unseen data. The R-squared values for both training (approximately 0.86) and test sets (around 0.85) indicate a substantial portion of variance in house prices being captured by the model, suggesting a reasonably good fit. While the Mean Squared Error (MSE) and Mean Absolute Error (MAE) are relatively higher compared to a perfect fit, they still imply an acceptable level of predictive accuracy. This model configuration strikes a balance between complexity and performance, showcasing promising results for practical deployment."
   ]
  },
  {
   "cell_type": "code",
   "execution_count": 32,
   "id": "83f06a7d",
   "metadata": {
    "execution": {
     "iopub.execute_input": "2023-12-05T00:01:20.302449Z",
     "iopub.status.busy": "2023-12-05T00:01:20.301849Z",
     "iopub.status.idle": "2023-12-05T00:01:22.486494Z",
     "shell.execute_reply": "2023-12-05T00:01:22.485645Z"
    },
    "papermill": {
     "duration": 2.219582,
     "end_time": "2023-12-05T00:01:22.488866",
     "exception": false,
     "start_time": "2023-12-05T00:01:20.269284",
     "status": "completed"
    },
    "tags": []
   },
   "outputs": [
    {
     "name": "stdout",
     "output_type": "stream",
     "text": [
      "Model Name : RandomForestRegression\n",
      "Train MSE  : 116414506.95307802\n",
      "Test MSE   : 954689586.8188685\n",
      "Train MAE  : 6391.348926940639\n",
      "Test MAE   : 16533.422602739727\n",
      "Train R2   : 0.9805713279394194\n",
      "Test R2    : 0.8955097708388952\n"
     ]
    }
   ],
   "source": [
    "model_name = \"RandomForestRegression\"\n",
    "\n",
    "# Initialize and train the Model\n",
    "rfr = RandomForestRegressor()\n",
    "rfr.fit(x_train, y_train)\n",
    "\n",
    "# Calculate metrices\n",
    "train_pred = rfr.predict(x_train)\n",
    "test_pred = rfr.predict(x_test)\n",
    "train_mse, train_mae, train_r2 = metrics(y_train, train_pred)\n",
    "test_mse, test_mae, test_r2 = metrics(y_test, test_pred)\n",
    "\n",
    "# Append the metrics to the lists\n",
    "model_names.append(model_name)\n",
    "train_mses.append(train_mse)\n",
    "test_mses.append(test_mse)\n",
    "train_maes.append(train_mae)\n",
    "test_maes.append(test_mae)\n",
    "train_r2s.append(train_r2)\n",
    "test_r2s.append(test_r2)\n",
    "\n",
    "# Print the appended results\n",
    "print(\"Model Name :\", model_name)\n",
    "print(\"Train MSE  :\", train_mse)\n",
    "print(\"Test MSE   :\", test_mse)\n",
    "print(\"Train MAE  :\", train_mae)\n",
    "print(\"Test MAE   :\", test_mae)\n",
    "print(\"Train R2   :\", train_r2)\n",
    "print(\"Test R2    :\", test_r2)"
   ]
  },
  {
   "cell_type": "markdown",
   "id": "5b3434e0",
   "metadata": {
    "papermill": {
     "duration": 0.030201,
     "end_time": "2023-12-05T00:01:22.549806",
     "exception": false,
     "start_time": "2023-12-05T00:01:22.519605",
     "status": "completed"
    },
    "tags": []
   },
   "source": [
    "The RandomForest Regression model demonstrates exceptional performance based on the provided metrics, showcasing high accuracy and robustness. With significantly low Mean Squared Error (MSE) and Mean Absolute Error (MAE) values for both training and test datasets, the model excels in predicting house prices. The R-squared values, particularly the high values of approximately 0.98 for training and 0.90 for the test set, indicate an excellent fit to the data, explaining a vast majority of the variance in house prices. This model's superior performance suggests a strong ability to generalize well to new data while maintaining high accuracy, making it a compelling choice for predictive modeling in this context."
   ]
  },
  {
   "cell_type": "code",
   "execution_count": 33,
   "id": "6b9e44a4",
   "metadata": {
    "execution": {
     "iopub.execute_input": "2023-12-05T00:01:22.613085Z",
     "iopub.status.busy": "2023-12-05T00:01:22.612351Z",
     "iopub.status.idle": "2023-12-05T00:01:22.987331Z",
     "shell.execute_reply": "2023-12-05T00:01:22.986499Z"
    },
    "papermill": {
     "duration": 0.410793,
     "end_time": "2023-12-05T00:01:22.991473",
     "exception": false,
     "start_time": "2023-12-05T00:01:22.580680",
     "status": "completed"
    },
    "tags": []
   },
   "outputs": [
    {
     "name": "stdout",
     "output_type": "stream",
     "text": [
      "Model Name : XGBRegressor\n",
      "Train MSE  : 1602708.6614431557\n",
      "Test MSE   : 720266915.3514816\n",
      "Train MAE  : 879.9216401493532\n",
      "Test MAE   : 16234.793637628425\n",
      "Train R2   : 0.9997325204409071\n",
      "Test R2    : 0.9211671981329388\n"
     ]
    }
   ],
   "source": [
    "model_name = \"XGBRegressor\"\n",
    "\n",
    "# Initialize and train the Model\n",
    "xgb = XGBRegressor()\n",
    "xgb.fit(x_train, y_train)\n",
    "\n",
    "# Calculate metrices\n",
    "train_pred = xgb.predict(x_train)\n",
    "test_pred = xgb.predict(x_test)\n",
    "train_mse, train_mae, train_r2 = metrics(y_train, train_pred)\n",
    "test_mse, test_mae, test_r2 = metrics(y_test, test_pred)\n",
    "\n",
    "# Append the metrics to the lists\n",
    "model_names.append(model_name)\n",
    "train_mses.append(train_mse)\n",
    "test_mses.append(test_mse)\n",
    "train_maes.append(train_mae)\n",
    "test_maes.append(test_mae)\n",
    "train_r2s.append(train_r2)\n",
    "test_r2s.append(test_r2)\n",
    "\n",
    "# Print the appended results\n",
    "print(\"Model Name :\", model_name)\n",
    "print(\"Train MSE  :\", train_mse)\n",
    "print(\"Test MSE   :\", test_mse)\n",
    "print(\"Train MAE  :\", train_mae)\n",
    "print(\"Test MAE   :\", test_mae)\n",
    "print(\"Train R2   :\", train_r2)\n",
    "print(\"Test R2    :\", test_r2)"
   ]
  },
  {
   "cell_type": "markdown",
   "id": "e22386b8",
   "metadata": {
    "papermill": {
     "duration": 0.031178,
     "end_time": "2023-12-05T00:01:23.056003",
     "exception": false,
     "start_time": "2023-12-05T00:01:23.024825",
     "status": "completed"
    },
    "tags": []
   },
   "source": [
    "The XGBRegressor model displays outstanding performance across the provided metrics, showcasing its prowess in predicting house prices. With impressively low Mean Squared Error (MSE) and Mean Absolute Error (MAE) values for both training and test datasets, this model excels in accuracy and precision. Notably, the R-squared values of approximately 0.999 for training and 0.92 for the test set suggest an exceptional fit to the data, capturing nearly all variance in house prices while generalizing well to new data. This model's remarkable performance signifies its robustness and high accuracy, making it a compelling choice for precise predictive modeling in this domain."
   ]
  },
  {
   "cell_type": "code",
   "execution_count": 34,
   "id": "0d4f3f59",
   "metadata": {
    "execution": {
     "iopub.execute_input": "2023-12-05T00:01:23.119866Z",
     "iopub.status.busy": "2023-12-05T00:01:23.119475Z",
     "iopub.status.idle": "2023-12-05T00:01:23.125826Z",
     "shell.execute_reply": "2023-12-05T00:01:23.124701Z"
    },
    "papermill": {
     "duration": 0.04109,
     "end_time": "2023-12-05T00:01:23.127964",
     "exception": false,
     "start_time": "2023-12-05T00:01:23.086874",
     "status": "completed"
    },
    "tags": []
   },
   "outputs": [],
   "source": [
    "model_evals = pd.DataFrame(data={\n",
    "    \"Name\": model_names,\n",
    "    \"Train MSE\": train_mses,\n",
    "    \"Test MSE\": test_mses,\n",
    "    \"Train MAE\": train_maes,\n",
    "    \"Test MAE\": test_maes,\n",
    "    \"Train R2\": train_r2s,\n",
    "    \"Test R2\": test_r2s\n",
    "})"
   ]
  },
  {
   "cell_type": "code",
   "execution_count": 35,
   "id": "926895b7",
   "metadata": {
    "execution": {
     "iopub.execute_input": "2023-12-05T00:01:23.191663Z",
     "iopub.status.busy": "2023-12-05T00:01:23.190941Z",
     "iopub.status.idle": "2023-12-05T00:01:23.391710Z",
     "shell.execute_reply": "2023-12-05T00:01:23.390954Z"
    },
    "papermill": {
     "duration": 0.234713,
     "end_time": "2023-12-05T00:01:23.393885",
     "exception": false,
     "start_time": "2023-12-05T00:01:23.159172",
     "status": "completed"
    },
    "tags": []
   },
   "outputs": [
    {
     "data": {
      "text/html": [
       "<div>                            <div id=\"d3849f40-2604-4c6f-ae90-da0d0bc43b89\" class=\"plotly-graph-div\" style=\"height:525px; width:100%;\"></div>            <script type=\"text/javascript\">                require([\"plotly\"], function(Plotly) {                    window.PLOTLYENV=window.PLOTLYENV || {};                                    if (document.getElementById(\"d3849f40-2604-4c6f-ae90-da0d0bc43b89\")) {                    Plotly.newPlot(                        \"d3849f40-2604-4c6f-ae90-da0d0bc43b89\",                        [{\"alignmentgroup\":\"True\",\"hovertemplate\":\"Name=%{x}\\u003cbr\\u003eTrain MSE=%{y}\\u003cextra\\u003e\\u003c\\u002fextra\\u003e\",\"legendgroup\":\"LinearRegression\",\"marker\":{\"color\":\"#636efa\",\"pattern\":{\"shape\":\"\"}},\"name\":\"LinearRegression\",\"offsetgroup\":\"LinearRegression\",\"orientation\":\"v\",\"showlegend\":true,\"textposition\":\"auto\",\"x\":[\"LinearRegression\"],\"xaxis\":\"x\",\"y\":[920248745.155921],\"yaxis\":\"y\",\"type\":\"bar\"},{\"alignmentgroup\":\"True\",\"hovertemplate\":\"Name=%{x}\\u003cbr\\u003eTrain MSE=%{y}\\u003cextra\\u003e\\u003c\\u002fextra\\u003e\",\"legendgroup\":\"SupportVectorRegression\",\"marker\":{\"color\":\"#EF553B\",\"pattern\":{\"shape\":\"\"}},\"name\":\"SupportVectorRegression\",\"offsetgroup\":\"SupportVectorRegression\",\"orientation\":\"v\",\"showlegend\":true,\"textposition\":\"auto\",\"x\":[\"SupportVectorRegression\"],\"xaxis\":\"x\",\"y\":[6249131009.706121],\"yaxis\":\"y\",\"type\":\"bar\"},{\"alignmentgroup\":\"True\",\"hovertemplate\":\"Name=%{x}\\u003cbr\\u003eTrain MSE=%{y}\\u003cextra\\u003e\\u003c\\u002fextra\\u003e\",\"legendgroup\":\"DecisionTreeRegression\",\"marker\":{\"color\":\"#00cc96\",\"pattern\":{\"shape\":\"\"}},\"name\":\"DecisionTreeRegression\",\"offsetgroup\":\"DecisionTreeRegression\",\"orientation\":\"v\",\"showlegend\":true,\"textposition\":\"auto\",\"x\":[\"DecisionTreeRegression\"],\"xaxis\":\"x\",\"y\":[0.0],\"yaxis\":\"y\",\"type\":\"bar\"},{\"alignmentgroup\":\"True\",\"hovertemplate\":\"Name=%{x}\\u003cbr\\u003eTrain MSE=%{y}\\u003cextra\\u003e\\u003c\\u002fextra\\u003e\",\"legendgroup\":\"DecisionTreeRegression(MD=5)\",\"marker\":{\"color\":\"#ab63fa\",\"pattern\":{\"shape\":\"\"}},\"name\":\"DecisionTreeRegression(MD=5)\",\"offsetgroup\":\"DecisionTreeRegression(MD=5)\",\"orientation\":\"v\",\"showlegend\":true,\"textposition\":\"auto\",\"x\":[\"DecisionTreeRegression(MD=5)\"],\"xaxis\":\"x\",\"y\":[837911112.7901535],\"yaxis\":\"y\",\"type\":\"bar\"},{\"alignmentgroup\":\"True\",\"hovertemplate\":\"Name=%{x}\\u003cbr\\u003eTrain MSE=%{y}\\u003cextra\\u003e\\u003c\\u002fextra\\u003e\",\"legendgroup\":\"RandomForestRegression\",\"marker\":{\"color\":\"#FFA15A\",\"pattern\":{\"shape\":\"\"}},\"name\":\"RandomForestRegression\",\"offsetgroup\":\"RandomForestRegression\",\"orientation\":\"v\",\"showlegend\":true,\"textposition\":\"auto\",\"x\":[\"RandomForestRegression\"],\"xaxis\":\"x\",\"y\":[116414506.95307802],\"yaxis\":\"y\",\"type\":\"bar\"},{\"alignmentgroup\":\"True\",\"hovertemplate\":\"Name=%{x}\\u003cbr\\u003eTrain MSE=%{y}\\u003cextra\\u003e\\u003c\\u002fextra\\u003e\",\"legendgroup\":\"XGBRegressor\",\"marker\":{\"color\":\"#19d3f3\",\"pattern\":{\"shape\":\"\"}},\"name\":\"XGBRegressor\",\"offsetgroup\":\"XGBRegressor\",\"orientation\":\"v\",\"showlegend\":true,\"textposition\":\"auto\",\"x\":[\"XGBRegressor\"],\"xaxis\":\"x\",\"y\":[1602708.6614431557],\"yaxis\":\"y\",\"type\":\"bar\"}],                        {\"template\":{\"data\":{\"histogram2dcontour\":[{\"type\":\"histogram2dcontour\",\"colorbar\":{\"outlinewidth\":0,\"ticks\":\"\"},\"colorscale\":[[0.0,\"#0d0887\"],[0.1111111111111111,\"#46039f\"],[0.2222222222222222,\"#7201a8\"],[0.3333333333333333,\"#9c179e\"],[0.4444444444444444,\"#bd3786\"],[0.5555555555555556,\"#d8576b\"],[0.6666666666666666,\"#ed7953\"],[0.7777777777777778,\"#fb9f3a\"],[0.8888888888888888,\"#fdca26\"],[1.0,\"#f0f921\"]]}],\"choropleth\":[{\"type\":\"choropleth\",\"colorbar\":{\"outlinewidth\":0,\"ticks\":\"\"}}],\"histogram2d\":[{\"type\":\"histogram2d\",\"colorbar\":{\"outlinewidth\":0,\"ticks\":\"\"},\"colorscale\":[[0.0,\"#0d0887\"],[0.1111111111111111,\"#46039f\"],[0.2222222222222222,\"#7201a8\"],[0.3333333333333333,\"#9c179e\"],[0.4444444444444444,\"#bd3786\"],[0.5555555555555556,\"#d8576b\"],[0.6666666666666666,\"#ed7953\"],[0.7777777777777778,\"#fb9f3a\"],[0.8888888888888888,\"#fdca26\"],[1.0,\"#f0f921\"]]}],\"heatmap\":[{\"type\":\"heatmap\",\"colorbar\":{\"outlinewidth\":0,\"ticks\":\"\"},\"colorscale\":[[0.0,\"#0d0887\"],[0.1111111111111111,\"#46039f\"],[0.2222222222222222,\"#7201a8\"],[0.3333333333333333,\"#9c179e\"],[0.4444444444444444,\"#bd3786\"],[0.5555555555555556,\"#d8576b\"],[0.6666666666666666,\"#ed7953\"],[0.7777777777777778,\"#fb9f3a\"],[0.8888888888888888,\"#fdca26\"],[1.0,\"#f0f921\"]]}],\"heatmapgl\":[{\"type\":\"heatmapgl\",\"colorbar\":{\"outlinewidth\":0,\"ticks\":\"\"},\"colorscale\":[[0.0,\"#0d0887\"],[0.1111111111111111,\"#46039f\"],[0.2222222222222222,\"#7201a8\"],[0.3333333333333333,\"#9c179e\"],[0.4444444444444444,\"#bd3786\"],[0.5555555555555556,\"#d8576b\"],[0.6666666666666666,\"#ed7953\"],[0.7777777777777778,\"#fb9f3a\"],[0.8888888888888888,\"#fdca26\"],[1.0,\"#f0f921\"]]}],\"contourcarpet\":[{\"type\":\"contourcarpet\",\"colorbar\":{\"outlinewidth\":0,\"ticks\":\"\"}}],\"contour\":[{\"type\":\"contour\",\"colorbar\":{\"outlinewidth\":0,\"ticks\":\"\"},\"colorscale\":[[0.0,\"#0d0887\"],[0.1111111111111111,\"#46039f\"],[0.2222222222222222,\"#7201a8\"],[0.3333333333333333,\"#9c179e\"],[0.4444444444444444,\"#bd3786\"],[0.5555555555555556,\"#d8576b\"],[0.6666666666666666,\"#ed7953\"],[0.7777777777777778,\"#fb9f3a\"],[0.8888888888888888,\"#fdca26\"],[1.0,\"#f0f921\"]]}],\"surface\":[{\"type\":\"surface\",\"colorbar\":{\"outlinewidth\":0,\"ticks\":\"\"},\"colorscale\":[[0.0,\"#0d0887\"],[0.1111111111111111,\"#46039f\"],[0.2222222222222222,\"#7201a8\"],[0.3333333333333333,\"#9c179e\"],[0.4444444444444444,\"#bd3786\"],[0.5555555555555556,\"#d8576b\"],[0.6666666666666666,\"#ed7953\"],[0.7777777777777778,\"#fb9f3a\"],[0.8888888888888888,\"#fdca26\"],[1.0,\"#f0f921\"]]}],\"mesh3d\":[{\"type\":\"mesh3d\",\"colorbar\":{\"outlinewidth\":0,\"ticks\":\"\"}}],\"scatter\":[{\"fillpattern\":{\"fillmode\":\"overlay\",\"size\":10,\"solidity\":0.2},\"type\":\"scatter\"}],\"parcoords\":[{\"type\":\"parcoords\",\"line\":{\"colorbar\":{\"outlinewidth\":0,\"ticks\":\"\"}}}],\"scatterpolargl\":[{\"type\":\"scatterpolargl\",\"marker\":{\"colorbar\":{\"outlinewidth\":0,\"ticks\":\"\"}}}],\"bar\":[{\"error_x\":{\"color\":\"#2a3f5f\"},\"error_y\":{\"color\":\"#2a3f5f\"},\"marker\":{\"line\":{\"color\":\"#E5ECF6\",\"width\":0.5},\"pattern\":{\"fillmode\":\"overlay\",\"size\":10,\"solidity\":0.2}},\"type\":\"bar\"}],\"scattergeo\":[{\"type\":\"scattergeo\",\"marker\":{\"colorbar\":{\"outlinewidth\":0,\"ticks\":\"\"}}}],\"scatterpolar\":[{\"type\":\"scatterpolar\",\"marker\":{\"colorbar\":{\"outlinewidth\":0,\"ticks\":\"\"}}}],\"histogram\":[{\"marker\":{\"pattern\":{\"fillmode\":\"overlay\",\"size\":10,\"solidity\":0.2}},\"type\":\"histogram\"}],\"scattergl\":[{\"type\":\"scattergl\",\"marker\":{\"colorbar\":{\"outlinewidth\":0,\"ticks\":\"\"}}}],\"scatter3d\":[{\"type\":\"scatter3d\",\"line\":{\"colorbar\":{\"outlinewidth\":0,\"ticks\":\"\"}},\"marker\":{\"colorbar\":{\"outlinewidth\":0,\"ticks\":\"\"}}}],\"scattermapbox\":[{\"type\":\"scattermapbox\",\"marker\":{\"colorbar\":{\"outlinewidth\":0,\"ticks\":\"\"}}}],\"scatterternary\":[{\"type\":\"scatterternary\",\"marker\":{\"colorbar\":{\"outlinewidth\":0,\"ticks\":\"\"}}}],\"scattercarpet\":[{\"type\":\"scattercarpet\",\"marker\":{\"colorbar\":{\"outlinewidth\":0,\"ticks\":\"\"}}}],\"carpet\":[{\"aaxis\":{\"endlinecolor\":\"#2a3f5f\",\"gridcolor\":\"white\",\"linecolor\":\"white\",\"minorgridcolor\":\"white\",\"startlinecolor\":\"#2a3f5f\"},\"baxis\":{\"endlinecolor\":\"#2a3f5f\",\"gridcolor\":\"white\",\"linecolor\":\"white\",\"minorgridcolor\":\"white\",\"startlinecolor\":\"#2a3f5f\"},\"type\":\"carpet\"}],\"table\":[{\"cells\":{\"fill\":{\"color\":\"#EBF0F8\"},\"line\":{\"color\":\"white\"}},\"header\":{\"fill\":{\"color\":\"#C8D4E3\"},\"line\":{\"color\":\"white\"}},\"type\":\"table\"}],\"barpolar\":[{\"marker\":{\"line\":{\"color\":\"#E5ECF6\",\"width\":0.5},\"pattern\":{\"fillmode\":\"overlay\",\"size\":10,\"solidity\":0.2}},\"type\":\"barpolar\"}],\"pie\":[{\"automargin\":true,\"type\":\"pie\"}]},\"layout\":{\"autotypenumbers\":\"strict\",\"colorway\":[\"#636efa\",\"#EF553B\",\"#00cc96\",\"#ab63fa\",\"#FFA15A\",\"#19d3f3\",\"#FF6692\",\"#B6E880\",\"#FF97FF\",\"#FECB52\"],\"font\":{\"color\":\"#2a3f5f\"},\"hovermode\":\"closest\",\"hoverlabel\":{\"align\":\"left\"},\"paper_bgcolor\":\"white\",\"plot_bgcolor\":\"#E5ECF6\",\"polar\":{\"bgcolor\":\"#E5ECF6\",\"angularaxis\":{\"gridcolor\":\"white\",\"linecolor\":\"white\",\"ticks\":\"\"},\"radialaxis\":{\"gridcolor\":\"white\",\"linecolor\":\"white\",\"ticks\":\"\"}},\"ternary\":{\"bgcolor\":\"#E5ECF6\",\"aaxis\":{\"gridcolor\":\"white\",\"linecolor\":\"white\",\"ticks\":\"\"},\"baxis\":{\"gridcolor\":\"white\",\"linecolor\":\"white\",\"ticks\":\"\"},\"caxis\":{\"gridcolor\":\"white\",\"linecolor\":\"white\",\"ticks\":\"\"}},\"coloraxis\":{\"colorbar\":{\"outlinewidth\":0,\"ticks\":\"\"}},\"colorscale\":{\"sequential\":[[0.0,\"#0d0887\"],[0.1111111111111111,\"#46039f\"],[0.2222222222222222,\"#7201a8\"],[0.3333333333333333,\"#9c179e\"],[0.4444444444444444,\"#bd3786\"],[0.5555555555555556,\"#d8576b\"],[0.6666666666666666,\"#ed7953\"],[0.7777777777777778,\"#fb9f3a\"],[0.8888888888888888,\"#fdca26\"],[1.0,\"#f0f921\"]],\"sequentialminus\":[[0.0,\"#0d0887\"],[0.1111111111111111,\"#46039f\"],[0.2222222222222222,\"#7201a8\"],[0.3333333333333333,\"#9c179e\"],[0.4444444444444444,\"#bd3786\"],[0.5555555555555556,\"#d8576b\"],[0.6666666666666666,\"#ed7953\"],[0.7777777777777778,\"#fb9f3a\"],[0.8888888888888888,\"#fdca26\"],[1.0,\"#f0f921\"]],\"diverging\":[[0,\"#8e0152\"],[0.1,\"#c51b7d\"],[0.2,\"#de77ae\"],[0.3,\"#f1b6da\"],[0.4,\"#fde0ef\"],[0.5,\"#f7f7f7\"],[0.6,\"#e6f5d0\"],[0.7,\"#b8e186\"],[0.8,\"#7fbc41\"],[0.9,\"#4d9221\"],[1,\"#276419\"]]},\"xaxis\":{\"gridcolor\":\"white\",\"linecolor\":\"white\",\"ticks\":\"\",\"title\":{\"standoff\":15},\"zerolinecolor\":\"white\",\"automargin\":true,\"zerolinewidth\":2},\"yaxis\":{\"gridcolor\":\"white\",\"linecolor\":\"white\",\"ticks\":\"\",\"title\":{\"standoff\":15},\"zerolinecolor\":\"white\",\"automargin\":true,\"zerolinewidth\":2},\"scene\":{\"xaxis\":{\"backgroundcolor\":\"#E5ECF6\",\"gridcolor\":\"white\",\"linecolor\":\"white\",\"showbackground\":true,\"ticks\":\"\",\"zerolinecolor\":\"white\",\"gridwidth\":2},\"yaxis\":{\"backgroundcolor\":\"#E5ECF6\",\"gridcolor\":\"white\",\"linecolor\":\"white\",\"showbackground\":true,\"ticks\":\"\",\"zerolinecolor\":\"white\",\"gridwidth\":2},\"zaxis\":{\"backgroundcolor\":\"#E5ECF6\",\"gridcolor\":\"white\",\"linecolor\":\"white\",\"showbackground\":true,\"ticks\":\"\",\"zerolinecolor\":\"white\",\"gridwidth\":2}},\"shapedefaults\":{\"line\":{\"color\":\"#2a3f5f\"}},\"annotationdefaults\":{\"arrowcolor\":\"#2a3f5f\",\"arrowhead\":0,\"arrowwidth\":1},\"geo\":{\"bgcolor\":\"white\",\"landcolor\":\"#E5ECF6\",\"subunitcolor\":\"white\",\"showland\":true,\"showlakes\":true,\"lakecolor\":\"white\"},\"title\":{\"x\":0.05},\"mapbox\":{\"style\":\"light\"}}},\"xaxis\":{\"anchor\":\"y\",\"domain\":[0.0,1.0],\"title\":{\"text\":\"Name\"},\"categoryorder\":\"array\",\"categoryarray\":[\"LinearRegression\",\"SupportVectorRegression\",\"DecisionTreeRegression\",\"DecisionTreeRegression(MD=5)\",\"RandomForestRegression\",\"XGBRegressor\"]},\"yaxis\":{\"anchor\":\"x\",\"domain\":[0.0,1.0],\"title\":{\"text\":\"Train MSE\"}},\"legend\":{\"title\":{\"text\":\"Name\"},\"tracegroupgap\":0},\"title\":{\"text\":\"Train MSE Bar Graph\"},\"barmode\":\"relative\",\"showlegend\":false},                        {\"responsive\": true}                    ).then(function(){\n",
       "                            \n",
       "var gd = document.getElementById('d3849f40-2604-4c6f-ae90-da0d0bc43b89');\n",
       "var x = new MutationObserver(function (mutations, observer) {{\n",
       "        var display = window.getComputedStyle(gd).display;\n",
       "        if (!display || display === 'none') {{\n",
       "            console.log([gd, 'removed!']);\n",
       "            Plotly.purge(gd);\n",
       "            observer.disconnect();\n",
       "        }}\n",
       "}});\n",
       "\n",
       "// Listen for the removal of the full notebook cells\n",
       "var notebookContainer = gd.closest('#notebook-container');\n",
       "if (notebookContainer) {{\n",
       "    x.observe(notebookContainer, {childList: true});\n",
       "}}\n",
       "\n",
       "// Listen for the clearing of the current output cell\n",
       "var outputEl = gd.closest('.output');\n",
       "if (outputEl) {{\n",
       "    x.observe(outputEl, {childList: true});\n",
       "}}\n",
       "\n",
       "                        })                };                });            </script>        </div>"
      ]
     },
     "metadata": {},
     "output_type": "display_data"
    },
    {
     "data": {
      "text/html": [
       "<div>                            <div id=\"76eb5105-757d-4ef7-8e76-909fbe5c3bfa\" class=\"plotly-graph-div\" style=\"height:525px; width:100%;\"></div>            <script type=\"text/javascript\">                require([\"plotly\"], function(Plotly) {                    window.PLOTLYENV=window.PLOTLYENV || {};                                    if (document.getElementById(\"76eb5105-757d-4ef7-8e76-909fbe5c3bfa\")) {                    Plotly.newPlot(                        \"76eb5105-757d-4ef7-8e76-909fbe5c3bfa\",                        [{\"alignmentgroup\":\"True\",\"hovertemplate\":\"Name=%{x}\\u003cbr\\u003eTest MSE=%{y}\\u003cextra\\u003e\\u003c\\u002fextra\\u003e\",\"legendgroup\":\"LinearRegression\",\"marker\":{\"color\":\"#636efa\",\"pattern\":{\"shape\":\"\"}},\"name\":\"LinearRegression\",\"offsetgroup\":\"LinearRegression\",\"orientation\":\"v\",\"showlegend\":true,\"textposition\":\"auto\",\"x\":[\"LinearRegression\"],\"xaxis\":\"x\",\"y\":[1360842282.1077387],\"yaxis\":\"y\",\"type\":\"bar\"},{\"alignmentgroup\":\"True\",\"hovertemplate\":\"Name=%{x}\\u003cbr\\u003eTest MSE=%{y}\\u003cextra\\u003e\\u003c\\u002fextra\\u003e\",\"legendgroup\":\"SupportVectorRegression\",\"marker\":{\"color\":\"#EF553B\",\"pattern\":{\"shape\":\"\"}},\"name\":\"SupportVectorRegression\",\"offsetgroup\":\"SupportVectorRegression\",\"orientation\":\"v\",\"showlegend\":true,\"textposition\":\"auto\",\"x\":[\"SupportVectorRegression\"],\"xaxis\":\"x\",\"y\":[9467853895.498758],\"yaxis\":\"y\",\"type\":\"bar\"},{\"alignmentgroup\":\"True\",\"hovertemplate\":\"Name=%{x}\\u003cbr\\u003eTest MSE=%{y}\\u003cextra\\u003e\\u003c\\u002fextra\\u003e\",\"legendgroup\":\"DecisionTreeRegression\",\"marker\":{\"color\":\"#00cc96\",\"pattern\":{\"shape\":\"\"}},\"name\":\"DecisionTreeRegression\",\"offsetgroup\":\"DecisionTreeRegression\",\"orientation\":\"v\",\"showlegend\":true,\"textposition\":\"auto\",\"x\":[\"DecisionTreeRegression\"],\"xaxis\":\"x\",\"y\":[1162384929.69863],\"yaxis\":\"y\",\"type\":\"bar\"},{\"alignmentgroup\":\"True\",\"hovertemplate\":\"Name=%{x}\\u003cbr\\u003eTest MSE=%{y}\\u003cextra\\u003e\\u003c\\u002fextra\\u003e\",\"legendgroup\":\"DecisionTreeRegression(MD=5)\",\"marker\":{\"color\":\"#ab63fa\",\"pattern\":{\"shape\":\"\"}},\"name\":\"DecisionTreeRegression(MD=5)\",\"offsetgroup\":\"DecisionTreeRegression(MD=5)\",\"orientation\":\"v\",\"showlegend\":true,\"textposition\":\"auto\",\"x\":[\"DecisionTreeRegression(MD=5)\"],\"xaxis\":\"x\",\"y\":[1411009240.766638],\"yaxis\":\"y\",\"type\":\"bar\"},{\"alignmentgroup\":\"True\",\"hovertemplate\":\"Name=%{x}\\u003cbr\\u003eTest MSE=%{y}\\u003cextra\\u003e\\u003c\\u002fextra\\u003e\",\"legendgroup\":\"RandomForestRegression\",\"marker\":{\"color\":\"#FFA15A\",\"pattern\":{\"shape\":\"\"}},\"name\":\"RandomForestRegression\",\"offsetgroup\":\"RandomForestRegression\",\"orientation\":\"v\",\"showlegend\":true,\"textposition\":\"auto\",\"x\":[\"RandomForestRegression\"],\"xaxis\":\"x\",\"y\":[954689586.8188685],\"yaxis\":\"y\",\"type\":\"bar\"},{\"alignmentgroup\":\"True\",\"hovertemplate\":\"Name=%{x}\\u003cbr\\u003eTest MSE=%{y}\\u003cextra\\u003e\\u003c\\u002fextra\\u003e\",\"legendgroup\":\"XGBRegressor\",\"marker\":{\"color\":\"#19d3f3\",\"pattern\":{\"shape\":\"\"}},\"name\":\"XGBRegressor\",\"offsetgroup\":\"XGBRegressor\",\"orientation\":\"v\",\"showlegend\":true,\"textposition\":\"auto\",\"x\":[\"XGBRegressor\"],\"xaxis\":\"x\",\"y\":[720266915.3514816],\"yaxis\":\"y\",\"type\":\"bar\"}],                        {\"template\":{\"data\":{\"histogram2dcontour\":[{\"type\":\"histogram2dcontour\",\"colorbar\":{\"outlinewidth\":0,\"ticks\":\"\"},\"colorscale\":[[0.0,\"#0d0887\"],[0.1111111111111111,\"#46039f\"],[0.2222222222222222,\"#7201a8\"],[0.3333333333333333,\"#9c179e\"],[0.4444444444444444,\"#bd3786\"],[0.5555555555555556,\"#d8576b\"],[0.6666666666666666,\"#ed7953\"],[0.7777777777777778,\"#fb9f3a\"],[0.8888888888888888,\"#fdca26\"],[1.0,\"#f0f921\"]]}],\"choropleth\":[{\"type\":\"choropleth\",\"colorbar\":{\"outlinewidth\":0,\"ticks\":\"\"}}],\"histogram2d\":[{\"type\":\"histogram2d\",\"colorbar\":{\"outlinewidth\":0,\"ticks\":\"\"},\"colorscale\":[[0.0,\"#0d0887\"],[0.1111111111111111,\"#46039f\"],[0.2222222222222222,\"#7201a8\"],[0.3333333333333333,\"#9c179e\"],[0.4444444444444444,\"#bd3786\"],[0.5555555555555556,\"#d8576b\"],[0.6666666666666666,\"#ed7953\"],[0.7777777777777778,\"#fb9f3a\"],[0.8888888888888888,\"#fdca26\"],[1.0,\"#f0f921\"]]}],\"heatmap\":[{\"type\":\"heatmap\",\"colorbar\":{\"outlinewidth\":0,\"ticks\":\"\"},\"colorscale\":[[0.0,\"#0d0887\"],[0.1111111111111111,\"#46039f\"],[0.2222222222222222,\"#7201a8\"],[0.3333333333333333,\"#9c179e\"],[0.4444444444444444,\"#bd3786\"],[0.5555555555555556,\"#d8576b\"],[0.6666666666666666,\"#ed7953\"],[0.7777777777777778,\"#fb9f3a\"],[0.8888888888888888,\"#fdca26\"],[1.0,\"#f0f921\"]]}],\"heatmapgl\":[{\"type\":\"heatmapgl\",\"colorbar\":{\"outlinewidth\":0,\"ticks\":\"\"},\"colorscale\":[[0.0,\"#0d0887\"],[0.1111111111111111,\"#46039f\"],[0.2222222222222222,\"#7201a8\"],[0.3333333333333333,\"#9c179e\"],[0.4444444444444444,\"#bd3786\"],[0.5555555555555556,\"#d8576b\"],[0.6666666666666666,\"#ed7953\"],[0.7777777777777778,\"#fb9f3a\"],[0.8888888888888888,\"#fdca26\"],[1.0,\"#f0f921\"]]}],\"contourcarpet\":[{\"type\":\"contourcarpet\",\"colorbar\":{\"outlinewidth\":0,\"ticks\":\"\"}}],\"contour\":[{\"type\":\"contour\",\"colorbar\":{\"outlinewidth\":0,\"ticks\":\"\"},\"colorscale\":[[0.0,\"#0d0887\"],[0.1111111111111111,\"#46039f\"],[0.2222222222222222,\"#7201a8\"],[0.3333333333333333,\"#9c179e\"],[0.4444444444444444,\"#bd3786\"],[0.5555555555555556,\"#d8576b\"],[0.6666666666666666,\"#ed7953\"],[0.7777777777777778,\"#fb9f3a\"],[0.8888888888888888,\"#fdca26\"],[1.0,\"#f0f921\"]]}],\"surface\":[{\"type\":\"surface\",\"colorbar\":{\"outlinewidth\":0,\"ticks\":\"\"},\"colorscale\":[[0.0,\"#0d0887\"],[0.1111111111111111,\"#46039f\"],[0.2222222222222222,\"#7201a8\"],[0.3333333333333333,\"#9c179e\"],[0.4444444444444444,\"#bd3786\"],[0.5555555555555556,\"#d8576b\"],[0.6666666666666666,\"#ed7953\"],[0.7777777777777778,\"#fb9f3a\"],[0.8888888888888888,\"#fdca26\"],[1.0,\"#f0f921\"]]}],\"mesh3d\":[{\"type\":\"mesh3d\",\"colorbar\":{\"outlinewidth\":0,\"ticks\":\"\"}}],\"scatter\":[{\"fillpattern\":{\"fillmode\":\"overlay\",\"size\":10,\"solidity\":0.2},\"type\":\"scatter\"}],\"parcoords\":[{\"type\":\"parcoords\",\"line\":{\"colorbar\":{\"outlinewidth\":0,\"ticks\":\"\"}}}],\"scatterpolargl\":[{\"type\":\"scatterpolargl\",\"marker\":{\"colorbar\":{\"outlinewidth\":0,\"ticks\":\"\"}}}],\"bar\":[{\"error_x\":{\"color\":\"#2a3f5f\"},\"error_y\":{\"color\":\"#2a3f5f\"},\"marker\":{\"line\":{\"color\":\"#E5ECF6\",\"width\":0.5},\"pattern\":{\"fillmode\":\"overlay\",\"size\":10,\"solidity\":0.2}},\"type\":\"bar\"}],\"scattergeo\":[{\"type\":\"scattergeo\",\"marker\":{\"colorbar\":{\"outlinewidth\":0,\"ticks\":\"\"}}}],\"scatterpolar\":[{\"type\":\"scatterpolar\",\"marker\":{\"colorbar\":{\"outlinewidth\":0,\"ticks\":\"\"}}}],\"histogram\":[{\"marker\":{\"pattern\":{\"fillmode\":\"overlay\",\"size\":10,\"solidity\":0.2}},\"type\":\"histogram\"}],\"scattergl\":[{\"type\":\"scattergl\",\"marker\":{\"colorbar\":{\"outlinewidth\":0,\"ticks\":\"\"}}}],\"scatter3d\":[{\"type\":\"scatter3d\",\"line\":{\"colorbar\":{\"outlinewidth\":0,\"ticks\":\"\"}},\"marker\":{\"colorbar\":{\"outlinewidth\":0,\"ticks\":\"\"}}}],\"scattermapbox\":[{\"type\":\"scattermapbox\",\"marker\":{\"colorbar\":{\"outlinewidth\":0,\"ticks\":\"\"}}}],\"scatterternary\":[{\"type\":\"scatterternary\",\"marker\":{\"colorbar\":{\"outlinewidth\":0,\"ticks\":\"\"}}}],\"scattercarpet\":[{\"type\":\"scattercarpet\",\"marker\":{\"colorbar\":{\"outlinewidth\":0,\"ticks\":\"\"}}}],\"carpet\":[{\"aaxis\":{\"endlinecolor\":\"#2a3f5f\",\"gridcolor\":\"white\",\"linecolor\":\"white\",\"minorgridcolor\":\"white\",\"startlinecolor\":\"#2a3f5f\"},\"baxis\":{\"endlinecolor\":\"#2a3f5f\",\"gridcolor\":\"white\",\"linecolor\":\"white\",\"minorgridcolor\":\"white\",\"startlinecolor\":\"#2a3f5f\"},\"type\":\"carpet\"}],\"table\":[{\"cells\":{\"fill\":{\"color\":\"#EBF0F8\"},\"line\":{\"color\":\"white\"}},\"header\":{\"fill\":{\"color\":\"#C8D4E3\"},\"line\":{\"color\":\"white\"}},\"type\":\"table\"}],\"barpolar\":[{\"marker\":{\"line\":{\"color\":\"#E5ECF6\",\"width\":0.5},\"pattern\":{\"fillmode\":\"overlay\",\"size\":10,\"solidity\":0.2}},\"type\":\"barpolar\"}],\"pie\":[{\"automargin\":true,\"type\":\"pie\"}]},\"layout\":{\"autotypenumbers\":\"strict\",\"colorway\":[\"#636efa\",\"#EF553B\",\"#00cc96\",\"#ab63fa\",\"#FFA15A\",\"#19d3f3\",\"#FF6692\",\"#B6E880\",\"#FF97FF\",\"#FECB52\"],\"font\":{\"color\":\"#2a3f5f\"},\"hovermode\":\"closest\",\"hoverlabel\":{\"align\":\"left\"},\"paper_bgcolor\":\"white\",\"plot_bgcolor\":\"#E5ECF6\",\"polar\":{\"bgcolor\":\"#E5ECF6\",\"angularaxis\":{\"gridcolor\":\"white\",\"linecolor\":\"white\",\"ticks\":\"\"},\"radialaxis\":{\"gridcolor\":\"white\",\"linecolor\":\"white\",\"ticks\":\"\"}},\"ternary\":{\"bgcolor\":\"#E5ECF6\",\"aaxis\":{\"gridcolor\":\"white\",\"linecolor\":\"white\",\"ticks\":\"\"},\"baxis\":{\"gridcolor\":\"white\",\"linecolor\":\"white\",\"ticks\":\"\"},\"caxis\":{\"gridcolor\":\"white\",\"linecolor\":\"white\",\"ticks\":\"\"}},\"coloraxis\":{\"colorbar\":{\"outlinewidth\":0,\"ticks\":\"\"}},\"colorscale\":{\"sequential\":[[0.0,\"#0d0887\"],[0.1111111111111111,\"#46039f\"],[0.2222222222222222,\"#7201a8\"],[0.3333333333333333,\"#9c179e\"],[0.4444444444444444,\"#bd3786\"],[0.5555555555555556,\"#d8576b\"],[0.6666666666666666,\"#ed7953\"],[0.7777777777777778,\"#fb9f3a\"],[0.8888888888888888,\"#fdca26\"],[1.0,\"#f0f921\"]],\"sequentialminus\":[[0.0,\"#0d0887\"],[0.1111111111111111,\"#46039f\"],[0.2222222222222222,\"#7201a8\"],[0.3333333333333333,\"#9c179e\"],[0.4444444444444444,\"#bd3786\"],[0.5555555555555556,\"#d8576b\"],[0.6666666666666666,\"#ed7953\"],[0.7777777777777778,\"#fb9f3a\"],[0.8888888888888888,\"#fdca26\"],[1.0,\"#f0f921\"]],\"diverging\":[[0,\"#8e0152\"],[0.1,\"#c51b7d\"],[0.2,\"#de77ae\"],[0.3,\"#f1b6da\"],[0.4,\"#fde0ef\"],[0.5,\"#f7f7f7\"],[0.6,\"#e6f5d0\"],[0.7,\"#b8e186\"],[0.8,\"#7fbc41\"],[0.9,\"#4d9221\"],[1,\"#276419\"]]},\"xaxis\":{\"gridcolor\":\"white\",\"linecolor\":\"white\",\"ticks\":\"\",\"title\":{\"standoff\":15},\"zerolinecolor\":\"white\",\"automargin\":true,\"zerolinewidth\":2},\"yaxis\":{\"gridcolor\":\"white\",\"linecolor\":\"white\",\"ticks\":\"\",\"title\":{\"standoff\":15},\"zerolinecolor\":\"white\",\"automargin\":true,\"zerolinewidth\":2},\"scene\":{\"xaxis\":{\"backgroundcolor\":\"#E5ECF6\",\"gridcolor\":\"white\",\"linecolor\":\"white\",\"showbackground\":true,\"ticks\":\"\",\"zerolinecolor\":\"white\",\"gridwidth\":2},\"yaxis\":{\"backgroundcolor\":\"#E5ECF6\",\"gridcolor\":\"white\",\"linecolor\":\"white\",\"showbackground\":true,\"ticks\":\"\",\"zerolinecolor\":\"white\",\"gridwidth\":2},\"zaxis\":{\"backgroundcolor\":\"#E5ECF6\",\"gridcolor\":\"white\",\"linecolor\":\"white\",\"showbackground\":true,\"ticks\":\"\",\"zerolinecolor\":\"white\",\"gridwidth\":2}},\"shapedefaults\":{\"line\":{\"color\":\"#2a3f5f\"}},\"annotationdefaults\":{\"arrowcolor\":\"#2a3f5f\",\"arrowhead\":0,\"arrowwidth\":1},\"geo\":{\"bgcolor\":\"white\",\"landcolor\":\"#E5ECF6\",\"subunitcolor\":\"white\",\"showland\":true,\"showlakes\":true,\"lakecolor\":\"white\"},\"title\":{\"x\":0.05},\"mapbox\":{\"style\":\"light\"}}},\"xaxis\":{\"anchor\":\"y\",\"domain\":[0.0,1.0],\"title\":{\"text\":\"Name\"},\"categoryorder\":\"array\",\"categoryarray\":[\"LinearRegression\",\"SupportVectorRegression\",\"DecisionTreeRegression\",\"DecisionTreeRegression(MD=5)\",\"RandomForestRegression\",\"XGBRegressor\"]},\"yaxis\":{\"anchor\":\"x\",\"domain\":[0.0,1.0],\"title\":{\"text\":\"Test MSE\"}},\"legend\":{\"title\":{\"text\":\"Name\"},\"tracegroupgap\":0},\"title\":{\"text\":\"Test MSE Bar Graph\"},\"barmode\":\"relative\",\"showlegend\":false},                        {\"responsive\": true}                    ).then(function(){\n",
       "                            \n",
       "var gd = document.getElementById('76eb5105-757d-4ef7-8e76-909fbe5c3bfa');\n",
       "var x = new MutationObserver(function (mutations, observer) {{\n",
       "        var display = window.getComputedStyle(gd).display;\n",
       "        if (!display || display === 'none') {{\n",
       "            console.log([gd, 'removed!']);\n",
       "            Plotly.purge(gd);\n",
       "            observer.disconnect();\n",
       "        }}\n",
       "}});\n",
       "\n",
       "// Listen for the removal of the full notebook cells\n",
       "var notebookContainer = gd.closest('#notebook-container');\n",
       "if (notebookContainer) {{\n",
       "    x.observe(notebookContainer, {childList: true});\n",
       "}}\n",
       "\n",
       "// Listen for the clearing of the current output cell\n",
       "var outputEl = gd.closest('.output');\n",
       "if (outputEl) {{\n",
       "    x.observe(outputEl, {childList: true});\n",
       "}}\n",
       "\n",
       "                        })                };                });            </script>        </div>"
      ]
     },
     "metadata": {},
     "output_type": "display_data"
    }
   ],
   "source": [
    "# Train MSE Bar Graph\n",
    "train_mse_bar = px.bar(model_evals, x = \"Name\", y = \"Train MSE\", title = \"Train MSE Bar Graph\", color=\"Name\")\n",
    "train_mse_bar.update_layout(showlegend=False)\n",
    "train_mse_bar.show()\n",
    "\n",
    "# Test MSE Bar Graph\n",
    "test_mse_bar = px.bar(model_evals, x = \"Name\", y = \"Test MSE\", title = \"Test MSE Bar Graph\", color=\"Name\")\n",
    "test_mse_bar.update_layout(showlegend=False)\n",
    "test_mse_bar.show()"
   ]
  },
  {
   "cell_type": "markdown",
   "id": "ab00998d",
   "metadata": {
    "papermill": {
     "duration": 0.031732,
     "end_time": "2023-12-05T00:01:23.456920",
     "exception": false,
     "start_time": "2023-12-05T00:01:23.425188",
     "status": "completed"
    },
    "tags": []
   },
   "source": [
    "## Mean Squared Error (MSE) Comparison\n",
    "\n",
    "The bar graph illustrates the MSE values for different models on both the training and test datasets. Observing the MSE for various models, it's evident that Extreme Gradient Boosting (XGBRegressor) consistently exhibits the lowest MSE among all models on both training and test datasets. This indicates superior performance in minimizing the squared differences between predicted and actual house prices, reflecting its exceptional predictive accuracy.\n",
    "\n",
    "While several models showcase relatively low MSE values, such as RandomForest Regression, XGBRegressor stands out by achieving notably lower MSE values on both training and test datasets. This demonstrates the exceptional ability of XGBRegressor to make highly accurate predictions, capturing the nuanced variations in house prices with remarkable precision.\n",
    "\n"
   ]
  },
  {
   "cell_type": "code",
   "execution_count": 36,
   "id": "1ff00903",
   "metadata": {
    "execution": {
     "iopub.execute_input": "2023-12-05T00:01:23.521628Z",
     "iopub.status.busy": "2023-12-05T00:01:23.521211Z",
     "iopub.status.idle": "2023-12-05T00:01:23.710987Z",
     "shell.execute_reply": "2023-12-05T00:01:23.709656Z"
    },
    "papermill": {
     "duration": 0.225143,
     "end_time": "2023-12-05T00:01:23.713439",
     "exception": false,
     "start_time": "2023-12-05T00:01:23.488296",
     "status": "completed"
    },
    "tags": []
   },
   "outputs": [
    {
     "data": {
      "text/html": [
       "<div>                            <div id=\"af6c4eee-0f68-4e18-a141-3bc2820b73f1\" class=\"plotly-graph-div\" style=\"height:525px; width:100%;\"></div>            <script type=\"text/javascript\">                require([\"plotly\"], function(Plotly) {                    window.PLOTLYENV=window.PLOTLYENV || {};                                    if (document.getElementById(\"af6c4eee-0f68-4e18-a141-3bc2820b73f1\")) {                    Plotly.newPlot(                        \"af6c4eee-0f68-4e18-a141-3bc2820b73f1\",                        [{\"alignmentgroup\":\"True\",\"hovertemplate\":\"Name=%{x}\\u003cbr\\u003eTrain MAE=%{y}\\u003cextra\\u003e\\u003c\\u002fextra\\u003e\",\"legendgroup\":\"LinearRegression\",\"marker\":{\"color\":\"#636efa\",\"pattern\":{\"shape\":\"\"}},\"name\":\"LinearRegression\",\"offsetgroup\":\"LinearRegression\",\"orientation\":\"v\",\"showlegend\":true,\"textposition\":\"auto\",\"x\":[\"LinearRegression\"],\"xaxis\":\"x\",\"y\":[18631.17258699519],\"yaxis\":\"y\",\"type\":\"bar\"},{\"alignmentgroup\":\"True\",\"hovertemplate\":\"Name=%{x}\\u003cbr\\u003eTrain MAE=%{y}\\u003cextra\\u003e\\u003c\\u002fextra\\u003e\",\"legendgroup\":\"SupportVectorRegression\",\"marker\":{\"color\":\"#EF553B\",\"pattern\":{\"shape\":\"\"}},\"name\":\"SupportVectorRegression\",\"offsetgroup\":\"SupportVectorRegression\",\"orientation\":\"v\",\"showlegend\":true,\"textposition\":\"auto\",\"x\":[\"SupportVectorRegression\"],\"xaxis\":\"x\",\"y\":[54676.1766707412],\"yaxis\":\"y\",\"type\":\"bar\"},{\"alignmentgroup\":\"True\",\"hovertemplate\":\"Name=%{x}\\u003cbr\\u003eTrain MAE=%{y}\\u003cextra\\u003e\\u003c\\u002fextra\\u003e\",\"legendgroup\":\"DecisionTreeRegression\",\"marker\":{\"color\":\"#00cc96\",\"pattern\":{\"shape\":\"\"}},\"name\":\"DecisionTreeRegression\",\"offsetgroup\":\"DecisionTreeRegression\",\"orientation\":\"v\",\"showlegend\":true,\"textposition\":\"auto\",\"x\":[\"DecisionTreeRegression\"],\"xaxis\":\"x\",\"y\":[0.0],\"yaxis\":\"y\",\"type\":\"bar\"},{\"alignmentgroup\":\"True\",\"hovertemplate\":\"Name=%{x}\\u003cbr\\u003eTrain MAE=%{y}\\u003cextra\\u003e\\u003c\\u002fextra\\u003e\",\"legendgroup\":\"DecisionTreeRegression(MD=5)\",\"marker\":{\"color\":\"#ab63fa\",\"pattern\":{\"shape\":\"\"}},\"name\":\"DecisionTreeRegression(MD=5)\",\"offsetgroup\":\"DecisionTreeRegression(MD=5)\",\"orientation\":\"v\",\"showlegend\":true,\"textposition\":\"auto\",\"x\":[\"DecisionTreeRegression(MD=5)\"],\"xaxis\":\"x\",\"y\":[21577.830107540503],\"yaxis\":\"y\",\"type\":\"bar\"},{\"alignmentgroup\":\"True\",\"hovertemplate\":\"Name=%{x}\\u003cbr\\u003eTrain MAE=%{y}\\u003cextra\\u003e\\u003c\\u002fextra\\u003e\",\"legendgroup\":\"RandomForestRegression\",\"marker\":{\"color\":\"#FFA15A\",\"pattern\":{\"shape\":\"\"}},\"name\":\"RandomForestRegression\",\"offsetgroup\":\"RandomForestRegression\",\"orientation\":\"v\",\"showlegend\":true,\"textposition\":\"auto\",\"x\":[\"RandomForestRegression\"],\"xaxis\":\"x\",\"y\":[6391.348926940639],\"yaxis\":\"y\",\"type\":\"bar\"},{\"alignmentgroup\":\"True\",\"hovertemplate\":\"Name=%{x}\\u003cbr\\u003eTrain MAE=%{y}\\u003cextra\\u003e\\u003c\\u002fextra\\u003e\",\"legendgroup\":\"XGBRegressor\",\"marker\":{\"color\":\"#19d3f3\",\"pattern\":{\"shape\":\"\"}},\"name\":\"XGBRegressor\",\"offsetgroup\":\"XGBRegressor\",\"orientation\":\"v\",\"showlegend\":true,\"textposition\":\"auto\",\"x\":[\"XGBRegressor\"],\"xaxis\":\"x\",\"y\":[879.9216401493532],\"yaxis\":\"y\",\"type\":\"bar\"}],                        {\"template\":{\"data\":{\"histogram2dcontour\":[{\"type\":\"histogram2dcontour\",\"colorbar\":{\"outlinewidth\":0,\"ticks\":\"\"},\"colorscale\":[[0.0,\"#0d0887\"],[0.1111111111111111,\"#46039f\"],[0.2222222222222222,\"#7201a8\"],[0.3333333333333333,\"#9c179e\"],[0.4444444444444444,\"#bd3786\"],[0.5555555555555556,\"#d8576b\"],[0.6666666666666666,\"#ed7953\"],[0.7777777777777778,\"#fb9f3a\"],[0.8888888888888888,\"#fdca26\"],[1.0,\"#f0f921\"]]}],\"choropleth\":[{\"type\":\"choropleth\",\"colorbar\":{\"outlinewidth\":0,\"ticks\":\"\"}}],\"histogram2d\":[{\"type\":\"histogram2d\",\"colorbar\":{\"outlinewidth\":0,\"ticks\":\"\"},\"colorscale\":[[0.0,\"#0d0887\"],[0.1111111111111111,\"#46039f\"],[0.2222222222222222,\"#7201a8\"],[0.3333333333333333,\"#9c179e\"],[0.4444444444444444,\"#bd3786\"],[0.5555555555555556,\"#d8576b\"],[0.6666666666666666,\"#ed7953\"],[0.7777777777777778,\"#fb9f3a\"],[0.8888888888888888,\"#fdca26\"],[1.0,\"#f0f921\"]]}],\"heatmap\":[{\"type\":\"heatmap\",\"colorbar\":{\"outlinewidth\":0,\"ticks\":\"\"},\"colorscale\":[[0.0,\"#0d0887\"],[0.1111111111111111,\"#46039f\"],[0.2222222222222222,\"#7201a8\"],[0.3333333333333333,\"#9c179e\"],[0.4444444444444444,\"#bd3786\"],[0.5555555555555556,\"#d8576b\"],[0.6666666666666666,\"#ed7953\"],[0.7777777777777778,\"#fb9f3a\"],[0.8888888888888888,\"#fdca26\"],[1.0,\"#f0f921\"]]}],\"heatmapgl\":[{\"type\":\"heatmapgl\",\"colorbar\":{\"outlinewidth\":0,\"ticks\":\"\"},\"colorscale\":[[0.0,\"#0d0887\"],[0.1111111111111111,\"#46039f\"],[0.2222222222222222,\"#7201a8\"],[0.3333333333333333,\"#9c179e\"],[0.4444444444444444,\"#bd3786\"],[0.5555555555555556,\"#d8576b\"],[0.6666666666666666,\"#ed7953\"],[0.7777777777777778,\"#fb9f3a\"],[0.8888888888888888,\"#fdca26\"],[1.0,\"#f0f921\"]]}],\"contourcarpet\":[{\"type\":\"contourcarpet\",\"colorbar\":{\"outlinewidth\":0,\"ticks\":\"\"}}],\"contour\":[{\"type\":\"contour\",\"colorbar\":{\"outlinewidth\":0,\"ticks\":\"\"},\"colorscale\":[[0.0,\"#0d0887\"],[0.1111111111111111,\"#46039f\"],[0.2222222222222222,\"#7201a8\"],[0.3333333333333333,\"#9c179e\"],[0.4444444444444444,\"#bd3786\"],[0.5555555555555556,\"#d8576b\"],[0.6666666666666666,\"#ed7953\"],[0.7777777777777778,\"#fb9f3a\"],[0.8888888888888888,\"#fdca26\"],[1.0,\"#f0f921\"]]}],\"surface\":[{\"type\":\"surface\",\"colorbar\":{\"outlinewidth\":0,\"ticks\":\"\"},\"colorscale\":[[0.0,\"#0d0887\"],[0.1111111111111111,\"#46039f\"],[0.2222222222222222,\"#7201a8\"],[0.3333333333333333,\"#9c179e\"],[0.4444444444444444,\"#bd3786\"],[0.5555555555555556,\"#d8576b\"],[0.6666666666666666,\"#ed7953\"],[0.7777777777777778,\"#fb9f3a\"],[0.8888888888888888,\"#fdca26\"],[1.0,\"#f0f921\"]]}],\"mesh3d\":[{\"type\":\"mesh3d\",\"colorbar\":{\"outlinewidth\":0,\"ticks\":\"\"}}],\"scatter\":[{\"fillpattern\":{\"fillmode\":\"overlay\",\"size\":10,\"solidity\":0.2},\"type\":\"scatter\"}],\"parcoords\":[{\"type\":\"parcoords\",\"line\":{\"colorbar\":{\"outlinewidth\":0,\"ticks\":\"\"}}}],\"scatterpolargl\":[{\"type\":\"scatterpolargl\",\"marker\":{\"colorbar\":{\"outlinewidth\":0,\"ticks\":\"\"}}}],\"bar\":[{\"error_x\":{\"color\":\"#2a3f5f\"},\"error_y\":{\"color\":\"#2a3f5f\"},\"marker\":{\"line\":{\"color\":\"#E5ECF6\",\"width\":0.5},\"pattern\":{\"fillmode\":\"overlay\",\"size\":10,\"solidity\":0.2}},\"type\":\"bar\"}],\"scattergeo\":[{\"type\":\"scattergeo\",\"marker\":{\"colorbar\":{\"outlinewidth\":0,\"ticks\":\"\"}}}],\"scatterpolar\":[{\"type\":\"scatterpolar\",\"marker\":{\"colorbar\":{\"outlinewidth\":0,\"ticks\":\"\"}}}],\"histogram\":[{\"marker\":{\"pattern\":{\"fillmode\":\"overlay\",\"size\":10,\"solidity\":0.2}},\"type\":\"histogram\"}],\"scattergl\":[{\"type\":\"scattergl\",\"marker\":{\"colorbar\":{\"outlinewidth\":0,\"ticks\":\"\"}}}],\"scatter3d\":[{\"type\":\"scatter3d\",\"line\":{\"colorbar\":{\"outlinewidth\":0,\"ticks\":\"\"}},\"marker\":{\"colorbar\":{\"outlinewidth\":0,\"ticks\":\"\"}}}],\"scattermapbox\":[{\"type\":\"scattermapbox\",\"marker\":{\"colorbar\":{\"outlinewidth\":0,\"ticks\":\"\"}}}],\"scatterternary\":[{\"type\":\"scatterternary\",\"marker\":{\"colorbar\":{\"outlinewidth\":0,\"ticks\":\"\"}}}],\"scattercarpet\":[{\"type\":\"scattercarpet\",\"marker\":{\"colorbar\":{\"outlinewidth\":0,\"ticks\":\"\"}}}],\"carpet\":[{\"aaxis\":{\"endlinecolor\":\"#2a3f5f\",\"gridcolor\":\"white\",\"linecolor\":\"white\",\"minorgridcolor\":\"white\",\"startlinecolor\":\"#2a3f5f\"},\"baxis\":{\"endlinecolor\":\"#2a3f5f\",\"gridcolor\":\"white\",\"linecolor\":\"white\",\"minorgridcolor\":\"white\",\"startlinecolor\":\"#2a3f5f\"},\"type\":\"carpet\"}],\"table\":[{\"cells\":{\"fill\":{\"color\":\"#EBF0F8\"},\"line\":{\"color\":\"white\"}},\"header\":{\"fill\":{\"color\":\"#C8D4E3\"},\"line\":{\"color\":\"white\"}},\"type\":\"table\"}],\"barpolar\":[{\"marker\":{\"line\":{\"color\":\"#E5ECF6\",\"width\":0.5},\"pattern\":{\"fillmode\":\"overlay\",\"size\":10,\"solidity\":0.2}},\"type\":\"barpolar\"}],\"pie\":[{\"automargin\":true,\"type\":\"pie\"}]},\"layout\":{\"autotypenumbers\":\"strict\",\"colorway\":[\"#636efa\",\"#EF553B\",\"#00cc96\",\"#ab63fa\",\"#FFA15A\",\"#19d3f3\",\"#FF6692\",\"#B6E880\",\"#FF97FF\",\"#FECB52\"],\"font\":{\"color\":\"#2a3f5f\"},\"hovermode\":\"closest\",\"hoverlabel\":{\"align\":\"left\"},\"paper_bgcolor\":\"white\",\"plot_bgcolor\":\"#E5ECF6\",\"polar\":{\"bgcolor\":\"#E5ECF6\",\"angularaxis\":{\"gridcolor\":\"white\",\"linecolor\":\"white\",\"ticks\":\"\"},\"radialaxis\":{\"gridcolor\":\"white\",\"linecolor\":\"white\",\"ticks\":\"\"}},\"ternary\":{\"bgcolor\":\"#E5ECF6\",\"aaxis\":{\"gridcolor\":\"white\",\"linecolor\":\"white\",\"ticks\":\"\"},\"baxis\":{\"gridcolor\":\"white\",\"linecolor\":\"white\",\"ticks\":\"\"},\"caxis\":{\"gridcolor\":\"white\",\"linecolor\":\"white\",\"ticks\":\"\"}},\"coloraxis\":{\"colorbar\":{\"outlinewidth\":0,\"ticks\":\"\"}},\"colorscale\":{\"sequential\":[[0.0,\"#0d0887\"],[0.1111111111111111,\"#46039f\"],[0.2222222222222222,\"#7201a8\"],[0.3333333333333333,\"#9c179e\"],[0.4444444444444444,\"#bd3786\"],[0.5555555555555556,\"#d8576b\"],[0.6666666666666666,\"#ed7953\"],[0.7777777777777778,\"#fb9f3a\"],[0.8888888888888888,\"#fdca26\"],[1.0,\"#f0f921\"]],\"sequentialminus\":[[0.0,\"#0d0887\"],[0.1111111111111111,\"#46039f\"],[0.2222222222222222,\"#7201a8\"],[0.3333333333333333,\"#9c179e\"],[0.4444444444444444,\"#bd3786\"],[0.5555555555555556,\"#d8576b\"],[0.6666666666666666,\"#ed7953\"],[0.7777777777777778,\"#fb9f3a\"],[0.8888888888888888,\"#fdca26\"],[1.0,\"#f0f921\"]],\"diverging\":[[0,\"#8e0152\"],[0.1,\"#c51b7d\"],[0.2,\"#de77ae\"],[0.3,\"#f1b6da\"],[0.4,\"#fde0ef\"],[0.5,\"#f7f7f7\"],[0.6,\"#e6f5d0\"],[0.7,\"#b8e186\"],[0.8,\"#7fbc41\"],[0.9,\"#4d9221\"],[1,\"#276419\"]]},\"xaxis\":{\"gridcolor\":\"white\",\"linecolor\":\"white\",\"ticks\":\"\",\"title\":{\"standoff\":15},\"zerolinecolor\":\"white\",\"automargin\":true,\"zerolinewidth\":2},\"yaxis\":{\"gridcolor\":\"white\",\"linecolor\":\"white\",\"ticks\":\"\",\"title\":{\"standoff\":15},\"zerolinecolor\":\"white\",\"automargin\":true,\"zerolinewidth\":2},\"scene\":{\"xaxis\":{\"backgroundcolor\":\"#E5ECF6\",\"gridcolor\":\"white\",\"linecolor\":\"white\",\"showbackground\":true,\"ticks\":\"\",\"zerolinecolor\":\"white\",\"gridwidth\":2},\"yaxis\":{\"backgroundcolor\":\"#E5ECF6\",\"gridcolor\":\"white\",\"linecolor\":\"white\",\"showbackground\":true,\"ticks\":\"\",\"zerolinecolor\":\"white\",\"gridwidth\":2},\"zaxis\":{\"backgroundcolor\":\"#E5ECF6\",\"gridcolor\":\"white\",\"linecolor\":\"white\",\"showbackground\":true,\"ticks\":\"\",\"zerolinecolor\":\"white\",\"gridwidth\":2}},\"shapedefaults\":{\"line\":{\"color\":\"#2a3f5f\"}},\"annotationdefaults\":{\"arrowcolor\":\"#2a3f5f\",\"arrowhead\":0,\"arrowwidth\":1},\"geo\":{\"bgcolor\":\"white\",\"landcolor\":\"#E5ECF6\",\"subunitcolor\":\"white\",\"showland\":true,\"showlakes\":true,\"lakecolor\":\"white\"},\"title\":{\"x\":0.05},\"mapbox\":{\"style\":\"light\"}}},\"xaxis\":{\"anchor\":\"y\",\"domain\":[0.0,1.0],\"title\":{\"text\":\"Name\"},\"categoryorder\":\"array\",\"categoryarray\":[\"LinearRegression\",\"SupportVectorRegression\",\"DecisionTreeRegression\",\"DecisionTreeRegression(MD=5)\",\"RandomForestRegression\",\"XGBRegressor\"]},\"yaxis\":{\"anchor\":\"x\",\"domain\":[0.0,1.0],\"title\":{\"text\":\"Train MAE\"}},\"legend\":{\"title\":{\"text\":\"Name\"},\"tracegroupgap\":0},\"title\":{\"text\":\"Train MAE Bar Graph\"},\"barmode\":\"relative\",\"showlegend\":false},                        {\"responsive\": true}                    ).then(function(){\n",
       "                            \n",
       "var gd = document.getElementById('af6c4eee-0f68-4e18-a141-3bc2820b73f1');\n",
       "var x = new MutationObserver(function (mutations, observer) {{\n",
       "        var display = window.getComputedStyle(gd).display;\n",
       "        if (!display || display === 'none') {{\n",
       "            console.log([gd, 'removed!']);\n",
       "            Plotly.purge(gd);\n",
       "            observer.disconnect();\n",
       "        }}\n",
       "}});\n",
       "\n",
       "// Listen for the removal of the full notebook cells\n",
       "var notebookContainer = gd.closest('#notebook-container');\n",
       "if (notebookContainer) {{\n",
       "    x.observe(notebookContainer, {childList: true});\n",
       "}}\n",
       "\n",
       "// Listen for the clearing of the current output cell\n",
       "var outputEl = gd.closest('.output');\n",
       "if (outputEl) {{\n",
       "    x.observe(outputEl, {childList: true});\n",
       "}}\n",
       "\n",
       "                        })                };                });            </script>        </div>"
      ]
     },
     "metadata": {},
     "output_type": "display_data"
    },
    {
     "data": {
      "text/html": [
       "<div>                            <div id=\"00eabe94-38f6-4532-bdc3-246e127f1563\" class=\"plotly-graph-div\" style=\"height:525px; width:100%;\"></div>            <script type=\"text/javascript\">                require([\"plotly\"], function(Plotly) {                    window.PLOTLYENV=window.PLOTLYENV || {};                                    if (document.getElementById(\"00eabe94-38f6-4532-bdc3-246e127f1563\")) {                    Plotly.newPlot(                        \"00eabe94-38f6-4532-bdc3-246e127f1563\",                        [{\"alignmentgroup\":\"True\",\"hovertemplate\":\"Name=%{x}\\u003cbr\\u003eTest MAE=%{y}\\u003cextra\\u003e\\u003c\\u002fextra\\u003e\",\"legendgroup\":\"LinearRegression\",\"marker\":{\"color\":\"#636efa\",\"pattern\":{\"shape\":\"\"}},\"name\":\"LinearRegression\",\"offsetgroup\":\"LinearRegression\",\"orientation\":\"v\",\"showlegend\":true,\"textposition\":\"auto\",\"x\":[\"LinearRegression\"],\"xaxis\":\"x\",\"y\":[20822.111757196693],\"yaxis\":\"y\",\"type\":\"bar\"},{\"alignmentgroup\":\"True\",\"hovertemplate\":\"Name=%{x}\\u003cbr\\u003eTest MAE=%{y}\\u003cextra\\u003e\\u003c\\u002fextra\\u003e\",\"legendgroup\":\"SupportVectorRegression\",\"marker\":{\"color\":\"#EF553B\",\"pattern\":{\"shape\":\"\"}},\"name\":\"SupportVectorRegression\",\"offsetgroup\":\"SupportVectorRegression\",\"orientation\":\"v\",\"showlegend\":true,\"textposition\":\"auto\",\"x\":[\"SupportVectorRegression\"],\"xaxis\":\"x\",\"y\":[62950.85577393378],\"yaxis\":\"y\",\"type\":\"bar\"},{\"alignmentgroup\":\"True\",\"hovertemplate\":\"Name=%{x}\\u003cbr\\u003eTest MAE=%{y}\\u003cextra\\u003e\\u003c\\u002fextra\\u003e\",\"legendgroup\":\"DecisionTreeRegression\",\"marker\":{\"color\":\"#00cc96\",\"pattern\":{\"shape\":\"\"}},\"name\":\"DecisionTreeRegression\",\"offsetgroup\":\"DecisionTreeRegression\",\"orientation\":\"v\",\"showlegend\":true,\"textposition\":\"auto\",\"x\":[\"DecisionTreeRegression\"],\"xaxis\":\"x\",\"y\":[22168.369863013697],\"yaxis\":\"y\",\"type\":\"bar\"},{\"alignmentgroup\":\"True\",\"hovertemplate\":\"Name=%{x}\\u003cbr\\u003eTest MAE=%{y}\\u003cextra\\u003e\\u003c\\u002fextra\\u003e\",\"legendgroup\":\"DecisionTreeRegression(MD=5)\",\"marker\":{\"color\":\"#ab63fa\",\"pattern\":{\"shape\":\"\"}},\"name\":\"DecisionTreeRegression(MD=5)\",\"offsetgroup\":\"DecisionTreeRegression(MD=5)\",\"orientation\":\"v\",\"showlegend\":true,\"textposition\":\"auto\",\"x\":[\"DecisionTreeRegression(MD=5)\"],\"xaxis\":\"x\",\"y\":[24862.38163046515],\"yaxis\":\"y\",\"type\":\"bar\"},{\"alignmentgroup\":\"True\",\"hovertemplate\":\"Name=%{x}\\u003cbr\\u003eTest MAE=%{y}\\u003cextra\\u003e\\u003c\\u002fextra\\u003e\",\"legendgroup\":\"RandomForestRegression\",\"marker\":{\"color\":\"#FFA15A\",\"pattern\":{\"shape\":\"\"}},\"name\":\"RandomForestRegression\",\"offsetgroup\":\"RandomForestRegression\",\"orientation\":\"v\",\"showlegend\":true,\"textposition\":\"auto\",\"x\":[\"RandomForestRegression\"],\"xaxis\":\"x\",\"y\":[16533.422602739727],\"yaxis\":\"y\",\"type\":\"bar\"},{\"alignmentgroup\":\"True\",\"hovertemplate\":\"Name=%{x}\\u003cbr\\u003eTest MAE=%{y}\\u003cextra\\u003e\\u003c\\u002fextra\\u003e\",\"legendgroup\":\"XGBRegressor\",\"marker\":{\"color\":\"#19d3f3\",\"pattern\":{\"shape\":\"\"}},\"name\":\"XGBRegressor\",\"offsetgroup\":\"XGBRegressor\",\"orientation\":\"v\",\"showlegend\":true,\"textposition\":\"auto\",\"x\":[\"XGBRegressor\"],\"xaxis\":\"x\",\"y\":[16234.793637628425],\"yaxis\":\"y\",\"type\":\"bar\"}],                        {\"template\":{\"data\":{\"histogram2dcontour\":[{\"type\":\"histogram2dcontour\",\"colorbar\":{\"outlinewidth\":0,\"ticks\":\"\"},\"colorscale\":[[0.0,\"#0d0887\"],[0.1111111111111111,\"#46039f\"],[0.2222222222222222,\"#7201a8\"],[0.3333333333333333,\"#9c179e\"],[0.4444444444444444,\"#bd3786\"],[0.5555555555555556,\"#d8576b\"],[0.6666666666666666,\"#ed7953\"],[0.7777777777777778,\"#fb9f3a\"],[0.8888888888888888,\"#fdca26\"],[1.0,\"#f0f921\"]]}],\"choropleth\":[{\"type\":\"choropleth\",\"colorbar\":{\"outlinewidth\":0,\"ticks\":\"\"}}],\"histogram2d\":[{\"type\":\"histogram2d\",\"colorbar\":{\"outlinewidth\":0,\"ticks\":\"\"},\"colorscale\":[[0.0,\"#0d0887\"],[0.1111111111111111,\"#46039f\"],[0.2222222222222222,\"#7201a8\"],[0.3333333333333333,\"#9c179e\"],[0.4444444444444444,\"#bd3786\"],[0.5555555555555556,\"#d8576b\"],[0.6666666666666666,\"#ed7953\"],[0.7777777777777778,\"#fb9f3a\"],[0.8888888888888888,\"#fdca26\"],[1.0,\"#f0f921\"]]}],\"heatmap\":[{\"type\":\"heatmap\",\"colorbar\":{\"outlinewidth\":0,\"ticks\":\"\"},\"colorscale\":[[0.0,\"#0d0887\"],[0.1111111111111111,\"#46039f\"],[0.2222222222222222,\"#7201a8\"],[0.3333333333333333,\"#9c179e\"],[0.4444444444444444,\"#bd3786\"],[0.5555555555555556,\"#d8576b\"],[0.6666666666666666,\"#ed7953\"],[0.7777777777777778,\"#fb9f3a\"],[0.8888888888888888,\"#fdca26\"],[1.0,\"#f0f921\"]]}],\"heatmapgl\":[{\"type\":\"heatmapgl\",\"colorbar\":{\"outlinewidth\":0,\"ticks\":\"\"},\"colorscale\":[[0.0,\"#0d0887\"],[0.1111111111111111,\"#46039f\"],[0.2222222222222222,\"#7201a8\"],[0.3333333333333333,\"#9c179e\"],[0.4444444444444444,\"#bd3786\"],[0.5555555555555556,\"#d8576b\"],[0.6666666666666666,\"#ed7953\"],[0.7777777777777778,\"#fb9f3a\"],[0.8888888888888888,\"#fdca26\"],[1.0,\"#f0f921\"]]}],\"contourcarpet\":[{\"type\":\"contourcarpet\",\"colorbar\":{\"outlinewidth\":0,\"ticks\":\"\"}}],\"contour\":[{\"type\":\"contour\",\"colorbar\":{\"outlinewidth\":0,\"ticks\":\"\"},\"colorscale\":[[0.0,\"#0d0887\"],[0.1111111111111111,\"#46039f\"],[0.2222222222222222,\"#7201a8\"],[0.3333333333333333,\"#9c179e\"],[0.4444444444444444,\"#bd3786\"],[0.5555555555555556,\"#d8576b\"],[0.6666666666666666,\"#ed7953\"],[0.7777777777777778,\"#fb9f3a\"],[0.8888888888888888,\"#fdca26\"],[1.0,\"#f0f921\"]]}],\"surface\":[{\"type\":\"surface\",\"colorbar\":{\"outlinewidth\":0,\"ticks\":\"\"},\"colorscale\":[[0.0,\"#0d0887\"],[0.1111111111111111,\"#46039f\"],[0.2222222222222222,\"#7201a8\"],[0.3333333333333333,\"#9c179e\"],[0.4444444444444444,\"#bd3786\"],[0.5555555555555556,\"#d8576b\"],[0.6666666666666666,\"#ed7953\"],[0.7777777777777778,\"#fb9f3a\"],[0.8888888888888888,\"#fdca26\"],[1.0,\"#f0f921\"]]}],\"mesh3d\":[{\"type\":\"mesh3d\",\"colorbar\":{\"outlinewidth\":0,\"ticks\":\"\"}}],\"scatter\":[{\"fillpattern\":{\"fillmode\":\"overlay\",\"size\":10,\"solidity\":0.2},\"type\":\"scatter\"}],\"parcoords\":[{\"type\":\"parcoords\",\"line\":{\"colorbar\":{\"outlinewidth\":0,\"ticks\":\"\"}}}],\"scatterpolargl\":[{\"type\":\"scatterpolargl\",\"marker\":{\"colorbar\":{\"outlinewidth\":0,\"ticks\":\"\"}}}],\"bar\":[{\"error_x\":{\"color\":\"#2a3f5f\"},\"error_y\":{\"color\":\"#2a3f5f\"},\"marker\":{\"line\":{\"color\":\"#E5ECF6\",\"width\":0.5},\"pattern\":{\"fillmode\":\"overlay\",\"size\":10,\"solidity\":0.2}},\"type\":\"bar\"}],\"scattergeo\":[{\"type\":\"scattergeo\",\"marker\":{\"colorbar\":{\"outlinewidth\":0,\"ticks\":\"\"}}}],\"scatterpolar\":[{\"type\":\"scatterpolar\",\"marker\":{\"colorbar\":{\"outlinewidth\":0,\"ticks\":\"\"}}}],\"histogram\":[{\"marker\":{\"pattern\":{\"fillmode\":\"overlay\",\"size\":10,\"solidity\":0.2}},\"type\":\"histogram\"}],\"scattergl\":[{\"type\":\"scattergl\",\"marker\":{\"colorbar\":{\"outlinewidth\":0,\"ticks\":\"\"}}}],\"scatter3d\":[{\"type\":\"scatter3d\",\"line\":{\"colorbar\":{\"outlinewidth\":0,\"ticks\":\"\"}},\"marker\":{\"colorbar\":{\"outlinewidth\":0,\"ticks\":\"\"}}}],\"scattermapbox\":[{\"type\":\"scattermapbox\",\"marker\":{\"colorbar\":{\"outlinewidth\":0,\"ticks\":\"\"}}}],\"scatterternary\":[{\"type\":\"scatterternary\",\"marker\":{\"colorbar\":{\"outlinewidth\":0,\"ticks\":\"\"}}}],\"scattercarpet\":[{\"type\":\"scattercarpet\",\"marker\":{\"colorbar\":{\"outlinewidth\":0,\"ticks\":\"\"}}}],\"carpet\":[{\"aaxis\":{\"endlinecolor\":\"#2a3f5f\",\"gridcolor\":\"white\",\"linecolor\":\"white\",\"minorgridcolor\":\"white\",\"startlinecolor\":\"#2a3f5f\"},\"baxis\":{\"endlinecolor\":\"#2a3f5f\",\"gridcolor\":\"white\",\"linecolor\":\"white\",\"minorgridcolor\":\"white\",\"startlinecolor\":\"#2a3f5f\"},\"type\":\"carpet\"}],\"table\":[{\"cells\":{\"fill\":{\"color\":\"#EBF0F8\"},\"line\":{\"color\":\"white\"}},\"header\":{\"fill\":{\"color\":\"#C8D4E3\"},\"line\":{\"color\":\"white\"}},\"type\":\"table\"}],\"barpolar\":[{\"marker\":{\"line\":{\"color\":\"#E5ECF6\",\"width\":0.5},\"pattern\":{\"fillmode\":\"overlay\",\"size\":10,\"solidity\":0.2}},\"type\":\"barpolar\"}],\"pie\":[{\"automargin\":true,\"type\":\"pie\"}]},\"layout\":{\"autotypenumbers\":\"strict\",\"colorway\":[\"#636efa\",\"#EF553B\",\"#00cc96\",\"#ab63fa\",\"#FFA15A\",\"#19d3f3\",\"#FF6692\",\"#B6E880\",\"#FF97FF\",\"#FECB52\"],\"font\":{\"color\":\"#2a3f5f\"},\"hovermode\":\"closest\",\"hoverlabel\":{\"align\":\"left\"},\"paper_bgcolor\":\"white\",\"plot_bgcolor\":\"#E5ECF6\",\"polar\":{\"bgcolor\":\"#E5ECF6\",\"angularaxis\":{\"gridcolor\":\"white\",\"linecolor\":\"white\",\"ticks\":\"\"},\"radialaxis\":{\"gridcolor\":\"white\",\"linecolor\":\"white\",\"ticks\":\"\"}},\"ternary\":{\"bgcolor\":\"#E5ECF6\",\"aaxis\":{\"gridcolor\":\"white\",\"linecolor\":\"white\",\"ticks\":\"\"},\"baxis\":{\"gridcolor\":\"white\",\"linecolor\":\"white\",\"ticks\":\"\"},\"caxis\":{\"gridcolor\":\"white\",\"linecolor\":\"white\",\"ticks\":\"\"}},\"coloraxis\":{\"colorbar\":{\"outlinewidth\":0,\"ticks\":\"\"}},\"colorscale\":{\"sequential\":[[0.0,\"#0d0887\"],[0.1111111111111111,\"#46039f\"],[0.2222222222222222,\"#7201a8\"],[0.3333333333333333,\"#9c179e\"],[0.4444444444444444,\"#bd3786\"],[0.5555555555555556,\"#d8576b\"],[0.6666666666666666,\"#ed7953\"],[0.7777777777777778,\"#fb9f3a\"],[0.8888888888888888,\"#fdca26\"],[1.0,\"#f0f921\"]],\"sequentialminus\":[[0.0,\"#0d0887\"],[0.1111111111111111,\"#46039f\"],[0.2222222222222222,\"#7201a8\"],[0.3333333333333333,\"#9c179e\"],[0.4444444444444444,\"#bd3786\"],[0.5555555555555556,\"#d8576b\"],[0.6666666666666666,\"#ed7953\"],[0.7777777777777778,\"#fb9f3a\"],[0.8888888888888888,\"#fdca26\"],[1.0,\"#f0f921\"]],\"diverging\":[[0,\"#8e0152\"],[0.1,\"#c51b7d\"],[0.2,\"#de77ae\"],[0.3,\"#f1b6da\"],[0.4,\"#fde0ef\"],[0.5,\"#f7f7f7\"],[0.6,\"#e6f5d0\"],[0.7,\"#b8e186\"],[0.8,\"#7fbc41\"],[0.9,\"#4d9221\"],[1,\"#276419\"]]},\"xaxis\":{\"gridcolor\":\"white\",\"linecolor\":\"white\",\"ticks\":\"\",\"title\":{\"standoff\":15},\"zerolinecolor\":\"white\",\"automargin\":true,\"zerolinewidth\":2},\"yaxis\":{\"gridcolor\":\"white\",\"linecolor\":\"white\",\"ticks\":\"\",\"title\":{\"standoff\":15},\"zerolinecolor\":\"white\",\"automargin\":true,\"zerolinewidth\":2},\"scene\":{\"xaxis\":{\"backgroundcolor\":\"#E5ECF6\",\"gridcolor\":\"white\",\"linecolor\":\"white\",\"showbackground\":true,\"ticks\":\"\",\"zerolinecolor\":\"white\",\"gridwidth\":2},\"yaxis\":{\"backgroundcolor\":\"#E5ECF6\",\"gridcolor\":\"white\",\"linecolor\":\"white\",\"showbackground\":true,\"ticks\":\"\",\"zerolinecolor\":\"white\",\"gridwidth\":2},\"zaxis\":{\"backgroundcolor\":\"#E5ECF6\",\"gridcolor\":\"white\",\"linecolor\":\"white\",\"showbackground\":true,\"ticks\":\"\",\"zerolinecolor\":\"white\",\"gridwidth\":2}},\"shapedefaults\":{\"line\":{\"color\":\"#2a3f5f\"}},\"annotationdefaults\":{\"arrowcolor\":\"#2a3f5f\",\"arrowhead\":0,\"arrowwidth\":1},\"geo\":{\"bgcolor\":\"white\",\"landcolor\":\"#E5ECF6\",\"subunitcolor\":\"white\",\"showland\":true,\"showlakes\":true,\"lakecolor\":\"white\"},\"title\":{\"x\":0.05},\"mapbox\":{\"style\":\"light\"}}},\"xaxis\":{\"anchor\":\"y\",\"domain\":[0.0,1.0],\"title\":{\"text\":\"Name\"},\"categoryorder\":\"array\",\"categoryarray\":[\"LinearRegression\",\"SupportVectorRegression\",\"DecisionTreeRegression\",\"DecisionTreeRegression(MD=5)\",\"RandomForestRegression\",\"XGBRegressor\"]},\"yaxis\":{\"anchor\":\"x\",\"domain\":[0.0,1.0],\"title\":{\"text\":\"Test MAE\"}},\"legend\":{\"title\":{\"text\":\"Name\"},\"tracegroupgap\":0},\"title\":{\"text\":\"Test MAE Bar Graph\"},\"barmode\":\"relative\",\"showlegend\":false},                        {\"responsive\": true}                    ).then(function(){\n",
       "                            \n",
       "var gd = document.getElementById('00eabe94-38f6-4532-bdc3-246e127f1563');\n",
       "var x = new MutationObserver(function (mutations, observer) {{\n",
       "        var display = window.getComputedStyle(gd).display;\n",
       "        if (!display || display === 'none') {{\n",
       "            console.log([gd, 'removed!']);\n",
       "            Plotly.purge(gd);\n",
       "            observer.disconnect();\n",
       "        }}\n",
       "}});\n",
       "\n",
       "// Listen for the removal of the full notebook cells\n",
       "var notebookContainer = gd.closest('#notebook-container');\n",
       "if (notebookContainer) {{\n",
       "    x.observe(notebookContainer, {childList: true});\n",
       "}}\n",
       "\n",
       "// Listen for the clearing of the current output cell\n",
       "var outputEl = gd.closest('.output');\n",
       "if (outputEl) {{\n",
       "    x.observe(outputEl, {childList: true});\n",
       "}}\n",
       "\n",
       "                        })                };                });            </script>        </div>"
      ]
     },
     "metadata": {},
     "output_type": "display_data"
    }
   ],
   "source": [
    "# Train MAE Bar Graph\n",
    "train_mae_bar = px.bar(model_evals, x=\"Name\", y=\"Train MAE\", title=\"Train MAE Bar Graph\", color=\"Name\")\n",
    "train_mae_bar.update_layout(showlegend=False)\n",
    "train_mae_bar.show()\n",
    "\n",
    "# Test MAE Bar Graph\n",
    "test_mae_bar = px.bar(model_evals, x=\"Name\", y=\"Test MAE\", title=\"Test MAE Bar Graph\", color=\"Name\")\n",
    "test_mae_bar.update_layout(showlegend=False)\n",
    "test_mae_bar.show()"
   ]
  },
  {
   "cell_type": "markdown",
   "id": "6b057da1",
   "metadata": {
    "papermill": {
     "duration": 0.03318,
     "end_time": "2023-12-05T00:01:23.778295",
     "exception": false,
     "start_time": "2023-12-05T00:01:23.745115",
     "status": "completed"
    },
    "tags": []
   },
   "source": [
    "Across various regression models evaluated for predicting house prices, distinct patterns emerged in their performance. Linear Regression displayed moderate predictive capabilities, showcasing reasonable accuracy in estimating house prices. Conversely, Support Vector Regression exhibited significantly higher error metrics on both training and test datasets, suggesting notable discrepancies between predicted and actual house prices. Decision Tree Regression models presented intriguing variations, with the regular Decision Tree indicating potential overfitting on the training set by displaying a perfect score and a notable increase in error on the test set, while the variant with limited depth showcased more reasonable error metrics on both datasets. \n",
    "\n",
    "The Random Forest Regression model demonstrated robust performance, depicting relatively low error values on both training and test datasets, signifying accurate predictions with minor deviations from actual prices. However, the XGBRegressor model outshone the rest, showcasing exceptional accuracy and precision with remarkably low error metrics on the training set and competitive but still superior performance on the test set, indicating its unparalleled ability to predict house prices with high accuracy and minimal deviations from actual values.\n"
   ]
  },
  {
   "cell_type": "code",
   "execution_count": 37,
   "id": "fb3d2103",
   "metadata": {
    "execution": {
     "iopub.execute_input": "2023-12-05T00:01:23.844306Z",
     "iopub.status.busy": "2023-12-05T00:01:23.843892Z",
     "iopub.status.idle": "2023-12-05T00:01:24.062540Z",
     "shell.execute_reply": "2023-12-05T00:01:24.061446Z"
    },
    "papermill": {
     "duration": 0.254055,
     "end_time": "2023-12-05T00:01:24.065078",
     "exception": false,
     "start_time": "2023-12-05T00:01:23.811023",
     "status": "completed"
    },
    "tags": []
   },
   "outputs": [
    {
     "data": {
      "text/html": [
       "<div>                            <div id=\"8f1d8be2-9315-4ddc-8df2-65afee4a6cfb\" class=\"plotly-graph-div\" style=\"height:525px; width:100%;\"></div>            <script type=\"text/javascript\">                require([\"plotly\"], function(Plotly) {                    window.PLOTLYENV=window.PLOTLYENV || {};                                    if (document.getElementById(\"8f1d8be2-9315-4ddc-8df2-65afee4a6cfb\")) {                    Plotly.newPlot(                        \"8f1d8be2-9315-4ddc-8df2-65afee4a6cfb\",                        [{\"alignmentgroup\":\"True\",\"hovertemplate\":\"Name=%{x}\\u003cbr\\u003eTrain R2=%{y}\\u003cextra\\u003e\\u003c\\u002fextra\\u003e\",\"legendgroup\":\"LinearRegression\",\"marker\":{\"color\":\"#636efa\",\"pattern\":{\"shape\":\"\"}},\"name\":\"LinearRegression\",\"offsetgroup\":\"LinearRegression\",\"orientation\":\"v\",\"showlegend\":true,\"textposition\":\"auto\",\"x\":[\"LinearRegression\"],\"xaxis\":\"x\",\"y\":[0.8464176712013937],\"yaxis\":\"y\",\"type\":\"bar\"},{\"alignmentgroup\":\"True\",\"hovertemplate\":\"Name=%{x}\\u003cbr\\u003eTrain R2=%{y}\\u003cextra\\u003e\\u003c\\u002fextra\\u003e\",\"legendgroup\":\"SupportVectorRegression\",\"marker\":{\"color\":\"#EF553B\",\"pattern\":{\"shape\":\"\"}},\"name\":\"SupportVectorRegression\",\"offsetgroup\":\"SupportVectorRegression\",\"orientation\":\"v\",\"showlegend\":true,\"textposition\":\"auto\",\"x\":[\"SupportVectorRegression\"],\"xaxis\":\"x\",\"y\":[-0.04293116235180228],\"yaxis\":\"y\",\"type\":\"bar\"},{\"alignmentgroup\":\"True\",\"hovertemplate\":\"Name=%{x}\\u003cbr\\u003eTrain R2=%{y}\\u003cextra\\u003e\\u003c\\u002fextra\\u003e\",\"legendgroup\":\"DecisionTreeRegression\",\"marker\":{\"color\":\"#00cc96\",\"pattern\":{\"shape\":\"\"}},\"name\":\"DecisionTreeRegression\",\"offsetgroup\":\"DecisionTreeRegression\",\"orientation\":\"v\",\"showlegend\":true,\"textposition\":\"auto\",\"x\":[\"DecisionTreeRegression\"],\"xaxis\":\"x\",\"y\":[1.0],\"yaxis\":\"y\",\"type\":\"bar\"},{\"alignmentgroup\":\"True\",\"hovertemplate\":\"Name=%{x}\\u003cbr\\u003eTrain R2=%{y}\\u003cextra\\u003e\\u003c\\u002fextra\\u003e\",\"legendgroup\":\"DecisionTreeRegression(MD=5)\",\"marker\":{\"color\":\"#ab63fa\",\"pattern\":{\"shape\":\"\"}},\"name\":\"DecisionTreeRegression(MD=5)\",\"offsetgroup\":\"DecisionTreeRegression(MD=5)\",\"orientation\":\"v\",\"showlegend\":true,\"textposition\":\"auto\",\"x\":[\"DecisionTreeRegression(MD=5)\"],\"xaxis\":\"x\",\"y\":[0.8601591790198645],\"yaxis\":\"y\",\"type\":\"bar\"},{\"alignmentgroup\":\"True\",\"hovertemplate\":\"Name=%{x}\\u003cbr\\u003eTrain R2=%{y}\\u003cextra\\u003e\\u003c\\u002fextra\\u003e\",\"legendgroup\":\"RandomForestRegression\",\"marker\":{\"color\":\"#FFA15A\",\"pattern\":{\"shape\":\"\"}},\"name\":\"RandomForestRegression\",\"offsetgroup\":\"RandomForestRegression\",\"orientation\":\"v\",\"showlegend\":true,\"textposition\":\"auto\",\"x\":[\"RandomForestRegression\"],\"xaxis\":\"x\",\"y\":[0.9805713279394194],\"yaxis\":\"y\",\"type\":\"bar\"},{\"alignmentgroup\":\"True\",\"hovertemplate\":\"Name=%{x}\\u003cbr\\u003eTrain R2=%{y}\\u003cextra\\u003e\\u003c\\u002fextra\\u003e\",\"legendgroup\":\"XGBRegressor\",\"marker\":{\"color\":\"#19d3f3\",\"pattern\":{\"shape\":\"\"}},\"name\":\"XGBRegressor\",\"offsetgroup\":\"XGBRegressor\",\"orientation\":\"v\",\"showlegend\":true,\"textposition\":\"auto\",\"x\":[\"XGBRegressor\"],\"xaxis\":\"x\",\"y\":[0.9997325204409071],\"yaxis\":\"y\",\"type\":\"bar\"}],                        {\"template\":{\"data\":{\"histogram2dcontour\":[{\"type\":\"histogram2dcontour\",\"colorbar\":{\"outlinewidth\":0,\"ticks\":\"\"},\"colorscale\":[[0.0,\"#0d0887\"],[0.1111111111111111,\"#46039f\"],[0.2222222222222222,\"#7201a8\"],[0.3333333333333333,\"#9c179e\"],[0.4444444444444444,\"#bd3786\"],[0.5555555555555556,\"#d8576b\"],[0.6666666666666666,\"#ed7953\"],[0.7777777777777778,\"#fb9f3a\"],[0.8888888888888888,\"#fdca26\"],[1.0,\"#f0f921\"]]}],\"choropleth\":[{\"type\":\"choropleth\",\"colorbar\":{\"outlinewidth\":0,\"ticks\":\"\"}}],\"histogram2d\":[{\"type\":\"histogram2d\",\"colorbar\":{\"outlinewidth\":0,\"ticks\":\"\"},\"colorscale\":[[0.0,\"#0d0887\"],[0.1111111111111111,\"#46039f\"],[0.2222222222222222,\"#7201a8\"],[0.3333333333333333,\"#9c179e\"],[0.4444444444444444,\"#bd3786\"],[0.5555555555555556,\"#d8576b\"],[0.6666666666666666,\"#ed7953\"],[0.7777777777777778,\"#fb9f3a\"],[0.8888888888888888,\"#fdca26\"],[1.0,\"#f0f921\"]]}],\"heatmap\":[{\"type\":\"heatmap\",\"colorbar\":{\"outlinewidth\":0,\"ticks\":\"\"},\"colorscale\":[[0.0,\"#0d0887\"],[0.1111111111111111,\"#46039f\"],[0.2222222222222222,\"#7201a8\"],[0.3333333333333333,\"#9c179e\"],[0.4444444444444444,\"#bd3786\"],[0.5555555555555556,\"#d8576b\"],[0.6666666666666666,\"#ed7953\"],[0.7777777777777778,\"#fb9f3a\"],[0.8888888888888888,\"#fdca26\"],[1.0,\"#f0f921\"]]}],\"heatmapgl\":[{\"type\":\"heatmapgl\",\"colorbar\":{\"outlinewidth\":0,\"ticks\":\"\"},\"colorscale\":[[0.0,\"#0d0887\"],[0.1111111111111111,\"#46039f\"],[0.2222222222222222,\"#7201a8\"],[0.3333333333333333,\"#9c179e\"],[0.4444444444444444,\"#bd3786\"],[0.5555555555555556,\"#d8576b\"],[0.6666666666666666,\"#ed7953\"],[0.7777777777777778,\"#fb9f3a\"],[0.8888888888888888,\"#fdca26\"],[1.0,\"#f0f921\"]]}],\"contourcarpet\":[{\"type\":\"contourcarpet\",\"colorbar\":{\"outlinewidth\":0,\"ticks\":\"\"}}],\"contour\":[{\"type\":\"contour\",\"colorbar\":{\"outlinewidth\":0,\"ticks\":\"\"},\"colorscale\":[[0.0,\"#0d0887\"],[0.1111111111111111,\"#46039f\"],[0.2222222222222222,\"#7201a8\"],[0.3333333333333333,\"#9c179e\"],[0.4444444444444444,\"#bd3786\"],[0.5555555555555556,\"#d8576b\"],[0.6666666666666666,\"#ed7953\"],[0.7777777777777778,\"#fb9f3a\"],[0.8888888888888888,\"#fdca26\"],[1.0,\"#f0f921\"]]}],\"surface\":[{\"type\":\"surface\",\"colorbar\":{\"outlinewidth\":0,\"ticks\":\"\"},\"colorscale\":[[0.0,\"#0d0887\"],[0.1111111111111111,\"#46039f\"],[0.2222222222222222,\"#7201a8\"],[0.3333333333333333,\"#9c179e\"],[0.4444444444444444,\"#bd3786\"],[0.5555555555555556,\"#d8576b\"],[0.6666666666666666,\"#ed7953\"],[0.7777777777777778,\"#fb9f3a\"],[0.8888888888888888,\"#fdca26\"],[1.0,\"#f0f921\"]]}],\"mesh3d\":[{\"type\":\"mesh3d\",\"colorbar\":{\"outlinewidth\":0,\"ticks\":\"\"}}],\"scatter\":[{\"fillpattern\":{\"fillmode\":\"overlay\",\"size\":10,\"solidity\":0.2},\"type\":\"scatter\"}],\"parcoords\":[{\"type\":\"parcoords\",\"line\":{\"colorbar\":{\"outlinewidth\":0,\"ticks\":\"\"}}}],\"scatterpolargl\":[{\"type\":\"scatterpolargl\",\"marker\":{\"colorbar\":{\"outlinewidth\":0,\"ticks\":\"\"}}}],\"bar\":[{\"error_x\":{\"color\":\"#2a3f5f\"},\"error_y\":{\"color\":\"#2a3f5f\"},\"marker\":{\"line\":{\"color\":\"#E5ECF6\",\"width\":0.5},\"pattern\":{\"fillmode\":\"overlay\",\"size\":10,\"solidity\":0.2}},\"type\":\"bar\"}],\"scattergeo\":[{\"type\":\"scattergeo\",\"marker\":{\"colorbar\":{\"outlinewidth\":0,\"ticks\":\"\"}}}],\"scatterpolar\":[{\"type\":\"scatterpolar\",\"marker\":{\"colorbar\":{\"outlinewidth\":0,\"ticks\":\"\"}}}],\"histogram\":[{\"marker\":{\"pattern\":{\"fillmode\":\"overlay\",\"size\":10,\"solidity\":0.2}},\"type\":\"histogram\"}],\"scattergl\":[{\"type\":\"scattergl\",\"marker\":{\"colorbar\":{\"outlinewidth\":0,\"ticks\":\"\"}}}],\"scatter3d\":[{\"type\":\"scatter3d\",\"line\":{\"colorbar\":{\"outlinewidth\":0,\"ticks\":\"\"}},\"marker\":{\"colorbar\":{\"outlinewidth\":0,\"ticks\":\"\"}}}],\"scattermapbox\":[{\"type\":\"scattermapbox\",\"marker\":{\"colorbar\":{\"outlinewidth\":0,\"ticks\":\"\"}}}],\"scatterternary\":[{\"type\":\"scatterternary\",\"marker\":{\"colorbar\":{\"outlinewidth\":0,\"ticks\":\"\"}}}],\"scattercarpet\":[{\"type\":\"scattercarpet\",\"marker\":{\"colorbar\":{\"outlinewidth\":0,\"ticks\":\"\"}}}],\"carpet\":[{\"aaxis\":{\"endlinecolor\":\"#2a3f5f\",\"gridcolor\":\"white\",\"linecolor\":\"white\",\"minorgridcolor\":\"white\",\"startlinecolor\":\"#2a3f5f\"},\"baxis\":{\"endlinecolor\":\"#2a3f5f\",\"gridcolor\":\"white\",\"linecolor\":\"white\",\"minorgridcolor\":\"white\",\"startlinecolor\":\"#2a3f5f\"},\"type\":\"carpet\"}],\"table\":[{\"cells\":{\"fill\":{\"color\":\"#EBF0F8\"},\"line\":{\"color\":\"white\"}},\"header\":{\"fill\":{\"color\":\"#C8D4E3\"},\"line\":{\"color\":\"white\"}},\"type\":\"table\"}],\"barpolar\":[{\"marker\":{\"line\":{\"color\":\"#E5ECF6\",\"width\":0.5},\"pattern\":{\"fillmode\":\"overlay\",\"size\":10,\"solidity\":0.2}},\"type\":\"barpolar\"}],\"pie\":[{\"automargin\":true,\"type\":\"pie\"}]},\"layout\":{\"autotypenumbers\":\"strict\",\"colorway\":[\"#636efa\",\"#EF553B\",\"#00cc96\",\"#ab63fa\",\"#FFA15A\",\"#19d3f3\",\"#FF6692\",\"#B6E880\",\"#FF97FF\",\"#FECB52\"],\"font\":{\"color\":\"#2a3f5f\"},\"hovermode\":\"closest\",\"hoverlabel\":{\"align\":\"left\"},\"paper_bgcolor\":\"white\",\"plot_bgcolor\":\"#E5ECF6\",\"polar\":{\"bgcolor\":\"#E5ECF6\",\"angularaxis\":{\"gridcolor\":\"white\",\"linecolor\":\"white\",\"ticks\":\"\"},\"radialaxis\":{\"gridcolor\":\"white\",\"linecolor\":\"white\",\"ticks\":\"\"}},\"ternary\":{\"bgcolor\":\"#E5ECF6\",\"aaxis\":{\"gridcolor\":\"white\",\"linecolor\":\"white\",\"ticks\":\"\"},\"baxis\":{\"gridcolor\":\"white\",\"linecolor\":\"white\",\"ticks\":\"\"},\"caxis\":{\"gridcolor\":\"white\",\"linecolor\":\"white\",\"ticks\":\"\"}},\"coloraxis\":{\"colorbar\":{\"outlinewidth\":0,\"ticks\":\"\"}},\"colorscale\":{\"sequential\":[[0.0,\"#0d0887\"],[0.1111111111111111,\"#46039f\"],[0.2222222222222222,\"#7201a8\"],[0.3333333333333333,\"#9c179e\"],[0.4444444444444444,\"#bd3786\"],[0.5555555555555556,\"#d8576b\"],[0.6666666666666666,\"#ed7953\"],[0.7777777777777778,\"#fb9f3a\"],[0.8888888888888888,\"#fdca26\"],[1.0,\"#f0f921\"]],\"sequentialminus\":[[0.0,\"#0d0887\"],[0.1111111111111111,\"#46039f\"],[0.2222222222222222,\"#7201a8\"],[0.3333333333333333,\"#9c179e\"],[0.4444444444444444,\"#bd3786\"],[0.5555555555555556,\"#d8576b\"],[0.6666666666666666,\"#ed7953\"],[0.7777777777777778,\"#fb9f3a\"],[0.8888888888888888,\"#fdca26\"],[1.0,\"#f0f921\"]],\"diverging\":[[0,\"#8e0152\"],[0.1,\"#c51b7d\"],[0.2,\"#de77ae\"],[0.3,\"#f1b6da\"],[0.4,\"#fde0ef\"],[0.5,\"#f7f7f7\"],[0.6,\"#e6f5d0\"],[0.7,\"#b8e186\"],[0.8,\"#7fbc41\"],[0.9,\"#4d9221\"],[1,\"#276419\"]]},\"xaxis\":{\"gridcolor\":\"white\",\"linecolor\":\"white\",\"ticks\":\"\",\"title\":{\"standoff\":15},\"zerolinecolor\":\"white\",\"automargin\":true,\"zerolinewidth\":2},\"yaxis\":{\"gridcolor\":\"white\",\"linecolor\":\"white\",\"ticks\":\"\",\"title\":{\"standoff\":15},\"zerolinecolor\":\"white\",\"automargin\":true,\"zerolinewidth\":2},\"scene\":{\"xaxis\":{\"backgroundcolor\":\"#E5ECF6\",\"gridcolor\":\"white\",\"linecolor\":\"white\",\"showbackground\":true,\"ticks\":\"\",\"zerolinecolor\":\"white\",\"gridwidth\":2},\"yaxis\":{\"backgroundcolor\":\"#E5ECF6\",\"gridcolor\":\"white\",\"linecolor\":\"white\",\"showbackground\":true,\"ticks\":\"\",\"zerolinecolor\":\"white\",\"gridwidth\":2},\"zaxis\":{\"backgroundcolor\":\"#E5ECF6\",\"gridcolor\":\"white\",\"linecolor\":\"white\",\"showbackground\":true,\"ticks\":\"\",\"zerolinecolor\":\"white\",\"gridwidth\":2}},\"shapedefaults\":{\"line\":{\"color\":\"#2a3f5f\"}},\"annotationdefaults\":{\"arrowcolor\":\"#2a3f5f\",\"arrowhead\":0,\"arrowwidth\":1},\"geo\":{\"bgcolor\":\"white\",\"landcolor\":\"#E5ECF6\",\"subunitcolor\":\"white\",\"showland\":true,\"showlakes\":true,\"lakecolor\":\"white\"},\"title\":{\"x\":0.05},\"mapbox\":{\"style\":\"light\"}}},\"xaxis\":{\"anchor\":\"y\",\"domain\":[0.0,1.0],\"title\":{\"text\":\"Name\"},\"categoryorder\":\"array\",\"categoryarray\":[\"LinearRegression\",\"SupportVectorRegression\",\"DecisionTreeRegression\",\"DecisionTreeRegression(MD=5)\",\"RandomForestRegression\",\"XGBRegressor\"]},\"yaxis\":{\"anchor\":\"x\",\"domain\":[0.0,1.0],\"title\":{\"text\":\"Train R2\"}},\"legend\":{\"title\":{\"text\":\"Name\"},\"tracegroupgap\":0},\"title\":{\"text\":\"Train R2 Bar Graph\"},\"barmode\":\"relative\",\"showlegend\":false},                        {\"responsive\": true}                    ).then(function(){\n",
       "                            \n",
       "var gd = document.getElementById('8f1d8be2-9315-4ddc-8df2-65afee4a6cfb');\n",
       "var x = new MutationObserver(function (mutations, observer) {{\n",
       "        var display = window.getComputedStyle(gd).display;\n",
       "        if (!display || display === 'none') {{\n",
       "            console.log([gd, 'removed!']);\n",
       "            Plotly.purge(gd);\n",
       "            observer.disconnect();\n",
       "        }}\n",
       "}});\n",
       "\n",
       "// Listen for the removal of the full notebook cells\n",
       "var notebookContainer = gd.closest('#notebook-container');\n",
       "if (notebookContainer) {{\n",
       "    x.observe(notebookContainer, {childList: true});\n",
       "}}\n",
       "\n",
       "// Listen for the clearing of the current output cell\n",
       "var outputEl = gd.closest('.output');\n",
       "if (outputEl) {{\n",
       "    x.observe(outputEl, {childList: true});\n",
       "}}\n",
       "\n",
       "                        })                };                });            </script>        </div>"
      ]
     },
     "metadata": {},
     "output_type": "display_data"
    },
    {
     "data": {
      "text/html": [
       "<div>                            <div id=\"108a7628-1140-42c1-82b4-d4ae04a706ee\" class=\"plotly-graph-div\" style=\"height:525px; width:100%;\"></div>            <script type=\"text/javascript\">                require([\"plotly\"], function(Plotly) {                    window.PLOTLYENV=window.PLOTLYENV || {};                                    if (document.getElementById(\"108a7628-1140-42c1-82b4-d4ae04a706ee\")) {                    Plotly.newPlot(                        \"108a7628-1140-42c1-82b4-d4ae04a706ee\",                        [{\"alignmentgroup\":\"True\",\"hovertemplate\":\"Name=%{x}\\u003cbr\\u003eTest R2=%{y}\\u003cextra\\u003e\\u003c\\u002fextra\\u003e\",\"legendgroup\":\"LinearRegression\",\"marker\":{\"color\":\"#636efa\",\"pattern\":{\"shape\":\"\"}},\"name\":\"LinearRegression\",\"offsetgroup\":\"LinearRegression\",\"orientation\":\"v\",\"showlegend\":true,\"textposition\":\"auto\",\"x\":[\"LinearRegression\"],\"xaxis\":\"x\",\"y\":[0.8510565906732396],\"yaxis\":\"y\",\"type\":\"bar\"},{\"alignmentgroup\":\"True\",\"hovertemplate\":\"Name=%{x}\\u003cbr\\u003eTest R2=%{y}\\u003cextra\\u003e\\u003c\\u002fextra\\u003e\",\"legendgroup\":\"SupportVectorRegression\",\"marker\":{\"color\":\"#EF553B\",\"pattern\":{\"shape\":\"\"}},\"name\":\"SupportVectorRegression\",\"offsetgroup\":\"SupportVectorRegression\",\"orientation\":\"v\",\"showlegend\":true,\"textposition\":\"auto\",\"x\":[\"SupportVectorRegression\"],\"xaxis\":\"x\",\"y\":[-0.036251192914940944],\"yaxis\":\"y\",\"type\":\"bar\"},{\"alignmentgroup\":\"True\",\"hovertemplate\":\"Name=%{x}\\u003cbr\\u003eTest R2=%{y}\\u003cextra\\u003e\\u003c\\u002fextra\\u003e\",\"legendgroup\":\"DecisionTreeRegression\",\"marker\":{\"color\":\"#00cc96\",\"pattern\":{\"shape\":\"\"}},\"name\":\"DecisionTreeRegression\",\"offsetgroup\":\"DecisionTreeRegression\",\"orientation\":\"v\",\"showlegend\":true,\"textposition\":\"auto\",\"x\":[\"DecisionTreeRegression\"],\"xaxis\":\"x\",\"y\":[0.8727776343697895],\"yaxis\":\"y\",\"type\":\"bar\"},{\"alignmentgroup\":\"True\",\"hovertemplate\":\"Name=%{x}\\u003cbr\\u003eTest R2=%{y}\\u003cextra\\u003e\\u003c\\u002fextra\\u003e\",\"legendgroup\":\"DecisionTreeRegression(MD=5)\",\"marker\":{\"color\":\"#ab63fa\",\"pattern\":{\"shape\":\"\"}},\"name\":\"DecisionTreeRegression(MD=5)\",\"offsetgroup\":\"DecisionTreeRegression(MD=5)\",\"orientation\":\"v\",\"showlegend\":true,\"textposition\":\"auto\",\"x\":[\"DecisionTreeRegression(MD=5)\"],\"xaxis\":\"x\",\"y\":[0.8455658457452984],\"yaxis\":\"y\",\"type\":\"bar\"},{\"alignmentgroup\":\"True\",\"hovertemplate\":\"Name=%{x}\\u003cbr\\u003eTest R2=%{y}\\u003cextra\\u003e\\u003c\\u002fextra\\u003e\",\"legendgroup\":\"RandomForestRegression\",\"marker\":{\"color\":\"#FFA15A\",\"pattern\":{\"shape\":\"\"}},\"name\":\"RandomForestRegression\",\"offsetgroup\":\"RandomForestRegression\",\"orientation\":\"v\",\"showlegend\":true,\"textposition\":\"auto\",\"x\":[\"RandomForestRegression\"],\"xaxis\":\"x\",\"y\":[0.8955097708388952],\"yaxis\":\"y\",\"type\":\"bar\"},{\"alignmentgroup\":\"True\",\"hovertemplate\":\"Name=%{x}\\u003cbr\\u003eTest R2=%{y}\\u003cextra\\u003e\\u003c\\u002fextra\\u003e\",\"legendgroup\":\"XGBRegressor\",\"marker\":{\"color\":\"#19d3f3\",\"pattern\":{\"shape\":\"\"}},\"name\":\"XGBRegressor\",\"offsetgroup\":\"XGBRegressor\",\"orientation\":\"v\",\"showlegend\":true,\"textposition\":\"auto\",\"x\":[\"XGBRegressor\"],\"xaxis\":\"x\",\"y\":[0.9211671981329388],\"yaxis\":\"y\",\"type\":\"bar\"}],                        {\"template\":{\"data\":{\"histogram2dcontour\":[{\"type\":\"histogram2dcontour\",\"colorbar\":{\"outlinewidth\":0,\"ticks\":\"\"},\"colorscale\":[[0.0,\"#0d0887\"],[0.1111111111111111,\"#46039f\"],[0.2222222222222222,\"#7201a8\"],[0.3333333333333333,\"#9c179e\"],[0.4444444444444444,\"#bd3786\"],[0.5555555555555556,\"#d8576b\"],[0.6666666666666666,\"#ed7953\"],[0.7777777777777778,\"#fb9f3a\"],[0.8888888888888888,\"#fdca26\"],[1.0,\"#f0f921\"]]}],\"choropleth\":[{\"type\":\"choropleth\",\"colorbar\":{\"outlinewidth\":0,\"ticks\":\"\"}}],\"histogram2d\":[{\"type\":\"histogram2d\",\"colorbar\":{\"outlinewidth\":0,\"ticks\":\"\"},\"colorscale\":[[0.0,\"#0d0887\"],[0.1111111111111111,\"#46039f\"],[0.2222222222222222,\"#7201a8\"],[0.3333333333333333,\"#9c179e\"],[0.4444444444444444,\"#bd3786\"],[0.5555555555555556,\"#d8576b\"],[0.6666666666666666,\"#ed7953\"],[0.7777777777777778,\"#fb9f3a\"],[0.8888888888888888,\"#fdca26\"],[1.0,\"#f0f921\"]]}],\"heatmap\":[{\"type\":\"heatmap\",\"colorbar\":{\"outlinewidth\":0,\"ticks\":\"\"},\"colorscale\":[[0.0,\"#0d0887\"],[0.1111111111111111,\"#46039f\"],[0.2222222222222222,\"#7201a8\"],[0.3333333333333333,\"#9c179e\"],[0.4444444444444444,\"#bd3786\"],[0.5555555555555556,\"#d8576b\"],[0.6666666666666666,\"#ed7953\"],[0.7777777777777778,\"#fb9f3a\"],[0.8888888888888888,\"#fdca26\"],[1.0,\"#f0f921\"]]}],\"heatmapgl\":[{\"type\":\"heatmapgl\",\"colorbar\":{\"outlinewidth\":0,\"ticks\":\"\"},\"colorscale\":[[0.0,\"#0d0887\"],[0.1111111111111111,\"#46039f\"],[0.2222222222222222,\"#7201a8\"],[0.3333333333333333,\"#9c179e\"],[0.4444444444444444,\"#bd3786\"],[0.5555555555555556,\"#d8576b\"],[0.6666666666666666,\"#ed7953\"],[0.7777777777777778,\"#fb9f3a\"],[0.8888888888888888,\"#fdca26\"],[1.0,\"#f0f921\"]]}],\"contourcarpet\":[{\"type\":\"contourcarpet\",\"colorbar\":{\"outlinewidth\":0,\"ticks\":\"\"}}],\"contour\":[{\"type\":\"contour\",\"colorbar\":{\"outlinewidth\":0,\"ticks\":\"\"},\"colorscale\":[[0.0,\"#0d0887\"],[0.1111111111111111,\"#46039f\"],[0.2222222222222222,\"#7201a8\"],[0.3333333333333333,\"#9c179e\"],[0.4444444444444444,\"#bd3786\"],[0.5555555555555556,\"#d8576b\"],[0.6666666666666666,\"#ed7953\"],[0.7777777777777778,\"#fb9f3a\"],[0.8888888888888888,\"#fdca26\"],[1.0,\"#f0f921\"]]}],\"surface\":[{\"type\":\"surface\",\"colorbar\":{\"outlinewidth\":0,\"ticks\":\"\"},\"colorscale\":[[0.0,\"#0d0887\"],[0.1111111111111111,\"#46039f\"],[0.2222222222222222,\"#7201a8\"],[0.3333333333333333,\"#9c179e\"],[0.4444444444444444,\"#bd3786\"],[0.5555555555555556,\"#d8576b\"],[0.6666666666666666,\"#ed7953\"],[0.7777777777777778,\"#fb9f3a\"],[0.8888888888888888,\"#fdca26\"],[1.0,\"#f0f921\"]]}],\"mesh3d\":[{\"type\":\"mesh3d\",\"colorbar\":{\"outlinewidth\":0,\"ticks\":\"\"}}],\"scatter\":[{\"fillpattern\":{\"fillmode\":\"overlay\",\"size\":10,\"solidity\":0.2},\"type\":\"scatter\"}],\"parcoords\":[{\"type\":\"parcoords\",\"line\":{\"colorbar\":{\"outlinewidth\":0,\"ticks\":\"\"}}}],\"scatterpolargl\":[{\"type\":\"scatterpolargl\",\"marker\":{\"colorbar\":{\"outlinewidth\":0,\"ticks\":\"\"}}}],\"bar\":[{\"error_x\":{\"color\":\"#2a3f5f\"},\"error_y\":{\"color\":\"#2a3f5f\"},\"marker\":{\"line\":{\"color\":\"#E5ECF6\",\"width\":0.5},\"pattern\":{\"fillmode\":\"overlay\",\"size\":10,\"solidity\":0.2}},\"type\":\"bar\"}],\"scattergeo\":[{\"type\":\"scattergeo\",\"marker\":{\"colorbar\":{\"outlinewidth\":0,\"ticks\":\"\"}}}],\"scatterpolar\":[{\"type\":\"scatterpolar\",\"marker\":{\"colorbar\":{\"outlinewidth\":0,\"ticks\":\"\"}}}],\"histogram\":[{\"marker\":{\"pattern\":{\"fillmode\":\"overlay\",\"size\":10,\"solidity\":0.2}},\"type\":\"histogram\"}],\"scattergl\":[{\"type\":\"scattergl\",\"marker\":{\"colorbar\":{\"outlinewidth\":0,\"ticks\":\"\"}}}],\"scatter3d\":[{\"type\":\"scatter3d\",\"line\":{\"colorbar\":{\"outlinewidth\":0,\"ticks\":\"\"}},\"marker\":{\"colorbar\":{\"outlinewidth\":0,\"ticks\":\"\"}}}],\"scattermapbox\":[{\"type\":\"scattermapbox\",\"marker\":{\"colorbar\":{\"outlinewidth\":0,\"ticks\":\"\"}}}],\"scatterternary\":[{\"type\":\"scatterternary\",\"marker\":{\"colorbar\":{\"outlinewidth\":0,\"ticks\":\"\"}}}],\"scattercarpet\":[{\"type\":\"scattercarpet\",\"marker\":{\"colorbar\":{\"outlinewidth\":0,\"ticks\":\"\"}}}],\"carpet\":[{\"aaxis\":{\"endlinecolor\":\"#2a3f5f\",\"gridcolor\":\"white\",\"linecolor\":\"white\",\"minorgridcolor\":\"white\",\"startlinecolor\":\"#2a3f5f\"},\"baxis\":{\"endlinecolor\":\"#2a3f5f\",\"gridcolor\":\"white\",\"linecolor\":\"white\",\"minorgridcolor\":\"white\",\"startlinecolor\":\"#2a3f5f\"},\"type\":\"carpet\"}],\"table\":[{\"cells\":{\"fill\":{\"color\":\"#EBF0F8\"},\"line\":{\"color\":\"white\"}},\"header\":{\"fill\":{\"color\":\"#C8D4E3\"},\"line\":{\"color\":\"white\"}},\"type\":\"table\"}],\"barpolar\":[{\"marker\":{\"line\":{\"color\":\"#E5ECF6\",\"width\":0.5},\"pattern\":{\"fillmode\":\"overlay\",\"size\":10,\"solidity\":0.2}},\"type\":\"barpolar\"}],\"pie\":[{\"automargin\":true,\"type\":\"pie\"}]},\"layout\":{\"autotypenumbers\":\"strict\",\"colorway\":[\"#636efa\",\"#EF553B\",\"#00cc96\",\"#ab63fa\",\"#FFA15A\",\"#19d3f3\",\"#FF6692\",\"#B6E880\",\"#FF97FF\",\"#FECB52\"],\"font\":{\"color\":\"#2a3f5f\"},\"hovermode\":\"closest\",\"hoverlabel\":{\"align\":\"left\"},\"paper_bgcolor\":\"white\",\"plot_bgcolor\":\"#E5ECF6\",\"polar\":{\"bgcolor\":\"#E5ECF6\",\"angularaxis\":{\"gridcolor\":\"white\",\"linecolor\":\"white\",\"ticks\":\"\"},\"radialaxis\":{\"gridcolor\":\"white\",\"linecolor\":\"white\",\"ticks\":\"\"}},\"ternary\":{\"bgcolor\":\"#E5ECF6\",\"aaxis\":{\"gridcolor\":\"white\",\"linecolor\":\"white\",\"ticks\":\"\"},\"baxis\":{\"gridcolor\":\"white\",\"linecolor\":\"white\",\"ticks\":\"\"},\"caxis\":{\"gridcolor\":\"white\",\"linecolor\":\"white\",\"ticks\":\"\"}},\"coloraxis\":{\"colorbar\":{\"outlinewidth\":0,\"ticks\":\"\"}},\"colorscale\":{\"sequential\":[[0.0,\"#0d0887\"],[0.1111111111111111,\"#46039f\"],[0.2222222222222222,\"#7201a8\"],[0.3333333333333333,\"#9c179e\"],[0.4444444444444444,\"#bd3786\"],[0.5555555555555556,\"#d8576b\"],[0.6666666666666666,\"#ed7953\"],[0.7777777777777778,\"#fb9f3a\"],[0.8888888888888888,\"#fdca26\"],[1.0,\"#f0f921\"]],\"sequentialminus\":[[0.0,\"#0d0887\"],[0.1111111111111111,\"#46039f\"],[0.2222222222222222,\"#7201a8\"],[0.3333333333333333,\"#9c179e\"],[0.4444444444444444,\"#bd3786\"],[0.5555555555555556,\"#d8576b\"],[0.6666666666666666,\"#ed7953\"],[0.7777777777777778,\"#fb9f3a\"],[0.8888888888888888,\"#fdca26\"],[1.0,\"#f0f921\"]],\"diverging\":[[0,\"#8e0152\"],[0.1,\"#c51b7d\"],[0.2,\"#de77ae\"],[0.3,\"#f1b6da\"],[0.4,\"#fde0ef\"],[0.5,\"#f7f7f7\"],[0.6,\"#e6f5d0\"],[0.7,\"#b8e186\"],[0.8,\"#7fbc41\"],[0.9,\"#4d9221\"],[1,\"#276419\"]]},\"xaxis\":{\"gridcolor\":\"white\",\"linecolor\":\"white\",\"ticks\":\"\",\"title\":{\"standoff\":15},\"zerolinecolor\":\"white\",\"automargin\":true,\"zerolinewidth\":2},\"yaxis\":{\"gridcolor\":\"white\",\"linecolor\":\"white\",\"ticks\":\"\",\"title\":{\"standoff\":15},\"zerolinecolor\":\"white\",\"automargin\":true,\"zerolinewidth\":2},\"scene\":{\"xaxis\":{\"backgroundcolor\":\"#E5ECF6\",\"gridcolor\":\"white\",\"linecolor\":\"white\",\"showbackground\":true,\"ticks\":\"\",\"zerolinecolor\":\"white\",\"gridwidth\":2},\"yaxis\":{\"backgroundcolor\":\"#E5ECF6\",\"gridcolor\":\"white\",\"linecolor\":\"white\",\"showbackground\":true,\"ticks\":\"\",\"zerolinecolor\":\"white\",\"gridwidth\":2},\"zaxis\":{\"backgroundcolor\":\"#E5ECF6\",\"gridcolor\":\"white\",\"linecolor\":\"white\",\"showbackground\":true,\"ticks\":\"\",\"zerolinecolor\":\"white\",\"gridwidth\":2}},\"shapedefaults\":{\"line\":{\"color\":\"#2a3f5f\"}},\"annotationdefaults\":{\"arrowcolor\":\"#2a3f5f\",\"arrowhead\":0,\"arrowwidth\":1},\"geo\":{\"bgcolor\":\"white\",\"landcolor\":\"#E5ECF6\",\"subunitcolor\":\"white\",\"showland\":true,\"showlakes\":true,\"lakecolor\":\"white\"},\"title\":{\"x\":0.05},\"mapbox\":{\"style\":\"light\"}}},\"xaxis\":{\"anchor\":\"y\",\"domain\":[0.0,1.0],\"title\":{\"text\":\"Name\"},\"categoryorder\":\"array\",\"categoryarray\":[\"LinearRegression\",\"SupportVectorRegression\",\"DecisionTreeRegression\",\"DecisionTreeRegression(MD=5)\",\"RandomForestRegression\",\"XGBRegressor\"]},\"yaxis\":{\"anchor\":\"x\",\"domain\":[0.0,1.0],\"title\":{\"text\":\"Test R2\"}},\"legend\":{\"title\":{\"text\":\"Name\"},\"tracegroupgap\":0},\"title\":{\"text\":\"Test R2 Bar Graph\"},\"barmode\":\"relative\",\"showlegend\":false},                        {\"responsive\": true}                    ).then(function(){\n",
       "                            \n",
       "var gd = document.getElementById('108a7628-1140-42c1-82b4-d4ae04a706ee');\n",
       "var x = new MutationObserver(function (mutations, observer) {{\n",
       "        var display = window.getComputedStyle(gd).display;\n",
       "        if (!display || display === 'none') {{\n",
       "            console.log([gd, 'removed!']);\n",
       "            Plotly.purge(gd);\n",
       "            observer.disconnect();\n",
       "        }}\n",
       "}});\n",
       "\n",
       "// Listen for the removal of the full notebook cells\n",
       "var notebookContainer = gd.closest('#notebook-container');\n",
       "if (notebookContainer) {{\n",
       "    x.observe(notebookContainer, {childList: true});\n",
       "}}\n",
       "\n",
       "// Listen for the clearing of the current output cell\n",
       "var outputEl = gd.closest('.output');\n",
       "if (outputEl) {{\n",
       "    x.observe(outputEl, {childList: true});\n",
       "}}\n",
       "\n",
       "                        })                };                });            </script>        </div>"
      ]
     },
     "metadata": {},
     "output_type": "display_data"
    }
   ],
   "source": [
    "# Train R2 Bar Graph\n",
    "train_r2_bar = px.bar(model_evals, x=\"Name\", y=\"Train R2\", title=\"Train R2 Bar Graph\", color=\"Name\")\n",
    "train_r2_bar.update_layout(showlegend=False)\n",
    "train_r2_bar.show()\n",
    "\n",
    "# Test R2 Bar Graph\n",
    "test_r2_bar = px.bar(model_evals, x=\"Name\", y=\"Test R2\", title=\"Test R2 Bar Graph\", color=\"Name\")\n",
    "test_r2_bar.update_layout(showlegend=False)\n",
    "test_r2_bar.show()\n"
   ]
  },
  {
   "cell_type": "markdown",
   "id": "7103feb8",
   "metadata": {
    "papermill": {
     "duration": 0.034028,
     "end_time": "2023-12-05T00:01:24.131510",
     "exception": false,
     "start_time": "2023-12-05T00:01:24.097482",
     "status": "completed"
    },
    "tags": []
   },
   "source": [
    "Across the evaluated regression models for predicting house prices, distinct trends emerged in their R-squared (R2) scores, reflecting their ability to explain the variance in the data. Linear Regression displayed reasonable R2 scores on both training and test datasets, indicating a moderate fit to the data. Support Vector Regression notably underperformed, showcasing negative R2 scores on both datasets, implying a poor fit worse than a horizontal line. Decision Tree models presented varying outcomes, with the regular Decision Tree potentially indicating overfitting on the training set and a more controlled fit with limited depth on both datasets. \n",
    "\n",
    "Random Forest Regression exhibited strong R2 scores, suggesting a robust fit to the data. However, XGBRegressor outperformed all other models with remarkably high R2 scores on the training set and competitive but superior scores on the test set, signifying exceptional accuracy and predictive capability in explaining and capturing variance in house prices. The superior performance of XGBRegressor in explaining the variance underscores its potential as the optimal choice among the evaluated models for accurate house price predictions."
   ]
  },
  {
   "cell_type": "markdown",
   "id": "b351d518",
   "metadata": {
    "papermill": {
     "duration": 0.032325,
     "end_time": "2023-12-05T00:01:24.196913",
     "exception": false,
     "start_time": "2023-12-05T00:01:24.164588",
     "status": "completed"
    },
    "tags": []
   },
   "source": [
    "---\n",
    "The Extreme Gradient Boosting (XGBRegressor) model showcases exceptional performance across various metrics, especially with its remarkably low Mean Squared Error (MSE) and Mean Absolute Error (MAE) for both training and test datasets. Its high R-squared values, particularly around 0.999 for training and 0.92 for the test set, signify an exceptional fit to the data, explaining almost all of the variance in house prices while demonstrating good generalization to new, unseen data.\n",
    "\n",
    "### Why XGBRegressor is an Exceptional Model:\n",
    "\n",
    "1. **Outstanding Accuracy:** The model displays extremely low errors for both training and test datasets, indicating high precision in predicting house prices.\n",
    "\n",
    "2. **Near-Perfect Fit:** The model achieves an almost perfect fit to the training data, capturing an incredibly high percentage of variance in house prices.\n",
    "\n",
    "3. **Strong Generalization:** Despite its exceptional performance on the training set, the model generalizes well to new data, maintaining high accuracy and providing reliable predictions for unseen instances.\n",
    "\n",
    "4. **Versatility:** XGBoost is a versatile and powerful algorithm known for its capability to handle complex datasets and achieve remarkable results across various domains.\n",
    "\n",
    "In summary, the XGBRegressor model's exceptional accuracy, strong fit to the data, and impressive generalization make it a standout choice for precise and reliable house price prediction, making it an exceptional model for deployment in practical scenarios where precision and accuracy are paramount."
   ]
  },
  {
   "cell_type": "markdown",
   "id": "c2d74871",
   "metadata": {
    "papermill": {
     "duration": 0.031918,
     "end_time": "2023-12-05T00:01:24.261741",
     "exception": false,
     "start_time": "2023-12-05T00:01:24.229823",
     "status": "completed"
    },
    "tags": []
   },
   "source": [
    "# **Neural Network**"
   ]
  },
  {
   "cell_type": "markdown",
   "id": "2cc1dc35",
   "metadata": {
    "papermill": {
     "duration": 0.032144,
     "end_time": "2023-12-05T00:01:24.326415",
     "exception": false,
     "start_time": "2023-12-05T00:01:24.294271",
     "status": "completed"
    },
    "tags": []
   },
   "source": [
    "Exploring the realm of **predictive models**, I ventured into harnessing the capabilities of a **neural network** to forecast **house prices**. Throughout this journey, I delved into **various configurations** and **network architectures**, aiming for **a robust design** that strikes a **balance between performance and generalization**. There's a layer within the **model—commented out**—that presents **superior performance** during **training**, but **unleashes overfitting tendencies**, **failing to replicate this excellence in the testing phase**. \n",
    "\n",
    "Consequently, I've settled on the **current model design**, prioritizing **robustness**, albeit acknowledging its **performance doesn't quite match or surpass the exceptional results of extreme gradient boosting**. This disparity might stem from the **unique strengths** of **traditional machine learning models** adept at **uncovering mathematical insights** within **structured data**, while **neural networks**, **inherently intuitive**, might lack the **sheer mathematical sophistication demanded by such datasets.**"
   ]
  },
  {
   "cell_type": "code",
   "execution_count": 38,
   "id": "934505ff",
   "metadata": {
    "execution": {
     "iopub.execute_input": "2023-12-05T00:01:24.393595Z",
     "iopub.status.busy": "2023-12-05T00:01:24.392734Z",
     "iopub.status.idle": "2023-12-05T00:01:28.238589Z",
     "shell.execute_reply": "2023-12-05T00:01:28.237308Z"
    },
    "papermill": {
     "duration": 3.882005,
     "end_time": "2023-12-05T00:01:28.240764",
     "exception": false,
     "start_time": "2023-12-05T00:01:24.358759",
     "status": "completed"
    },
    "tags": []
   },
   "outputs": [
    {
     "name": "stdout",
     "output_type": "stream",
     "text": [
      "Epoch 1/20\n",
      "42/42 [==============================] - 2s 2ms/step - loss: 38630141952.0000\n",
      "Epoch 2/20\n",
      "42/42 [==============================] - 0s 2ms/step - loss: 37897408512.0000\n",
      "Epoch 3/20\n",
      "42/42 [==============================] - 0s 2ms/step - loss: 28456335360.0000\n",
      "Epoch 4/20\n",
      "42/42 [==============================] - 0s 2ms/step - loss: 9540091904.0000\n",
      "Epoch 5/20\n",
      "42/42 [==============================] - 0s 2ms/step - loss: 5083567104.0000\n",
      "Epoch 6/20\n",
      "42/42 [==============================] - 0s 2ms/step - loss: 3495380224.0000\n",
      "Epoch 7/20\n",
      "42/42 [==============================] - 0s 2ms/step - loss: 2739464192.0000\n",
      "Epoch 8/20\n",
      "42/42 [==============================] - 0s 2ms/step - loss: 2296159488.0000\n",
      "Epoch 9/20\n",
      "42/42 [==============================] - 0s 2ms/step - loss: 1989220736.0000\n",
      "Epoch 10/20\n",
      "42/42 [==============================] - 0s 2ms/step - loss: 1774082304.0000\n",
      "Epoch 11/20\n",
      "42/42 [==============================] - 0s 2ms/step - loss: 1576136960.0000\n",
      "Epoch 12/20\n",
      "42/42 [==============================] - 0s 2ms/step - loss: 1455155456.0000\n",
      "Epoch 13/20\n",
      "42/42 [==============================] - 0s 2ms/step - loss: 1365694208.0000\n",
      "Epoch 14/20\n",
      "42/42 [==============================] - 0s 2ms/step - loss: 1274601728.0000\n",
      "Epoch 15/20\n",
      "42/42 [==============================] - 0s 2ms/step - loss: 1212731264.0000\n",
      "Epoch 16/20\n",
      "42/42 [==============================] - 0s 2ms/step - loss: 1160236928.0000\n",
      "Epoch 17/20\n",
      "42/42 [==============================] - 0s 2ms/step - loss: 1109998976.0000\n",
      "Epoch 18/20\n",
      "42/42 [==============================] - 0s 2ms/step - loss: 1083989248.0000\n",
      "Epoch 19/20\n",
      "42/42 [==============================] - 0s 2ms/step - loss: 1012659904.0000\n",
      "Epoch 20/20\n",
      "42/42 [==============================] - 0s 2ms/step - loss: 1001567616.0000\n",
      "\n",
      "Model Name : NeuralNetwork\n",
      "Train MSE  : 939238147.3087851\n",
      "Test MSE   : 1562725599.300677\n",
      "Train MAE  : 20446.145360659248\n",
      "Test MAE   : 25326.662617722603\n",
      "Train R2   : 0.8432484882815778\n",
      "Test R2    : 0.8289605770908725\n"
     ]
    }
   ],
   "source": [
    "# Initialize the neural network\n",
    "model_name = \"NeuralNetwork\"\n",
    "net = keras.Sequential([\n",
    "#     layers.Dense(512, activation='relu'),\n",
    "    layers.Dense(256, activation='relu'),\n",
    "    layers.Dense(128, activation='relu'),\n",
    "    layers.Dense(64, activation='relu'),\n",
    "    layers.Dense(32, activation='relu'),\n",
    "    layers.Dense(1)\n",
    "])\n",
    "\n",
    "# Compile the model\n",
    "net.compile(\n",
    "    loss='mse',\n",
    "    optimizer=keras.optimizers.Adam(learning_rate = 1e-3)\n",
    ")\n",
    "\n",
    "# Train the Neural Network\n",
    "net.fit(\n",
    "    x_train, y_train,\n",
    "    epochs = 20,\n",
    "#     verbose = 0\n",
    ")\n",
    "\n",
    "# Calculate metrices\n",
    "train_pred = net.predict(x_train, verbose = 0)\n",
    "test_pred = net.predict(x_test, verbose = 0)\n",
    "train_mse, train_mae, train_r2 = metrics(y_train, train_pred)\n",
    "test_mse, test_mae, test_r2 = metrics(y_test, test_pred)\n",
    "\n",
    "# Print the appended results\n",
    "print(\"\\nModel Name :\", model_name)\n",
    "print(\"Train MSE  :\", train_mse)\n",
    "print(\"Test MSE   :\", test_mse)\n",
    "print(\"Train MAE  :\", train_mae)\n",
    "print(\"Test MAE   :\", test_mae)\n",
    "print(\"Train R2   :\", train_r2)\n",
    "print(\"Test R2    :\", test_r2)"
   ]
  },
  {
   "cell_type": "markdown",
   "id": "233aa9a9",
   "metadata": {
    "papermill": {
     "duration": 0.039394,
     "end_time": "2023-12-05T00:01:28.320366",
     "exception": false,
     "start_time": "2023-12-05T00:01:28.280972",
     "status": "completed"
    },
    "tags": []
   },
   "source": [
    "### Neural Network vs. XGBRegressor:\n",
    "\n",
    "- **Neural Network:**\n",
    "  - Train MSE: 971,554,192, Test MSE: 1,587,748,229\n",
    "  - Train MAE: 20,746, Test MAE: 25,137\n",
    "  - Train R2: 0.838, Test R2: 0.826\n",
    "\n",
    "- **XGBRegressor:**\n",
    "  - Train MSE: 1,602,709, Test MSE: 720,266,915\n",
    "  - Train MAE: 879, Test MAE: 16,234\n",
    "  - Train R2: 0.999, Test R2: 0.921\n",
    "\n",
    "### Comparison:\n",
    "\n",
    "- **MSE and MAE:**\n",
    "  - The Neural Network exhibits higher MSE and MAE on both the training and test sets compared to XGBRegressor. It indicates that the Neural Network model has larger errors in predicting house prices compared to XGBRegressor.\n",
    "\n",
    "- **R2 Score:**\n",
    "  - XGBRegressor outperforms the Neural Network significantly in R2 scores, both on the training and test sets. XGBRegressor achieves notably higher R2 scores, indicating a superior ability to explain and capture variance in house prices compared to the Neural Network model.\n",
    "\n",
    "### Summary:\n",
    "\n",
    "In comparison to XGBRegressor, the Neural Network model demonstrates relatively higher errors (MSE and MAE) and lower R2 scores on both the training and test datasets. XGBRegressor, on the other hand, showcases substantially lower errors and higher R2 scores, indicating superior predictive accuracy and a better fit to the house price data. Overall, based on these evaluation metrics, XGBRegressor outperforms the Neural Network in accurately predicting house prices."
   ]
  }
 ],
 "metadata": {
  "kaggle": {
   "accelerator": "none",
   "dataSources": [
    {
     "databundleVersionId": 868283,
     "sourceId": 5407,
     "sourceType": "competition"
    }
   ],
   "dockerImageVersionId": 30587,
   "isGpuEnabled": false,
   "isInternetEnabled": true,
   "language": "python",
   "sourceType": "notebook"
  },
  "kernelspec": {
   "display_name": "Python 3",
   "language": "python",
   "name": "python3"
  },
  "language_info": {
   "codemirror_mode": {
    "name": "ipython",
    "version": 3
   },
   "file_extension": ".py",
   "mimetype": "text/x-python",
   "name": "python",
   "nbconvert_exporter": "python",
   "pygments_lexer": "ipython3",
   "version": "3.10.12"
  },
  "papermill": {
   "default_parameters": {},
   "duration": 36.074519,
   "end_time": "2023-12-05T00:01:30.086168",
   "environment_variables": {},
   "exception": null,
   "input_path": "__notebook__.ipynb",
   "output_path": "__notebook__.ipynb",
   "parameters": {},
   "start_time": "2023-12-05T00:00:54.011649",
   "version": "2.4.0"
  }
 },
 "nbformat": 4,
 "nbformat_minor": 5
}
